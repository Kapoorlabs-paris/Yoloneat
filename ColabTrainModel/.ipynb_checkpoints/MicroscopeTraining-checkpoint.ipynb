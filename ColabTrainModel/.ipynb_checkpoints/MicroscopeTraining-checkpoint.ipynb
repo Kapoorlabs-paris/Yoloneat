{
 "cells": [
  {
   "cell_type": "code",
   "execution_count": null,
   "id": "2e705e15",
   "metadata": {},
   "outputs": [],
   "source": [
    "from google.colab import drive\n",
    "drive.mount('/content/drive', force_remount = True)\n",
    "%tensorflow_version 2.x"
   ]
  },
  {
   "cell_type": "code",
   "execution_count": null,
   "id": "76b792a2",
   "metadata": {},
   "outputs": [],
   "source": [
    "!pip uninstall keras -y\n",
    "!pip uninstall keras-nightly -y\n",
    "!pip uninstall keras-Preprocessing -y\n",
    "!pip uninstall keras-vis -y\n",
    "!pip uninstall tensorflow -y\n",
    "\n",
    "!pip install tensorflow==2.2.0\n",
    "!pip install keras==2.3.0\n",
    "!pip install csbdeep\n",
    "!pip install stardist\n",
    "!pip install napari[all]"
   ]
  },
  {
   "cell_type": "code",
   "execution_count": null,
   "id": "6ba72c10",
   "metadata": {},
   "outputs": [],
   "source": [
    "%cd '/content/drive/My Drive/Yoloneat/'\n",
    "!ls\n",
    "import sys\n",
    "import os\n",
    "from glob import glob\n",
    "sys.path.append(\"NEAT\")\n",
    "from NEATModels import NEATDynamic, nets\n",
    "from NEATModels.config import dynamic_config\n",
    "from NEATUtils import helpers\n",
    "from NEATUtils.helpers import save_json, load_json"
   ]
  },
  {
   "cell_type": "code",
   "execution_count": null,
   "id": "1e0f8659",
   "metadata": {},
   "outputs": [],
   "source": [
    "npz_directory = '/content/drive/My Drive/CurieTrainingDatasets/'\n",
    "npz_name = 'microbin2V1.npz'\n",
    "npz_val_name = 'microbin2V1val.npz'\n",
    "\n",
    "#Read and Write the h5 file, directory location and name\n",
    "model_dir =  '/content/drive/My Drive/CurieDeepLearningModels/OneatModels/'\n",
    "model_name = 'micronetbin2d11f32s4.h5'\n",
    "\n",
    "#For ORNET use residual = True and for OSNET use residual = False\n",
    "residual = True\n",
    "#NUmber of starting convolutional filters, is doubled down with increasing depth\n",
    "startfilter = 32\n",
    "#CNN network start layer, mid layers and lstm layer kernel size\n",
    "start_kernel = 7\n",
    "lstm_kernel = 3\n",
    "mid_kernel = 3\n",
    "#Network depth has to be 9n + 2, n= 3 or 4 is optimal for Notum dataset\n",
    "depth = 11\n",
    "#Size of the gradient descent length vector, start small and use callbacks to get smaller when reaching the minima\n",
    "learning_rate = 1.0E-4\n",
    "#For stochastic gradient decent, the batch size used for computing the gradients\n",
    "batch_size = 8\n",
    "# use softmax for single event per box, sigmoid for multi event per box\n",
    "lstm_hidden_unit = 16\n",
    "#Training epochs, longer the better with proper chosen learning rate\n",
    "epochs = 250\n",
    "nboxes = 1\n",
    "#The inbuilt model stride which is equal to the nulber of times image was downsampled by the network\n",
    "show = False\n",
    "stage_number = 4\n",
    "last_conv_factor = 8\n",
    "size_tminus = 3\n",
    "size_tplus = 0\n",
    "imagex = 64\n",
    "imagey = 64\n",
    "yolo_v0 = False\n",
    "yolo_v1 = True\n",
    "yolo_v2 = False\n",
    "\n",
    "\n",
    "# In[4]:\n",
    "\n",
    "\n",
    "config = dynamic_config(npz_directory =npz_directory, npz_name = npz_name, npz_val_name = npz_val_name, \n",
    "                         key_categories = key_categories, key_cord = key_cord, nboxes = nboxes, imagex = imagex,\n",
    "                         imagey = imagey, size_tminus = size_tminus, size_tplus =size_tplus, epochs = epochs, yolo_v0 = yolo_v0, yolo_v1 = yolo_v1, yolo_v2 = yolo_v2,\n",
    "                         residual = residual, depth = depth, start_kernel = start_kernel, mid_kernel = mid_kernel, stage_number = stage_number, last_conv_factor = last_conv_factor,\n",
    "                         lstm_kernel = lstm_kernel, lstm_hidden_unit = lstm_hidden_unit, show = show,\n",
    "                         startfiler = startfilter, batch_size = batch_size, model_name = model_name)\n",
    "\n",
    "config_json = config.to_json()\n",
    "\n",
    "print(config)\n",
    "save_json(config_json, model_dir + os.path.splitext(model_name)[0] + '_Parameter.json')\n",
    "# In[ ]:\n",
    "\n",
    "\n",
    "Train = NEATDynamic(config, model_dir, model_name)\n",
    "\n",
    "Train.loadData()\n",
    "\n",
    "Train.TrainModel()\n"
   ]
  }
 ],
 "metadata": {
  "kernelspec": {
   "display_name": "Python [conda env:tensorflowGPU] *",
   "language": "python",
   "name": "conda-env-tensorflowGPU-py"
  },
  "language_info": {
   "codemirror_mode": {
    "name": "ipython",
    "version": 3
   },
   "file_extension": ".py",
   "mimetype": "text/x-python",
   "name": "python",
   "nbconvert_exporter": "python",
   "pygments_lexer": "ipython3",
   "version": "3.7.10"
  }
 },
 "nbformat": 4,
 "nbformat_minor": 5
}
