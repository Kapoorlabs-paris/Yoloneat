{
  "nbformat": 4,
  "nbformat_minor": 0,
  "metadata": {
    "kernelspec": {
      "display_name": "Python 3",
      "language": "python",
      "name": "python3"
    },
    "language_info": {
      "codemirror_mode": {
        "name": "ipython",
        "version": 3
      },
      "file_extension": ".py",
      "mimetype": "text/x-python",
      "name": "python",
      "nbconvert_exporter": "python",
      "pygments_lexer": "ipython3",
      "version": "3.7.0"
    },
    "toc": {
      "base_numbering": 1,
      "nav_menu": {},
      "number_sections": false,
      "sideBar": false,
      "skip_h1_title": false,
      "title_cell": "Table of Contents",
      "title_sidebar": "Contents",
      "toc_cell": false,
      "toc_position": {},
      "toc_section_display": false,
      "toc_window_display": false
    },
    "colab": {
      "name": "ColabDivisionModelTraining.ipynb",
      "provenance": [],
      "collapsed_sections": [],
      "machine_shape": "hm"
    },
    "accelerator": "GPU"
  },
  "cells": [
    {
      "cell_type": "code",
      "metadata": {
        "colab": {
          "base_uri": "https://localhost:8080/"
        },
        "id": "8-4SMBd5nFG5",
        "outputId": "42e5f02f-be4f-4e88-86c9-fbc7bc7e3b5a"
      },
      "source": [
        "from google.colab import drive\n",
        "drive.mount('/content/drive', force_remount = True)\n",
        "%tensorflow_version 1.x"
      ],
      "execution_count": 1,
      "outputs": [
        {
          "output_type": "stream",
          "text": [
            "Mounted at /content/drive\n",
            "TensorFlow 1.x selected.\n"
          ],
          "name": "stdout"
        }
      ]
    },
    {
      "cell_type": "code",
      "metadata": {
        "colab": {
          "base_uri": "https://localhost:8080/"
        },
        "id": "y0E0xV3snYtS",
        "outputId": "d2c3d7e3-bb91-43d8-8fd3-c6242d172d84"
      },
      "source": [
        "!pip install csbdeep\n",
        "!pip install stardist\n",
        "!pip install napari[all]"
      ],
      "execution_count": null,
      "outputs": [
        {
          "output_type": "stream",
          "text": [
            "Collecting csbdeep\n",
            "\u001b[?25l  Downloading https://files.pythonhosted.org/packages/8c/a9/8d4b3d57bcc97bd6115ff8705f30de04f2559288cf1fe08f6f59450cdca7/csbdeep-0.6.2-py2.py3-none-any.whl (72kB)\n",
            "\r\u001b[K     |████▌                           | 10kB 25.0MB/s eta 0:00:01\r\u001b[K     |█████████                       | 20kB 7.5MB/s eta 0:00:01\r\u001b[K     |█████████████▌                  | 30kB 7.0MB/s eta 0:00:01\r\u001b[K     |██████████████████              | 40kB 6.8MB/s eta 0:00:01\r\u001b[K     |██████████████████████▌         | 51kB 4.1MB/s eta 0:00:01\r\u001b[K     |███████████████████████████     | 61kB 4.4MB/s eta 0:00:01\r\u001b[K     |███████████████████████████████▋| 71kB 4.8MB/s eta 0:00:01\r\u001b[K     |████████████████████████████████| 81kB 4.0MB/s \n",
            "\u001b[?25hRequirement already satisfied: tifffile in /usr/local/lib/python3.7/dist-packages (from csbdeep) (2021.6.6)\n",
            "Requirement already satisfied: tqdm in /usr/local/lib/python3.7/dist-packages (from csbdeep) (4.41.1)\n",
            "Collecting h5py<3; python_version < \"3.9\"\n",
            "\u001b[?25l  Downloading https://files.pythonhosted.org/packages/3f/c0/abde58b837e066bca19a3f7332d9d0493521d7dd6b48248451a9e3fe2214/h5py-2.10.0-cp37-cp37m-manylinux1_x86_64.whl (2.9MB)\n",
            "\u001b[K     |████████████████████████████████| 2.9MB 7.1MB/s \n",
            "\u001b[?25hRequirement already satisfied: keras<2.4,>=2.1.2 in /tensorflow-1.15.2/python3.7 (from csbdeep) (2.3.1)\n",
            "Requirement already satisfied: scipy in /usr/local/lib/python3.7/dist-packages (from csbdeep) (1.4.1)\n",
            "Requirement already satisfied: matplotlib in /usr/local/lib/python3.7/dist-packages (from csbdeep) (3.2.2)\n",
            "Requirement already satisfied: numpy in /usr/local/lib/python3.7/dist-packages (from csbdeep) (1.19.5)\n",
            "Requirement already satisfied: six in /usr/local/lib/python3.7/dist-packages (from csbdeep) (1.15.0)\n",
            "Requirement already satisfied: pyyaml in /usr/local/lib/python3.7/dist-packages (from keras<2.4,>=2.1.2->csbdeep) (3.13)\n",
            "Requirement already satisfied: keras-applications>=1.0.6 in /tensorflow-1.15.2/python3.7 (from keras<2.4,>=2.1.2->csbdeep) (1.0.8)\n",
            "Requirement already satisfied: keras-preprocessing>=1.0.5 in /usr/local/lib/python3.7/dist-packages (from keras<2.4,>=2.1.2->csbdeep) (1.1.2)\n",
            "Requirement already satisfied: python-dateutil>=2.1 in /usr/local/lib/python3.7/dist-packages (from matplotlib->csbdeep) (2.8.1)\n",
            "Requirement already satisfied: kiwisolver>=1.0.1 in /usr/local/lib/python3.7/dist-packages (from matplotlib->csbdeep) (1.3.1)\n",
            "Requirement already satisfied: cycler>=0.10 in /usr/local/lib/python3.7/dist-packages (from matplotlib->csbdeep) (0.10.0)\n",
            "Requirement already satisfied: pyparsing!=2.0.4,!=2.1.2,!=2.1.6,>=2.0.1 in /usr/local/lib/python3.7/dist-packages (from matplotlib->csbdeep) (2.4.7)\n",
            "Installing collected packages: h5py, csbdeep\n",
            "  Found existing installation: h5py 3.1.0\n",
            "    Uninstalling h5py-3.1.0:\n",
            "      Successfully uninstalled h5py-3.1.0\n",
            "Successfully installed csbdeep-0.6.2 h5py-2.10.0\n",
            "Collecting stardist\n",
            "\u001b[?25l  Downloading https://files.pythonhosted.org/packages/d7/63/535bfa039f14a79160a8cb60f683a37a3ee9cb4c03424df13f8e97eefd61/stardist-0.7.1-cp37-cp37m-manylinux2014_x86_64.whl (3.0MB)\n",
            "\u001b[K     |████████████████████████████████| 3.0MB 4.3MB/s \n",
            "\u001b[?25hRequirement already satisfied: numba in /usr/local/lib/python3.7/dist-packages (from stardist) (0.51.2)\n",
            "Requirement already satisfied: csbdeep>=0.6.0 in /usr/local/lib/python3.7/dist-packages (from stardist) (0.6.2)\n",
            "Requirement already satisfied: scikit-image in /usr/local/lib/python3.7/dist-packages (from stardist) (0.16.2)\n",
            "Requirement already satisfied: setuptools in /usr/local/lib/python3.7/dist-packages (from numba->stardist) (57.0.0)\n",
            "Requirement already satisfied: numpy>=1.15 in /usr/local/lib/python3.7/dist-packages (from numba->stardist) (1.19.5)\n",
            "Requirement already satisfied: llvmlite<0.35,>=0.34.0.dev0 in /usr/local/lib/python3.7/dist-packages (from numba->stardist) (0.34.0)\n",
            "Requirement already satisfied: matplotlib in /usr/local/lib/python3.7/dist-packages (from csbdeep>=0.6.0->stardist) (3.2.2)\n",
            "Requirement already satisfied: h5py<3; python_version < \"3.9\" in /usr/local/lib/python3.7/dist-packages (from csbdeep>=0.6.0->stardist) (2.10.0)\n",
            "Requirement already satisfied: keras<2.4,>=2.1.2 in /tensorflow-1.15.2/python3.7 (from csbdeep>=0.6.0->stardist) (2.3.1)\n",
            "Requirement already satisfied: scipy in /usr/local/lib/python3.7/dist-packages (from csbdeep>=0.6.0->stardist) (1.4.1)\n",
            "Requirement already satisfied: tifffile in /usr/local/lib/python3.7/dist-packages (from csbdeep>=0.6.0->stardist) (2021.6.6)\n",
            "Requirement already satisfied: tqdm in /usr/local/lib/python3.7/dist-packages (from csbdeep>=0.6.0->stardist) (4.41.1)\n",
            "Requirement already satisfied: six in /usr/local/lib/python3.7/dist-packages (from csbdeep>=0.6.0->stardist) (1.15.0)\n",
            "Requirement already satisfied: pillow>=4.3.0 in /usr/local/lib/python3.7/dist-packages (from scikit-image->stardist) (7.1.2)\n",
            "Requirement already satisfied: networkx>=2.0 in /usr/local/lib/python3.7/dist-packages (from scikit-image->stardist) (2.5.1)\n",
            "Requirement already satisfied: imageio>=2.3.0 in /usr/local/lib/python3.7/dist-packages (from scikit-image->stardist) (2.4.1)\n",
            "Requirement already satisfied: PyWavelets>=0.4.0 in /usr/local/lib/python3.7/dist-packages (from scikit-image->stardist) (1.1.1)\n",
            "Requirement already satisfied: cycler>=0.10 in /usr/local/lib/python3.7/dist-packages (from matplotlib->csbdeep>=0.6.0->stardist) (0.10.0)\n",
            "Requirement already satisfied: python-dateutil>=2.1 in /usr/local/lib/python3.7/dist-packages (from matplotlib->csbdeep>=0.6.0->stardist) (2.8.1)\n",
            "Requirement already satisfied: kiwisolver>=1.0.1 in /usr/local/lib/python3.7/dist-packages (from matplotlib->csbdeep>=0.6.0->stardist) (1.3.1)\n",
            "Requirement already satisfied: pyparsing!=2.0.4,!=2.1.2,!=2.1.6,>=2.0.1 in /usr/local/lib/python3.7/dist-packages (from matplotlib->csbdeep>=0.6.0->stardist) (2.4.7)\n",
            "Requirement already satisfied: keras-preprocessing>=1.0.5 in /usr/local/lib/python3.7/dist-packages (from keras<2.4,>=2.1.2->csbdeep>=0.6.0->stardist) (1.1.2)\n",
            "Requirement already satisfied: pyyaml in /usr/local/lib/python3.7/dist-packages (from keras<2.4,>=2.1.2->csbdeep>=0.6.0->stardist) (3.13)\n",
            "Requirement already satisfied: keras-applications>=1.0.6 in /tensorflow-1.15.2/python3.7 (from keras<2.4,>=2.1.2->csbdeep>=0.6.0->stardist) (1.0.8)\n",
            "Requirement already satisfied: decorator<5,>=4.3 in /usr/local/lib/python3.7/dist-packages (from networkx>=2.0->scikit-image->stardist) (4.4.2)\n",
            "Installing collected packages: stardist\n",
            "Successfully installed stardist-0.7.1\n",
            "Collecting napari[all]\n",
            "\u001b[?25l  Downloading https://files.pythonhosted.org/packages/12/92/f78af48ea08d9073658ecfc9fb120fbf2d28b50a952070f7e3897d384f76/napari-0.4.9-py3-none-any.whl (1.5MB)\n",
            "\u001b[K     |████████████████████████████████| 1.5MB 4.3MB/s \n",
            "\u001b[?25hCollecting cachey>=0.2.1\n",
            "  Downloading https://files.pythonhosted.org/packages/57/f0/e24f3e5d5d539abeb783087b87c26cfb99c259f1126700569e000243745a/cachey-0.2.1-py3-none-any.whl\n",
            "Collecting napari-plugin-engine>=0.1.9\n",
            "  Downloading https://files.pythonhosted.org/packages/a3/af/66d267f0d73b5002d2dba9361f865b28c6f9c51f7fcf78d757d4e4e4fd41/napari_plugin_engine-0.1.9-py3-none-any.whl\n",
            "Collecting imageio>=2.5.0\n",
            "\u001b[?25l  Downloading https://files.pythonhosted.org/packages/6e/57/5d899fae74c1752f52869b613a8210a2480e1a69688e65df6cb26117d45d/imageio-2.9.0-py3-none-any.whl (3.3MB)\n",
            "\u001b[K     |████████████████████████████████| 3.3MB 51.3MB/s \n",
            "\u001b[?25hCollecting vispy>=0.6.4\n",
            "\u001b[?25l  Downloading https://files.pythonhosted.org/packages/b0/06/305afd7ef1f0ccd570e499817f1ebf256132f961b4f339a0d8acfa14c6ec/vispy-0.6.6-cp37-cp37m-manylinux2014_x86_64.whl (2.3MB)\n",
            "\u001b[K     |████████████████████████████████| 2.3MB 66.7MB/s \n",
            "\u001b[?25hCollecting PyYAML>=5.1\n",
            "\u001b[?25l  Downloading https://files.pythonhosted.org/packages/7a/a5/393c087efdc78091afa2af9f1378762f9821c9c1d7a22c5753fb5ac5f97a/PyYAML-5.4.1-cp37-cp37m-manylinux1_x86_64.whl (636kB)\n",
            "\u001b[K     |████████████████████████████████| 645kB 55.5MB/s \n",
            "\u001b[?25hCollecting jsonschema>=3.2.0\n",
            "\u001b[?25l  Downloading https://files.pythonhosted.org/packages/c5/8f/51e89ce52a085483359217bc72cdbf6e75ee595d5b1d4b5ade40c7e018b8/jsonschema-3.2.0-py2.py3-none-any.whl (56kB)\n",
            "\u001b[K     |████████████████████████████████| 61kB 10.6MB/s \n",
            "\u001b[?25hCollecting napari-svg>=0.1.4\n",
            "  Downloading https://files.pythonhosted.org/packages/05/ba/4439a4615ebacfd0d5dd4654423cdb78e581387c1d1ee9cacc87a05a998a/napari_svg-0.1.5-py3-none-any.whl\n",
            "Collecting napari-console>=0.0.3\n",
            "  Downloading https://files.pythonhosted.org/packages/44/e5/c49b4cbb2488ec6551a24f56582ab7e62635097c0e59f36b71486e0de2ee/napari_console-0.0.3-py3-none-any.whl\n",
            "Collecting pint>=0.17\n",
            "\u001b[?25l  Downloading https://files.pythonhosted.org/packages/33/de/53a77b82553579affab7438d299f850acbc1c4dd741c5ce52594513cb0ef/Pint-0.17-py2.py3-none-any.whl (204kB)\n",
            "\u001b[K     |████████████████████████████████| 215kB 54.5MB/s \n",
            "\u001b[?25hRequirement already satisfied: typing-extensions in /usr/local/lib/python3.7/dist-packages (from napari[all]) (3.7.4.3)\n",
            "Requirement already satisfied: wrapt>=1.11.1 in /usr/local/lib/python3.7/dist-packages (from napari[all]) (1.12.1)\n",
            "Requirement already satisfied: tifffile>=2020.2.16 in /usr/local/lib/python3.7/dist-packages (from napari[all]) (2021.6.6)\n",
            "Requirement already satisfied: Pillow!=7.1.0,!=7.1.1 in /usr/local/lib/python3.7/dist-packages (from napari[all]) (7.1.2)\n",
            "Requirement already satisfied: toolz>=0.10.0 in /usr/local/lib/python3.7/dist-packages (from napari[all]) (0.11.1)\n",
            "Requirement already satisfied: importlib-metadata>=1.5.0; python_version < \"3.8\" in /usr/local/lib/python3.7/dist-packages (from napari[all]) (4.5.0)\n",
            "Collecting magicgui>=0.2.6\n",
            "\u001b[?25l  Downloading https://files.pythonhosted.org/packages/91/1e/345c66e2f5a639808280c898556c4749282ed371b14e5bf7f1bb154778c5/magicgui-0.2.9-py2.py3-none-any.whl (123kB)\n",
            "\u001b[K     |████████████████████████████████| 133kB 58.8MB/s \n",
            "\u001b[?25hRequirement already satisfied: appdirs>=1.4.4 in /usr/local/lib/python3.7/dist-packages (from napari[all]) (1.4.4)\n",
            "Requirement already satisfied: psutil>=5.0 in /usr/local/lib/python3.7/dist-packages (from napari[all]) (5.4.8)\n",
            "Requirement already satisfied: numpy>=1.16.5 in /usr/local/lib/python3.7/dist-packages (from napari[all]) (1.19.5)\n",
            "Requirement already satisfied: qtpy>=1.7.0 in /usr/local/lib/python3.7/dist-packages (from napari[all]) (1.9.0)\n",
            "Requirement already satisfied: scipy>=1.2.0 in /usr/local/lib/python3.7/dist-packages (from napari[all]) (1.4.1)\n",
            "Requirement already satisfied: PyOpenGL>=3.1.0 in /usr/local/lib/python3.7/dist-packages (from napari[all]) (3.1.5)\n"
          ],
          "name": "stdout"
        }
      ]
    },
    {
      "cell_type": "code",
      "metadata": {
        "id": "78DqcRy-nGNs"
      },
      "source": [
        "%cd '/content/drive/My Drive/EverydayONEATV1/Yoloneat/NEAT/'\n",
        "\n",
        "import os\n",
        "from glob import glob\n",
        "\n",
        "from NEATModels import NEATDynamic, nets\n",
        "from NEATModels.config  import dynamic_config\n",
        "from NEATUtils import helpers\n",
        "from NEATUtils.helpers import save_json, load_json\n"
      ],
      "execution_count": null,
      "outputs": []
    },
    {
      "cell_type": "code",
      "metadata": {
        "id": "TYJu54IPnFG8"
      },
      "source": [
        "npz_directory = '/content/drive/My Drive/EverydayONEATV1/'\n",
        "npz_name = 'premicroneatsmallbin2.npz'\n",
        "npz_val_name = 'premicroneatsmallbin2val.npz'\n",
        "model_dir = '/content/drive/My Drive/EverydayONEATV1/PreMicroneatmodel/'\n",
        "#Model name based on wether it is residual or sequntial ONEAT network\n",
        "model_name = 'premicroseqnetbin2d56.h5'"
      ],
      "execution_count": null,
      "outputs": []
    },
    {
      "cell_type": "code",
      "metadata": {
        "id": "OajLN1ErnFG9"
      },
      "source": [
        "division_categories_json = model_dir + 'MicroscopeCategories.json'\n",
        "key_categories = load_json(division_categories_json)\n",
        "division_cord_json = model_dir + 'MicroscopeCord.json'\n",
        "key_cord = load_json(division_cord_json)\n",
        "\n",
        "#For ORNET use residual = True and for OSNET use residual = False\n",
        "residual = False\n",
        "#NUmber of starting convolutional filters, is doubled down with increasing depth\n",
        "startfilter = 48\n",
        "#CNN network start layer, mid layers and lstm layer kernel size\n",
        "start_kernel = 3\n",
        "lstm_kernel = 3\n",
        "mid_kernel = 3\n",
        "#Network depth has to be 9n + 2, n= 3 or 4 is optimal for Notum dataset\n",
        "depth = 56\n",
        "#Size of the gradient descent length vector, start small and use callbacks to get smaller when reaching the minima\n",
        "learning_rate = 1.0E-6\n",
        "#For stochastic gradient decent, the batch size used for computing the gradients\n",
        "batch_size = 8\n",
        "# use softmax for single event per box, sigmoid for multi event per box\n",
        "lstm_hidden_unit = 16\n",
        "#Training epochs, longer the better with proper chosen learning rate\n",
        "epochs = 250\n",
        "nboxes = 1\n",
        "#The inbuilt model stride which is equal to the nulber of times image was downsampled by the network\n",
        "show = True\n",
        "\n",
        "size_tminus = 3\n",
        "size_tplus = 0\n",
        "imagex = 64\n",
        "imagey = 64"
      ],
      "execution_count": null,
      "outputs": []
    },
    {
      "cell_type": "code",
      "metadata": {
        "id": "l8jDPTWjnFG-"
      },
      "source": [
        "config = dynamic_config(npz_directory =npz_directory, npz_name = npz_name, npz_val_name = npz_val_name, \n",
        "                         \n",
        "                         key_categories = key_categories, key_cord = key_cord, nboxes = nboxes, imagex = imagex,\n",
        "                         imagey = imagey, size_tminus = size_tminus, size_tplus =size_tplus, epochs = epochs,\n",
        "                         residual = residual, depth = depth, start_kernel = start_kernel, mid_kernel = mid_kernel,\n",
        "                         lstm_kernel = lstm_kernel, lstm_hidden_unit = lstm_hidden_unit, show = show,\n",
        "                         startfiler = startfilter, batch_size = batch_size, model_name = model_name)\n",
        "\n",
        "config_json = config.to_json()\n",
        "\n",
        "print(config)\n",
        "save_json(config_json, model_dir + os.path.splitext(model_name)[0] + '_Parameter.json')"
      ],
      "execution_count": null,
      "outputs": []
    },
    {
      "cell_type": "code",
      "metadata": {
        "id": "jdL43TjOnFG-"
      },
      "source": [
        ""
      ],
      "execution_count": null,
      "outputs": []
    },
    {
      "cell_type": "code",
      "metadata": {
        "scrolled": false,
        "id": "8rYDXbJQnFG-"
      },
      "source": [
        "Train = NEATDynamic(config, model_dir, model_name)\n",
        "\n",
        "Train.loadData()\n",
        "\n",
        "Train.TrainModel()\n"
      ],
      "execution_count": null,
      "outputs": []
    },
    {
      "cell_type": "code",
      "metadata": {
        "id": "nzjy1m_pnFHW"
      },
      "source": [
        ""
      ],
      "execution_count": null,
      "outputs": []
    },
    {
      "cell_type": "code",
      "metadata": {
        "id": "7n_q1FNEnFHW"
      },
      "source": [
        ""
      ],
      "execution_count": null,
      "outputs": []
    },
    {
      "cell_type": "code",
      "metadata": {
        "id": "-O6HCMtZnFHW"
      },
      "source": [
        ""
      ],
      "execution_count": null,
      "outputs": []
    }
  ]
}