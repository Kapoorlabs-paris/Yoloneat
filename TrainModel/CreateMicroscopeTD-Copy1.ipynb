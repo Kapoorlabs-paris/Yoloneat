{
 "cells": [
  {
   "cell_type": "code",
   "execution_count": 1,
   "id": "f1f624da",
   "metadata": {},
   "outputs": [
    {
     "name": "stderr",
     "output_type": "stream",
     "text": [
      "Using TensorFlow backend.\n"
     ]
    }
   ],
   "source": [
    "import numpy as np\n",
    "from tifffile import imread \n",
    "import sys\n",
    "import os\n",
    "import cv2\n",
    "import glob\n",
    "from tqdm import tqdm\n",
    "import pandas as pd\n",
    "sys.path.append(\"../NEAT\")\n",
    "from NEATUtils import MovieCreator\n",
    "from NEATUtils.helpers import save_json, load_json\n",
    "from NEATModels.TrainConfig import TrainConfig\n",
    "from pathlib import Path"
   ]
  },
  {
   "cell_type": "code",
   "execution_count": 2,
   "id": "ae179598",
   "metadata": {},
   "outputs": [],
   "source": [
    "#Specify the directory containing images\n",
    "image_dir = '/home/sancere/Kepler/FinalONEATTraining/Bin2ONeatImages/'\n",
    "#Specify the directory contaiing csv files\n",
    "csv_dir = '/home/sancere/Kepler/FinalONEATTraining/DivisionBin2ONeatCSV/'\n",
    "#Specify the directory containing the segmentations\n",
    "seg_image_dir = '/home/sancere/Kepler/FinalONEATTraining/Bin2ONeatSegImages/'\n",
    "#Specify the model directory where we store the json of categories, training model and parameters\n",
    "model_dir = '/home/sancere/Kepler/FinalONEATTraining/PreLargeMicroneatmodel/'\n",
    "#Directory for storing center ONEAT training data for static classes\n",
    "save_dir = '/home/sancere/Kepler/FinalONEATTraining/PreLargeMicroscopeDivisionData/'\n",
    "Path(model_dir).mkdir(exist_ok = True)\n",
    "Path(save_dir).mkdir(exist_ok = True)"
   ]
  },
  {
   "cell_type": "code",
   "execution_count": 3,
   "id": "a7259685",
   "metadata": {},
   "outputs": [],
   "source": [
    "#Name of the static events\n",
    "event_type_name = [\"Normal\",\"Division\"]\n",
    "#Label corresponding to static event\n",
    "event_type_label = [0, 1]\n",
    "\n",
    "#The name appended before the CSV files\n",
    "csv_name_diff = 'ONEAT'\n",
    "\n",
    "size_tminus = 2\n",
    "size_tplus = 0\n",
    "trainshapeX = 128\n",
    "trainshapeY = 128\n",
    "axes= 'STXYC'\n",
    "npz_name = 'prelargemicroneatsmallbin2'\n",
    "npz_val_name = 'prelargemicroneatsmallbin2val'"
   ]
  },
  {
   "cell_type": "code",
   "execution_count": 4,
   "id": "a7b54775",
   "metadata": {},
   "outputs": [],
   "source": [
    "#X Y T dynamic events\n",
    "\n",
    "crop_size = [trainshapeX,trainshapeY,size_tminus,size_tplus]\n",
    "\n",
    "\n",
    "event_position_name = [\"x\", \"y\", \"t\", \"h\", \"w\"]\n",
    "event_position_label = [0, 1, 2, 3, 4]\n",
    "\n",
    "dynamic_config = TrainConfig(event_type_name, event_type_label, event_position_name, event_position_label)\n",
    "\n",
    "dynamic_json, dynamic_cord_json = dynamic_config.to_json()\n",
    "\n",
    "save_json(dynamic_json, model_dir + \"MicroscopeCategories\" + '.json')\n",
    "\n",
    "save_json(dynamic_cord_json, model_dir + \"MicroscopeCord\" + '.json')        "
   ]
  },
  {
   "cell_type": "code",
   "execution_count": 5,
   "id": "51cab07f",
   "metadata": {},
   "outputs": [
    {
     "name": "stdout",
     "output_type": "stream",
     "text": [
      "ONEATTimelapseBIG5Normal\n",
      "ONEATTimelapseBIG5Division\n",
      "ONEATTimelapseBIG1Division\n",
      "ONEATTimelapseBIG1Normal\n",
      "ONEATDIAP_mov5Normal\n",
      "ONEATDIAP_mov5Division\n",
      "ONEATFlo_pupe2_mutant_s5_s6_s7_s8_movNormal\n",
      "ONEATFlo_pupe2_mutant_s5_s6_s7_s8_movDivision\n",
      "ONEATwt_N10Division\n",
      "ONEATwt_N10Normal\n",
      "ONEATFlo_pupe1_s1_s2_s3_s4_movDivision\n",
      "ONEATFlo_pupe1_s1_s2_s3_s4_movNormal\n"
     ]
    }
   ],
   "source": [
    "MovieCreator.MovieLabelDataSet(image_dir, seg_image_dir, csv_dir, save_dir, event_type_name, event_type_label, csv_name_diff,crop_size)\n"
   ]
  },
  {
   "cell_type": "code",
   "execution_count": 6,
   "id": "9da28c4a",
   "metadata": {},
   "outputs": [
    {
     "name": "stderr",
     "output_type": "stream",
     "text": [
      "100%|██████████| 8907/8907 [00:05<00:00, 1487.67it/s]\n"
     ]
    },
    {
     "name": "stdout",
     "output_type": "stream",
     "text": [
      "(8907, 3, 128, 128, 1) (8907, 7, 1)\n"
     ]
    }
   ],
   "source": [
    "MovieCreator.createNPZ(save_dir, axes = 'STXYC', save_name = npz_name, save_name_val = npz_val_name)"
   ]
  },
  {
   "cell_type": "code",
   "execution_count": null,
   "id": "8581c620",
   "metadata": {},
   "outputs": [],
   "source": []
  }
 ],
 "metadata": {
  "kernelspec": {
   "display_name": "Python [conda env:tensorflowGPU] *",
   "language": "python",
   "name": "conda-env-tensorflowGPU-py"
  },
  "language_info": {
   "codemirror_mode": {
    "name": "ipython",
    "version": 3
   },
   "file_extension": ".py",
   "mimetype": "text/x-python",
   "name": "python",
   "nbconvert_exporter": "python",
   "pygments_lexer": "ipython3",
   "version": "3.7.0"
  }
 },
 "nbformat": 4,
 "nbformat_minor": 5
}
