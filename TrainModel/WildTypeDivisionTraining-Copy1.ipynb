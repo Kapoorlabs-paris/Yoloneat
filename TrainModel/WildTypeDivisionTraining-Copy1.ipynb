{
 "cells": [
  {
   "cell_type": "code",
   "execution_count": 1,
   "metadata": {},
   "outputs": [
    {
     "name": "stderr",
     "output_type": "stream",
     "text": [
      "Using TensorFlow backend.\n"
     ]
    },
    {
     "ename": "SyntaxError",
     "evalue": "invalid syntax (neat_focus.py, line 273)",
     "output_type": "error",
     "traceback": [
      "Traceback \u001b[0;36m(most recent call last)\u001b[0m:\n",
      "  File \u001b[1;32m\"/home/sancere/anaconda3/envs/tensorflowGPU/lib/python3.7/site-packages/IPython/core/interactiveshell.py\"\u001b[0m, line \u001b[1;32m3441\u001b[0m, in \u001b[1;35mrun_code\u001b[0m\n    exec(code_obj, self.user_global_ns, self.user_ns)\n",
      "  File \u001b[1;32m\"/tmp/ipykernel_35819/1586744999.py\"\u001b[0m, line \u001b[1;32m5\u001b[0m, in \u001b[1;35m<module>\u001b[0m\n    from NEATModels import NEATDynamic, nets\n",
      "\u001b[0;36m  File \u001b[0;32m\"../NEAT/NEATModels/__init__.py\"\u001b[0;36m, line \u001b[0;32m7\u001b[0;36m, in \u001b[0;35m<module>\u001b[0;36m\u001b[0m\n\u001b[0;31m    from NEATModels.neat_focus import NEATFocus\u001b[0m\n",
      "\u001b[0;36m  File \u001b[0;32m\"../NEAT/NEATModels/neat_focus.py\"\u001b[0;36m, line \u001b[0;32m273\u001b[0m\n\u001b[0;31m    self.Maskimage = np.zeros([self.image.shape[0], self.image.shape[1], self.image.shape[2]],3 dtype = 'uint8')\u001b[0m\n\u001b[0m                                                                                                    ^\u001b[0m\n\u001b[0;31mSyntaxError\u001b[0m\u001b[0;31m:\u001b[0m invalid syntax\n"
     ]
    }
   ],
   "source": [
    "import sys\n",
    "import os\n",
    "from glob import glob\n",
    "sys.path.append(\"../NEAT\")\n",
    "from NEATModels import NEATDynamic, nets\n",
    "from NEATModels.config import dynamic_config\n",
    "from NEATUtils import helpers\n",
    "from NEATUtils.helpers import save_json, load_json\n",
    "os.environ[\"CUDA_VISIBLE_DEVICES\"]=\"1\"\n",
    "os.environ[\"HDF5_USE_FILE_LOCKING\"] = \"FALSE\"\n"
   ]
  },
  {
   "cell_type": "code",
   "execution_count": null,
   "metadata": {},
   "outputs": [],
   "source": [
    "npz_directory = '/home/sancere/Kepler/CurieTrainingDatasets/oneatnpz/'\n",
    "npz_name = 'apoptosismodelbin2.npz'\n",
    "npz_val_name = 'apoptosismodelbin2val.npz'\n",
    "\n",
    "#Read and Write the h5 file, directory location and name\n",
    "model_dir =  '/home/sancere/Kepler/CurieDeepLearningModels/OneatModels/ApoptosisBinning2V1Models/'\n",
    "model_name = 'apoptosisd29s3f16.h5'"
   ]
  },
  {
   "cell_type": "code",
   "execution_count": null,
   "metadata": {},
   "outputs": [],
   "source": [
    "#Neural network parameters\n",
    "division_categories_json = model_dir + 'ApoptosisCategories.json'\n",
    "key_categories = load_json(division_categories_json)\n",
    "division_cord_json = model_dir + 'ApoptosisCord.json'\n",
    "key_cord = load_json(division_cord_json)\n",
    "\n",
    "#For ORNET use residual = True and for OSNET use residual = False\n",
    "residual = True\n",
    "#NUmber of starting convolutional filters, is doubled down with increasing depth\n",
    "startfilter = 16\n",
    "#CNN network start layer, mid layers and lstm layer kernel size\n",
    "start_kernel = 7\n",
    "lstm_kernel = 3\n",
    "mid_kernel = 3\n",
    "#Network depth has to be 9n + 2, n= 3 or 4 is optimal for Notum dataset\n",
    "depth = 29\n",
    "#Size of the gradient descent length vector, start small and use callbacks to get smaller when reaching the minima\n",
    "learning_rate = 1.0E-3\n",
    "#For stochastic gradient decent, the batch size used for computing the gradients\n",
    "batch_size = 4\n",
    "# use softmax for single event per box, sigmoid for multi event per box\n",
    "lstm_hidden_unit = 16\n",
    "#Training epochs, longer the better with proper chosen learning rate\n",
    "epochs = 250\n",
    "nboxes = 1\n",
    "#The inbuilt model stride which is equal to the nulber of times image was downsampled by the network\n",
    "show = True\n",
    "stage_number = 3\n",
    "last_conv_factor = 4\n",
    "size_tminus = 5\n",
    "size_tplus = 5\n",
    "imagex = 64\n",
    "imagey = 64\n",
    "yolo_v0 = False\n",
    "yolo_v1 = True\n",
    "yolo_v2 = False"
   ]
  },
  {
   "cell_type": "code",
   "execution_count": null,
   "metadata": {},
   "outputs": [],
   "source": [
    "\n",
    "config = dynamic_config(npz_directory =npz_directory, npz_name = npz_name, npz_val_name = npz_val_name, \n",
    "                         key_categories = key_categories, key_cord = key_cord, nboxes = nboxes, imagex = imagex,\n",
    "                         imagey = imagey, size_tminus = size_tminus, size_tplus =size_tplus, epochs = epochs, yolo_v0 = yolo_v0, yolo_v1 = yolo_v1, yolo_v2 = yolo_v2,\n",
    "                         residual = residual, depth = depth, start_kernel = start_kernel, mid_kernel = mid_kernel, stage_number = stage_number, last_conv_factor = last_conv_factor,\n",
    "                         lstm_kernel = lstm_kernel, lstm_hidden_unit = lstm_hidden_unit, show = show,\n",
    "                         startfilter = startfilter, batch_size = batch_size, model_name = model_name)\n",
    "\n",
    "config_json = config.to_json()\n",
    "\n",
    "print(config)\n",
    "save_json(config_json, model_dir + os.path.splitext(model_name)[0] + '_Parameter.json')"
   ]
  },
  {
   "cell_type": "code",
   "execution_count": null,
   "metadata": {
    "scrolled": false
   },
   "outputs": [],
   "source": [
    "Train = NEATDynamic(config, model_dir, model_name)\n",
    "\n",
    "Train.loadData()\n",
    "\n",
    "Train.TrainModel()"
   ]
  },
  {
   "cell_type": "code",
   "execution_count": null,
   "metadata": {},
   "outputs": [],
   "source": []
  },
  {
   "cell_type": "code",
   "execution_count": null,
   "metadata": {},
   "outputs": [],
   "source": []
  }
 ],
 "metadata": {
  "kernelspec": {
   "display_name": "Python [conda env:tensorflowGPU] *",
   "language": "python",
   "name": "conda-env-tensorflowGPU-py"
  },
  "language_info": {
   "codemirror_mode": {
    "name": "ipython",
    "version": 3
   },
   "file_extension": ".py",
   "mimetype": "text/x-python",
   "name": "python",
   "nbconvert_exporter": "python",
   "pygments_lexer": "ipython3",
   "version": "3.7.10"
  },
  "toc": {
   "base_numbering": 1,
   "nav_menu": {},
   "number_sections": false,
   "sideBar": false,
   "skip_h1_title": false,
   "title_cell": "Table of Contents",
   "title_sidebar": "Contents",
   "toc_cell": false,
   "toc_position": {},
   "toc_section_display": false,
   "toc_window_display": false
  }
 },
 "nbformat": 4,
 "nbformat_minor": 4
}
