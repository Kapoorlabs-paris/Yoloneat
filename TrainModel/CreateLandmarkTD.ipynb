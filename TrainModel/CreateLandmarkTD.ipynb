{
 "cells": [
  {
   "cell_type": "code",
   "execution_count": 1,
   "metadata": {},
   "outputs": [
    {
     "name": "stderr",
     "output_type": "stream",
     "text": [
      "Using TensorFlow backend.\n"
     ]
    }
   ],
   "source": [
    "import numpy as np\n",
    "from tifffile import imread \n",
    "import sys\n",
    "import os\n",
    "import cv2\n",
    "import glob\n",
    "from tqdm import tqdm\n",
    "import pandas as pd\n",
    "sys.path.append(\"../NEAT\")\n",
    "from NEATUtils import MovieCreator\n",
    "from NEATUtils.helpers import save_json, load_json\n",
    "from NEATModels.TrainConfig import TrainConfig\n",
    "from pathlib import Path\n"
   ]
  },
  {
   "cell_type": "code",
   "execution_count": 2,
   "metadata": {},
   "outputs": [],
   "source": [
    "#Specify the directory containing images\n",
    "image_dir = '/media/sancere/Newton_Volume_1/DalmiroAnalysis/Landmark_training_data/Images/'\n",
    "#Specify the directory contaiing csv files\n",
    "csv_dir = '/media/sancere/Newton_Volume_1/DalmiroAnalysis/Landmark_training_data/Csv/'\n",
    "#Specify the model directory where we store the json of categories, training model and parameters\n",
    "model_dir = '/home/sancere/Kepler/CurieDeepLearningModels/Dalmiro_Laura/'\n",
    "#Directory for storing center ONEAT training data for static classes\n",
    "save_dir = '/home/sancere/Kepler/CurieTrainingDatasets/Dalmiro_Laura/LandmarkData/'\n",
    "Path(model_dir).mkdir(exist_ok = True)\n",
    "Path(save_dir).mkdir(exist_ok = True)"
   ]
  },
  {
   "cell_type": "code",
   "execution_count": 3,
   "metadata": {},
   "outputs": [],
   "source": [
    "#Name of the static events\n",
    "cell_type_name = [\"Background\", \"Landmark\"]\n",
    "#Label corresponding to static event\n",
    "cell_type_label = [0, 1]\n",
    "\n",
    "#The name appended before the CSV files\n",
    "csv_name_diff = ''\n",
    "axes= 'SXYC'\n",
    "npz_name = 'Landmark128'\n",
    "npz_val_name = 'Landmark128Val'"
   ]
  },
  {
   "cell_type": "code",
   "execution_count": 4,
   "metadata": {},
   "outputs": [],
   "source": [
    "#X Y static events\n",
    "crop_size = [128,128]\n",
    "\n",
    "#Vectors attached to each static event\n",
    "cell_position_name = [\"x\", \"y\"]\n",
    "cell_position_label = [0, 1]\n",
    "\n",
    "\n",
    "offset = 10"
   ]
  },
  {
   "cell_type": "code",
   "execution_count": 5,
   "metadata": {},
   "outputs": [],
   "source": [
    "static_config = TrainConfig(cell_type_name, cell_type_label, cell_position_name, cell_position_label)\n",
    "\n",
    "static_json, static_cord_json = static_config.to_json()\n",
    "\n",
    "\n",
    "save_json(static_json, model_dir + \"StaticCategories\" + '.json')\n",
    "\n",
    "save_json(static_cord_json, model_dir + \"StaticCord\" + '.json')\n"
   ]
  },
  {
   "cell_type": "markdown",
   "metadata": {},
   "source": [
    "# For center ONEAT, event is exactly in the center for all training examples"
   ]
  },
  {
   "cell_type": "code",
   "execution_count": 6,
   "metadata": {
    "scrolled": false
   },
   "outputs": [
    {
     "name": "stdout",
     "output_type": "stream",
     "text": [
      "/media/sancere/Newton_Volume_1/DalmiroAnalysis/Landmark_training_data/Csv/New22Background.csv\n",
      "/media/sancere/Newton_Volume_1/DalmiroAnalysis/Landmark_training_data/Csv/B04LLandmark.csv\n",
      "/media/sancere/Newton_Volume_1/DalmiroAnalysis/Landmark_training_data/Csv/B13LBackground.csv\n",
      "/media/sancere/Newton_Volume_1/DalmiroAnalysis/Landmark_training_data/Csv/B12LBackground.csv\n",
      "/media/sancere/Newton_Volume_1/DalmiroAnalysis/Landmark_training_data/Csv/B08LLandmark.csv\n",
      "/media/sancere/Newton_Volume_1/DalmiroAnalysis/Landmark_training_data/Csv/B17LBackground.csv\n",
      "/media/sancere/Newton_Volume_1/DalmiroAnalysis/Landmark_training_data/Csv/B13LLandmark.csv\n",
      "/media/sancere/Newton_Volume_1/DalmiroAnalysis/Landmark_training_data/Csv/B09LBackground.csv\n",
      "/media/sancere/Newton_Volume_1/DalmiroAnalysis/Landmark_training_data/Csv/B03LBackground.csv\n",
      "/media/sancere/Newton_Volume_1/DalmiroAnalysis/Landmark_training_data/Csv/New05Landmarks.csv\n",
      "/media/sancere/Newton_Volume_1/DalmiroAnalysis/Landmark_training_data/Csv/New27Background.csv\n",
      "/media/sancere/Newton_Volume_1/DalmiroAnalysis/Landmark_training_data/Csv/B16LBackground.csv\n",
      "/media/sancere/Newton_Volume_1/DalmiroAnalysis/Landmark_training_data/Csv/B19LLandmark.csv\n",
      "/media/sancere/Newton_Volume_1/DalmiroAnalysis/Landmark_training_data/Csv/B21LLandmark.csv\n",
      "/media/sancere/Newton_Volume_1/DalmiroAnalysis/Landmark_training_data/Csv/New23Background.csv\n",
      "/media/sancere/Newton_Volume_1/DalmiroAnalysis/Landmark_training_data/Csv/B03LLandmark.csv\n",
      "/media/sancere/Newton_Volume_1/DalmiroAnalysis/Landmark_training_data/Csv/New26Background.csv\n",
      "/media/sancere/Newton_Volume_1/DalmiroAnalysis/Landmark_training_data/Csv/New25Landmarks.csv\n",
      "/media/sancere/Newton_Volume_1/DalmiroAnalysis/Landmark_training_data/Csv/B12LLandmark.csv\n",
      "/media/sancere/Newton_Volume_1/DalmiroAnalysis/Landmark_training_data/Csv/B18LLandmark.csv\n",
      "/media/sancere/Newton_Volume_1/DalmiroAnalysis/Landmark_training_data/Csv/B01LBackground.csv\n",
      "/media/sancere/Newton_Volume_1/DalmiroAnalysis/Landmark_training_data/Csv/B10LLandmark.csv\n",
      "/media/sancere/Newton_Volume_1/DalmiroAnalysis/Landmark_training_data/Csv/New24Background.csv\n",
      "/media/sancere/Newton_Volume_1/DalmiroAnalysis/Landmark_training_data/Csv/New27Landmarks.csv\n",
      "/media/sancere/Newton_Volume_1/DalmiroAnalysis/Landmark_training_data/Csv/B09LLandmark.csv\n",
      "/media/sancere/Newton_Volume_1/DalmiroAnalysis/Landmark_training_data/Csv/New02Landmarks.csv\n",
      "/media/sancere/Newton_Volume_1/DalmiroAnalysis/Landmark_training_data/Csv/New01Background.csv\n",
      "/media/sancere/Newton_Volume_1/DalmiroAnalysis/Landmark_training_data/Csv/B02LBackground.csv\n",
      "/media/sancere/Newton_Volume_1/DalmiroAnalysis/Landmark_training_data/Csv/New28Landmarks.csv\n",
      "/media/sancere/Newton_Volume_1/DalmiroAnalysis/Landmark_training_data/Csv/B11LLandmark.csv\n",
      "/media/sancere/Newton_Volume_1/DalmiroAnalysis/Landmark_training_data/Csv/New24Landmarks.csv\n",
      "/media/sancere/Newton_Volume_1/DalmiroAnalysis/Landmark_training_data/Csv/B11LBackground.csv\n",
      "/media/sancere/Newton_Volume_1/DalmiroAnalysis/Landmark_training_data/Csv/New26Landmarks.csv\n",
      "/media/sancere/Newton_Volume_1/DalmiroAnalysis/Landmark_training_data/Csv/New00Landmarks.csv\n",
      "/media/sancere/Newton_Volume_1/DalmiroAnalysis/Landmark_training_data/Csv/B20LLandmark.csv\n",
      "/media/sancere/Newton_Volume_1/DalmiroAnalysis/Landmark_training_data/Csv/New05Background.csv\n",
      "/media/sancere/Newton_Volume_1/DalmiroAnalysis/Landmark_training_data/Csv/B00LLandmark.csv\n",
      "/media/sancere/Newton_Volume_1/DalmiroAnalysis/Landmark_training_data/Csv/New03Landmarks.csv\n",
      "/media/sancere/Newton_Volume_1/DalmiroAnalysis/Landmark_training_data/Csv/B16LLandmark.csv\n",
      "/media/sancere/Newton_Volume_1/DalmiroAnalysis/Landmark_training_data/Csv/New22Landmarks.csv\n",
      "/media/sancere/Newton_Volume_1/DalmiroAnalysis/Landmark_training_data/Csv/B19LBackground.csv\n",
      "/media/sancere/Newton_Volume_1/DalmiroAnalysis/Landmark_training_data/Csv/New00Background.csv\n",
      "/media/sancere/Newton_Volume_1/DalmiroAnalysis/Landmark_training_data/Csv/B21LBackground.csv\n",
      "/media/sancere/Newton_Volume_1/DalmiroAnalysis/Landmark_training_data/Csv/B01LLandmark.csv\n",
      "/media/sancere/Newton_Volume_1/DalmiroAnalysis/Landmark_training_data/Csv/B14LBackground.csv\n",
      "/media/sancere/Newton_Volume_1/DalmiroAnalysis/Landmark_training_data/Csv/B14LLandmark.csv\n",
      "/media/sancere/Newton_Volume_1/DalmiroAnalysis/Landmark_training_data/Csv/B17LLandmark.csv\n",
      "/media/sancere/Newton_Volume_1/DalmiroAnalysis/Landmark_training_data/Csv/New23Landmarks.csv\n",
      "/media/sancere/Newton_Volume_1/DalmiroAnalysis/Landmark_training_data/Csv/B06LLandmark.csv\n",
      "/media/sancere/Newton_Volume_1/DalmiroAnalysis/Landmark_training_data/Csv/B08LBackground.csv\n",
      "/media/sancere/Newton_Volume_1/DalmiroAnalysis/Landmark_training_data/Csv/New01Landmarks.csv\n",
      "/media/sancere/Newton_Volume_1/DalmiroAnalysis/Landmark_training_data/Csv/New03Background.csv\n",
      "/media/sancere/Newton_Volume_1/DalmiroAnalysis/Landmark_training_data/Csv/B10LBackground.csv\n",
      "/media/sancere/Newton_Volume_1/DalmiroAnalysis/Landmark_training_data/Csv/New25Background.csv\n",
      "/media/sancere/Newton_Volume_1/DalmiroAnalysis/Landmark_training_data/Csv/B05LBackground.csv\n",
      "/media/sancere/Newton_Volume_1/DalmiroAnalysis/Landmark_training_data/Csv/New28Background.csv\n",
      "/media/sancere/Newton_Volume_1/DalmiroAnalysis/Landmark_training_data/Csv/B02LLandmark.csv\n",
      "/media/sancere/Newton_Volume_1/DalmiroAnalysis/Landmark_training_data/Csv/B06LBackground.csv\n",
      "/media/sancere/Newton_Volume_1/DalmiroAnalysis/Landmark_training_data/Csv/B18LBackground.csv\n",
      "/media/sancere/Newton_Volume_1/DalmiroAnalysis/Landmark_training_data/Csv/B00LBackground.csv\n",
      "/media/sancere/Newton_Volume_1/DalmiroAnalysis/Landmark_training_data/Csv/B20LBackground.csv\n",
      "/media/sancere/Newton_Volume_1/DalmiroAnalysis/Landmark_training_data/Csv/B05LLandmark.csv\n",
      "/media/sancere/Newton_Volume_1/DalmiroAnalysis/Landmark_training_data/Csv/B04LBackground.csv\n",
      "/media/sancere/Newton_Volume_1/DalmiroAnalysis/Landmark_training_data/Csv/New02Background.csv\n"
     ]
    }
   ],
   "source": [
    "MovieCreator.SegFreeImageLabelDataSet(image_dir, csv_dir, save_dir, cell_type_name, cell_type_label, csv_name_diff,crop_size, offset = offset)\n",
    "\n"
   ]
  },
  {
   "cell_type": "code",
   "execution_count": 7,
   "metadata": {},
   "outputs": [
    {
     "name": "stderr",
     "output_type": "stream",
     "text": [
      "100%|██████████| 2822/2822 [00:00<00:00, 15849.52it/s]\n"
     ]
    },
    {
     "name": "stdout",
     "output_type": "stream",
     "text": [
      "(2822, 128, 128, 1) (2822, 4, 1)\n"
     ]
    }
   ],
   "source": [
    "MovieCreator.createNPZ(save_dir, axes = 'SXYC', save_name = npz_name, save_name_val = npz_val_name, static = True)"
   ]
  },
  {
   "cell_type": "code",
   "execution_count": null,
   "metadata": {},
   "outputs": [],
   "source": []
  },
  {
   "cell_type": "code",
   "execution_count": null,
   "metadata": {},
   "outputs": [],
   "source": []
  }
 ],
 "metadata": {
  "kernelspec": {
   "display_name": "Python 3",
   "language": "python",
   "name": "python3"
  },
  "language_info": {
   "codemirror_mode": {
    "name": "ipython",
    "version": 3
   },
   "file_extension": ".py",
   "mimetype": "text/x-python",
   "name": "python",
   "nbconvert_exporter": "python",
   "pygments_lexer": "ipython3",
   "version": "3.7.0"
  }
 },
 "nbformat": 4,
 "nbformat_minor": 4
}
