{
 "cells": [
  {
   "cell_type": "code",
   "execution_count": 1,
   "metadata": {},
   "outputs": [
    {
     "name": "stderr",
     "output_type": "stream",
     "text": [
      "Using TensorFlow backend.\n"
     ]
    }
   ],
   "source": [
    "import numpy as np\n",
    "from tifffile import imread \n",
    "import sys\n",
    "import os\n",
    "import cv2\n",
    "import glob\n",
    "from tqdm import tqdm\n",
    "import pandas as pd\n",
    "sys.path.append(\"../NEAT\")\n",
    "from NEATUtils import MovieCreator\n",
    "from NEATUtils.helpers import save_json, load_json\n",
    "from NEATModels.TrainConfig import TrainConfig\n",
    "from pathlib import Path\n"
   ]
  },
  {
   "cell_type": "code",
   "execution_count": 2,
   "metadata": {},
   "outputs": [],
   "source": [
    "#Specify the directory containing images\n",
    "image_dir = '/media/sancere/Newton_Volume_1/DalmiroAnalysis/Landmark_training_data/Images/'\n",
    "#Specify the directory contaiing csv files\n",
    "csv_dir = '/media/sancere/Newton_Volume_1/DalmiroAnalysis/Landmark_training_data/Csv/'\n",
    "#Specify the model directory where we store the json of categories, training model and parameters\n",
    "model_dir = '/home/sancere/Kepler/CurieDeepLearningModels/Dalmiro_Laura/'\n",
    "#Directory for storing center ONEAT training data for static classes\n",
    "save_dir = '/home/sancere/Kepler/CurieTrainingDatasets/Dalmiro_Laura/LandmarkData/'\n",
    "Path(model_dir).mkdir(exist_ok = True)\n",
    "Path(save_dir).mkdir(exist_ok = True)"
   ]
  },
  {
   "cell_type": "code",
   "execution_count": 3,
   "metadata": {},
   "outputs": [],
   "source": [
    "#Name of the static events\n",
    "cell_type_name = [\"Background\", \"Landmark\"]\n",
    "#Label corresponding to static event\n",
    "cell_type_label = [0, 1]\n",
    "\n",
    "#The name appended before the CSV files\n",
    "csv_name_diff = ''\n",
    "axes= 'SXYC'\n",
    "npz_name = 'Landmark128'\n",
    "npz_val_name = 'Landmark128Val'"
   ]
  },
  {
   "cell_type": "code",
   "execution_count": 4,
   "metadata": {},
   "outputs": [],
   "source": [
    "#X Y static events\n",
    "crop_size = [128,128]\n",
    "\n",
    "#Vectors attached to each static event\n",
    "cell_position_name = [\"x\", \"y\"]\n",
    "cell_position_label = [0, 1]\n",
    "\n",
    "\n",
    "offset = 10"
   ]
  },
  {
   "cell_type": "code",
   "execution_count": 5,
   "metadata": {},
   "outputs": [],
   "source": [
    "static_config = TrainConfig(cell_type_name, cell_type_label, cell_position_name, cell_position_label)\n",
    "\n",
    "static_json, static_cord_json = static_config.to_json()\n",
    "\n",
    "\n",
    "save_json(static_json, model_dir + \"StaticCategories\" + '.json')\n",
    "\n",
    "save_json(static_cord_json, model_dir + \"StaticCord\" + '.json')\n"
   ]
  },
  {
   "cell_type": "markdown",
   "metadata": {},
   "source": [
    "# For center ONEAT, event is exactly in the center for all training examples"
   ]
  },
  {
   "cell_type": "code",
   "execution_count": 6,
   "metadata": {
    "scrolled": false
   },
   "outputs": [
    {
     "name": "stdout",
     "output_type": "stream",
     "text": [
      "/media/sancere/Newton_Volume_1/DalmiroAnalysis/Landmark_training_data/Csv/New22Background.csv\n",
      "/media/sancere/Newton_Volume_1/DalmiroAnalysis/Landmark_training_data/Csv/A16LBackground.csv\n",
      "/media/sancere/Newton_Volume_1/DalmiroAnalysis/Landmark_training_data/Csv/A28LBackground.csv\n",
      "/media/sancere/Newton_Volume_1/DalmiroAnalysis/Landmark_training_data/Csv/B04LLandmark.csv\n",
      "/media/sancere/Newton_Volume_1/DalmiroAnalysis/Landmark_training_data/Csv/D01LBackground.csv\n",
      "/media/sancere/Newton_Volume_1/DalmiroAnalysis/Landmark_training_data/Csv/A07LBackground.csv\n",
      "/media/sancere/Newton_Volume_1/DalmiroAnalysis/Landmark_training_data/Csv/C27LLandmarks.csv\n",
      "/media/sancere/Newton_Volume_1/DalmiroAnalysis/Landmark_training_data/Csv/B13LBackground.csv\n",
      "/media/sancere/Newton_Volume_1/DalmiroAnalysis/Landmark_training_data/Csv/A21LBackground.csv\n",
      "/media/sancere/Newton_Volume_1/DalmiroAnalysis/Landmark_training_data/Csv/C17LLandmarks.csv\n",
      "/media/sancere/Newton_Volume_1/DalmiroAnalysis/Landmark_training_data/Csv/C29LBackground.csv\n",
      "/media/sancere/Newton_Volume_1/DalmiroAnalysis/Landmark_training_data/Csv/C07LLandmarks.csv\n",
      "/media/sancere/Newton_Volume_1/DalmiroAnalysis/Landmark_training_data/Csv/C12LLandmarks.csv\n",
      "/media/sancere/Newton_Volume_1/DalmiroAnalysis/Landmark_training_data/Csv/B12LBackground.csv\n",
      "/media/sancere/Newton_Volume_1/DalmiroAnalysis/Landmark_training_data/Csv/C21LBackground.csv\n",
      "/media/sancere/Newton_Volume_1/DalmiroAnalysis/Landmark_training_data/Csv/A18LLandmarks.csv\n",
      "/media/sancere/Newton_Volume_1/DalmiroAnalysis/Landmark_training_data/Csv/A12LLandmarks.csv\n",
      "/media/sancere/Newton_Volume_1/DalmiroAnalysis/Landmark_training_data/Csv/B08LLandmark.csv\n",
      "/media/sancere/Newton_Volume_1/DalmiroAnalysis/Landmark_training_data/Csv/B17LBackground.csv\n",
      "/media/sancere/Newton_Volume_1/DalmiroAnalysis/Landmark_training_data/Csv/B13LLandmark.csv\n",
      "/media/sancere/Newton_Volume_1/DalmiroAnalysis/Landmark_training_data/Csv/B09LBackground.csv\n",
      "/media/sancere/Newton_Volume_1/DalmiroAnalysis/Landmark_training_data/Csv/B03LBackground.csv\n",
      "/media/sancere/Newton_Volume_1/DalmiroAnalysis/Landmark_training_data/Csv/C15LBackground.csv\n",
      "/media/sancere/Newton_Volume_1/DalmiroAnalysis/Landmark_training_data/Csv/C19LLandmarks.csv\n",
      "/media/sancere/Newton_Volume_1/DalmiroAnalysis/Landmark_training_data/Csv/C25LBackground.csv\n",
      "/media/sancere/Newton_Volume_1/DalmiroAnalysis/Landmark_training_data/Csv/New05Landmarks.csv\n",
      "/media/sancere/Newton_Volume_1/DalmiroAnalysis/Landmark_training_data/Csv/C19LBackground.csv\n",
      "/media/sancere/Newton_Volume_1/DalmiroAnalysis/Landmark_training_data/Csv/A12LBackground.csv\n",
      "/media/sancere/Newton_Volume_1/DalmiroAnalysis/Landmark_training_data/Csv/C27LBackground.csv\n",
      "/media/sancere/Newton_Volume_1/DalmiroAnalysis/Landmark_training_data/Csv/A20LLandmarks.csv\n",
      "/media/sancere/Newton_Volume_1/DalmiroAnalysis/Landmark_training_data/Csv/D07LBackground.csv\n",
      "/media/sancere/Newton_Volume_1/DalmiroAnalysis/Landmark_training_data/Csv/A11LBackground.csv\n",
      "/media/sancere/Newton_Volume_1/DalmiroAnalysis/Landmark_training_data/Csv/New27Background.csv\n",
      "/media/sancere/Newton_Volume_1/DalmiroAnalysis/Landmark_training_data/Csv/C10LBackground.csv\n",
      "/media/sancere/Newton_Volume_1/DalmiroAnalysis/Landmark_training_data/Csv/B16LBackground.csv\n",
      "/media/sancere/Newton_Volume_1/DalmiroAnalysis/Landmark_training_data/Csv/B19LLandmark.csv\n",
      "/media/sancere/Newton_Volume_1/DalmiroAnalysis/Landmark_training_data/Csv/C13LLandmarks.csv\n",
      "/media/sancere/Newton_Volume_1/DalmiroAnalysis/Landmark_training_data/Csv/C30LBackground.csv\n",
      "/media/sancere/Newton_Volume_1/DalmiroAnalysis/Landmark_training_data/Csv/B21LLandmark.csv\n",
      "/media/sancere/Newton_Volume_1/DalmiroAnalysis/Landmark_training_data/Csv/A18LBackground.csv\n",
      "/media/sancere/Newton_Volume_1/DalmiroAnalysis/Landmark_training_data/Csv/New23Background.csv\n",
      "/media/sancere/Newton_Volume_1/DalmiroAnalysis/Landmark_training_data/Csv/A04LBackground.csv\n",
      "/media/sancere/Newton_Volume_1/DalmiroAnalysis/Landmark_training_data/Csv/C17LBackground.csv\n",
      "/media/sancere/Newton_Volume_1/DalmiroAnalysis/Landmark_training_data/Csv/C22LBackground.csv\n",
      "/media/sancere/Newton_Volume_1/DalmiroAnalysis/Landmark_training_data/Csv/B03LLandmark.csv\n",
      "/media/sancere/Newton_Volume_1/DalmiroAnalysis/Landmark_training_data/Csv/New26Background.csv\n",
      "/media/sancere/Newton_Volume_1/DalmiroAnalysis/Landmark_training_data/Csv/C10LLandmarks.csv\n",
      "/media/sancere/Newton_Volume_1/DalmiroAnalysis/Landmark_training_data/Csv/New25Landmarks.csv\n",
      "/media/sancere/Newton_Volume_1/DalmiroAnalysis/Landmark_training_data/Csv/A23LLandmarks.csv\n",
      "/media/sancere/Newton_Volume_1/DalmiroAnalysis/Landmark_training_data/Csv/A08LBackground.csv\n",
      "/media/sancere/Newton_Volume_1/DalmiroAnalysis/Landmark_training_data/Csv/B12LLandmark.csv\n",
      "/media/sancere/Newton_Volume_1/DalmiroAnalysis/Landmark_training_data/Csv/C05LBackground.csv\n",
      "/media/sancere/Newton_Volume_1/DalmiroAnalysis/Landmark_training_data/Csv/C23LLandmarks.csv\n",
      "/media/sancere/Newton_Volume_1/DalmiroAnalysis/Landmark_training_data/Csv/C06LBackground.csv\n",
      "/media/sancere/Newton_Volume_1/DalmiroAnalysis/Landmark_training_data/Csv/A14LLandmarks.csv\n",
      "/media/sancere/Newton_Volume_1/DalmiroAnalysis/Landmark_training_data/Csv/B18LLandmark.csv\n",
      "/media/sancere/Newton_Volume_1/DalmiroAnalysis/Landmark_training_data/Csv/B01LBackground.csv\n",
      "/media/sancere/Newton_Volume_1/DalmiroAnalysis/Landmark_training_data/Csv/C03LBackground.csv\n",
      "/media/sancere/Newton_Volume_1/DalmiroAnalysis/Landmark_training_data/Csv/B10LLandmark.csv\n",
      "/media/sancere/Newton_Volume_1/DalmiroAnalysis/Landmark_training_data/Csv/New24Background.csv\n",
      "/media/sancere/Newton_Volume_1/DalmiroAnalysis/Landmark_training_data/Csv/C13LBackground.csv\n",
      "/media/sancere/Newton_Volume_1/DalmiroAnalysis/Landmark_training_data/Csv/New27Landmarks.csv\n",
      "/media/sancere/Newton_Volume_1/DalmiroAnalysis/Landmark_training_data/Csv/B09LLandmark.csv\n",
      "/media/sancere/Newton_Volume_1/DalmiroAnalysis/Landmark_training_data/Csv/A05LBackground.csv\n",
      "/media/sancere/Newton_Volume_1/DalmiroAnalysis/Landmark_training_data/Csv/New02Landmarks.csv\n",
      "/media/sancere/Newton_Volume_1/DalmiroAnalysis/Landmark_training_data/Csv/A27LLandmarks.csv\n",
      "/media/sancere/Newton_Volume_1/DalmiroAnalysis/Landmark_training_data/Csv/New01Background.csv\n",
      "/media/sancere/Newton_Volume_1/DalmiroAnalysis/Landmark_training_data/Csv/A17LBackground.csv\n",
      "/media/sancere/Newton_Volume_1/DalmiroAnalysis/Landmark_training_data/Csv/A03LBackground.csv\n",
      "/media/sancere/Newton_Volume_1/DalmiroAnalysis/Landmark_training_data/Csv/B02LBackground.csv\n",
      "/media/sancere/Newton_Volume_1/DalmiroAnalysis/Landmark_training_data/Csv/C18LBackground.csv\n",
      "/media/sancere/Newton_Volume_1/DalmiroAnalysis/Landmark_training_data/Csv/New28Landmarks.csv\n",
      "/media/sancere/Newton_Volume_1/DalmiroAnalysis/Landmark_training_data/Csv/A27LBackground.csv\n",
      "/media/sancere/Newton_Volume_1/DalmiroAnalysis/Landmark_training_data/Csv/B11LLandmark.csv\n",
      "/media/sancere/Newton_Volume_1/DalmiroAnalysis/Landmark_training_data/Csv/A25LBackground.csv\n",
      "/media/sancere/Newton_Volume_1/DalmiroAnalysis/Landmark_training_data/Csv/C04LBackground.csv\n",
      "/media/sancere/Newton_Volume_1/DalmiroAnalysis/Landmark_training_data/Csv/A16LLandmarks.csv\n",
      "/media/sancere/Newton_Volume_1/DalmiroAnalysis/Landmark_training_data/Csv/New24Landmarks.csv\n",
      "/media/sancere/Newton_Volume_1/DalmiroAnalysis/Landmark_training_data/Csv/C24LLandmarks.csv\n",
      "/media/sancere/Newton_Volume_1/DalmiroAnalysis/Landmark_training_data/Csv/C28LBackground.csv\n",
      "/media/sancere/Newton_Volume_1/DalmiroAnalysis/Landmark_training_data/Csv/A22LLandmarks.csv\n",
      "/media/sancere/Newton_Volume_1/DalmiroAnalysis/Landmark_training_data/Csv/B11LBackground.csv\n",
      "/media/sancere/Newton_Volume_1/DalmiroAnalysis/Landmark_training_data/Csv/C06LLandmarks.csv\n",
      "/media/sancere/Newton_Volume_1/DalmiroAnalysis/Landmark_training_data/Csv/C12LBackground.csv\n",
      "/media/sancere/Newton_Volume_1/DalmiroAnalysis/Landmark_training_data/Csv/C11LBackground.csv\n",
      "/media/sancere/Newton_Volume_1/DalmiroAnalysis/Landmark_training_data/Csv/New26Landmarks.csv\n",
      "/media/sancere/Newton_Volume_1/DalmiroAnalysis/Landmark_training_data/Csv/D04LBackground.csv\n",
      "/media/sancere/Newton_Volume_1/DalmiroAnalysis/Landmark_training_data/Csv/New00Landmarks.csv\n",
      "/media/sancere/Newton_Volume_1/DalmiroAnalysis/Landmark_training_data/Csv/C23LBackground.csv\n"
     ]
    },
    {
     "name": "stdout",
     "output_type": "stream",
     "text": [
      "/media/sancere/Newton_Volume_1/DalmiroAnalysis/Landmark_training_data/Csv/B20LLandmark.csv\n",
      "/media/sancere/Newton_Volume_1/DalmiroAnalysis/Landmark_training_data/Csv/A30LLandmarks.csv\n",
      "/media/sancere/Newton_Volume_1/DalmiroAnalysis/Landmark_training_data/Csv/A23LBackground.csv\n",
      "/media/sancere/Newton_Volume_1/DalmiroAnalysis/Landmark_training_data/Csv/C03LLandmarks.csv\n",
      "/media/sancere/Newton_Volume_1/DalmiroAnalysis/Landmark_training_data/Csv/C04LLandmarks.csv\n",
      "/media/sancere/Newton_Volume_1/DalmiroAnalysis/Landmark_training_data/Csv/A22LBackground.csv\n",
      "/media/sancere/Newton_Volume_1/DalmiroAnalysis/Landmark_training_data/Csv/A02LBackground.csv\n",
      "/media/sancere/Newton_Volume_1/DalmiroAnalysis/Landmark_training_data/Csv/New05Background.csv\n",
      "/media/sancere/Newton_Volume_1/DalmiroAnalysis/Landmark_training_data/Csv/B00LLandmark.csv\n",
      "/media/sancere/Newton_Volume_1/DalmiroAnalysis/Landmark_training_data/Csv/New03Landmarks.csv\n",
      "/media/sancere/Newton_Volume_1/DalmiroAnalysis/Landmark_training_data/Csv/D05LLandmarks.csv\n",
      "/media/sancere/Newton_Volume_1/DalmiroAnalysis/Landmark_training_data/Csv/A20LBackground.csv\n",
      "/media/sancere/Newton_Volume_1/DalmiroAnalysis/Landmark_training_data/Csv/A07LLandmarks.csv\n",
      "/media/sancere/Newton_Volume_1/DalmiroAnalysis/Landmark_training_data/Csv/D03LBackground.csv\n",
      "/media/sancere/Newton_Volume_1/DalmiroAnalysis/Landmark_training_data/Csv/A17LLandmarks.csv\n",
      "/media/sancere/Newton_Volume_1/DalmiroAnalysis/Landmark_training_data/Csv/A19LBackground.csv\n",
      "/media/sancere/Newton_Volume_1/DalmiroAnalysis/Landmark_training_data/Csv/C24LBackground.csv\n",
      "/media/sancere/Newton_Volume_1/DalmiroAnalysis/Landmark_training_data/Csv/B16LLandmark.csv\n",
      "/media/sancere/Newton_Volume_1/DalmiroAnalysis/Landmark_training_data/Csv/D03LLandmarks.csv\n",
      "/media/sancere/Newton_Volume_1/DalmiroAnalysis/Landmark_training_data/Csv/New22Landmarks.csv\n",
      "/media/sancere/Newton_Volume_1/DalmiroAnalysis/Landmark_training_data/Csv/A28LLandmarks.csv\n",
      "/media/sancere/Newton_Volume_1/DalmiroAnalysis/Landmark_training_data/Csv/B19LBackground.csv\n",
      "/media/sancere/Newton_Volume_1/DalmiroAnalysis/Landmark_training_data/Csv/New00Background.csv\n",
      "/media/sancere/Newton_Volume_1/DalmiroAnalysis/Landmark_training_data/Csv/C05LLandmarks.csv\n",
      "/media/sancere/Newton_Volume_1/DalmiroAnalysis/Landmark_training_data/Csv/A26LBackground.csv\n",
      "/media/sancere/Newton_Volume_1/DalmiroAnalysis/Landmark_training_data/Csv/D04LLandmarks.csv\n",
      "/media/sancere/Newton_Volume_1/DalmiroAnalysis/Landmark_training_data/Csv/B21LBackground.csv\n",
      "/media/sancere/Newton_Volume_1/DalmiroAnalysis/Landmark_training_data/Csv/B01LLandmark.csv\n",
      "/media/sancere/Newton_Volume_1/DalmiroAnalysis/Landmark_training_data/Csv/A03LLandmarks.csv\n",
      "/media/sancere/Newton_Volume_1/DalmiroAnalysis/Landmark_training_data/Csv/B14LBackground.csv\n",
      "/media/sancere/Newton_Volume_1/DalmiroAnalysis/Landmark_training_data/Csv/B14LLandmark.csv\n",
      "/media/sancere/Newton_Volume_1/DalmiroAnalysis/Landmark_training_data/Csv/A05LLandmarks.csv\n",
      "/media/sancere/Newton_Volume_1/DalmiroAnalysis/Landmark_training_data/Csv/B17LLandmark.csv\n",
      "/media/sancere/Newton_Volume_1/DalmiroAnalysis/Landmark_training_data/Csv/C21LLandmarks.csv\n",
      "/media/sancere/Newton_Volume_1/DalmiroAnalysis/Landmark_training_data/Csv/A14LBackground.csv\n",
      "/media/sancere/Newton_Volume_1/DalmiroAnalysis/Landmark_training_data/Csv/New23Landmarks.csv\n",
      "/media/sancere/Newton_Volume_1/DalmiroAnalysis/Landmark_training_data/Csv/B06LLandmark.csv\n",
      "/media/sancere/Newton_Volume_1/DalmiroAnalysis/Landmark_training_data/Csv/C01LLandmarks.csv\n",
      "/media/sancere/Newton_Volume_1/DalmiroAnalysis/Landmark_training_data/Csv/C20LBackground.csv\n",
      "/media/sancere/Newton_Volume_1/DalmiroAnalysis/Landmark_training_data/Csv/A08LLandmarks.csv\n",
      "/media/sancere/Newton_Volume_1/DalmiroAnalysis/Landmark_training_data/Csv/B08LBackground.csv\n",
      "/media/sancere/Newton_Volume_1/DalmiroAnalysis/Landmark_training_data/Csv/C30LLandmarks.csv\n",
      "/media/sancere/Newton_Volume_1/DalmiroAnalysis/Landmark_training_data/Csv/D08LLandmarks.csv\n",
      "/media/sancere/Newton_Volume_1/DalmiroAnalysis/Landmark_training_data/Csv/New01Landmarks.csv\n",
      "/media/sancere/Newton_Volume_1/DalmiroAnalysis/Landmark_training_data/Csv/New03Background.csv\n",
      "/media/sancere/Newton_Volume_1/DalmiroAnalysis/Landmark_training_data/Csv/B10LBackground.csv\n",
      "/media/sancere/Newton_Volume_1/DalmiroAnalysis/Landmark_training_data/Csv/A04LLandmarks.csv\n",
      "/media/sancere/Newton_Volume_1/DalmiroAnalysis/Landmark_training_data/Csv/C09LBackground.csv\n",
      "/media/sancere/Newton_Volume_1/DalmiroAnalysis/Landmark_training_data/Csv/C16LBackground.csv\n",
      "/media/sancere/Newton_Volume_1/DalmiroAnalysis/Landmark_training_data/Csv/New25Background.csv\n",
      "/media/sancere/Newton_Volume_1/DalmiroAnalysis/Landmark_training_data/Csv/C25LLandmarks.csv\n",
      "/media/sancere/Newton_Volume_1/DalmiroAnalysis/Landmark_training_data/Csv/C20LLandmarks.csv\n",
      "/media/sancere/Newton_Volume_1/DalmiroAnalysis/Landmark_training_data/Csv/A02LLandmarks.csv\n",
      "/media/sancere/Newton_Volume_1/DalmiroAnalysis/Landmark_training_data/Csv/C02LLandmarks.csv\n",
      "/media/sancere/Newton_Volume_1/DalmiroAnalysis/Landmark_training_data/Csv/A15LBackground.csv\n",
      "/media/sancere/Newton_Volume_1/DalmiroAnalysis/Landmark_training_data/Csv/A19LLandmarks.csv\n",
      "/media/sancere/Newton_Volume_1/DalmiroAnalysis/Landmark_training_data/Csv/D07LLandmarks.csv\n",
      "/media/sancere/Newton_Volume_1/DalmiroAnalysis/Landmark_training_data/Csv/C02LBackground.csv\n",
      "/media/sancere/Newton_Volume_1/DalmiroAnalysis/Landmark_training_data/Csv/B05LBackground.csv\n",
      "/media/sancere/Newton_Volume_1/DalmiroAnalysis/Landmark_training_data/Csv/New28Background.csv\n",
      "/media/sancere/Newton_Volume_1/DalmiroAnalysis/Landmark_training_data/Csv/A29LBackground.csv\n",
      "/media/sancere/Newton_Volume_1/DalmiroAnalysis/Landmark_training_data/Csv/C28LLandmarks.csv\n",
      "/media/sancere/Newton_Volume_1/DalmiroAnalysis/Landmark_training_data/Csv/C16LLandmarks.csv\n",
      "/media/sancere/Newton_Volume_1/DalmiroAnalysis/Landmark_training_data/Csv/C29LLandmarks.csv\n",
      "/media/sancere/Newton_Volume_1/DalmiroAnalysis/Landmark_training_data/Csv/B02LLandmark.csv\n",
      "/media/sancere/Newton_Volume_1/DalmiroAnalysis/Landmark_training_data/Csv/B06LBackground.csv\n",
      "/media/sancere/Newton_Volume_1/DalmiroAnalysis/Landmark_training_data/Csv/B18LBackground.csv\n",
      "/media/sancere/Newton_Volume_1/DalmiroAnalysis/Landmark_training_data/Csv/C01LBackground.csv\n",
      "/media/sancere/Newton_Volume_1/DalmiroAnalysis/Landmark_training_data/Csv/B00LBackground.csv\n",
      "/media/sancere/Newton_Volume_1/DalmiroAnalysis/Landmark_training_data/Csv/D01LLandmarks.csv\n",
      "/media/sancere/Newton_Volume_1/DalmiroAnalysis/Landmark_training_data/Csv/C07LBackground.csv\n",
      "/media/sancere/Newton_Volume_1/DalmiroAnalysis/Landmark_training_data/Csv/C09LLandmarks.csv\n",
      "/media/sancere/Newton_Volume_1/DalmiroAnalysis/Landmark_training_data/Csv/B20LBackground.csv\n",
      "/media/sancere/Newton_Volume_1/DalmiroAnalysis/Landmark_training_data/Csv/C18LLandmarks.csv\n",
      "/media/sancere/Newton_Volume_1/DalmiroAnalysis/Landmark_training_data/Csv/A11LLandmarks.csv\n",
      "/media/sancere/Newton_Volume_1/DalmiroAnalysis/Landmark_training_data/Csv/A21LLandmarks.csv\n",
      "/media/sancere/Newton_Volume_1/DalmiroAnalysis/Landmark_training_data/Csv/D05LBackground.csv\n",
      "/media/sancere/Newton_Volume_1/DalmiroAnalysis/Landmark_training_data/Csv/B05LLandmark.csv\n",
      "/media/sancere/Newton_Volume_1/DalmiroAnalysis/Landmark_training_data/Csv/C15LLandmarks.csv\n",
      "/media/sancere/Newton_Volume_1/DalmiroAnalysis/Landmark_training_data/Csv/A15LLandmarks.csv\n",
      "/media/sancere/Newton_Volume_1/DalmiroAnalysis/Landmark_training_data/Csv/A29LLandmarks.csv\n",
      "/media/sancere/Newton_Volume_1/DalmiroAnalysis/Landmark_training_data/Csv/A30LBackground.csv\n",
      "/media/sancere/Newton_Volume_1/DalmiroAnalysis/Landmark_training_data/Csv/A26LLandmarks.csv\n",
      "/media/sancere/Newton_Volume_1/DalmiroAnalysis/Landmark_training_data/Csv/B04LBackground.csv\n",
      "/media/sancere/Newton_Volume_1/DalmiroAnalysis/Landmark_training_data/Csv/D08LBackground.csv\n",
      "/media/sancere/Newton_Volume_1/DalmiroAnalysis/Landmark_training_data/Csv/A25LLandmarks.csv\n",
      "/media/sancere/Newton_Volume_1/DalmiroAnalysis/Landmark_training_data/Csv/New02Background.csv\n",
      "/media/sancere/Newton_Volume_1/DalmiroAnalysis/Landmark_training_data/Csv/C11LLandmarks.csv\n",
      "/media/sancere/Newton_Volume_1/DalmiroAnalysis/Landmark_training_data/Csv/C22LLandmarks.csv\n"
     ]
    }
   ],
   "source": [
    "MovieCreator.SegFreeImageLabelDataSet(image_dir, csv_dir, save_dir, cell_type_name, cell_type_label, csv_name_diff,crop_size, offset = offset)\n",
    "\n"
   ]
  },
  {
   "cell_type": "code",
   "execution_count": 7,
   "metadata": {},
   "outputs": [
    {
     "name": "stderr",
     "output_type": "stream",
     "text": [
      "100%|██████████| 3733/3733 [00:00<00:00, 16619.61it/s]\n"
     ]
    },
    {
     "name": "stdout",
     "output_type": "stream",
     "text": [
      "(3733, 128, 128, 1) (3733, 4, 1)\n"
     ]
    }
   ],
   "source": [
    "MovieCreator.createNPZ(save_dir, axes = 'SXYC', save_name = npz_name, save_name_val = npz_val_name, static = True)"
   ]
  },
  {
   "cell_type": "code",
   "execution_count": null,
   "metadata": {},
   "outputs": [],
   "source": []
  },
  {
   "cell_type": "code",
   "execution_count": null,
   "metadata": {},
   "outputs": [],
   "source": []
  }
 ],
 "metadata": {
  "kernelspec": {
   "display_name": "Python 3",
   "language": "python",
   "name": "python3"
  },
  "language_info": {
   "codemirror_mode": {
    "name": "ipython",
    "version": 3
   },
   "file_extension": ".py",
   "mimetype": "text/x-python",
   "name": "python",
   "nbconvert_exporter": "python",
   "pygments_lexer": "ipython3",
   "version": "3.7.0"
  }
 },
 "nbformat": 4,
 "nbformat_minor": 4
}
