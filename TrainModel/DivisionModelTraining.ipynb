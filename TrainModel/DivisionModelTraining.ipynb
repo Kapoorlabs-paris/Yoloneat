{
 "cells": [
  {
   "cell_type": "code",
   "execution_count": 1,
   "metadata": {},
   "outputs": [
    {
     "name": "stderr",
     "output_type": "stream",
     "text": [
      "Using TensorFlow backend.\n"
     ]
    }
   ],
   "source": [
    "import sys\n",
    "import os\n",
    "from glob import glob\n",
    "sys.path.append(\"../NEAT\")\n",
    "from NEATModels import NEATDynamic, nets\n",
    "from NEATModels.config  import dynamic_config\n",
    "from NEATUtils import helpers\n",
    "from NEATUtils.helpers import save_json, load_json\n",
    "os.environ[\"CUDA_VISIBLE_DEVICES\"]=\"0\"\n",
    "os.environ[\"HDF5_USE_FILE_LOCKING\"] = \"FALSE\""
   ]
  },
  {
   "cell_type": "code",
   "execution_count": 2,
   "metadata": {},
   "outputs": [],
   "source": [
    "npz_directory = '/home/sancere/Kepler/FinalONEATTraining/DivisionBin2YoloneatV0/'\n",
    "npz_name = 'DivisionS54bin2V0'\n",
    "npz_val_name = 'DivisionS54bin2V0Val'\n",
    "model_dir = '/home/sancere/Kepler/FinalONEATTraining/Bin2ONeatModelV0/'\n",
    "#Model name based on wether it is residual or sequntial ONEAT network\n",
    "model_name = 'OSnetbin2d47V1f48.h5'"
   ]
  },
  {
   "cell_type": "code",
   "execution_count": 6,
   "metadata": {},
   "outputs": [
    {
     "name": "stdout",
     "output_type": "stream",
     "text": [
      "NeatConfig(ModelName='MidONEATd29cl48.h5', batch_size=(10,), depth=29, epochs=100, learning_rate=0.0001, lstm=16, mid_kernel=3, residual=True, start_kernel=3, startfilter=48)\n"
     ]
    }
   ],
   "source": [
    "division_categories_json = model_dir + 'DivisionCategories.json'\n",
    "key_categories = load_json(division_categories_json)\n",
    "division_cord_json = model_dir + 'DivisionCord.json'\n",
    "key_cord = load_json(division_cord_json)\n",
    "\n",
    "#For ORNET use residual = True and for OSNET use residual = False\n",
    "residual = False\n",
    "#NUmber of starting convolutional filters, is doubled down with increasing depth\n",
    "startfilter = 48\n",
    "#CNN network start layer, mid layers and lstm layer kernel size\n",
    "start_kernel = 3\n",
    "lstm_kernel = 3\n",
    "mid_kernel = 3\n",
    "#Network depth has to be 9n + 2, n= 3 or 4 is optimal for Notum dataset\n",
    "depth = 47\n",
    "#Size of the gradient descent length vector, start small and use callbacks to get smaller when reaching the minima\n",
    "learning_rate = 1.0E-6\n",
    "#For stochastic gradient decent, the batch size used for computing the gradients\n",
    "batch_size = 100\n",
    "# use softmax for single event per box, sigmoid for multi event per box\n",
    "multievent = False\n",
    "yolo_v0 = True\n",
    "yolo_v1 = False\n",
    "yolo_v2 = False\n",
    "#Training epochs, longer the better with proper chosen learning rate\n",
    "epochs = 250\n",
    "nboxes = 5\n",
    "#The inbuilt model stride which is equal to the nulber of times image was downsampled by the network\n",
    "stride = 4\n",
    "show = True"
   ]
  },
  {
   "cell_type": "code",
   "execution_count": null,
   "metadata": {},
   "outputs": [],
   "source": [
    "config = dynamic_config(npz_directory =npz_directory, npz_name = npz_name, npz_val_name = npz_val_name, \n",
    "                         key_categories = key_categories, key_cord = key_cord, stride = stride,\n",
    "                         residual = residual, depth = depth, start_kernel = start_kernel, mid_kernel = mid_kernel,\n",
    "                         lstm_kernel = lstm_kernel, gridx = 1, gridy = 1, gridt = 1, show = show,\n",
    "                         startfiler = startfilter, \n",
    "                         batch_size = batch_size, model_name = model_name, yolo_v0 = yolo_v0, yolo_v1 = yolo_v1, yolo_v2 = yolo_v2 multievent = multievent)\n",
    "\n",
    "config_json = config.to_json()\n",
    "\n",
    "print(config)\n",
    "save_json(config_json, model_dir + os.path.splitext(model_name)[0] + '_Parameter.json')"
   ]
  },
  {
   "cell_type": "code",
   "execution_count": null,
   "metadata": {},
   "outputs": [],
   "source": [
    "Train = NEATDynamic(config, model_dir, model_name)\n",
    "\n",
    "Train.loadData()\n",
    "\n",
    "Train.TrainModel()\n"
   ]
  },
  {
   "cell_type": "code",
   "execution_count": null,
   "metadata": {},
   "outputs": [],
   "source": []
  },
  {
   "cell_type": "code",
   "execution_count": null,
   "metadata": {},
   "outputs": [],
   "source": []
  },
  {
   "cell_type": "code",
   "execution_count": null,
   "metadata": {},
   "outputs": [],
   "source": []
  }
 ],
 "metadata": {
  "kernelspec": {
   "display_name": "Python 3",
   "language": "python",
   "name": "python3"
  },
  "language_info": {
   "codemirror_mode": {
    "name": "ipython",
    "version": 3
   },
   "file_extension": ".py",
   "mimetype": "text/x-python",
   "name": "python",
   "nbconvert_exporter": "python",
   "pygments_lexer": "ipython3",
   "version": "3.6.10"
  },
  "toc": {
   "base_numbering": 1,
   "nav_menu": {},
   "number_sections": false,
   "sideBar": false,
   "skip_h1_title": false,
   "title_cell": "Table of Contents",
   "title_sidebar": "Contents",
   "toc_cell": false,
   "toc_position": {},
   "toc_section_display": false,
   "toc_window_display": false
  }
 },
 "nbformat": 4,
 "nbformat_minor": 4
}
