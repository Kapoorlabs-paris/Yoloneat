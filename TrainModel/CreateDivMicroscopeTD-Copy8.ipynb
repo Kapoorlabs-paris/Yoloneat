{
 "cells": [
  {
   "cell_type": "code",
   "execution_count": 1,
   "id": "f1f624da",
   "metadata": {},
   "outputs": [
    {
     "name": "stderr",
     "output_type": "stream",
     "text": [
      "Using TensorFlow backend.\n",
      "In /home/sancere/anaconda3/envs/tensorflowGPU/lib/python3.7/site-packages/matplotlib/mpl-data/stylelib/_classic_test.mplstyle: \n",
      "The text.latex.preview rcparam was deprecated in Matplotlib 3.3 and will be removed two minor releases later.\n",
      "In /home/sancere/anaconda3/envs/tensorflowGPU/lib/python3.7/site-packages/matplotlib/mpl-data/stylelib/_classic_test.mplstyle: \n",
      "The mathtext.fallback_to_cm rcparam was deprecated in Matplotlib 3.3 and will be removed two minor releases later.\n",
      "In /home/sancere/anaconda3/envs/tensorflowGPU/lib/python3.7/site-packages/matplotlib/mpl-data/stylelib/_classic_test.mplstyle: Support for setting the 'mathtext.fallback_to_cm' rcParam is deprecated since 3.3 and will be removed two minor releases later; use 'mathtext.fallback : 'cm' instead.\n",
      "In /home/sancere/anaconda3/envs/tensorflowGPU/lib/python3.7/site-packages/matplotlib/mpl-data/stylelib/_classic_test.mplstyle: \n",
      "The validate_bool_maybe_none function was deprecated in Matplotlib 3.3 and will be removed two minor releases later.\n",
      "In /home/sancere/anaconda3/envs/tensorflowGPU/lib/python3.7/site-packages/matplotlib/mpl-data/stylelib/_classic_test.mplstyle: \n",
      "The savefig.jpeg_quality rcparam was deprecated in Matplotlib 3.3 and will be removed two minor releases later.\n",
      "In /home/sancere/anaconda3/envs/tensorflowGPU/lib/python3.7/site-packages/matplotlib/mpl-data/stylelib/_classic_test.mplstyle: \n",
      "The keymap.all_axes rcparam was deprecated in Matplotlib 3.3 and will be removed two minor releases later.\n",
      "In /home/sancere/anaconda3/envs/tensorflowGPU/lib/python3.7/site-packages/matplotlib/mpl-data/stylelib/_classic_test.mplstyle: \n",
      "The animation.avconv_path rcparam was deprecated in Matplotlib 3.3 and will be removed two minor releases later.\n",
      "In /home/sancere/anaconda3/envs/tensorflowGPU/lib/python3.7/site-packages/matplotlib/mpl-data/stylelib/_classic_test.mplstyle: \n",
      "The animation.avconv_args rcparam was deprecated in Matplotlib 3.3 and will be removed two minor releases later.\n"
     ]
    }
   ],
   "source": [
    "import numpy as np\n",
    "from tifffile import imread \n",
    "import sys\n",
    "import os\n",
    "import cv2\n",
    "import glob\n",
    "from tqdm import tqdm\n",
    "\n",
    "import pandas as pd\n",
    "sys.path.append(\"../NEAT\")\n",
    "from NEATUtils import MovieCreator\n",
    "from NEATUtils.helpers import save_json, load_json\n",
    "from NEATModels.TrainConfig import TrainConfig\n",
    "from pathlib import Path"
   ]
  },
  {
   "cell_type": "code",
   "execution_count": 2,
   "id": "ae179598",
   "metadata": {},
   "outputs": [],
   "source": [
    "#Specify the directory containing images\n",
    "image_dir = '/home/sancere/VKepler/CurieTrainingDatasets/oneatimages/bin2/'\n",
    "#Specify the directory contaiing csv files\n",
    "csv_dir = '/home/sancere/VKepler/CurieTrainingDatasets/oneatcsv/divisiondiamondclassic/'\n",
    "#Specify the directory containing the segmentations\n",
    "seg_image_dir = '/home/sancere/VKepler/CurieTrainingDatasets/oneatimages/bin2/segmentation/'\n",
    "#Specify the model directory where we store the json of categories, training model and parameters\n",
    "model_dir = '/home/sancere/VKepler/CurieDeepLearningModels/OneatModels/'\n",
    "#Directory for storing center ONEAT training data for static classes\n",
    "save_dir = '/home/sancere/VKepler/CurieTrainingDatasets/ThreeFramediamondclassic/'\n",
    "Path(model_dir).mkdir(exist_ok = True)\n",
    "Path(save_dir).mkdir(exist_ok = True)"
   ]
  },
  {
   "cell_type": "code",
   "execution_count": 3,
   "id": "a7259685",
   "metadata": {},
   "outputs": [],
   "source": [
    "#Name of the static events\n",
    "event_type_name = [\"Normal\",\"Division\"]\n",
    "#Label corresponding to static event\n",
    "event_type_label = [0, 1]\n",
    "\n",
    "#The name appended before the CSV files\n",
    "csv_name_diff = 'ONEAT'\n",
    "#with xythw and class terms only\n",
    "yolo_v0 = False\n",
    "size_tminus = 2\n",
    "size_tplus = 0\n",
    "tshift = 1\n",
    "trainshapeX = 64\n",
    "trainshapeY = 64\n",
    "axes= 'STXYC'\n",
    "npz_name = 'microthreediamondclassicnet'\n",
    "npz_val_name = 'microthreediamondclassicnetval'\n",
    "crop_size = [trainshapeX,trainshapeY,size_tminus,size_tplus]"
   ]
  },
  {
   "cell_type": "code",
   "execution_count": 4,
   "id": "a7b54775",
   "metadata": {},
   "outputs": [],
   "source": [
    "#X Y T dynamic events\n",
    "\n",
    "\n",
    "\n",
    "\n",
    "event_position_name = [\"x\", \"y\", \"t\", \"h\", \"w\", \"c\"]\n",
    "event_position_label = [0, 1, 2, 3, 4, 5]\n",
    "\n",
    "dynamic_config = TrainConfig(event_type_name, event_type_label, event_position_name, event_position_label)\n",
    "\n",
    "dynamic_json, dynamic_cord_json = dynamic_config.to_json()\n",
    "\n",
    "save_json(dynamic_json, model_dir + \"MicroscopeCategories\" + '.json')\n",
    "\n",
    "save_json(dynamic_cord_json, model_dir + \"MicroscopeCord\" + '.json')        "
   ]
  },
  {
   "cell_type": "code",
   "execution_count": null,
   "id": "51cab07f",
   "metadata": {},
   "outputs": [
    {
     "name": "stdout",
     "output_type": "stream",
     "text": [
      "ONEATTimelapseBIG5Normal\n",
      "ONEATTimelapseBIG5Division\n",
      "ONEATTimelapseBIG1Division\n",
      "ONEATTimelapseBIG1Normal\n",
      "ONEATDIAP_mov5Normal\n",
      "ONEATDIAP_mov5Division\n",
      "ONEATEventMovieDivision\n"
     ]
    }
   ],
   "source": [
    "MovieCreator.MovieLabelDataSet(image_dir, seg_image_dir, csv_dir, save_dir, event_type_name, event_type_label, csv_name_diff,crop_size, tshift = tshift)\n"
   ]
  },
  {
   "cell_type": "code",
   "execution_count": null,
   "id": "9da28c4a",
   "metadata": {},
   "outputs": [],
   "source": [
    "MovieCreator.createNPZ(save_dir, axes = 'STXYC', save_name = npz_name, save_name_val = npz_val_name)"
   ]
  },
  {
   "cell_type": "code",
   "execution_count": null,
   "id": "8581c620",
   "metadata": {},
   "outputs": [],
   "source": []
  }
 ],
 "metadata": {
  "kernelspec": {
   "display_name": "Python [conda env:tensorflowGPU] *",
   "language": "python",
   "name": "conda-env-tensorflowGPU-py"
  },
  "language_info": {
   "codemirror_mode": {
    "name": "ipython",
    "version": 3
   },
   "file_extension": ".py",
   "mimetype": "text/x-python",
   "name": "python",
   "nbconvert_exporter": "python",
   "pygments_lexer": "ipython3",
   "version": "3.7.10"
  }
 },
 "nbformat": 4,
 "nbformat_minor": 5
}
