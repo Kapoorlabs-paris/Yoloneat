{
 "cells": [
  {
   "cell_type": "code",
   "execution_count": null,
   "metadata": {},
   "outputs": [],
   "source": [
    "import numpy as np\n",
    "from tifffile import imread \n",
    "import sys\n",
    "import os\n",
    "import cv2\n",
    "import glob\n",
    "from tqdm import tqdm\n",
    "import pandas as pd\n",
    "sys.path.append(\"../NEAT\")\n",
    "from NEATUtils import MovieCreator\n",
    "from NEATUtils.helpers import save_json, load_json\n",
    "from NEATModels.TrainConfig import TrainConfig\n",
    "from pathlib import Path\n"
   ]
  },
  {
   "cell_type": "code",
   "execution_count": null,
   "metadata": {},
   "outputs": [],
   "source": [
    "#Specify the directory containing images\n",
    "image_dir = 'Raw_images/'\n",
    "#Specify the directory contaiing csv files\n",
    "csv_dir = 'Csv_locations/'\n",
    "#Specify the model directory where we store the json of categories, training model and parameters\n",
    "model_dir = 'oneat_models/'\n",
    "#Directory for storing center ONEAT training data \n",
    "save_dir = 'npz_directory/'\n",
    "Path(model_dir).mkdir(exist_ok = True)\n",
    "Path(save_dir).mkdir(exist_ok = True)"
   ]
  },
  {
   "cell_type": "code",
   "execution_count": null,
   "metadata": {},
   "outputs": [],
   "source": [
    "#Name of the focus events\n",
    "foc_type_name = [\"Totaloff\",\"BestCad\", \"BestNuclei\"]\n",
    "#Label corresponding to static event\n",
    "foc_type_label = [0, 1, 2]\n",
    "\n",
    "#The name appended before the CSV files\n",
    "csv_name_diff = 'ONEAT'\n",
    "yolo_v0 = False\n",
    "npz_name = 'Focalplanedetector'\n",
    "npz_val_name = 'Focalplanedetectorval'\n",
    "size_tminus = 1\n",
    "size_tplus = 1\n",
    "trainshapeX = 128\n",
    "trainshapeY = 128\n",
    "normPatch = True"
   ]
  },
  {
   "cell_type": "code",
   "execution_count": null,
   "metadata": {},
   "outputs": [],
   "source": [
    "\n",
    "crop_size = [trainshapeX,trainshapeY,size_tminus,size_tplus]\n",
    "\n",
    "#Vectors attached to each static event\n",
    "foc_position_name = [\"x\", \"y\", \"z\", \"h\", \"w\", \"c\"]\n",
    "foc_position_label = [0, 1, 2, 3, 4, 5]"
   ]
  },
  {
   "cell_type": "code",
   "execution_count": null,
   "metadata": {},
   "outputs": [],
   "source": [
    "focus_config = TrainConfig(foc_type_name, foc_type_label, foc_position_name, foc_position_label)\n",
    "\n",
    "focus_json, focus_cord_json = focus_config.to_json()\n",
    "\n",
    "save_json(focus_json, model_dir + \"Focalplanecategories\" + '.json')\n",
    "\n",
    "save_json(focus_cord_json, model_dir + \"Focalplanecord\" + '.json')\n"
   ]
  },
  {
   "cell_type": "markdown",
   "metadata": {},
   "source": [
    "# For center ONEAT, event is exactly in the center for all training examples"
   ]
  },
  {
   "cell_type": "code",
   "execution_count": null,
   "metadata": {
    "scrolled": false
   },
   "outputs": [],
   "source": [
    "MovieCreator.SegFreeMovieLabelDataSet(image_dir, csv_dir, save_dir, foc_type_name, foc_type_label, csv_name_diff,crop_size, normPatch)\n",
    "\n"
   ]
  },
  {
   "cell_type": "code",
   "execution_count": null,
   "metadata": {},
   "outputs": [],
   "source": [
    "MovieCreator.createNPZ(save_dir, axes = 'SZYXC', save_name = npz_name, save_name_val = npz_val_name)"
   ]
  }
 ],
 "metadata": {
  "kernelspec": {
   "display_name": "Python [conda env:tensorflowGPU] *",
   "language": "python",
   "name": "conda-env-tensorflowGPU-py"
  },
  "language_info": {
   "codemirror_mode": {
    "name": "ipython",
    "version": 3
   },
   "file_extension": ".py",
   "mimetype": "text/x-python",
   "name": "python",
   "nbconvert_exporter": "python",
   "pygments_lexer": "ipython3",
   "version": "3.8.5"
  }
 },
 "nbformat": 4,
 "nbformat_minor": 4
}
