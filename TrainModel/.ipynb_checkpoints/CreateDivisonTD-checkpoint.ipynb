{
 "cells": [
  {
   "cell_type": "code",
   "execution_count": 1,
   "id": "9daf1709",
   "metadata": {},
   "outputs": [
    {
     "name": "stderr",
     "output_type": "stream",
     "text": [
      "Using TensorFlow backend.\n"
     ]
    }
   ],
   "source": [
    "import numpy as np\n",
    "from tifffile import imread \n",
    "import sys\n",
    "import os\n",
    "import cv2\n",
    "import glob\n",
    "from tqdm import tqdm\n",
    "import pandas as pd\n",
    "sys.path.append(\"../NEAT\")\n",
    "from NEATUtils import MovieCreator\n",
    "from NEATUtils.helpers import save_json, load_json\n",
    "from NEATModels.TrainConfig import TrainConfig\n",
    "from pathlib import Path"
   ]
  },
  {
   "cell_type": "code",
   "execution_count": 2,
   "id": "02526f60",
   "metadata": {},
   "outputs": [],
   "source": [
    "#Specify the directory containing images\n",
    "image_dir = '/home/sancere/VKepler/CurieTrainingDatasets/oneatimages/bin2/'\n",
    "#Specify the directory contaiing csv files\n",
    "csv_dir = '/home/sancere/VKepler/CurieTrainingDatasets/oneatcsv/divisionbin2V1/'\n",
    "#Specify the directory containing the segmentations\n",
    "seg_image_dir = '/home/sancere/VKepler/CurieTrainingDatasets/oneatimages/bin2/segmentation/'\n",
    "#Specify the model directory where we store the json of categories, training model and parameters\n",
    "model_dir = '/home/sancere/VKepler/CurieDeepLearningModels/OneatModels/Binning2V1Models/'\n",
    "#Directory for storing center ONEAT training data for static classes\n",
    "save_dir = '/home/sancere/VKepler/FinalONEATTraining/NewNewBinning2V1data/'\n",
    "Path(model_dir).mkdir(exist_ok = True)\n",
    "Path(save_dir).mkdir(exist_ok = True)"
   ]
  },
  {
   "cell_type": "code",
   "execution_count": 3,
   "id": "80b34b63",
   "metadata": {},
   "outputs": [],
   "source": [
    "#Name of the static events\n",
    "event_type_name = [\"Normal\", \"Division\"]\n",
    "#Label corresponding to static event\n",
    "event_type_label = [0, 1]\n",
    "\n",
    "#The name appended before the CSV files\n",
    "csv_name_diff = 'ONEAT'\n",
    "#with xythw and class terms only\n",
    "yolo_v0 = False\n",
    "#with confidence term\n",
    "yolo_v1 = True\n",
    "#with angle term\n",
    "yolo_v2 = False\n",
    "axes= 'STXYC'\n",
    "npz_name = 'divisiondetectionbin2m4'\n",
    "npz_val_name = 'divisiondetectionbin2m4val'"
   ]
  },
  {
   "cell_type": "code",
   "execution_count": 4,
   "id": "a27afefb",
   "metadata": {},
   "outputs": [],
   "source": [
    "#X Y T dynamic events\n",
    "size_tminus = 4\n",
    "size_tplus = 5\n",
    "crop_size = [96,96,size_tminus,size_tplus]\n",
    "offset = 0\n",
    "#Vectors attached to each static event\n",
    "if yolo_v0:\n",
    "        event_position_name = [\"x\", \"y\", \"t\", \"h\", \"w\"]\n",
    "        event_position_label = [0, 1, 2, 3, 4]\n",
    "if yolo_v1:\n",
    "        event_position_name = [\"x\", \"y\", \"t\", \"h\", \"w\", \"c\"]\n",
    "        event_position_label = [0, 1, 2, 3, 4, 5]\n",
    "if yolo_v2:\n",
    "        event_position_name = [\"x\", \"y\", \"t\", \"h\", \"w\",  \"c\", \"angle\"]\n",
    "        event_position_label = [0, 1, 2, 3, 4, 5, 6]\n",
    "        \n",
    "dynamic_config = TrainConfig(event_type_name, event_type_label, event_position_name, event_position_label)\n",
    "\n",
    "dynamic_json, dynamic_cord_json = dynamic_config.to_json()\n",
    "\n",
    "save_json(dynamic_json, model_dir + \"DivisionCategories\" + '.json')\n",
    "\n",
    "save_json(dynamic_cord_json, model_dir + \"DivisionCord\" + '.json')        "
   ]
  },
  {
   "cell_type": "code",
   "execution_count": null,
   "id": "6dade1d3",
   "metadata": {},
   "outputs": [
    {
     "name": "stdout",
     "output_type": "stream",
     "text": [
      "ONEATTimelapseBIG5Normal\n",
      "ONEATTimelapseBIG5Division\n",
      "ONEATTimelapseBIG1Division\n",
      "ONEATTimelapseBIG1Normal\n",
      "ONEATDIAP_mov5Normal\n",
      "ONEATDIAP_mov5Division\n",
      "ONEATEventMovieDivision\n"
     ]
    }
   ],
   "source": [
    "MovieCreator.MovieLabelDataSet(image_dir, seg_image_dir, csv_dir, save_dir, event_type_name, event_type_label, csv_name_diff,crop_size,offset = offset, yolo_v0 = yolo_v0, yolo_v1 = yolo_v1, yolo_v2 = yolo_v2)\n"
   ]
  },
  {
   "cell_type": "code",
   "execution_count": null,
   "id": "c437414f",
   "metadata": {},
   "outputs": [],
   "source": [
    "MovieCreator.createNPZ(save_dir, axes = 'STXYC', save_name = npz_name, save_name_val = npz_val_name)"
   ]
  },
  {
   "cell_type": "code",
   "execution_count": null,
   "id": "5c02f4c6",
   "metadata": {},
   "outputs": [],
   "source": []
  }
 ],
 "metadata": {
  "kernelspec": {
   "display_name": "Python [conda env:tensorflowGPU] *",
   "language": "python",
   "name": "conda-env-tensorflowGPU-py"
  },
  "language_info": {
   "codemirror_mode": {
    "name": "ipython",
    "version": 3
   },
   "file_extension": ".py",
   "mimetype": "text/x-python",
   "name": "python",
   "nbconvert_exporter": "python",
   "pygments_lexer": "ipython3",
   "version": "3.7.10"
  }
 },
 "nbformat": 4,
 "nbformat_minor": 5
}
