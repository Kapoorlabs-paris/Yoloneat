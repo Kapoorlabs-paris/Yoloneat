{
 "cells": [
  {
   "cell_type": "code",
   "execution_count": null,
   "id": "15392b8c",
   "metadata": {},
   "outputs": [],
   "source": [
    "import numpy as np\n",
    "from tifffile import imread \n",
    "import sys\n",
    "import os\n",
    "import cv2\n",
    "import glob\n",
    "from tqdm import tqdm\n",
    "import pandas as pd\n",
    "sys.path.append(\"../NEAT\")\n",
    "from NEATUtils import MovieCreator\n",
    "from NEATUtils.helpers import save_json, load_json\n",
    "from NEATModels.TrainConfig import TrainConfig\n",
    "from pathlib import Path"
   ]
  },
  {
   "cell_type": "code",
   "execution_count": null,
   "id": "e1bcf2d0",
   "metadata": {},
   "outputs": [],
   "source": [
    "#Specify the directory containing images\n",
    "image_dir = '/home/sancere/Kepler/FinalONEATTraining/Bin2ONeatImages/'\n",
    "#Specify the directory contaiing csv files\n",
    "csv_dir = '/home/sancere/Kepler/FinalONEATTraining/Bin2ONeatdynamicCSV/'\n",
    "#Specify the directory containing the segmentations\n",
    "seg_image_dir = '/home/sancere/Kepler/FinalONEATTraining/Bin2ONeatSegImages/'\n",
    "#Specify the model directory where we store the json of categories, training model and parameters\n",
    "model_dir = '/home/sancere/Kepler/FinalONEATTraining/Bin2ONeatModelV0/'\n",
    "#Directory for storing center ONEAT training data for static classes\n",
    "save_dir = '/home/sancere/Kepler/FinalONEATTraining/MicroscopeBin2YoloneatV0/'\n",
    "Path(model_dir).mkdir(exist_ok = True)\n",
    "Path(save_dir).mkdir(exist_ok = True)"
   ]
  },
  {
   "cell_type": "code",
   "execution_count": null,
   "id": "c748ba9e",
   "metadata": {},
   "outputs": [],
   "source": [
    "#Name of the static events\n",
    "event_type_name = [\"Normal\", \"Apoptosis\", \"Division\"]\n",
    "#Label corresponding to static event\n",
    "event_type_label = [0, 1, 2]\n",
    "\n",
    "#The name appended before the CSV files\n",
    "csv_name_diff = 'ONEAT'\n",
    "#with xythw and class terms only\n",
    "yolo_v0 = True\n",
    "\n",
    "axes= 'STXYC'\n",
    "npz_name = 'MicroscopeS54bin2V0'\n",
    "npz_val_name = 'MicroscopeS54bin2V0Val'"
   ]
  },
  {
   "cell_type": "code",
   "execution_count": null,
   "id": "c9f4b367",
   "metadata": {},
   "outputs": [],
   "source": [
    "#X Y T dynamic events\n",
    "size_tminus = 3\n",
    "size_tplus = 0\n",
    "crop_size = [54,54,size_tminus,size_tplus]\n",
    "\n",
    "#Vectors attached to each static event\n",
    "if yolo_v0:\n",
    "        event_position_name = [\"x\", \"y\", \"t\", \"h\", \"w\", \"imagex\", \"imagey\", \"size_tminus\", \"size_tplus\"]\n",
    "        event_position_label = [0, 1, 2, 3, 4, crop_size[0], crop_size[1], crop_size[2], crop_size[3]]\n",
    "if yolo_v1:\n",
    "        event_position_name = [\"x\", \"y\", \"t\", \"h\", \"w\", \"imagex\", \"imagey\", \"size_tminus\", \"size_tplus\", \"c\"]\n",
    "        event_position_label = [0, 1, 2, 3, 4, crop_size[0], crop_size[1], crop_size[2], crop_size[3], 5]\n",
    "if yolo_v2:\n",
    "        event_position_name = [\"x\", \"y\", \"t\", \"h\", \"w\", \"imagex\", \"imagey\", \"size_tminus\", \"size_tplus\", \"c\", \"angle\"]\n",
    "        event_position_label = [0, 1, 2, 3, 4, crop_size[0], crop_size[1], crop_size[2], crop_size[3], 5, 6]\n",
    "dynamic_config = TrainConfig(event_type_name, event_type_label, event_position_name, event_position_label)\n",
    "\n",
    "dynamic_json, dynamic_cord_json = dynamic_config.to_json()\n",
    "\n",
    "save_json(dynamic_json, model_dir + \"MicroscopeCategories\" + '.json')\n",
    "\n",
    "save_json(dynamic_cord_json, ModelDir + \"MicroscopeCord\" + '.json')        "
   ]
  },
  {
   "cell_type": "code",
   "execution_count": null,
   "id": "940983e3",
   "metadata": {},
   "outputs": [],
   "source": [
    "MovieCreator.MovieLabelDataSet(image_dir, seg_image_dir, csv_dir, save_dir, event_type_name, event_type_label, csv_name_diff,crop_size, yolo_v0 = True, yolo_v1 = False, yolo_v2 = False)\n"
   ]
  },
  {
   "cell_type": "code",
   "execution_count": null,
   "id": "ba5f3a93",
   "metadata": {},
   "outputs": [],
   "source": [
    "MovieCreator.createNPZ(save_dir, axes = 'STXYC', save_name = npz_name, save_name_val = npz_val_name)"
   ]
  }
 ],
 "metadata": {
  "kernelspec": {
   "display_name": "Python 3",
   "language": "python",
   "name": "python3"
  },
  "language_info": {
   "codemirror_mode": {
    "name": "ipython",
    "version": 3
   },
   "file_extension": ".py",
   "mimetype": "text/x-python",
   "name": "python",
   "nbconvert_exporter": "python",
   "pygments_lexer": "ipython3",
   "version": "3.6.13"
  }
 },
 "nbformat": 4,
 "nbformat_minor": 5
}
