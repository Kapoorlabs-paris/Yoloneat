{
 "cells": [
  {
   "cell_type": "code",
   "execution_count": 1,
   "metadata": {},
   "outputs": [
    {
     "name": "stderr",
     "output_type": "stream",
     "text": [
      "Using TensorFlow backend.\n"
     ]
    }
   ],
   "source": [
    "import numpy as np\n",
    "from tifffile import imread \n",
    "import sys\n",
    "import os\n",
    "import cv2\n",
    "import glob\n",
    "from tqdm import tqdm\n",
    "import pandas as pd\n",
    "sys.path.append(\"../NEAT\")\n",
    "from NEATUtils import MovieCreator\n",
    "from NEATUtils.helpers import save_json, load_json\n",
    "from NEATModels.TrainConfig import TrainConfig\n",
    "from pathlib import Path\n"
   ]
  },
  {
   "cell_type": "code",
   "execution_count": 2,
   "metadata": {},
   "outputs": [],
   "source": [
    "#Specify the directory containing images\n",
    "ImageDir = '/data/u934/service_imagerie/v_kapoor/FinalONEATTraining/Bin2ONeatImages/'\n",
    "#Specify the directory contaiing csv files\n",
    "CSVDir = '/data/u934/service_imagerie/v_kapoor/FinalONEATTraining/Bin2ONeatCSV/'\n",
    "#Specify the directory containing the segmentations\n",
    "SegImageDir = '/data/u934/service_imagerie/v_kapoor/FinalONEATTraining/Bin2ONeatSegImages/'\n",
    "#Specify the model directory where we store the json of categories, training model and parameters\n",
    "ModelDir = '/data/u934/service_imagerie/v_kapoor/FinalONEATTraining/Bin2ONeatModel/'\n",
    "#Directory for storing center ONEAT training data for static classes\n",
    "SaveDir = '/data/u934/service_imagerie/v_kapoor/FinalONEATTraining/Bin2ONeatTrainingData/'\n",
    "Path(ModelDir).mkdir(exist_ok = True)\n"
   ]
  },
  {
   "cell_type": "code",
   "execution_count": 3,
   "metadata": {},
   "outputs": [],
   "source": [
    "#Name of the static events\n",
    "StaticName = [\"Normal\", \"MacroCheate\", \"NonMatureP1\", \"MatureP1\"]\n",
    "#Label corresponding to static event\n",
    "StaticLabel = [0, 1, 2, 3]\n",
    "\n",
    "#The name appended before the CSV files\n",
    "CSVNameDiff = 'ONEAT'\n",
    "yoloV0 = True"
   ]
  },
  {
   "cell_type": "code",
   "execution_count": 4,
   "metadata": {},
   "outputs": [],
   "source": [
    "#X Y static events\n",
    "crop_size = [64,64]\n",
    "\n",
    "#Vectors attached to each static event\n",
    "StaticCoordinateName = [\"X\", \"Y\", \"H\", \"W\", \"C\"]\n",
    "StaticCoordinateLabel = [0, 1, 2, 3, 4]\n",
    "\n",
    "offset = 10"
   ]
  },
  {
   "cell_type": "code",
   "execution_count": 5,
   "metadata": {},
   "outputs": [],
   "source": [
    "\n",
    "\n",
    "StaticConfig = TrainConfig(StaticName, StaticLabel, StaticCoordinateName, StaticCoordinateLabel)\n",
    "\n",
    "Static_json, Static_Cord_json = StaticConfig.to_json()\n",
    "save_json(Static_json, ModelDir + \"StaticCategories\" + '.json')\n",
    "\n",
    "save_json(Static_Cord_json, ModelDir + \"StaticCord\" + '.json')\n"
   ]
  },
  {
   "cell_type": "markdown",
   "metadata": {},
   "source": [
    "# For center ONEAT, event is exactly in the center for all training examples"
   ]
  },
  {
   "cell_type": "code",
   "execution_count": 6,
   "metadata": {
    "scrolled": false
   },
   "outputs": [
    {
     "name": "stdout",
     "output_type": "stream",
     "text": [
      "/data/u934/service_imagerie/v_kapoor/FinalONEATTraining/Bin2ONeatCSV/ONEATDIAP_mov5Normal.csv\n",
      "/data/u934/service_imagerie/v_kapoor/FinalONEATTraining/Bin2ONeatCSV/ONEATFlo_pupe2_mutant_s5_s6_s7_s8_movNormal.csv\n",
      "/data/u934/service_imagerie/v_kapoor/FinalONEATTraining/Bin2ONeatCSV/ONEATwt_mov11_starwat_v2.3.1_3frames_correctedMatureP1.csv\n",
      "/data/u934/service_imagerie/v_kapoor/FinalONEATTraining/Bin2ONeatCSV/ONEATFlo_pupe1_s1_s2_s3_s4_movNonMatureP1.csv\n",
      "/data/u934/service_imagerie/v_kapoor/FinalONEATTraining/Bin2ONeatCSV/ONEATFlo_pupe2_mutant_s5_s6_s7_s8_movMatureP1.csv\n",
      "/data/u934/service_imagerie/v_kapoor/FinalONEATTraining/Bin2ONeatCSV/ONEATFlo_pupe2_mutant_s5_s6_s7_s8_movNonMatureP1.csv\n",
      "/data/u934/service_imagerie/v_kapoor/FinalONEATTraining/Bin2ONeatCSV/ONEATDIAP_mov5MacroCheate.csv\n",
      "/data/u934/service_imagerie/v_kapoor/FinalONEATTraining/Bin2ONeatCSV/ONEATFlo_pupe1_s1_s2_s3_s4_movMatureP1.csv\n",
      "/data/u934/service_imagerie/v_kapoor/FinalONEATTraining/Bin2ONeatCSV/ONEATDIAP_mov5MatureP1.csv\n",
      "/data/u934/service_imagerie/v_kapoor/FinalONEATTraining/Bin2ONeatCSV/ONEATwt_mov11_starwat_v2.3.1_3frames_correctedNonMatureP1.csv\n",
      "/data/u934/service_imagerie/v_kapoor/FinalONEATTraining/Bin2ONeatCSV/ONEATFlo_pupe2_mutant_s5_s6_s7_s8_movMacroCheate.csv\n",
      "/data/u934/service_imagerie/v_kapoor/FinalONEATTraining/Bin2ONeatCSV/ONEATwt_mov11_starwat_v2.3.1_3frames_correctedMacroCheate.csv\n",
      "/data/u934/service_imagerie/v_kapoor/FinalONEATTraining/Bin2ONeatCSV/ONEATFlo_pupe1_s1_s2_s3_s4_movMacroCheate.csv\n",
      "/data/u934/service_imagerie/v_kapoor/FinalONEATTraining/Bin2ONeatCSV/ONEATFlo_pupe1_s1_s2_s3_s4_movNormal.csv\n"
     ]
    }
   ],
   "source": [
    "MovieCreator.ImageLabelDataSet(ImageDir, SegImageDir, CSVDir,SaveDir, StaticName, StaticLabel, CSVNameDiff,crop_size, offset = offset, yoloV0 = yoloV0)\n",
    "\n"
   ]
  },
  {
   "cell_type": "code",
   "execution_count": null,
   "metadata": {},
   "outputs": [],
   "source": []
  }
 ],
 "metadata": {
  "kernelspec": {
   "display_name": "Python 3",
   "language": "python",
   "name": "python3"
  },
  "language_info": {
   "codemirror_mode": {
    "name": "ipython",
    "version": 3
   },
   "file_extension": ".py",
   "mimetype": "text/x-python",
   "name": "python",
   "nbconvert_exporter": "python",
   "pygments_lexer": "ipython3",
   "version": "3.7.2"
  }
 },
 "nbformat": 4,
 "nbformat_minor": 4
}
