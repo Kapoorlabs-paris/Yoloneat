{
 "cells": [
  {
   "cell_type": "code",
   "execution_count": 1,
   "metadata": {},
   "outputs": [
    {
     "name": "stderr",
     "output_type": "stream",
     "text": [
      "Using TensorFlow backend.\n"
     ]
    }
   ],
   "source": [
    "import sys\n",
    "import os\n",
    "from glob import glob\n",
    "sys.path.append(\"../NEAT\")\n",
    "from NEATModels import NEATStatic, nets\n",
    "from NEATModels.Staticconfig  import static_config\n",
    "from NEATUtils import helpers\n",
    "from NEATUtils.helpers import save_json, load_json\n",
    "os.environ[\"CUDA_VISIBLE_DEVICES\"]=\"2\"\n",
    "os.environ[\"HDF5_USE_FILE_LOCKING\"] = \"FALSE\""
   ]
  },
  {
   "cell_type": "code",
   "execution_count": 2,
   "metadata": {},
   "outputs": [],
   "source": [
    "npz_directory = '/home/sancere/Kepler/Incucyte/data/'\n",
    "npz_name = 'Incucyte128.npz'\n",
    "npz_val_name = 'Incucyte128Val.npz'\n",
    "\n",
    "\n",
    "model_dir = '/home/sancere/Kepler/Incucyte/model/'\n",
    "#Model name based on wether it is residual or sequntial ONEAT network\n",
    "model_name = 'incucyteseqnet.h5'\n"
   ]
  },
  {
   "cell_type": "code",
   "execution_count": 3,
   "metadata": {},
   "outputs": [],
   "source": [
    "static_categories_json = model_dir + 'StaticCategories.json'\n",
    "key_categories = load_json(static_categories_json)\n",
    "static_cord_json = model_dir + 'StaticCord.json'\n",
    "key_cord = load_json(static_cord_json)\n",
    "\n",
    "#For ORNET use residual = True and for OSNET use residual = False\n",
    "residual = False\n",
    "#NUmber of starting convolutional filters, is doubled down with increasing depth\n",
    "startfilter = 32\n",
    "#CNN network start layer, mid layers and lstm layer kernel size\n",
    "start_kernel = 3\n",
    "mid_kernel = 3\n",
    "#Network depth has to be 9n + 2, n= 3 or 4 is optimal for Notum dataset\n",
    "depth = 29\n",
    "#Size of the gradient descent length vector, start small and use callbacks to get smaller when reaching the minima\n",
    "learning_rate = 1.0E-6\n",
    "#For stochastic gradient decent, the batch size used for computing the gradients\n",
    "batch_size = 100\n",
    "# use softmax for single event per box, sigmoid for multi event per box\n",
    "multievent = False\n",
    "# Trainng image size\n",
    "yolo_v0 = True\n",
    "show = True\n",
    "#Training epochs, longer the better with proper chosen learning rate\n",
    "epochs = 250\n",
    "nboxes = 5\n",
    "#The inbuilt model stride which is equal to the nulber of times image was downsampled by the network\n",
    "stride = 4\n",
    "show = True\n",
    "imagex = 128\n",
    "imagey = 128"
   ]
  },
  {
   "cell_type": "code",
   "execution_count": 4,
   "metadata": {},
   "outputs": [
    {
     "name": "stdout",
     "output_type": "stream",
     "text": [
      "static_config(batch_size=100, box_vector=4, categories=2, depth=29, epochs=250, gridx=1, gridy=1, imagex=128, imagey=128, key_categories={'Normal': 0, 'Cells': 1}, key_cord={'x': 0, 'y': 1, 'h': 2, 'w': 3}, learning_rate=1e-06, mid_kernel=3, model_name='incucyteseqnet.h5', multievent=False, nboxes=5, npz_directory='/home/sancere/Kepler/Incucyte/data/', npz_name='Incucyte128.npz', npz_val_name='Incucyte128Val.npz', residual=False, show=True, start_kernel=3, startfilter=32, stride=(4,), yolo_v0=True)\n"
     ]
    }
   ],
   "source": [
    "config = static_config(npz_directory =npz_directory, npz_name = npz_name, npz_val_name = npz_val_name, \n",
    "                         key_categories = key_categories, key_cord = key_cord, stride = stride,\n",
    "                         residual = residual, depth = depth, start_kernel = start_kernel, mid_kernel = mid_kernel,\n",
    "                         startfiler = startfilter, nboxes = nboxes, gridx = 1, gridy = 1, show = show,\n",
    "                         epochs = epochs, learning_rate = learning_rate, imagex = imagex, imagey = imagey,\n",
    "                         batch_size = batch_size, model_name = model_name, yolo_v0 = yolo_v0, multievent = multievent)\n",
    "\n",
    "config_json = config.to_json()\n",
    "\n",
    "print(config)\n",
    "save_json(config_json, model_dir + os.path.splitext(model_name)[0] + '_Parameter.json')"
   ]
  },
  {
   "cell_type": "code",
   "execution_count": null,
   "metadata": {
    "scrolled": false
   },
   "outputs": [
    {
     "name": "stdout",
     "output_type": "stream",
     "text": [
      "number of  images:\t 1121\n",
      "image size (2D):\t\t (128, 128)\n",
      "axes:\t\t\t\t SXYC\n",
      "channels in / out:\t\t 1\n",
      "number of  images:\t 59\n",
      "image size (2D):\t\t (128, 128)\n",
      "axes:\t\t\t\t SXYC\n",
      "channels in / out:\t\t 1\n",
      "(1121, 1, 1, 22) 5\n",
      "Model: \"model_2\"\n",
      "__________________________________________________________________________________________________\n",
      "Layer (type)                    Output Shape         Param #     Connected to                     \n",
      "==================================================================================================\n",
      "input_2 (InputLayer)            (None, None, None, 1 0                                            \n",
      "__________________________________________________________________________________________________\n",
      "conv2d_13 (Conv2D)              (None, None, None, 3 320         input_2[0][0]                    \n",
      "__________________________________________________________________________________________________\n",
      "batch_normalization_11 (BatchNo (None, None, None, 3 128         conv2d_13[0][0]                  \n",
      "__________________________________________________________________________________________________\n",
      "activation_11 (Activation)      (None, None, None, 3 0           batch_normalization_11[0][0]     \n",
      "__________________________________________________________________________________________________\n",
      "conv2d_14 (Conv2D)              (None, None, None, 3 9248        activation_11[0][0]              \n",
      "__________________________________________________________________________________________________\n",
      "batch_normalization_12 (BatchNo (None, None, None, 3 128         conv2d_14[0][0]                  \n",
      "__________________________________________________________________________________________________\n",
      "activation_12 (Activation)      (None, None, None, 3 0           batch_normalization_12[0][0]     \n",
      "__________________________________________________________________________________________________\n",
      "conv2d_15 (Conv2D)              (None, None, None, 3 9248        activation_12[0][0]              \n",
      "__________________________________________________________________________________________________\n",
      "batch_normalization_13 (BatchNo (None, None, None, 3 128         conv2d_15[0][0]                  \n",
      "__________________________________________________________________________________________________\n",
      "activation_13 (Activation)      (None, None, None, 3 0           batch_normalization_13[0][0]     \n",
      "__________________________________________________________________________________________________\n",
      "conv2d_16 (Conv2D)              (None, None, None, 3 9248        activation_13[0][0]              \n",
      "__________________________________________________________________________________________________\n",
      "batch_normalization_14 (BatchNo (None, None, None, 3 128         conv2d_16[0][0]                  \n",
      "__________________________________________________________________________________________________\n",
      "activation_14 (Activation)      (None, None, None, 3 0           batch_normalization_14[0][0]     \n",
      "__________________________________________________________________________________________________\n",
      "conv2d_17 (Conv2D)              (None, None, None, 1 36992       activation_14[0][0]              \n",
      "__________________________________________________________________________________________________\n",
      "batch_normalization_15 (BatchNo (None, None, None, 1 512         conv2d_17[0][0]                  \n",
      "__________________________________________________________________________________________________\n",
      "activation_15 (Activation)      (None, None, None, 1 0           batch_normalization_15[0][0]     \n",
      "__________________________________________________________________________________________________\n",
      "conv2d_18 (Conv2D)              (None, None, None, 1 147584      activation_15[0][0]              \n",
      "__________________________________________________________________________________________________\n",
      "batch_normalization_16 (BatchNo (None, None, None, 1 512         conv2d_18[0][0]                  \n",
      "__________________________________________________________________________________________________\n",
      "activation_16 (Activation)      (None, None, None, 1 0           batch_normalization_16[0][0]     \n",
      "__________________________________________________________________________________________________\n",
      "conv2d_19 (Conv2D)              (None, None, None, 1 147584      activation_16[0][0]              \n",
      "__________________________________________________________________________________________________\n",
      "batch_normalization_17 (BatchNo (None, None, None, 1 512         conv2d_19[0][0]                  \n",
      "__________________________________________________________________________________________________\n",
      "activation_17 (Activation)      (None, None, None, 1 0           batch_normalization_17[0][0]     \n",
      "__________________________________________________________________________________________________\n",
      "conv2d_20 (Conv2D)              (None, None, None, 2 295168      activation_17[0][0]              \n",
      "__________________________________________________________________________________________________\n",
      "batch_normalization_18 (BatchNo (None, None, None, 2 1024        conv2d_20[0][0]                  \n",
      "__________________________________________________________________________________________________\n",
      "activation_18 (Activation)      (None, None, None, 2 0           batch_normalization_18[0][0]     \n",
      "__________________________________________________________________________________________________\n",
      "conv2d_21 (Conv2D)              (None, None, None, 2 590080      activation_18[0][0]              \n",
      "__________________________________________________________________________________________________\n",
      "batch_normalization_19 (BatchNo (None, None, None, 2 1024        conv2d_21[0][0]                  \n",
      "__________________________________________________________________________________________________\n",
      "activation_19 (Activation)      (None, None, None, 2 0           batch_normalization_19[0][0]     \n",
      "__________________________________________________________________________________________________\n",
      "conv2d_22 (Conv2D)              (None, None, None, 2 590080      activation_19[0][0]              \n",
      "__________________________________________________________________________________________________\n",
      "batch_normalization_20 (BatchNo (None, None, None, 2 1024        conv2d_22[0][0]                  \n",
      "__________________________________________________________________________________________________\n",
      "activation_20 (Activation)      (None, None, None, 2 0           batch_normalization_20[0][0]     \n",
      "__________________________________________________________________________________________________\n",
      "lambda_4 (Lambda)               (None, None, None, 2 0           activation_20[0][0]              \n",
      "__________________________________________________________________________________________________\n",
      "lambda_5 (Lambda)               (None, None, None, 2 0           activation_20[0][0]              \n",
      "__________________________________________________________________________________________________\n",
      "conv2d_23 (Conv2D)              (None, None, None, 2 4098        lambda_4[0][0]                   \n",
      "__________________________________________________________________________________________________\n",
      "conv2d_24 (Conv2D)              (None, None, None, 2 5201940     lambda_5[0][0]                   \n",
      "__________________________________________________________________________________________________\n",
      "Concat (Concat)                 [(None, None, None,  0           conv2d_23[0][0]                  \n",
      "                                                                 conv2d_24[0][0]                  \n",
      "==================================================================================================\n",
      "Total params: 7,046,710\n",
      "Trainable params: 7,044,150\n",
      "Non-trainable params: 2,560\n",
      "__________________________________________________________________________________________________\n",
      "WARNING:tensorflow:From /home/sancere/anaconda3/envs/tensorflowGPU/lib/python3.6/site-packages/tensorflow_core/python/ops/math_grad.py:1424: where (from tensorflow.python.ops.array_ops) is deprecated and will be removed in a future version.\n",
      "Instructions for updating:\n",
      "Use tf.where in 2.0, which has the same broadcast rule as np.where\n"
     ]
    },
    {
     "name": "stdout",
     "output_type": "stream",
     "text": [
      "WARNING:tensorflow:From /home/sancere/anaconda3/envs/tensorflowGPU/lib/python3.6/site-packages/keras/backend/tensorflow_backend.py:422: The name tf.global_variables is deprecated. Please use tf.compat.v1.global_variables instead.\n",
      "\n",
      "Train on 1121 samples, validate on 59 samples\n",
      "Epoch 1/250\n",
      " 800/1121 [====================>.........] - ETA: 36s - loss: 8.1718 - accuracy: 0.0362"
     ]
    }
   ],
   "source": [
    "static_model = NEATStatic(config, model_dir, model_name)\n",
    "\n",
    "static_model.loadData()\n",
    "\n",
    "static_model.TrainModel()\n"
   ]
  },
  {
   "cell_type": "code",
   "execution_count": null,
   "metadata": {},
   "outputs": [],
   "source": []
  },
  {
   "cell_type": "code",
   "execution_count": null,
   "metadata": {},
   "outputs": [],
   "source": []
  },
  {
   "cell_type": "code",
   "execution_count": null,
   "metadata": {},
   "outputs": [],
   "source": []
  }
 ],
 "metadata": {
  "kernelspec": {
   "display_name": "Python 3",
   "language": "python",
   "name": "python3"
  },
  "language_info": {
   "codemirror_mode": {
    "name": "ipython",
    "version": 3
   },
   "file_extension": ".py",
   "mimetype": "text/x-python",
   "name": "python",
   "nbconvert_exporter": "python",
   "pygments_lexer": "ipython3",
   "version": "3.6.10"
  },
  "toc": {
   "base_numbering": 1,
   "nav_menu": {},
   "number_sections": false,
   "sideBar": false,
   "skip_h1_title": false,
   "title_cell": "Table of Contents",
   "title_sidebar": "Contents",
   "toc_cell": false,
   "toc_position": {},
   "toc_section_display": false,
   "toc_window_display": false
  }
 },
 "nbformat": 4,
 "nbformat_minor": 4
}
