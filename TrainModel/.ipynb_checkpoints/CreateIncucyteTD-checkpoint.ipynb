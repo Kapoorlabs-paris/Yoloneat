{
 "cells": [
  {
   "cell_type": "code",
   "execution_count": 1,
   "metadata": {},
   "outputs": [
    {
     "name": "stderr",
     "output_type": "stream",
     "text": [
      "Using TensorFlow backend.\n"
     ]
    }
   ],
   "source": [
    "import numpy as np\n",
    "from tifffile import imread \n",
    "import sys\n",
    "import os\n",
    "import cv2\n",
    "import glob\n",
    "from tqdm import tqdm\n",
    "import pandas as pd\n",
    "sys.path.append(\"../NEAT\")\n",
    "from NEATUtils import MovieCreator\n",
    "from NEATUtils.helpers import save_json, load_json\n",
    "from NEATModels.TrainConfig import TrainConfig\n",
    "from pathlib import Path\n"
   ]
  },
  {
   "cell_type": "code",
   "execution_count": 2,
   "metadata": {},
   "outputs": [],
   "source": [
    "#Specify the directory containing images\n",
    "image_dir = '/home/sancere/Kepler/Incucyte/Images/'\n",
    "#Specify the directory contaiing csv files\n",
    "csv_dir = '/home/sancere/Kepler/Incucyte/CSV/'\n",
    "#Specify the model directory where we store the json of categories, training model and parameters\n",
    "model_dir = '/home/sancere/Kepler/Incucyte/model/'\n",
    "#Directory for storing center ONEAT training data for static classes\n",
    "save_dir = '/home/sancere/Kepler/Incucyte/data/'\n",
    "Path(model_dir).mkdir(exist_ok = True)\n",
    "Path(save_dir).mkdir(exist_ok = True)"
   ]
  },
  {
   "cell_type": "code",
   "execution_count": 3,
   "metadata": {},
   "outputs": [],
   "source": [
    "#Name of the static events\n",
    "cell_type_name = [\"Normal\", \"Cells\"]\n",
    "#Label corresponding to static event\n",
    "cell_type_label = [0, 1]\n",
    "\n",
    "#The name appended before the CSV files\n",
    "csv_name_diff = 'ONEAT'\n",
    "axes= 'SXYC'\n",
    "npz_name = 'Incucyte64'\n",
    "npz_val_name = 'Incucyte64Val'"
   ]
  },
  {
   "cell_type": "code",
   "execution_count": 15,
   "metadata": {},
   "outputs": [],
   "source": [
    "#X Y static events\n",
    "crop_size = [64,64]\n",
    "\n",
    "#Vectors attached to each static event\n",
    "cell_position_name = [\"x\", \"y\"]\n",
    "cell_position_label = [0, 1]\n",
    "\n",
    "\n",
    "offset = 10"
   ]
  },
  {
   "cell_type": "code",
   "execution_count": 16,
   "metadata": {},
   "outputs": [],
   "source": [
    "static_config = TrainConfig(cell_type_name, cell_type_label, cell_position_name, cell_position_label)\n",
    "\n",
    "static_json, static_cord_json = static_config.to_json()\n",
    "\n",
    "\n",
    "save_json(static_json, model_dir + \"StaticCategories\" + '.json')\n",
    "\n",
    "save_json(static_cord_json, model_dir + \"StaticCord\" + '.json')\n"
   ]
  },
  {
   "cell_type": "markdown",
   "metadata": {},
   "source": [
    "# For center ONEAT, event is exactly in the center for all training examples"
   ]
  },
  {
   "cell_type": "code",
   "execution_count": null,
   "metadata": {
    "scrolled": false
   },
   "outputs": [
    {
     "name": "stdout",
     "output_type": "stream",
     "text": [
      "/home/sancere/Kepler/Incucyte/CSV/ONEATA9_exp004Cells.csv\n"
     ]
    }
   ],
   "source": [
    "MovieCreator.SegFreeImageLabelDataSet(image_dir, csv_dir, save_dir, cell_type_name, cell_type_label, csv_name_diff,crop_size, offset = offset)\n",
    "\n"
   ]
  },
  {
   "cell_type": "code",
   "execution_count": 14,
   "metadata": {},
   "outputs": [
    {
     "name": "stderr",
     "output_type": "stream",
     "text": [
      "0it [00:00, ?it/s]"
     ]
    },
    {
     "name": "stdout",
     "output_type": "stream",
     "text": [
      "(0,) (0,)\n"
     ]
    },
    {
     "name": "stderr",
     "output_type": "stream",
     "text": [
      "\n"
     ]
    },
    {
     "ename": "ValueError",
     "evalue": "With n_samples=0, test_size=0.05 and train_size=0.95, the resulting train set will be empty. Adjust any of the aforementioned parameters.",
     "output_type": "error",
     "traceback": [
      "\u001b[0;31m---------------------------------------------------------------------------\u001b[0m",
      "\u001b[0;31mValueError\u001b[0m                                Traceback (most recent call last)",
      "\u001b[0;32m<ipython-input-14-73f49ba1d20e>\u001b[0m in \u001b[0;36m<module>\u001b[0;34m\u001b[0m\n\u001b[0;32m----> 1\u001b[0;31m \u001b[0mMovieCreator\u001b[0m\u001b[0;34m.\u001b[0m\u001b[0mcreateNPZ\u001b[0m\u001b[0;34m(\u001b[0m\u001b[0msave_dir\u001b[0m\u001b[0;34m,\u001b[0m \u001b[0maxes\u001b[0m \u001b[0;34m=\u001b[0m \u001b[0;34m'SXYC'\u001b[0m\u001b[0;34m,\u001b[0m \u001b[0msave_name\u001b[0m \u001b[0;34m=\u001b[0m \u001b[0mnpz_name\u001b[0m\u001b[0;34m,\u001b[0m \u001b[0msave_name_val\u001b[0m \u001b[0;34m=\u001b[0m \u001b[0mnpz_val_name\u001b[0m\u001b[0;34m,\u001b[0m \u001b[0mstatic\u001b[0m \u001b[0;34m=\u001b[0m \u001b[0;32mTrue\u001b[0m\u001b[0;34m)\u001b[0m\u001b[0;34m\u001b[0m\u001b[0m\n\u001b[0m",
      "\u001b[0;32m~/anaconda3/bin/Yoloneat/NEAT/NEATUtils/MovieCreator.py\u001b[0m in \u001b[0;36mcreateNPZ\u001b[0;34m(save_dir, axes, save_name, save_name_val, static)\u001b[0m\n\u001b[1;32m    335\u001b[0m             \u001b[0mlabelarr\u001b[0m \u001b[0;34m=\u001b[0m \u001b[0mnp\u001b[0m\u001b[0;34m.\u001b[0m\u001b[0masarray\u001b[0m\u001b[0;34m(\u001b[0m\u001b[0mlabel\u001b[0m\u001b[0;34m)\u001b[0m\u001b[0;34m\u001b[0m\u001b[0m\n\u001b[1;32m    336\u001b[0m             \u001b[0mprint\u001b[0m\u001b[0;34m(\u001b[0m\u001b[0mdataarr\u001b[0m\u001b[0;34m.\u001b[0m\u001b[0mshape\u001b[0m\u001b[0;34m,\u001b[0m \u001b[0mlabelarr\u001b[0m\u001b[0;34m.\u001b[0m\u001b[0mshape\u001b[0m\u001b[0;34m)\u001b[0m\u001b[0;34m\u001b[0m\u001b[0m\n\u001b[0;32m--> 337\u001b[0;31m             \u001b[0mtraindata\u001b[0m\u001b[0;34m,\u001b[0m \u001b[0mvaliddata\u001b[0m\u001b[0;34m,\u001b[0m \u001b[0mtrainlabel\u001b[0m\u001b[0;34m,\u001b[0m \u001b[0mvalidlabel\u001b[0m \u001b[0;34m=\u001b[0m \u001b[0mtrain_test_split\u001b[0m\u001b[0;34m(\u001b[0m\u001b[0mdataarr\u001b[0m\u001b[0;34m,\u001b[0m \u001b[0mlabelarr\u001b[0m\u001b[0;34m,\u001b[0m \u001b[0mtrain_size\u001b[0m\u001b[0;34m=\u001b[0m\u001b[0;36m0.95\u001b[0m\u001b[0;34m,\u001b[0m\u001b[0mtest_size\u001b[0m\u001b[0;34m=\u001b[0m\u001b[0;36m0.05\u001b[0m\u001b[0;34m,\u001b[0m \u001b[0mshuffle\u001b[0m\u001b[0;34m=\u001b[0m \u001b[0;32mTrue\u001b[0m\u001b[0;34m)\u001b[0m\u001b[0;34m\u001b[0m\u001b[0m\n\u001b[0m\u001b[1;32m    338\u001b[0m             \u001b[0msave_full_training_data\u001b[0m\u001b[0;34m(\u001b[0m\u001b[0msave_dir\u001b[0m\u001b[0;34m,\u001b[0m \u001b[0msave_name\u001b[0m\u001b[0;34m,\u001b[0m \u001b[0mtraindata\u001b[0m\u001b[0;34m,\u001b[0m \u001b[0mtrainlabel\u001b[0m\u001b[0;34m,\u001b[0m \u001b[0maxes\u001b[0m\u001b[0;34m)\u001b[0m\u001b[0;34m\u001b[0m\u001b[0m\n\u001b[1;32m    339\u001b[0m             \u001b[0msave_full_training_data\u001b[0m\u001b[0;34m(\u001b[0m\u001b[0msave_dir\u001b[0m\u001b[0;34m,\u001b[0m \u001b[0msave_name_val\u001b[0m\u001b[0;34m,\u001b[0m \u001b[0mvaliddata\u001b[0m\u001b[0;34m,\u001b[0m \u001b[0mvalidlabel\u001b[0m\u001b[0;34m,\u001b[0m \u001b[0maxes\u001b[0m\u001b[0;34m)\u001b[0m\u001b[0;34m\u001b[0m\u001b[0m\n",
      "\u001b[0;32m~/anaconda3/envs/tensorflowGPU/lib/python3.7/site-packages/sklearn/model_selection/_split.py\u001b[0m in \u001b[0;36mtrain_test_split\u001b[0;34m(test_size, train_size, random_state, shuffle, stratify, *arrays)\u001b[0m\n\u001b[1;32m   2174\u001b[0m     \u001b[0mn_samples\u001b[0m \u001b[0;34m=\u001b[0m \u001b[0m_num_samples\u001b[0m\u001b[0;34m(\u001b[0m\u001b[0marrays\u001b[0m\u001b[0;34m[\u001b[0m\u001b[0;36m0\u001b[0m\u001b[0;34m]\u001b[0m\u001b[0;34m)\u001b[0m\u001b[0;34m\u001b[0m\u001b[0m\n\u001b[1;32m   2175\u001b[0m     n_train, n_test = _validate_shuffle_split(n_samples, test_size, train_size,\n\u001b[0;32m-> 2176\u001b[0;31m                                               default_test_size=0.25)\n\u001b[0m\u001b[1;32m   2177\u001b[0m \u001b[0;34m\u001b[0m\u001b[0m\n\u001b[1;32m   2178\u001b[0m     \u001b[0;32mif\u001b[0m \u001b[0mshuffle\u001b[0m \u001b[0;32mis\u001b[0m \u001b[0;32mFalse\u001b[0m\u001b[0;34m:\u001b[0m\u001b[0;34m\u001b[0m\u001b[0m\n",
      "\u001b[0;32m~/anaconda3/envs/tensorflowGPU/lib/python3.7/site-packages/sklearn/model_selection/_split.py\u001b[0m in \u001b[0;36m_validate_shuffle_split\u001b[0;34m(n_samples, test_size, train_size, default_test_size)\u001b[0m\n\u001b[1;32m   1859\u001b[0m             \u001b[0;34m'resulting train set will be empty. Adjust any of the '\u001b[0m\u001b[0;34m\u001b[0m\u001b[0m\n\u001b[1;32m   1860\u001b[0m             'aforementioned parameters.'.format(n_samples, test_size,\n\u001b[0;32m-> 1861\u001b[0;31m                                                 train_size)\n\u001b[0m\u001b[1;32m   1862\u001b[0m         )\n\u001b[1;32m   1863\u001b[0m \u001b[0;34m\u001b[0m\u001b[0m\n",
      "\u001b[0;31mValueError\u001b[0m: With n_samples=0, test_size=0.05 and train_size=0.95, the resulting train set will be empty. Adjust any of the aforementioned parameters."
     ]
    }
   ],
   "source": [
    "MovieCreator.createNPZ(save_dir, axes = 'SXYC', save_name = npz_name, save_name_val = npz_val_name, static = True)"
   ]
  },
  {
   "cell_type": "code",
   "execution_count": null,
   "metadata": {},
   "outputs": [],
   "source": []
  },
  {
   "cell_type": "code",
   "execution_count": null,
   "metadata": {},
   "outputs": [],
   "source": []
  }
 ],
 "metadata": {
  "kernelspec": {
   "display_name": "Python 3",
   "language": "python",
   "name": "python3"
  },
  "language_info": {
   "codemirror_mode": {
    "name": "ipython",
    "version": 3
   },
   "file_extension": ".py",
   "mimetype": "text/x-python",
   "name": "python",
   "nbconvert_exporter": "python",
   "pygments_lexer": "ipython3",
   "version": "3.7.0"
  }
 },
 "nbformat": 4,
 "nbformat_minor": 4
}
