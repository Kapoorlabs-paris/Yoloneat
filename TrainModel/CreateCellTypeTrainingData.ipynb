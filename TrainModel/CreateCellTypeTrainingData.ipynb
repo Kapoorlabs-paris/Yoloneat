{
 "cells": [
  {
   "cell_type": "code",
   "execution_count": 1,
   "metadata": {},
   "outputs": [
    {
     "name": "stderr",
     "output_type": "stream",
     "text": [
      "Using TensorFlow backend.\n"
     ]
    }
   ],
   "source": [
    "import numpy as np\n",
    "from tifffile import imread \n",
    "import sys\n",
    "import os\n",
    "import cv2\n",
    "import glob\n",
    "from tqdm import tqdm\n",
    "import pandas as pd\n",
    "sys.path.append(\"../NEAT\")\n",
    "from NEATUtils import MovieCreator\n",
    "from NEATUtils.helpers import save_json, load_json\n",
    "from NEATModels.TrainConfig import TrainConfig\n",
    "from pathlib import Path\n"
   ]
  },
  {
   "cell_type": "code",
   "execution_count": 3,
   "metadata": {},
   "outputs": [],
   "source": [
    "#Specify the directory containing images\n",
    "image_dir = '/home/sancere/Kepler/FinalONEATTraining/Bin2ONeatImages/'\n",
    "#Specify the directory contaiing csv files\n",
    "csv_dir = '/home/sancere/Kepler/FinalONEATTraining/Bin2ONeatCSV/'\n",
    "#Specify the directory containing the segmentations\n",
    "seg_image_dir = '/home/sancere/Kepler/FinalONEATTraining/Bin2ONeatSegImages/'\n",
    "#Specify the model directory where we store the json of categories, training model and parameters\n",
    "model_dir = '/home/sancere/Kepler/FinalONEATTraining/Bin2ONeatModelV1/'\n",
    "#Directory for storing center ONEAT training data for static classes\n",
    "save_dir = '/home/sancere/Kepler/FinalONEATTraining/Bin2OYoloneatV1/'\n",
    "Path(model_dir).mkdir(exist_ok = True)\n",
    "Path(save_dir).mkdir(exist_ok = True)"
   ]
  },
  {
   "cell_type": "code",
   "execution_count": 4,
   "metadata": {},
   "outputs": [],
   "source": [
    "#Name of the static events\n",
    "cell_type_name = [\"Normal\", \"MacroCheate\", \"NonMatureP1\", \"MatureP1\"]\n",
    "#Label corresponding to static event\n",
    "cell_type_label = [0, 1, 2, 3]\n",
    "\n",
    "#The name appended before the CSV files\n",
    "csv_name_diff = 'ONEAT'\n",
    "yolo_v0 = False\n",
    "axes= 'SXYC'\n",
    "npz_name = 'S54bin2V1'\n",
    "npz_val_name = 'S54bin2V1Val'"
   ]
  },
  {
   "cell_type": "code",
   "execution_count": 5,
   "metadata": {},
   "outputs": [],
   "source": [
    "#X Y static events\n",
    "crop_size = [54,54]\n",
    "\n",
    "#Vectors attached to each static event\n",
    "if yolo_v0:\n",
    "        cell_position_name = [\"x\", \"y\", \"h\", \"w\"]\n",
    "        cell_position_label = [0, 1, 2, 3]\n",
    "else:\n",
    "    \n",
    "        cell_position_name = [\"x\", \"y\", \"h\", \"w\", \"c\"]\n",
    "        cell_position_label = [0, 1, 2, 3, 4]\n",
    "    \n",
    "\n",
    "offset = 10"
   ]
  },
  {
   "cell_type": "code",
   "execution_count": 6,
   "metadata": {},
   "outputs": [],
   "source": [
    "static_config = TrainConfig(cell_type_name, cell_type_label, cell_position_name, cell_position_label)\n",
    "\n",
    "static_json, static_cord_json = static_config.to_json()\n",
    "\n",
    "\n",
    "save_json(static_json, model_dir + \"StaticCategories\" + '.json')\n",
    "\n",
    "save_json(static_cord_json, model_dir + \"StaticCord\" + '.json')\n"
   ]
  },
  {
   "cell_type": "markdown",
   "metadata": {},
   "source": [
    "# For center ONEAT, event is exactly in the center for all training examples"
   ]
  },
  {
   "cell_type": "code",
   "execution_count": 6,
   "metadata": {
    "scrolled": false
   },
   "outputs": [
    {
     "name": "stdout",
     "output_type": "stream",
     "text": [
      "/data/u934/service_imagerie/v_kapoor/FinalONEATTraining/Bin2ONeatCSV/ONEATDIAP_mov5Normal.csv\n",
      "/data/u934/service_imagerie/v_kapoor/FinalONEATTraining/Bin2ONeatCSV/ONEATFlo_pupe2_mutant_s5_s6_s7_s8_movNormal.csv\n",
      "/data/u934/service_imagerie/v_kapoor/FinalONEATTraining/Bin2ONeatCSV/ONEATwt_mov11_starwat_v2.3.1_3frames_correctedMatureP1.csv\n",
      "/data/u934/service_imagerie/v_kapoor/FinalONEATTraining/Bin2ONeatCSV/ONEATFlo_pupe1_s1_s2_s3_s4_movNonMatureP1.csv\n",
      "/data/u934/service_imagerie/v_kapoor/FinalONEATTraining/Bin2ONeatCSV/ONEATFlo_pupe2_mutant_s5_s6_s7_s8_movMatureP1.csv\n",
      "/data/u934/service_imagerie/v_kapoor/FinalONEATTraining/Bin2ONeatCSV/ONEATFlo_pupe2_mutant_s5_s6_s7_s8_movNonMatureP1.csv\n",
      "/data/u934/service_imagerie/v_kapoor/FinalONEATTraining/Bin2ONeatCSV/ONEATDIAP_mov5MacroCheate.csv\n",
      "/data/u934/service_imagerie/v_kapoor/FinalONEATTraining/Bin2ONeatCSV/ONEATFlo_pupe1_s1_s2_s3_s4_movMatureP1.csv\n",
      "/data/u934/service_imagerie/v_kapoor/FinalONEATTraining/Bin2ONeatCSV/ONEATDIAP_mov5MatureP1.csv\n",
      "/data/u934/service_imagerie/v_kapoor/FinalONEATTraining/Bin2ONeatCSV/ONEATwt_mov11_starwat_v2.3.1_3frames_correctedNonMatureP1.csv\n",
      "/data/u934/service_imagerie/v_kapoor/FinalONEATTraining/Bin2ONeatCSV/ONEATFlo_pupe2_mutant_s5_s6_s7_s8_movMacroCheate.csv\n",
      "/data/u934/service_imagerie/v_kapoor/FinalONEATTraining/Bin2ONeatCSV/ONEATwt_mov11_starwat_v2.3.1_3frames_correctedMacroCheate.csv\n",
      "/data/u934/service_imagerie/v_kapoor/FinalONEATTraining/Bin2ONeatCSV/ONEATFlo_pupe1_s1_s2_s3_s4_movMacroCheate.csv\n",
      "/data/u934/service_imagerie/v_kapoor/FinalONEATTraining/Bin2ONeatCSV/ONEATFlo_pupe1_s1_s2_s3_s4_movNormal.csv\n"
     ]
    }
   ],
   "source": [
    "MovieCreator.ImageLabelDataSet(image_dir, seg_image_dir, csv_dir, save_dir, static_name, static_label, csv_name_diff,crop_size, offset = offset, yolo_v0 = yolo_v0)\n",
    "\n"
   ]
  },
  {
   "cell_type": "code",
   "execution_count": 7,
   "metadata": {},
   "outputs": [
    {
     "name": "stdout",
     "output_type": "stream",
     "text": [
      "/data/u934/service_imagerie/v_kapoor/FinalONEATTraining/Bin2OYoloneatV1/\n"
     ]
    },
    {
     "name": "stderr",
     "output_type": "stream",
     "text": [
      "100%|██████████| 37975/37975 [00:12<00:00, 3153.92it/s]\n"
     ]
    },
    {
     "name": "stdout",
     "output_type": "stream",
     "text": [
      "(37975, 54, 54, 1) (37975, 9, 1)\n"
     ]
    }
   ],
   "source": [
    "MovieCreator.createNPZ(save_dir, axes = 'SXYC', save_name = npz_name, save_name_val = npz_val_name)"
   ]
  },
  {
   "cell_type": "code",
   "execution_count": null,
   "metadata": {},
   "outputs": [],
   "source": []
  },
  {
   "cell_type": "code",
   "execution_count": null,
   "metadata": {},
   "outputs": [],
   "source": []
  }
 ],
 "metadata": {
  "kernelspec": {
   "display_name": "Python 3",
   "language": "python",
   "name": "python3"
  },
  "language_info": {
   "codemirror_mode": {
    "name": "ipython",
    "version": 3
   },
   "file_extension": ".py",
   "mimetype": "text/x-python",
   "name": "python",
   "nbconvert_exporter": "python",
   "pygments_lexer": "ipython3",
   "version": "3.6.10"
  }
 },
 "nbformat": 4,
 "nbformat_minor": 4
}
