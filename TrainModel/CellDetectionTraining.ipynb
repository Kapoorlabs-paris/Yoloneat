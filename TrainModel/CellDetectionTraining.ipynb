{
 "cells": [
  {
   "cell_type": "code",
   "execution_count": 1,
   "metadata": {},
   "outputs": [
    {
     "ename": "IndentationError",
     "evalue": "unindent does not match any outer indentation level (plotters.py, line 163)",
     "output_type": "error",
     "traceback": [
      "Traceback \u001b[0;36m(most recent call last)\u001b[0m:\n",
      "  File \u001b[1;32m\"/data/usr_app/VarunAnaconda/lib/python3.7/site-packages/IPython/core/interactiveshell.py\"\u001b[0m, line \u001b[1;32m3437\u001b[0m, in \u001b[1;35mrun_code\u001b[0m\n    exec(code_obj, self.user_global_ns, self.user_ns)\n",
      "  File \u001b[1;32m\"<ipython-input-1-8587787f2890>\"\u001b[0m, line \u001b[1;32m5\u001b[0m, in \u001b[1;35m<module>\u001b[0m\n    from NEATModels import NEATStaticDetection, nets\n",
      "  File \u001b[1;32m\"../NEAT/NEATModels/__init__.py\"\u001b[0m, line \u001b[1;32m6\u001b[0m, in \u001b[1;35m<module>\u001b[0m\n    from NEATModels.neat_standard import NEATDetection\n",
      "\u001b[0;36m  File \u001b[0;32m\"../NEAT/NEATModels/neat_standard.py\"\u001b[0;36m, line \u001b[0;32m1\u001b[0;36m, in \u001b[0;35m<module>\u001b[0;36m\u001b[0m\n\u001b[0;31m    from NEATUtils import plotters\u001b[0m\n",
      "\u001b[0;36m  File \u001b[0;32m\"../NEAT/NEATUtils/plotters.py\"\u001b[0;36m, line \u001b[0;32m163\u001b[0m\n\u001b[0;31m    print( \"Predicted cell:\" maxlabel , \"Probability:\", prediction[i,:,:,maxevent])\u001b[0m\n\u001b[0m                                                                                   ^\u001b[0m\n\u001b[0;31mIndentationError\u001b[0m\u001b[0;31m:\u001b[0m unindent does not match any outer indentation level\n"
     ]
    }
   ],
   "source": [
    "import sys\n",
    "import os\n",
    "from glob import glob\n",
    "sys.path.append(\"../NEAT\")\n",
    "from NEATModels import NEATStaticDetection, nets\n",
    "from NEATModels.Staticconfig  import StaticNeatConfig\n",
    "from NEATUtils import helpers\n",
    "from NEATUtils.helpers import save_json, load_json\n",
    "os.environ[\"CUDA_VISIBLE_DEVICES\"]=\"0\"\n",
    "os.environ[\"HDF5_USE_FILE_LOCKING\"] = \"FALSE\""
   ]
  },
  {
   "cell_type": "code",
   "execution_count": null,
   "metadata": {},
   "outputs": [],
   "source": [
    "NpzDirectory = '/data/u934/service_imagerie/v_kapoor/FinalONEATTraining/Bin2OYoloneatV0/'\n",
    "TrainModelName = 'S54bin2.npz'\n",
    "ValidationModelName = 'S54bin2Val.npz'\n",
    "\n",
    "\n",
    "ModelDir = '/data/u934/service_imagerie/v_kapoor/FinalONEATTraining/Bin2ONeatModel/'\n",
    "#Model name based on wether it is residual or sequntial ONEAT network\n",
    "Model_Name = 'ORnetbin2d29V0.h5'\n",
    "StaticCategoriesJson = ModelDir + 'StaticCategories.json'\n",
    "KeyCategories = load_json(StaticCategoriesJson)\n",
    "\n",
    "StaticCordJson = ModelDir + 'StaticCord.json'\n",
    "KeyCord = load_json(StaticCordJson)\n",
    "\n",
    "#Neural network parameters\n",
    "\n",
    "\n",
    "\n"
   ]
  },
  {
   "cell_type": "code",
   "execution_count": null,
   "metadata": {},
   "outputs": [],
   "source": [
    "#For ORNET use residual = True and for OSNET use residual = False\n",
    "residual = True\n",
    "#NUmber of starting convolutional filters, is doubled down with increasing depth\n",
    "startfilter = 32\n",
    "#CNN network start layer, mid layers and lstm layer kernel size\n",
    "start_kernel = 3\n",
    "mid_kernel = 3\n",
    "#Network depth has to be 9n + 2, n= 3 or 4 is optimal for Notum dataset\n",
    "depth = 29\n",
    "#Size of the gradient descent length vector, start small and use callbacks to get smaller when reaching the minima\n",
    "learning_rate = 1.0E-4\n",
    "#For stochastic gradient decent, the batch size used for computing the gradients\n",
    "batch_size = 100\n",
    "# use softmax for single event per box, sigmoid for multi event per box\n",
    "multievent = False\n",
    "# Trainng image size\n",
    "yoloV0 = True\n",
    "ImageX = 54\n",
    "ImageY = 54\n",
    "#Training epochs, longer the better with proper chosen learning rate\n",
    "epochs = 250\n",
    "nboxes = 5"
   ]
  },
  {
   "cell_type": "code",
   "execution_count": null,
   "metadata": {},
   "outputs": [],
   "source": [
    "config = StaticNeatConfig(residual = residual, depth = depth, start_kernel = start_kernel, mid_kernel = mid_kernel,\n",
    "                         startfiler = startfilter, gridX = 1, gridY = 1, ImageX = ImageX, ImageY = ImageY, nboxes = nboxes, \n",
    "                         epochs = epochs, categories = len(KeyCategories), box_vector = len(KeyCord), learning_rate = learning_rate,\n",
    "                         batch_size = batch_size, ModelName = Model_Name, multievent = multievent)\n",
    "\n",
    "config_json = config.to_json()\n",
    "show = True\n",
    "print(config)\n",
    "save_json(config_json, ModelDir + Model_Name + '_Parameter.json')"
   ]
  },
  {
   "cell_type": "code",
   "execution_count": null,
   "metadata": {
    "scrolled": false
   },
   "outputs": [],
   "source": [
    "Train = NEATStaticDetection(config, NpzDirectory,KeyCategories, KeyCord,TrainModelName,ValidationModelName, ModelDir, Model_Name, show = show, yoloV0 = yoloV0)\n",
    "\n",
    "Train.loadData()\n",
    "\n",
    "Train.TrainModel()\n"
   ]
  }
 ],
 "metadata": {
  "kernelspec": {
   "display_name": "Python 3",
   "language": "python",
   "name": "python3"
  },
  "language_info": {
   "codemirror_mode": {
    "name": "ipython",
    "version": 3
   },
   "file_extension": ".py",
   "mimetype": "text/x-python",
   "name": "python",
   "nbconvert_exporter": "python",
   "pygments_lexer": "ipython3",
   "version": "3.7.2"
  },
  "toc": {
   "base_numbering": 1,
   "nav_menu": {},
   "number_sections": false,
   "sideBar": false,
   "skip_h1_title": false,
   "title_cell": "Table of Contents",
   "title_sidebar": "Contents",
   "toc_cell": false,
   "toc_position": {},
   "toc_section_display": false,
   "toc_window_display": false
  }
 },
 "nbformat": 4,
 "nbformat_minor": 4
}
