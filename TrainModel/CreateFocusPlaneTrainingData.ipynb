{
 "cells": [
  {
   "cell_type": "code",
   "execution_count": 1,
   "metadata": {},
   "outputs": [
    {
     "name": "stderr",
     "output_type": "stream",
     "text": [
      "Using TensorFlow backend.\n"
     ]
    }
   ],
   "source": [
    "import numpy as np\n",
    "from tifffile import imread \n",
    "import sys\n",
    "import os\n",
    "import cv2\n",
    "import glob\n",
    "from tqdm import tqdm\n",
    "import pandas as pd\n",
    "sys.path.append(\"../NEAT\")\n",
    "from NEATUtils import MovieCreator\n",
    "from NEATUtils.helpers import save_json, load_json\n",
    "from NEATModels.TrainConfig import TrainConfig\n",
    "from pathlib import Path\n"
   ]
  },
  {
   "cell_type": "code",
   "execution_count": 2,
   "metadata": {},
   "outputs": [],
   "source": [
    "#Specify the directory containing images\n",
    "image_dir = '/home/sancere/Kepler/CurieTrainingDatasets/foconeatimages/'\n",
    "#Specify the directory contaiing csv files\n",
    "csv_dir = '/home/sancere/Kepler/CurieTrainingDatasets/foconeatcsv/'\n",
    "#Specify the directory containing the segmentations\n",
    "#Specify the model directory where we store the json of categories, training model and parameters\n",
    "model_dir = '/home/sancere/Kepler/CurieDeepLearningModels/OneatModels/Focusoneatmodels/'\n",
    "#Directory for storing center ONEAT training data for static classes\n",
    "save_dir = '/home/sancere/Kepler/FinalONEATTraining/FocData/'\n",
    "Path(model_dir).mkdir(exist_ok = True)\n",
    "Path(save_dir).mkdir(exist_ok = True)"
   ]
  },
  {
   "cell_type": "code",
   "execution_count": 3,
   "metadata": {},
   "outputs": [],
   "source": [
    "#Name of the focus events\n",
    "foc_type_name = [\"Totaloff\",\"BestCad\", \"BestNuclei\"]\n",
    "#Label corresponding to static event\n",
    "foc_type_label = [0, 1, 2]\n",
    "\n",
    "#The name appended before the CSV files\n",
    "csv_name_diff = 'ONEAT'\n",
    "yolo_v0 = False\n",
    "axes= 'SZYXC'\n",
    "npz_name = 'Foconeat'\n",
    "npz_val_name = 'FoconeatVal'\n",
    "size_tminus = 1\n",
    "size_tplus = 1\n",
    "trainshapeX = 256\n",
    "trainshapeY = 256"
   ]
  },
  {
   "cell_type": "code",
   "execution_count": 4,
   "metadata": {},
   "outputs": [],
   "source": [
    "\n",
    "crop_size = [trainshapeX,trainshapeY,size_tminus,size_tplus]\n",
    "\n",
    "#Vectors attached to each static event\n",
    "foc_position_name = [\"x\", \"y\", \"z\", \"h\", \"w\", \"c\"]\n",
    "foc_position_label = [0, 1, 2, 3, 4, 5]"
   ]
  },
  {
   "cell_type": "code",
   "execution_count": 5,
   "metadata": {},
   "outputs": [],
   "source": [
    "focus_config = TrainConfig(foc_type_name, foc_type_label, foc_position_name, foc_position_label)\n",
    "\n",
    "focus_json, focus_cord_json = focus_config.to_json()\n",
    "\n",
    "save_json(focus_json, model_dir + \"FocusCategories\" + '.json')\n",
    "\n",
    "save_json(focus_cord_json, model_dir + \"FocusCord\" + '.json')\n"
   ]
  },
  {
   "cell_type": "markdown",
   "metadata": {},
   "source": [
    "# For center ONEAT, event is exactly in the center for all training examples"
   ]
  },
  {
   "cell_type": "code",
   "execution_count": null,
   "metadata": {
    "scrolled": false
   },
   "outputs": [
    {
     "name": "stdout",
     "output_type": "stream",
     "text": [
      "ONEATBestCad210629_Erk_Kate_His_mov1_w3CSU-QUAD-561_s3_t11\n",
      "ONEATTotaloff210629_Erk_Kate_His_mov1_w3CSU-QUAD-561_s3_t11\n",
      "ONEATBestNuclei210629_Erk_Kate_His_mov1_w3CSU-QUAD-561_s3_t11\n",
      "ONEATTotaloff210629_Erk_Kate_His_mov1_w3CSU-QUAD-561_s8_t10\n",
      "ONEATBestNuclei210629_Erk_Kate_His_mov1_w3CSU-QUAD-561_s8_t10\n",
      "ONEATBestCad210629_Erk_Kate_His_mov1_w3CSU-QUAD-561_s8_t10\n",
      "ONEATBestNuclei210629_Erk_Kate_His_mov1_w3CSU-QUAD-561_s11_t21\n",
      "ONEATBestCad210629_Erk_Kate_His_mov1_w3CSU-QUAD-561_s11_t21\n",
      "ONEATTotaloff210629_Erk_Kate_His_mov1_w3CSU-QUAD-561_s11_t21\n",
      "ONEATBestCad210629_Erk_Kate_His_mov1_w1CSU-QUAD-561_s8_t1\n",
      "ONEATTotaloff210629_Erk_Kate_His_mov1_w1CSU-QUAD-561_s8_t1\n",
      "ONEATBestNuclei210629_Erk_Kate_His_mov1_w1CSU-QUAD-561_s8_t1\n",
      "ONEATBestNuclei210629_Erk_Kate_His_mov1_w3CSU-QUAD-561_s9_t2\n",
      "ONEATBestCad210629_Erk_Kate_His_mov1_w3CSU-QUAD-561_s9_t2\n",
      "ONEATTotaloff210629_Erk_Kate_His_mov1_w3CSU-QUAD-561_s9_t2\n",
      "ONEATBestNuclei210629_Erk_Kate_His_mov1_w1CSU-QUAD-561_s10_t24\n",
      "ONEATTotaloff210629_Erk_Kate_His_mov1_w1CSU-QUAD-561_s10_t24\n",
      "ONEATBestCad210629_Erk_Kate_His_mov1_w1CSU-QUAD-561_s10_t24\n",
      "ONEATBestCad210629_Erk_Kate_His_mov1_w1CSU-QUAD-561_s2_t15\n",
      "ONEATBestNuclei210629_Erk_Kate_His_mov1_w1CSU-QUAD-561_s2_t15\n",
      "ONEATTotaloff210629_Erk_Kate_His_mov1_w1CSU-QUAD-561_s2_t15\n",
      "ONEATTotaloff210629_Erk_Kate_His_mov1_w1CSU-QUAD-561_s6_t4\n",
      "ONEATBestNuclei210629_Erk_Kate_His_mov1_w1CSU-QUAD-561_s6_t4\n",
      "ONEATBestCad210629_Erk_Kate_His_mov1_w1CSU-QUAD-561_s6_t4\n",
      "ONEATBestNuclei210629_Erk_Kate_His_mov1_w3CSU-QUAD-561_s3_t29\n",
      "ONEATBestCad210629_Erk_Kate_His_mov1_w3CSU-QUAD-561_s3_t29\n",
      "ONEATTotaloff210629_Erk_Kate_His_mov1_w3CSU-QUAD-561_s3_t29\n",
      "ONEATBestCad210629_Erk_Kate_His_mov1_w1CSU-QUAD-561_s10_t23\n",
      "ONEATTotaloff210629_Erk_Kate_His_mov1_w1CSU-QUAD-561_s10_t23\n",
      "ONEATBestNuclei210629_Erk_Kate_His_mov1_w1CSU-QUAD-561_s10_t23\n",
      "ONEATTotaloff210629_Erk_Kate_His_mov1_w3CSU-QUAD-561_s9_t6\n",
      "ONEATBestCad210629_Erk_Kate_His_mov1_w3CSU-QUAD-561_s9_t6\n",
      "ONEATBestNuclei210629_Erk_Kate_His_mov1_w3CSU-QUAD-561_s9_t6\n",
      "ONEATTotaloff210629_Erk_Kate_His_mov1_w1CSU-QUAD-561_s10_t21\n",
      "ONEATBestNuclei210629_Erk_Kate_His_mov1_w1CSU-QUAD-561_s10_t21\n",
      "ONEATBestCad210629_Erk_Kate_His_mov1_w1CSU-QUAD-561_s10_t21\n",
      "ONEATBestNuclei210629_Erk_Kate_His_mov1_w3CSU-QUAD-561_s2_t4\n",
      "ONEATBestCad210629_Erk_Kate_His_mov1_w3CSU-QUAD-561_s2_t4\n",
      "ONEATTotaloff210629_Erk_Kate_His_mov1_w3CSU-QUAD-561_s2_t4\n",
      "ONEATTotaloff210629_Erk_Kate_His_mov1_w3CSU-QUAD-561_s2_t5\n",
      "ONEATBestNuclei210629_Erk_Kate_His_mov1_w3CSU-QUAD-561_s2_t5\n",
      "ONEATBestCad210629_Erk_Kate_His_mov1_w3CSU-QUAD-561_s2_t5\n",
      "ONEATTotaloff210629_Erk_Kate_His_mov1_w1CSU-QUAD-561_s8_t2\n",
      "ONEATBestCad210629_Erk_Kate_His_mov1_w1CSU-QUAD-561_s8_t2\n",
      "ONEATBestNuclei210629_Erk_Kate_His_mov1_w1CSU-QUAD-561_s8_t2\n",
      "ONEATBestNuclei210629_Erk_Kate_His_mov1_w3CSU-QUAD-561_s9_t15\n",
      "ONEATTotaloff210629_Erk_Kate_His_mov1_w3CSU-QUAD-561_s9_t15\n",
      "ONEATBestCad210629_Erk_Kate_His_mov1_w3CSU-QUAD-561_s9_t15\n",
      "ONEATTotaloff210629_Erk_Kate_His_mov1_w3CSU-QUAD-561_s4_t28\n",
      "ONEATBestNuclei210629_Erk_Kate_His_mov1_w3CSU-QUAD-561_s4_t28\n",
      "ONEATBestCad210629_Erk_Kate_His_mov1_w3CSU-QUAD-561_s4_t28\n",
      "ONEATTotaloff210629_Erk_Kate_His_mov1_w3CSU-QUAD-561_s10_t15\n"
     ]
    }
   ],
   "source": [
    "MovieCreator.SegFreeMovieLabelDataSet(image_dir, csv_dir, save_dir, foc_type_name, foc_type_label, csv_name_diff,crop_size)\n",
    "\n"
   ]
  },
  {
   "cell_type": "code",
   "execution_count": null,
   "metadata": {},
   "outputs": [],
   "source": [
    "MovieCreator.createNPZ(save_dir, axes = 'SZYXC', save_name = npz_name, save_name_val = npz_val_name)"
   ]
  },
  {
   "cell_type": "code",
   "execution_count": null,
   "metadata": {},
   "outputs": [],
   "source": []
  },
  {
   "cell_type": "code",
   "execution_count": null,
   "metadata": {},
   "outputs": [],
   "source": []
  }
 ],
 "metadata": {
  "kernelspec": {
   "display_name": "Python 3 (ipykernel)",
   "language": "python",
   "name": "python3"
  },
  "language_info": {
   "codemirror_mode": {
    "name": "ipython",
    "version": 3
   },
   "file_extension": ".py",
   "mimetype": "text/x-python",
   "name": "python",
   "nbconvert_exporter": "python",
   "pygments_lexer": "ipython3",
   "version": "3.7.10"
  }
 },
 "nbformat": 4,
 "nbformat_minor": 4
}
