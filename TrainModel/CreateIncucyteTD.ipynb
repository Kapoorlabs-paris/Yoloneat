{
 "cells": [
  {
   "cell_type": "code",
   "execution_count": 1,
   "metadata": {},
   "outputs": [
    {
     "name": "stderr",
     "output_type": "stream",
     "text": [
      "Using TensorFlow backend.\n"
     ]
    }
   ],
   "source": [
    "import numpy as np\n",
    "from tifffile import imread \n",
    "import sys\n",
    "import os\n",
    "import cv2\n",
    "import glob\n",
    "from tqdm import tqdm\n",
    "import pandas as pd\n",
    "sys.path.append(\"../NEAT\")\n",
    "from NEATUtils import MovieCreator\n",
    "from NEATUtils.helpers import save_json, load_json\n",
    "from NEATModels.TrainConfig import TrainConfig\n",
    "from pathlib import Path\n"
   ]
  },
  {
   "cell_type": "code",
   "execution_count": 2,
   "metadata": {},
   "outputs": [],
   "source": [
    "#Specify the directory containing images\n",
    "image_dir = '/home/sancere/Kepler/Incucyte/Images/'\n",
    "#Specify the directory contaiing csv files\n",
    "csv_dir = '/home/sancere/Kepler/Incucyte/CSV/'\n",
    "#Specify the model directory where we store the json of categories, training model and parameters\n",
    "model_dir = '/home/sancere/Kepler/Incucyte/model/'\n",
    "#Directory for storing center ONEAT training data for static classes\n",
    "save_dir = '/home/sancere/Kepler/Incucyte/data/'\n",
    "Path(model_dir).mkdir(exist_ok = True)\n",
    "Path(save_dir).mkdir(exist_ok = True)"
   ]
  },
  {
   "cell_type": "code",
   "execution_count": 8,
   "metadata": {},
   "outputs": [],
   "source": [
    "#Name of the static events\n",
    "cell_type_name = [\"Normal\", \"Cells\"]\n",
    "#Label corresponding to static event\n",
    "cell_type_label = [0, 1]\n",
    "\n",
    "#The name appended before the CSV files\n",
    "csv_name_diff = 'ONEAT'\n",
    "axes= 'SXYC'\n",
    "npz_name = 'Incucyte128'\n",
    "npz_val_name = 'Incucyte128Val'"
   ]
  },
  {
   "cell_type": "code",
   "execution_count": 4,
   "metadata": {},
   "outputs": [],
   "source": [
    "#X Y static events\n",
    "crop_size = [128,128]\n",
    "width = 25\n",
    "height = 25\n",
    "#Vectors attached to each static event\n",
    "cell_position_name = [\"x\", \"y\", \"h\", \"w\"]\n",
    "cell_position_label = [0, 1, 2, 3]\n",
    "\n",
    "\n",
    "offset = 10"
   ]
  },
  {
   "cell_type": "code",
   "execution_count": 5,
   "metadata": {},
   "outputs": [],
   "source": [
    "static_config = TrainConfig(cell_type_name, cell_type_label, cell_position_name, cell_position_label)\n",
    "\n",
    "static_json, static_cord_json = static_config.to_json()\n",
    "\n",
    "\n",
    "save_json(static_json, model_dir + \"StaticCategories\" + '.json')\n",
    "\n",
    "save_json(static_cord_json, model_dir + \"StaticCord\" + '.json')\n"
   ]
  },
  {
   "cell_type": "markdown",
   "metadata": {},
   "source": [
    "# For center ONEAT, event is exactly in the center for all training examples"
   ]
  },
  {
   "cell_type": "code",
   "execution_count": 6,
   "metadata": {
    "scrolled": false
   },
   "outputs": [
    {
     "name": "stdout",
     "output_type": "stream",
     "text": [
      "/home/sancere/Kepler/Incucyte/CSV/ONEATTest_annotation_cropedCells.csv\n",
      "/home/sancere/Kepler/Incucyte/CSV/ONEATTest_annotation_cropedNormal.csv\n"
     ]
    }
   ],
   "source": [
    "MovieCreator.SegFreeImageLabelDataSet(image_dir, csv_dir, save_dir, cell_type_name, cell_type_label, csv_name_diff,crop_size, offset = offset, width = width, height = height)\n",
    "\n"
   ]
  },
  {
   "cell_type": "code",
   "execution_count": 9,
   "metadata": {},
   "outputs": [
    {
     "name": "stderr",
     "output_type": "stream",
     "text": [
      "100%|██████████| 1180/1180 [00:00<00:00, 1309.32it/s]\n"
     ]
    },
    {
     "name": "stdout",
     "output_type": "stream",
     "text": [
      "(1180, 128, 128, 1) (1180, 6, 1)\n"
     ]
    }
   ],
   "source": [
    "MovieCreator.createNPZ(save_dir, axes = 'SXYC', save_name = npz_name, save_name_val = npz_val_name, static = True)"
   ]
  },
  {
   "cell_type": "code",
   "execution_count": null,
   "metadata": {},
   "outputs": [],
   "source": []
  },
  {
   "cell_type": "code",
   "execution_count": null,
   "metadata": {},
   "outputs": [],
   "source": []
  }
 ],
 "metadata": {
  "kernelspec": {
   "display_name": "Python 3",
   "language": "python",
   "name": "python3"
  },
  "language_info": {
   "codemirror_mode": {
    "name": "ipython",
    "version": 3
   },
   "file_extension": ".py",
   "mimetype": "text/x-python",
   "name": "python",
   "nbconvert_exporter": "python",
   "pygments_lexer": "ipython3",
   "version": "3.6.10"
  }
 },
 "nbformat": 4,
 "nbformat_minor": 4
}
