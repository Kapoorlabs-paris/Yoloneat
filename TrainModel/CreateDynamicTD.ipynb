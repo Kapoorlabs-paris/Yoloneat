{
 "cells": [
  {
   "cell_type": "code",
   "execution_count": 1,
   "id": "15392b8c",
   "metadata": {},
   "outputs": [],
   "source": [
    "\n",
    "import numpy as np\n",
    "from tifffile import imread \n",
    "import sys\n",
    "import os\n",
    "import cv2\n",
    "import glob\n",
    "from tqdm import tqdm\n",
    "import pandas as pd\n",
    "sys.path.append(\"../oneat\")\n",
    "from NEATUtils import MovieCreator\n",
    "from NEATUtils.helpers import save_json, load_json\n",
    "from NEATModels.TrainConfig import TrainConfig\n",
    "from pathlib import Path"
   ]
  },
  {
   "cell_type": "code",
   "execution_count": 2,
   "id": "e1bcf2d0",
   "metadata": {},
   "outputs": [],
   "source": [
    "#Specify the directory containing images\n",
    "image_dir = 'D:/TrainingData/Helacells_florescent/Raw_ch_hela_flou/'\n",
    "#Specify the directory contaiing csv files\n",
    "csv_dir = 'D:/TrainingData/Helacells_florescent/Csv_ch_hela_flou/'\n",
    "\n",
    "#Specify the model directory where we store the json of categories, training model and parameters\n",
    "model_dir = 'D:/TrainingData/Helacells_florescent/Oneat_ch_hela_flou/'\n",
    "#Directory for storing center ONEAT training data \n",
    "save_dir = 'D:/TrainingData/Helacells_florescent/Patch_ch_hela_flou/'\n",
    "Path(model_dir).mkdir(exist_ok = True)\n",
    "Path(save_dir).mkdir(exist_ok = True)"
   ]
  },
  {
   "cell_type": "code",
   "execution_count": 3,
   "id": "c748ba9e",
   "metadata": {},
   "outputs": [],
   "source": [
    "#Name of the  events\n",
    "event_type_name = [\"Normal\", \"Division\"]\n",
    "#Label corresponding to event\n",
    "event_type_label = [0, 1]\n",
    "\n",
    "#The name appended before the CSV files\n",
    "csv_name_diff = 'ONEAT'\n",
    "#with xythw and class terms only\n",
    "yolo_v0 = False\n",
    "#with confidence term\n",
    "yolo_v1 = True\n",
    "#with angle term\n",
    "yolo_v2 = False\n",
    "size_tminus = 2\n",
    "size_tplus = 2\n",
    "tshift = 1\n",
    "trainshapex = 128\n",
    "trainshapey = 128\n",
    "npz_name = 'Cellsplithelaflou'\n",
    "npz_val_name = 'Cellsplithelaflouval'\n",
    "crop_size = [trainshapex,trainshapey,size_tminus,size_tplus]"
   ]
  },
  {
   "cell_type": "code",
   "execution_count": 4,
   "id": "c9f4b367",
   "metadata": {},
   "outputs": [],
   "source": [
    "#X Y T dynamic events\n",
    "\n",
    "\n",
    "\n",
    "\n",
    "event_position_name = [\"x\", \"y\", \"t\", \"h\", \"w\", \"c\"]\n",
    "event_position_label = [0, 1, 2, 3, 4, 5]\n",
    "\n",
    "dynamic_config = TrainConfig(event_type_name, event_type_label, event_position_name, event_position_label)\n",
    "\n",
    "dynamic_json, dynamic_cord_json = dynamic_config.to_json()\n",
    "\n",
    "save_json(dynamic_json, model_dir + \"Cellsplithelafloucategories\" + '.json')\n",
    "\n",
    "save_json(dynamic_cord_json, model_dir + \"Cellsplithelafloucord\" + '.json')        "
   ]
  },
  {
   "cell_type": "code",
   "execution_count": 5,
   "id": "940983e3",
   "metadata": {},
   "outputs": [
    {
     "name": "stdout",
     "output_type": "stream",
     "text": [
      "ONEATDivision20210904_TL2 - R05-C03-F0_ch_0\n",
      "ONEATNormal20210904_TL2 - R05-C03-F0_ch_0\n",
      "ONEATDivision20210904_TL2 - R05-C03-F10_ch_0\n"
     ]
    },
    {
     "ename": "KeyboardInterrupt",
     "evalue": "",
     "output_type": "error",
     "traceback": [
      "\u001b[1;31m---------------------------------------------------------------------------\u001b[0m",
      "\u001b[1;31mKeyboardInterrupt\u001b[0m                         Traceback (most recent call last)",
      "\u001b[1;32m~\\AppData\\Local\\Temp/ipykernel_31684/2644600944.py\u001b[0m in \u001b[0;36m<module>\u001b[1;34m\u001b[0m\n\u001b[1;32m----> 1\u001b[1;33m \u001b[0mMovieCreator\u001b[0m\u001b[1;33m.\u001b[0m\u001b[0mSegFreeMovieLabelDataSet\u001b[0m\u001b[1;33m(\u001b[0m\u001b[0mimage_dir\u001b[0m\u001b[1;33m,\u001b[0m \u001b[0mcsv_dir\u001b[0m\u001b[1;33m,\u001b[0m \u001b[0msave_dir\u001b[0m\u001b[1;33m,\u001b[0m \u001b[0mevent_type_name\u001b[0m\u001b[1;33m,\u001b[0m \u001b[0mevent_type_label\u001b[0m\u001b[1;33m,\u001b[0m \u001b[0mcsv_name_diff\u001b[0m\u001b[1;33m,\u001b[0m\u001b[0mcrop_size\u001b[0m\u001b[1;33m,\u001b[0m \u001b[0myolo_v0\u001b[0m \u001b[1;33m=\u001b[0m \u001b[0myolo_v0\u001b[0m\u001b[1;33m,\u001b[0m \u001b[0myolo_v1\u001b[0m \u001b[1;33m=\u001b[0m \u001b[0myolo_v1\u001b[0m\u001b[1;33m,\u001b[0m \u001b[0myolo_v2\u001b[0m \u001b[1;33m=\u001b[0m \u001b[0myolo_v2\u001b[0m\u001b[1;33m,\u001b[0m \u001b[0mtshift\u001b[0m \u001b[1;33m=\u001b[0m \u001b[0mtshift\u001b[0m\u001b[1;33m)\u001b[0m\u001b[1;33m\u001b[0m\u001b[1;33m\u001b[0m\u001b[0m\n\u001b[0m",
      "\u001b[1;32m~\\Downloads\\Yoloneat\\oneat\\NEATUtils\\MovieCreator.py\u001b[0m in \u001b[0;36mSegFreeMovieLabelDataSet\u001b[1;34m(image_dir, csv_dir, save_dir, static_name, static_label, csv_name_diff, crop_size, normPatch, yolo_v0, yolo_v1, yolo_v2, tshift)\u001b[0m\n\u001b[0;32m     71\u001b[0m                                      \u001b[1;32mif\u001b[0m \u001b[0mclassfound\u001b[0m\u001b[1;33m:\u001b[0m\u001b[1;33m\u001b[0m\u001b[1;33m\u001b[0m\u001b[0m\n\u001b[0;32m     72\u001b[0m                                                     \u001b[0mprint\u001b[0m\u001b[1;33m(\u001b[0m\u001b[0mCsvname\u001b[0m\u001b[1;33m)\u001b[0m\u001b[1;33m\u001b[0m\u001b[1;33m\u001b[0m\u001b[0m\n\u001b[1;32m---> 73\u001b[1;33m                                                     \u001b[0mimage\u001b[0m \u001b[1;33m=\u001b[0m \u001b[0mimread\u001b[0m\u001b[1;33m(\u001b[0m\u001b[0mfname\u001b[0m\u001b[1;33m)\u001b[0m\u001b[1;33m\u001b[0m\u001b[1;33m\u001b[0m\u001b[0m\n\u001b[0m\u001b[0;32m     74\u001b[0m                                                     \u001b[1;32mif\u001b[0m \u001b[0mnormPatch\u001b[0m \u001b[1;33m==\u001b[0m\u001b[1;32mFalse\u001b[0m\u001b[1;33m:\u001b[0m\u001b[1;33m\u001b[0m\u001b[1;33m\u001b[0m\u001b[0m\n\u001b[0;32m     75\u001b[0m                                                        \u001b[0mimage\u001b[0m \u001b[1;33m=\u001b[0m \u001b[0mnormalizeFloatZeroOne\u001b[0m\u001b[1;33m(\u001b[0m \u001b[0mimage\u001b[0m\u001b[1;33m.\u001b[0m\u001b[0mastype\u001b[0m\u001b[1;33m(\u001b[0m\u001b[1;34m'float32'\u001b[0m\u001b[1;33m)\u001b[0m\u001b[1;33m,\u001b[0m\u001b[1;36m1\u001b[0m\u001b[1;33m,\u001b[0m\u001b[1;36m99.8\u001b[0m\u001b[1;33m)\u001b[0m\u001b[1;33m\u001b[0m\u001b[1;33m\u001b[0m\u001b[0m\n",
      "\u001b[1;32m~\\anaconda3\\envs\\naparienv\\lib\\site-packages\\tifffile\\tifffile.py\u001b[0m in \u001b[0;36mimread\u001b[1;34m(files, aszarr, **kwargs)\u001b[0m\n\u001b[0;32m    892\u001b[0m                 \u001b[1;32mif\u001b[0m \u001b[0maszarr\u001b[0m\u001b[1;33m:\u001b[0m\u001b[1;33m\u001b[0m\u001b[1;33m\u001b[0m\u001b[0m\n\u001b[0;32m    893\u001b[0m                     \u001b[1;32mreturn\u001b[0m \u001b[0mtif\u001b[0m\u001b[1;33m.\u001b[0m\u001b[0maszarr\u001b[0m\u001b[1;33m(\u001b[0m\u001b[1;33m**\u001b[0m\u001b[0mkwargs\u001b[0m\u001b[1;33m)\u001b[0m\u001b[1;33m\u001b[0m\u001b[1;33m\u001b[0m\u001b[0m\n\u001b[1;32m--> 894\u001b[1;33m                 \u001b[1;32mreturn\u001b[0m \u001b[0mtif\u001b[0m\u001b[1;33m.\u001b[0m\u001b[0masarray\u001b[0m\u001b[1;33m(\u001b[0m\u001b[1;33m**\u001b[0m\u001b[0mkwargs\u001b[0m\u001b[1;33m)\u001b[0m\u001b[1;33m\u001b[0m\u001b[1;33m\u001b[0m\u001b[0m\n\u001b[0m\u001b[0;32m    895\u001b[0m \u001b[1;33m\u001b[0m\u001b[0m\n\u001b[0;32m    896\u001b[0m     \u001b[1;32mwith\u001b[0m \u001b[0mTiffSequence\u001b[0m\u001b[1;33m(\u001b[0m\u001b[0mfiles\u001b[0m\u001b[1;33m,\u001b[0m \u001b[1;33m**\u001b[0m\u001b[0mkwargs_seq\u001b[0m\u001b[1;33m)\u001b[0m \u001b[1;32mas\u001b[0m \u001b[0mimseq\u001b[0m\u001b[1;33m:\u001b[0m\u001b[1;33m\u001b[0m\u001b[1;33m\u001b[0m\u001b[0m\n",
      "\u001b[1;32m~\\anaconda3\\envs\\naparienv\\lib\\site-packages\\tifffile\\tifffile.py\u001b[0m in \u001b[0;36masarray\u001b[1;34m(self, key, series, level, squeeze, out, maxworkers)\u001b[0m\n\u001b[0;32m   3374\u001b[0m             \u001b[0mresult\u001b[0m \u001b[1;33m=\u001b[0m \u001b[0mpages\u001b[0m\u001b[1;33m[\u001b[0m\u001b[1;36m0\u001b[0m\u001b[1;33m]\u001b[0m\u001b[1;33m.\u001b[0m\u001b[0masarray\u001b[0m\u001b[1;33m(\u001b[0m\u001b[0mout\u001b[0m\u001b[1;33m=\u001b[0m\u001b[0mout\u001b[0m\u001b[1;33m,\u001b[0m \u001b[0mmaxworkers\u001b[0m\u001b[1;33m=\u001b[0m\u001b[0mmaxworkers\u001b[0m\u001b[1;33m)\u001b[0m\u001b[1;33m\u001b[0m\u001b[1;33m\u001b[0m\u001b[0m\n\u001b[0;32m   3375\u001b[0m         \u001b[1;32melse\u001b[0m\u001b[1;33m:\u001b[0m\u001b[1;33m\u001b[0m\u001b[1;33m\u001b[0m\u001b[0m\n\u001b[1;32m-> 3376\u001b[1;33m             \u001b[0mresult\u001b[0m \u001b[1;33m=\u001b[0m \u001b[0mstack_pages\u001b[0m\u001b[1;33m(\u001b[0m\u001b[0mpages\u001b[0m\u001b[1;33m,\u001b[0m \u001b[0mout\u001b[0m\u001b[1;33m=\u001b[0m\u001b[0mout\u001b[0m\u001b[1;33m,\u001b[0m \u001b[0mmaxworkers\u001b[0m\u001b[1;33m=\u001b[0m\u001b[0mmaxworkers\u001b[0m\u001b[1;33m)\u001b[0m\u001b[1;33m\u001b[0m\u001b[1;33m\u001b[0m\u001b[0m\n\u001b[0m\u001b[0;32m   3377\u001b[0m \u001b[1;33m\u001b[0m\u001b[0m\n\u001b[0;32m   3378\u001b[0m         \u001b[1;32mif\u001b[0m \u001b[0mresult\u001b[0m \u001b[1;32mis\u001b[0m \u001b[1;32mNone\u001b[0m\u001b[1;33m:\u001b[0m\u001b[1;33m\u001b[0m\u001b[1;33m\u001b[0m\u001b[0m\n",
      "\u001b[1;32m~\\anaconda3\\envs\\naparienv\\lib\\site-packages\\tifffile\\tifffile.py\u001b[0m in \u001b[0;36mstack_pages\u001b[1;34m(pages, out, maxworkers, **kwargs)\u001b[0m\n\u001b[0;32m  16872\u001b[0m     \u001b[1;32mif\u001b[0m \u001b[0mmaxworkers\u001b[0m \u001b[1;33m<\u001b[0m \u001b[1;36m2\u001b[0m\u001b[1;33m:\u001b[0m\u001b[1;33m\u001b[0m\u001b[1;33m\u001b[0m\u001b[0m\n\u001b[0;32m  16873\u001b[0m         \u001b[1;32mfor\u001b[0m \u001b[0mi\u001b[0m\u001b[1;33m,\u001b[0m \u001b[0mpage\u001b[0m \u001b[1;32min\u001b[0m \u001b[0menumerate\u001b[0m\u001b[1;33m(\u001b[0m\u001b[0mpages\u001b[0m\u001b[1;33m)\u001b[0m\u001b[1;33m:\u001b[0m\u001b[1;33m\u001b[0m\u001b[1;33m\u001b[0m\u001b[0m\n\u001b[1;32m> 16874\u001b[1;33m             \u001b[0mfunc\u001b[0m\u001b[1;33m(\u001b[0m\u001b[0mpage\u001b[0m\u001b[1;33m,\u001b[0m \u001b[0mi\u001b[0m\u001b[1;33m)\u001b[0m\u001b[1;33m\u001b[0m\u001b[1;33m\u001b[0m\u001b[0m\n\u001b[0m\u001b[0;32m  16875\u001b[0m     \u001b[1;32melse\u001b[0m\u001b[1;33m:\u001b[0m\u001b[1;33m\u001b[0m\u001b[1;33m\u001b[0m\u001b[0m\n\u001b[0;32m  16876\u001b[0m         \u001b[0mpage0\u001b[0m\u001b[1;33m.\u001b[0m\u001b[0mdecode\u001b[0m  \u001b[1;31m# init TiffPage.decode function\u001b[0m\u001b[1;33m\u001b[0m\u001b[1;33m\u001b[0m\u001b[0m\n",
      "\u001b[1;32m~\\anaconda3\\envs\\naparienv\\lib\\site-packages\\tifffile\\tifffile.py\u001b[0m in \u001b[0;36mfunc\u001b[1;34m(page, index, out, filecache, kwargs)\u001b[0m\n\u001b[0;32m  16867\u001b[0m         \u001b[1;32mif\u001b[0m \u001b[0mpage\u001b[0m \u001b[1;32mis\u001b[0m \u001b[1;32mnot\u001b[0m \u001b[1;32mNone\u001b[0m\u001b[1;33m:\u001b[0m\u001b[1;33m\u001b[0m\u001b[1;33m\u001b[0m\u001b[0m\n\u001b[0;32m  16868\u001b[0m             \u001b[0mfilecache\u001b[0m\u001b[1;33m.\u001b[0m\u001b[0mopen\u001b[0m\u001b[1;33m(\u001b[0m\u001b[0mpage\u001b[0m\u001b[1;33m.\u001b[0m\u001b[0mparent\u001b[0m\u001b[1;33m.\u001b[0m\u001b[0mfilehandle\u001b[0m\u001b[1;33m)\u001b[0m\u001b[1;33m\u001b[0m\u001b[1;33m\u001b[0m\u001b[0m\n\u001b[1;32m> 16869\u001b[1;33m             \u001b[0mpage\u001b[0m\u001b[1;33m.\u001b[0m\u001b[0masarray\u001b[0m\u001b[1;33m(\u001b[0m\u001b[0mlock\u001b[0m\u001b[1;33m=\u001b[0m\u001b[0mfilecache\u001b[0m\u001b[1;33m.\u001b[0m\u001b[0mlock\u001b[0m\u001b[1;33m,\u001b[0m \u001b[0mout\u001b[0m\u001b[1;33m=\u001b[0m\u001b[0mout\u001b[0m\u001b[1;33m[\u001b[0m\u001b[0mindex\u001b[0m\u001b[1;33m]\u001b[0m\u001b[1;33m,\u001b[0m \u001b[1;33m**\u001b[0m\u001b[0mkwargs\u001b[0m\u001b[1;33m)\u001b[0m\u001b[1;33m\u001b[0m\u001b[1;33m\u001b[0m\u001b[0m\n\u001b[0m\u001b[0;32m  16870\u001b[0m             \u001b[0mfilecache\u001b[0m\u001b[1;33m.\u001b[0m\u001b[0mclose\u001b[0m\u001b[1;33m(\u001b[0m\u001b[0mpage\u001b[0m\u001b[1;33m.\u001b[0m\u001b[0mparent\u001b[0m\u001b[1;33m.\u001b[0m\u001b[0mfilehandle\u001b[0m\u001b[1;33m)\u001b[0m\u001b[1;33m\u001b[0m\u001b[1;33m\u001b[0m\u001b[0m\n\u001b[0;32m  16871\u001b[0m \u001b[1;33m\u001b[0m\u001b[0m\n",
      "\u001b[1;32m~\\anaconda3\\envs\\naparienv\\lib\\site-packages\\tifffile\\tifffile.py\u001b[0m in \u001b[0;36masarray\u001b[1;34m(self, *args, **kwargs)\u001b[0m\n\u001b[0;32m   7837\u001b[0m     \u001b[1;32mdef\u001b[0m \u001b[0masarray\u001b[0m\u001b[1;33m(\u001b[0m\u001b[0mself\u001b[0m\u001b[1;33m,\u001b[0m \u001b[1;33m*\u001b[0m\u001b[0margs\u001b[0m\u001b[1;33m,\u001b[0m \u001b[1;33m**\u001b[0m\u001b[0mkwargs\u001b[0m\u001b[1;33m)\u001b[0m\u001b[1;33m:\u001b[0m\u001b[1;33m\u001b[0m\u001b[1;33m\u001b[0m\u001b[0m\n\u001b[0;32m   7838\u001b[0m         \u001b[1;34m\"\"\"Read image data from file and return as numpy array.\"\"\"\u001b[0m\u001b[1;33m\u001b[0m\u001b[1;33m\u001b[0m\u001b[0m\n\u001b[1;32m-> 7839\u001b[1;33m         \u001b[1;32mreturn\u001b[0m \u001b[0mTiffPage\u001b[0m\u001b[1;33m.\u001b[0m\u001b[0masarray\u001b[0m\u001b[1;33m(\u001b[0m\u001b[0mself\u001b[0m\u001b[1;33m,\u001b[0m \u001b[1;33m*\u001b[0m\u001b[0margs\u001b[0m\u001b[1;33m,\u001b[0m \u001b[1;33m**\u001b[0m\u001b[0mkwargs\u001b[0m\u001b[1;33m)\u001b[0m\u001b[1;33m\u001b[0m\u001b[1;33m\u001b[0m\u001b[0m\n\u001b[0m\u001b[0;32m   7840\u001b[0m \u001b[1;33m\u001b[0m\u001b[0m\n\u001b[0;32m   7841\u001b[0m     \u001b[1;32mdef\u001b[0m \u001b[0maszarr\u001b[0m\u001b[1;33m(\u001b[0m\u001b[0mself\u001b[0m\u001b[1;33m,\u001b[0m \u001b[1;33m**\u001b[0m\u001b[0mkwargs\u001b[0m\u001b[1;33m)\u001b[0m\u001b[1;33m:\u001b[0m\u001b[1;33m\u001b[0m\u001b[1;33m\u001b[0m\u001b[0m\n",
      "\u001b[1;32m~\\anaconda3\\envs\\naparienv\\lib\\site-packages\\tifffile\\tifffile.py\u001b[0m in \u001b[0;36masarray\u001b[1;34m(self, out, squeeze, lock, maxworkers)\u001b[0m\n\u001b[0;32m   6778\u001b[0m             \u001b[1;32mwith\u001b[0m \u001b[0mlock\u001b[0m\u001b[1;33m:\u001b[0m\u001b[1;33m\u001b[0m\u001b[1;33m\u001b[0m\u001b[0m\n\u001b[0;32m   6779\u001b[0m                 \u001b[0mfh\u001b[0m\u001b[1;33m.\u001b[0m\u001b[0mseek\u001b[0m\u001b[1;33m(\u001b[0m\u001b[0mself\u001b[0m\u001b[1;33m.\u001b[0m\u001b[0mdataoffsets\u001b[0m\u001b[1;33m[\u001b[0m\u001b[1;36m0\u001b[0m\u001b[1;33m]\u001b[0m\u001b[1;33m)\u001b[0m\u001b[1;33m\u001b[0m\u001b[1;33m\u001b[0m\u001b[0m\n\u001b[1;32m-> 6780\u001b[1;33m                 result = fh.read_array(\n\u001b[0m\u001b[0;32m   6781\u001b[0m                     \u001b[0mkeyframe\u001b[0m\u001b[1;33m.\u001b[0m\u001b[0mparent\u001b[0m\u001b[1;33m.\u001b[0m\u001b[0mbyteorder\u001b[0m \u001b[1;33m+\u001b[0m \u001b[0mkeyframe\u001b[0m\u001b[1;33m.\u001b[0m\u001b[0m_dtype\u001b[0m\u001b[1;33m.\u001b[0m\u001b[0mchar\u001b[0m\u001b[1;33m,\u001b[0m\u001b[1;33m\u001b[0m\u001b[1;33m\u001b[0m\u001b[0m\n\u001b[0;32m   6782\u001b[0m                     \u001b[0mproduct\u001b[0m\u001b[1;33m(\u001b[0m\u001b[0mkeyframe\u001b[0m\u001b[1;33m.\u001b[0m\u001b[0mshaped\u001b[0m\u001b[1;33m)\u001b[0m\u001b[1;33m,\u001b[0m\u001b[1;33m\u001b[0m\u001b[1;33m\u001b[0m\u001b[0m\n",
      "\u001b[1;32m~\\anaconda3\\envs\\naparienv\\lib\\site-packages\\tifffile\\tifffile.py\u001b[0m in \u001b[0;36mread_array\u001b[1;34m(self, dtype, count, out)\u001b[0m\n\u001b[0;32m  10591\u001b[0m \u001b[1;33m\u001b[0m\u001b[0m\n\u001b[0;32m  10592\u001b[0m         \u001b[1;32mtry\u001b[0m\u001b[1;33m:\u001b[0m\u001b[1;33m\u001b[0m\u001b[1;33m\u001b[0m\u001b[0m\n\u001b[1;32m> 10593\u001b[1;33m             \u001b[0mn\u001b[0m \u001b[1;33m=\u001b[0m \u001b[0mself\u001b[0m\u001b[1;33m.\u001b[0m\u001b[0m_fh\u001b[0m\u001b[1;33m.\u001b[0m\u001b[0mreadinto\u001b[0m\u001b[1;33m(\u001b[0m\u001b[0mresult\u001b[0m\u001b[1;33m)\u001b[0m\u001b[1;33m\u001b[0m\u001b[1;33m\u001b[0m\u001b[0m\n\u001b[0m\u001b[0;32m  10594\u001b[0m         \u001b[1;32mexcept\u001b[0m \u001b[0mAttributeError\u001b[0m\u001b[1;33m:\u001b[0m\u001b[1;33m\u001b[0m\u001b[1;33m\u001b[0m\u001b[0m\n\u001b[0;32m  10595\u001b[0m             result[:] = numpy.frombuffer(self._fh.read(nbytes), dtype).reshape(\n",
      "\u001b[1;31mKeyboardInterrupt\u001b[0m: "
     ]
    }
   ],
   "source": [
    "MovieCreator.SegFreeMovieLabelDataSet(image_dir, csv_dir, save_dir, event_type_name, event_type_label, csv_name_diff,crop_size, yolo_v0 = yolo_v0, yolo_v1 = yolo_v1, yolo_v2 = yolo_v2, tshift = tshift)\n"
   ]
  },
  {
   "cell_type": "code",
   "execution_count": null,
   "id": "ba5f3a93",
   "metadata": {},
   "outputs": [],
   "source": [
    "MovieCreator.createNPZ(save_dir, axes = 'STXYC', save_name = npz_name, save_name_val = npz_val_name)"
   ]
  },
  {
   "cell_type": "code",
   "execution_count": null,
   "id": "9db34f77",
   "metadata": {},
   "outputs": [],
   "source": []
  }
 ],
 "metadata": {
  "kernelspec": {
   "display_name": "Python [conda env:naparienv] *",
   "language": "python",
   "name": "conda-env-naparienv-py"
  },
  "language_info": {
   "codemirror_mode": {
    "name": "ipython",
    "version": 3
   },
   "file_extension": ".py",
   "mimetype": "text/x-python",
   "name": "python",
   "nbconvert_exporter": "python",
   "pygments_lexer": "ipython3",
   "version": "3.9.0"
  }
 },
 "nbformat": 4,
 "nbformat_minor": 5
}
