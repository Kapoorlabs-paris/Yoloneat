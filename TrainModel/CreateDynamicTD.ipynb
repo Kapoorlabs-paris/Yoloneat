{
 "cells": [
  {
   "cell_type": "code",
   "execution_count": 1,
   "id": "15392b8c",
   "metadata": {},
   "outputs": [
    {
     "name": "stderr",
     "output_type": "stream",
     "text": [
      "Using TensorFlow backend.\n",
      "In /home/sancere/anaconda3/envs/tensorflowGPU/lib/python3.7/site-packages/matplotlib/mpl-data/stylelib/_classic_test.mplstyle: \n",
      "The text.latex.preview rcparam was deprecated in Matplotlib 3.3 and will be removed two minor releases later.\n",
      "In /home/sancere/anaconda3/envs/tensorflowGPU/lib/python3.7/site-packages/matplotlib/mpl-data/stylelib/_classic_test.mplstyle: \n",
      "The mathtext.fallback_to_cm rcparam was deprecated in Matplotlib 3.3 and will be removed two minor releases later.\n",
      "In /home/sancere/anaconda3/envs/tensorflowGPU/lib/python3.7/site-packages/matplotlib/mpl-data/stylelib/_classic_test.mplstyle: Support for setting the 'mathtext.fallback_to_cm' rcParam is deprecated since 3.3 and will be removed two minor releases later; use 'mathtext.fallback : 'cm' instead.\n",
      "In /home/sancere/anaconda3/envs/tensorflowGPU/lib/python3.7/site-packages/matplotlib/mpl-data/stylelib/_classic_test.mplstyle: \n",
      "The validate_bool_maybe_none function was deprecated in Matplotlib 3.3 and will be removed two minor releases later.\n",
      "In /home/sancere/anaconda3/envs/tensorflowGPU/lib/python3.7/site-packages/matplotlib/mpl-data/stylelib/_classic_test.mplstyle: \n",
      "The savefig.jpeg_quality rcparam was deprecated in Matplotlib 3.3 and will be removed two minor releases later.\n",
      "In /home/sancere/anaconda3/envs/tensorflowGPU/lib/python3.7/site-packages/matplotlib/mpl-data/stylelib/_classic_test.mplstyle: \n",
      "The keymap.all_axes rcparam was deprecated in Matplotlib 3.3 and will be removed two minor releases later.\n",
      "In /home/sancere/anaconda3/envs/tensorflowGPU/lib/python3.7/site-packages/matplotlib/mpl-data/stylelib/_classic_test.mplstyle: \n",
      "The animation.avconv_path rcparam was deprecated in Matplotlib 3.3 and will be removed two minor releases later.\n",
      "In /home/sancere/anaconda3/envs/tensorflowGPU/lib/python3.7/site-packages/matplotlib/mpl-data/stylelib/_classic_test.mplstyle: \n",
      "The animation.avconv_args rcparam was deprecated in Matplotlib 3.3 and will be removed two minor releases later.\n"
     ]
    }
   ],
   "source": [
    "import numpy as np\n",
    "from tifffile import imread \n",
    "import sys\n",
    "import os\n",
    "import cv2\n",
    "import glob\n",
    "from tqdm import tqdm\n",
    "import pandas as pd\n",
    "sys.path.append(\"../NEAT\")\n",
    "from NEATUtils import MovieCreator\n",
    "from NEATUtils.helpers import save_json, load_json\n",
    "from NEATModels.TrainConfig import TrainConfig\n",
    "from pathlib import Path"
   ]
  },
  {
   "cell_type": "code",
   "execution_count": 2,
   "id": "e1bcf2d0",
   "metadata": {},
   "outputs": [],
   "source": [
    "#Specify the directory containing images\n",
    "image_dir = '/home/sancere/VKepler/CurieTrainingDatasets/oneatimages/bin2/'\n",
    "#Specify the directory contaiing csv files\n",
    "csv_dir = '/home/sancere/VKepler/CurieTrainingDatasets/oneatcsv/divisiongoldclassic/'\n",
    "#Specify the directory containing the segmentations\n",
    "seg_image_dir = '/home/sancere/VKepler/CurieTrainingDatasets/oneatimages/bin2/segmentation/'\n",
    "#Specify the model directory where we store the json of categories, training model and parameters\n",
    "model_dir = '/home/sancere/VKepler/CurieDeepLearningModels/WinnerOneatModels/'\n",
    "#Directory for storing center ONEAT training data \n",
    "save_dir = '/home/sancere/VKepler/CurieTrainingDatasets/Divisionm5p4data/'\n",
    "Path(model_dir).mkdir(exist_ok = True)\n",
    "Path(save_dir).mkdir(exist_ok = True)"
   ]
  },
  {
   "cell_type": "code",
   "execution_count": 3,
   "id": "c748ba9e",
   "metadata": {},
   "outputs": [],
   "source": [
    "#Name of the  events\n",
    "event_type_name = [\"Normal\", \"Division\"]\n",
    "#Label corresponding to event\n",
    "event_type_label = [0, 1]\n",
    "\n",
    "#The name appended before the CSV files\n",
    "csv_name_diff = 'ONEAT'\n",
    "#with xythw and class terms only\n",
    "yolo_v0 = False\n",
    "#with confidence term\n",
    "yolo_v1 = True\n",
    "#with angle term\n",
    "yolo_v2 = False\n",
    "size_tminus = 5\n",
    "size_tplus = 4\n",
    "tshift = 1\n",
    "trainshapex = 64\n",
    "trainshapey = 64\n",
    "npz_name = 'Cellsplitdetectorm5p4'\n",
    "npz_val_name = 'Cellsplitdetectorm5p4val'\n",
    "crop_size = [trainshapex,trainshapey,size_tminus,size_tplus]"
   ]
  },
  {
   "cell_type": "code",
   "execution_count": 4,
   "id": "c9f4b367",
   "metadata": {},
   "outputs": [],
   "source": [
    "#X Y T dynamic events\n",
    "\n",
    "\n",
    "\n",
    "\n",
    "event_position_name = [\"x\", \"y\", \"t\", \"h\", \"w\", \"c\"]\n",
    "event_position_label = [0, 1, 2, 3, 4, 5]\n",
    "\n",
    "dynamic_config = TrainConfig(event_type_name, event_type_label, event_position_name, event_position_label)\n",
    "\n",
    "dynamic_json, dynamic_cord_json = dynamic_config.to_json()\n",
    "\n",
    "save_json(dynamic_json, model_dir + \"Cellsplitcategories\" + '.json')\n",
    "\n",
    "save_json(dynamic_cord_json, model_dir + \"Cellsplitcord\" + '.json')        "
   ]
  },
  {
   "cell_type": "code",
   "execution_count": 5,
   "id": "940983e3",
   "metadata": {},
   "outputs": [
    {
     "name": "stdout",
     "output_type": "stream",
     "text": [
      "ONEATTimelapseBIG5Normal\n",
      "ONEATTimelapseBIG5Division\n",
      "ONEATTimelapseBIG1Division\n",
      "ONEATTimelapseBIG1Normal\n",
      "ONEATDIAP_mov5Normal\n",
      "ONEATDIAP_mov5Division\n",
      "ONEATEventMovieDivision\n",
      "ONEATEventMovieNormal\n",
      "ONEATFlo_pupe2_mutant_s5_s6_s7_s8_movNormal\n",
      "ONEATFlo_pupe2_mutant_s5_s6_s7_s8_movDivision\n",
      "ONEATFlo_pupe1_s1_s2_s3_s4_movDivision\n",
      "ONEATFlo_pupe1_s1_s2_s3_s4_movNormal\n"
     ]
    }
   ],
   "source": [
    "MovieCreator.MovieLabelDataSet(image_dir, seg_image_dir, csv_dir, save_dir, event_type_name, event_type_label, csv_name_diff,crop_size, tshift = tshift, yolo_v0 = yolo_v0, yolo_v1 = yolo_v1, yolo_v2 = yolo_v2)\n"
   ]
  },
  {
   "cell_type": "code",
   "execution_count": 6,
   "id": "ba5f3a93",
   "metadata": {},
   "outputs": [
    {
     "name": "stdout",
     "output_type": "stream",
     "text": [
      "(18240, 10, 64, 64, 1) (18240, 8, 1)\n"
     ]
    }
   ],
   "source": [
    "MovieCreator.createNPZ(save_dir, axes = 'STXYC', save_name = npz_name, save_name_val = npz_val_name)"
   ]
  }
 ],
 "metadata": {
  "kernelspec": {
   "display_name": "Python [conda env:tensorflowGPU] *",
   "language": "python",
   "name": "conda-env-tensorflowGPU-py"
  },
  "language_info": {
   "codemirror_mode": {
    "name": "ipython",
    "version": 3
   },
   "file_extension": ".py",
   "mimetype": "text/x-python",
   "name": "python",
   "nbconvert_exporter": "python",
   "pygments_lexer": "ipython3",
   "version": "3.7.10"
  }
 },
 "nbformat": 4,
 "nbformat_minor": 5
}
