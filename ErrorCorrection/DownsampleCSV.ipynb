{
 "cells": [
  {
   "cell_type": "code",
   "execution_count": 1,
   "metadata": {},
   "outputs": [],
   "source": [
    "import os\n",
    "from pathlib import Path\n",
    "import pandas as pd\n",
    "import csv\n",
    "import glob"
   ]
  },
  {
   "cell_type": "code",
   "execution_count": 6,
   "metadata": {},
   "outputs": [],
   "source": [
    "csvfname = '/home/sancere/Kepler/FinalONEATTraining/NEATCSV/ONEATFlo_pupe2_mutant_s5_s6_s7_s8_movNormal.csv'\n",
    "\n",
    "savedir = '/home/sancere/Kepler/FinalONEATTraining/DynamicBin2ONeatCSV/'"
   ]
  },
  {
   "cell_type": "code",
   "execution_count": 7,
   "metadata": {},
   "outputs": [
    {
     "name": "stdout",
     "output_type": "stream",
     "text": [
      "1 319 1382 2\n",
      "1 336 1409 2\n",
      "1 361 1436 2\n",
      "131 606 827 2\n",
      "132 561 1243 2\n",
      "6 1029 408 2\n",
      "135 251 1284 2\n",
      "135 258 1561 2\n",
      "138 225 1188 2\n",
      "138 653 1210 2\n",
      "139 629 1273 2\n",
      "12 366 1417 2\n",
      "12 341 1398 2\n",
      "12 1009 372 2\n",
      "140 465 963 2\n",
      "141 237 1552 2\n",
      "143 315 1432 2\n",
      "145 603 844 2\n",
      "18 667 861 2\n",
      "18 1012 406 2\n",
      "146 273 1647 2\n",
      "147 473 1672 2\n",
      "148 254 1735 2\n",
      "149 645 1228 2\n",
      "150 318 1702 2\n",
      "150 322 1666 2\n",
      "23 672 864 2\n",
      "153 620 1295 2\n",
      "155 245 1316 2\n",
      "155 235 1624 2\n",
      "157 464 992 2\n",
      "159 271 1698 2\n",
      "31 1029 385 2\n",
      "161 180 1628 2\n",
      "164 460 1703 2\n",
      "165 593 1215 2\n",
      "165 573 1170 2\n",
      "38 678 862 2\n",
      "39 1020 408 2\n",
      "39 1009 336 2\n",
      "44 495 814 2\n",
      "48 247 1276 2\n",
      "55 494 811 2\n",
      "60 251 1268 2\n",
      "63 491 807 2\n",
      "78 255 1265 2\n",
      "79 222 1548 2\n",
      "85 292 1583 2\n",
      "85 311 1579 2\n",
      "87 497 1306 2\n",
      "91 272 1658 2\n",
      "92 531 1762 2\n",
      "95 500 805 2\n",
      "97 501 1498 2\n",
      "105 612 822 2\n",
      "105 219 1600 2\n",
      "107 521 1770 2\n",
      "109 274 1563 2\n",
      "111 94 1744 2\n",
      "114 571 1221 2\n",
      "114 293 1590 2\n",
      "116 257 1261 2\n",
      "117 508 1496 2\n",
      "117 271 1670 2\n",
      "118 486 1320 2\n",
      "118 222 1578 2\n",
      "119 269 1653 2\n",
      "120 187 1193 2\n",
      "121 309 1402 2\n",
      "121 326 1394 2\n",
      "125 510 1792 2\n",
      "126 666 1288 2\n"
     ]
    }
   ],
   "source": [
    "CsvName =  os.path.basename(os.path.splitext(csvfname)[0])\n",
    "writer = csv.writer(open(savedir + '/' + CsvName + \".csv\", \"a\"))\n",
    "   \n",
    "dataset = pd.read_csv(csvfname)\n",
    "time = dataset[dataset.keys()[0]][1:]\n",
    "y = dataset[dataset.keys()[1]][1:]//2\n",
    "x = dataset[dataset.keys()[2]][1:]//2\n",
    "#angle = dataset[dataset.keys()[3]][1:]\n",
    "angle =  dataset[dataset.keys()[0]][1:] * 0 + 2\n",
    "for t in range(1,len(time)):\n",
    " print(time[t],y[t],x[t],angle[t])   \n",
    " writer.writerow([time[t],y[t],x[t],angle[t]])"
   ]
  },
  {
   "cell_type": "code",
   "execution_count": null,
   "metadata": {},
   "outputs": [],
   "source": []
  }
 ],
 "metadata": {
  "kernelspec": {
   "display_name": "Python 3",
   "language": "python",
   "name": "python3"
  },
  "language_info": {
   "codemirror_mode": {
    "name": "ipython",
    "version": 3
   },
   "file_extension": ".py",
   "mimetype": "text/x-python",
   "name": "python",
   "nbconvert_exporter": "python",
   "pygments_lexer": "ipython3",
   "version": "3.6.10"
  }
 },
 "nbformat": 4,
 "nbformat_minor": 4
}
