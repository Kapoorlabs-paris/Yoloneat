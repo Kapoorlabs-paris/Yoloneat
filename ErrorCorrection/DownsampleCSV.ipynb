{
 "cells": [
  {
   "cell_type": "code",
   "execution_count": 14,
   "metadata": {},
   "outputs": [],
   "source": [
    "import os\n",
    "from pathlib import Path\n",
    "import pandas as pd\n",
    "import csv\n",
    "import glob"
   ]
  },
  {
   "cell_type": "code",
   "execution_count": 15,
   "metadata": {},
   "outputs": [],
   "source": [
    "csvfname = '/Users/aimachine/oneat_analysis/WildType/GT/DivisionLocationwt_mov12_SW30.csv'\n",
    "\n",
    "savedir = '/Users/aimachine/oneat_analysis/WildType/'"
   ]
  },
  {
   "cell_type": "code",
   "execution_count": 16,
   "metadata": {},
   "outputs": [],
   "source": [
    "CsvName =  os.path.basename(os.path.splitext(csvfname)[0])\n",
    "writer = csv.writer(open(savedir + '/' + CsvName + \".csv\", \"a\"))\n",
    "   \n",
    "dataset = pd.read_csv(csvfname)\n",
    "time = dataset[dataset.keys()[0]][1:]\n",
    "y = dataset[dataset.keys()[1]][1:]\n",
    "x = dataset[dataset.keys()[2]][1:]\n",
    "\n",
    "writer.writerow(['T','Y','X','Score','Size','Confidence','Angle'])\n",
    "for t in range(1,len(time)):\n",
    " writer.writerow([time[t],x[t],y[t],1, 10, 1,2])"
   ]
  },
  {
   "cell_type": "code",
   "execution_count": null,
   "metadata": {},
   "outputs": [],
   "source": []
  }
 ],
 "metadata": {
  "kernelspec": {
   "display_name": "Python [conda env:testenv] *",
   "language": "python",
   "name": "conda-env-testenv-py"
  },
  "language_info": {
   "codemirror_mode": {
    "name": "ipython",
    "version": 3
   },
   "file_extension": ".py",
   "mimetype": "text/x-python",
   "name": "python",
   "nbconvert_exporter": "python",
   "pygments_lexer": "ipython3",
   "version": "3.9.0"
  }
 },
 "nbformat": 4,
 "nbformat_minor": 4
}
