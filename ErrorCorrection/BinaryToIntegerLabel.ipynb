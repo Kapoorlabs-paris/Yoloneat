{
 "cells": [
  {
   "cell_type": "code",
   "execution_count": 1,
   "metadata": {},
   "outputs": [],
   "source": [
    "import os\n",
    "import sys\n",
    "sys.path.append('../')\n",
    "from NEAT.NEATUtils.helpers import IntergerLabelGen\n",
    "from pathlib import Path\n",
    "from tifffile import imread"
   ]
  },
  {
   "cell_type": "code",
   "execution_count": 2,
   "metadata": {},
   "outputs": [],
   "source": [
    "BinaryFile = '/home/sancere/Kepler/Lucas2Varun/1_Movies2_for_training_ONEAT/All_Movies/Flo_pupe2_mutant_s5_s6_s7_s8_mov/SEGMENTATION_Flo_pupe2_mutant_s5_s6_s7_s8_mov/results_Flo_pupe2_mutant_s5_s6_s7_s8_mov/results_Flo_pupe2_mutant_s5_s6_s7_s8_mov.tif'\n",
    "IntegerDir = '/home/sancere/Kepler/FinalONEATTraining/NEATSegImages/'"
   ]
  },
  {
   "cell_type": "code",
   "execution_count": 3,
   "metadata": {},
   "outputs": [
    {
     "name": "stderr",
     "output_type": "stream",
     "text": [
      "100%|████████████████████████████████████████████████████████████████████████████████████████████████████████████████████████████████████████████████████████████████████████████| 181/181 [02:54<00:00,  1.04it/s]\n"
     ]
    }
   ],
   "source": [
    "BinaryImage = imread(BinaryFile)\n",
    "Name = os.path.basename(os.path.splitext(BinaryFile)[0])\n",
    "IntergerLabelGen(BinaryImage, Name, IntegerDir)"
   ]
  },
  {
   "cell_type": "code",
   "execution_count": null,
   "metadata": {},
   "outputs": [],
   "source": []
  }
 ],
 "metadata": {
  "kernelspec": {
   "display_name": "Python 3 (ipykernel)",
   "language": "python",
   "name": "python3"
  },
  "language_info": {
   "codemirror_mode": {
    "name": "ipython",
    "version": 3
   },
   "file_extension": ".py",
   "mimetype": "text/x-python",
   "name": "python",
   "nbconvert_exporter": "python",
   "pygments_lexer": "ipython3",
   "version": "3.7.10"
  }
 },
 "nbformat": 4,
 "nbformat_minor": 4
}
