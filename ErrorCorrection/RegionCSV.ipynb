{
 "cells": [
  {
   "cell_type": "code",
   "execution_count": 10,
   "metadata": {},
   "outputs": [],
   "source": [
    "import os\n",
    "from pathlib import Path\n",
    "import pandas as pd\n",
    "import csv\n",
    "import glob"
   ]
  },
  {
   "cell_type": "code",
   "execution_count": 11,
   "metadata": {},
   "outputs": [],
   "source": [
    "csvfname = '/home/sancere/VKepler/CurieTrainingDatasets/oneatcsv/divisiondiamondclassic/ExtraCSV/ONEATwt_mov11Division.csv'\n",
    "\n",
    "savedir = '/home/sancere/VKepler/CurieTrainingDatasets/oneatcsv/divisiondiamondclassic/'\n",
    "Path(savedir).mkdir(exist_ok=True)"
   ]
  },
  {
   "cell_type": "code",
   "execution_count": 12,
   "metadata": {},
   "outputs": [],
   "source": [
    "CsvName =  os.path.basename(os.path.splitext(csvfname)[0])\n",
    "writer = csv.writer(open(savedir + '/' + CsvName + \".csv\", \"a\"))\n",
    "   \n",
    "dataset = pd.read_csv(csvfname)\n",
    "time = dataset[dataset.keys()[0]][1:]\n",
    "y = dataset[dataset.keys()[1]][1:]\n",
    "x = dataset[dataset.keys()[2]][1:]\n",
    "\n",
    "writer.writerow(['T','Y','X'])\n",
    "for t in range(1,len(time)):\n",
    " if x[t] > 570 and x[t] < 1400 and y[t] > 145 and y[t] < 640:     \n",
    "     writer.writerow([time[t],y[t],x[t]])"
   ]
  },
  {
   "cell_type": "code",
   "execution_count": null,
   "metadata": {},
   "outputs": [],
   "source": []
  }
 ],
 "metadata": {
  "kernelspec": {
   "display_name": "Python [conda env:tensorflowGPU] *",
   "language": "python",
   "name": "conda-env-tensorflowGPU-py"
  },
  "language_info": {
   "codemirror_mode": {
    "name": "ipython",
    "version": 3
   },
   "file_extension": ".py",
   "mimetype": "text/x-python",
   "name": "python",
   "nbconvert_exporter": "python",
   "pygments_lexer": "ipython3",
   "version": "3.7.10"
  }
 },
 "nbformat": 4,
 "nbformat_minor": 4
}
