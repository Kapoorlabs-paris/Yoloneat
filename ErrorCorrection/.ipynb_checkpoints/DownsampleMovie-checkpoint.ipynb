{
 "cells": [
  {
   "cell_type": "code",
   "execution_count": 3,
   "id": "4eb910e7",
   "metadata": {},
   "outputs": [
    {
     "ename": "ModuleNotFoundError",
     "evalue": "No module named 'NEATUtils'",
     "output_type": "error",
     "traceback": [
      "\u001b[0;31m---------------------------------------------------------------------------\u001b[0m",
      "\u001b[0;31mModuleNotFoundError\u001b[0m                       Traceback (most recent call last)",
      "\u001b[0;32m<ipython-input-3-52469cb759de>\u001b[0m in \u001b[0;36m<module>\u001b[0;34m\u001b[0m\n\u001b[1;32m      3\u001b[0m \u001b[0;32mfrom\u001b[0m \u001b[0mtifffile\u001b[0m \u001b[0;32mimport\u001b[0m \u001b[0mimread\u001b[0m\u001b[0;34m,\u001b[0m \u001b[0mimwrite\u001b[0m\u001b[0;34m\u001b[0m\u001b[0;34m\u001b[0m\u001b[0m\n\u001b[1;32m      4\u001b[0m \u001b[0msys\u001b[0m\u001b[0;34m.\u001b[0m\u001b[0mpath\u001b[0m\u001b[0;34m.\u001b[0m\u001b[0mappend\u001b[0m\u001b[0;34m(\u001b[0m\u001b[0;34m\"../\"\u001b[0m\u001b[0;34m)\u001b[0m\u001b[0;34m\u001b[0m\u001b[0;34m\u001b[0m\u001b[0m\n\u001b[0;32m----> 5\u001b[0;31m \u001b[0;32mfrom\u001b[0m \u001b[0mNEATUtils\u001b[0m\u001b[0;34m.\u001b[0m\u001b[0mhelpers\u001b[0m \u001b[0;32mimport\u001b[0m \u001b[0mIntergerLabelGen\u001b[0m\u001b[0;34m\u001b[0m\u001b[0;34m\u001b[0m\u001b[0m\n\u001b[0m\u001b[1;32m      6\u001b[0m \u001b[0;32mfrom\u001b[0m \u001b[0mpathlib\u001b[0m \u001b[0;32mimport\u001b[0m \u001b[0mPath\u001b[0m\u001b[0;34m\u001b[0m\u001b[0;34m\u001b[0m\u001b[0m\n",
      "\u001b[0;31mModuleNotFoundError\u001b[0m: No module named 'NEATUtils'"
     ]
    }
   ],
   "source": [
    "import os\n",
    "import sys\n",
    "from tifffile import imread, imwrite\n",
    "\n",
    "from NEAT.NEATUtils.helpers import IntergerLabelGen\n",
    "from pathlib import Path"
   ]
  },
  {
   "cell_type": "code",
   "execution_count": null,
   "id": "57035685",
   "metadata": {},
   "outputs": [],
   "source": [
    "MovieFile = '/home/sancere/Kepler/FinalONEATTraining/NEATImages/EcRDN_b.tif'\n",
    "BinaryFile = '/home/sancere/Kepler/FinalONEATTraining/BinarySegMovie/EcRDN_b.tif'\n",
    "IntegerDir = '/home/sancere/Kepler/FinalONEATTraining/NEATSegImages/EcRDN_b.tif'\n",
    "\n",
    "SaveMovieDir = '/home/sancere/Kepler/FinalONEATTraining/Bin2ONeatImages/'\n",
    "SaveIntegerDir = '/home/sancere/Kepler/FinalONEATTraining/Bin2ONeatSegImages/'\n"
   ]
  },
  {
   "cell_type": "code",
   "execution_count": null,
   "id": "73e23cae",
   "metadata": {},
   "outputs": [],
   "source": [
    "def Downsample(image):\n",
    "    \n",
    "    resizeimage = np.zeros([image.shape[0], image.shape[1], image.shape[2]])\n",
    "    for i in range(0, image.shape[0]):\n",
    "        img = image[i,:]\n",
    "        scale_percent = 50 # percent of original size\n",
    "        width = int(img.shape[1] * scale_percent / 100)\n",
    "        height = int(img.shape[0] * scale_percent / 100)\n",
    "        dim = (width, height)\n",
    "\n",
    "        # resize image\n",
    "        resized = cv2.resize(img, dim, interpolation = cv2.INTER_LINEAR)\n",
    "        resizeimage[i,:] = resized"
   ]
  },
  {
   "cell_type": "code",
   "execution_count": null,
   "id": "d16ef1bf",
   "metadata": {},
   "outputs": [],
   "source": [
    "image = Downsample(imread(MovieFile))\n",
    "binaryimage = Downsample(imread(BinaryFile))\n",
    "Name = os.path.basename(os.path.splitext(BinaryFile)[0])\n",
    "IntergerLabelGen(binaryimage, Name, SaveIntegerDir)\n",
    "imwrite(SaveMovieDir + '/' + Name + '.tif', image)\n",
    "\n"
   ]
  }
 ],
 "metadata": {
  "kernelspec": {
   "display_name": "Python [conda env:tensorflowGPU] *",
   "language": "python",
   "name": "conda-env-tensorflowGPU-py"
  },
  "language_info": {
   "codemirror_mode": {
    "name": "ipython",
    "version": 3
   },
   "file_extension": ".py",
   "mimetype": "text/x-python",
   "name": "python",
   "nbconvert_exporter": "python",
   "pygments_lexer": "ipython3",
   "version": "3.6.10"
  }
 },
 "nbformat": 4,
 "nbformat_minor": 5
}
