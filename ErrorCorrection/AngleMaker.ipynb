{
 "cells": [
  {
   "cell_type": "code",
   "execution_count": 10,
   "metadata": {},
   "outputs": [],
   "source": [
    "import os\n",
    "import sys\n",
    "sys.path.append(\"../\")\n",
    "from NEAT.NEATUtils.MovieCreator import AngleAppender\n",
    "from pathlib import Path"
   ]
  },
  {
   "cell_type": "code",
   "execution_count": 11,
   "metadata": {},
   "outputs": [],
   "source": [
    "AngleCSV = '/home/sancere/Kepler/Lucas2Varun/1_Movies2_for_training_ONEAT/All_Movies/Flo_pupe2_mutant_s5_s6_s7_s8_mov/Flo_pupe2_mutant_s5_s6_s7_s8_mov_Divisions_Coordinates_TYXangle.csv'\n",
    "ONTCSV = '/home/sancere/Kepler/Lucas2Varun/1_Movies2_for_training_ONEAT/All_Movies/Flo_pupe2_mutant_s5_s6_s7_s8_mov/ONEATFlo_pupe2_mutant_s5_s6_s7_s8_movFlo_pupe2_mutant_s5_s6_s7_s8_mov_Divisions_Coordinates_TYXangle_kept20-40.csv'\n",
    "savedir = '/home/sancere/Kepler/FinalONEATTraining/NEATCSV/'\n",
    "FirstColumn = 'Y'"
   ]
  },
  {
   "cell_type": "code",
   "execution_count": 12,
   "metadata": {},
   "outputs": [],
   "source": [
    " AngleAppender(AngleCSV, ONTCSV, savedir, ColumnA = FirstColumn)"
   ]
  },
  {
   "cell_type": "code",
   "execution_count": null,
   "metadata": {},
   "outputs": [],
   "source": []
  }
 ],
 "metadata": {
  "kernelspec": {
   "display_name": "Python 3",
   "language": "python",
   "name": "python3"
  },
  "language_info": {
   "codemirror_mode": {
    "name": "ipython",
    "version": 3
   },
   "file_extension": ".py",
   "mimetype": "text/x-python",
   "name": "python",
   "nbconvert_exporter": "python",
   "pygments_lexer": "ipython3",
   "version": "3.6.10"
  }
 },
 "nbformat": 4,
 "nbformat_minor": 4
}
