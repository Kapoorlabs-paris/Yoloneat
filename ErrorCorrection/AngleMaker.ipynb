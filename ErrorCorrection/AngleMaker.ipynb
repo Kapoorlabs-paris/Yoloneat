{
 "cells": [
  {
   "cell_type": "code",
   "execution_count": 1,
   "metadata": {},
   "outputs": [],
   "source": [
    "import os\n",
    "import sys\n",
    "sys.path.append(\"../\")\n",
    "from NEAT.NEATUtils.MovieCreator import AngleAppender\n",
    "from pathlib import Path"
   ]
  },
  {
   "cell_type": "code",
   "execution_count": 6,
   "metadata": {},
   "outputs": [],
   "source": [
    "ONTCSV = '/home/sancere/Kepler/Lucas2Varun/1_Movies2_for_training_ONEAT/All_Movies/Flo_pupe2_mutant_s5_s6_s7_s8_mov/ONEATFlo_pupe2_mutant_s5_s6_s7_s8_movFlo_pupe2_mutant_s5_s6_s7_s8_movDivision.csv'\n",
    "AngleCSV = '/home/sancere/Kepler/Lucas2Varun/1_Movies2_for_training_ONEAT/All_Movies/Flo_pupe2_mutant_s5_s6_s7_s8_mov/Flo_pupe2_mutant_s5_s6_s7_s8_mov_Divisions_Coordinates_TYXangle.csv'\n",
    "savedir = '/home/sancere/Kepler/FinalONEATTraining/NEATCSV/'\n",
    "FirstColumn = 'Y'"
   ]
  },
  {
   "cell_type": "code",
   "execution_count": 7,
   "metadata": {},
   "outputs": [
    {
     "name": "stdout",
     "output_type": "stream",
     "text": [
      "1        0.722780\n",
      "2        0.500000\n",
      "3        0.657230\n",
      "4        0.432810\n",
      "5        0.000000\n",
      "           ...   \n",
      "12674    0.223540\n",
      "12675    0.477300\n",
      "12676    0.049848\n",
      "12677    0.442750\n",
      "12678    0.009944\n",
      "Name: 0.559, Length: 12678, dtype: float64\n"
     ]
    }
   ],
   "source": [
    " AngleAppender(AngleCSV, ONTCSV, savedir, ColumnA = FirstColumn)"
   ]
  },
  {
   "cell_type": "code",
   "execution_count": null,
   "metadata": {},
   "outputs": [],
   "source": []
  }
 ],
 "metadata": {
  "kernelspec": {
   "display_name": "Python 3",
   "language": "python",
   "name": "python3"
  },
  "language_info": {
   "codemirror_mode": {
    "name": "ipython",
    "version": 3
   },
   "file_extension": ".py",
   "mimetype": "text/x-python",
   "name": "python",
   "nbconvert_exporter": "python",
   "pygments_lexer": "ipython3",
   "version": "3.6.10"
  }
 },
 "nbformat": 4,
 "nbformat_minor": 4
}
