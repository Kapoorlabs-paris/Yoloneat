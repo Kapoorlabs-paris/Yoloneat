{
 "cells": [
  {
   "cell_type": "code",
   "execution_count": 12,
   "id": "6392e1e1",
   "metadata": {},
   "outputs": [],
   "source": [
    "import os\n",
    "import sys\n",
    "from tifffile import imread, imwrite\n",
    "import numpy as np\n",
    "from NEAT.NEATUtils.helpers import IntergerLabelGen\n",
    "from pathlib import Path\n",
    "import cv2"
   ]
  },
  {
   "cell_type": "code",
   "execution_count": 22,
   "id": "1846b32c",
   "metadata": {},
   "outputs": [],
   "source": [
    "MovieFile = '/home/sancere/Kepler/FinalONEATTraining/NEATImages/EcRDN_b.tif'\n",
    "BinaryFile = '/home/sancere/Kepler/FinalONEATTraining/BinarySegMovie/EcRDN_b.tif'\n",
    "IntegerDir = '/home/sancere/Kepler/FinalONEATTraining/NEATSegImages/EcRDN_b.tif'\n",
    "\n",
    "SaveMovieDir = '/home/sancere/Kepler/FinalONEATTraining/Bin2ONeatImages/'\n",
    "SaveIntegerDir = '/home/sancere/Kepler/FinalONEATTraining/Bin2ONeatSegImages/'\n"
   ]
  },
  {
   "cell_type": "code",
   "execution_count": 23,
   "id": "7e929e93",
   "metadata": {},
   "outputs": [],
   "source": [
    "def Downsample(image):\n",
    "    \n",
    "    resizeimage = np.zeros([image.shape[0], image.shape[1]//2, image.shape[2]//2])\n",
    "    for i in range(0, image.shape[0]):\n",
    "        img = image[i,:]\n",
    "        scale_percent = 50 # percent of original size\n",
    "        width = int(img.shape[1] * scale_percent / 100)\n",
    "        height = int(img.shape[0] * scale_percent / 100)\n",
    "        dim = (width, height)\n",
    "\n",
    "        # resize image\n",
    "        resized = cv2.resize(img, dim, interpolation = cv2.INTER_LINEAR)\n",
    "        resizeimage[i,:] = resized\n",
    "    return resizeimage    "
   ]
  },
  {
   "cell_type": "code",
   "execution_count": 24,
   "id": "c55c9285",
   "metadata": {},
   "outputs": [
    {
     "name": "stderr",
     "output_type": "stream",
     "text": [
      "100%|██████████| 100/100 [00:05<00:00, 17.64it/s]\n"
     ]
    }
   ],
   "source": [
    "image = Downsample(imread(MovieFile))\n",
    "binaryimage = Downsample(imread(BinaryFile))\n",
    "Name = os.path.basename(os.path.splitext(BinaryFile)[0])\n",
    "IntergerLabelGen(binaryimage, Name, SaveIntegerDir)\n",
    "imwrite(SaveMovieDir + '/' + Name + '.tif', image)\n",
    "\n"
   ]
  },
  {
   "cell_type": "code",
   "execution_count": null,
   "id": "39d966e4",
   "metadata": {},
   "outputs": [],
   "source": []
  }
 ],
 "metadata": {
  "kernelspec": {
   "display_name": "Python [conda env:tensorflowGPU] *",
   "language": "python",
   "name": "conda-env-tensorflowGPU-py"
  },
  "language_info": {
   "codemirror_mode": {
    "name": "ipython",
    "version": 3
   },
   "file_extension": ".py",
   "mimetype": "text/x-python",
   "name": "python",
   "nbconvert_exporter": "python",
   "pygments_lexer": "ipython3",
   "version": "3.6.10"
  }
 },
 "nbformat": 4,
 "nbformat_minor": 5
}
