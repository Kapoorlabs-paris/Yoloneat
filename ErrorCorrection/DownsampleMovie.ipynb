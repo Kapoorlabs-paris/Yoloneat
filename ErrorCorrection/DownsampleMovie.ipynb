{
 "cells": [
  {
   "cell_type": "code",
   "execution_count": 17,
   "id": "1d94d36b",
   "metadata": {},
   "outputs": [],
   "source": [
    "import os\n",
    "import sys\n",
    "sys.path.append('../')\n",
    "from tifffile import imread, imwrite\n",
    "import numpy as np\n",
    "from NEAT.NEATUtils.helpers import IntergerLabelGen\n",
    "from pathlib import Path\n",
    "import cv2\n",
    "from scipy.ndimage.morphology import  binary_dilation  \n",
    "from skimage.morphology import erosion, dilation, square"
   ]
  },
  {
   "cell_type": "code",
   "execution_count": 18,
   "id": "253482ce",
   "metadata": {},
   "outputs": [],
   "source": [
    "MovieFile = '/home/sancere/Kepler/FinalONEATTraining/NEATImages/wt_N10.tif'\n",
    "\n",
    "\n",
    "SaveMovieDir = '/home/sancere/Kepler/FinalONEATTraining/Bin2ONeatImages/'\n",
    "\n"
   ]
  },
  {
   "cell_type": "code",
   "execution_count": 19,
   "id": "5dbab0bb",
   "metadata": {},
   "outputs": [],
   "source": [
    "def Downsample(image):\n",
    "    \n",
    "    resizeimage = np.zeros([image.shape[0], image.shape[1]//2, image.shape[2]//2])\n",
    "    for i in range(0, image.shape[0]):\n",
    "        img = image[i,:].astype('float32')\n",
    "        scale_percent = 50 # percent of original size\n",
    "        width = int(img.shape[1] * scale_percent / 100)\n",
    "        height = int(img.shape[0] * scale_percent / 100)\n",
    "        dim = (width, height)\n",
    "\n",
    "        # resize image\n",
    "        resized = cv2.resize(img, dim, interpolation = cv2.INTER_LINEAR)\n",
    "        resizeimage[i,:] = resized\n",
    "    return resizeimage    "
   ]
  },
  {
   "cell_type": "code",
   "execution_count": 20,
   "id": "b483c7a0",
   "metadata": {},
   "outputs": [],
   "source": [
    "image = Downsample(imread(MovieFile))\n",
    "\n",
    "Name = os.path.basename(os.path.splitext(MovieFile)[0])\n",
    "\n",
    "imwrite(SaveMovieDir + '/' + Name + '.tif', image)\n"
   ]
  },
  {
   "cell_type": "code",
   "execution_count": null,
   "id": "b60d7d6c",
   "metadata": {},
   "outputs": [],
   "source": []
  }
 ],
 "metadata": {
  "kernelspec": {
   "display_name": "Python [conda env:tensorflowGPU] *",
   "language": "python",
   "name": "conda-env-tensorflowGPU-py"
  },
  "language_info": {
   "codemirror_mode": {
    "name": "ipython",
    "version": 3
   },
   "file_extension": ".py",
   "mimetype": "text/x-python",
   "name": "python",
   "nbconvert_exporter": "python",
   "pygments_lexer": "ipython3",
   "version": "3.6.10"
  }
 },
 "nbformat": 4,
 "nbformat_minor": 5
}
