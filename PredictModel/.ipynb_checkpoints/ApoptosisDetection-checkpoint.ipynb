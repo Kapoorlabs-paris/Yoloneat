{
 "cells": [
  {
   "cell_type": "code",
   "execution_count": null,
   "id": "beautiful-median",
   "metadata": {},
   "outputs": [],
   "source": [
    "import sys\n",
    "import os\n",
    "from glob import glob\n",
    "sys.path.append(\"../NEAT\")\n",
    "from NEATModels import NEATDetection, nets\n",
    "from NEATModels.config import NeatConfig\n",
    "from NEATUtils import helpers\n",
    "from NEATUtils.helpers import load_json\n",
    "os.environ[\"CUDA_VISIBLE_DEVICES\"]=\"0\"\n",
    "os.environ[\"HDF5_USE_FILE_LOCKING\"] = \"FALSE\""
   ]
  },
  {
   "cell_type": "code",
   "execution_count": null,
   "id": "critical-bronze",
   "metadata": {},
   "outputs": [],
   "source": [
    "imagename = '/home/sancere/Kepler/Dynamictest/image.tif'\n",
    "model_dir = '/home/sancere/Kepler/FinalONEATTraining/Bin2ONeatModelV0/'\n",
    "model_name = 'ApoptosisOSnetbin2d47V1f48.h5'\n",
    "model = NEATDetection(model_dir + model_name)\n",
    "n_tiles = (1,1)\n",
    "overlap_percent = 0.8\n",
    "event_threshold = 0.5\n",
    "iou_threshold = 0.01"
   ]
  },
  {
   "cell_type": "code",
   "execution_count": null,
   "id": "lesser-wholesale",
   "metadata": {},
   "outputs": [],
   "source": [
    "model.predict(imagename, n_tiles = n_tiles, overlap_percent = overlap_percent, event_threshold = event_threshold, iou_threshold = iou_threshold)"
   ]
  }
 ],
 "metadata": {
  "kernelspec": {
   "display_name": "Python 3",
   "language": "python",
   "name": "python3"
  },
  "language_info": {
   "codemirror_mode": {
    "name": "ipython",
    "version": 3
   },
   "file_extension": ".py",
   "mimetype": "text/x-python",
   "name": "python",
   "nbconvert_exporter": "python",
   "pygments_lexer": "ipython3",
   "version": "3.6.10"
  }
 },
 "nbformat": 4,
 "nbformat_minor": 5
}
