{
 "cells": [
  {
   "cell_type": "code",
   "execution_count": 1,
   "id": "87ec8896",
   "metadata": {},
   "outputs": [
    {
     "ename": "ModuleNotFoundError",
     "evalue": "No module named 'keras'",
     "output_type": "error",
     "traceback": [
      "\u001b[0;31m---------------------------------------------------------------------------\u001b[0m",
      "\u001b[0;31mModuleNotFoundError\u001b[0m                       Traceback (most recent call last)",
      "\u001b[0;32m/tmp/ipykernel_5475/86376396.py\u001b[0m in \u001b[0;36m<module>\u001b[0;34m\u001b[0m\n\u001b[1;32m      3\u001b[0m \u001b[0;32mimport\u001b[0m \u001b[0mglob\u001b[0m\u001b[0;34m\u001b[0m\u001b[0;34m\u001b[0m\u001b[0m\n\u001b[1;32m      4\u001b[0m \u001b[0msys\u001b[0m\u001b[0;34m.\u001b[0m\u001b[0mpath\u001b[0m\u001b[0;34m.\u001b[0m\u001b[0mappend\u001b[0m\u001b[0;34m(\u001b[0m\u001b[0;34m\"../NEAT\"\u001b[0m\u001b[0;34m)\u001b[0m\u001b[0;34m\u001b[0m\u001b[0;34m\u001b[0m\u001b[0m\n\u001b[0;32m----> 5\u001b[0;31m \u001b[0;32mfrom\u001b[0m \u001b[0mNEATModels\u001b[0m \u001b[0;32mimport\u001b[0m \u001b[0mNEATFocus\u001b[0m\u001b[0;34m,\u001b[0m \u001b[0mnets\u001b[0m\u001b[0;34m\u001b[0m\u001b[0;34m\u001b[0m\u001b[0m\n\u001b[0m\u001b[1;32m      6\u001b[0m \u001b[0;32mfrom\u001b[0m \u001b[0mNEATModels\u001b[0m\u001b[0;34m.\u001b[0m\u001b[0mconfig\u001b[0m \u001b[0;32mimport\u001b[0m \u001b[0mdynamic_config\u001b[0m\u001b[0;34m\u001b[0m\u001b[0;34m\u001b[0m\u001b[0m\n\u001b[1;32m      7\u001b[0m \u001b[0;32mfrom\u001b[0m \u001b[0mNEATUtils\u001b[0m \u001b[0;32mimport\u001b[0m \u001b[0mhelpers\u001b[0m\u001b[0;34m\u001b[0m\u001b[0;34m\u001b[0m\u001b[0m\n",
      "\u001b[0;32m~/anaconda3/bin/Yoloneat/NEAT/NEATModels/__init__.py\u001b[0m in \u001b[0;36m<module>\u001b[0;34m\u001b[0m\n\u001b[1;32m      4\u001b[0m \u001b[0;31m#imports\u001b[0m\u001b[0;34m\u001b[0m\u001b[0;34m\u001b[0m\u001b[0;34m\u001b[0m\u001b[0m\n\u001b[1;32m      5\u001b[0m \u001b[0;34m\u001b[0m\u001b[0m\n\u001b[0;32m----> 6\u001b[0;31m \u001b[0;32mfrom\u001b[0m \u001b[0mNEATModels\u001b[0m\u001b[0;34m.\u001b[0m\u001b[0mneat_goldstandard\u001b[0m \u001b[0;32mimport\u001b[0m \u001b[0mNEATDynamic\u001b[0m\u001b[0;34m\u001b[0m\u001b[0;34m\u001b[0m\u001b[0m\n\u001b[0m\u001b[1;32m      7\u001b[0m \u001b[0;32mfrom\u001b[0m \u001b[0mNEATModels\u001b[0m\u001b[0;34m.\u001b[0m\u001b[0mneat_focus\u001b[0m \u001b[0;32mimport\u001b[0m \u001b[0mNEATFocus\u001b[0m\u001b[0;34m\u001b[0m\u001b[0;34m\u001b[0m\u001b[0m\n\u001b[1;32m      8\u001b[0m \u001b[0;32mfrom\u001b[0m \u001b[0mNEATModels\u001b[0m\u001b[0;34m.\u001b[0m\u001b[0mneat_faststandard\u001b[0m \u001b[0;32mimport\u001b[0m \u001b[0mNEATDynamicSegFree\u001b[0m\u001b[0;34m\u001b[0m\u001b[0;34m\u001b[0m\u001b[0m\n",
      "\u001b[0;32m~/anaconda3/bin/Yoloneat/NEAT/NEATModels/neat_goldstandard.py\u001b[0m in \u001b[0;36m<module>\u001b[0;34m\u001b[0m\n\u001b[0;32m----> 1\u001b[0;31m \u001b[0;32mfrom\u001b[0m \u001b[0mNEATUtils\u001b[0m \u001b[0;32mimport\u001b[0m \u001b[0mplotters\u001b[0m\u001b[0;34m\u001b[0m\u001b[0;34m\u001b[0m\u001b[0m\n\u001b[0m\u001b[1;32m      2\u001b[0m \u001b[0;32mimport\u001b[0m \u001b[0mnumpy\u001b[0m \u001b[0;32mas\u001b[0m \u001b[0mnp\u001b[0m\u001b[0;34m\u001b[0m\u001b[0;34m\u001b[0m\u001b[0m\n\u001b[1;32m      3\u001b[0m \u001b[0;32mfrom\u001b[0m \u001b[0mNEATUtils\u001b[0m \u001b[0;32mimport\u001b[0m \u001b[0mhelpers\u001b[0m\u001b[0;34m\u001b[0m\u001b[0;34m\u001b[0m\u001b[0m\n\u001b[1;32m      4\u001b[0m \u001b[0;32mfrom\u001b[0m \u001b[0mNEATUtils\u001b[0m\u001b[0;34m.\u001b[0m\u001b[0mhelpers\u001b[0m \u001b[0;32mimport\u001b[0m \u001b[0mget_nearest\u001b[0m\u001b[0;34m,\u001b[0m \u001b[0msave_json\u001b[0m\u001b[0;34m,\u001b[0m \u001b[0mload_json\u001b[0m\u001b[0;34m,\u001b[0m \u001b[0myoloprediction\u001b[0m\u001b[0;34m,\u001b[0m \u001b[0mnormalizeFloatZeroOne\u001b[0m\u001b[0;34m,\u001b[0m \u001b[0mGenerateMarkers\u001b[0m\u001b[0;34m,\u001b[0m \u001b[0mDensityCounter\u001b[0m\u001b[0;34m,\u001b[0m \u001b[0mMakeTrees\u001b[0m\u001b[0;34m,\u001b[0m \u001b[0mnonfcn_yoloprediction\u001b[0m\u001b[0;34m,\u001b[0m \u001b[0mfastnms\u001b[0m\u001b[0;34m,\u001b[0m \u001b[0maveragenms\u001b[0m\u001b[0;34m\u001b[0m\u001b[0;34m\u001b[0m\u001b[0m\n\u001b[1;32m      5\u001b[0m \u001b[0;32mfrom\u001b[0m \u001b[0mkeras\u001b[0m \u001b[0;32mimport\u001b[0m \u001b[0mcallbacks\u001b[0m\u001b[0;34m\u001b[0m\u001b[0;34m\u001b[0m\u001b[0m\n",
      "\u001b[0;32m~/anaconda3/bin/Yoloneat/NEAT/NEATUtils/plotters.py\u001b[0m in \u001b[0;36m<module>\u001b[0;34m\u001b[0m\n\u001b[0;32m----> 1\u001b[0;31m \u001b[0;32mimport\u001b[0m \u001b[0mkeras\u001b[0m\u001b[0;34m\u001b[0m\u001b[0;34m\u001b[0m\u001b[0m\n\u001b[0m\u001b[1;32m      2\u001b[0m \u001b[0;32mimport\u001b[0m \u001b[0mmatplotlib\u001b[0m\u001b[0;34m.\u001b[0m\u001b[0mpyplot\u001b[0m \u001b[0;32mas\u001b[0m \u001b[0mplt\u001b[0m\u001b[0;34m\u001b[0m\u001b[0;34m\u001b[0m\u001b[0m\n\u001b[1;32m      3\u001b[0m \u001b[0;32mfrom\u001b[0m \u001b[0mmatplotlib\u001b[0m \u001b[0;32mimport\u001b[0m \u001b[0mcm\u001b[0m\u001b[0;34m\u001b[0m\u001b[0;34m\u001b[0m\u001b[0m\n\u001b[1;32m      4\u001b[0m \u001b[0;32mimport\u001b[0m \u001b[0mnumpy\u001b[0m \u001b[0;32mas\u001b[0m \u001b[0mnp\u001b[0m\u001b[0;34m\u001b[0m\u001b[0;34m\u001b[0m\u001b[0m\n\u001b[1;32m      5\u001b[0m \u001b[0;32mimport\u001b[0m \u001b[0mrandom\u001b[0m\u001b[0;34m\u001b[0m\u001b[0;34m\u001b[0m\u001b[0m\n",
      "\u001b[0;31mModuleNotFoundError\u001b[0m: No module named 'keras'"
     ]
    }
   ],
   "source": [
    "\n",
    "import sys\n",
    "import os\n",
    "import glob\n",
    "sys.path.append(\"../NEAT\")\n",
    "from NEATModels import NEATFocus, nets\n",
    "from NEATModels.config import dynamic_config\n",
    "from NEATUtils import helpers\n",
    "from NEATUtils.helpers import load_json\n",
    "os.environ[\"CUDA_VISIBLE_DEVICES\"]=\"1\"\n",
    "os.environ[\"HDF5_USE_FILE_LOCKING\"] = \"FALSE\"\n",
    "from pathlib import Path"
   ]
  },
  {
   "cell_type": "code",
   "execution_count": 2,
   "id": "b843f28a",
   "metadata": {},
   "outputs": [
    {
     "ename": "NameError",
     "evalue": "name 'load_json' is not defined",
     "output_type": "error",
     "traceback": [
      "\u001b[0;31m---------------------------------------------------------------------------\u001b[0m",
      "\u001b[0;31mNameError\u001b[0m                                 Traceback (most recent call last)",
      "\u001b[0;32m/tmp/ipykernel_5475/3550593961.py\u001b[0m in \u001b[0;36m<module>\u001b[0;34m\u001b[0m\n\u001b[1;32m      5\u001b[0m \u001b[0mmodel_name\u001b[0m \u001b[0;34m=\u001b[0m \u001b[0;34m'cadhistoned29s4f16res'\u001b[0m\u001b[0;34m\u001b[0m\u001b[0;34m\u001b[0m\u001b[0m\n\u001b[1;32m      6\u001b[0m \u001b[0mfocus_categories_json\u001b[0m \u001b[0;34m=\u001b[0m \u001b[0mmodel_dir\u001b[0m \u001b[0;34m+\u001b[0m \u001b[0;34m'FocusCategories.json'\u001b[0m\u001b[0;34m\u001b[0m\u001b[0;34m\u001b[0m\u001b[0m\n\u001b[0;32m----> 7\u001b[0;31m \u001b[0mcatconfig\u001b[0m \u001b[0;34m=\u001b[0m \u001b[0mload_json\u001b[0m\u001b[0;34m(\u001b[0m\u001b[0mfocus_categories_json\u001b[0m\u001b[0;34m)\u001b[0m\u001b[0;34m\u001b[0m\u001b[0;34m\u001b[0m\u001b[0m\n\u001b[0m\u001b[1;32m      8\u001b[0m \u001b[0mfocus_cord_json\u001b[0m \u001b[0;34m=\u001b[0m \u001b[0mmodel_dir\u001b[0m \u001b[0;34m+\u001b[0m \u001b[0;34m'FocusCord.json'\u001b[0m\u001b[0;34m\u001b[0m\u001b[0;34m\u001b[0m\u001b[0m\n\u001b[1;32m      9\u001b[0m \u001b[0mcordconfig\u001b[0m \u001b[0;34m=\u001b[0m \u001b[0mload_json\u001b[0m\u001b[0;34m(\u001b[0m\u001b[0mfocus_cord_json\u001b[0m\u001b[0;34m)\u001b[0m\u001b[0;34m\u001b[0m\u001b[0;34m\u001b[0m\u001b[0m\n",
      "\u001b[0;31mNameError\u001b[0m: name 'load_json' is not defined"
     ]
    }
   ],
   "source": [
    "imagedir = '/home/sancere/Kepler/CurieTrainingDatasets/foconeatimages/Test/'\n",
    "model_dir = '/home/sancere/Kepler/CurieDeepLearningModels/OneatModels/Focusoneatmodels/'\n",
    "savedir= '/home/sancere/Kepler/CurieTrainingDatasets/foconeatimages/Predictionsd29s4f16res/'\n",
    "\n",
    "model_name = 'cadhistoned29s4f16res'\n",
    "focus_categories_json = model_dir + 'FocusCategories.json'\n",
    "catconfig = load_json(focus_categories_json)\n",
    "focus_cord_json = model_dir + 'FocusCord.json'\n",
    "cordconfig = load_json(focus_cord_json)\n",
    "model = NEATFocus(None, model_dir , model_name,catconfig, cordconfig)\n",
    "Path(savedir).mkdir(exist_ok=True)\n",
    "n_tiles = (1,1)\n",
    "interest_event = (\"BestCad\", \"BestNuclei\")"
   ]
  },
  {
   "cell_type": "markdown",
   "id": "59554497",
   "metadata": {},
   "source": [
    "# In the code block below compute the markers and make a dictionary for each image"
   ]
  },
  {
   "cell_type": "code",
   "execution_count": null,
   "id": "510d2e87",
   "metadata": {
    "scrolled": false
   },
   "outputs": [
    {
     "name": "stderr",
     "output_type": "stream",
     "text": [
      "2021-08-12 12:54:03.724923: I tensorflow/stream_executor/platform/default/dso_loader.cc:44] Successfully opened dynamic library libcuda.so.1\n",
      "2021-08-12 12:54:03.797380: I tensorflow/core/common_runtime/gpu/gpu_device.cc:1561] Found device 0 with properties: \n",
      "pciBusID: 0000:73:00.0 name: Quadro RTX 6000 computeCapability: 7.5\n",
      "coreClock: 1.77GHz coreCount: 72 deviceMemorySize: 23.65GiB deviceMemoryBandwidth: 625.94GiB/s\n",
      "2021-08-12 12:54:03.797649: I tensorflow/stream_executor/platform/default/dso_loader.cc:44] Successfully opened dynamic library libcudart.so.10.1\n",
      "2021-08-12 12:54:03.799303: I tensorflow/stream_executor/platform/default/dso_loader.cc:44] Successfully opened dynamic library libcublas.so.10\n",
      "2021-08-12 12:54:03.800854: I tensorflow/stream_executor/platform/default/dso_loader.cc:44] Successfully opened dynamic library libcufft.so.10\n",
      "2021-08-12 12:54:03.801146: I tensorflow/stream_executor/platform/default/dso_loader.cc:44] Successfully opened dynamic library libcurand.so.10\n",
      "2021-08-12 12:54:03.803108: I tensorflow/stream_executor/platform/default/dso_loader.cc:44] Successfully opened dynamic library libcusolver.so.10\n",
      "2021-08-12 12:54:03.804098: I tensorflow/stream_executor/platform/default/dso_loader.cc:44] Successfully opened dynamic library libcusparse.so.10\n",
      "2021-08-12 12:54:03.808068: I tensorflow/stream_executor/platform/default/dso_loader.cc:44] Successfully opened dynamic library libcudnn.so.7\n",
      "2021-08-12 12:54:03.810907: I tensorflow/core/common_runtime/gpu/gpu_device.cc:1703] Adding visible gpu devices: 0\n",
      "2021-08-12 12:54:03.812022: I tensorflow/core/platform/cpu_feature_guard.cc:143] Your CPU supports instructions that this TensorFlow binary was not compiled to use: AVX2 AVX512F FMA\n",
      "2021-08-12 12:54:03.822639: I tensorflow/core/platform/profile_utils/cpu_utils.cc:102] CPU Frequency: 2200000000 Hz\n",
      "2021-08-12 12:54:03.824722: I tensorflow/compiler/xla/service/service.cc:168] XLA service 0x7facd4000b20 initialized for platform Host (this does not guarantee that XLA will be used). Devices:\n",
      "2021-08-12 12:54:03.824738: I tensorflow/compiler/xla/service/service.cc:176]   StreamExecutor device (0): Host, Default Version\n",
      "2021-08-12 12:54:03.944597: I tensorflow/compiler/xla/service/service.cc:168] XLA service 0x55db68bb9ea0 initialized for platform CUDA (this does not guarantee that XLA will be used). Devices:\n",
      "2021-08-12 12:54:03.944650: I tensorflow/compiler/xla/service/service.cc:176]   StreamExecutor device (0): Quadro RTX 6000, Compute Capability 7.5\n",
      "2021-08-12 12:54:03.948575: I tensorflow/core/common_runtime/gpu/gpu_device.cc:1561] Found device 0 with properties: \n",
      "pciBusID: 0000:73:00.0 name: Quadro RTX 6000 computeCapability: 7.5\n",
      "coreClock: 1.77GHz coreCount: 72 deviceMemorySize: 23.65GiB deviceMemoryBandwidth: 625.94GiB/s\n",
      "2021-08-12 12:54:03.948704: I tensorflow/stream_executor/platform/default/dso_loader.cc:44] Successfully opened dynamic library libcudart.so.10.1\n",
      "2021-08-12 12:54:03.948747: I tensorflow/stream_executor/platform/default/dso_loader.cc:44] Successfully opened dynamic library libcublas.so.10\n",
      "2021-08-12 12:54:03.948785: I tensorflow/stream_executor/platform/default/dso_loader.cc:44] Successfully opened dynamic library libcufft.so.10\n",
      "2021-08-12 12:54:03.948821: I tensorflow/stream_executor/platform/default/dso_loader.cc:44] Successfully opened dynamic library libcurand.so.10\n",
      "2021-08-12 12:54:03.948858: I tensorflow/stream_executor/platform/default/dso_loader.cc:44] Successfully opened dynamic library libcusolver.so.10\n",
      "2021-08-12 12:54:03.948895: I tensorflow/stream_executor/platform/default/dso_loader.cc:44] Successfully opened dynamic library libcusparse.so.10\n",
      "2021-08-12 12:54:03.948933: I tensorflow/stream_executor/platform/default/dso_loader.cc:44] Successfully opened dynamic library libcudnn.so.7\n",
      "2021-08-12 12:54:03.955930: I tensorflow/core/common_runtime/gpu/gpu_device.cc:1703] Adding visible gpu devices: 0\n",
      "2021-08-12 12:54:03.956036: I tensorflow/stream_executor/platform/default/dso_loader.cc:44] Successfully opened dynamic library libcudart.so.10.1\n",
      "2021-08-12 12:54:03.960530: I tensorflow/core/common_runtime/gpu/gpu_device.cc:1102] Device interconnect StreamExecutor with strength 1 edge matrix:\n",
      "2021-08-12 12:54:03.960547: I tensorflow/core/common_runtime/gpu/gpu_device.cc:1108]      0 \n",
      "2021-08-12 12:54:03.960557: I tensorflow/core/common_runtime/gpu/gpu_device.cc:1121] 0:   N \n",
      "2021-08-12 12:54:03.965138: I tensorflow/core/common_runtime/gpu/gpu_device.cc:1247] Created TensorFlow device (/job:localhost/replica:0/task:0/device:GPU:0 with 22611 MB memory) -> physical GPU (device: 0, name: Quadro RTX 6000, pci bus id: 0000:73:00.0, compute capability: 7.5)\n"
     ]
    },
    {
     "name": "stdout",
     "output_type": "stream",
     "text": [
      "Detecting focus planes in 210629_Erk_Kate_His_mov1_w3CSU-QUAD-561_s3_t11\n"
     ]
    },
    {
     "name": "stderr",
     "output_type": "stream",
     "text": [
      "  0%|                                                                                                                                                                                       | 0/25 [00:00<?, ?it/s]2021-08-12 12:54:25.705323: I tensorflow/stream_executor/platform/default/dso_loader.cc:44] Successfully opened dynamic library libcudnn.so.7\n",
      "2021-08-12 12:54:27.583151: I tensorflow/stream_executor/platform/default/dso_loader.cc:44] Successfully opened dynamic library libcublas.so.10\n",
      "  4%|███████                                                                                                                                                                        | 1/25 [00:08<03:35,  8.97s/it]"
     ]
    },
    {
     "name": "stdout",
     "output_type": "stream",
     "text": [
      "BestCad 0.0 7.644427042020565e-05 0.0007972511230036616\n",
      "BestNuclei 0.0 1.6659341692173286e-09 2.0129213851305394e-08\n"
     ]
    },
    {
     "name": "stderr",
     "output_type": "stream",
     "text": [
      "\r",
      "  8%|██████████████                                                                                                                                                                 | 2/25 [00:12<02:13,  5.79s/it]"
     ]
    },
    {
     "name": "stdout",
     "output_type": "stream",
     "text": [
      "BestCad 1.0 0.00010568896457960992 0.0007730408105999231\n",
      "BestNuclei 1.0 4.4170962227620127e-08 8.205977337638615e-07\n"
     ]
    },
    {
     "name": "stderr",
     "output_type": "stream",
     "text": [
      "\r",
      " 12%|█████████████████████                                                                                                                                                          | 3/25 [00:16<01:44,  4.73s/it]"
     ]
    },
    {
     "name": "stdout",
     "output_type": "stream",
     "text": [
      "BestCad 2.0 0.0002466612834776275 0.004514580592513084\n",
      "BestNuclei 2.0 7.25280100694587e-06 0.00016381080786231905\n"
     ]
    },
    {
     "name": "stderr",
     "output_type": "stream",
     "text": [
      "\r",
      " 16%|████████████████████████████                                                                                                                                                   | 4/25 [00:19<01:30,  4.32s/it]"
     ]
    },
    {
     "name": "stdout",
     "output_type": "stream",
     "text": [
      "BestCad 3.0 0.0452373100486281 0.9787293672561646\n",
      "BestNuclei 3.0 0.0002205396116767002 0.00462343217805028\n"
     ]
    },
    {
     "name": "stderr",
     "output_type": "stream",
     "text": [
      "\r",
      " 20%|███████████████████████████████████                                                                                                                                            | 5/25 [00:23<01:21,  4.09s/it]"
     ]
    },
    {
     "name": "stdout",
     "output_type": "stream",
     "text": [
      "BestCad 4.0 0.08624000306855738 0.9997801780700684\n",
      "BestNuclei 4.0 8.163015299104793e-05 0.0015031619695946574\n"
     ]
    },
    {
     "name": "stderr",
     "output_type": "stream",
     "text": [
      "\r",
      " 24%|██████████████████████████████████████████                                                                                                                                     | 6/25 [00:26<01:14,  3.91s/it]"
     ]
    },
    {
     "name": "stdout",
     "output_type": "stream",
     "text": [
      "BestCad 5.0 0.13859808806691634 0.9999986290931702\n",
      "BestNuclei 5.0 0.0002736672398452999 0.004285910166800022\n"
     ]
    },
    {
     "name": "stderr",
     "output_type": "stream",
     "text": [
      "\r",
      " 28%|█████████████████████████████████████████████████                                                                                                                              | 7/25 [00:30<01:09,  3.87s/it]"
     ]
    },
    {
     "name": "stdout",
     "output_type": "stream",
     "text": [
      "BestCad 6.0 0.1828314944097232 0.9999954104423523\n",
      "BestNuclei 6.0 0.007928968792107019 0.14848129451274872\n"
     ]
    },
    {
     "name": "stderr",
     "output_type": "stream",
     "text": [
      "\r",
      " 32%|████████████████████████████████████████████████████████                                                                                                                       | 8/25 [00:34<01:05,  3.84s/it]"
     ]
    },
    {
     "name": "stdout",
     "output_type": "stream",
     "text": [
      "BestCad 7.0 0.2757162522446898 0.9999796748161316\n",
      "BestNuclei 7.0 0.02789066259247045 0.6599482297897339\n"
     ]
    },
    {
     "name": "stderr",
     "output_type": "stream",
     "text": [
      "\r",
      " 36%|███████████████████████████████████████████████████████████████                                                                                                                | 9/25 [00:38<01:00,  3.79s/it]"
     ]
    },
    {
     "name": "stdout",
     "output_type": "stream",
     "text": [
      "BestCad 8.0 0.2634989055115274 0.9998512864112854\n",
      "BestNuclei 8.0 0.07113269173303405 0.8489974737167358\n"
     ]
    },
    {
     "name": "stderr",
     "output_type": "stream",
     "text": [
      "\r",
      " 40%|█████████████████████████████████████████████████████████████████████▌                                                                                                        | 10/25 [00:41<00:56,  3.78s/it]"
     ]
    },
    {
     "name": "stdout",
     "output_type": "stream",
     "text": [
      "BestCad 9.0 0.4806175270456482 0.9998745322227478\n",
      "BestNuclei 9.0 0.22991100161770342 0.9973877668380737\n"
     ]
    },
    {
     "name": "stderr",
     "output_type": "stream",
     "text": [
      "\r",
      " 44%|████████████████████████████████████████████████████████████████████████████▌                                                                                                 | 11/25 [00:45<00:53,  3.82s/it]"
     ]
    },
    {
     "name": "stdout",
     "output_type": "stream",
     "text": [
      "BestCad 10.0 0.5241199520726999 0.9993565082550049\n",
      "BestNuclei 10.0 0.4866177504348646 0.9998315572738647\n"
     ]
    },
    {
     "name": "stderr",
     "output_type": "stream",
     "text": [
      "\r",
      " 48%|███████████████████████████████████████████████████████████████████████████████████▌                                                                                          | 12/25 [00:49<00:49,  3.82s/it]"
     ]
    },
    {
     "name": "stdout",
     "output_type": "stream",
     "text": [
      "BestCad 11.0 0.4675752467221834 0.999088704586029\n",
      "BestNuclei 11.0 0.6872847266495228 0.9999896883964539\n"
     ]
    },
    {
     "name": "stderr",
     "output_type": "stream",
     "text": [
      "\r",
      " 52%|██████████████████████████████████████████████████████████████████████████████████████████▍                                                                                   | 13/25 [00:53<00:45,  3.78s/it]"
     ]
    },
    {
     "name": "stdout",
     "output_type": "stream",
     "text": [
      "BestCad 12.0 0.17269059904324618 0.9002980589866638\n",
      "BestNuclei 12.0 0.9770500858624777 0.9999985694885254\n"
     ]
    },
    {
     "name": "stderr",
     "output_type": "stream",
     "text": [
      "\r",
      " 56%|█████████████████████████████████████████████████████████████████████████████████████████████████▍                                                                            | 14/25 [00:57<00:41,  3.80s/it]"
     ]
    },
    {
     "name": "stdout",
     "output_type": "stream",
     "text": [
      "BestCad 13.0 0.08805873632714477 0.506964921951294\n",
      "BestNuclei 13.0 0.9955725234288436 0.9999997019767761\n"
     ]
    },
    {
     "name": "stderr",
     "output_type": "stream",
     "text": [
      "\r",
      " 60%|████████████████████████████████████████████████████████████████████████████████████████████████████████▍                                                                     | 15/25 [01:00<00:37,  3.73s/it]"
     ]
    },
    {
     "name": "stdout",
     "output_type": "stream",
     "text": [
      "BestCad 14.0 0.005692399888933626 0.021648844704031944\n",
      "BestNuclei 14.0 0.9994505757377261 0.9999996423721313\n"
     ]
    },
    {
     "name": "stderr",
     "output_type": "stream",
     "text": [
      "\r",
      " 64%|███████████████████████████████████████████████████████████████████████████████████████████████████████████████▎                                                              | 16/25 [01:04<00:33,  3.70s/it]"
     ]
    },
    {
     "name": "stdout",
     "output_type": "stream",
     "text": [
      "BestCad 15.0 0.019282405348522366 0.08617109060287476\n",
      "BestNuclei 15.0 0.9989387559890747 0.9999998807907104\n"
     ]
    },
    {
     "name": "stderr",
     "output_type": "stream",
     "text": [
      "\r",
      " 68%|██████████████████████████████████████████████████████████████████████████████████████████████████████████████████████▎                                                       | 17/25 [01:08<00:29,  3.74s/it]"
     ]
    },
    {
     "name": "stdout",
     "output_type": "stream",
     "text": [
      "BestCad 16.0 0.0005537021480406457 0.00216540414839983\n",
      "BestNuclei 16.0 0.9999292666713396 0.9999995827674866\n"
     ]
    },
    {
     "name": "stderr",
     "output_type": "stream",
     "text": [
      "\r",
      " 72%|█████████████████████████████████████████████████████████████████████████████████████████████████████████████████████████████▎                                                | 18/25 [01:11<00:25,  3.71s/it]"
     ]
    },
    {
     "name": "stdout",
     "output_type": "stream",
     "text": [
      "BestCad 17.0 2.9559031309358744e-05 0.00024529482470825315\n",
      "BestNuclei 17.0 0.9999968409538269 0.9999999403953552\n"
     ]
    },
    {
     "name": "stderr",
     "output_type": "stream",
     "text": [
      "\r",
      " 76%|████████████████████████████████████████████████████████████████████████████████████████████████████████████████████████████████████▏                                         | 19/25 [01:15<00:22,  3.74s/it]"
     ]
    },
    {
     "name": "stdout",
     "output_type": "stream",
     "text": [
      "BestCad 18.0 3.9663505845055624e-05 0.00037064749631099403\n",
      "BestNuclei 18.0 0.9999959121147791 0.9999999403953552\n"
     ]
    },
    {
     "name": "stderr",
     "output_type": "stream",
     "text": [
      "\r",
      " 80%|███████████████████████████████████████████████████████████████████████████████████████████████████████████████████████████████████████████▏                                  | 20/25 [01:19<00:18,  3.75s/it]"
     ]
    },
    {
     "name": "stdout",
     "output_type": "stream",
     "text": [
      "BestCad 19.0 4.876650920819388e-05 0.0004272950463928282\n",
      "BestNuclei 19.0 0.9999952192107836 0.9999999403953552\n"
     ]
    },
    {
     "name": "stderr",
     "output_type": "stream",
     "text": [
      "\r",
      " 84%|██████████████████████████████████████████████████████████████████████████████████████████████████████████████████████████████████████████████████▏                           | 21/25 [01:23<00:15,  3.79s/it]"
     ]
    },
    {
     "name": "stdout",
     "output_type": "stream",
     "text": [
      "BestCad 20.0 5.807113363945601e-05 0.0005272696143947542\n",
      "BestNuclei 20.0 0.9999965453147888 0.9999999403953552\n"
     ]
    },
    {
     "name": "stderr",
     "output_type": "stream",
     "text": [
      "\r",
      " 88%|█████████████████████████████████████████████████████████████████████████████████████████████████████████████████████████████████████████████████████████                     | 22/25 [01:26<00:11,  3.70s/it]"
     ]
    },
    {
     "name": "stdout",
     "output_type": "stream",
     "text": [
      "BestCad 21.0 0.0007365478675637859 0.002580445259809494\n",
      "BestNuclei 21.0 0.9999657788059928 0.9999995231628418\n"
     ]
    },
    {
     "name": "stderr",
     "output_type": "stream",
     "text": [
      "100%|██████████████████████████████████████████████████████████████████████████████████████████████████████████████████████████████████████████████████████████████████████████████| 25/25 [01:30<00:00,  3.61s/it]"
     ]
    },
    {
     "name": "stdout",
     "output_type": "stream",
     "text": [
      "BestCad 22.0 0.0010929228315251834 0.0033378335647284985\n",
      "BestNuclei 22.0 0.9999572297801143 0.9999997019767761\n"
     ]
    },
    {
     "name": "stderr",
     "output_type": "stream",
     "text": [
      "\n"
     ]
    },
    {
     "name": "stdout",
     "output_type": "stream",
     "text": [
      "Detecting focus planes in 210629_Erk_Kate_His_mov1_w3CSU-QUAD-561_s8_t10\n"
     ]
    },
    {
     "name": "stderr",
     "output_type": "stream",
     "text": [
      "  4%|███████                                                                                                                                                                        | 1/25 [00:04<01:51,  4.65s/it]"
     ]
    },
    {
     "name": "stdout",
     "output_type": "stream",
     "text": [
      "BestCad 0.0 0.00029998091449236935 0.004974208772182465\n",
      "BestNuclei 0.0 9.754891084074659e-08 1.8946122963825474e-06\n"
     ]
    },
    {
     "name": "stderr",
     "output_type": "stream",
     "text": [
      "\r",
      "  8%|██████████████                                                                                                                                                                 | 2/25 [00:08<01:35,  4.13s/it]"
     ]
    },
    {
     "name": "stdout",
     "output_type": "stream",
     "text": [
      "BestCad 1.0 2.139693507950049e-06 2.543798109400086e-05\n",
      "BestNuclei 1.0 2.2072291717210237e-08 1.0566633079633903e-07\n"
     ]
    },
    {
     "name": "stderr",
     "output_type": "stream",
     "text": [
      "\r",
      " 12%|█████████████████████                                                                                                                                                          | 3/25 [00:11<01:22,  3.74s/it]"
     ]
    },
    {
     "name": "stdout",
     "output_type": "stream",
     "text": [
      "BestCad 2.0 2.579812234153021e-05 0.0004316018894314766\n",
      "BestNuclei 2.0 6.950788956627818e-07 1.2510608030424919e-05\n"
     ]
    },
    {
     "name": "stderr",
     "output_type": "stream",
     "text": [
      "\r",
      " 16%|████████████████████████████                                                                                                                                                   | 4/25 [00:15<01:16,  3.62s/it]"
     ]
    },
    {
     "name": "stdout",
     "output_type": "stream",
     "text": [
      "BestCad 3.0 0.00018841685012520188 0.0035922033712267876\n",
      "BestNuclei 3.0 1.4638003344768474e-06 2.294658770551905e-05\n"
     ]
    },
    {
     "name": "stderr",
     "output_type": "stream",
     "text": [
      "\r",
      " 20%|███████████████████████████████████                                                                                                                                            | 5/25 [00:18<01:13,  3.66s/it]"
     ]
    },
    {
     "name": "stdout",
     "output_type": "stream",
     "text": [
      "BestCad 4.0 0.03045740251497146 0.7276002168655396\n",
      "BestNuclei 4.0 2.1840057177525963e-05 0.0005408214638009667\n"
     ]
    },
    {
     "name": "stderr",
     "output_type": "stream",
     "text": [
      "\r",
      " 24%|██████████████████████████████████████████                                                                                                                                     | 6/25 [00:22<01:11,  3.76s/it]"
     ]
    },
    {
     "name": "stdout",
     "output_type": "stream",
     "text": [
      "BestCad 5.0 0.04699604807760771 0.990555465221405\n",
      "BestNuclei 5.0 0.00045583591274553484 0.01134883426129818\n"
     ]
    },
    {
     "name": "stderr",
     "output_type": "stream",
     "text": [
      "\r",
      " 28%|█████████████████████████████████████████████████                                                                                                                              | 7/25 [00:26<01:07,  3.76s/it]"
     ]
    },
    {
     "name": "stdout",
     "output_type": "stream",
     "text": [
      "BestCad 6.0 0.0770507997588119 0.9951608777046204\n",
      "BestNuclei 6.0 0.001133441386612758 0.02707061357796192\n"
     ]
    },
    {
     "name": "stderr",
     "output_type": "stream",
     "text": [
      "\r",
      " 32%|████████████████████████████████████████████████████████                                                                                                                       | 8/25 [00:30<01:04,  3.82s/it]"
     ]
    },
    {
     "name": "stdout",
     "output_type": "stream",
     "text": [
      "BestCad 7.0 0.22618039401961298 0.9969745874404907\n",
      "BestNuclei 7.0 0.10792948832258298 0.9692754149436951\n"
     ]
    },
    {
     "name": "stderr",
     "output_type": "stream",
     "text": [
      "\r",
      " 36%|███████████████████████████████████████████████████████████████                                                                                                                | 9/25 [00:34<01:01,  3.86s/it]"
     ]
    },
    {
     "name": "stdout",
     "output_type": "stream",
     "text": [
      "BestCad 8.0 0.26171655246253067 0.9974669814109802\n",
      "BestNuclei 8.0 0.12363272096515619 0.9757728576660156\n"
     ]
    },
    {
     "name": "stderr",
     "output_type": "stream",
     "text": [
      "\r",
      " 40%|█████████████████████████████████████████████████████████████████████▌                                                                                                        | 10/25 [00:38<00:57,  3.84s/it]"
     ]
    },
    {
     "name": "stdout",
     "output_type": "stream",
     "text": [
      "BestCad 9.0 0.28334847548952286 0.9918217062950134\n",
      "BestNuclei 9.0 0.18532242556196898 0.9987999200820923\n"
     ]
    },
    {
     "name": "stderr",
     "output_type": "stream",
     "text": [
      "\r",
      " 44%|████████████████████████████████████████████████████████████████████████████▌                                                                                                 | 11/25 [00:42<00:54,  3.91s/it]"
     ]
    },
    {
     "name": "stdout",
     "output_type": "stream",
     "text": [
      "BestCad 10.0 0.40827264355320947 0.9973431825637817\n",
      "BestNuclei 10.0 0.19278108755666012 0.9983724355697632\n"
     ]
    },
    {
     "name": "stderr",
     "output_type": "stream",
     "text": [
      "\r",
      " 48%|███████████████████████████████████████████████████████████████████████████████████▌                                                                                          | 12/25 [00:45<00:49,  3.81s/it]"
     ]
    },
    {
     "name": "stdout",
     "output_type": "stream",
     "text": [
      "BestCad 11.0 0.5239063487265652 0.9941661357879639\n",
      "BestNuclei 11.0 0.2552901429323053 0.9998772144317627\n"
     ]
    },
    {
     "name": "stderr",
     "output_type": "stream",
     "text": [
      "\r",
      " 52%|██████████████████████████████████████████████████████████████████████████████████████████▍                                                                                   | 13/25 [00:49<00:44,  3.73s/it]"
     ]
    },
    {
     "name": "stdout",
     "output_type": "stream",
     "text": [
      "BestCad 12.0 0.5431745850713924 0.9898314476013184\n",
      "BestNuclei 12.0 0.28599753463968225 0.9999904632568359\n"
     ]
    },
    {
     "name": "stderr",
     "output_type": "stream",
     "text": [
      "\r",
      " 56%|█████████████████████████████████████████████████████████████████████████████████████████████████▍                                                                            | 14/25 [00:52<00:40,  3.66s/it]"
     ]
    },
    {
     "name": "stdout",
     "output_type": "stream",
     "text": [
      "BestCad 13.0 0.39897655893146294 0.9904109835624695\n",
      "BestNuclei 13.0 0.7758708058211666 0.9999982118606567\n"
     ]
    },
    {
     "name": "stderr",
     "output_type": "stream",
     "text": [
      "\r",
      " 60%|████████████████████████████████████████████████████████████████████████████████████████████████████████▍                                                                     | 15/25 [00:56<00:36,  3.70s/it]"
     ]
    },
    {
     "name": "stdout",
     "output_type": "stream",
     "text": [
      "BestCad 14.0 0.20367868289727084 0.9411697387695312\n",
      "BestNuclei 14.0 0.9629098796844482 0.9999988675117493\n"
     ]
    },
    {
     "name": "stderr",
     "output_type": "stream",
     "text": [
      "\r",
      " 64%|███████████████████████████████████████████████████████████████████████████████████████████████████████████████▎                                                              | 16/25 [01:00<00:33,  3.69s/it]"
     ]
    },
    {
     "name": "stdout",
     "output_type": "stream",
     "text": [
      "BestCad 15.0 0.1754417985703185 0.8860592842102051\n",
      "BestNuclei 15.0 0.9793483328819275 0.9999992251396179\n"
     ]
    },
    {
     "name": "stderr",
     "output_type": "stream",
     "text": [
      "\r",
      " 68%|██████████████████████████████████████████████████████████████████████████████████████████████████████████████████████▎                                                       | 17/25 [01:03<00:28,  3.62s/it]"
     ]
    },
    {
     "name": "stdout",
     "output_type": "stream",
     "text": [
      "BestCad 16.0 0.14975815699822956 0.8278490900993347\n",
      "BestNuclei 16.0 0.9689197018742561 0.9999991655349731\n"
     ]
    },
    {
     "name": "stderr",
     "output_type": "stream",
     "text": [
      "\r",
      " 72%|█████████████████████████████████████████████████████████████████████████████████████████████████████████████████████████████▎                                                | 18/25 [01:07<00:24,  3.55s/it]"
     ]
    },
    {
     "name": "stdout",
     "output_type": "stream",
     "text": [
      "BestCad 17.0 0.4133063200279139 0.980290412902832\n",
      "BestNuclei 17.0 0.7618753522958445 0.999999463558197\n"
     ]
    },
    {
     "name": "stderr",
     "output_type": "stream",
     "text": [
      "\r",
      " 76%|████████████████████████████████████████████████████████████████████████████████████████████████████████████████████████████████████▏                                         | 19/25 [01:11<00:21,  3.61s/it]"
     ]
    },
    {
     "name": "stdout",
     "output_type": "stream",
     "text": [
      "BestCad 18.0 0.017653108763245957 0.10622493922710419\n",
      "BestNuclei 18.0 0.9991215208302373 0.9999989867210388\n"
     ]
    },
    {
     "name": "stderr",
     "output_type": "stream",
     "text": [
      "\r",
      " 80%|███████████████████████████████████████████████████████████████████████████████████████████████████████████████████████████████████████████▏                                  | 20/25 [01:14<00:17,  3.56s/it]"
     ]
    },
    {
     "name": "stdout",
     "output_type": "stream",
     "text": [
      "BestCad 19.0 0.01986607720591169 0.10998575389385223\n",
      "BestNuclei 19.0 0.9974909543991088 0.9999989867210388\n"
     ]
    },
    {
     "name": "stderr",
     "output_type": "stream",
     "text": [
      "\r",
      " 84%|██████████████████████████████████████████████████████████████████████████████████████████████████████████████████████████████████████████████████▏                           | 21/25 [01:17<00:14,  3.54s/it]"
     ]
    },
    {
     "name": "stdout",
     "output_type": "stream",
     "text": [
      "BestCad 20.0 0.005779607755476204 0.04686729609966278\n",
      "BestNuclei 20.0 0.9997866361037545 0.9999998807907104\n"
     ]
    },
    {
     "name": "stderr",
     "output_type": "stream",
     "text": [
      "\r",
      " 88%|█████████████████████████████████████████████████████████████████████████████████████████████████████████████████████████████████████████████████████████                     | 22/25 [01:21<00:10,  3.50s/it]"
     ]
    },
    {
     "name": "stdout",
     "output_type": "stream",
     "text": [
      "BestCad 21.0 0.013375816360642355 0.15965870022773743\n",
      "BestNuclei 21.0 0.9993190792473879 0.9999998807907104\n"
     ]
    },
    {
     "name": "stderr",
     "output_type": "stream",
     "text": [
      "100%|██████████████████████████████████████████████████████████████████████████████████████████████████████████████████████████████████████████████████████████████████████████████| 25/25 [01:24<00:00,  3.40s/it]"
     ]
    },
    {
     "name": "stdout",
     "output_type": "stream",
     "text": [
      "BestCad 22.0 0.1779166267776666 0.857255220413208\n",
      "BestNuclei 22.0 0.9924539638602216 0.9999998211860657\n"
     ]
    },
    {
     "name": "stderr",
     "output_type": "stream",
     "text": [
      "\n"
     ]
    },
    {
     "name": "stdout",
     "output_type": "stream",
     "text": [
      "Detecting focus planes in 210629_Erk_Kate_His_mov1_w1CSU-QUAD-561_s5_t12\n"
     ]
    },
    {
     "name": "stderr",
     "output_type": "stream",
     "text": [
      "  4%|███████                                                                                                                                                                        | 1/25 [00:04<01:58,  4.93s/it]"
     ]
    },
    {
     "name": "stdout",
     "output_type": "stream",
     "text": [
      "BestCad 0.0 0.03101640541128637 0.25926196575164795\n",
      "BestNuclei 0.0 0.994968021357501 0.9999668598175049\n"
     ]
    },
    {
     "name": "stderr",
     "output_type": "stream",
     "text": [
      "\r",
      "  8%|██████████████                                                                                                                                                                 | 2/25 [00:08<01:37,  4.24s/it]"
     ]
    },
    {
     "name": "stdout",
     "output_type": "stream",
     "text": [
      "BestCad 1.0 6.126146162056433e-05 0.00017172901425510645\n",
      "BestNuclei 1.0 0.999982652755884 0.9999994039535522\n"
     ]
    },
    {
     "name": "stderr",
     "output_type": "stream",
     "text": [
      "\r",
      " 12%|█████████████████████                                                                                                                                                          | 3/25 [00:12<01:33,  4.27s/it]"
     ]
    },
    {
     "name": "stdout",
     "output_type": "stream",
     "text": [
      "BestCad 2.0 1.2878180422890379e-05 3.262845712015405e-05\n",
      "BestNuclei 2.0 0.9999958781095651 0.9999998807907104\n"
     ]
    },
    {
     "name": "stderr",
     "output_type": "stream",
     "text": [
      "\r",
      " 16%|████████████████████████████                                                                                                                                                   | 4/25 [00:16<01:25,  4.06s/it]"
     ]
    },
    {
     "name": "stdout",
     "output_type": "stream",
     "text": [
      "BestCad 3.0 1.58610254878849e-05 4.322407767176628e-05\n",
      "BestNuclei 3.0 0.9999958801269532 0.9999998211860657\n"
     ]
    },
    {
     "name": "stderr",
     "output_type": "stream",
     "text": [
      "\r",
      " 20%|███████████████████████████████████                                                                                                                                            | 5/25 [00:20<01:20,  4.03s/it]"
     ]
    },
    {
     "name": "stdout",
     "output_type": "stream",
     "text": [
      "BestCad 4.0 1.4495849515324979e-05 4.852681013289839e-05\n",
      "BestNuclei 4.0 0.9999968600273133 0.9999998807907104\n"
     ]
    },
    {
     "name": "stderr",
     "output_type": "stream",
     "text": [
      "\r",
      " 24%|██████████████████████████████████████████                                                                                                                                     | 6/25 [00:24<01:14,  3.94s/it]"
     ]
    },
    {
     "name": "stdout",
     "output_type": "stream",
     "text": [
      "BestCad 5.0 0.00011292453506360867 0.0003930442617274821\n",
      "BestNuclei 5.0 0.9999747092907245 0.9999991059303284\n"
     ]
    },
    {
     "name": "stderr",
     "output_type": "stream",
     "text": [
      "\r",
      " 28%|█████████████████████████████████████████████████                                                                                                                              | 7/25 [00:28<01:11,  3.96s/it]"
     ]
    },
    {
     "name": "stdout",
     "output_type": "stream",
     "text": [
      "BestCad 6.0 3.2891507316890056e-05 0.00015779290697537363\n",
      "BestNuclei 6.0 0.9999941037251399 0.9999997019767761\n"
     ]
    },
    {
     "name": "stderr",
     "output_type": "stream",
     "text": [
      "\r",
      " 32%|████████████████████████████████████████████████████████                                                                                                                       | 8/25 [00:32<01:08,  4.01s/it]"
     ]
    },
    {
     "name": "stdout",
     "output_type": "stream",
     "text": [
      "BestCad 7.0 3.631674040943402e-06 1.6599400623817928e-05\n",
      "BestNuclei 7.0 0.9999994337558746 1.0\n"
     ]
    },
    {
     "name": "stderr",
     "output_type": "stream",
     "text": [
      "\r",
      " 36%|███████████████████████████████████████████████████████████████                                                                                                                | 9/25 [00:36<01:02,  3.92s/it]"
     ]
    },
    {
     "name": "stdout",
     "output_type": "stream",
     "text": [
      "BestCad 8.0 9.109712921243677e-06 6.547638622578233e-05\n",
      "BestNuclei 8.0 0.9999990105628968 0.9999998807907104\n"
     ]
    },
    {
     "name": "stderr",
     "output_type": "stream",
     "text": [
      "\r",
      " 40%|█████████████████████████████████████████████████████████████████████▌                                                                                                        | 10/25 [00:40<00:57,  3.85s/it]"
     ]
    },
    {
     "name": "stdout",
     "output_type": "stream",
     "text": [
      "BestCad 9.0 5.224210375532633e-05 0.00038605325971730053\n",
      "BestNuclei 9.0 0.9999953643842177 0.9999997019767761\n"
     ]
    },
    {
     "name": "stderr",
     "output_type": "stream",
     "text": [
      "\r",
      " 44%|████████████████████████████████████████████████████████████████████████████▌                                                                                                 | 11/25 [00:43<00:53,  3.81s/it]"
     ]
    },
    {
     "name": "stdout",
     "output_type": "stream",
     "text": [
      "BestCad 10.0 0.00012119282893343971 0.0006299749948084354\n",
      "BestNuclei 10.0 0.999968002239863 0.9999995827674866\n"
     ]
    },
    {
     "name": "stderr",
     "output_type": "stream",
     "text": [
      "\r",
      " 48%|███████████████████████████████████████████████████████████████████████████████████▌                                                                                          | 12/25 [00:47<00:48,  3.75s/it]"
     ]
    },
    {
     "name": "stdout",
     "output_type": "stream",
     "text": [
      "BestCad 11.0 0.00021483586691750173 0.0010066302493214607\n",
      "BestNuclei 11.0 0.9999709025673245 0.9999995827674866\n"
     ]
    },
    {
     "name": "stderr",
     "output_type": "stream",
     "text": [
      "\r",
      " 52%|██████████████████████████████████████████████████████████████████████████████████████████▍                                                                                   | 13/25 [00:51<00:45,  3.78s/it]"
     ]
    },
    {
     "name": "stdout",
     "output_type": "stream",
     "text": [
      "BestCad 12.0 0.0002464228117870252 0.0011398900533095002\n",
      "BestNuclei 12.0 0.9999603732772495 0.9999998211860657\n"
     ]
    },
    {
     "name": "stderr",
     "output_type": "stream",
     "text": [
      "\r",
      " 56%|█████████████████████████████████████████████████████████████████████████████████████████████████▍                                                                            | 14/25 [00:54<00:40,  3.70s/it]"
     ]
    },
    {
     "name": "stdout",
     "output_type": "stream",
     "text": [
      "BestCad 13.0 0.00015036227741802577 0.0006442448357120156\n",
      "BestNuclei 13.0 0.9999612813646143 0.9999999403953552\n"
     ]
    },
    {
     "name": "stderr",
     "output_type": "stream",
     "text": [
      "\r",
      " 60%|████████████████████████████████████████████████████████████████████████████████████████████████████████▍                                                                     | 15/25 [00:58<00:36,  3.64s/it]"
     ]
    },
    {
     "name": "stdout",
     "output_type": "stream",
     "text": [
      "BestCad 14.0 0.00016290199194675856 0.0006549115641973913\n",
      "BestNuclei 14.0 0.9999786586988539 1.0\n"
     ]
    },
    {
     "name": "stderr",
     "output_type": "stream",
     "text": [
      "\r",
      " 64%|███████████████████████████████████████████████████████████████████████████████████████████████████████████████▎                                                              | 16/25 [01:01<00:32,  3.62s/it]"
     ]
    },
    {
     "name": "stdout",
     "output_type": "stream",
     "text": [
      "BestCad 15.0 0.00015919548520916858 0.0006240929942578077\n",
      "BestNuclei 15.0 0.9999594377434772 1.0\n"
     ]
    },
    {
     "name": "stderr",
     "output_type": "stream",
     "text": [
      "\r",
      " 68%|██████████████████████████████████████████████████████████████████████████████████████████████████████████████████████▎                                                       | 17/25 [01:05<00:28,  3.61s/it]"
     ]
    },
    {
     "name": "stdout",
     "output_type": "stream",
     "text": [
      "BestCad 16.0 0.0001920575243730127 0.0007692314684391022\n",
      "BestNuclei 16.0 0.9999518109404523 1.0\n"
     ]
    },
    {
     "name": "stderr",
     "output_type": "stream",
     "text": [
      "\r",
      " 72%|█████████████████████████████████████████████████████████████████████████████████████████████████████████████████████████████▎                                                | 18/25 [01:08<00:25,  3.58s/it]"
     ]
    },
    {
     "name": "stdout",
     "output_type": "stream",
     "text": [
      "BestCad 17.0 0.0002033591052800741 0.0007359397714026272\n",
      "BestNuclei 17.0 0.9999539541161578 1.0\n"
     ]
    },
    {
     "name": "stderr",
     "output_type": "stream",
     "text": [
      "\r",
      " 76%|████████████████████████████████████████████████████████████████████████████████████████████████████████████████████████████████████▏                                         | 19/25 [01:12<00:22,  3.69s/it]"
     ]
    },
    {
     "name": "stdout",
     "output_type": "stream",
     "text": [
      "BestCad 18.0 0.0003552258116858708 0.0015266099944710732\n",
      "BestNuclei 18.0 0.9999538605863397 1.0\n"
     ]
    },
    {
     "name": "stderr",
     "output_type": "stream",
     "text": [
      "\r",
      " 80%|███████████████████████████████████████████████████████████████████████████████████████████████████████████████████████████████████████████▏                                  | 20/25 [01:16<00:18,  3.68s/it]"
     ]
    },
    {
     "name": "stdout",
     "output_type": "stream",
     "text": [
      "BestCad 19.0 0.00018950226723973173 0.0006897503044456244\n",
      "BestNuclei 19.0 0.999965719201348 1.0\n"
     ]
    },
    {
     "name": "stderr",
     "output_type": "stream",
     "text": [
      "\r",
      " 84%|██████████████████████████████████████████████████████████████████████████████████████████████████████████████████████████████████████████████████▏                           | 21/25 [01:20<00:14,  3.66s/it]"
     ]
    },
    {
     "name": "stdout",
     "output_type": "stream",
     "text": [
      "BestCad 20.0 0.00015801029148860836 0.0005883015692234039\n",
      "BestNuclei 20.0 0.9999750771305778 0.9999999403953552\n"
     ]
    },
    {
     "name": "stderr",
     "output_type": "stream",
     "text": [
      "\r",
      " 88%|█████████████████████████████████████████████████████████████████████████████████████████████████████████████████████████████████████████████████████████                     | 22/25 [01:23<00:11,  3.69s/it]"
     ]
    },
    {
     "name": "stdout",
     "output_type": "stream",
     "text": [
      "BestCad 21.0 0.0001517172771015724 0.0006053366232663393\n",
      "BestNuclei 21.0 0.9999762830280122 0.9999998211860657\n"
     ]
    },
    {
     "name": "stderr",
     "output_type": "stream",
     "text": [
      "100%|██████████████████████████████████████████████████████████████████████████████████████████████████████████████████████████████████████████████████████████████████████████████| 25/25 [01:27<00:00,  3.50s/it]"
     ]
    },
    {
     "name": "stdout",
     "output_type": "stream",
     "text": [
      "BestCad 22.0 0.00016714406822005833 0.0005863006808795035\n",
      "BestNuclei 22.0 0.9999759018421173 0.9999995231628418\n"
     ]
    },
    {
     "name": "stderr",
     "output_type": "stream",
     "text": [
      "\n"
     ]
    },
    {
     "name": "stdout",
     "output_type": "stream",
     "text": [
      "Detecting focus planes in 210629_Erk_Kate_His_mov1_w1CSU-QUAD-561_s9_t32\n"
     ]
    },
    {
     "name": "stderr",
     "output_type": "stream",
     "text": [
      "  4%|███████                                                                                                                                                                        | 1/25 [00:05<02:04,  5.17s/it]"
     ]
    },
    {
     "name": "stdout",
     "output_type": "stream",
     "text": [
      "BestCad 0.0 0.30661999407912727 0.999704122543335\n",
      "BestNuclei 0.0 0.06598813684949681 0.7024994492530823\n"
     ]
    },
    {
     "name": "stderr",
     "output_type": "stream",
     "text": [
      "\r",
      "  8%|██████████████                                                                                                                                                                 | 2/25 [00:08<01:38,  4.29s/it]"
     ]
    },
    {
     "name": "stdout",
     "output_type": "stream",
     "text": [
      "BestCad 1.0 0.294145750649043 0.9997885227203369\n",
      "BestNuclei 1.0 0.10121633591264516 0.9922282695770264\n"
     ]
    },
    {
     "name": "stderr",
     "output_type": "stream",
     "text": [
      "\r",
      " 12%|█████████████████████                                                                                                                                                          | 3/25 [00:12<01:30,  4.09s/it]"
     ]
    },
    {
     "name": "stdout",
     "output_type": "stream",
     "text": [
      "BestCad 2.0 0.40059930764531915 0.9996459484100342\n",
      "BestNuclei 2.0 0.09828834728534647 0.9994957447052002\n"
     ]
    },
    {
     "name": "stderr",
     "output_type": "stream",
     "text": [
      "\r",
      " 16%|████████████████████████████                                                                                                                                                   | 4/25 [00:16<01:21,  3.90s/it]"
     ]
    },
    {
     "name": "stdout",
     "output_type": "stream",
     "text": [
      "BestCad 3.0 0.45542711002431135 0.9994373917579651\n",
      "BestNuclei 3.0 0.10536979489443411 0.9999430179595947\n"
     ]
    },
    {
     "name": "stderr",
     "output_type": "stream",
     "text": [
      "\r",
      " 20%|███████████████████████████████████                                                                                                                                            | 5/25 [00:19<01:15,  3.79s/it]"
     ]
    },
    {
     "name": "stdout",
     "output_type": "stream",
     "text": [
      "BestCad 4.0 0.49978799993429374 0.9988832473754883\n",
      "BestNuclei 4.0 0.18472249147974545 0.9999940991401672\n"
     ]
    },
    {
     "name": "stderr",
     "output_type": "stream",
     "text": [
      "\r",
      " 24%|██████████████████████████████████████████                                                                                                                                     | 6/25 [00:23<01:13,  3.89s/it]"
     ]
    },
    {
     "name": "stdout",
     "output_type": "stream",
     "text": [
      "BestCad 5.0 0.4915928205684953 0.9976545572280884\n",
      "BestNuclei 5.0 0.25696401995375606 0.9999979138374329\n"
     ]
    },
    {
     "name": "stderr",
     "output_type": "stream",
     "text": [
      "\r",
      " 28%|█████████████████████████████████████████████████                                                                                                                              | 7/25 [00:27<01:07,  3.75s/it]"
     ]
    },
    {
     "name": "stdout",
     "output_type": "stream",
     "text": [
      "BestCad 6.0 0.4894761128917664 0.998631477355957\n",
      "BestNuclei 6.0 0.30452882508924944 0.9999984502792358\n"
     ]
    },
    {
     "name": "stderr",
     "output_type": "stream",
     "text": [
      "\r",
      " 32%|████████████████████████████████████████████████████████                                                                                                                       | 8/25 [00:30<01:02,  3.66s/it]"
     ]
    },
    {
     "name": "stdout",
     "output_type": "stream",
     "text": [
      "BestCad 7.0 0.5125991195999017 0.9984073042869568\n",
      "BestNuclei 7.0 0.41512830655138444 0.9999995827674866\n"
     ]
    },
    {
     "name": "stderr",
     "output_type": "stream",
     "text": [
      "\r",
      " 36%|███████████████████████████████████████████████████████████████                                                                                                                | 9/25 [00:34<00:57,  3.58s/it]"
     ]
    },
    {
     "name": "stdout",
     "output_type": "stream",
     "text": [
      "BestCad 8.0 0.6303325514327623 0.9961114525794983\n",
      "BestNuclei 8.0 0.46259215905536216 0.9999988675117493\n"
     ]
    },
    {
     "name": "stderr",
     "output_type": "stream",
     "text": [
      "\r",
      " 40%|█████████████████████████████████████████████████████████████████████▌                                                                                                        | 10/25 [00:37<00:53,  3.56s/it]"
     ]
    },
    {
     "name": "stdout",
     "output_type": "stream",
     "text": [
      "BestCad 9.0 0.6941878294688649 0.9982379674911499\n",
      "BestNuclei 9.0 0.4897197164002005 0.9999992251396179\n"
     ]
    },
    {
     "name": "stderr",
     "output_type": "stream",
     "text": [
      "\r",
      " 44%|████████████████████████████████████████████████████████████████████████████▌                                                                                                 | 11/25 [00:41<00:49,  3.54s/it]"
     ]
    },
    {
     "name": "stdout",
     "output_type": "stream",
     "text": [
      "BestCad 10.0 0.689701199337019 0.9978616237640381\n",
      "BestNuclei 10.0 0.4724791921058637 0.9999885559082031\n"
     ]
    },
    {
     "name": "stderr",
     "output_type": "stream",
     "text": [
      "\r",
      " 48%|███████████████████████████████████████████████████████████████████████████████████▌                                                                                          | 12/25 [00:45<00:46,  3.61s/it]"
     ]
    },
    {
     "name": "stdout",
     "output_type": "stream",
     "text": [
      "BestCad 11.0 0.8257120361344682 0.9947571754455566\n",
      "BestNuclei 11.0 0.45001898165022186 0.9994473457336426\n"
     ]
    },
    {
     "name": "stderr",
     "output_type": "stream",
     "text": [
      "\r",
      " 52%|██████████████████████████████████████████████████████████████████████████████████████████▍                                                                                   | 13/25 [00:48<00:42,  3.55s/it]"
     ]
    },
    {
     "name": "stdout",
     "output_type": "stream",
     "text": [
      "BestCad 12.0 0.7913917854893953 0.9968442320823669\n",
      "BestNuclei 12.0 0.5060648670986748 0.9995191097259521\n"
     ]
    },
    {
     "name": "stderr",
     "output_type": "stream",
     "text": [
      "\r",
      " 56%|█████████████████████████████████████████████████████████████████████████████████████████████████▍                                                                            | 14/25 [00:51<00:38,  3.47s/it]"
     ]
    },
    {
     "name": "stdout",
     "output_type": "stream",
     "text": [
      "BestCad 13.0 0.8923947778013017 0.9967977404594421\n",
      "BestNuclei 13.0 0.4985712890683435 0.9989877939224243\n"
     ]
    },
    {
     "name": "stderr",
     "output_type": "stream",
     "text": [
      "\r",
      " 60%|████████████████████████████████████████████████████████████████████████████████████████████████████████▍                                                                     | 15/25 [00:55<00:34,  3.44s/it]"
     ]
    },
    {
     "name": "stdout",
     "output_type": "stream",
     "text": [
      "BestCad 14.0 0.8424940767387549 0.9950922131538391\n",
      "BestNuclei 14.0 0.5190439953586611 0.9981106519699097\n"
     ]
    },
    {
     "name": "stderr",
     "output_type": "stream",
     "text": [
      "\r",
      " 64%|███████████████████████████████████████████████████████████████████████████████████████████████████████████████▎                                                              | 16/25 [00:58<00:30,  3.38s/it]"
     ]
    },
    {
     "name": "stdout",
     "output_type": "stream",
     "text": [
      "BestCad 15.0 0.921153602655977 0.9954643249511719\n",
      "BestNuclei 15.0 0.4910269398208425 0.9974638223648071\n"
     ]
    },
    {
     "name": "stderr",
     "output_type": "stream",
     "text": [
      "\r",
      " 68%|██████████████████████████████████████████████████████████████████████████████████████████████████████████████████████▎                                                       | 17/25 [01:01<00:26,  3.36s/it]"
     ]
    },
    {
     "name": "stdout",
     "output_type": "stream",
     "text": [
      "BestCad 16.0 0.9223789660747916 0.9975323677062988\n",
      "BestNuclei 16.0 0.5856141440692484 0.999789834022522\n"
     ]
    },
    {
     "name": "stderr",
     "output_type": "stream",
     "text": [
      "\r",
      " 72%|█████████████████████████████████████████████████████████████████████████████████████████████████████████████████████████████▎                                                | 18/25 [01:04<00:23,  3.33s/it]"
     ]
    },
    {
     "name": "stdout",
     "output_type": "stream",
     "text": [
      "BestCad 17.0 0.8113634453620762 0.9957133531570435\n",
      "BestNuclei 17.0 0.5912104306148754 0.999992847442627\n"
     ]
    },
    {
     "name": "stderr",
     "output_type": "stream",
     "text": [
      "\r",
      " 76%|████████████████████████████████████████████████████████████████████████████████████████████████████████████████████████████████████▏                                         | 19/25 [01:08<00:20,  3.42s/it]"
     ]
    },
    {
     "name": "stdout",
     "output_type": "stream",
     "text": [
      "BestCad 18.0 0.8186198003590107 0.9967213869094849\n",
      "BestNuclei 18.0 0.7994617238620539 0.9999992847442627\n"
     ]
    },
    {
     "name": "stderr",
     "output_type": "stream",
     "text": [
      "\r",
      " 80%|███████████████████████████████████████████████████████████████████████████████████████████████████████████████████████████████████████████▏                                  | 20/25 [01:11<00:16,  3.37s/it]"
     ]
    },
    {
     "name": "stdout",
     "output_type": "stream",
     "text": [
      "BestCad 19.0 0.8586075740999409 0.9954967498779297\n",
      "BestNuclei 19.0 0.6296882091579997 0.999999463558197\n"
     ]
    },
    {
     "name": "stderr",
     "output_type": "stream",
     "text": [
      "\r",
      " 84%|██████████████████████████████████████████████████████████████████████████████████████████████████████████████████████████████████████████████████▏                           | 21/25 [01:15<00:13,  3.37s/it]"
     ]
    },
    {
     "name": "stdout",
     "output_type": "stream",
     "text": [
      "BestCad 20.0 0.7716218308884312 0.9945520162582397\n",
      "BestNuclei 20.0 0.5794736355760093 0.9999989867210388\n"
     ]
    },
    {
     "name": "stderr",
     "output_type": "stream",
     "text": [
      "\r",
      " 88%|█████████████████████████████████████████████████████████████████████████████████████████████████████████████████████████████████████████████████████████                     | 22/25 [01:18<00:10,  3.39s/it]"
     ]
    },
    {
     "name": "stdout",
     "output_type": "stream",
     "text": [
      "BestCad 21.0 0.7722108675622043 0.9965769052505493\n",
      "BestNuclei 21.0 0.5790930136784234 0.9999979138374329\n"
     ]
    },
    {
     "name": "stderr",
     "output_type": "stream",
     "text": [
      "100%|██████████████████████████████████████████████████████████████████████████████████████████████████████████████████████████████████████████████████████████████████████████████| 25/25 [01:22<00:00,  3.29s/it]"
     ]
    },
    {
     "name": "stdout",
     "output_type": "stream",
     "text": [
      "BestCad 22.0 0.7773982403715226 0.9978123903274536\n",
      "BestNuclei 22.0 0.5161132195901771 0.9999980926513672\n"
     ]
    },
    {
     "name": "stderr",
     "output_type": "stream",
     "text": [
      "\n"
     ]
    },
    {
     "name": "stdout",
     "output_type": "stream",
     "text": [
      "Detecting focus planes in 210629_Erk_Kate_His_mov1_w3CSU-QUAD-561_s11_t21\n"
     ]
    },
    {
     "name": "stderr",
     "output_type": "stream",
     "text": [
      "  4%|███████                                                                                                                                                                        | 1/25 [00:05<02:13,  5.57s/it]"
     ]
    },
    {
     "name": "stdout",
     "output_type": "stream",
     "text": [
      "BestCad 0.0 4.303454021290711e-05 0.00036952694063074887\n",
      "BestNuclei 0.0 5.73997001781142e-09 7.512603872328327e-08\n"
     ]
    },
    {
     "name": "stderr",
     "output_type": "stream",
     "text": [
      "\r",
      "  8%|██████████████                                                                                                                                                                 | 2/25 [00:09<01:43,  4.50s/it]"
     ]
    },
    {
     "name": "stdout",
     "output_type": "stream",
     "text": [
      "BestCad 1.0 1.8673195541237437e-05 0.00015332954353652894\n",
      "BestNuclei 1.0 2.0284730891523273e-09 1.1450582704242152e-08\n"
     ]
    },
    {
     "name": "stderr",
     "output_type": "stream",
     "text": [
      "\r",
      " 12%|█████████████████████                                                                                                                                                          | 3/25 [00:13<01:30,  4.14s/it]"
     ]
    },
    {
     "name": "stdout",
     "output_type": "stream",
     "text": [
      "BestCad 2.0 3.8623509460287345e-05 0.00034157803747802973\n",
      "BestNuclei 2.0 7.3974329907247765e-09 8.291414133054786e-08\n"
     ]
    },
    {
     "name": "stderr",
     "output_type": "stream",
     "text": [
      "\r",
      " 16%|████████████████████████████                                                                                                                                                   | 4/25 [00:16<01:23,  3.97s/it]"
     ]
    },
    {
     "name": "stdout",
     "output_type": "stream",
     "text": [
      "BestCad 3.0 0.00014410213393227693 0.001512792194262147\n",
      "BestNuclei 3.0 1.3023937785183737e-08 1.0300428243681381e-07\n"
     ]
    },
    {
     "name": "stderr",
     "output_type": "stream",
     "text": [
      "\r",
      " 20%|███████████████████████████████████                                                                                                                                            | 5/25 [00:20<01:16,  3.84s/it]"
     ]
    },
    {
     "name": "stdout",
     "output_type": "stream",
     "text": [
      "BestCad 4.0 0.03825250634757689 0.37470942735671997\n",
      "BestNuclei 4.0 6.116901363143143e-07 6.650233444815967e-06\n"
     ]
    },
    {
     "name": "stderr",
     "output_type": "stream",
     "text": [
      "\r",
      " 24%|██████████████████████████████████████████                                                                                                                                     | 6/25 [00:24<01:13,  3.89s/it]"
     ]
    },
    {
     "name": "stdout",
     "output_type": "stream",
     "text": [
      "BestCad 5.0 0.1463900213778775 0.9930964708328247\n",
      "BestNuclei 5.0 4.5377123016848535e-05 0.0008565186290070415\n"
     ]
    },
    {
     "name": "stderr",
     "output_type": "stream",
     "text": [
      "\r",
      " 28%|█████████████████████████████████████████████████                                                                                                                              | 7/25 [00:28<01:09,  3.85s/it]"
     ]
    },
    {
     "name": "stdout",
     "output_type": "stream",
     "text": [
      "BestCad 6.0 0.17504435807085256 0.9996601939201355\n",
      "BestNuclei 6.0 0.0030222110044542507 0.053882449865341187\n"
     ]
    },
    {
     "name": "stderr",
     "output_type": "stream",
     "text": [
      "\r",
      " 32%|████████████████████████████████████████████████████████                                                                                                                       | 8/25 [00:32<01:08,  4.02s/it]"
     ]
    },
    {
     "name": "stdout",
     "output_type": "stream",
     "text": [
      "BestCad 7.0 0.26128446133690886 0.9996570348739624\n",
      "BestNuclei 7.0 0.016396179097240872 0.21615609526634216\n"
     ]
    },
    {
     "name": "stderr",
     "output_type": "stream",
     "text": [
      "\r",
      " 36%|███████████████████████████████████████████████████████████████                                                                                                                | 9/25 [00:36<01:03,  3.97s/it]"
     ]
    },
    {
     "name": "stdout",
     "output_type": "stream",
     "text": [
      "BestCad 8.0 0.41071782510896976 0.998704731464386\n",
      "BestNuclei 8.0 0.1052173873996043 0.9028053879737854\n"
     ]
    },
    {
     "name": "stderr",
     "output_type": "stream",
     "text": [
      "\r",
      " 40%|█████████████████████████████████████████████████████████████████████▌                                                                                                        | 10/25 [00:40<00:59,  3.99s/it]"
     ]
    },
    {
     "name": "stdout",
     "output_type": "stream",
     "text": [
      "BestCad 9.0 0.34338268455117943 0.9933167695999146\n",
      "BestNuclei 9.0 0.16260569617297732 0.9630053043365479\n"
     ]
    },
    {
     "name": "stderr",
     "output_type": "stream",
     "text": [
      "\r",
      " 44%|████████████████████████████████████████████████████████████████████████████▌                                                                                                 | 11/25 [00:43<00:53,  3.85s/it]"
     ]
    },
    {
     "name": "stdout",
     "output_type": "stream",
     "text": [
      "BestCad 10.0 0.12481854883953929 0.5810228586196899\n",
      "BestNuclei 10.0 0.9351935868079846 0.9993611574172974\n"
     ]
    },
    {
     "name": "stderr",
     "output_type": "stream",
     "text": [
      "\r",
      " 48%|███████████████████████████████████████████████████████████████████████████████████▌                                                                                          | 12/25 [00:47<00:49,  3.77s/it]"
     ]
    },
    {
     "name": "stdout",
     "output_type": "stream",
     "text": [
      "BestCad 11.0 0.005538345277521082 0.019984785467386246\n",
      "BestNuclei 11.0 0.9988167596899945 0.999940037727356\n"
     ]
    },
    {
     "name": "stderr",
     "output_type": "stream",
     "text": [
      "\r",
      " 52%|██████████████████████████████████████████████████████████████████████████████████████████▍                                                                                   | 13/25 [00:51<00:44,  3.71s/it]"
     ]
    },
    {
     "name": "stdout",
     "output_type": "stream",
     "text": [
      "BestCad 12.0 0.0006241266517983084 0.002479626564309001\n",
      "BestNuclei 12.0 0.9999167815498684 0.9999915957450867\n"
     ]
    },
    {
     "name": "stderr",
     "output_type": "stream",
     "text": [
      "\r",
      " 56%|█████████████████████████████████████████████████████████████████████████████████████████████████▍                                                                            | 14/25 [00:54<00:39,  3.61s/it]"
     ]
    },
    {
     "name": "stdout",
     "output_type": "stream",
     "text": [
      "BestCad 13.0 0.000686557420885947 0.0031338026747107506\n",
      "BestNuclei 13.0 0.9998916257982668 0.9999964833259583\n"
     ]
    },
    {
     "name": "stderr",
     "output_type": "stream",
     "text": [
      "\r",
      " 60%|████████████████████████████████████████████████████████████████████████████████████████████████████████▍                                                                     | 15/25 [00:58<00:36,  3.67s/it]"
     ]
    },
    {
     "name": "stdout",
     "output_type": "stream",
     "text": [
      "BestCad 14.0 0.0019141211683745495 0.010945962741971016\n",
      "BestNuclei 14.0 0.9997823908925056 0.9999991059303284\n"
     ]
    },
    {
     "name": "stderr",
     "output_type": "stream",
     "text": [
      "\r",
      " 64%|███████████████████████████████████████████████████████████████████████████████████████████████████████████████▎                                                              | 16/25 [01:01<00:32,  3.64s/it]"
     ]
    },
    {
     "name": "stdout",
     "output_type": "stream",
     "text": [
      "BestCad 15.0 0.21980094640515413 0.9179643988609314\n",
      "BestNuclei 15.0 0.9847139379252559 1.0\n"
     ]
    },
    {
     "name": "stderr",
     "output_type": "stream",
     "text": [
      "\r",
      " 68%|██████████████████████████████████████████████████████████████████████████████████████████████████████████████████████▎                                                       | 17/25 [01:05<00:28,  3.58s/it]"
     ]
    },
    {
     "name": "stdout",
     "output_type": "stream",
     "text": [
      "BestCad 16.0 0.1938043974640957 0.8853762149810791\n",
      "BestNuclei 16.0 0.9879642020572316 1.0\n"
     ]
    },
    {
     "name": "stderr",
     "output_type": "stream",
     "text": [
      "\r",
      " 72%|█████████████████████████████████████████████████████████████████████████████████████████████████████████████████████████████▎                                                | 18/25 [01:08<00:24,  3.53s/it]"
     ]
    },
    {
     "name": "stdout",
     "output_type": "stream",
     "text": [
      "BestCad 17.0 0.004296323660167653 0.01633385568857193\n",
      "BestNuclei 17.0 0.9996521202000704 1.0\n"
     ]
    },
    {
     "name": "stderr",
     "output_type": "stream",
     "text": [
      "\r",
      " 76%|████████████████████████████████████████████████████████████████████████████████████████████████████████████████████████████████████▏                                         | 19/25 [01:12<00:20,  3.49s/it]"
     ]
    },
    {
     "name": "stdout",
     "output_type": "stream",
     "text": [
      "BestCad 18.0 0.0012511507870840433 0.008749615401029587\n",
      "BestNuclei 18.0 0.9998474473303015 0.9999987483024597\n"
     ]
    },
    {
     "name": "stderr",
     "output_type": "stream",
     "text": [
      "\r",
      " 80%|███████████████████████████████████████████████████████████████████████████████████████████████████████████████████████████████████████████▏                                  | 20/25 [01:15<00:17,  3.53s/it]"
     ]
    },
    {
     "name": "stdout",
     "output_type": "stream",
     "text": [
      "BestCad 19.0 0.0002079076371244256 0.0012793289497494698\n",
      "BestNuclei 19.0 0.999981704083356 0.9999970197677612\n"
     ]
    },
    {
     "name": "stderr",
     "output_type": "stream",
     "text": [
      "\r",
      " 84%|██████████████████████████████████████████████████████████████████████████████████████████████████████████████████████████████████████████████████▏                           | 21/25 [01:19<00:14,  3.66s/it]"
     ]
    },
    {
     "name": "stdout",
     "output_type": "stream",
     "text": [
      "BestCad 20.0 2.9763433071631578e-05 0.0002581734152045101\n",
      "BestNuclei 20.0 0.999997444152832 0.9999996423721313\n"
     ]
    },
    {
     "name": "stderr",
     "output_type": "stream",
     "text": [
      "\r",
      " 88%|█████████████████████████████████████████████████████████████████████████████████████████████████████████████████████████████████████████████████████████                     | 22/25 [01:24<00:11,  3.89s/it]"
     ]
    },
    {
     "name": "stdout",
     "output_type": "stream",
     "text": [
      "BestCad 21.0 1.2430659259497707e-05 0.000137485156301409\n",
      "BestNuclei 21.0 0.9999990940093995 0.9999998807907104\n"
     ]
    },
    {
     "name": "stderr",
     "output_type": "stream",
     "text": [
      "100%|██████████████████████████████████████████████████████████████████████████████████████████████████████████████████████████████████████████████████████████████████████████████| 25/25 [01:28<00:00,  3.52s/it]"
     ]
    },
    {
     "name": "stdout",
     "output_type": "stream",
     "text": [
      "BestCad 22.0 7.3061247699906344e-06 8.014769991859794e-05\n",
      "BestNuclei 22.0 0.9999994687412096 0.9999999403953552\n"
     ]
    },
    {
     "name": "stderr",
     "output_type": "stream",
     "text": [
      "\n"
     ]
    },
    {
     "name": "stdout",
     "output_type": "stream",
     "text": [
      "Detecting focus planes in 210629_Erk_Kate_His_mov1_w1CSU-QUAD-561_s1_t16\n"
     ]
    },
    {
     "name": "stderr",
     "output_type": "stream",
     "text": [
      "  4%|███████                                                                                                                                                                        | 1/25 [00:04<01:51,  4.64s/it]"
     ]
    },
    {
     "name": "stdout",
     "output_type": "stream",
     "text": [
      "BestCad 0.0 0.044390111987820426 0.9997476935386658\n",
      "BestNuclei 0.0 1.5759828706725044e-05 0.00033093628007918596\n"
     ]
    },
    {
     "name": "stderr",
     "output_type": "stream",
     "text": [
      "\r",
      "  8%|██████████████                                                                                                                                                                 | 2/25 [00:08<01:38,  4.30s/it]"
     ]
    },
    {
     "name": "stdout",
     "output_type": "stream",
     "text": [
      "BestCad 1.0 0.08343894552805987 0.9999729990959167\n",
      "BestNuclei 1.0 5.99427539197805e-06 0.0001374150306219235\n"
     ]
    },
    {
     "name": "stderr",
     "output_type": "stream",
     "text": [
      "\r",
      " 12%|█████████████████████                                                                                                                                                          | 3/25 [00:13<01:36,  4.40s/it]"
     ]
    },
    {
     "name": "stdout",
     "output_type": "stream",
     "text": [
      "BestCad 2.0 0.09501826572054248 0.9999919533729553\n",
      "BestNuclei 2.0 0.00027385082291755595 0.0043236808851361275\n"
     ]
    },
    {
     "name": "stderr",
     "output_type": "stream",
     "text": [
      "\r",
      " 16%|████████████████████████████                                                                                                                                                   | 4/25 [00:17<01:31,  4.35s/it]"
     ]
    },
    {
     "name": "stdout",
     "output_type": "stream",
     "text": [
      "BestCad 3.0 0.19284566920017823 0.9999833106994629\n",
      "BestNuclei 3.0 0.002324943182034076 0.03472753241658211\n"
     ]
    },
    {
     "name": "stderr",
     "output_type": "stream",
     "text": [
      "\r",
      " 20%|███████████████████████████████████                                                                                                                                            | 5/25 [00:21<01:22,  4.13s/it]"
     ]
    },
    {
     "name": "stdout",
     "output_type": "stream",
     "text": [
      "BestCad 4.0 0.3866169550286334 0.9999942183494568\n",
      "BestNuclei 4.0 0.02458003626072447 0.5883113145828247\n"
     ]
    },
    {
     "name": "stderr",
     "output_type": "stream",
     "text": [
      "\r",
      " 24%|██████████████████████████████████████████                                                                                                                                     | 6/25 [00:24<01:15,  3.96s/it]"
     ]
    },
    {
     "name": "stdout",
     "output_type": "stream",
     "text": [
      "BestCad 5.0 0.6773144864039394 0.9999768137931824\n",
      "BestNuclei 5.0 0.04330820641009364 0.9915360808372498\n"
     ]
    },
    {
     "name": "stderr",
     "output_type": "stream",
     "text": [
      "\r",
      " 28%|█████████████████████████████████████████████████                                                                                                                              | 7/25 [00:28<01:10,  3.90s/it]"
     ]
    },
    {
     "name": "stdout",
     "output_type": "stream",
     "text": [
      "BestCad 6.0 0.7372702800785191 0.9999493956565857\n",
      "BestNuclei 6.0 0.07233154451134159 0.9983068704605103\n"
     ]
    },
    {
     "name": "stderr",
     "output_type": "stream",
     "text": [
      "\r",
      " 32%|████████████████████████████████████████████████████████                                                                                                                       | 8/25 [00:33<01:09,  4.10s/it]"
     ]
    },
    {
     "name": "stdout",
     "output_type": "stream",
     "text": [
      "BestCad 7.0 0.7825235804218961 0.9999939799308777\n",
      "BestNuclei 7.0 0.09243190967437999 0.9999752640724182\n"
     ]
    },
    {
     "name": "stderr",
     "output_type": "stream",
     "text": [
      "\r",
      " 36%|███████████████████████████████████████████████████████████████                                                                                                                | 9/25 [00:36<01:03,  3.99s/it]"
     ]
    },
    {
     "name": "stdout",
     "output_type": "stream",
     "text": [
      "BestCad 8.0 0.7683926643803716 0.9999925494194031\n",
      "BestNuclei 8.0 0.16225124942069497 0.9999988675117493\n"
     ]
    },
    {
     "name": "stderr",
     "output_type": "stream",
     "text": [
      "\r",
      " 40%|█████████████████████████████████████████████████████████████████████▌                                                                                                        | 10/25 [00:40<00:59,  3.95s/it]"
     ]
    },
    {
     "name": "stdout",
     "output_type": "stream",
     "text": [
      "BestCad 9.0 0.7425923614064232 0.9999635815620422\n",
      "BestNuclei 9.0 0.2680108510551509 0.9999992251396179\n"
     ]
    },
    {
     "name": "stderr",
     "output_type": "stream",
     "text": [
      "\r",
      " 44%|████████████████████████████████████████████████████████████████████████████▌                                                                                                 | 11/25 [00:44<00:56,  4.00s/it]"
     ]
    },
    {
     "name": "stdout",
     "output_type": "stream",
     "text": [
      "BestCad 10.0 0.4213508082751144 0.9938180446624756\n",
      "BestNuclei 10.0 0.8814428925514222 0.9999963641166687\n"
     ]
    },
    {
     "name": "stderr",
     "output_type": "stream",
     "text": [
      "\r",
      " 48%|███████████████████████████████████████████████████████████████████████████████████▌                                                                                          | 12/25 [00:48<00:51,  3.99s/it]"
     ]
    },
    {
     "name": "stdout",
     "output_type": "stream",
     "text": [
      "BestCad 11.0 0.007524783466797089 0.07373717427253723\n",
      "BestNuclei 11.0 0.9996383352713152 0.9999971389770508\n"
     ]
    },
    {
     "name": "stderr",
     "output_type": "stream",
     "text": [
      "\r",
      " 52%|██████████████████████████████████████████████████████████████████████████████████████████▍                                                                                   | 13/25 [00:52<00:47,  4.00s/it]"
     ]
    },
    {
     "name": "stdout",
     "output_type": "stream",
     "text": [
      "BestCad 12.0 0.03932617796090199 0.21691963076591492\n",
      "BestNuclei 12.0 0.9980056161681811 0.9999693632125854\n"
     ]
    },
    {
     "name": "stderr",
     "output_type": "stream",
     "text": [
      "\r",
      " 56%|█████████████████████████████████████████████████████████████████████████████████████████████████▍                                                                            | 14/25 [00:56<00:44,  4.00s/it]"
     ]
    },
    {
     "name": "stdout",
     "output_type": "stream",
     "text": [
      "BestCad 13.0 0.00105807066045765 0.0071044741198420525\n",
      "BestNuclei 13.0 0.999869079693504 0.9999954700469971\n"
     ]
    },
    {
     "name": "stderr",
     "output_type": "stream",
     "text": [
      "\r",
      " 60%|████████████████████████████████████████████████████████████████████████████████████████████████████████▍                                                                     | 15/25 [01:00<00:40,  4.01s/it]"
     ]
    },
    {
     "name": "stdout",
     "output_type": "stream",
     "text": [
      "BestCad 14.0 0.0004151213638362519 0.004534526728093624\n",
      "BestNuclei 14.0 0.9999589586257934 0.9999986290931702\n"
     ]
    },
    {
     "name": "stderr",
     "output_type": "stream",
     "text": [
      "\r",
      " 64%|███████████████████████████████████████████████████████████████████████████████████████████████████████████████▎                                                              | 16/25 [01:05<00:37,  4.21s/it]"
     ]
    },
    {
     "name": "stdout",
     "output_type": "stream",
     "text": [
      "BestCad 15.0 0.00018212046510914502 0.0016235215589404106\n",
      "BestNuclei 15.0 0.9999781101942062 0.9999994039535522\n"
     ]
    },
    {
     "name": "stderr",
     "output_type": "stream",
     "text": [
      "\r",
      " 68%|██████████████████████████████████████████████████████████████████████████████████████████████████████████████████████▎                                                       | 17/25 [01:09<00:33,  4.17s/it]"
     ]
    },
    {
     "name": "stdout",
     "output_type": "stream",
     "text": [
      "BestCad 16.0 0.0003604276644909987 0.003105256473645568\n",
      "BestNuclei 16.0 0.9999360396311834 0.9999985098838806\n"
     ]
    },
    {
     "name": "stderr",
     "output_type": "stream",
     "text": [
      "\r",
      " 72%|█████████████████████████████████████████████████████████████████████████████████████████████████████████████████████████████▎                                                | 18/25 [01:13<00:28,  4.07s/it]"
     ]
    },
    {
     "name": "stdout",
     "output_type": "stream",
     "text": [
      "BestCad 17.0 0.0003077848797104144 0.001629324397072196\n",
      "BestNuclei 17.0 0.9999513402581215 0.9999989867210388\n"
     ]
    },
    {
     "name": "stderr",
     "output_type": "stream",
     "text": [
      "\r",
      " 76%|████████████████████████████████████████████████████████████████████████████████████████████████████████████████████████████████████▏                                         | 19/25 [01:17<00:24,  4.08s/it]"
     ]
    },
    {
     "name": "stdout",
     "output_type": "stream",
     "text": [
      "BestCad 18.0 0.0001552667969087412 0.0007241544080898166\n",
      "BestNuclei 18.0 0.9999709570849383 0.9999994039535522\n"
     ]
    },
    {
     "name": "stderr",
     "output_type": "stream",
     "text": [
      "\r",
      " 80%|███████████████████████████████████████████████████████████████████████████████████████████████████████████████████████████████████████████▏                                  | 20/25 [01:21<00:20,  4.02s/it]"
     ]
    },
    {
     "name": "stdout",
     "output_type": "stream",
     "text": [
      "BestCad 19.0 8.89540362910187e-06 3.369302430655807e-05\n",
      "BestNuclei 19.0 0.9999984855001623 0.9999998807907104\n"
     ]
    },
    {
     "name": "stderr",
     "output_type": "stream",
     "text": [
      "\r",
      " 84%|██████████████████████████████████████████████████████████████████████████████████████████████████████████████████████████████████████████████████▏                           | 21/25 [01:25<00:16,  4.09s/it]"
     ]
    },
    {
     "name": "stdout",
     "output_type": "stream",
     "text": [
      "BestCad 20.0 0.000794959897085881 0.0018744325498118997\n",
      "BestNuclei 20.0 0.9996494327982267 0.9999601244926453\n"
     ]
    },
    {
     "name": "stderr",
     "output_type": "stream",
     "text": [
      "\r",
      " 88%|█████████████████████████████████████████████████████████████████████████████████████████████████████████████████████████████████████████████████████████                     | 22/25 [01:29<00:12,  4.04s/it]"
     ]
    },
    {
     "name": "stdout",
     "output_type": "stream",
     "text": [
      "BestCad 21.0 0.0007742350152693688 0.001894982997328043\n",
      "BestNuclei 21.0 0.9997277622637541 0.9999637603759766\n"
     ]
    },
    {
     "name": "stderr",
     "output_type": "stream",
     "text": [
      "100%|██████████████████████████████████████████████████████████████████████████████████████████████████████████████████████████████████████████████████████████████████████████████| 25/25 [01:33<00:00,  3.74s/it]"
     ]
    },
    {
     "name": "stdout",
     "output_type": "stream",
     "text": [
      "BestCad 22.0 0.0007670808032950541 0.001921594375744462\n",
      "BestNuclei 22.0 0.9996181155244509 0.9999633431434631\n"
     ]
    },
    {
     "name": "stderr",
     "output_type": "stream",
     "text": [
      "\n"
     ]
    },
    {
     "name": "stdout",
     "output_type": "stream",
     "text": [
      "Detecting focus planes in 210629_Erk_Kate_His_mov1_w1CSU-QUAD-561_s6_t32\n"
     ]
    },
    {
     "name": "stderr",
     "output_type": "stream",
     "text": [
      "  4%|███████                                                                                                                                                                        | 1/25 [00:04<01:49,  4.56s/it]"
     ]
    },
    {
     "name": "stdout",
     "output_type": "stream",
     "text": [
      "BestCad 0.0 0.089711244149309 0.9994089007377625\n",
      "BestNuclei 0.0 0.002171311835176276 0.04406967759132385\n"
     ]
    },
    {
     "name": "stderr",
     "output_type": "stream",
     "text": [
      "\r",
      "  8%|██████████████                                                                                                                                                                 | 2/25 [00:08<01:41,  4.41s/it]"
     ]
    },
    {
     "name": "stdout",
     "output_type": "stream",
     "text": [
      "BestCad 1.0 0.0894823448741325 0.999927818775177\n",
      "BestNuclei 1.0 0.0016776484527999463 0.03211045265197754\n"
     ]
    },
    {
     "name": "stderr",
     "output_type": "stream",
     "text": [
      "\r",
      " 12%|█████████████████████                                                                                                                                                          | 3/25 [00:12<01:29,  4.09s/it]"
     ]
    },
    {
     "name": "stdout",
     "output_type": "stream",
     "text": [
      "BestCad 2.0 0.14665553363101935 0.9991486668586731\n",
      "BestNuclei 2.0 0.0039021723923004003 0.08289127051830292\n"
     ]
    },
    {
     "name": "stderr",
     "output_type": "stream",
     "text": [
      "\r",
      " 16%|████████████████████████████                                                                                                                                                   | 4/25 [00:16<01:23,  4.00s/it]"
     ]
    },
    {
     "name": "stdout",
     "output_type": "stream",
     "text": [
      "BestCad 3.0 0.339337558640788 0.9909894466400146\n",
      "BestNuclei 3.0 0.195468665616645 0.9826958179473877\n"
     ]
    },
    {
     "name": "stderr",
     "output_type": "stream",
     "text": [
      "\r",
      " 20%|███████████████████████████████████                                                                                                                                            | 5/25 [00:20<01:18,  3.93s/it]"
     ]
    },
    {
     "name": "stdout",
     "output_type": "stream",
     "text": [
      "BestCad 4.0 0.0007479819405056159 0.0032892387825995684\n",
      "BestNuclei 4.0 0.9997973510852227 0.9999924898147583\n"
     ]
    },
    {
     "name": "stderr",
     "output_type": "stream",
     "text": [
      "\r",
      " 24%|██████████████████████████████████████████                                                                                                                                     | 6/25 [00:24<01:14,  3.93s/it]"
     ]
    },
    {
     "name": "stdout",
     "output_type": "stream",
     "text": [
      "BestCad 5.0 1.7815869372365494e-06 8.769255146034993e-06\n",
      "BestNuclei 5.0 0.9999996209144593 1.0\n"
     ]
    },
    {
     "name": "stderr",
     "output_type": "stream",
     "text": [
      "\r",
      " 28%|█████████████████████████████████████████████████                                                                                                                              | 7/25 [00:28<01:10,  3.93s/it]"
     ]
    },
    {
     "name": "stdout",
     "output_type": "stream",
     "text": [
      "BestCad 6.0 5.50908956256535e-06 5.047267768532038e-05\n",
      "BestNuclei 6.0 0.999998939037323 0.9999998807907104\n"
     ]
    },
    {
     "name": "stderr",
     "output_type": "stream",
     "text": [
      "\r",
      " 32%|████████████████████████████████████████████████████████                                                                                                                       | 8/25 [00:31<01:06,  3.92s/it]"
     ]
    },
    {
     "name": "stdout",
     "output_type": "stream",
     "text": [
      "BestCad 7.0 1.3355993175991898e-05 0.00011997010733466595\n",
      "BestNuclei 7.0 0.9999980408212413 0.9999998807907104\n"
     ]
    },
    {
     "name": "stderr",
     "output_type": "stream",
     "text": [
      "\r",
      " 36%|███████████████████████████████████████████████████████████████                                                                                                                | 9/25 [00:36<01:03,  3.97s/it]"
     ]
    },
    {
     "name": "stdout",
     "output_type": "stream",
     "text": [
      "BestCad 8.0 2.141899772141187e-05 0.000190121732885018\n",
      "BestNuclei 8.0 0.9999966725059177 0.9999998807907104\n"
     ]
    },
    {
     "name": "stderr",
     "output_type": "stream",
     "text": [
      "\r",
      " 40%|█████████████████████████████████████████████████████████████████████▌                                                                                                        | 10/25 [00:40<00:59,  3.96s/it]"
     ]
    },
    {
     "name": "stdout",
     "output_type": "stream",
     "text": [
      "BestCad 9.0 1.1777081555385887e-05 0.00010130137525266036\n",
      "BestNuclei 9.0 0.9999971613287926 0.9999999403953552\n"
     ]
    },
    {
     "name": "stderr",
     "output_type": "stream",
     "text": [
      "\r",
      " 44%|████████████████████████████████████████████████████████████████████████████▌                                                                                                 | 11/25 [00:44<00:57,  4.10s/it]"
     ]
    },
    {
     "name": "stdout",
     "output_type": "stream",
     "text": [
      "BestCad 10.0 4.486124435456789e-05 0.00033470900962129235\n",
      "BestNuclei 10.0 0.9999910568197569 1.0\n"
     ]
    },
    {
     "name": "stderr",
     "output_type": "stream",
     "text": [
      "\r",
      " 48%|███████████████████████████████████████████████████████████████████████████████████▌                                                                                          | 12/25 [00:48<00:52,  4.03s/it]"
     ]
    },
    {
     "name": "stdout",
     "output_type": "stream",
     "text": [
      "BestCad 11.0 7.328454368056872e-05 0.0004537704517133534\n",
      "BestNuclei 11.0 0.9999632382392883 1.0\n"
     ]
    },
    {
     "name": "stderr",
     "output_type": "stream",
     "text": [
      "\r",
      " 52%|██████████████████████████████████████████████████████████████████████████████████████████▍                                                                                   | 13/25 [00:52<00:47,  3.98s/it]"
     ]
    },
    {
     "name": "stdout",
     "output_type": "stream",
     "text": [
      "BestCad 12.0 0.00013764570619969162 0.0006370557239279151\n",
      "BestNuclei 12.0 0.9999695679415828 1.0\n"
     ]
    },
    {
     "name": "stderr",
     "output_type": "stream",
     "text": [
      "\r",
      " 56%|█████████████████████████████████████████████████████████████████████████████████████████████████▍                                                                            | 14/25 [00:56<00:43,  3.95s/it]"
     ]
    },
    {
     "name": "stdout",
     "output_type": "stream",
     "text": [
      "BestCad 13.0 0.00019142574124998647 0.0010883139912039042\n",
      "BestNuclei 13.0 0.9999592174654421 1.0\n"
     ]
    },
    {
     "name": "stderr",
     "output_type": "stream",
     "text": [
      "\r",
      " 60%|████████████████████████████████████████████████████████████████████████████████████████████████████████▍                                                                     | 15/25 [00:59<00:39,  3.92s/it]"
     ]
    },
    {
     "name": "stdout",
     "output_type": "stream",
     "text": [
      "BestCad 14.0 0.00022032989508497176 0.0012634414015337825\n",
      "BestNuclei 14.0 0.9999467134475708 1.0\n"
     ]
    },
    {
     "name": "stderr",
     "output_type": "stream",
     "text": [
      "\r",
      " 64%|███████████████████████████████████████████████████████████████████████████████████████████████████████████████▎                                                              | 16/25 [01:03<00:35,  3.95s/it]"
     ]
    },
    {
     "name": "stdout",
     "output_type": "stream",
     "text": [
      "BestCad 15.0 0.0002801155390625354 0.001531809801235795\n",
      "BestNuclei 15.0 0.9999333520730337 1.0\n"
     ]
    },
    {
     "name": "stderr",
     "output_type": "stream",
     "text": [
      "\r",
      " 68%|██████████████████████████████████████████████████████████████████████████████████████████████████████████████████████▎                                                       | 17/25 [01:07<00:31,  3.98s/it]"
     ]
    },
    {
     "name": "stdout",
     "output_type": "stream",
     "text": [
      "BestCad 16.0 0.00016182856132218148 0.0006898896535858512\n",
      "BestNuclei 16.0 0.9999745732003992 1.0\n"
     ]
    },
    {
     "name": "stderr",
     "output_type": "stream",
     "text": [
      "\r",
      " 72%|█████████████████████████████████████████████████████████████████████████████████████████████████████████████████████████████▎                                                | 18/25 [01:12<00:29,  4.23s/it]"
     ]
    },
    {
     "name": "stdout",
     "output_type": "stream",
     "text": [
      "BestCad 17.0 0.00015721898689662338 0.0006379277328960598\n",
      "BestNuclei 17.0 0.99997413676718 1.0\n"
     ]
    },
    {
     "name": "stderr",
     "output_type": "stream",
     "text": [
      "\r",
      " 76%|████████████████████████████████████████████████████████████████████████████████████████████████████████████████████████████████████▏                                         | 19/25 [01:17<00:26,  4.38s/it]"
     ]
    },
    {
     "name": "stdout",
     "output_type": "stream",
     "text": [
      "BestCad 18.0 0.0001281296160344097 0.0005563830491155386\n",
      "BestNuclei 18.0 0.9999601818048037 0.9999998807907104\n"
     ]
    },
    {
     "name": "stderr",
     "output_type": "stream",
     "text": [
      "\r",
      " 80%|███████████████████████████████████████████████████████████████████████████████████████████████████████████████████████████████████████████▏                                  | 20/25 [01:22<00:23,  4.62s/it]"
     ]
    },
    {
     "name": "stdout",
     "output_type": "stream",
     "text": [
      "BestCad 19.0 0.00020382846996653826 0.0007677634712308645\n",
      "BestNuclei 19.0 0.9999322010123212 0.9999999403953552\n"
     ]
    },
    {
     "name": "stderr",
     "output_type": "stream",
     "text": [
      "\r",
      " 84%|██████████████████████████████████████████████████████████████████████████████████████████████████████████████████████████████████████████████████▏                           | 21/25 [01:27<00:18,  4.67s/it]"
     ]
    },
    {
     "name": "stdout",
     "output_type": "stream",
     "text": [
      "BestCad 20.0 0.00041678369503326553 0.0017540627159178257\n",
      "BestNuclei 20.0 0.9999029263854027 0.9999998807907104\n"
     ]
    },
    {
     "name": "stderr",
     "output_type": "stream",
     "text": [
      "\r",
      " 88%|█████████████████████████████████████████████████████████████████████████████████████████████████████████████████████████████████████████████████████████                     | 22/25 [01:32<00:14,  4.77s/it]"
     ]
    },
    {
     "name": "stdout",
     "output_type": "stream",
     "text": [
      "BestCad 21.0 0.0006969567798280522 0.002134449314326048\n",
      "BestNuclei 21.0 0.9998168660246808 0.9999999403953552\n"
     ]
    },
    {
     "name": "stderr",
     "output_type": "stream",
     "text": [
      "100%|██████████████████████████████████████████████████████████████████████████████████████████████████████████████████████████████████████████████████████████████████████████████| 25/25 [01:37<00:00,  3.89s/it]"
     ]
    },
    {
     "name": "stdout",
     "output_type": "stream",
     "text": [
      "BestCad 22.0 0.0008993502124212682 0.002773535205051303\n",
      "BestNuclei 22.0 0.999775318995766 0.9999998807907104\n"
     ]
    },
    {
     "name": "stderr",
     "output_type": "stream",
     "text": [
      "\n"
     ]
    },
    {
     "name": "stdout",
     "output_type": "stream",
     "text": [
      "Detecting focus planes in 210629_Erk_Kate_His_mov1_w3CSU-QUAD-561_s3_t23\n"
     ]
    },
    {
     "name": "stderr",
     "output_type": "stream",
     "text": [
      "  4%|███████                                                                                                                                                                        | 1/25 [00:04<01:45,  4.42s/it]"
     ]
    },
    {
     "name": "stdout",
     "output_type": "stream",
     "text": [
      "BestCad 0.0 4.777677352830692e-06 2.5376142730237916e-05\n",
      "BestNuclei 0.0 1.2815448041394345e-09 1.1643153108309434e-08\n"
     ]
    },
    {
     "name": "stderr",
     "output_type": "stream",
     "text": [
      "\r",
      "  8%|██████████████                                                                                                                                                                 | 2/25 [00:08<01:34,  4.11s/it]"
     ]
    },
    {
     "name": "stdout",
     "output_type": "stream",
     "text": [
      "BestCad 1.0 1.591941380367375e-05 0.00017270681564696133\n",
      "BestNuclei 1.0 5.54282663683012e-10 4.4098897866717834e-09\n"
     ]
    },
    {
     "name": "stderr",
     "output_type": "stream",
     "text": [
      "\r",
      " 12%|█████████████████████                                                                                                                                                          | 3/25 [00:12<01:27,  3.98s/it]"
     ]
    },
    {
     "name": "stdout",
     "output_type": "stream",
     "text": [
      "BestCad 2.0 4.5825459758155125e-06 2.292058343300596e-05\n",
      "BestNuclei 2.0 7.336838482156044e-10 2.2268478172549067e-09\n"
     ]
    },
    {
     "name": "stderr",
     "output_type": "stream",
     "text": [
      "\r",
      " 16%|████████████████████████████                                                                                                                                                   | 4/25 [00:15<01:21,  3.89s/it]"
     ]
    },
    {
     "name": "stdout",
     "output_type": "stream",
     "text": [
      "BestCad 3.0 4.4349420079470295e-06 2.050963303190656e-05\n",
      "BestNuclei 3.0 1.2278361580936314e-09 1.0835282893140175e-08\n"
     ]
    },
    {
     "name": "stderr",
     "output_type": "stream",
     "text": [
      "\r",
      " 20%|███████████████████████████████████                                                                                                                                            | 5/25 [00:20<01:21,  4.07s/it]"
     ]
    },
    {
     "name": "stdout",
     "output_type": "stream",
     "text": [
      "BestCad 4.0 8.201824309656496e-06 5.230007809586823e-05\n",
      "BestNuclei 4.0 4.716403111549444e-09 6.794216744765436e-08\n"
     ]
    },
    {
     "name": "stderr",
     "output_type": "stream",
     "text": [
      "\r",
      " 24%|██████████████████████████████████████████                                                                                                                                     | 6/25 [00:24<01:18,  4.14s/it]"
     ]
    },
    {
     "name": "stdout",
     "output_type": "stream",
     "text": [
      "BestCad 5.0 1.3936196904040798e-05 0.0001117396168410778\n",
      "BestNuclei 5.0 1.1827388680183606e-09 6.635334059978959e-09\n"
     ]
    },
    {
     "name": "stderr",
     "output_type": "stream",
     "text": [
      "\r",
      " 28%|█████████████████████████████████████████████████                                                                                                                              | 7/25 [00:28<01:13,  4.07s/it]"
     ]
    },
    {
     "name": "stdout",
     "output_type": "stream",
     "text": [
      "BestCad 6.0 1.2077829274723875e-05 0.00010054403537651524\n",
      "BestNuclei 6.0 6.934143686326833e-10 2.105604357538482e-09\n"
     ]
    },
    {
     "name": "stderr",
     "output_type": "stream",
     "text": [
      "\r",
      " 32%|████████████████████████████████████████████████████████                                                                                                                       | 8/25 [00:32<01:09,  4.11s/it]"
     ]
    },
    {
     "name": "stdout",
     "output_type": "stream",
     "text": [
      "BestCad 7.0 1.6072686243262524e-05 0.00017682861653156579\n",
      "BestNuclei 7.0 6.962234483074715e-10 7.46449657640369e-09\n"
     ]
    },
    {
     "name": "stderr",
     "output_type": "stream",
     "text": [
      "\r",
      " 36%|███████████████████████████████████████████████████████████████                                                                                                                | 9/25 [00:36<01:05,  4.07s/it]"
     ]
    },
    {
     "name": "stdout",
     "output_type": "stream",
     "text": [
      "BestCad 8.0 1.1902179568323846e-05 7.905490201665089e-05\n",
      "BestNuclei 8.0 9.729654985956332e-10 4.341146109254623e-09\n"
     ]
    },
    {
     "name": "stderr",
     "output_type": "stream",
     "text": [
      "\r",
      " 40%|█████████████████████████████████████████████████████████████████████▌                                                                                                        | 10/25 [00:41<01:05,  4.35s/it]"
     ]
    },
    {
     "name": "stdout",
     "output_type": "stream",
     "text": [
      "BestCad 9.0 1.4354551648834569e-05 8.949603943619877e-05\n",
      "BestNuclei 9.0 3.657620006869422e-09 5.070394593076344e-08\n"
     ]
    },
    {
     "name": "stderr",
     "output_type": "stream",
     "text": [
      "\r",
      " 44%|████████████████████████████████████████████████████████████████████████████▌                                                                                                 | 11/25 [00:45<01:00,  4.31s/it]"
     ]
    },
    {
     "name": "stdout",
     "output_type": "stream",
     "text": [
      "BestCad 10.0 0.00014318416350127855 0.002275775885209441\n",
      "BestNuclei 10.0 6.782761230810079e-07 1.4738930985913612e-05\n"
     ]
    },
    {
     "name": "stderr",
     "output_type": "stream",
     "text": [
      "\r",
      " 48%|███████████████████████████████████████████████████████████████████████████████████▌                                                                                          | 12/25 [00:49<00:54,  4.20s/it]"
     ]
    },
    {
     "name": "stdout",
     "output_type": "stream",
     "text": [
      "BestCad 11.0 0.03707166781428968 0.8131475448608398\n",
      "BestNuclei 11.0 2.7785725864054023e-05 0.0006094093550927937\n"
     ]
    },
    {
     "name": "stderr",
     "output_type": "stream",
     "text": [
      "\r",
      " 52%|██████████████████████████████████████████████████████████████████████████████████████████▍                                                                                   | 13/25 [00:53<00:48,  4.04s/it]"
     ]
    },
    {
     "name": "stdout",
     "output_type": "stream",
     "text": [
      "BestCad 12.0 0.06838889283193339 0.999893069267273\n",
      "BestNuclei 12.0 1.9930003165566998e-05 0.00026112381601706147\n"
     ]
    },
    {
     "name": "stderr",
     "output_type": "stream",
     "text": [
      "\r",
      " 56%|█████████████████████████████████████████████████████████████████████████████████████████████████▍                                                                            | 14/25 [00:56<00:42,  3.86s/it]"
     ]
    },
    {
     "name": "stdout",
     "output_type": "stream",
     "text": [
      "BestCad 13.0 0.1253963311254871 0.9999954700469971\n",
      "BestNuclei 13.0 4.370477862052642e-05 0.0004839438188355416\n"
     ]
    },
    {
     "name": "stderr",
     "output_type": "stream",
     "text": [
      "\r",
      " 60%|████████████████████████████████████████████████████████████████████████████████████████████████████████▍                                                                     | 15/25 [01:00<00:38,  3.84s/it]"
     ]
    },
    {
     "name": "stdout",
     "output_type": "stream",
     "text": [
      "BestCad 14.0 0.17506968398352218 0.9999993443489075\n",
      "BestNuclei 14.0 0.00017309012046308272 0.0017313939752057195\n"
     ]
    },
    {
     "name": "stderr",
     "output_type": "stream",
     "text": [
      "\r",
      " 64%|███████████████████████████████████████████████████████████████████████████████████████████████████████████████▎                                                              | 16/25 [01:04<00:34,  3.87s/it]"
     ]
    },
    {
     "name": "stdout",
     "output_type": "stream",
     "text": [
      "BestCad 15.0 0.26482225108971447 0.9999978542327881\n",
      "BestNuclei 15.0 0.009328393872509907 0.20389556884765625\n"
     ]
    },
    {
     "name": "stderr",
     "output_type": "stream",
     "text": [
      "\r",
      " 68%|██████████████████████████████████████████████████████████████████████████████████████████████████████████████████████▎                                                       | 17/25 [01:08<00:31,  3.91s/it]"
     ]
    },
    {
     "name": "stdout",
     "output_type": "stream",
     "text": [
      "BestCad 16.0 0.35450869712629357 0.9999735355377197\n",
      "BestNuclei 16.0 0.044225015344015316 0.941347599029541\n"
     ]
    },
    {
     "name": "stderr",
     "output_type": "stream",
     "text": [
      "\r",
      " 72%|█████████████████████████████████████████████████████████████████████████████████████████████████████████████████████████████▎                                                | 18/25 [01:12<00:27,  3.92s/it]"
     ]
    },
    {
     "name": "stdout",
     "output_type": "stream",
     "text": [
      "BestCad 17.0 0.5090289259837433 0.9999074935913086\n",
      "BestNuclei 17.0 0.2415715764666227 0.9985752105712891\n"
     ]
    },
    {
     "name": "stderr",
     "output_type": "stream",
     "text": [
      "\r",
      " 76%|████████████████████████████████████████████████████████████████████████████████████████████████████████████████████████████████████▏                                         | 19/25 [01:16<00:22,  3.82s/it]"
     ]
    },
    {
     "name": "stdout",
     "output_type": "stream",
     "text": [
      "BestCad 18.0 0.41197744228404853 0.9998642802238464\n",
      "BestNuclei 18.0 0.03689798418909062 0.6461442708969116\n"
     ]
    },
    {
     "name": "stderr",
     "output_type": "stream",
     "text": [
      "\r",
      " 80%|███████████████████████████████████████████████████████████████████████████████████████████████████████████████████████████████████████████▏                                  | 20/25 [01:20<00:19,  3.95s/it]"
     ]
    },
    {
     "name": "stdout",
     "output_type": "stream",
     "text": [
      "BestCad 19.0 0.5298102555706546 0.9998196363449097\n",
      "BestNuclei 19.0 0.08575484559303585 0.957593560218811\n"
     ]
    },
    {
     "name": "stderr",
     "output_type": "stream",
     "text": [
      "\r",
      " 84%|██████████████████████████████████████████████████████████████████████████████████████████████████████████████████████████████████████████████████▏                           | 21/25 [01:23<00:15,  3.82s/it]"
     ]
    },
    {
     "name": "stdout",
     "output_type": "stream",
     "text": [
      "BestCad 20.0 0.5585022949274968 0.9998835921287537\n",
      "BestNuclei 20.0 0.12762615388246465 0.9987231492996216\n"
     ]
    },
    {
     "name": "stderr",
     "output_type": "stream",
     "text": [
      "\r",
      " 88%|█████████████████████████████████████████████████████████████████████████████████████████████████████████████████████████████████████████████████████████                     | 22/25 [01:27<00:11,  3.71s/it]"
     ]
    },
    {
     "name": "stdout",
     "output_type": "stream",
     "text": [
      "BestCad 21.0 0.6281014748594977 0.997490406036377\n",
      "BestNuclei 21.0 0.7644172459840775 0.9999716281890869\n"
     ]
    },
    {
     "name": "stderr",
     "output_type": "stream",
     "text": [
      "100%|██████████████████████████████████████████████████████████████████████████████████████████████████████████████████████████████████████████████████████████████████████████████| 25/25 [01:30<00:00,  3.64s/it]"
     ]
    },
    {
     "name": "stdout",
     "output_type": "stream",
     "text": [
      "BestCad 22.0 0.5133898870236325 0.9944220781326294\n",
      "BestNuclei 22.0 0.8541153289843351 0.999995768070221\n"
     ]
    },
    {
     "name": "stderr",
     "output_type": "stream",
     "text": [
      "\n"
     ]
    },
    {
     "name": "stdout",
     "output_type": "stream",
     "text": [
      "Detecting focus planes in 210629_Erk_Kate_His_mov1_w1CSU-QUAD-561_s6_t21\n"
     ]
    },
    {
     "name": "stderr",
     "output_type": "stream",
     "text": [
      "  4%|███████                                                                                                                                                                        | 1/25 [00:04<01:44,  4.34s/it]"
     ]
    },
    {
     "name": "stdout",
     "output_type": "stream",
     "text": [
      "BestCad 0.0 0.00024117146132393179 0.004436704330146313\n",
      "BestNuclei 0.0 7.688411937546153e-07 1.347674333374016e-05\n"
     ]
    },
    {
     "name": "stderr",
     "output_type": "stream",
     "text": [
      "\r",
      "  8%|██████████████                                                                                                                                                                 | 2/25 [00:07<01:24,  3.69s/it]"
     ]
    },
    {
     "name": "stdout",
     "output_type": "stream",
     "text": [
      "BestCad 1.0 0.008991675653031852 0.19502300024032593\n",
      "BestNuclei 1.0 1.1763583368252123e-05 0.00021145702339708805\n"
     ]
    },
    {
     "name": "stderr",
     "output_type": "stream",
     "text": [
      "\r",
      " 12%|█████████████████████                                                                                                                                                          | 3/25 [00:11<01:18,  3.59s/it]"
     ]
    },
    {
     "name": "stdout",
     "output_type": "stream",
     "text": [
      "BestCad 2.0 0.05488330177151856 0.98846435546875\n",
      "BestNuclei 2.0 6.498044625935655e-05 0.0012969393283128738\n"
     ]
    },
    {
     "name": "stderr",
     "output_type": "stream",
     "text": [
      "\r",
      " 16%|████████████████████████████                                                                                                                                                   | 4/25 [00:14<01:14,  3.56s/it]"
     ]
    },
    {
     "name": "stdout",
     "output_type": "stream",
     "text": [
      "BestCad 3.0 0.0444347713454857 0.9789036512374878\n",
      "BestNuclei 3.0 9.180028134062972e-05 0.001914833439514041\n"
     ]
    },
    {
     "name": "stderr",
     "output_type": "stream",
     "text": [
      "\r",
      " 20%|███████████████████████████████████                                                                                                                                            | 5/25 [00:18<01:11,  3.59s/it]"
     ]
    },
    {
     "name": "stdout",
     "output_type": "stream",
     "text": [
      "BestCad 4.0 0.09802254037508233 0.9932122230529785\n",
      "BestNuclei 4.0 0.0008699830427895213 0.010878751054406166\n"
     ]
    },
    {
     "name": "stderr",
     "output_type": "stream",
     "text": [
      "\r",
      " 24%|██████████████████████████████████████████                                                                                                                                     | 6/25 [00:21<01:09,  3.66s/it]"
     ]
    },
    {
     "name": "stdout",
     "output_type": "stream",
     "text": [
      "BestCad 5.0 0.0034110088463026127 0.020063143223524094\n",
      "BestNuclei 5.0 0.9993610735292788 0.9999959468841553\n"
     ]
    },
    {
     "name": "stderr",
     "output_type": "stream",
     "text": [
      "\r",
      " 28%|█████████████████████████████████████████████████                                                                                                                              | 7/25 [00:25<01:06,  3.72s/it]"
     ]
    },
    {
     "name": "stdout",
     "output_type": "stream",
     "text": [
      "BestCad 6.0 1.490288460722102e-05 4.906704998575151e-05\n",
      "BestNuclei 6.0 0.9999961566925049 0.9999997615814209\n"
     ]
    },
    {
     "name": "stderr",
     "output_type": "stream",
     "text": [
      "\r",
      " 32%|████████████████████████████████████████████████████████                                                                                                                       | 8/25 [00:29<01:03,  3.71s/it]"
     ]
    },
    {
     "name": "stdout",
     "output_type": "stream",
     "text": [
      "BestCad 7.0 1.864547492402835e-06 5.477810191223398e-06\n",
      "BestNuclei 7.0 0.9999993542830149 0.9999999403953552\n"
     ]
    },
    {
     "name": "stderr",
     "output_type": "stream",
     "text": [
      "\r",
      " 36%|███████████████████████████████████████████████████████████████                                                                                                                | 9/25 [00:33<01:00,  3.76s/it]"
     ]
    },
    {
     "name": "stdout",
     "output_type": "stream",
     "text": [
      "BestCad 8.0 1.1258746894782234e-06 4.604022706189426e-06\n",
      "BestNuclei 8.0 0.9999996920426687 1.0\n"
     ]
    },
    {
     "name": "stderr",
     "output_type": "stream",
     "text": [
      "\r",
      " 40%|█████████████████████████████████████████████████████████████████████▌                                                                                                        | 10/25 [00:37<00:56,  3.79s/it]"
     ]
    },
    {
     "name": "stdout",
     "output_type": "stream",
     "text": [
      "BestCad 9.0 2.02009994373279e-06 1.710573269519955e-05\n",
      "BestNuclei 9.0 0.9999995464863984 0.9999999403953552\n"
     ]
    },
    {
     "name": "stderr",
     "output_type": "stream",
     "text": [
      "\r",
      " 44%|████████████████████████████████████████████████████████████████████████████▌                                                                                                 | 11/25 [00:41<00:56,  4.06s/it]"
     ]
    },
    {
     "name": "stdout",
     "output_type": "stream",
     "text": [
      "BestCad 10.0 3.6679539612123335e-05 0.0003277060459367931\n",
      "BestNuclei 10.0 0.9999945889348569 0.9999998211860657\n"
     ]
    },
    {
     "name": "stderr",
     "output_type": "stream",
     "text": [
      "\r",
      " 48%|███████████████████████████████████████████████████████████████████████████████████▌                                                                                          | 12/25 [00:45<00:51,  3.97s/it]"
     ]
    },
    {
     "name": "stdout",
     "output_type": "stream",
     "text": [
      "BestCad 11.0 1.3602842823378193e-05 0.00011363181693013757\n",
      "BestNuclei 11.0 0.9999981267111642 1.0\n"
     ]
    },
    {
     "name": "stderr",
     "output_type": "stream",
     "text": [
      "\r",
      " 52%|██████████████████████████████████████████████████████████████████████████████████████████▍                                                                                   | 13/25 [00:49<00:47,  3.96s/it]"
     ]
    },
    {
     "name": "stdout",
     "output_type": "stream",
     "text": [
      "BestCad 12.0 9.504985230349753e-06 7.810479291947559e-05\n",
      "BestNuclei 12.0 0.999996542930603 1.0\n"
     ]
    },
    {
     "name": "stderr",
     "output_type": "stream",
     "text": [
      "\r",
      " 56%|█████████████████████████████████████████████████████████████████████████████████████████████████▍                                                                            | 14/25 [00:53<00:43,  3.94s/it]"
     ]
    },
    {
     "name": "stdout",
     "output_type": "stream",
     "text": [
      "BestCad 13.0 2.4387999269492865e-05 0.0002412920875940472\n",
      "BestNuclei 13.0 0.9999959493676821 1.0\n"
     ]
    },
    {
     "name": "stderr",
     "output_type": "stream",
     "text": [
      "\r",
      " 60%|████████████████████████████████████████████████████████████████████████████████████████████████████████▍                                                                     | 15/25 [00:57<00:39,  3.93s/it]"
     ]
    },
    {
     "name": "stdout",
     "output_type": "stream",
     "text": [
      "BestCad 14.0 6.879422879061774e-05 0.0005003797123208642\n",
      "BestNuclei 14.0 0.9999885106086731 1.0\n"
     ]
    },
    {
     "name": "stderr",
     "output_type": "stream",
     "text": [
      "\r",
      " 64%|███████████████████████████████████████████████████████████████████████████████████████████████████████████████▎                                                              | 16/25 [01:01<00:35,  3.93s/it]"
     ]
    },
    {
     "name": "stdout",
     "output_type": "stream",
     "text": [
      "BestCad 15.0 2.9090420706655675e-06 1.6882237105164677e-05\n",
      "BestNuclei 15.0 0.9999995050222977 1.0\n"
     ]
    },
    {
     "name": "stderr",
     "output_type": "stream",
     "text": [
      "\r",
      " 68%|██████████████████████████████████████████████████████████████████████████████████████████████████████████████████████▎                                                       | 17/25 [01:05<00:31,  3.91s/it]"
     ]
    },
    {
     "name": "stdout",
     "output_type": "stream",
     "text": [
      "BestCad 16.0 2.9431360061331047e-06 1.820489706005901e-05\n",
      "BestNuclei 16.0 0.9999992921948433 1.0\n"
     ]
    },
    {
     "name": "stderr",
     "output_type": "stream",
     "text": [
      "\r",
      " 72%|█████████████████████████████████████████████████████████████████████████████████████████████████████████████████████████████▎                                                | 18/25 [01:09<00:27,  3.91s/it]"
     ]
    },
    {
     "name": "stdout",
     "output_type": "stream",
     "text": [
      "BestCad 17.0 2.897857645284998e-06 1.7189489881275222e-05\n",
      "BestNuclei 17.0 0.9999994710087776 1.0\n"
     ]
    },
    {
     "name": "stderr",
     "output_type": "stream",
     "text": [
      "\r",
      " 76%|████████████████████████████████████████████████████████████████████████████████████████████████████████████████████████████████████▏                                         | 19/25 [01:13<00:23,  3.92s/it]"
     ]
    },
    {
     "name": "stdout",
     "output_type": "stream",
     "text": [
      "BestCad 18.0 9.006954846881853e-05 0.0005535839591175318\n",
      "BestNuclei 18.0 0.9999698971708616 1.0\n"
     ]
    },
    {
     "name": "stderr",
     "output_type": "stream",
     "text": [
      "\r",
      " 80%|███████████████████████████████████████████████████████████████████████████████████████████████████████████████████████████████████████████▏                                  | 20/25 [01:17<00:19,  3.93s/it]"
     ]
    },
    {
     "name": "stdout",
     "output_type": "stream",
     "text": [
      "BestCad 19.0 0.00010680501192913046 0.0006405629683285952\n",
      "BestNuclei 19.0 0.9999863604704539 1.0\n"
     ]
    },
    {
     "name": "stderr",
     "output_type": "stream",
     "text": [
      "\r",
      " 84%|██████████████████████████████████████████████████████████████████████████████████████████████████████████████████████████████████████████████████▏                           | 21/25 [01:21<00:16,  4.13s/it]"
     ]
    },
    {
     "name": "stdout",
     "output_type": "stream",
     "text": [
      "BestCad 20.0 9.298919487719104e-05 0.0005959266563877463\n",
      "BestNuclei 20.0 0.9999786114692688 1.0\n"
     ]
    },
    {
     "name": "stderr",
     "output_type": "stream",
     "text": [
      "\r",
      " 88%|█████████████████████████████████████████████████████████████████████████████████████████████████████████████████████████████████████████████████████████                     | 22/25 [01:25<00:12,  4.05s/it]"
     ]
    },
    {
     "name": "stdout",
     "output_type": "stream",
     "text": [
      "BestCad 21.0 2.9874251072214975e-05 0.00027004926232621074\n",
      "BestNuclei 21.0 0.9999958764423024 1.0\n"
     ]
    },
    {
     "name": "stderr",
     "output_type": "stream",
     "text": [
      "100%|██████████████████████████████████████████████████████████████████████████████████████████████████████████████████████████████████████████████████████████████████████████████| 25/25 [01:29<00:00,  3.60s/it]"
     ]
    },
    {
     "name": "stdout",
     "output_type": "stream",
     "text": [
      "BestCad 22.0 1.1903597329938234e-05 0.00011063491547247395\n",
      "BestNuclei 22.0 0.9999982429587323 1.0\n"
     ]
    },
    {
     "name": "stderr",
     "output_type": "stream",
     "text": [
      "\n"
     ]
    },
    {
     "name": "stdout",
     "output_type": "stream",
     "text": [
      "Detecting focus planes in 210629_Erk_Kate_His_mov1_w1CSU-QUAD-561_s5_t11\n"
     ]
    },
    {
     "name": "stderr",
     "output_type": "stream",
     "text": [
      "  4%|███████                                                                                                                                                                        | 1/25 [00:05<02:16,  5.70s/it]"
     ]
    },
    {
     "name": "stdout",
     "output_type": "stream",
     "text": [
      "BestCad 0.0 0.00039561310841236265 0.0014913685154169798\n",
      "BestNuclei 0.0 0.9998718853350039 0.999996542930603\n"
     ]
    },
    {
     "name": "stderr",
     "output_type": "stream",
     "text": [
      "\r",
      "  8%|██████████████                                                                                                                                                                 | 2/25 [00:10<01:55,  5.01s/it]"
     ]
    },
    {
     "name": "stdout",
     "output_type": "stream",
     "text": [
      "BestCad 1.0 1.2286031137808182e-05 3.434839891269803e-05\n",
      "BestNuclei 1.0 0.9999962059351114 0.9999998211860657\n"
     ]
    },
    {
     "name": "stderr",
     "output_type": "stream",
     "text": [
      "\r",
      " 12%|█████████████████████                                                                                                                                                          | 3/25 [00:15<01:54,  5.21s/it]"
     ]
    },
    {
     "name": "stdout",
     "output_type": "stream",
     "text": [
      "BestCad 2.0 2.1724159776939897e-06 1.0053879123006482e-05\n",
      "BestNuclei 2.0 0.9999994268784156 1.0\n"
     ]
    },
    {
     "name": "stderr",
     "output_type": "stream",
     "text": [
      "\r",
      " 16%|████████████████████████████                                                                                                                                                   | 4/25 [00:20<01:45,  5.02s/it]"
     ]
    },
    {
     "name": "stdout",
     "output_type": "stream",
     "text": [
      "BestCad 3.0 2.8455806485631596e-06 1.4056297004572116e-05\n",
      "BestNuclei 3.0 0.9999993764437162 0.9999998807907104\n"
     ]
    },
    {
     "name": "stderr",
     "output_type": "stream",
     "text": [
      "\r",
      " 20%|███████████████████████████████████                                                                                                                                            | 5/25 [00:24<01:37,  4.85s/it]"
     ]
    },
    {
     "name": "stdout",
     "output_type": "stream",
     "text": [
      "BestCad 4.0 2.5447913275377725e-06 1.4461647879215889e-05\n",
      "BestNuclei 4.0 0.9999994277954102 0.9999999403953552\n"
     ]
    },
    {
     "name": "stderr",
     "output_type": "stream",
     "text": [
      "\r",
      " 24%|██████████████████████████████████████████                                                                                                                                     | 6/25 [00:29<01:30,  4.74s/it]"
     ]
    },
    {
     "name": "stdout",
     "output_type": "stream",
     "text": [
      "BestCad 5.0 5.977839715380166e-06 3.5108729207422584e-05\n",
      "BestNuclei 5.0 0.9999987316131592 0.9999999403953552\n"
     ]
    },
    {
     "name": "stderr",
     "output_type": "stream",
     "text": [
      "\r",
      " 28%|█████████████████████████████████████████████████                                                                                                                              | 7/25 [00:33<01:23,  4.63s/it]"
     ]
    },
    {
     "name": "stdout",
     "output_type": "stream",
     "text": [
      "BestCad 6.0 1.4177528436491793e-05 6.266943091759458e-05\n",
      "BestNuclei 6.0 0.9999968299159298 0.9999998807907104\n"
     ]
    },
    {
     "name": "stderr",
     "output_type": "stream",
     "text": [
      "\r",
      " 32%|████████████████████████████████████████████████████████                                                                                                                       | 8/25 [00:38<01:18,  4.60s/it]"
     ]
    },
    {
     "name": "stdout",
     "output_type": "stream",
     "text": [
      "BestCad 7.0 1.7616869752619853e-06 5.504155524249654e-06\n",
      "BestNuclei 7.0 0.9999995281298956 1.0\n"
     ]
    },
    {
     "name": "stderr",
     "output_type": "stream",
     "text": [
      "\r",
      " 36%|███████████████████████████████████████████████████████████████                                                                                                                | 9/25 [00:42<01:12,  4.56s/it]"
     ]
    },
    {
     "name": "stdout",
     "output_type": "stream",
     "text": [
      "BestCad 8.0 7.5635025199438175e-06 5.741753557231277e-05\n",
      "BestNuclei 8.0 0.999999177455902 0.9999998807907104\n"
     ]
    },
    {
     "name": "stderr",
     "output_type": "stream",
     "text": [
      "\r",
      " 40%|█████████████████████████████████████████████████████████████████████▌                                                                                                        | 10/25 [00:46<01:04,  4.28s/it]"
     ]
    },
    {
     "name": "stdout",
     "output_type": "stream",
     "text": [
      "BestCad 9.0 0.0001526296360680135 0.0007097878842614591\n",
      "BestNuclei 9.0 0.9999796666882255 0.9999994039535522\n"
     ]
    },
    {
     "name": "stderr",
     "output_type": "stream",
     "text": [
      "\r",
      " 44%|████████████████████████████████████████████████████████████████████████████▌                                                                                                 | 11/25 [00:50<00:56,  4.06s/it]"
     ]
    },
    {
     "name": "stdout",
     "output_type": "stream",
     "text": [
      "BestCad 10.0 0.00022449413249294435 0.0010585315758362412\n",
      "BestNuclei 10.0 0.9999443888664246 0.9999997019767761\n"
     ]
    },
    {
     "name": "stderr",
     "output_type": "stream",
     "text": [
      "\r",
      " 48%|███████████████████████████████████████████████████████████████████████████████████▌                                                                                          | 12/25 [00:53<00:50,  3.92s/it]"
     ]
    },
    {
     "name": "stdout",
     "output_type": "stream",
     "text": [
      "BestCad 11.0 9.668582944868831e-05 0.0005004744743928313\n",
      "BestNuclei 11.0 0.9999865552653437 0.9999998807907104\n"
     ]
    },
    {
     "name": "stderr",
     "output_type": "stream",
     "text": [
      "\r",
      " 52%|██████████████████████████████████████████████████████████████████████████████████████████▍                                                                                   | 13/25 [00:57<00:45,  3.81s/it]"
     ]
    },
    {
     "name": "stdout",
     "output_type": "stream",
     "text": [
      "BestCad 12.0 0.000111018773241085 0.0005057345260865986\n",
      "BestNuclei 12.0 0.9999860714782368 1.0\n"
     ]
    },
    {
     "name": "stderr",
     "output_type": "stream",
     "text": [
      "\r",
      " 56%|█████████████████████████████████████████████████████████████████████████████████████████████████▍                                                                            | 14/25 [01:01<00:43,  3.93s/it]"
     ]
    },
    {
     "name": "stdout",
     "output_type": "stream",
     "text": [
      "BestCad 13.0 0.00010975687415339053 0.0005111774080432951\n",
      "BestNuclei 13.0 0.999985321001573 1.0\n"
     ]
    },
    {
     "name": "stderr",
     "output_type": "stream",
     "text": [
      "\r",
      " 60%|████████████████████████████████████████████████████████████████████████████████████████████████████████▍                                                                     | 15/25 [01:04<00:37,  3.79s/it]"
     ]
    },
    {
     "name": "stdout",
     "output_type": "stream",
     "text": [
      "BestCad 14.0 0.0001867501526551981 0.0006948093068785965\n",
      "BestNuclei 14.0 0.999969558282332 1.0\n"
     ]
    },
    {
     "name": "stderr",
     "output_type": "stream",
     "text": [
      "\r",
      " 64%|███████████████████████████████████████████████████████████████████████████████████████████████████████████████▎                                                              | 16/25 [01:08<00:33,  3.69s/it]"
     ]
    },
    {
     "name": "stdout",
     "output_type": "stream",
     "text": [
      "BestCad 15.0 0.00029202448210223036 0.0012980853207409382\n",
      "BestNuclei 15.0 0.9999566863883625 1.0\n"
     ]
    },
    {
     "name": "stderr",
     "output_type": "stream",
     "text": [
      "\r",
      " 68%|██████████████████████████████████████████████████████████████████████████████████████████████████████████████████████▎                                                       | 17/25 [01:11<00:28,  3.62s/it]"
     ]
    },
    {
     "name": "stdout",
     "output_type": "stream",
     "text": [
      "BestCad 16.0 0.00014122780521574896 0.0005305485683493316\n",
      "BestNuclei 16.0 0.9999755284060603 1.0\n"
     ]
    },
    {
     "name": "stderr",
     "output_type": "stream",
     "text": [
      "\r",
      " 72%|█████████████████████████████████████████████████████████████████████████████████████████████████████████████████████████████▎                                                | 18/25 [01:15<00:25,  3.60s/it]"
     ]
    },
    {
     "name": "stdout",
     "output_type": "stream",
     "text": [
      "BestCad 17.0 0.00012522015814890133 0.0005007557338103652\n",
      "BestNuclei 17.0 0.9999730711181959 1.0\n"
     ]
    },
    {
     "name": "stderr",
     "output_type": "stream",
     "text": [
      "\r",
      " 76%|████████████████████████████████████████████████████████████████████████████████████████████████████████████████████████████████████▏                                         | 19/25 [01:19<00:21,  3.60s/it]"
     ]
    },
    {
     "name": "stdout",
     "output_type": "stream",
     "text": [
      "BestCad 18.0 9.613786971840454e-05 0.00044269394129514694\n",
      "BestNuclei 18.0 0.999987736992214 1.0\n"
     ]
    },
    {
     "name": "stderr",
     "output_type": "stream",
     "text": [
      "\r",
      " 80%|███████████████████████████████████████████████████████████████████████████████████████████████████████████████████████████████████████████▏                                  | 20/25 [01:22<00:17,  3.59s/it]"
     ]
    },
    {
     "name": "stdout",
     "output_type": "stream",
     "text": [
      "BestCad 19.0 0.000215882248012349 0.0008588166092522442\n",
      "BestNuclei 19.0 0.9999431073665619 0.9999999403953552\n"
     ]
    },
    {
     "name": "stderr",
     "output_type": "stream",
     "text": [
      "\r",
      " 84%|██████████████████████████████████████████████████████████████████████████████████████████████████████████████████████████████████████████████████▏                           | 21/25 [01:26<00:14,  3.61s/it]"
     ]
    },
    {
     "name": "stdout",
     "output_type": "stream",
     "text": [
      "BestCad 20.0 0.00022859778346173698 0.0008524708682671189\n",
      "BestNuclei 20.0 0.9999606751260304 0.9999997019767761\n"
     ]
    },
    {
     "name": "stderr",
     "output_type": "stream",
     "text": [
      "\r",
      " 88%|█████████████████████████████████████████████████████████████████████████████████████████████████████████████████████████████████████████████████████████                     | 22/25 [01:29<00:10,  3.63s/it]"
     ]
    },
    {
     "name": "stdout",
     "output_type": "stream",
     "text": [
      "BestCad 21.0 4.486751699005254e-05 0.00022256952070165426\n",
      "BestNuclei 21.0 0.9999932565472343 0.9999997615814209\n"
     ]
    },
    {
     "name": "stderr",
     "output_type": "stream",
     "text": [
      "100%|██████████████████████████████████████████████████████████████████████████████████████████████████████████████████████████████████████████████████████████████████████████████| 25/25 [01:33<00:00,  3.74s/it]"
     ]
    },
    {
     "name": "stdout",
     "output_type": "stream",
     "text": [
      "BestCad 22.0 4.062530720148061e-05 0.00021107909560669214\n",
      "BestNuclei 22.0 0.9999941397796978 0.9999995827674866\n"
     ]
    },
    {
     "name": "stderr",
     "output_type": "stream",
     "text": [
      "\n"
     ]
    },
    {
     "name": "stdout",
     "output_type": "stream",
     "text": [
      "Detecting focus planes in 210629_Erk_Kate_His_mov1_w1CSU-QUAD-561_s11_t3\n"
     ]
    },
    {
     "name": "stderr",
     "output_type": "stream",
     "text": [
      "  4%|███████                                                                                                                                                                        | 1/25 [00:05<02:00,  5.01s/it]"
     ]
    },
    {
     "name": "stdout",
     "output_type": "stream",
     "text": [
      "BestCad 0.0 0.3214917477744166 0.9929736852645874\n",
      "BestNuclei 0.0 0.05308376592146639 0.4523388743400574\n"
     ]
    },
    {
     "name": "stderr",
     "output_type": "stream",
     "text": [
      "\r",
      "  8%|██████████████                                                                                                                                                                 | 2/25 [00:08<01:38,  4.28s/it]"
     ]
    },
    {
     "name": "stdout",
     "output_type": "stream",
     "text": [
      "BestCad 1.0 0.397708652384939 0.9938764572143555\n",
      "BestNuclei 1.0 0.09527749590249357 0.9175207018852234\n"
     ]
    },
    {
     "name": "stderr",
     "output_type": "stream",
     "text": [
      "\r",
      " 12%|█████████████████████                                                                                                                                                          | 3/25 [00:12<01:27,  3.99s/it]"
     ]
    },
    {
     "name": "stdout",
     "output_type": "stream",
     "text": [
      "BestCad 2.0 0.5338098984599734 0.9942423105239868\n",
      "BestNuclei 2.0 0.31833604341822636 0.999731183052063\n"
     ]
    },
    {
     "name": "stderr",
     "output_type": "stream",
     "text": [
      "\r",
      " 16%|████████████████████████████                                                                                                                                                   | 4/25 [00:16<01:20,  3.84s/it]"
     ]
    },
    {
     "name": "stdout",
     "output_type": "stream",
     "text": [
      "BestCad 3.0 0.5009772342385511 0.9959506988525391\n",
      "BestNuclei 3.0 0.2467782970833995 0.9999966621398926\n"
     ]
    },
    {
     "name": "stderr",
     "output_type": "stream",
     "text": [
      "\r",
      " 20%|███████████████████████████████████                                                                                                                                            | 5/25 [00:19<01:14,  3.73s/it]"
     ]
    },
    {
     "name": "stdout",
     "output_type": "stream",
     "text": [
      "BestCad 4.0 0.3993471704778217 0.9704704284667969\n",
      "BestNuclei 4.0 0.788347038924694 0.999992847442627\n"
     ]
    },
    {
     "name": "stderr",
     "output_type": "stream",
     "text": [
      "\r",
      " 24%|██████████████████████████████████████████                                                                                                                                     | 6/25 [00:23<01:10,  3.69s/it]"
     ]
    },
    {
     "name": "stdout",
     "output_type": "stream",
     "text": [
      "BestCad 5.0 0.0005431187517907736 0.0018043678719550371\n",
      "BestNuclei 5.0 0.999882198870182 0.999991238117218\n"
     ]
    },
    {
     "name": "stderr",
     "output_type": "stream",
     "text": [
      "\r",
      " 28%|█████████████████████████████████████████████████                                                                                                                              | 7/25 [00:26<01:06,  3.68s/it]"
     ]
    },
    {
     "name": "stdout",
     "output_type": "stream",
     "text": [
      "BestCad 6.0 6.845147795915678e-05 0.00016296716057695448\n",
      "BestNuclei 6.0 0.9999841332435608 0.9999969601631165\n"
     ]
    },
    {
     "name": "stderr",
     "output_type": "stream",
     "text": [
      "\r",
      " 32%|████████████████████████████████████████████████████████                                                                                                                       | 8/25 [00:31<01:06,  3.94s/it]"
     ]
    },
    {
     "name": "stdout",
     "output_type": "stream",
     "text": [
      "BestCad 7.0 8.461644092281146e-05 0.00024849481997080147\n",
      "BestNuclei 7.0 0.999984596086585 0.9999966621398926\n"
     ]
    },
    {
     "name": "stderr",
     "output_type": "stream",
     "text": [
      "\r",
      " 36%|███████████████████████████████████████████████████████████████                                                                                                                | 9/25 [00:35<01:01,  3.87s/it]"
     ]
    },
    {
     "name": "stdout",
     "output_type": "stream",
     "text": [
      "BestCad 8.0 5.9667373617147945e-05 0.00020339716866146773\n",
      "BestNuclei 8.0 0.9999898257462875 0.9999980330467224\n"
     ]
    },
    {
     "name": "stderr",
     "output_type": "stream",
     "text": [
      "\r",
      " 40%|█████████████████████████████████████████████████████████████████████▌                                                                                                        | 10/25 [00:38<00:58,  3.87s/it]"
     ]
    },
    {
     "name": "stdout",
     "output_type": "stream",
     "text": [
      "BestCad 9.0 2.3213440654630673e-05 7.643371645826846e-05\n",
      "BestNuclei 9.0 0.9999972295761108 0.9999996423721313\n"
     ]
    },
    {
     "name": "stderr",
     "output_type": "stream",
     "text": [
      "\r",
      " 44%|████████████████████████████████████████████████████████████████████████████▌                                                                                                 | 11/25 [00:42<00:53,  3.82s/it]"
     ]
    },
    {
     "name": "stdout",
     "output_type": "stream",
     "text": [
      "BestCad 10.0 2.2545271323534425e-05 9.614519512979314e-05\n",
      "BestNuclei 10.0 0.9999974817037582 0.9999997019767761\n"
     ]
    },
    {
     "name": "stderr",
     "output_type": "stream",
     "text": [
      "\r",
      " 48%|███████████████████████████████████████████████████████████████████████████████████▌                                                                                          | 12/25 [00:46<00:49,  3.79s/it]"
     ]
    },
    {
     "name": "stdout",
     "output_type": "stream",
     "text": [
      "BestCad 11.0 2.419159839443334e-05 8.962088031694293e-05\n",
      "BestNuclei 11.0 0.9999972796440124 0.9999997019767761\n"
     ]
    },
    {
     "name": "stderr",
     "output_type": "stream",
     "text": [
      "\r",
      " 52%|██████████████████████████████████████████████████████████████████████████████████████████▍                                                                                   | 13/25 [00:49<00:44,  3.73s/it]"
     ]
    },
    {
     "name": "stdout",
     "output_type": "stream",
     "text": [
      "BestCad 12.0 5.794182044112295e-05 0.00020874245092272758\n",
      "BestNuclei 12.0 0.999995353676024 0.9999992847442627\n"
     ]
    },
    {
     "name": "stderr",
     "output_type": "stream",
     "text": [
      "\r",
      " 56%|█████████████████████████████████████████████████████████████████████████████████████████████████▍                                                                            | 14/25 [00:53<00:40,  3.64s/it]"
     ]
    },
    {
     "name": "stdout",
     "output_type": "stream",
     "text": [
      "BestCad 13.0 0.0006945250894204946 0.0033605035860091448\n",
      "BestNuclei 13.0 0.9999539126520571 0.9999961853027344\n"
     ]
    },
    {
     "name": "stderr",
     "output_type": "stream",
     "text": [
      "\r",
      " 60%|████████████████████████████████████████████████████████████████████████████████████████████████████████▍                                                                     | 15/25 [00:56<00:35,  3.56s/it]"
     ]
    },
    {
     "name": "stdout",
     "output_type": "stream",
     "text": [
      "BestCad 14.0 0.010543399868765846 0.039089180529117584\n",
      "BestNuclei 14.0 0.9996248862960122 0.9999949336051941\n"
     ]
    },
    {
     "name": "stderr",
     "output_type": "stream",
     "text": [
      "\r",
      " 64%|███████████████████████████████████████████████████████████████████████████████████████████████████████████████▎                                                              | 16/25 [01:00<00:31,  3.52s/it]"
     ]
    },
    {
     "name": "stdout",
     "output_type": "stream",
     "text": [
      "BestCad 15.0 0.1288350358144785 0.6105790138244629\n",
      "BestNuclei 15.0 0.9956274466081099 0.9999988675117493\n"
     ]
    },
    {
     "name": "stderr",
     "output_type": "stream",
     "text": [
      "\r",
      " 68%|██████████████████████████████████████████████████████████████████████████████████████████████████████████████████████▎                                                       | 17/25 [01:03<00:28,  3.53s/it]"
     ]
    },
    {
     "name": "stdout",
     "output_type": "stream",
     "text": [
      "BestCad 16.0 0.04563213009823812 0.3686487674713135\n",
      "BestNuclei 16.0 0.9983892388965773 0.9999952912330627\n"
     ]
    },
    {
     "name": "stderr",
     "output_type": "stream",
     "text": [
      "\r",
      " 72%|█████████████████████████████████████████████████████████████████████████████████████████████████████████████████████████████▎                                                | 18/25 [01:07<00:24,  3.49s/it]"
     ]
    },
    {
     "name": "stdout",
     "output_type": "stream",
     "text": [
      "BestCad 17.0 0.011933446454349905 0.1122717559337616\n",
      "BestNuclei 17.0 0.9987125481878009 0.9999972581863403\n"
     ]
    },
    {
     "name": "stderr",
     "output_type": "stream",
     "text": [
      "\r",
      " 76%|████████████████████████████████████████████████████████████████████████████████████████████████████████████████████████████████████▏                                         | 19/25 [01:10<00:20,  3.47s/it]"
     ]
    },
    {
     "name": "stdout",
     "output_type": "stream",
     "text": [
      "BestCad 18.0 0.01767244607617613 0.2409375160932541\n",
      "BestNuclei 18.0 0.9991143993709398 0.9999969005584717\n"
     ]
    },
    {
     "name": "stderr",
     "output_type": "stream",
     "text": [
      "\r",
      " 80%|███████████████████████████████████████████████████████████████████████████████████████████████████████████████████████████████████████████▏                                  | 20/25 [01:13<00:17,  3.46s/it]"
     ]
    },
    {
     "name": "stdout",
     "output_type": "stream",
     "text": [
      "BestCad 19.0 0.020431818469660357 0.27662813663482666\n",
      "BestNuclei 19.0 0.9988694041967392 0.999998152256012\n"
     ]
    },
    {
     "name": "stderr",
     "output_type": "stream",
     "text": [
      "\r",
      " 84%|██████████████████████████████████████████████████████████████████████████████████████████████████████████████████████████████████████████████████▏                           | 21/25 [01:18<00:14,  3.66s/it]"
     ]
    },
    {
     "name": "stdout",
     "output_type": "stream",
     "text": [
      "BestCad 20.0 0.00798532366128971 0.06290603429079056\n",
      "BestNuclei 20.0 0.9988991184668108 0.9999987483024597\n"
     ]
    },
    {
     "name": "stderr",
     "output_type": "stream",
     "text": [
      "\r",
      " 88%|█████████████████████████████████████████████████████████████████████████████████████████████████████████████████████████████████████████████████████████                     | 22/25 [01:21<00:10,  3.59s/it]"
     ]
    },
    {
     "name": "stdout",
     "output_type": "stream",
     "text": [
      "BestCad 21.0 0.0010823560727658333 0.006883854046463966\n",
      "BestNuclei 21.0 0.9999330910769376 0.9999997615814209\n"
     ]
    },
    {
     "name": "stderr",
     "output_type": "stream",
     "text": [
      "100%|██████████████████████████████████████████████████████████████████████████████████████████████████████████████████████████████████████████████████████████████████████████████| 25/25 [01:25<00:00,  3.40s/it]"
     ]
    },
    {
     "name": "stdout",
     "output_type": "stream",
     "text": [
      "BestCad 22.0 3.875663564182711e-05 0.00029132311465218663\n",
      "BestNuclei 22.0 0.999995616349307 0.9999999403953552\n"
     ]
    },
    {
     "name": "stderr",
     "output_type": "stream",
     "text": [
      "\n"
     ]
    },
    {
     "name": "stdout",
     "output_type": "stream",
     "text": [
      "Detecting focus planes in 210629_Erk_Kate_His_mov1_w3CSU-QUAD-561_s7_t3\n"
     ]
    },
    {
     "name": "stderr",
     "output_type": "stream",
     "text": [
      "  4%|███████                                                                                                                                                                        | 1/25 [00:04<01:49,  4.54s/it]"
     ]
    },
    {
     "name": "stdout",
     "output_type": "stream",
     "text": [
      "BestCad 0.0 2.9203209039962984e-05 0.00047394278226420283\n",
      "BestNuclei 0.0 3.0467614676877814e-08 5.93713878060953e-07\n"
     ]
    },
    {
     "name": "stderr",
     "output_type": "stream",
     "text": [
      "\r",
      "  8%|██████████████                                                                                                                                                                 | 2/25 [00:07<01:27,  3.81s/it]"
     ]
    },
    {
     "name": "stdout",
     "output_type": "stream",
     "text": [
      "BestCad 1.0 9.458009634905855e-05 0.0018931964877992868\n",
      "BestNuclei 1.0 9.62792537904206e-08 1.977555939447484e-06\n"
     ]
    },
    {
     "name": "stderr",
     "output_type": "stream",
     "text": [
      "\r",
      " 12%|█████████████████████                                                                                                                                                          | 3/25 [00:11<01:17,  3.54s/it]"
     ]
    },
    {
     "name": "stdout",
     "output_type": "stream",
     "text": [
      "BestCad 2.0 2.9811867588204098e-05 0.0005618915893137455\n",
      "BestNuclei 2.0 1.6205245366176407e-08 3.1795852351024223e-07\n"
     ]
    },
    {
     "name": "stderr",
     "output_type": "stream",
     "text": [
      "\r",
      " 16%|████████████████████████████                                                                                                                                                   | 4/25 [00:15<01:20,  3.84s/it]"
     ]
    },
    {
     "name": "stdout",
     "output_type": "stream",
     "text": [
      "BestCad 3.0 2.3051780454414423e-05 0.00032762414775788784\n",
      "BestNuclei 3.0 5.1700474258738825e-08 1.105155661207391e-06\n"
     ]
    },
    {
     "name": "stderr",
     "output_type": "stream",
     "text": [
      "\r",
      " 20%|███████████████████████████████████                                                                                                                                            | 5/25 [00:18<01:13,  3.66s/it]"
     ]
    },
    {
     "name": "stdout",
     "output_type": "stream",
     "text": [
      "BestCad 4.0 0.00039293194794885896 0.0058961412869393826\n",
      "BestNuclei 4.0 1.7801291246225377e-07 3.559562628652202e-06\n"
     ]
    },
    {
     "name": "stderr",
     "output_type": "stream",
     "text": [
      "\r",
      " 24%|██████████████████████████████████████████                                                                                                                                     | 6/25 [00:22<01:07,  3.57s/it]"
     ]
    },
    {
     "name": "stdout",
     "output_type": "stream",
     "text": [
      "BestCad 5.0 0.0005848567040651514 0.01002587378025055\n",
      "BestNuclei 5.0 3.232815842310642e-07 6.55423900752794e-06\n"
     ]
    },
    {
     "name": "stderr",
     "output_type": "stream",
     "text": [
      "\r",
      " 28%|█████████████████████████████████████████████████                                                                                                                              | 7/25 [00:25<01:02,  3.48s/it]"
     ]
    },
    {
     "name": "stdout",
     "output_type": "stream",
     "text": [
      "BestCad 6.0 0.0006342982250967824 0.012539059855043888\n",
      "BestNuclei 6.0 1.1190341688741002e-06 2.1701973309973255e-05\n"
     ]
    },
    {
     "name": "stderr",
     "output_type": "stream",
     "text": [
      "\r",
      " 32%|████████████████████████████████████████████████████████                                                                                                                       | 8/25 [00:28<00:58,  3.45s/it]"
     ]
    },
    {
     "name": "stdout",
     "output_type": "stream",
     "text": [
      "BestCad 7.0 0.0017059263261878434 0.03202396631240845\n",
      "BestNuclei 7.0 2.456468548046749e-06 4.726366387330927e-05\n"
     ]
    },
    {
     "name": "stderr",
     "output_type": "stream",
     "text": [
      "\r",
      " 36%|███████████████████████████████████████████████████████████████                                                                                                                | 9/25 [00:32<00:56,  3.51s/it]"
     ]
    },
    {
     "name": "stdout",
     "output_type": "stream",
     "text": [
      "BestCad 8.0 0.0018688698331640228 0.0160972997546196\n",
      "BestNuclei 8.0 0.0001022866275474608 0.0018164392095059156\n"
     ]
    },
    {
     "name": "stderr",
     "output_type": "stream",
     "text": [
      "\r",
      " 40%|█████████████████████████████████████████████████████████████████████▌                                                                                                        | 10/25 [00:36<00:54,  3.61s/it]"
     ]
    },
    {
     "name": "stdout",
     "output_type": "stream",
     "text": [
      "BestCad 9.0 0.044354682217564674 0.1997174173593521\n",
      "BestNuclei 9.0 0.15785163257290033 0.9995755553245544\n"
     ]
    },
    {
     "name": "stderr",
     "output_type": "stream",
     "text": [
      "\r",
      " 44%|████████████████████████████████████████████████████████████████████████████▌                                                                                                 | 11/25 [00:40<00:51,  3.69s/it]"
     ]
    },
    {
     "name": "stdout",
     "output_type": "stream",
     "text": [
      "BestCad 10.0 0.09288599912985734 0.5055205821990967\n",
      "BestNuclei 10.0 0.6229315663653391 0.999989926815033\n"
     ]
    },
    {
     "name": "stderr",
     "output_type": "stream",
     "text": [
      "\r",
      " 48%|███████████████████████████████████████████████████████████████████████████████████▌                                                                                          | 12/25 [00:43<00:48,  3.70s/it]"
     ]
    },
    {
     "name": "stdout",
     "output_type": "stream",
     "text": [
      "BestCad 11.0 0.006996805881120356 0.0651688352227211\n",
      "BestNuclei 11.0 0.9991485499418699 0.9999996423721313\n"
     ]
    },
    {
     "name": "stderr",
     "output_type": "stream",
     "text": [
      "\r",
      " 52%|██████████████████████████████████████████████████████████████████████████████████████████▍                                                                                   | 13/25 [00:47<00:44,  3.69s/it]"
     ]
    },
    {
     "name": "stdout",
     "output_type": "stream",
     "text": [
      "BestCad 12.0 6.601684542503158e-05 0.0004765934427268803\n",
      "BestNuclei 12.0 0.999986348328767 1.0\n"
     ]
    },
    {
     "name": "stderr",
     "output_type": "stream",
     "text": [
      "\r",
      " 56%|█████████████████████████████████████████████████████████████████████████████████████████████████▍                                                                            | 14/25 [00:51<00:40,  3.66s/it]"
     ]
    },
    {
     "name": "stdout",
     "output_type": "stream",
     "text": [
      "BestCad 13.0 2.2678658166341846e-06 1.0583890798443463e-05\n",
      "BestNuclei 13.0 0.9999994064370791 0.9999998807907104\n"
     ]
    },
    {
     "name": "stderr",
     "output_type": "stream",
     "text": [
      "\r",
      " 60%|████████████████████████████████████████████████████████████████████████████████████████████████████████▍                                                                     | 15/25 [00:54<00:36,  3.68s/it]"
     ]
    },
    {
     "name": "stdout",
     "output_type": "stream",
     "text": [
      "BestCad 14.0 6.055138423623528e-06 6.196997128427029e-05\n",
      "BestNuclei 14.0 0.9999983621680218 1.0\n"
     ]
    },
    {
     "name": "stderr",
     "output_type": "stream",
     "text": [
      "\r",
      " 64%|███████████████████████████████████████████████████████████████████████████████████████████████████████████████▎                                                              | 16/25 [00:58<00:33,  3.74s/it]"
     ]
    },
    {
     "name": "stdout",
     "output_type": "stream",
     "text": [
      "BestCad 15.0 3.806899625347936e-05 0.00023780782066751271\n",
      "BestNuclei 15.0 0.9999926823836106 1.0\n"
     ]
    },
    {
     "name": "stderr",
     "output_type": "stream",
     "text": [
      "\r",
      " 68%|██████████████████████████████████████████████████████████████████████████████████████████████████████████████████████▎                                                       | 17/25 [01:03<00:31,  4.00s/it]"
     ]
    },
    {
     "name": "stdout",
     "output_type": "stream",
     "text": [
      "BestCad 16.0 0.00024629787124771 0.0008585125906392932\n",
      "BestNuclei 16.0 0.9999398910082303 0.9999995827674866\n"
     ]
    },
    {
     "name": "stderr",
     "output_type": "stream",
     "text": [
      "\r",
      " 72%|█████████████████████████████████████████████████████████████████████████████████████████████████████████████████████████████▎                                                | 18/25 [01:07<00:27,  3.95s/it]"
     ]
    },
    {
     "name": "stdout",
     "output_type": "stream",
     "text": [
      "BestCad 17.0 0.0003495377814397216 0.0010030163684859872\n",
      "BestNuclei 17.0 0.9999099469184876 0.9999997019767761\n"
     ]
    },
    {
     "name": "stderr",
     "output_type": "stream",
     "text": [
      "\r",
      " 76%|████████████████████████████████████████████████████████████████████████████████████████████████████████████████████████████████████▏                                         | 19/25 [01:10<00:23,  3.90s/it]"
     ]
    },
    {
     "name": "stdout",
     "output_type": "stream",
     "text": [
      "BestCad 18.0 0.00043311061745043844 0.0012571851257234812\n",
      "BestNuclei 18.0 0.9998703623811404 0.9999998807907104\n"
     ]
    },
    {
     "name": "stderr",
     "output_type": "stream",
     "text": [
      "\r",
      " 80%|███████████████████████████████████████████████████████████████████████████████████████████████████████████████████████████████████████████▏                                  | 20/25 [01:14<00:19,  3.87s/it]"
     ]
    },
    {
     "name": "stdout",
     "output_type": "stream",
     "text": [
      "BestCad 19.0 0.0006138339743483812 0.00174917362164706\n",
      "BestNuclei 19.0 0.9998153671622276 0.9999998807907104\n"
     ]
    },
    {
     "name": "stderr",
     "output_type": "stream",
     "text": [
      "\r",
      " 84%|██████████████████████████████████████████████████████████████████████████████████████████████████████████████████████████████████████████████████▏                           | 21/25 [01:18<00:15,  3.84s/it]"
     ]
    },
    {
     "name": "stdout",
     "output_type": "stream",
     "text": [
      "BestCad 20.0 0.00026749432930955663 0.0009350557811558247\n",
      "BestNuclei 20.0 0.9999260145884293 1.0\n"
     ]
    },
    {
     "name": "stderr",
     "output_type": "stream",
     "text": [
      "\r",
      " 88%|█████████████████████████████████████████████████████████████████████████████████████████████████████████████████████████████████████████████████████████                     | 22/25 [01:22<00:11,  3.82s/it]"
     ]
    },
    {
     "name": "stdout",
     "output_type": "stream",
     "text": [
      "BestCad 21.0 0.00025891041179420426 0.0008783122757449746\n",
      "BestNuclei 21.0 0.9999403854211172 1.0\n"
     ]
    },
    {
     "name": "stderr",
     "output_type": "stream",
     "text": [
      "100%|██████████████████████████████████████████████████████████████████████████████████████████████████████████████████████████████████████████████████████████████████████████████| 25/25 [01:26<00:00,  3.45s/it]"
     ]
    },
    {
     "name": "stdout",
     "output_type": "stream",
     "text": [
      "BestCad 22.0 0.00023469750004341433 0.0007364944322034717\n",
      "BestNuclei 22.0 0.9999296179524174 1.0\n"
     ]
    },
    {
     "name": "stderr",
     "output_type": "stream",
     "text": [
      "\n"
     ]
    },
    {
     "name": "stdout",
     "output_type": "stream",
     "text": [
      "Detecting focus planes in 210629_Erk_Kate_His_mov1_w1CSU-QUAD-561_s3_t5\n"
     ]
    },
    {
     "name": "stderr",
     "output_type": "stream",
     "text": [
      "  4%|███████                                                                                                                                                                        | 1/25 [00:05<02:18,  5.77s/it]"
     ]
    },
    {
     "name": "stdout",
     "output_type": "stream",
     "text": [
      "BestCad 0.0 0.26751977410094696 0.9990494251251221\n",
      "BestNuclei 0.0 0.05005359223637158 0.9634439945220947\n"
     ]
    },
    {
     "name": "stderr",
     "output_type": "stream",
     "text": [
      "\r",
      "  8%|██████████████                                                                                                                                                                 | 2/25 [00:09<01:46,  4.63s/it]"
     ]
    },
    {
     "name": "stdout",
     "output_type": "stream",
     "text": [
      "BestCad 1.0 0.3098523322818801 0.998711109161377\n",
      "BestNuclei 1.0 0.09175554897024994 0.992141604423523\n"
     ]
    },
    {
     "name": "stderr",
     "output_type": "stream",
     "text": [
      "\r",
      " 12%|█████████████████████                                                                                                                                                          | 3/25 [00:13<01:32,  4.19s/it]"
     ]
    },
    {
     "name": "stdout",
     "output_type": "stream",
     "text": [
      "BestCad 2.0 0.3743904196138222 0.9980270862579346\n",
      "BestNuclei 2.0 0.14001585739879374 0.9998446702957153\n"
     ]
    },
    {
     "name": "stderr",
     "output_type": "stream",
     "text": [
      "\r",
      " 16%|████████████████████████████                                                                                                                                                   | 4/25 [00:16<01:24,  4.01s/it]"
     ]
    },
    {
     "name": "stdout",
     "output_type": "stream",
     "text": [
      "BestCad 3.0 0.45977263330397283 0.9926254749298096\n",
      "BestNuclei 3.0 0.30233108130050823 0.999985933303833\n"
     ]
    },
    {
     "name": "stderr",
     "output_type": "stream",
     "text": [
      "\r",
      " 20%|███████████████████████████████████                                                                                                                                            | 5/25 [00:20<01:17,  3.89s/it]"
     ]
    },
    {
     "name": "stdout",
     "output_type": "stream",
     "text": [
      "BestCad 4.0 0.4342677312987772 0.9897856712341309\n",
      "BestNuclei 4.0 0.4938550431188196 0.9999986290931702\n"
     ]
    },
    {
     "name": "stderr",
     "output_type": "stream",
     "text": [
      "\r",
      " 24%|██████████████████████████████████████████                                                                                                                                     | 6/25 [00:24<01:11,  3.75s/it]"
     ]
    },
    {
     "name": "stdout",
     "output_type": "stream",
     "text": [
      "BestCad 5.0 0.030709558607365278 0.1873413622379303\n",
      "BestNuclei 5.0 0.9967145220093105 0.9999991059303284\n"
     ]
    },
    {
     "name": "stderr",
     "output_type": "stream",
     "text": [
      "\r",
      " 28%|█████████████████████████████████████████████████                                                                                                                              | 7/25 [00:27<01:07,  3.75s/it]"
     ]
    },
    {
     "name": "stdout",
     "output_type": "stream",
     "text": [
      "BestCad 6.0 0.00032629740962875076 0.0007330015068873763\n",
      "BestNuclei 6.0 0.9999102663110804 0.9999970197677612\n"
     ]
    },
    {
     "name": "stderr",
     "output_type": "stream",
     "text": [
      "\r",
      " 32%|████████████████████████████████████████████████████████                                                                                                                       | 8/25 [00:31<01:04,  3.77s/it]"
     ]
    },
    {
     "name": "stdout",
     "output_type": "stream",
     "text": [
      "BestCad 7.0 6.566738084302414e-05 0.00022021590848453343\n",
      "BestNuclei 7.0 0.9999872917930285 0.9999995827674866\n"
     ]
    },
    {
     "name": "stderr",
     "output_type": "stream",
     "text": [
      "\r",
      " 36%|███████████████████████████████████████████████████████████████                                                                                                                | 9/25 [00:35<00:59,  3.72s/it]"
     ]
    },
    {
     "name": "stdout",
     "output_type": "stream",
     "text": [
      "BestCad 8.0 0.00037858385111694986 0.0010629218304529786\n",
      "BestNuclei 8.0 0.9999243979868682 0.9999946355819702\n"
     ]
    },
    {
     "name": "stderr",
     "output_type": "stream",
     "text": [
      "\r",
      " 40%|█████████████████████████████████████████████████████████████████████▌                                                                                                        | 10/25 [00:38<00:55,  3.69s/it]"
     ]
    },
    {
     "name": "stdout",
     "output_type": "stream",
     "text": [
      "BestCad 9.0 0.00044141210901216255 0.001786721870303154\n",
      "BestNuclei 9.0 0.9999222929279009 0.9999942183494568\n"
     ]
    },
    {
     "name": "stderr",
     "output_type": "stream",
     "text": [
      "\r",
      " 44%|████████████████████████████████████████████████████████████████████████████▌                                                                                                 | 11/25 [00:42<00:51,  3.65s/it]"
     ]
    },
    {
     "name": "stdout",
     "output_type": "stream",
     "text": [
      "BestCad 10.0 0.00244619363885639 0.006114286370575428\n",
      "BestNuclei 10.0 0.9995653200149536 0.9999896287918091\n"
     ]
    },
    {
     "name": "stderr",
     "output_type": "stream",
     "text": [
      "\r",
      " 48%|███████████████████████████████████████████████████████████████████████████████████▌                                                                                          | 12/25 [00:46<00:46,  3.61s/it]"
     ]
    },
    {
     "name": "stdout",
     "output_type": "stream",
     "text": [
      "BestCad 11.0 0.00018779743770566077 0.000844776164740324\n",
      "BestNuclei 11.0 0.9999760293960571 0.9999992251396179\n"
     ]
    },
    {
     "name": "stderr",
     "output_type": "stream",
     "text": [
      "\r",
      " 52%|██████████████████████████████████████████████████████████████████████████████████████████▍                                                                                   | 13/25 [00:49<00:43,  3.60s/it]"
     ]
    },
    {
     "name": "stdout",
     "output_type": "stream",
     "text": [
      "BestCad 12.0 0.00010001375457720356 0.0003767024609260261\n",
      "BestNuclei 12.0 0.9999881887435913 0.9999997615814209\n"
     ]
    },
    {
     "name": "stderr",
     "output_type": "stream",
     "text": [
      "\r",
      " 56%|█████████████████████████████████████████████████████████████████████████████████████████████████▍                                                                            | 14/25 [00:53<00:38,  3.54s/it]"
     ]
    },
    {
     "name": "stdout",
     "output_type": "stream",
     "text": [
      "BestCad 13.0 0.00010782424392759408 0.0004486151156015694\n",
      "BestNuclei 13.0 0.9999854350090027 0.9999997615814209\n"
     ]
    },
    {
     "name": "stderr",
     "output_type": "stream",
     "text": [
      "\r",
      " 60%|████████████████████████████████████████████████████████████████████████████████████████████████████████▍                                                                     | 15/25 [00:57<00:37,  3.73s/it]"
     ]
    },
    {
     "name": "stdout",
     "output_type": "stream",
     "text": [
      "BestCad 14.0 0.00041856680099558815 0.002778847236186266\n",
      "BestNuclei 14.0 0.9999644445336383 0.9999986290931702\n"
     ]
    },
    {
     "name": "stderr",
     "output_type": "stream",
     "text": [
      "\r",
      " 64%|███████████████████████████████████████████████████████████████████████████████████████████████████████████████▎                                                              | 16/25 [01:00<00:32,  3.65s/it]"
     ]
    },
    {
     "name": "stdout",
     "output_type": "stream",
     "text": [
      "BestCad 15.0 0.0004479560650668732 0.0021862436551600695\n",
      "BestNuclei 15.0 0.9999636800392814 0.9999983906745911\n"
     ]
    },
    {
     "name": "stderr",
     "output_type": "stream",
     "text": [
      "\r",
      " 68%|██████████████████████████████████████████████████████████████████████████████████████████████████████████████████████▎                                                       | 17/25 [01:04<00:28,  3.57s/it]"
     ]
    },
    {
     "name": "stdout",
     "output_type": "stream",
     "text": [
      "BestCad 16.0 0.004546828579226381 0.023788034915924072\n",
      "BestNuclei 16.0 0.9998214840888977 0.9999976754188538\n"
     ]
    },
    {
     "name": "stderr",
     "output_type": "stream",
     "text": [
      "\r",
      " 72%|█████████████████████████████████████████████████████████████████████████████████████████████████████████████████████████████▎                                                | 18/25 [01:07<00:24,  3.53s/it]"
     ]
    },
    {
     "name": "stdout",
     "output_type": "stream",
     "text": [
      "BestCad 17.0 0.04732679566729095 0.29226839542388916\n",
      "BestNuclei 17.0 0.999113564905913 0.9999998807907104\n"
     ]
    },
    {
     "name": "stderr",
     "output_type": "stream",
     "text": [
      "\r",
      " 76%|████████████████████████████████████████████████████████████████████████████████████████████████████████████████████████████████████▏                                         | 19/25 [01:10<00:20,  3.49s/it]"
     ]
    },
    {
     "name": "stdout",
     "output_type": "stream",
     "text": [
      "BestCad 18.0 0.04699433513119204 0.2507593035697937\n",
      "BestNuclei 18.0 0.9998373928524199 1.0\n"
     ]
    },
    {
     "name": "stderr",
     "output_type": "stream",
     "text": [
      "\r",
      " 80%|███████████████████████████████████████████████████████████████████████████████████████████████████████████████████████████████████████████▏                                  | 20/25 [01:14<00:17,  3.45s/it]"
     ]
    },
    {
     "name": "stdout",
     "output_type": "stream",
     "text": [
      "BestCad 19.0 0.0849499017213847 0.5936501026153564\n",
      "BestNuclei 19.0 0.9895342560041518 1.0\n"
     ]
    },
    {
     "name": "stderr",
     "output_type": "stream",
     "text": [
      "\r",
      " 84%|██████████████████████████████████████████████████████████████████████████████████████████████████████████████████████████████████████████████████▏                           | 21/25 [01:17<00:13,  3.45s/it]"
     ]
    },
    {
     "name": "stdout",
     "output_type": "stream",
     "text": [
      "BestCad 20.0 0.07836552563272066 0.5436273813247681\n",
      "BestNuclei 20.0 0.9990526616573334 1.0\n"
     ]
    },
    {
     "name": "stderr",
     "output_type": "stream",
     "text": [
      "\r",
      " 88%|█████████████████████████████████████████████████████████████████████████████████████████████████████████████████████████████████████████████████████████                     | 22/25 [01:21<00:10,  3.46s/it]"
     ]
    },
    {
     "name": "stdout",
     "output_type": "stream",
     "text": [
      "BestCad 21.0 0.2555800324091607 0.9447380304336548\n",
      "BestNuclei 21.0 0.9736302061514421 1.0\n"
     ]
    },
    {
     "name": "stderr",
     "output_type": "stream",
     "text": [
      "100%|██████████████████████████████████████████████████████████████████████████████████████████████████████████████████████████████████████████████████████████████████████████████| 25/25 [01:24<00:00,  3.39s/it]"
     ]
    },
    {
     "name": "stdout",
     "output_type": "stream",
     "text": [
      "BestCad 22.0 0.13839587720061294 0.845771074295044\n",
      "BestNuclei 22.0 0.9956990092992782 0.9999999403953552\n"
     ]
    },
    {
     "name": "stderr",
     "output_type": "stream",
     "text": [
      "\n"
     ]
    },
    {
     "name": "stdout",
     "output_type": "stream",
     "text": [
      "Detecting focus planes in 210629_Erk_Kate_His_mov1_w3CSU-QUAD-561_s5_t33\n"
     ]
    },
    {
     "name": "stderr",
     "output_type": "stream",
     "text": [
      "  4%|███████                                                                                                                                                                        | 1/25 [00:05<02:08,  5.37s/it]"
     ]
    },
    {
     "name": "stdout",
     "output_type": "stream",
     "text": [
      "BestCad 0.0 6.949547308853322e-06 2.239115201518871e-05\n",
      "BestNuclei 0.0 3.461453477726177e-10 1.213515288256417e-09\n"
     ]
    },
    {
     "name": "stderr",
     "output_type": "stream",
     "text": [
      "\r",
      "  8%|██████████████                                                                                                                                                                 | 2/25 [00:08<01:37,  4.24s/it]"
     ]
    },
    {
     "name": "stdout",
     "output_type": "stream",
     "text": [
      "BestCad 1.0 4.194879964684746e-06 1.1806713700934779e-05\n",
      "BestNuclei 1.0 3.8796926834366865e-10 1.1412801814714157e-09\n"
     ]
    },
    {
     "name": "stderr",
     "output_type": "stream",
     "text": [
      "\r",
      " 12%|█████████████████████                                                                                                                                                          | 3/25 [00:12<01:22,  3.76s/it]"
     ]
    },
    {
     "name": "stdout",
     "output_type": "stream",
     "text": [
      "BestCad 2.0 2.4037037690050055e-06 1.9386479834793136e-05\n",
      "BestNuclei 2.0 5.508782845921954e-10 1.7368145810436886e-09\n"
     ]
    },
    {
     "name": "stderr",
     "output_type": "stream",
     "text": [
      "\r",
      " 16%|████████████████████████████                                                                                                                                                   | 4/25 [00:15<01:13,  3.50s/it]"
     ]
    },
    {
     "name": "stdout",
     "output_type": "stream",
     "text": [
      "BestCad 3.0 1.8773298558533662e-06 1.2659731510211714e-05\n",
      "BestNuclei 3.0 2.2886077428842178e-09 9.370575426714822e-09\n"
     ]
    },
    {
     "name": "stderr",
     "output_type": "stream",
     "text": [
      "\r",
      " 20%|███████████████████████████████████                                                                                                                                            | 5/25 [00:18<01:07,  3.39s/it]"
     ]
    },
    {
     "name": "stdout",
     "output_type": "stream",
     "text": [
      "BestCad 4.0 2.217741106440891e-06 2.4570372261223383e-05\n",
      "BestNuclei 4.0 2.0055992042572177e-09 6.876786251552858e-09\n"
     ]
    },
    {
     "name": "stderr",
     "output_type": "stream",
     "text": [
      "\r",
      " 24%|██████████████████████████████████████████                                                                                                                                     | 6/25 [00:21<01:03,  3.32s/it]"
     ]
    },
    {
     "name": "stdout",
     "output_type": "stream",
     "text": [
      "BestCad 5.0 4.031448899510792e-06 2.441056858515367e-05\n",
      "BestNuclei 5.0 2.9252390134276475e-09 1.3285037958610246e-08\n"
     ]
    },
    {
     "name": "stderr",
     "output_type": "stream",
     "text": [
      "\r",
      " 28%|█████████████████████████████████████████████████                                                                                                                              | 7/25 [00:24<01:00,  3.34s/it]"
     ]
    },
    {
     "name": "stdout",
     "output_type": "stream",
     "text": [
      "BestCad 6.0 1.2928979809804072e-05 0.00010038497566711158\n",
      "BestNuclei 6.0 6.149755336441868e-10 1.9848522825327564e-09\n"
     ]
    },
    {
     "name": "stderr",
     "output_type": "stream",
     "text": [
      "\r",
      " 32%|████████████████████████████████████████████████████████                                                                                                                       | 8/25 [00:28<00:57,  3.37s/it]"
     ]
    },
    {
     "name": "stdout",
     "output_type": "stream",
     "text": [
      "BestCad 7.0 4.583581204271814e-05 0.00046604330418631434\n",
      "BestNuclei 7.0 9.197176192432061e-10 8.619322144909347e-09\n"
     ]
    },
    {
     "name": "stderr",
     "output_type": "stream",
     "text": [
      "\r",
      " 36%|███████████████████████████████████████████████████████████████                                                                                                                | 9/25 [00:31<00:54,  3.42s/it]"
     ]
    },
    {
     "name": "stdout",
     "output_type": "stream",
     "text": [
      "BestCad 8.0 8.623034074162206e-05 0.0010497975163161755\n",
      "BestNuclei 8.0 2.526456950764644e-09 2.1687025508754232e-08\n"
     ]
    },
    {
     "name": "stderr",
     "output_type": "stream",
     "text": [
      "\r",
      " 40%|█████████████████████████████████████████████████████████████████████▌                                                                                                        | 10/25 [00:35<00:51,  3.42s/it]"
     ]
    },
    {
     "name": "stdout",
     "output_type": "stream",
     "text": [
      "BestCad 9.0 0.00026103694095998736 0.0030121749732643366\n",
      "BestNuclei 9.0 1.215859643064552e-08 1.8278828406437242e-07\n"
     ]
    },
    {
     "name": "stderr",
     "output_type": "stream",
     "text": [
      "\r",
      " 44%|████████████████████████████████████████████████████████████████████████████▌                                                                                                 | 11/25 [00:38<00:48,  3.45s/it]"
     ]
    },
    {
     "name": "stdout",
     "output_type": "stream",
     "text": [
      "BestCad 10.0 0.043090826130191134 0.884302020072937\n",
      "BestNuclei 10.0 6.5965994479535515e-06 0.00015001505380496383\n"
     ]
    },
    {
     "name": "stderr",
     "output_type": "stream",
     "text": [
      "\r",
      " 48%|███████████████████████████████████████████████████████████████████████████████████▌                                                                                          | 12/25 [00:42<00:45,  3.53s/it]"
     ]
    },
    {
     "name": "stdout",
     "output_type": "stream",
     "text": [
      "BestCad 11.0 0.04475341472874561 0.9997130036354065\n",
      "BestNuclei 11.0 2.1875472043563058e-05 0.000494091771543026\n"
     ]
    },
    {
     "name": "stderr",
     "output_type": "stream",
     "text": [
      "\r",
      " 52%|██████████████████████████████████████████████████████████████████████████████████████████▍                                                                                   | 13/25 [00:45<00:42,  3.52s/it]"
     ]
    },
    {
     "name": "stdout",
     "output_type": "stream",
     "text": [
      "BestCad 12.0 0.08668138245637635 0.9999979734420776\n",
      "BestNuclei 12.0 0.00012639721379987658 0.002534689148887992\n"
     ]
    },
    {
     "name": "stderr",
     "output_type": "stream",
     "text": [
      "\r",
      " 56%|█████████████████████████████████████████████████████████████████████████████████████████████████▍                                                                            | 14/25 [00:49<00:39,  3.61s/it]"
     ]
    },
    {
     "name": "stdout",
     "output_type": "stream",
     "text": [
      "BestCad 13.0 0.1550537732238263 0.9999996423721313\n",
      "BestNuclei 13.0 9.722523775490815e-05 0.0018311027670279145\n"
     ]
    },
    {
     "name": "stderr",
     "output_type": "stream",
     "text": [
      "\r",
      " 60%|████████████████████████████████████████████████████████████████████████████████████████████████████████▍                                                                     | 15/25 [00:53<00:36,  3.68s/it]"
     ]
    },
    {
     "name": "stdout",
     "output_type": "stream",
     "text": [
      "BestCad 14.0 0.21852902647874642 0.9999998807907104\n",
      "BestNuclei 14.0 0.004531766386226414 0.10729899257421494\n"
     ]
    },
    {
     "name": "stderr",
     "output_type": "stream",
     "text": [
      "\r",
      " 64%|███████████████████████████████████████████████████████████████████████████████████████████████████████████████▎                                                              | 16/25 [00:58<00:35,  3.98s/it]"
     ]
    },
    {
     "name": "stdout",
     "output_type": "stream",
     "text": [
      "BestCad 15.0 0.3390741796326686 0.9999991655349731\n",
      "BestNuclei 15.0 0.02635413570893669 0.6455857157707214\n"
     ]
    },
    {
     "name": "stderr",
     "output_type": "stream",
     "text": [
      "\r",
      " 68%|██████████████████████████████████████████████████████████████████████████████████████████████████████████████████████▎                                                       | 17/25 [01:02<00:31,  3.92s/it]"
     ]
    },
    {
     "name": "stdout",
     "output_type": "stream",
     "text": [
      "BestCad 16.0 0.4509180553216973 0.9999092221260071\n",
      "BestNuclei 16.0 0.14735945436861514 0.9577860236167908\n"
     ]
    },
    {
     "name": "stderr",
     "output_type": "stream",
     "text": [
      "\r",
      " 72%|█████████████████████████████████████████████████████████████████████████████████████████████████████████████████████████████▎                                                | 18/25 [01:05<00:27,  3.89s/it]"
     ]
    },
    {
     "name": "stdout",
     "output_type": "stream",
     "text": [
      "BestCad 17.0 0.11313859355339612 0.8435357809066772\n",
      "BestNuclei 17.0 0.9842332601547241 0.9998967051506042\n"
     ]
    },
    {
     "name": "stderr",
     "output_type": "stream",
     "text": [
      "\r",
      " 76%|████████████████████████████████████████████████████████████████████████████████████████████████████████████████████████████████████▏                                         | 19/25 [01:09<00:22,  3.82s/it]"
     ]
    },
    {
     "name": "stdout",
     "output_type": "stream",
     "text": [
      "BestCad 18.0 0.06453225871940192 0.8244142532348633\n",
      "BestNuclei 18.0 0.9985493559103745 0.9999717473983765\n"
     ]
    },
    {
     "name": "stderr",
     "output_type": "stream",
     "text": [
      "\r",
      " 80%|███████████████████████████████████████████████████████████████████████████████████████████████████████████████████████████████████████████▏                                  | 20/25 [01:13<00:19,  3.81s/it]"
     ]
    },
    {
     "name": "stdout",
     "output_type": "stream",
     "text": [
      "BestCad 19.0 0.00012293750924505904 0.0014393569435924292\n",
      "BestNuclei 19.0 0.9999874210357667 0.9999995827674866\n"
     ]
    },
    {
     "name": "stderr",
     "output_type": "stream",
     "text": [
      "\r",
      " 84%|██████████████████████████████████████████████████████████████████████████████████████████████████████████████████████████████████████████████████▏                           | 21/25 [01:17<00:15,  3.78s/it]"
     ]
    },
    {
     "name": "stdout",
     "output_type": "stream",
     "text": [
      "BestCad 20.0 1.2259980849194108e-05 0.00010808302613440901\n",
      "BestNuclei 20.0 0.9999983112017313 0.9999998807907104\n"
     ]
    },
    {
     "name": "stderr",
     "output_type": "stream",
     "text": [
      "\r",
      " 88%|█████████████████████████████████████████████████████████████████████████████████████████████████████████████████████████████████████████████████████████                     | 22/25 [01:20<00:11,  3.74s/it]"
     ]
    },
    {
     "name": "stdout",
     "output_type": "stream",
     "text": [
      "BestCad 21.0 3.112165412334355e-06 1.6999178114929236e-05\n",
      "BestNuclei 21.0 0.99999941950259 0.9999999403953552\n"
     ]
    },
    {
     "name": "stderr",
     "output_type": "stream",
     "text": [
      "100%|██████████████████████████████████████████████████████████████████████████████████████████████████████████████████████████████████████████████████████████████████████████████| 25/25 [01:24<00:00,  3.38s/it]"
     ]
    },
    {
     "name": "stdout",
     "output_type": "stream",
     "text": [
      "BestCad 22.0 3.9310126908276285e-06 2.631486495374702e-05\n",
      "BestNuclei 22.0 0.9999994175000624 0.9999999403953552\n"
     ]
    },
    {
     "name": "stderr",
     "output_type": "stream",
     "text": [
      "\n"
     ]
    },
    {
     "name": "stdout",
     "output_type": "stream",
     "text": [
      "Detecting focus planes in 210629_Erk_Kate_His_mov1_w1CSU-QUAD-561_s2_t32\n"
     ]
    },
    {
     "name": "stderr",
     "output_type": "stream",
     "text": [
      "  4%|███████                                                                                                                                                                        | 1/25 [00:05<02:23,  5.97s/it]"
     ]
    },
    {
     "name": "stdout",
     "output_type": "stream",
     "text": [
      "BestCad 0.0 0.41270530549809337 0.9995152950286865\n",
      "BestNuclei 0.0 0.6214721287041902 0.9973865151405334\n"
     ]
    },
    {
     "name": "stderr",
     "output_type": "stream",
     "text": [
      "\r",
      "  8%|██████████████                                                                                                                                                                 | 2/25 [00:09<01:47,  4.69s/it]"
     ]
    },
    {
     "name": "stdout",
     "output_type": "stream",
     "text": [
      "BestCad 1.0 0.6522560554246107 0.9999627470970154\n",
      "BestNuclei 1.0 0.18720734285698898 0.999443769454956\n"
     ]
    },
    {
     "name": "stderr",
     "output_type": "stream",
     "text": [
      "\r",
      " 12%|█████████████████████                                                                                                                                                          | 3/25 [00:13<01:32,  4.22s/it]"
     ]
    },
    {
     "name": "stdout",
     "output_type": "stream",
     "text": [
      "BestCad 2.0 0.7048438764953365 0.9999847412109375\n",
      "BestNuclei 2.0 0.4368261773133418 0.9999709725379944\n"
     ]
    },
    {
     "name": "stderr",
     "output_type": "stream",
     "text": [
      "\r",
      " 16%|████████████████████████████                                                                                                                                                   | 4/25 [00:17<01:23,  4.00s/it]"
     ]
    },
    {
     "name": "stdout",
     "output_type": "stream",
     "text": [
      "BestCad 3.0 0.2225483261757869 0.9859731793403625\n",
      "BestNuclei 3.0 0.9687272191047669 0.9999685883522034\n"
     ]
    },
    {
     "name": "stderr",
     "output_type": "stream",
     "text": [
      "\r",
      " 20%|███████████████████████████████████                                                                                                                                            | 5/25 [00:20<01:18,  3.92s/it]"
     ]
    },
    {
     "name": "stdout",
     "output_type": "stream",
     "text": [
      "BestCad 4.0 0.38227422353388235 0.9918567538261414\n",
      "BestNuclei 4.0 0.957295456280311 0.9999613165855408\n"
     ]
    },
    {
     "name": "stderr",
     "output_type": "stream",
     "text": [
      "\r",
      " 24%|██████████████████████████████████████████                                                                                                                                     | 6/25 [00:24<01:14,  3.93s/it]"
     ]
    },
    {
     "name": "stdout",
     "output_type": "stream",
     "text": [
      "BestCad 5.0 0.40134074402573916 0.9920854568481445\n",
      "BestNuclei 5.0 0.9186766544977824 0.9999671578407288\n"
     ]
    },
    {
     "name": "stderr",
     "output_type": "stream",
     "text": [
      "\r",
      " 28%|█████████████████████████████████████████████████                                                                                                                              | 7/25 [00:28<01:09,  3.86s/it]"
     ]
    },
    {
     "name": "stdout",
     "output_type": "stream",
     "text": [
      "BestCad 6.0 0.3521359302802011 0.9846279621124268\n",
      "BestNuclei 6.0 0.9606704885760943 0.9999467730522156\n"
     ]
    },
    {
     "name": "stderr",
     "output_type": "stream",
     "text": [
      "\r",
      " 32%|████████████████████████████████████████████████████████                                                                                                                       | 8/25 [00:32<01:04,  3.78s/it]"
     ]
    },
    {
     "name": "stdout",
     "output_type": "stream",
     "text": [
      "BestCad 7.0 0.6488515895448232 0.9987642765045166\n",
      "BestNuclei 7.0 0.6555188872258771 0.9998065233230591\n"
     ]
    },
    {
     "name": "stderr",
     "output_type": "stream",
     "text": [
      "\r",
      " 36%|███████████████████████████████████████████████████████████████                                                                                                                | 9/25 [00:35<00:59,  3.71s/it]"
     ]
    },
    {
     "name": "stdout",
     "output_type": "stream",
     "text": [
      "BestCad 8.0 0.6408310355618596 0.9959515929222107\n",
      "BestNuclei 8.0 0.7348036075180228 0.9995970726013184\n"
     ]
    },
    {
     "name": "stderr",
     "output_type": "stream",
     "text": [
      "\r",
      " 40%|█████████████████████████████████████████████████████████████████████▌                                                                                                        | 10/25 [00:39<00:54,  3.65s/it]"
     ]
    },
    {
     "name": "stdout",
     "output_type": "stream",
     "text": [
      "BestCad 9.0 0.5774069730192423 0.9861817955970764\n",
      "BestNuclei 9.0 0.9121226847171784 0.9995956420898438\n"
     ]
    },
    {
     "name": "stderr",
     "output_type": "stream",
     "text": [
      "\r",
      " 44%|████████████████████████████████████████████████████████████████████████████▌                                                                                                 | 11/25 [00:42<00:50,  3.63s/it]"
     ]
    },
    {
     "name": "stdout",
     "output_type": "stream",
     "text": [
      "BestCad 10.0 0.0016586940331589652 0.00435606949031353\n",
      "BestNuclei 10.0 0.9998604680101076 0.9999983310699463\n"
     ]
    },
    {
     "name": "stderr",
     "output_type": "stream",
     "text": [
      "\r",
      " 48%|███████████████████████████████████████████████████████████████████████████████████▌                                                                                          | 12/25 [00:46<00:47,  3.63s/it]"
     ]
    },
    {
     "name": "stdout",
     "output_type": "stream",
     "text": [
      "BestCad 11.0 0.0019514179766702 0.005494355224072933\n",
      "BestNuclei 11.0 0.9998585681120554 0.9999982118606567\n"
     ]
    },
    {
     "name": "stderr",
     "output_type": "stream",
     "text": [
      "\r",
      " 52%|██████████████████████████████████████████████████████████████████████████████████████████▍                                                                                   | 13/25 [00:49<00:42,  3.58s/it]"
     ]
    },
    {
     "name": "stdout",
     "output_type": "stream",
     "text": [
      "BestCad 12.0 0.008435100613331253 0.03283100575208664\n",
      "BestNuclei 12.0 0.9995472742163617 0.9999900460243225\n"
     ]
    },
    {
     "name": "stderr",
     "output_type": "stream",
     "text": [
      "\r",
      " 56%|█████████████████████████████████████████████████████████████████████████████████████████████████▍                                                                            | 14/25 [00:53<00:38,  3.47s/it]"
     ]
    },
    {
     "name": "stdout",
     "output_type": "stream",
     "text": [
      "BestCad 13.0 0.7166649502786723 0.988874077796936\n",
      "BestNuclei 13.0 0.7308528373250738 0.9999783635139465\n"
     ]
    },
    {
     "name": "stderr",
     "output_type": "stream",
     "text": [
      "\r",
      " 60%|████████████████████████████████████████████████████████████████████████████████████████████████████████▍                                                                     | 15/25 [00:56<00:33,  3.38s/it]"
     ]
    },
    {
     "name": "stdout",
     "output_type": "stream",
     "text": [
      "BestCad 14.0 0.7518083747903196 0.9933072924613953\n",
      "BestNuclei 14.0 0.7137496414389239 0.9999465346336365\n"
     ]
    },
    {
     "name": "stderr",
     "output_type": "stream",
     "text": [
      "\r",
      " 64%|███████████████████████████████████████████████████████████████████████████████████████████████████████████████▎                                                              | 16/25 [00:59<00:29,  3.30s/it]"
     ]
    },
    {
     "name": "stdout",
     "output_type": "stream",
     "text": [
      "BestCad 15.0 0.7032646924135801 0.9936954975128174\n",
      "BestNuclei 15.0 0.7063107127420759 0.9999780654907227\n"
     ]
    },
    {
     "name": "stderr",
     "output_type": "stream",
     "text": [
      "\r",
      " 68%|██████████████████████████████████████████████████████████████████████████████████████████████████████████████████████▎                                                       | 17/25 [01:02<00:25,  3.24s/it]"
     ]
    },
    {
     "name": "stdout",
     "output_type": "stream",
     "text": [
      "BestCad 16.0 0.601619540184315 0.986853837966919\n",
      "BestNuclei 16.0 0.826074060640837 0.9999971985816956\n"
     ]
    },
    {
     "name": "stderr",
     "output_type": "stream",
     "text": [
      "\r",
      " 72%|█████████████████████████████████████████████████████████████████████████████████████████████████████████████████████████████▎                                                | 18/25 [01:06<00:25,  3.59s/it]"
     ]
    },
    {
     "name": "stdout",
     "output_type": "stream",
     "text": [
      "BestCad 17.0 0.2472961759093501 0.8943060636520386\n",
      "BestNuclei 17.0 0.9920324760934581 0.9999215602874756\n"
     ]
    },
    {
     "name": "stderr",
     "output_type": "stream",
     "text": [
      "\r",
      " 76%|████████████████████████████████████████████████████████████████████████████████████████████████████████████████████████████████████▏                                         | 19/25 [01:10<00:21,  3.60s/it]"
     ]
    },
    {
     "name": "stdout",
     "output_type": "stream",
     "text": [
      "BestCad 18.0 0.007404810795421889 0.069822758436203\n",
      "BestNuclei 18.0 0.9998867869377136 0.9999983310699463\n"
     ]
    },
    {
     "name": "stderr",
     "output_type": "stream",
     "text": [
      "\r",
      " 80%|███████████████████████████████████████████████████████████████████████████████████████████████████████████████████████████████████████████▏                                  | 20/25 [01:14<00:18,  3.64s/it]"
     ]
    },
    {
     "name": "stdout",
     "output_type": "stream",
     "text": [
      "BestCad 19.0 5.738998331816263e-05 0.00029011169681325555\n",
      "BestNuclei 19.0 0.9999951357426851 0.9999999403953552\n"
     ]
    },
    {
     "name": "stderr",
     "output_type": "stream",
     "text": [
      "\r",
      " 84%|██████████████████████████████████████████████████████████████████████████████████████████████████████████████████████████████████████████████████▏                           | 21/25 [01:17<00:14,  3.67s/it]"
     ]
    },
    {
     "name": "stdout",
     "output_type": "stream",
     "text": [
      "BestCad 20.0 4.837581857570869e-06 2.2604821424465626e-05\n",
      "BestNuclei 20.0 0.9999994310465726 1.0\n"
     ]
    },
    {
     "name": "stderr",
     "output_type": "stream",
     "text": [
      "\r",
      " 88%|█████████████████████████████████████████████████████████████████████████████████████████████████████████████████████████████████████████████████████████                     | 22/25 [01:22<00:11,  3.78s/it]"
     ]
    },
    {
     "name": "stdout",
     "output_type": "stream",
     "text": [
      "BestCad 21.0 9.212928014221688e-06 5.582654193858616e-05\n",
      "BestNuclei 21.0 0.9999984067219955 1.0\n"
     ]
    },
    {
     "name": "stderr",
     "output_type": "stream",
     "text": [
      "100%|██████████████████████████████████████████████████████████████████████████████████████████████████████████████████████████████████████████████████████████████████████████████| 25/25 [01:26<00:00,  3.44s/it]"
     ]
    },
    {
     "name": "stdout",
     "output_type": "stream",
     "text": [
      "BestCad 22.0 2.0847535279244766e-05 0.00011799161438830197\n",
      "BestNuclei 22.0 0.9999966502189637 1.0\n"
     ]
    },
    {
     "name": "stderr",
     "output_type": "stream",
     "text": [
      "\n"
     ]
    },
    {
     "name": "stdout",
     "output_type": "stream",
     "text": [
      "Detecting focus planes in 210629_Erk_Kate_His_mov1_w1CSU-QUAD-561_s7_t28\n"
     ]
    },
    {
     "name": "stderr",
     "output_type": "stream",
     "text": [
      "  4%|███████                                                                                                                                                                        | 1/25 [00:04<01:46,  4.46s/it]"
     ]
    },
    {
     "name": "stdout",
     "output_type": "stream",
     "text": [
      "BestCad 0.0 6.789480832409822e-05 0.0009490897646173835\n",
      "BestNuclei 0.0 4.1458459082224783e-07 6.4003525039879605e-06\n"
     ]
    },
    {
     "name": "stderr",
     "output_type": "stream",
     "text": [
      "\r",
      "  8%|██████████████                                                                                                                                                                 | 2/25 [00:07<01:28,  3.86s/it]"
     ]
    },
    {
     "name": "stdout",
     "output_type": "stream",
     "text": [
      "BestCad 1.0 0.0007335418256613954 0.009130192920565605\n",
      "BestNuclei 1.0 1.903081706269849e-06 2.8179529181215912e-05\n"
     ]
    },
    {
     "name": "stderr",
     "output_type": "stream",
     "text": [
      "\r",
      " 12%|█████████████████████                                                                                                                                                          | 3/25 [00:11<01:21,  3.72s/it]"
     ]
    },
    {
     "name": "stdout",
     "output_type": "stream",
     "text": [
      "BestCad 2.0 0.05428616818623951 0.79241943359375\n",
      "BestNuclei 2.0 4.237227514177396e-05 0.0004952092422172427\n"
     ]
    },
    {
     "name": "stderr",
     "output_type": "stream",
     "text": [
      "\r",
      " 16%|████████████████████████████                                                                                                                                                   | 4/25 [00:16<01:27,  4.18s/it]"
     ]
    },
    {
     "name": "stdout",
     "output_type": "stream",
     "text": [
      "BestCad 3.0 0.004931600929591117 0.048919014632701874\n",
      "BestNuclei 3.0 0.9992971467971802 0.9999964833259583\n"
     ]
    },
    {
     "name": "stderr",
     "output_type": "stream",
     "text": [
      "\r",
      " 20%|███████████████████████████████████                                                                                                                                            | 5/25 [00:19<01:19,  3.97s/it]"
     ]
    },
    {
     "name": "stdout",
     "output_type": "stream",
     "text": [
      "BestCad 4.0 1.327396454733141e-06 3.168585180901573e-06\n",
      "BestNuclei 4.0 0.9999995490779048 0.9999999403953552\n"
     ]
    },
    {
     "name": "stderr",
     "output_type": "stream",
     "text": [
      "\r",
      " 24%|██████████████████████████████████████████                                                                                                                                     | 6/25 [00:23<01:14,  3.94s/it]"
     ]
    },
    {
     "name": "stdout",
     "output_type": "stream",
     "text": [
      "BestCad 5.0 3.1704262416572725e-05 0.00013485123054124415\n",
      "BestNuclei 5.0 0.9999942009647688 0.9999991059303284\n"
     ]
    },
    {
     "name": "stderr",
     "output_type": "stream",
     "text": [
      "\r",
      " 28%|█████████████████████████████████████████████████                                                                                                                              | 7/25 [00:27<01:11,  3.97s/it]"
     ]
    },
    {
     "name": "stdout",
     "output_type": "stream",
     "text": [
      "BestCad 6.0 0.0003392602350989667 0.0008908261079341173\n",
      "BestNuclei 6.0 0.9999031747380892 0.9999831914901733\n"
     ]
    },
    {
     "name": "stderr",
     "output_type": "stream",
     "text": [
      "\r",
      " 32%|████████████████████████████████████████████████████████                                                                                                                       | 8/25 [00:31<01:08,  4.01s/it]"
     ]
    },
    {
     "name": "stdout",
     "output_type": "stream",
     "text": [
      "BestCad 7.0 0.0007727522461209446 0.0018650067504495382\n",
      "BestNuclei 7.0 0.9996967673301697 0.9999376535415649\n"
     ]
    },
    {
     "name": "stderr",
     "output_type": "stream",
     "text": [
      "\r",
      " 36%|███████████████████████████████████████████████████████████████                                                                                                                | 9/25 [00:35<01:04,  4.00s/it]"
     ]
    },
    {
     "name": "stdout",
     "output_type": "stream",
     "text": [
      "BestCad 8.0 0.0008204585290513932 0.002091290196403861\n",
      "BestNuclei 8.0 0.9996636915206909 0.9999385476112366\n"
     ]
    },
    {
     "name": "stderr",
     "output_type": "stream",
     "text": [
      "\r",
      " 40%|█████████████████████████████████████████████████████████████████████▌                                                                                                        | 10/25 [00:39<00:59,  3.99s/it]"
     ]
    },
    {
     "name": "stdout",
     "output_type": "stream",
     "text": [
      "BestCad 9.0 0.0008497916423948482 0.0020782381761819124\n",
      "BestNuclei 9.0 0.999690625667572 0.9999411106109619\n"
     ]
    },
    {
     "name": "stderr",
     "output_type": "stream",
     "text": [
      "\r",
      " 44%|████████████████████████████████████████████████████████████████████████████▌                                                                                                 | 11/25 [00:43<00:55,  3.99s/it]"
     ]
    },
    {
     "name": "stdout",
     "output_type": "stream",
     "text": [
      "BestCad 10.0 0.0007675669957489634 0.0019905976951122284\n",
      "BestNuclei 10.0 0.9997347021102905 0.9999757409095764\n"
     ]
    },
    {
     "name": "stderr",
     "output_type": "stream",
     "text": [
      "\r",
      " 48%|███████████████████████████████████████████████████████████████████████████████████▌                                                                                          | 12/25 [00:47<00:51,  3.97s/it]"
     ]
    },
    {
     "name": "stdout",
     "output_type": "stream",
     "text": [
      "BestCad 11.0 0.0004697380278958008 0.0012642786605283618\n",
      "BestNuclei 11.0 0.9998834803700447 0.9999989867210388\n"
     ]
    },
    {
     "name": "stderr",
     "output_type": "stream",
     "text": [
      "\r",
      " 52%|██████████████████████████████████████████████████████████████████████████████████████████▍                                                                                   | 13/25 [00:51<00:47,  3.96s/it]"
     ]
    },
    {
     "name": "stdout",
     "output_type": "stream",
     "text": [
      "BestCad 12.0 0.0004681910842191428 0.001247880863957107\n",
      "BestNuclei 12.0 0.9998646332667425 0.9999998211860657\n"
     ]
    },
    {
     "name": "stderr",
     "output_type": "stream",
     "text": [
      "\r",
      " 56%|█████████████████████████████████████████████████████████████████████████████████████████████████▍                                                                            | 14/25 [00:55<00:43,  3.92s/it]"
     ]
    },
    {
     "name": "stdout",
     "output_type": "stream",
     "text": [
      "BestCad 13.0 0.00038610831601545217 0.0010034161387011409\n",
      "BestNuclei 13.0 0.9999175816774368 0.9999999403953552\n"
     ]
    },
    {
     "name": "stderr",
     "output_type": "stream",
     "text": [
      "\r",
      " 60%|████████████████████████████████████████████████████████████████████████████████████████████████████████▍                                                                     | 15/25 [00:59<00:38,  3.87s/it]"
     ]
    },
    {
     "name": "stdout",
     "output_type": "stream",
     "text": [
      "BestCad 14.0 0.0004050944571645232 0.0009920510929077864\n",
      "BestNuclei 14.0 0.9999209394057592 1.0\n"
     ]
    },
    {
     "name": "stderr",
     "output_type": "stream",
     "text": [
      "\r",
      " 64%|███████████████████████████████████████████████████████████████████████████████████████████████████████████████▎                                                              | 16/25 [01:02<00:34,  3.80s/it]"
     ]
    },
    {
     "name": "stdout",
     "output_type": "stream",
     "text": [
      "BestCad 15.0 0.00037901511253342807 0.0009312077891081572\n",
      "BestNuclei 15.0 0.9999181795120239 1.0\n"
     ]
    },
    {
     "name": "stderr",
     "output_type": "stream",
     "text": [
      "\r",
      " 68%|██████████████████████████████████████████████████████████████████████████████████████████████████████████████████████▎                                                       | 17/25 [01:06<00:29,  3.73s/it]"
     ]
    },
    {
     "name": "stdout",
     "output_type": "stream",
     "text": [
      "BestCad 16.0 0.00047449220043442136 0.0012586730299517512\n",
      "BestNuclei 16.0 0.9998988385001818 1.0\n"
     ]
    },
    {
     "name": "stderr",
     "output_type": "stream",
     "text": [
      "\r",
      " 72%|█████████████████████████████████████████████████████████████████████████████████████████████████████████████████████████████▎                                                | 18/25 [01:10<00:25,  3.68s/it]"
     ]
    },
    {
     "name": "stdout",
     "output_type": "stream",
     "text": [
      "BestCad 17.0 0.00046494427927730914 0.0013134258333593607\n",
      "BestNuclei 17.0 0.9998735940974691 1.0\n"
     ]
    },
    {
     "name": "stderr",
     "output_type": "stream",
     "text": [
      "\r",
      " 76%|████████████████████████████████████████████████████████████████████████████████████████████████████████████████████████████████████▏                                         | 19/25 [01:13<00:21,  3.64s/it]"
     ]
    },
    {
     "name": "stdout",
     "output_type": "stream",
     "text": [
      "BestCad 18.0 0.0005672470704832284 0.0013154762564226985\n",
      "BestNuclei 18.0 0.9998424960219342 0.9999992251396179\n"
     ]
    },
    {
     "name": "stderr",
     "output_type": "stream",
     "text": [
      "\r",
      " 80%|███████████████████████████████████████████████████████████████████████████████████████████████████████████████████████████████████████████▏                                  | 20/25 [01:17<00:18,  3.66s/it]"
     ]
    },
    {
     "name": "stdout",
     "output_type": "stream",
     "text": [
      "BestCad 19.0 0.000770056969486177 0.0015718215145170689\n",
      "BestNuclei 19.0 0.9997691755945032 0.9999940395355225\n"
     ]
    },
    {
     "name": "stderr",
     "output_type": "stream",
     "text": [
      "\r",
      " 84%|██████████████████████████████████████████████████████████████████████████████████████████████████████████████████████████████████████████████████▏                           | 21/25 [01:21<00:15,  3.88s/it]"
     ]
    },
    {
     "name": "stdout",
     "output_type": "stream",
     "text": [
      "BestCad 20.0 0.0008255599871821081 0.0017707182560116053\n",
      "BestNuclei 20.0 0.9997473873875358 0.999986469745636\n"
     ]
    },
    {
     "name": "stderr",
     "output_type": "stream",
     "text": [
      "\r",
      " 88%|█████████████████████████████████████████████████████████████████████████████████████████████████████████████████████████████████████████████████████████                     | 22/25 [01:25<00:11,  3.82s/it]"
     ]
    },
    {
     "name": "stdout",
     "output_type": "stream",
     "text": [
      "BestCad 21.0 0.0008510655073526626 0.0017647104104980826\n",
      "BestNuclei 21.0 0.9997208947720735 0.9999808669090271\n"
     ]
    },
    {
     "name": "stderr",
     "output_type": "stream",
     "text": [
      "100%|██████████████████████████████████████████████████████████████████████████████████████████████████████████████████████████████████████████████████████████████████████████████| 25/25 [01:29<00:00,  3.56s/it]"
     ]
    },
    {
     "name": "stdout",
     "output_type": "stream",
     "text": [
      "BestCad 22.0 0.0008566101108347842 0.0018502508755773306\n",
      "BestNuclei 22.0 0.9997060596942902 0.999969482421875\n"
     ]
    },
    {
     "name": "stderr",
     "output_type": "stream",
     "text": [
      "\n"
     ]
    },
    {
     "name": "stdout",
     "output_type": "stream",
     "text": [
      "Detecting focus planes in 210629_Erk_Kate_His_mov1_w1CSU-QUAD-561_s8_t1\n"
     ]
    },
    {
     "name": "stderr",
     "output_type": "stream",
     "text": [
      "  4%|███████                                                                                                                                                                        | 1/25 [00:04<01:59,  4.99s/it]"
     ]
    },
    {
     "name": "stdout",
     "output_type": "stream",
     "text": [
      "BestCad 0.0 0.2503663177758426 0.9910420179367065\n",
      "BestNuclei 0.0 0.08733361625330618 0.9999893307685852\n"
     ]
    },
    {
     "name": "stderr",
     "output_type": "stream",
     "text": [
      "\r",
      "  8%|██████████████                                                                                                                                                                 | 2/25 [00:08<01:37,  4.26s/it]"
     ]
    },
    {
     "name": "stdout",
     "output_type": "stream",
     "text": [
      "BestCad 1.0 0.274193420904972 0.9912993907928467\n",
      "BestNuclei 1.0 0.17898090185818888 0.9998986124992371\n"
     ]
    },
    {
     "name": "stderr",
     "output_type": "stream",
     "text": [
      "\r",
      " 12%|█████████████████████                                                                                                                                                          | 3/25 [00:12<01:26,  3.94s/it]"
     ]
    },
    {
     "name": "stdout",
     "output_type": "stream",
     "text": [
      "BestCad 2.0 0.4102834336533162 0.9946356415748596\n",
      "BestNuclei 2.0 0.19343460748668279 0.9999936819076538\n"
     ]
    },
    {
     "name": "stderr",
     "output_type": "stream",
     "text": [
      "\r",
      " 16%|████████████████████████████                                                                                                                                                   | 4/25 [00:15<01:19,  3.80s/it]"
     ]
    },
    {
     "name": "stdout",
     "output_type": "stream",
     "text": [
      "BestCad 3.0 0.5393052901337413 0.9954794645309448\n",
      "BestNuclei 3.0 0.30720582042595196 0.9999992251396179\n"
     ]
    },
    {
     "name": "stderr",
     "output_type": "stream",
     "text": [
      "\r",
      " 20%|███████████████████████████████████                                                                                                                                            | 5/25 [00:19<01:13,  3.66s/it]"
     ]
    },
    {
     "name": "stdout",
     "output_type": "stream",
     "text": [
      "BestCad 4.0 0.5307729102082943 0.992639422416687\n",
      "BestNuclei 4.0 0.3201993408438284 0.9999995827674866\n"
     ]
    },
    {
     "name": "stderr",
     "output_type": "stream",
     "text": [
      "\r",
      " 24%|██████████████████████████████████████████                                                                                                                                     | 6/25 [00:22<01:08,  3.62s/it]"
     ]
    },
    {
     "name": "stdout",
     "output_type": "stream",
     "text": [
      "BestCad 5.0 0.5607993480283767 0.9883923530578613\n",
      "BestNuclei 5.0 0.3834853012271924 0.9999998807907104\n"
     ]
    },
    {
     "name": "stderr",
     "output_type": "stream",
     "text": [
      "\r",
      " 28%|█████████████████████████████████████████████████                                                                                                                              | 7/25 [00:26<01:04,  3.58s/it]"
     ]
    },
    {
     "name": "stdout",
     "output_type": "stream",
     "text": [
      "BestCad 6.0 0.5276081603819462 0.994983434677124\n",
      "BestNuclei 6.0 0.40855101555003787 0.9999998211860657\n"
     ]
    },
    {
     "name": "stderr",
     "output_type": "stream",
     "text": [
      "\r",
      " 32%|████████████████████████████████████████████████████████                                                                                                                       | 8/25 [00:29<01:00,  3.55s/it]"
     ]
    },
    {
     "name": "stdout",
     "output_type": "stream",
     "text": [
      "BestCad 7.0 0.5061656960701246 0.9938158392906189\n",
      "BestNuclei 7.0 0.4870360148852342 0.9999997615814209\n"
     ]
    },
    {
     "name": "stderr",
     "output_type": "stream",
     "text": [
      "\r",
      " 36%|███████████████████████████████████████████████████████████████                                                                                                                | 9/25 [00:34<01:02,  3.89s/it]"
     ]
    },
    {
     "name": "stdout",
     "output_type": "stream",
     "text": [
      "BestCad 8.0 0.5397828864282929 0.9895433187484741\n",
      "BestNuclei 8.0 0.5450961408670991 0.9999998807907104\n"
     ]
    },
    {
     "name": "stderr",
     "output_type": "stream",
     "text": [
      "\r",
      " 40%|█████████████████████████████████████████████████████████████████████▌                                                                                                        | 10/25 [00:37<00:56,  3.76s/it]"
     ]
    },
    {
     "name": "stdout",
     "output_type": "stream",
     "text": [
      "BestCad 9.0 0.4934122793808704 0.9869592189788818\n",
      "BestNuclei 9.0 0.6220181358791887 0.9999998211860657\n"
     ]
    },
    {
     "name": "stderr",
     "output_type": "stream",
     "text": [
      "\r",
      " 44%|████████████████████████████████████████████████████████████████████████████▌                                                                                                 | 11/25 [00:41<00:51,  3.66s/it]"
     ]
    },
    {
     "name": "stdout",
     "output_type": "stream",
     "text": [
      "BestCad 10.0 0.47987632641991734 0.9865569472312927\n",
      "BestNuclei 10.0 0.6957487770169973 0.9999998807907104\n"
     ]
    },
    {
     "name": "stderr",
     "output_type": "stream",
     "text": [
      "\r",
      " 48%|███████████████████████████████████████████████████████████████████████████████████▌                                                                                          | 12/25 [00:44<00:46,  3.55s/it]"
     ]
    },
    {
     "name": "stdout",
     "output_type": "stream",
     "text": [
      "BestCad 11.0 0.5135920907431726 0.9905473589897156\n",
      "BestNuclei 11.0 0.6703564975008524 1.0\n"
     ]
    },
    {
     "name": "stderr",
     "output_type": "stream",
     "text": [
      "\r",
      " 52%|██████████████████████████████████████████████████████████████████████████████████████████▍                                                                                   | 13/25 [00:47<00:41,  3.45s/it]"
     ]
    },
    {
     "name": "stdout",
     "output_type": "stream",
     "text": [
      "BestCad 12.0 0.4835059548447697 0.9970793724060059\n",
      "BestNuclei 12.0 0.7064491142867743 1.0\n"
     ]
    },
    {
     "name": "stderr",
     "output_type": "stream",
     "text": [
      "\r",
      " 56%|█████████████████████████████████████████████████████████████████████████████████████████████████▍                                                                            | 14/25 [00:51<00:37,  3.41s/it]"
     ]
    },
    {
     "name": "stdout",
     "output_type": "stream",
     "text": [
      "BestCad 13.0 0.1972416945612746 0.729529619216919\n",
      "BestNuclei 13.0 0.9604496036966642 0.9999969601631165\n"
     ]
    },
    {
     "name": "stderr",
     "output_type": "stream",
     "text": [
      "\r",
      " 60%|████████████████████████████████████████████████████████████████████████████████████████████████████████▍                                                                     | 15/25 [00:54<00:34,  3.44s/it]"
     ]
    },
    {
     "name": "stdout",
     "output_type": "stream",
     "text": [
      "BestCad 14.0 0.01912231996943774 0.20864750444889069\n",
      "BestNuclei 14.0 0.9994340737660726 0.9999996423721313\n"
     ]
    },
    {
     "name": "stderr",
     "output_type": "stream",
     "text": [
      "\r",
      " 64%|███████████████████████████████████████████████████████████████████████████████████████████████████████████████▎                                                              | 16/25 [00:58<00:31,  3.45s/it]"
     ]
    },
    {
     "name": "stdout",
     "output_type": "stream",
     "text": [
      "BestCad 15.0 0.0550885939915783 0.38041165471076965\n",
      "BestNuclei 15.0 0.9981935672138048 0.9999992847442627\n"
     ]
    },
    {
     "name": "stderr",
     "output_type": "stream",
     "text": [
      "\r",
      " 68%|██████████████████████████████████████████████████████████████████████████████████████████████████████████████████████▎                                                       | 17/25 [01:01<00:27,  3.47s/it]"
     ]
    },
    {
     "name": "stdout",
     "output_type": "stream",
     "text": [
      "BestCad 16.0 0.07176516305668718 0.42148542404174805\n",
      "BestNuclei 16.0 0.9982627201080322 0.9999993443489075\n"
     ]
    },
    {
     "name": "stderr",
     "output_type": "stream",
     "text": [
      "\r",
      " 72%|█████████████████████████████████████████████████████████████████████████████████████████████████████████████████████████████▎                                                | 18/25 [01:05<00:24,  3.47s/it]"
     ]
    },
    {
     "name": "stdout",
     "output_type": "stream",
     "text": [
      "BestCad 17.0 0.1541631354574003 0.6680189967155457\n",
      "BestNuclei 17.0 0.9989913391030353 0.9999986886978149\n"
     ]
    },
    {
     "name": "stderr",
     "output_type": "stream",
     "text": [
      "\r",
      " 76%|████████████████████████████████████████████████████████████████████████████████████████████████████████████████████████████████████▏                                         | 19/25 [01:08<00:21,  3.52s/it]"
     ]
    },
    {
     "name": "stdout",
     "output_type": "stream",
     "text": [
      "BestCad 18.0 0.03115185943367934 0.23209266364574432\n",
      "BestNuclei 18.0 0.999304518699646 0.9999997019767761\n"
     ]
    },
    {
     "name": "stderr",
     "output_type": "stream",
     "text": [
      "\r",
      " 80%|███████████████████████████████████████████████████████████████████████████████████████████████████████████████████████████████████████████▏                                  | 20/25 [01:12<00:17,  3.58s/it]"
     ]
    },
    {
     "name": "stdout",
     "output_type": "stream",
     "text": [
      "BestCad 19.0 0.005896454246112626 0.049673691391944885\n",
      "BestNuclei 19.0 0.9998414278030395 0.9999998807907104\n"
     ]
    },
    {
     "name": "stderr",
     "output_type": "stream",
     "text": [
      "\r",
      " 84%|██████████████████████████████████████████████████████████████████████████████████████████████████████████████████████████████████████████████████▏                           | 21/25 [01:16<00:14,  3.61s/it]"
     ]
    },
    {
     "name": "stdout",
     "output_type": "stream",
     "text": [
      "BestCad 20.0 0.002273658897523922 0.027249060571193695\n",
      "BestNuclei 20.0 0.9998558640480042 0.9999998807907104\n"
     ]
    },
    {
     "name": "stderr",
     "output_type": "stream",
     "text": [
      "\r",
      " 88%|█████████████████████████████████████████████████████████████████████████████████████████████████████████████████████████████████████████████████████████                     | 22/25 [01:19<00:10,  3.65s/it]"
     ]
    },
    {
     "name": "stdout",
     "output_type": "stream",
     "text": [
      "BestCad 21.0 0.0005944569783937566 0.004647661000490189\n",
      "BestNuclei 21.0 0.9999651312828064 0.9999998807907104\n"
     ]
    },
    {
     "name": "stderr",
     "output_type": "stream",
     "text": [
      "100%|██████████████████████████████████████████████████████████████████████████████████████████████████████████████████████████████████████████████████████████████████████████████| 25/25 [01:23<00:00,  3.35s/it]"
     ]
    },
    {
     "name": "stdout",
     "output_type": "stream",
     "text": [
      "BestCad 22.0 0.00010636446350531514 0.00048625835916027427\n",
      "BestNuclei 22.0 0.9999818628033003 0.9999998807907104\n"
     ]
    },
    {
     "name": "stderr",
     "output_type": "stream",
     "text": [
      "\n"
     ]
    },
    {
     "name": "stdout",
     "output_type": "stream",
     "text": [
      "Detecting focus planes in 210629_Erk_Kate_His_mov1_w3CSU-QUAD-561_s9_t2\n"
     ]
    },
    {
     "name": "stderr",
     "output_type": "stream",
     "text": [
      "  4%|███████                                                                                                                                                                        | 1/25 [00:05<02:02,  5.09s/it]"
     ]
    },
    {
     "name": "stdout",
     "output_type": "stream",
     "text": [
      "BestCad 0.0 0.10369130683722552 0.9953563213348389\n",
      "BestNuclei 0.0 0.07936748783735581 0.9951004981994629\n"
     ]
    },
    {
     "name": "stderr",
     "output_type": "stream",
     "text": [
      "\r",
      "  8%|██████████████                                                                                                                                                                 | 2/25 [00:08<01:38,  4.29s/it]"
     ]
    },
    {
     "name": "stdout",
     "output_type": "stream",
     "text": [
      "BestCad 1.0 0.1723135000338474 0.999349057674408\n",
      "BestNuclei 1.0 0.002111196354448453 0.04312834143638611\n"
     ]
    },
    {
     "name": "stderr",
     "output_type": "stream",
     "text": [
      "\r",
      " 12%|█████████████████████                                                                                                                                                          | 3/25 [00:12<01:30,  4.12s/it]"
     ]
    },
    {
     "name": "stdout",
     "output_type": "stream",
     "text": [
      "BestCad 2.0 0.16858814560256383 0.999132513999939\n",
      "BestNuclei 2.0 0.019411912082048833 0.34776997566223145\n"
     ]
    },
    {
     "name": "stderr",
     "output_type": "stream",
     "text": [
      "\r",
      " 16%|████████████████████████████                                                                                                                                                   | 4/25 [00:16<01:23,  4.00s/it]"
     ]
    },
    {
     "name": "stdout",
     "output_type": "stream",
     "text": [
      "BestCad 3.0 0.2139502420602316 0.9996647834777832\n",
      "BestNuclei 3.0 0.07010139700995077 0.9869704246520996\n"
     ]
    },
    {
     "name": "stderr",
     "output_type": "stream",
     "text": [
      "\r",
      " 20%|███████████████████████████████████                                                                                                                                            | 5/25 [00:20<01:17,  3.86s/it]"
     ]
    },
    {
     "name": "stdout",
     "output_type": "stream",
     "text": [
      "BestCad 4.0 0.3209337539078604 0.9999217987060547\n",
      "BestNuclei 4.0 0.08720773015295553 0.9999800324440002\n"
     ]
    },
    {
     "name": "stderr",
     "output_type": "stream",
     "text": [
      "\r",
      " 24%|██████████████████████████████████████████                                                                                                                                     | 6/25 [00:23<01:11,  3.75s/it]"
     ]
    },
    {
     "name": "stdout",
     "output_type": "stream",
     "text": [
      "BestCad 5.0 0.3622864319453437 0.9998272657394409\n",
      "BestNuclei 5.0 0.09503437300517757 0.999998927116394\n"
     ]
    },
    {
     "name": "stderr",
     "output_type": "stream",
     "text": [
      "\r",
      " 28%|█████████████████████████████████████████████████                                                                                                                              | 7/25 [00:27<01:07,  3.74s/it]"
     ]
    },
    {
     "name": "stdout",
     "output_type": "stream",
     "text": [
      "BestCad 6.0 0.48534487506306806 0.9995853304862976\n",
      "BestNuclei 6.0 0.11977509921538966 0.9999998211860657\n"
     ]
    },
    {
     "name": "stderr",
     "output_type": "stream",
     "text": [
      "\r",
      " 32%|████████████████████████████████████████████████████████                                                                                                                       | 8/25 [00:31<01:02,  3.70s/it]"
     ]
    },
    {
     "name": "stdout",
     "output_type": "stream",
     "text": [
      "BestCad 7.0 0.47484741274140263 0.9995615482330322\n",
      "BestNuclei 7.0 0.1986948380642904 0.9999999403953552\n"
     ]
    },
    {
     "name": "stderr",
     "output_type": "stream",
     "text": [
      "\r",
      " 36%|███████████████████████████████████████████████████████████████                                                                                                                | 9/25 [00:34<00:58,  3.63s/it]"
     ]
    },
    {
     "name": "stdout",
     "output_type": "stream",
     "text": [
      "BestCad 8.0 0.5138918610776143 0.9997984766960144\n",
      "BestNuclei 8.0 0.29009204120372445 1.0\n"
     ]
    },
    {
     "name": "stderr",
     "output_type": "stream",
     "text": [
      "\r",
      " 40%|█████████████████████████████████████████████████████████████████████▌                                                                                                        | 10/25 [00:37<00:53,  3.58s/it]"
     ]
    },
    {
     "name": "stdout",
     "output_type": "stream",
     "text": [
      "BestCad 9.0 0.4908238823894256 0.9996867179870605\n",
      "BestNuclei 9.0 0.342143500996691 1.0\n"
     ]
    },
    {
     "name": "stderr",
     "output_type": "stream",
     "text": [
      "\r",
      " 44%|████████████████████████████████████████████████████████████████████████████▌                                                                                                 | 11/25 [00:41<00:49,  3.53s/it]"
     ]
    },
    {
     "name": "stdout",
     "output_type": "stream",
     "text": [
      "BestCad 10.0 0.5516080856972015 0.9992409944534302\n",
      "BestNuclei 10.0 0.387663397881776 1.0\n"
     ]
    },
    {
     "name": "stderr",
     "output_type": "stream",
     "text": [
      "\r",
      " 48%|███████████████████████████████████████████████████████████████████████████████████▌                                                                                          | 12/25 [00:44<00:45,  3.53s/it]"
     ]
    },
    {
     "name": "stdout",
     "output_type": "stream",
     "text": [
      "BestCad 11.0 0.5909919468204385 0.9983590841293335\n",
      "BestNuclei 11.0 0.4221533495038396 1.0\n"
     ]
    },
    {
     "name": "stderr",
     "output_type": "stream",
     "text": [
      "\r",
      " 52%|██████████████████████████████████████████████████████████████████████████████████████████▍                                                                                   | 13/25 [00:48<00:41,  3.50s/it]"
     ]
    },
    {
     "name": "stdout",
     "output_type": "stream",
     "text": [
      "BestCad 12.0 0.6478434854188457 0.9975168704986572\n",
      "BestNuclei 12.0 0.51407453239793 1.0\n"
     ]
    },
    {
     "name": "stderr",
     "output_type": "stream",
     "text": [
      "\r",
      " 56%|█████████████████████████████████████████████████████████████████████████████████████████████████▍                                                                            | 14/25 [00:51<00:38,  3.49s/it]"
     ]
    },
    {
     "name": "stdout",
     "output_type": "stream",
     "text": [
      "BestCad 13.0 0.5801338380341725 0.9960713982582092\n",
      "BestNuclei 13.0 0.5732633038746826 1.0\n"
     ]
    },
    {
     "name": "stderr",
     "output_type": "stream",
     "text": [
      "\r",
      " 60%|████████████████████████████████████████████████████████████████████████████████████████████████████████▍                                                                     | 15/25 [00:55<00:35,  3.50s/it]"
     ]
    },
    {
     "name": "stdout",
     "output_type": "stream",
     "text": [
      "BestCad 14.0 0.5815273018905187 0.9983401298522949\n",
      "BestNuclei 14.0 0.6212027630010032 1.0\n"
     ]
    },
    {
     "name": "stderr",
     "output_type": "stream",
     "text": [
      "\r",
      " 64%|███████████████████████████████████████████████████████████████████████████████████████████████████████████████▎                                                              | 16/25 [01:00<00:34,  3.87s/it]"
     ]
    },
    {
     "name": "stdout",
     "output_type": "stream",
     "text": [
      "BestCad 15.0 0.552727227244759 0.9975168704986572\n",
      "BestNuclei 15.0 0.6824151712530495 1.0\n"
     ]
    },
    {
     "name": "stderr",
     "output_type": "stream",
     "text": [
      "\r",
      " 68%|██████████████████████████████████████████████████████████████████████████████████████████████████████████████████████▎                                                       | 17/25 [01:03<00:30,  3.78s/it]"
     ]
    },
    {
     "name": "stdout",
     "output_type": "stream",
     "text": [
      "BestCad 16.0 0.5411811813445591 0.9945149421691895\n",
      "BestNuclei 16.0 0.9080895239656622 1.0\n"
     ]
    },
    {
     "name": "stderr",
     "output_type": "stream",
     "text": [
      "\r",
      " 72%|█████████████████████████████████████████████████████████████████████████████████████████████████████████████████████████████▎                                                | 18/25 [01:07<00:25,  3.68s/it]"
     ]
    },
    {
     "name": "stdout",
     "output_type": "stream",
     "text": [
      "BestCad 17.0 0.11637362293113256 0.5646413564682007\n",
      "BestNuclei 17.0 0.9975263787352521 1.0\n"
     ]
    },
    {
     "name": "stderr",
     "output_type": "stream",
     "text": [
      "\r",
      " 76%|████████████████████████████████████████████████████████████████████████████████████████████████████████████████████████████████████▏                                         | 19/25 [01:10<00:22,  3.72s/it]"
     ]
    },
    {
     "name": "stdout",
     "output_type": "stream",
     "text": [
      "BestCad 18.0 0.0026120447801076807 0.015334010124206543\n",
      "BestNuclei 18.0 0.9999399731556574 0.9999983310699463\n"
     ]
    },
    {
     "name": "stderr",
     "output_type": "stream",
     "text": [
      "\r",
      " 80%|███████████████████████████████████████████████████████████████████████████████████████████████████████████████████████████████████████████▏                                  | 20/25 [01:15<00:19,  3.84s/it]"
     ]
    },
    {
     "name": "stdout",
     "output_type": "stream",
     "text": [
      "BestCad 19.0 0.0003745457547023287 0.002516216365620494\n",
      "BestNuclei 19.0 0.9999823893109957 0.9999997019767761\n"
     ]
    },
    {
     "name": "stderr",
     "output_type": "stream",
     "text": [
      "\r",
      " 84%|██████████████████████████████████████████████████████████████████████████████████████████████████████████████████████████████████████████████████▏                           | 21/25 [01:19<00:15,  3.94s/it]"
     ]
    },
    {
     "name": "stdout",
     "output_type": "stream",
     "text": [
      "BestCad 20.0 0.0003576337757771225 0.0014377632178366184\n",
      "BestNuclei 20.0 0.9999805927276612 0.9999997019767761\n"
     ]
    },
    {
     "name": "stderr",
     "output_type": "stream",
     "text": [
      "\r",
      " 88%|█████████████████████████████████████████████████████████████████████████████████████████████████████████████████████████████████████████████████████████                     | 22/25 [01:23<00:11,  3.97s/it]"
     ]
    },
    {
     "name": "stdout",
     "output_type": "stream",
     "text": [
      "BestCad 21.0 0.0009641390836350183 0.005399488378316164\n",
      "BestNuclei 21.0 0.9999587400393053 0.9999992847442627\n"
     ]
    },
    {
     "name": "stderr",
     "output_type": "stream",
     "text": [
      "100%|██████████████████████████████████████████████████████████████████████████████████████████████████████████████████████████████████████████████████████████████████████████████| 25/25 [01:27<00:00,  3.50s/it]"
     ]
    },
    {
     "name": "stdout",
     "output_type": "stream",
     "text": [
      "BestCad 22.0 0.004838302407097217 0.02354509010910988\n",
      "BestNuclei 22.0 0.9998371280156649 0.9999976754188538\n"
     ]
    },
    {
     "name": "stderr",
     "output_type": "stream",
     "text": [
      "\n"
     ]
    },
    {
     "name": "stdout",
     "output_type": "stream",
     "text": [
      "Detecting focus planes in 210629_Erk_Kate_His_mov1_w3CSU-QUAD-561_s7_t32\n"
     ]
    },
    {
     "name": "stderr",
     "output_type": "stream",
     "text": [
      "  4%|███████                                                                                                                                                                        | 1/25 [00:04<01:49,  4.55s/it]"
     ]
    },
    {
     "name": "stdout",
     "output_type": "stream",
     "text": [
      "BestCad 0.0 8.928068434345602e-05 0.0007786425994709134\n",
      "BestNuclei 0.0 3.3987550201314276e-08 3.665516032924643e-07\n"
     ]
    },
    {
     "name": "stderr",
     "output_type": "stream",
     "text": [
      "\r",
      "  8%|██████████████                                                                                                                                                                 | 2/25 [00:07<01:27,  3.82s/it]"
     ]
    },
    {
     "name": "stdout",
     "output_type": "stream",
     "text": [
      "BestCad 1.0 0.00028326123339973545 0.004531631711870432\n",
      "BestNuclei 1.0 2.0303846869247632e-08 3.314071079785208e-07\n"
     ]
    },
    {
     "name": "stderr",
     "output_type": "stream",
     "text": [
      "\r",
      " 12%|█████████████████████                                                                                                                                                          | 3/25 [00:11<01:19,  3.63s/it]"
     ]
    },
    {
     "name": "stdout",
     "output_type": "stream",
     "text": [
      "BestCad 2.0 0.00041875856832004644 0.004944734741002321\n",
      "BestNuclei 2.0 7.422636721619857e-08 9.428372322872747e-07\n"
     ]
    },
    {
     "name": "stderr",
     "output_type": "stream",
     "text": [
      "\r",
      " 16%|████████████████████████████                                                                                                                                                   | 4/25 [00:14<01:15,  3.58s/it]"
     ]
    },
    {
     "name": "stdout",
     "output_type": "stream",
     "text": [
      "BestCad 3.0 0.002024250486534757 0.04079051315784454\n",
      "BestNuclei 3.0 7.998086757511987e-07 1.605080979061313e-05\n"
     ]
    },
    {
     "name": "stderr",
     "output_type": "stream",
     "text": [
      "\r",
      " 20%|███████████████████████████████████                                                                                                                                            | 5/25 [00:19<01:20,  4.05s/it]"
     ]
    },
    {
     "name": "stdout",
     "output_type": "stream",
     "text": [
      "BestCad 4.0 0.0002255879918700223 0.004273025318980217\n",
      "BestNuclei 4.0 1.9805441331715123e-07 2.5522258511045948e-06\n"
     ]
    },
    {
     "name": "stderr",
     "output_type": "stream",
     "text": [
      "\r",
      " 24%|██████████████████████████████████████████                                                                                                                                     | 6/25 [00:23<01:12,  3.84s/it]"
     ]
    },
    {
     "name": "stdout",
     "output_type": "stream",
     "text": [
      "BestCad 5.0 7.926237149075385e-05 0.0005953040672466159\n",
      "BestNuclei 5.0 1.6204070561395834e-07 1.8440853182255523e-06\n"
     ]
    },
    {
     "name": "stderr",
     "output_type": "stream",
     "text": [
      "\r",
      " 28%|█████████████████████████████████████████████████                                                                                                                              | 7/25 [00:26<01:07,  3.73s/it]"
     ]
    },
    {
     "name": "stdout",
     "output_type": "stream",
     "text": [
      "BestCad 6.0 0.00030950878452813414 0.0019555152393877506\n",
      "BestNuclei 6.0 6.689656127246649e-07 1.0266807294101454e-05\n"
     ]
    },
    {
     "name": "stderr",
     "output_type": "stream",
     "text": [
      "\r",
      " 32%|████████████████████████████████████████████████████████                                                                                                                       | 8/25 [00:30<01:02,  3.70s/it]"
     ]
    },
    {
     "name": "stdout",
     "output_type": "stream",
     "text": [
      "BestCad 7.0 0.03715127776028263 0.5709940195083618\n",
      "BestNuclei 7.0 0.010763916214664548 0.22661349177360535\n"
     ]
    },
    {
     "name": "stderr",
     "output_type": "stream",
     "text": [
      "\r",
      " 36%|███████████████████████████████████████████████████████████████                                                                                                                | 9/25 [00:33<00:59,  3.71s/it]"
     ]
    },
    {
     "name": "stdout",
     "output_type": "stream",
     "text": [
      "BestCad 8.0 0.18713452301259773 0.9954295754432678\n",
      "BestNuclei 8.0 0.1252173300218692 0.9945253133773804\n"
     ]
    },
    {
     "name": "stderr",
     "output_type": "stream",
     "text": [
      "\r",
      " 40%|█████████████████████████████████████████████████████████████████████▌                                                                                                        | 10/25 [00:37<00:56,  3.75s/it]"
     ]
    },
    {
     "name": "stdout",
     "output_type": "stream",
     "text": [
      "BestCad 9.0 0.31103129821580794 0.9898980855941772\n",
      "BestNuclei 9.0 0.765247994206018 0.9999644160270691\n"
     ]
    },
    {
     "name": "stderr",
     "output_type": "stream",
     "text": [
      "\r",
      " 44%|████████████████████████████████████████████████████████████████████████████▌                                                                                                 | 11/25 [00:41<00:52,  3.78s/it]"
     ]
    },
    {
     "name": "stdout",
     "output_type": "stream",
     "text": [
      "BestCad 10.0 0.006146689576583057 0.060971107333898544\n",
      "BestNuclei 10.0 0.9992306756973267 0.9999992847442627\n"
     ]
    },
    {
     "name": "stderr",
     "output_type": "stream",
     "text": [
      "\r",
      " 48%|███████████████████████████████████████████████████████████████████████████████████▌                                                                                          | 12/25 [00:45<00:49,  3.83s/it]"
     ]
    },
    {
     "name": "stdout",
     "output_type": "stream",
     "text": [
      "BestCad 11.0 5.47865068571222e-06 2.5071887648664415e-05\n",
      "BestNuclei 11.0 0.9999989454562848 0.9999999403953552\n"
     ]
    },
    {
     "name": "stderr",
     "output_type": "stream",
     "text": [
      "\r",
      " 52%|██████████████████████████████████████████████████████████████████████████████████████████▍                                                                                   | 13/25 [00:49<00:46,  3.91s/it]"
     ]
    },
    {
     "name": "stdout",
     "output_type": "stream",
     "text": [
      "BestCad 12.0 1.723812840282335e-05 0.0001241226273123175\n",
      "BestNuclei 12.0 0.9999960899353028 0.9999998807907104\n"
     ]
    },
    {
     "name": "stderr",
     "output_type": "stream",
     "text": [
      "\r",
      " 56%|█████████████████████████████████████████████████████████████████████████████████████████████████▍                                                                            | 14/25 [00:53<00:43,  3.92s/it]"
     ]
    },
    {
     "name": "stdout",
     "output_type": "stream",
     "text": [
      "BestCad 13.0 0.0002098978226422332 0.0007415574509650469\n",
      "BestNuclei 13.0 0.9999541789293289 0.9999936819076538\n"
     ]
    },
    {
     "name": "stderr",
     "output_type": "stream",
     "text": [
      "\r",
      " 60%|████████████████████████████████████████████████████████████████████████████████████████████████████████▍                                                                     | 15/25 [00:57<00:39,  3.96s/it]"
     ]
    },
    {
     "name": "stdout",
     "output_type": "stream",
     "text": [
      "BestCad 14.0 0.0004830806574318558 0.0013796956045553088\n",
      "BestNuclei 14.0 0.9998705486456553 0.9999723434448242\n"
     ]
    },
    {
     "name": "stderr",
     "output_type": "stream",
     "text": [
      "\r",
      " 64%|███████████████████████████████████████████████████████████████████████████████████████████████████████████████▎                                                              | 16/25 [01:01<00:35,  3.91s/it]"
     ]
    },
    {
     "name": "stdout",
     "output_type": "stream",
     "text": [
      "BestCad 15.0 0.0008203854482747953 0.002218185691162944\n",
      "BestNuclei 15.0 0.9997277607520422 0.9999384880065918\n"
     ]
    },
    {
     "name": "stderr",
     "output_type": "stream",
     "text": [
      "\r",
      " 68%|██████████████████████████████████████████████████████████████████████████████████████████████████████████████████████▎                                                       | 17/25 [01:05<00:30,  3.86s/it]"
     ]
    },
    {
     "name": "stdout",
     "output_type": "stream",
     "text": [
      "BestCad 16.0 0.0007971871170659804 0.002247447380796075\n",
      "BestNuclei 16.0 0.9997208187213311 0.9999801516532898\n"
     ]
    },
    {
     "name": "stderr",
     "output_type": "stream",
     "text": [
      "\r",
      " 72%|█████████████████████████████████████████████████████████████████████████████████████████████████████████████████████████████▎                                                | 18/25 [01:09<00:27,  3.86s/it]"
     ]
    },
    {
     "name": "stdout",
     "output_type": "stream",
     "text": [
      "BestCad 17.0 0.0007207780983299017 0.0021929279901087284\n",
      "BestNuclei 17.0 0.9997829354327658 0.9999954700469971\n"
     ]
    },
    {
     "name": "stderr",
     "output_type": "stream",
     "text": [
      "\r",
      " 76%|████████████████████████████████████████████████████████████████████████████████████████████████████████████████████████████████████▏                                         | 19/25 [01:12<00:22,  3.83s/it]"
     ]
    },
    {
     "name": "stdout",
     "output_type": "stream",
     "text": [
      "BestCad 18.0 0.0007075752643868327 0.0020686457864940166\n",
      "BestNuclei 18.0 0.9997731084408967 0.9999987483024597\n"
     ]
    },
    {
     "name": "stderr",
     "output_type": "stream",
     "text": [
      "\r",
      " 80%|███████████████████████████████████████████████████████████████████████████████████████████████████████████████████████████████████████████▏                                  | 20/25 [01:16<00:19,  3.83s/it]"
     ]
    },
    {
     "name": "stdout",
     "output_type": "stream",
     "text": [
      "BestCad 19.0 0.0006797843216918409 0.0019058091565966606\n",
      "BestNuclei 19.0 0.9997807121276856 0.9999998211860657\n"
     ]
    },
    {
     "name": "stderr",
     "output_type": "stream",
     "text": [
      "\r",
      " 84%|██████████████████████████████████████████████████████████████████████████████████████████████████████████████████████████████████████████████████▏                           | 21/25 [01:20<00:15,  3.79s/it]"
     ]
    },
    {
     "name": "stdout",
     "output_type": "stream",
     "text": [
      "BestCad 20.0 0.0008061766360090891 0.0021350113674998283\n",
      "BestNuclei 20.0 0.999724787970384 0.9999998807907104\n"
     ]
    },
    {
     "name": "stderr",
     "output_type": "stream",
     "text": [
      "\r",
      " 88%|█████████████████████████████████████████████████████████████████████████████████████████████████████████████████████████████████████████████████████████                     | 22/25 [01:24<00:11,  3.93s/it]"
     ]
    },
    {
     "name": "stdout",
     "output_type": "stream",
     "text": [
      "BestCad 21.0 0.0007900253732931678 0.0020851953886449337\n",
      "BestNuclei 21.0 0.9998320747505535 0.9999999403953552\n"
     ]
    },
    {
     "name": "stderr",
     "output_type": "stream",
     "text": [
      "100%|██████████████████████████████████████████████████████████████████████████████████████████████████████████████████████████████████████████████████████████████████████████████| 25/25 [01:28<00:00,  3.55s/it]"
     ]
    },
    {
     "name": "stdout",
     "output_type": "stream",
     "text": [
      "BestCad 22.0 0.0007870057091602813 0.0020989999175071716\n",
      "BestNuclei 22.0 0.9998370409011841 0.9999999403953552\n"
     ]
    },
    {
     "name": "stderr",
     "output_type": "stream",
     "text": [
      "\n"
     ]
    },
    {
     "name": "stdout",
     "output_type": "stream",
     "text": [
      "Detecting focus planes in 210629_Erk_Kate_His_mov1_w1CSU-QUAD-561_s8_t25\n"
     ]
    },
    {
     "name": "stderr",
     "output_type": "stream",
     "text": [
      "  4%|███████                                                                                                                                                                        | 1/25 [00:05<02:21,  5.91s/it]"
     ]
    },
    {
     "name": "stdout",
     "output_type": "stream",
     "text": [
      "BestCad 0.0 0.0880294397983145 0.9182912111282349\n",
      "BestNuclei 0.0 2.2402076104695577e-05 0.00018959876615554094\n"
     ]
    },
    {
     "name": "stderr",
     "output_type": "stream",
     "text": [
      "\r",
      "  8%|██████████████                                                                                                                                                                 | 2/25 [00:10<02:00,  5.26s/it]"
     ]
    },
    {
     "name": "stdout",
     "output_type": "stream",
     "text": [
      "BestCad 1.0 0.1402748795186926 0.9559966921806335\n",
      "BestNuclei 1.0 0.026009368386325775 0.4589129388332367\n"
     ]
    },
    {
     "name": "stderr",
     "output_type": "stream",
     "text": [
      "\r",
      " 12%|█████████████████████                                                                                                                                                          | 3/25 [00:15<01:48,  4.95s/it]"
     ]
    },
    {
     "name": "stdout",
     "output_type": "stream",
     "text": [
      "BestCad 2.0 0.17449342997249914 0.9945130944252014\n",
      "BestNuclei 2.0 0.05828739242767324 0.9041453003883362\n"
     ]
    },
    {
     "name": "stderr",
     "output_type": "stream",
     "text": [
      "\r",
      " 16%|████████████████████████████                                                                                                                                                   | 4/25 [00:19<01:41,  4.81s/it]"
     ]
    },
    {
     "name": "stdout",
     "output_type": "stream",
     "text": [
      "BestCad 3.0 4.890830085129822e-06 1.1211126548005268e-05\n",
      "BestNuclei 3.0 0.9999981045722961 0.9999998807907104\n"
     ]
    },
    {
     "name": "stderr",
     "output_type": "stream",
     "text": [
      "\r",
      " 20%|███████████████████████████████████                                                                                                                                            | 5/25 [00:23<01:30,  4.51s/it]"
     ]
    },
    {
     "name": "stdout",
     "output_type": "stream",
     "text": [
      "BestCad 4.0 5.128635403588819e-06 1.2708102076430805e-05\n",
      "BestNuclei 4.0 0.9999983683228493 0.9999998807907104\n"
     ]
    },
    {
     "name": "stderr",
     "output_type": "stream",
     "text": [
      "\r",
      " 24%|██████████████████████████████████████████                                                                                                                                     | 6/25 [00:27<01:20,  4.25s/it]"
     ]
    },
    {
     "name": "stdout",
     "output_type": "stream",
     "text": [
      "BestCad 5.0 5.503882689481543e-06 1.530923691461794e-05\n",
      "BestNuclei 5.0 0.9999979734420776 0.9999998807907104\n"
     ]
    },
    {
     "name": "stderr",
     "output_type": "stream",
     "text": [
      "\r",
      " 28%|█████████████████████████████████████████████████                                                                                                                              | 7/25 [00:31<01:12,  4.02s/it]"
     ]
    },
    {
     "name": "stdout",
     "output_type": "stream",
     "text": [
      "BestCad 6.0 0.37217727412074886 0.9980390071868896\n",
      "BestNuclei 6.0 0.28923097758163985 0.9999125599861145\n"
     ]
    },
    {
     "name": "stderr",
     "output_type": "stream",
     "text": [
      "\r",
      " 32%|████████████████████████████████████████████████████████                                                                                                                       | 8/25 [00:34<01:05,  3.84s/it]"
     ]
    },
    {
     "name": "stdout",
     "output_type": "stream",
     "text": [
      "BestCad 7.0 0.36049398399931804 0.9965739846229553\n",
      "BestNuclei 7.0 0.20258114780712502 0.9999902844429016\n"
     ]
    },
    {
     "name": "stderr",
     "output_type": "stream",
     "text": [
      "\r",
      " 36%|███████████████████████████████████████████████████████████████                                                                                                                | 9/25 [00:38<01:01,  3.86s/it]"
     ]
    },
    {
     "name": "stdout",
     "output_type": "stream",
     "text": [
      "BestCad 8.0 0.4222796528840263 0.997319221496582\n",
      "BestNuclei 8.0 0.25986480041552557 0.999999463558197\n"
     ]
    },
    {
     "name": "stderr",
     "output_type": "stream",
     "text": [
      "\r",
      " 40%|█████████████████████████████████████████████████████████████████████▌                                                                                                        | 10/25 [00:41<00:55,  3.68s/it]"
     ]
    },
    {
     "name": "stdout",
     "output_type": "stream",
     "text": [
      "BestCad 9.0 0.4418071470321262 0.9969346523284912\n",
      "BestNuclei 9.0 0.29065978777148127 0.9999994039535522\n"
     ]
    },
    {
     "name": "stderr",
     "output_type": "stream",
     "text": [
      "\r",
      " 44%|████████████████████████████████████████████████████████████████████████████▌                                                                                                 | 11/25 [00:45<00:50,  3.57s/it]"
     ]
    },
    {
     "name": "stdout",
     "output_type": "stream",
     "text": [
      "BestCad 10.0 0.5597188420360908 0.9938191771507263\n",
      "BestNuclei 10.0 0.44535630900188716 0.9999998211860657\n"
     ]
    },
    {
     "name": "stderr",
     "output_type": "stream",
     "text": [
      "\r",
      " 48%|███████████████████████████████████████████████████████████████████████████████████▌                                                                                          | 12/25 [00:48<00:45,  3.51s/it]"
     ]
    },
    {
     "name": "stdout",
     "output_type": "stream",
     "text": [
      "BestCad 11.0 0.6071306114964601 0.994742751121521\n",
      "BestNuclei 11.0 0.4654067363393811 0.9999998211860657\n"
     ]
    },
    {
     "name": "stderr",
     "output_type": "stream",
     "text": [
      "\r",
      " 52%|██████████████████████████████████████████████████████████████████████████████████████████▍                                                                                   | 13/25 [00:51<00:41,  3.49s/it]"
     ]
    },
    {
     "name": "stdout",
     "output_type": "stream",
     "text": [
      "BestCad 12.0 0.5998174783540889 0.9944127798080444\n",
      "BestNuclei 12.0 0.505549243112379 0.9999997615814209\n"
     ]
    },
    {
     "name": "stderr",
     "output_type": "stream",
     "text": [
      "\r",
      " 56%|█████████████████████████████████████████████████████████████████████████████████████████████████▍                                                                            | 14/25 [00:55<00:38,  3.47s/it]"
     ]
    },
    {
     "name": "stdout",
     "output_type": "stream",
     "text": [
      "BestCad 13.0 0.5343397011714511 0.9955679178237915\n",
      "BestNuclei 13.0 0.49195461477118285 0.9999998211860657\n"
     ]
    },
    {
     "name": "stderr",
     "output_type": "stream",
     "text": [
      "\r",
      " 60%|████████████████████████████████████████████████████████████████████████████████████████████████████████▍                                                                     | 15/25 [01:00<00:38,  3.88s/it]"
     ]
    },
    {
     "name": "stdout",
     "output_type": "stream",
     "text": [
      "BestCad 14.0 0.5361973996900599 0.994992733001709\n",
      "BestNuclei 14.0 0.5619443275441466 0.9999997615814209\n"
     ]
    },
    {
     "name": "stderr",
     "output_type": "stream",
     "text": [
      "\r",
      " 64%|███████████████████████████████████████████████████████████████████████████████████████████████████████████████▎                                                              | 16/25 [01:03<00:33,  3.71s/it]"
     ]
    },
    {
     "name": "stdout",
     "output_type": "stream",
     "text": [
      "BestCad 15.0 0.5462949582375586 0.9965641498565674\n",
      "BestNuclei 15.0 0.607995660428827 0.9999997615814209\n"
     ]
    },
    {
     "name": "stderr",
     "output_type": "stream",
     "text": [
      "\r",
      " 68%|██████████████████████████████████████████████████████████████████████████████████████████████████████████████████████▎                                                       | 17/25 [01:06<00:29,  3.64s/it]"
     ]
    },
    {
     "name": "stdout",
     "output_type": "stream",
     "text": [
      "BestCad 16.0 0.2546728660922132 0.89622563123703\n",
      "BestNuclei 16.0 0.9880519700050354 0.9999945759773254\n"
     ]
    },
    {
     "name": "stderr",
     "output_type": "stream",
     "text": [
      "\r",
      " 72%|█████████████████████████████████████████████████████████████████████████████████████████████████████████████████████████████▎                                                | 18/25 [01:10<00:25,  3.59s/it]"
     ]
    },
    {
     "name": "stdout",
     "output_type": "stream",
     "text": [
      "BestCad 17.0 0.057676367331168876 0.5097984671592712\n",
      "BestNuclei 17.0 0.9988537096977234 0.9999992847442627\n"
     ]
    },
    {
     "name": "stderr",
     "output_type": "stream",
     "text": [
      "\r",
      " 76%|████████████████████████████████████████████████████████████████████████████████████████████████████████████████████████████████████▏                                         | 19/25 [01:13<00:21,  3.57s/it]"
     ]
    },
    {
     "name": "stdout",
     "output_type": "stream",
     "text": [
      "BestCad 18.0 0.0723657468003239 0.5324405431747437\n",
      "BestNuclei 18.0 0.9988718390464782 0.9999994039535522\n"
     ]
    },
    {
     "name": "stderr",
     "output_type": "stream",
     "text": [
      "\r",
      " 80%|███████████████████████████████████████████████████████████████████████████████████████████████████████████████████████████████████████████▏                                  | 20/25 [01:17<00:17,  3.57s/it]"
     ]
    },
    {
     "name": "stdout",
     "output_type": "stream",
     "text": [
      "BestCad 19.0 0.24095897808954414 0.9605211019515991\n",
      "BestNuclei 19.0 0.9876913261413575 0.9999896883964539\n"
     ]
    },
    {
     "name": "stderr",
     "output_type": "stream",
     "text": [
      "\r",
      " 84%|██████████████████████████████████████████████████████████████████████████████████████████████████████████████████████████████████████████████████▏                           | 21/25 [01:21<00:14,  3.54s/it]"
     ]
    },
    {
     "name": "stdout",
     "output_type": "stream",
     "text": [
      "BestCad 20.0 0.54729062284986 0.9934271574020386\n",
      "BestNuclei 20.0 0.7781335160136222 0.999833345413208\n"
     ]
    },
    {
     "name": "stderr",
     "output_type": "stream",
     "text": [
      "\r",
      " 88%|█████████████████████████████████████████████████████████████████████████████████████████████████████████████████████████████████████████████████████████                     | 22/25 [01:24<00:10,  3.43s/it]"
     ]
    },
    {
     "name": "stdout",
     "output_type": "stream",
     "text": [
      "BestCad 21.0 0.4982023595017381 0.994705319404602\n",
      "BestNuclei 21.0 0.4632342941467928 0.9999997019767761\n"
     ]
    },
    {
     "name": "stderr",
     "output_type": "stream",
     "text": [
      "100%|██████████████████████████████████████████████████████████████████████████████████████████████████████████████████████████████████████████████████████████████████████████████| 25/25 [01:27<00:00,  3.50s/it]"
     ]
    },
    {
     "name": "stdout",
     "output_type": "stream",
     "text": [
      "BestCad 22.0 0.4545048241128652 0.997511625289917\n",
      "BestNuclei 22.0 0.5009867298695649 0.9999998807907104\n"
     ]
    },
    {
     "name": "stderr",
     "output_type": "stream",
     "text": [
      "\n"
     ]
    },
    {
     "name": "stdout",
     "output_type": "stream",
     "text": [
      "Detecting focus planes in 210629_Erk_Kate_His_mov1_w3CSU-QUAD-561_s8_t21\n"
     ]
    },
    {
     "name": "stderr",
     "output_type": "stream",
     "text": [
      "  4%|███████                                                                                                                                                                        | 1/25 [00:04<01:55,  4.83s/it]"
     ]
    },
    {
     "name": "stdout",
     "output_type": "stream",
     "text": [
      "BestCad 0.0 0.00022612851929631523 0.004485513549298048\n",
      "BestNuclei 0.0 3.968946467095149e-08 5.696390417142538e-07\n"
     ]
    },
    {
     "name": "stderr",
     "output_type": "stream",
     "text": [
      "\r",
      "  8%|██████████████                                                                                                                                                                 | 2/25 [00:08<01:33,  4.08s/it]"
     ]
    },
    {
     "name": "stdout",
     "output_type": "stream",
     "text": [
      "BestCad 1.0 2.6124398092070518e-05 0.00043428147910162807\n",
      "BestNuclei 1.0 7.360383701006059e-09 4.547592880044249e-08\n"
     ]
    },
    {
     "name": "stderr",
     "output_type": "stream",
     "text": [
      "\r",
      " 12%|█████████████████████                                                                                                                                                          | 3/25 [00:11<01:22,  3.77s/it]"
     ]
    },
    {
     "name": "stdout",
     "output_type": "stream",
     "text": [
      "BestCad 2.0 2.5714444989925294e-05 0.00024657731410115957\n",
      "BestNuclei 2.0 1.085923559927815e-08 6.542074260096342e-08\n"
     ]
    },
    {
     "name": "stderr",
     "output_type": "stream",
     "text": [
      "\r",
      " 16%|████████████████████████████                                                                                                                                                   | 4/25 [00:15<01:14,  3.56s/it]"
     ]
    },
    {
     "name": "stdout",
     "output_type": "stream",
     "text": [
      "BestCad 3.0 5.385561759622833e-05 0.0010560641530901194\n",
      "BestNuclei 3.0 2.4951676119446713e-08 3.5246148399892263e-07\n"
     ]
    },
    {
     "name": "stderr",
     "output_type": "stream",
     "text": [
      "\r",
      " 20%|███████████████████████████████████                                                                                                                                            | 5/25 [00:18<01:09,  3.46s/it]"
     ]
    },
    {
     "name": "stdout",
     "output_type": "stream",
     "text": [
      "BestCad 4.0 8.693977962727992e-05 0.0009681457886472344\n",
      "BestNuclei 4.0 8.057330756344738e-08 1.373343366140034e-06\n"
     ]
    },
    {
     "name": "stderr",
     "output_type": "stream",
     "text": [
      "\r",
      " 24%|██████████████████████████████████████████                                                                                                                                     | 6/25 [00:23<01:13,  3.88s/it]"
     ]
    },
    {
     "name": "stdout",
     "output_type": "stream",
     "text": [
      "BestCad 5.0 0.004823775455001736 0.09532155096530914\n",
      "BestNuclei 5.0 2.5464190193946745e-07 1.9971068923041457e-06\n"
     ]
    },
    {
     "name": "stderr",
     "output_type": "stream",
     "text": [
      "\r",
      " 28%|█████████████████████████████████████████████████                                                                                                                              | 7/25 [00:26<01:08,  3.78s/it]"
     ]
    },
    {
     "name": "stdout",
     "output_type": "stream",
     "text": [
      "BestCad 6.0 0.046814820441913756 0.8630019426345825\n",
      "BestNuclei 6.0 5.908078740434382e-06 0.00011712401465047151\n"
     ]
    },
    {
     "name": "stderr",
     "output_type": "stream",
     "text": [
      "\r",
      " 32%|████████████████████████████████████████████████████████                                                                                                                       | 8/25 [00:30<01:04,  3.79s/it]"
     ]
    },
    {
     "name": "stdout",
     "output_type": "stream",
     "text": [
      "BestCad 7.0 0.08201374679837578 0.9919303059577942\n",
      "BestNuclei 7.0 2.1898766109011766e-05 0.00027179878088645637\n"
     ]
    },
    {
     "name": "stderr",
     "output_type": "stream",
     "text": [
      "\r",
      " 36%|███████████████████████████████████████████████████████████████                                                                                                                | 9/25 [00:34<01:01,  3.87s/it]"
     ]
    },
    {
     "name": "stdout",
     "output_type": "stream",
     "text": [
      "BestCad 8.0 0.15092573233821738 0.9984831809997559\n",
      "BestNuclei 8.0 0.061480626108529786 0.8527681827545166\n"
     ]
    },
    {
     "name": "stderr",
     "output_type": "stream",
     "text": [
      "\r",
      " 40%|█████████████████████████████████████████████████████████████████████▌                                                                                                        | 10/25 [00:38<00:58,  3.88s/it]"
     ]
    },
    {
     "name": "stdout",
     "output_type": "stream",
     "text": [
      "BestCad 9.0 0.2255197366715341 0.9969972372055054\n",
      "BestNuclei 9.0 0.10330012168930199 0.9987307786941528\n"
     ]
    },
    {
     "name": "stderr",
     "output_type": "stream",
     "text": [
      "\r",
      " 44%|████████████████████████████████████████████████████████████████████████████▌                                                                                                 | 11/25 [00:42<00:53,  3.84s/it]"
     ]
    },
    {
     "name": "stdout",
     "output_type": "stream",
     "text": [
      "BestCad 10.0 0.2564137919664221 0.9961503744125366\n",
      "BestNuclei 10.0 0.15163452691173193 0.9995699524879456\n"
     ]
    },
    {
     "name": "stderr",
     "output_type": "stream",
     "text": [
      "\r",
      " 48%|███████████████████████████████████████████████████████████████████████████████████▌                                                                                          | 12/25 [00:45<00:49,  3.80s/it]"
     ]
    },
    {
     "name": "stdout",
     "output_type": "stream",
     "text": [
      "BestCad 11.0 0.36577535817022655 0.9932827949523926\n",
      "BestNuclei 11.0 0.23438536824629297 0.9999327063560486\n"
     ]
    },
    {
     "name": "stderr",
     "output_type": "stream",
     "text": [
      "\r",
      " 52%|██████████████████████████████████████████████████████████████████████████████████████████▍                                                                                   | 13/25 [00:49<00:44,  3.74s/it]"
     ]
    },
    {
     "name": "stdout",
     "output_type": "stream",
     "text": [
      "BestCad 12.0 0.4335563907569105 0.9946938753128052\n",
      "BestNuclei 12.0 0.31530137275392917 0.9999510645866394\n"
     ]
    },
    {
     "name": "stderr",
     "output_type": "stream",
     "text": [
      "\r",
      " 56%|█████████████████████████████████████████████████████████████████████████████████████████████████▍                                                                            | 14/25 [00:53<00:40,  3.70s/it]"
     ]
    },
    {
     "name": "stdout",
     "output_type": "stream",
     "text": [
      "BestCad 13.0 0.4889486966470334 0.9906225800514221\n",
      "BestNuclei 13.0 0.43296868813437567 0.9999869465827942\n"
     ]
    },
    {
     "name": "stderr",
     "output_type": "stream",
     "text": [
      "\r",
      " 60%|████████████████████████████████████████████████████████████████████████████████████████████████████████▍                                                                     | 15/25 [00:56<00:36,  3.68s/it]"
     ]
    },
    {
     "name": "stdout",
     "output_type": "stream",
     "text": [
      "BestCad 14.0 0.5407008518933643 0.9908239841461182\n",
      "BestNuclei 14.0 0.5390498459649583 0.9999927282333374\n"
     ]
    },
    {
     "name": "stderr",
     "output_type": "stream",
     "text": [
      "\r",
      " 64%|███████████████████████████████████████████████████████████████████████████████████████████████████████████████▎                                                              | 16/25 [01:00<00:32,  3.63s/it]"
     ]
    },
    {
     "name": "stdout",
     "output_type": "stream",
     "text": [
      "BestCad 15.0 0.483633464239756 0.9944961071014404\n",
      "BestNuclei 15.0 0.5832164563859502 0.9999924898147583\n"
     ]
    },
    {
     "name": "stderr",
     "output_type": "stream",
     "text": [
      "\r",
      " 68%|██████████████████████████████████████████████████████████████████████████████████████████████████████████████████████▎                                                       | 17/25 [01:03<00:28,  3.61s/it]"
     ]
    },
    {
     "name": "stdout",
     "output_type": "stream",
     "text": [
      "BestCad 16.0 0.5544192594883814 0.9964991807937622\n",
      "BestNuclei 16.0 0.656522846578256 0.9999971389770508\n"
     ]
    },
    {
     "name": "stderr",
     "output_type": "stream",
     "text": [
      "\r",
      " 72%|█████████████████████████████████████████████████████████████████████████████████████████████████████████████████████████████▎                                                | 18/25 [01:07<00:24,  3.57s/it]"
     ]
    },
    {
     "name": "stdout",
     "output_type": "stream",
     "text": [
      "BestCad 17.0 0.525608466140875 0.9964497685432434\n",
      "BestNuclei 17.0 0.7185823608934879 0.9999984502792358\n"
     ]
    },
    {
     "name": "stderr",
     "output_type": "stream",
     "text": [
      "\r",
      " 76%|████████████████████████████████████████████████████████████████████████████████████████████████████████████████████████████████████▏                                         | 19/25 [01:10<00:21,  3.53s/it]"
     ]
    },
    {
     "name": "stdout",
     "output_type": "stream",
     "text": [
      "BestCad 18.0 0.5106476522546256 0.9953426122665405\n",
      "BestNuclei 18.0 0.8060957477851347 0.999998927116394\n"
     ]
    },
    {
     "name": "stderr",
     "output_type": "stream",
     "text": [
      "\r",
      " 80%|███████████████████████████████████████████████████████████████████████████████████████████████████████████████████████████████████████████▏                                  | 20/25 [01:14<00:17,  3.51s/it]"
     ]
    },
    {
     "name": "stdout",
     "output_type": "stream",
     "text": [
      "BestCad 19.0 0.47499017398357474 0.9916952252388\n",
      "BestNuclei 19.0 0.8034276881565651 0.9999995231628418\n"
     ]
    },
    {
     "name": "stderr",
     "output_type": "stream",
     "text": [
      "\r",
      " 84%|██████████████████████████████████████████████████████████████████████████████████████████████████████████████████████████████████████████████████▏                           | 21/25 [01:17<00:14,  3.52s/it]"
     ]
    },
    {
     "name": "stdout",
     "output_type": "stream",
     "text": [
      "BestCad 20.0 0.1714462583294831 0.8096263408660889\n",
      "BestNuclei 20.0 0.9954461693763733 0.9999992847442627\n"
     ]
    },
    {
     "name": "stderr",
     "output_type": "stream",
     "text": [
      "\r",
      " 88%|█████████████████████████████████████████████████████████████████████████████████████████████████████████████████████████████████████████████████████████                     | 22/25 [01:21<00:10,  3.53s/it]"
     ]
    },
    {
     "name": "stdout",
     "output_type": "stream",
     "text": [
      "BestCad 21.0 0.13353938597720116 0.7306306958198547\n",
      "BestNuclei 21.0 0.997192629005598 0.9999992847442627\n"
     ]
    },
    {
     "name": "stderr",
     "output_type": "stream",
     "text": [
      "100%|██████████████████████████████████████████████████████████████████████████████████████████████████████████████████████████████████████████████████████████████████████████████| 25/25 [01:24<00:00,  3.39s/it]"
     ]
    },
    {
     "name": "stdout",
     "output_type": "stream",
     "text": [
      "BestCad 22.0 0.1472280164737077 0.7463025450706482\n",
      "BestNuclei 22.0 0.9943811446428299 0.9999995827674866\n"
     ]
    },
    {
     "name": "stderr",
     "output_type": "stream",
     "text": [
      "\n"
     ]
    },
    {
     "name": "stdout",
     "output_type": "stream",
     "text": [
      "Detecting focus planes in 210629_Erk_Kate_His_mov1_w3CSU-QUAD-561_s10_t21\n"
     ]
    },
    {
     "name": "stderr",
     "output_type": "stream",
     "text": [
      "  4%|███████                                                                                                                                                                        | 1/25 [00:04<01:51,  4.66s/it]"
     ]
    },
    {
     "name": "stdout",
     "output_type": "stream",
     "text": [
      "BestCad 0.0 0.00030333042601054806 0.004389259032905102\n",
      "BestNuclei 0.0 2.7441691702719976e-08 4.431186084730143e-07\n"
     ]
    },
    {
     "name": "stderr",
     "output_type": "stream",
     "text": [
      "\r",
      "  8%|██████████████                                                                                                                                                                 | 2/25 [00:08<01:30,  3.93s/it]"
     ]
    },
    {
     "name": "stdout",
     "output_type": "stream",
     "text": [
      "BestCad 1.0 0.0006331108654765413 0.012797719798982143\n",
      "BestNuclei 1.0 4.11875735230261e-06 8.272258855868131e-05\n"
     ]
    },
    {
     "name": "stderr",
     "output_type": "stream",
     "text": [
      "\r",
      " 12%|█████████████████████                                                                                                                                                          | 3/25 [00:11<01:22,  3.74s/it]"
     ]
    },
    {
     "name": "stdout",
     "output_type": "stream",
     "text": [
      "BestCad 2.0 0.00011702394810991055 0.0015404066070914268\n",
      "BestNuclei 2.0 2.799714728312955e-07 3.196498482793686e-06\n"
     ]
    },
    {
     "name": "stderr",
     "output_type": "stream",
     "text": [
      "\r",
      " 16%|████████████████████████████                                                                                                                                                   | 4/25 [00:14<01:15,  3.58s/it]"
     ]
    },
    {
     "name": "stdout",
     "output_type": "stream",
     "text": [
      "BestCad 3.0 0.001541498600231218 0.03344947099685669\n",
      "BestNuclei 3.0 1.243258783246133e-06 8.690409231348895e-06\n"
     ]
    },
    {
     "name": "stderr",
     "output_type": "stream",
     "text": [
      "\r",
      " 20%|███████████████████████████████████                                                                                                                                            | 5/25 [00:18<01:14,  3.73s/it]"
     ]
    },
    {
     "name": "stdout",
     "output_type": "stream",
     "text": [
      "BestCad 4.0 0.029854951083498803 0.5956588983535767\n",
      "BestNuclei 4.0 3.4108124436746126e-06 4.553520193439908e-05\n"
     ]
    },
    {
     "name": "stderr",
     "output_type": "stream",
     "text": [
      "\r",
      " 24%|██████████████████████████████████████████                                                                                                                                     | 6/25 [00:22<01:11,  3.79s/it]"
     ]
    },
    {
     "name": "stdout",
     "output_type": "stream",
     "text": [
      "BestCad 5.0 0.05911479427006707 0.9935162663459778\n",
      "BestNuclei 5.0 3.1021036369427435e-05 0.0005194625118747354\n"
     ]
    },
    {
     "name": "stderr",
     "output_type": "stream",
     "text": [
      "\r",
      " 28%|█████████████████████████████████████████████████                                                                                                                              | 7/25 [00:26<01:09,  3.88s/it]"
     ]
    },
    {
     "name": "stdout",
     "output_type": "stream",
     "text": [
      "BestCad 6.0 0.08430448490507765 0.9998561143875122\n",
      "BestNuclei 6.0 0.00021495289510402966 0.0038349414244294167\n"
     ]
    },
    {
     "name": "stderr",
     "output_type": "stream",
     "text": [
      "\r",
      " 32%|████████████████████████████████████████████████████████                                                                                                                       | 8/25 [00:31<01:07,  3.98s/it]"
     ]
    },
    {
     "name": "stdout",
     "output_type": "stream",
     "text": [
      "BestCad 7.0 0.11085256412229683 0.9992305636405945\n",
      "BestNuclei 7.0 0.00012774326882124138 0.0016059055924415588\n"
     ]
    },
    {
     "name": "stderr",
     "output_type": "stream",
     "text": [
      "\r",
      " 36%|███████████████████████████████████████████████████████████████                                                                                                                | 9/25 [00:34<01:01,  3.86s/it]"
     ]
    },
    {
     "name": "stdout",
     "output_type": "stream",
     "text": [
      "BestCad 8.0 0.2349289491581398 0.9991422891616821\n",
      "BestNuclei 8.0 0.0022765750320350637 0.03200508654117584\n"
     ]
    },
    {
     "name": "stderr",
     "output_type": "stream",
     "text": [
      "\r",
      " 40%|█████████████████████████████████████████████████████████████████████▌                                                                                                        | 10/25 [00:38<00:56,  3.78s/it]"
     ]
    },
    {
     "name": "stdout",
     "output_type": "stream",
     "text": [
      "BestCad 9.0 0.1411027817622475 0.8394370079040527\n",
      "BestNuclei 9.0 0.9501949626466503 0.9996434450149536\n"
     ]
    },
    {
     "name": "stderr",
     "output_type": "stream",
     "text": [
      "\r",
      " 44%|████████████████████████████████████████████████████████████████████████████▌                                                                                                 | 11/25 [00:41<00:52,  3.74s/it]"
     ]
    },
    {
     "name": "stdout",
     "output_type": "stream",
     "text": [
      "BestCad 10.0 0.11097398076284055 0.6423448324203491\n",
      "BestNuclei 10.0 0.9784163713455201 0.9998564720153809\n"
     ]
    },
    {
     "name": "stderr",
     "output_type": "stream",
     "text": [
      "\r",
      " 48%|███████████████████████████████████████████████████████████████████████████████████▌                                                                                          | 12/25 [00:45<00:48,  3.70s/it]"
     ]
    },
    {
     "name": "stdout",
     "output_type": "stream",
     "text": [
      "BestCad 11.0 0.1055958507614295 0.6203118562698364\n",
      "BestNuclei 11.0 0.9876598763465881 0.9999173283576965\n"
     ]
    },
    {
     "name": "stderr",
     "output_type": "stream",
     "text": [
      "\r",
      " 52%|██████████████████████████████████████████████████████████████████████████████████████████▍                                                                                   | 13/25 [00:49<00:43,  3.66s/it]"
     ]
    },
    {
     "name": "stdout",
     "output_type": "stream",
     "text": [
      "BestCad 12.0 0.1369975339418844 0.7366244196891785\n",
      "BestNuclei 12.0 0.9856388139724731 0.9999229311943054\n"
     ]
    },
    {
     "name": "stderr",
     "output_type": "stream",
     "text": [
      "\r",
      " 56%|█████████████████████████████████████████████████████████████████████████████████████████████████▍                                                                            | 14/25 [00:52<00:40,  3.64s/it]"
     ]
    },
    {
     "name": "stdout",
     "output_type": "stream",
     "text": [
      "BestCad 13.0 0.007362418718833435 0.050734855234622955\n",
      "BestNuclei 13.0 0.999032757282257 0.9999913573265076\n"
     ]
    },
    {
     "name": "stderr",
     "output_type": "stream",
     "text": [
      "\r",
      " 60%|████████████████████████████████████████████████████████████████████████████████████████████████████████▍                                                                     | 15/25 [00:56<00:36,  3.63s/it]"
     ]
    },
    {
     "name": "stdout",
     "output_type": "stream",
     "text": [
      "BestCad 14.0 0.036126531605380784 0.19972027838230133\n",
      "BestNuclei 14.0 0.9969609768494315 0.9999918341636658\n"
     ]
    },
    {
     "name": "stderr",
     "output_type": "stream",
     "text": [
      "\r",
      " 64%|███████████████████████████████████████████████████████████████████████████████████████████████████████████████▎                                                              | 16/25 [00:59<00:32,  3.60s/it]"
     ]
    },
    {
     "name": "stdout",
     "output_type": "stream",
     "text": [
      "BestCad 15.0 0.04977054898063216 0.2639680504798889\n",
      "BestNuclei 15.0 0.9965341687202454 0.9999977946281433\n"
     ]
    },
    {
     "name": "stderr",
     "output_type": "stream",
     "text": [
      "\r",
      " 68%|██████████████████████████████████████████████████████████████████████████████████████████████████████████████████████▎                                                       | 17/25 [01:03<00:28,  3.59s/it]"
     ]
    },
    {
     "name": "stdout",
     "output_type": "stream",
     "text": [
      "BestCad 16.0 0.2522012585085695 0.9622045159339905\n",
      "BestNuclei 16.0 0.9288709436853727 0.9999997019767761\n"
     ]
    },
    {
     "name": "stderr",
     "output_type": "stream",
     "text": [
      "\r",
      " 72%|█████████████████████████████████████████████████████████████████████████████████████████████████████████████████████████████▎                                                | 18/25 [01:07<00:25,  3.60s/it]"
     ]
    },
    {
     "name": "stdout",
     "output_type": "stream",
     "text": [
      "BestCad 17.0 0.24493149527115748 0.9572066068649292\n",
      "BestNuclei 17.0 0.9789328549219214 0.9999998807907104\n"
     ]
    },
    {
     "name": "stderr",
     "output_type": "stream",
     "text": [
      "\r",
      " 76%|████████████████████████████████████████████████████████████████████████████████████████████████████████████████████████████████████▏                                         | 19/25 [01:10<00:21,  3.61s/it]"
     ]
    },
    {
     "name": "stdout",
     "output_type": "stream",
     "text": [
      "BestCad 18.0 0.0014783877027777794 0.005469293333590031\n",
      "BestNuclei 18.0 0.9998970580101013 0.9999986290931702\n"
     ]
    },
    {
     "name": "stderr",
     "output_type": "stream",
     "text": [
      "\r",
      " 80%|███████████████████████████████████████████████████████████████████████████████████████████████████████████████████████████████████████████▏                                  | 20/25 [01:14<00:17,  3.60s/it]"
     ]
    },
    {
     "name": "stdout",
     "output_type": "stream",
     "text": [
      "BestCad 19.0 0.0038760047976393254 0.016500134021043777\n",
      "BestNuclei 19.0 0.9995469972491264 0.9999975562095642\n"
     ]
    },
    {
     "name": "stderr",
     "output_type": "stream",
     "text": [
      "\r",
      " 84%|██████████████████████████████████████████████████████████████████████████████████████████████████████████████████████████████████████████████████▏                           | 21/25 [01:19<00:16,  4.08s/it]"
     ]
    },
    {
     "name": "stdout",
     "output_type": "stream",
     "text": [
      "BestCad 20.0 0.005529894666930583 0.04563648998737335\n",
      "BestNuclei 20.0 0.999598343372345 0.9999986290931702\n"
     ]
    },
    {
     "name": "stderr",
     "output_type": "stream",
     "text": [
      "\r",
      " 88%|█████████████████████████████████████████████████████████████████████████████████████████████████████████████████████████████████████████████████████████                     | 22/25 [01:22<00:11,  3.92s/it]"
     ]
    },
    {
     "name": "stdout",
     "output_type": "stream",
     "text": [
      "BestCad 21.0 0.1428768527541598 0.5347253084182739\n",
      "BestNuclei 21.0 0.9893982362747192 0.9999998211860657\n"
     ]
    },
    {
     "name": "stderr",
     "output_type": "stream",
     "text": [
      "100%|██████████████████████████████████████████████████████████████████████████████████████████████████████████████████████████████████████████████████████████████████████████████| 25/25 [01:26<00:00,  3.46s/it]"
     ]
    },
    {
     "name": "stdout",
     "output_type": "stream",
     "text": [
      "BestCad 22.0 0.20507565754550425 0.8104245066642761\n",
      "BestNuclei 22.0 0.9858546386594358 0.9999997615814209\n"
     ]
    },
    {
     "name": "stderr",
     "output_type": "stream",
     "text": [
      "\n"
     ]
    },
    {
     "name": "stdout",
     "output_type": "stream",
     "text": [
      "Detecting focus planes in 210629_Erk_Kate_His_mov1_w3CSU-QUAD-561_s9_t13\n"
     ]
    },
    {
     "name": "stderr",
     "output_type": "stream",
     "text": [
      "  4%|███████                                                                                                                                                                        | 1/25 [00:04<01:52,  4.70s/it]"
     ]
    },
    {
     "name": "stdout",
     "output_type": "stream",
     "text": [
      "BestCad 0.0 0.0035399380824129444 0.08128471672534943\n",
      "BestNuclei 0.0 1.6398991283737713e-05 0.0003603808581829071\n"
     ]
    },
    {
     "name": "stderr",
     "output_type": "stream",
     "text": [
      "\r",
      "  8%|██████████████                                                                                                                                                                 | 2/25 [00:08<01:32,  4.01s/it]"
     ]
    },
    {
     "name": "stdout",
     "output_type": "stream",
     "text": [
      "BestCad 1.0 0.02934959376355978 0.6456320285797119\n",
      "BestNuclei 1.0 1.1775342226047119e-06 2.6950980100082234e-05\n"
     ]
    },
    {
     "name": "stderr",
     "output_type": "stream",
     "text": [
      "\r",
      " 12%|█████████████████████                                                                                                                                                          | 3/25 [00:11<01:22,  3.74s/it]"
     ]
    },
    {
     "name": "stdout",
     "output_type": "stream",
     "text": [
      "BestCad 2.0 0.04165611374250607 0.9988908171653748\n",
      "BestNuclei 2.0 8.661035737043892e-07 1.6390946257160977e-05\n"
     ]
    },
    {
     "name": "stderr",
     "output_type": "stream",
     "text": [
      "\r",
      " 16%|████████████████████████████                                                                                                                                                   | 4/25 [00:15<01:17,  3.67s/it]"
     ]
    },
    {
     "name": "stdout",
     "output_type": "stream",
     "text": [
      "BestCad 3.0 0.051144151264305944 0.9999071359634399\n",
      "BestNuclei 3.0 1.5816364545375463e-05 0.0003740208630915731\n"
     ]
    },
    {
     "name": "stderr",
     "output_type": "stream",
     "text": [
      "\r",
      " 20%|███████████████████████████████████                                                                                                                                            | 5/25 [00:18<01:14,  3.70s/it]"
     ]
    },
    {
     "name": "stdout",
     "output_type": "stream",
     "text": [
      "BestCad 4.0 0.10439719233478624 0.9998928904533386\n",
      "BestNuclei 4.0 6.598799347112354e-05 0.0013203972484916449\n"
     ]
    },
    {
     "name": "stderr",
     "output_type": "stream",
     "text": [
      "\r",
      " 24%|██████████████████████████████████████████                                                                                                                                     | 6/25 [00:22<01:12,  3.80s/it]"
     ]
    },
    {
     "name": "stdout",
     "output_type": "stream",
     "text": [
      "BestCad 5.0 0.1501504343809709 0.9991796016693115\n",
      "BestNuclei 5.0 7.15429391773777e-05 0.0013285710010677576\n"
     ]
    },
    {
     "name": "stderr",
     "output_type": "stream",
     "text": [
      "\r",
      " 28%|█████████████████████████████████████████████████                                                                                                                              | 7/25 [00:26<01:08,  3.82s/it]"
     ]
    },
    {
     "name": "stdout",
     "output_type": "stream",
     "text": [
      "BestCad 6.0 0.22800467296945665 0.9975550770759583\n",
      "BestNuclei 6.0 0.00031108566929916037 0.003645135322585702\n"
     ]
    },
    {
     "name": "stderr",
     "output_type": "stream",
     "text": [
      "\r",
      " 32%|████████████████████████████████████████████████████████                                                                                                                       | 8/25 [00:30<01:05,  3.83s/it]"
     ]
    },
    {
     "name": "stdout",
     "output_type": "stream",
     "text": [
      "BestCad 7.0 0.26260072868641754 0.9990489482879639\n",
      "BestNuclei 7.0 0.0020465002114398168 0.029161132872104645\n"
     ]
    },
    {
     "name": "stderr",
     "output_type": "stream",
     "text": [
      "\r",
      " 36%|███████████████████████████████████████████████████████████████                                                                                                                | 9/25 [00:34<01:01,  3.83s/it]"
     ]
    },
    {
     "name": "stdout",
     "output_type": "stream",
     "text": [
      "BestCad 8.0 0.3161844858257847 0.999303936958313\n",
      "BestNuclei 8.0 0.06220320607176311 0.8257967829704285\n"
     ]
    },
    {
     "name": "stderr",
     "output_type": "stream",
     "text": [
      "\r",
      " 40%|█████████████████████████████████████████████████████████████████████▌                                                                                                        | 10/25 [00:38<00:56,  3.76s/it]"
     ]
    },
    {
     "name": "stdout",
     "output_type": "stream",
     "text": [
      "BestCad 9.0 0.4011666493897792 0.9995592832565308\n",
      "BestNuclei 9.0 0.09073193600539382 0.9988008141517639\n"
     ]
    },
    {
     "name": "stderr",
     "output_type": "stream",
     "text": [
      "\r",
      " 44%|████████████████████████████████████████████████████████████████████████████▌                                                                                                 | 11/25 [00:41<00:52,  3.72s/it]"
     ]
    },
    {
     "name": "stdout",
     "output_type": "stream",
     "text": [
      "BestCad 10.0 0.4773040497798913 0.9995088577270508\n",
      "BestNuclei 10.0 0.12745521430498122 0.9999909400939941\n"
     ]
    },
    {
     "name": "stderr",
     "output_type": "stream",
     "text": [
      "\r",
      " 48%|███████████████████████████████████████████████████████████████████████████████████▌                                                                                          | 12/25 [00:45<00:47,  3.68s/it]"
     ]
    },
    {
     "name": "stdout",
     "output_type": "stream",
     "text": [
      "BestCad 11.0 0.5514125762002431 0.9993983507156372\n",
      "BestNuclei 11.0 0.2446621570060472 0.9999994039535522\n"
     ]
    },
    {
     "name": "stderr",
     "output_type": "stream",
     "text": [
      "\r",
      " 52%|██████████████████████████████████████████████████████████████████████████████████████████▍                                                                                   | 13/25 [00:48<00:43,  3.65s/it]"
     ]
    },
    {
     "name": "stdout",
     "output_type": "stream",
     "text": [
      "BestCad 12.0 0.5605632942460943 0.9998435974121094\n",
      "BestNuclei 12.0 0.2934207012620102 0.9999997615814209\n"
     ]
    },
    {
     "name": "stderr",
     "output_type": "stream",
     "text": [
      "\r",
      " 56%|█████████████████████████████████████████████████████████████████████████████████████████████████▍                                                                            | 14/25 [00:54<00:45,  4.14s/it]"
     ]
    },
    {
     "name": "stdout",
     "output_type": "stream",
     "text": [
      "BestCad 13.0 0.6083871193578012 0.9997230768203735\n",
      "BestNuclei 13.0 0.37878596990010854 1.0\n"
     ]
    },
    {
     "name": "stderr",
     "output_type": "stream",
     "text": [
      "\r",
      " 60%|████████████████████████████████████████████████████████████████████████████████████████████████████████▍                                                                     | 15/25 [00:57<00:39,  3.91s/it]"
     ]
    },
    {
     "name": "stdout",
     "output_type": "stream",
     "text": [
      "BestCad 14.0 0.5905405822374054 0.9992607235908508\n",
      "BestNuclei 14.0 0.4336101993815191 0.9999998211860657\n"
     ]
    },
    {
     "name": "stderr",
     "output_type": "stream",
     "text": [
      "\r",
      " 64%|███████████████████████████████████████████████████████████████████████████████████████████████████████████████▎                                                              | 16/25 [01:01<00:34,  3.81s/it]"
     ]
    },
    {
     "name": "stdout",
     "output_type": "stream",
     "text": [
      "BestCad 15.0 0.58387659676373 0.9957385063171387\n",
      "BestNuclei 15.0 0.5135410428256728 0.999997615814209\n"
     ]
    },
    {
     "name": "stderr",
     "output_type": "stream",
     "text": [
      "\r",
      " 68%|██████████████████████████████████████████████████████████████████████████████████████████████████████████████████████▎                                                       | 17/25 [01:04<00:29,  3.74s/it]"
     ]
    },
    {
     "name": "stdout",
     "output_type": "stream",
     "text": [
      "BestCad 16.0 0.2663885426312766 0.9096202850341797\n",
      "BestNuclei 16.0 0.9333940485249395 0.9999868869781494\n"
     ]
    },
    {
     "name": "stderr",
     "output_type": "stream",
     "text": [
      "\r",
      " 72%|█████████████████████████████████████████████████████████████████████████████████████████████████████████████████████████████▎                                                | 18/25 [01:08<00:25,  3.69s/it]"
     ]
    },
    {
     "name": "stdout",
     "output_type": "stream",
     "text": [
      "BestCad 17.0 0.30765822530374864 0.9386416077613831\n",
      "BestNuclei 17.0 0.9447624298433462 0.9999887347221375\n"
     ]
    },
    {
     "name": "stderr",
     "output_type": "stream",
     "text": [
      "\r",
      " 76%|████████████████████████████████████████████████████████████████████████████████████████████████████████████████████████████████████▏                                         | 19/25 [01:11<00:21,  3.66s/it]"
     ]
    },
    {
     "name": "stdout",
     "output_type": "stream",
     "text": [
      "BestCad 18.0 0.198191745316546 0.8310599327087402\n",
      "BestNuclei 18.0 0.9758825277288755 0.999993622303009\n"
     ]
    },
    {
     "name": "stderr",
     "output_type": "stream",
     "text": [
      "\r",
      " 80%|███████████████████████████████████████████████████████████████████████████████████████████████████████████████████████████████████████████▏                                  | 20/25 [01:15<00:18,  3.62s/it]"
     ]
    },
    {
     "name": "stdout",
     "output_type": "stream",
     "text": [
      "BestCad 19.0 0.3084367958852619 0.9614189863204956\n",
      "BestNuclei 19.0 0.9459407329559326 0.9999979138374329\n"
     ]
    },
    {
     "name": "stderr",
     "output_type": "stream",
     "text": [
      "\r",
      " 84%|██████████████████████████████████████████████████████████████████████████████████████████████████████████████████████████████████████████████████▏                           | 21/25 [01:18<00:14,  3.53s/it]"
     ]
    },
    {
     "name": "stdout",
     "output_type": "stream",
     "text": [
      "BestCad 20.0 0.5738813546241114 0.9957350492477417\n",
      "BestNuclei 20.0 0.6572038477725073 0.9999998807907104\n"
     ]
    },
    {
     "name": "stderr",
     "output_type": "stream",
     "text": [
      "\r",
      " 88%|█████████████████████████████████████████████████████████████████████████████████████████████████████████████████████████████████████████████████████████                     | 22/25 [01:21<00:10,  3.45s/it]"
     ]
    },
    {
     "name": "stdout",
     "output_type": "stream",
     "text": [
      "BestCad 21.0 0.5159138573668315 0.9981417655944824\n",
      "BestNuclei 21.0 0.7225261168554425 0.9999997615814209\n"
     ]
    },
    {
     "name": "stderr",
     "output_type": "stream",
     "text": [
      "100%|██████████████████████████████████████████████████████████████████████████████████████████████████████████████████████████████████████████████████████████████████████████████| 25/25 [01:25<00:00,  3.41s/it]"
     ]
    },
    {
     "name": "stdout",
     "output_type": "stream",
     "text": [
      "BestCad 22.0 0.56361948705744 0.9979531764984131\n",
      "BestNuclei 22.0 0.771562528386712 0.9999994039535522\n"
     ]
    },
    {
     "name": "stderr",
     "output_type": "stream",
     "text": [
      "\n"
     ]
    },
    {
     "name": "stdout",
     "output_type": "stream",
     "text": [
      "Detecting focus planes in 210629_Erk_Kate_His_mov1_w3CSU-QUAD-561_s4_t31\n"
     ]
    },
    {
     "name": "stderr",
     "output_type": "stream",
     "text": [
      "  4%|███████                                                                                                                                                                        | 1/25 [00:04<01:47,  4.48s/it]"
     ]
    },
    {
     "name": "stdout",
     "output_type": "stream",
     "text": [
      "BestCad 0.0 5.056690196562834e-05 0.0003417300176806748\n",
      "BestNuclei 0.0 6.284968309086346e-10 3.485308042172619e-09\n"
     ]
    },
    {
     "name": "stderr",
     "output_type": "stream",
     "text": [
      "\r",
      "  8%|██████████████                                                                                                                                                                 | 2/25 [00:07<01:28,  3.85s/it]"
     ]
    },
    {
     "name": "stdout",
     "output_type": "stream",
     "text": [
      "BestCad 1.0 2.7401568471222245e-05 0.00018735643243417144\n",
      "BestNuclei 1.0 1.016249743253042e-09 6.172892419442633e-09\n"
     ]
    },
    {
     "name": "stderr",
     "output_type": "stream",
     "text": [
      "\r",
      " 12%|█████████████████████                                                                                                                                                          | 3/25 [00:11<01:18,  3.55s/it]"
     ]
    },
    {
     "name": "stdout",
     "output_type": "stream",
     "text": [
      "BestCad 2.0 2.2087511913588586e-05 0.00017219004803337157\n",
      "BestNuclei 2.0 1.6242534767695049e-09 2.0013676049757123e-08\n"
     ]
    },
    {
     "name": "stderr",
     "output_type": "stream",
     "text": [
      "\r",
      " 16%|████████████████████████████                                                                                                                                                   | 4/25 [00:14<01:13,  3.49s/it]"
     ]
    },
    {
     "name": "stdout",
     "output_type": "stream",
     "text": [
      "BestCad 3.0 0.0047583223293088395 0.09462940692901611\n",
      "BestNuclei 3.0 9.16852281065278e-08 1.8143334727938054e-06\n"
     ]
    },
    {
     "name": "stderr",
     "output_type": "stream",
     "text": [
      "\r",
      " 20%|███████████████████████████████████                                                                                                                                            | 5/25 [00:17<01:09,  3.49s/it]"
     ]
    },
    {
     "name": "stdout",
     "output_type": "stream",
     "text": [
      "BestCad 4.0 0.04739196115032146 0.993730366230011\n",
      "BestNuclei 4.0 5.509167188517597e-06 0.000115538714453578\n"
     ]
    },
    {
     "name": "stderr",
     "output_type": "stream",
     "text": [
      "\r",
      " 24%|██████████████████████████████████████████                                                                                                                                     | 6/25 [00:22<01:09,  3.68s/it]"
     ]
    },
    {
     "name": "stdout",
     "output_type": "stream",
     "text": [
      "BestCad 5.0 0.06979109062242135 0.9996262788772583\n",
      "BestNuclei 5.0 2.7762847761128123e-05 0.0006374184740707278\n"
     ]
    },
    {
     "name": "stderr",
     "output_type": "stream",
     "text": [
      "\r",
      " 28%|█████████████████████████████████████████████████                                                                                                                              | 7/25 [00:26<01:08,  3.79s/it]"
     ]
    },
    {
     "name": "stdout",
     "output_type": "stream",
     "text": [
      "BestCad 6.0 0.16272657978205038 0.9999523162841797\n",
      "BestNuclei 6.0 1.560455054774747e-05 0.0001563831465318799\n"
     ]
    },
    {
     "name": "stderr",
     "output_type": "stream",
     "text": [
      "\r",
      " 32%|████████████████████████████████████████████████████████                                                                                                                       | 8/25 [00:31<01:14,  4.40s/it]"
     ]
    },
    {
     "name": "stdout",
     "output_type": "stream",
     "text": [
      "BestCad 7.0 0.2386569762127633 0.9999945163726807\n",
      "BestNuclei 7.0 7.273615028495621e-05 0.0010567677672952414\n"
     ]
    },
    {
     "name": "stderr",
     "output_type": "stream",
     "text": [
      "\r",
      " 36%|███████████████████████████████████████████████████████████████                                                                                                                | 9/25 [00:35<01:09,  4.33s/it]"
     ]
    },
    {
     "name": "stdout",
     "output_type": "stream",
     "text": [
      "BestCad 8.0 0.2979044745519968 0.9999943971633911\n",
      "BestNuclei 8.0 0.0018982779099836777 0.045837659388780594\n"
     ]
    },
    {
     "name": "stderr",
     "output_type": "stream",
     "text": [
      "\r",
      " 40%|█████████████████████████████████████████████████████████████████████▌                                                                                                        | 10/25 [00:40<01:04,  4.27s/it]"
     ]
    },
    {
     "name": "stdout",
     "output_type": "stream",
     "text": [
      "BestCad 9.0 0.38168865894013276 0.9999891519546509\n",
      "BestNuclei 9.0 0.03794807018617157 0.9068530797958374\n"
     ]
    },
    {
     "name": "stderr",
     "output_type": "stream",
     "text": [
      "\r",
      " 44%|████████████████████████████████████████████████████████████████████████████▌                                                                                                 | 11/25 [00:43<00:58,  4.16s/it]"
     ]
    },
    {
     "name": "stdout",
     "output_type": "stream",
     "text": [
      "BestCad 10.0 0.5370127786736703 0.999992311000824\n",
      "BestNuclei 10.0 0.04289469137753166 0.9883792996406555\n"
     ]
    },
    {
     "name": "stderr",
     "output_type": "stream",
     "text": [
      "\r",
      " 48%|███████████████████████████████████████████████████████████████████████████████████▌                                                                                          | 12/25 [00:47<00:52,  4.07s/it]"
     ]
    },
    {
     "name": "stdout",
     "output_type": "stream",
     "text": [
      "BestCad 11.0 0.7882320548853149 0.9999891519546509\n",
      "BestNuclei 11.0 0.0699034195117747 0.9985241889953613\n"
     ]
    },
    {
     "name": "stderr",
     "output_type": "stream",
     "text": [
      "\r",
      " 52%|██████████████████████████████████████████████████████████████████████████████████████████▍                                                                                   | 13/25 [00:51<00:47,  3.97s/it]"
     ]
    },
    {
     "name": "stdout",
     "output_type": "stream",
     "text": [
      "BestCad 12.0 0.8837123246242603 0.9999849200248718\n",
      "BestNuclei 12.0 0.20265958115275376 0.9997779130935669\n"
     ]
    },
    {
     "name": "stderr",
     "output_type": "stream",
     "text": [
      "\r",
      " 56%|█████████████████████████████████████████████████████████████████████████████████████████████████▍                                                                            | 14/25 [00:55<00:42,  3.88s/it]"
     ]
    },
    {
     "name": "stdout",
     "output_type": "stream",
     "text": [
      "BestCad 13.0 0.9229216547239394 0.9999598860740662\n",
      "BestNuclei 13.0 0.31787445326684977 0.9999104142189026\n"
     ]
    },
    {
     "name": "stderr",
     "output_type": "stream",
     "text": [
      "\r",
      " 60%|████████████████████████████████████████████████████████████████████████████████████████████████████████▍                                                                     | 15/25 [00:58<00:38,  3.83s/it]"
     ]
    },
    {
     "name": "stdout",
     "output_type": "stream",
     "text": [
      "BestCad 14.0 0.9141043491823517 0.9999942779541016\n",
      "BestNuclei 14.0 0.4934877336054342 0.9999772906303406\n"
     ]
    },
    {
     "name": "stderr",
     "output_type": "stream",
     "text": [
      "\r",
      " 64%|███████████████████████████████████████████████████████████████████████████████████████████████████████████████▎                                                              | 16/25 [01:02<00:34,  3.80s/it]"
     ]
    },
    {
     "name": "stdout",
     "output_type": "stream",
     "text": [
      "BestCad 15.0 0.7924146667144669 0.9993349313735962\n",
      "BestNuclei 15.0 0.6903882088698446 0.999973714351654\n"
     ]
    },
    {
     "name": "stderr",
     "output_type": "stream",
     "text": [
      "\r",
      " 68%|██████████████████████████████████████████████████████████████████████████████████████████████████████████████████████▎                                                       | 17/25 [01:06<00:30,  3.75s/it]"
     ]
    },
    {
     "name": "stdout",
     "output_type": "stream",
     "text": [
      "BestCad 16.0 0.7879472766304388 0.9950945377349854\n",
      "BestNuclei 16.0 0.7251570976298788 0.9999905824661255\n"
     ]
    },
    {
     "name": "stderr",
     "output_type": "stream",
     "text": [
      "\r",
      " 72%|█████████████████████████████████████████████████████████████████████████████████████████████████████████████████████████████▎                                                | 18/25 [01:10<00:26,  3.74s/it]"
     ]
    },
    {
     "name": "stdout",
     "output_type": "stream",
     "text": [
      "BestCad 17.0 0.6644321868772662 0.9834333658218384\n",
      "BestNuclei 17.0 0.7433538435027003 0.999998152256012\n"
     ]
    },
    {
     "name": "stderr",
     "output_type": "stream",
     "text": [
      "\r",
      " 76%|████████████████████████████████████████████████████████████████████████████████████████████████████████████████████████████████████▏                                         | 19/25 [01:13<00:22,  3.67s/it]"
     ]
    },
    {
     "name": "stdout",
     "output_type": "stream",
     "text": [
      "BestCad 18.0 0.5342189593398611 0.9892824292182922\n",
      "BestNuclei 18.0 0.7715433259373126 0.9999995231628418\n"
     ]
    },
    {
     "name": "stderr",
     "output_type": "stream",
     "text": [
      "\r",
      " 80%|███████████████████████████████████████████████████████████████████████████████████████████████████████████████████████████████████████████▏                                  | 20/25 [01:16<00:18,  3.60s/it]"
     ]
    },
    {
     "name": "stdout",
     "output_type": "stream",
     "text": [
      "BestCad 19.0 0.020381200501058055 0.1102624386548996\n",
      "BestNuclei 19.0 0.9991256052797491 0.9999986290931702\n"
     ]
    },
    {
     "name": "stderr",
     "output_type": "stream",
     "text": [
      "\r",
      " 84%|██████████████████████████████████████████████████████████████████████████████████████████████████████████████████████████████████████████████████▏                           | 21/25 [01:20<00:14,  3.57s/it]"
     ]
    },
    {
     "name": "stdout",
     "output_type": "stream",
     "text": [
      "BestCad 20.0 0.001392424049429662 0.010338506661355495\n",
      "BestNuclei 20.0 0.9999157761534055 0.9999973773956299\n"
     ]
    },
    {
     "name": "stderr",
     "output_type": "stream",
     "text": [
      "\r",
      " 88%|█████████████████████████████████████████████████████████████████████████████████████████████████████████████████████████████████████████████████████████                     | 22/25 [01:23<00:10,  3.54s/it]"
     ]
    },
    {
     "name": "stdout",
     "output_type": "stream",
     "text": [
      "BestCad 21.0 0.00045649287794317803 0.0023047938011586666\n",
      "BestNuclei 21.0 0.9999641751249632 0.9999991059303284\n"
     ]
    },
    {
     "name": "stderr",
     "output_type": "stream",
     "text": [
      "100%|██████████████████████████████████████████████████████████████████████████████████████████████████████████████████████████████████████████████████████████████████████████████| 25/25 [01:27<00:00,  3.51s/it]"
     ]
    },
    {
     "name": "stdout",
     "output_type": "stream",
     "text": [
      "BestCad 22.0 0.00014101617150365863 0.0007529683061875403\n",
      "BestNuclei 22.0 0.9999866038560867 0.9999997019767761\n"
     ]
    },
    {
     "name": "stderr",
     "output_type": "stream",
     "text": [
      "\n"
     ]
    },
    {
     "name": "stdout",
     "output_type": "stream",
     "text": [
      "Detecting focus planes in 210629_Erk_Kate_His_mov1_w1CSU-QUAD-561_s10_t24\n"
     ]
    },
    {
     "name": "stderr",
     "output_type": "stream",
     "text": [
      "  4%|███████                                                                                                                                                                        | 1/25 [00:04<01:49,  4.56s/it]"
     ]
    },
    {
     "name": "stdout",
     "output_type": "stream",
     "text": [
      "BestCad 0.0 0.30938195007266506 0.9993641376495361\n",
      "BestNuclei 0.0 0.014620103783605913 0.21610930562019348\n"
     ]
    },
    {
     "name": "stderr",
     "output_type": "stream",
     "text": [
      "\r",
      "  8%|██████████████                                                                                                                                                                 | 2/25 [00:09<01:50,  4.80s/it]"
     ]
    },
    {
     "name": "stdout",
     "output_type": "stream",
     "text": [
      "BestCad 1.0 0.2777097201985519 0.9992935061454773\n",
      "BestNuclei 1.0 0.029369083938005604 0.4784390926361084\n"
     ]
    },
    {
     "name": "stderr",
     "output_type": "stream",
     "text": [
      "\r",
      " 12%|█████████████████████                                                                                                                                                          | 3/25 [00:13<01:32,  4.21s/it]"
     ]
    },
    {
     "name": "stdout",
     "output_type": "stream",
     "text": [
      "BestCad 2.0 0.38352222033047484 0.9969475865364075\n",
      "BestNuclei 2.0 0.15145147975904957 0.918708086013794\n"
     ]
    },
    {
     "name": "stderr",
     "output_type": "stream",
     "text": [
      "\r",
      " 16%|████████████████████████████                                                                                                                                                   | 4/25 [00:16<01:21,  3.89s/it]"
     ]
    },
    {
     "name": "stdout",
     "output_type": "stream",
     "text": [
      "BestCad 3.0 0.3434089968601863 0.9971253275871277\n",
      "BestNuclei 3.0 0.09575698309762712 0.9880600571632385\n"
     ]
    },
    {
     "name": "stderr",
     "output_type": "stream",
     "text": [
      "\r",
      " 20%|███████████████████████████████████                                                                                                                                            | 5/25 [00:20<01:15,  3.79s/it]"
     ]
    },
    {
     "name": "stdout",
     "output_type": "stream",
     "text": [
      "BestCad 4.0 0.452943056783018 0.9969390034675598\n",
      "BestNuclei 4.0 0.13289591971996825 0.999754786491394\n"
     ]
    },
    {
     "name": "stderr",
     "output_type": "stream",
     "text": [
      "\r",
      " 24%|██████████████████████████████████████████                                                                                                                                     | 6/25 [00:23<01:09,  3.67s/it]"
     ]
    },
    {
     "name": "stdout",
     "output_type": "stream",
     "text": [
      "BestCad 5.0 0.5107650629285237 0.9954142570495605\n",
      "BestNuclei 5.0 0.22400681915496534 0.9999867081642151\n"
     ]
    },
    {
     "name": "stderr",
     "output_type": "stream",
     "text": [
      "\r",
      " 28%|█████████████████████████████████████████████████                                                                                                                              | 7/25 [00:26<01:05,  3.62s/it]"
     ]
    },
    {
     "name": "stdout",
     "output_type": "stream",
     "text": [
      "BestCad 6.0 0.631203848191283 0.9859750270843506\n",
      "BestNuclei 6.0 0.5580387853128328 0.9999980926513672\n"
     ]
    },
    {
     "name": "stderr",
     "output_type": "stream",
     "text": [
      "\r",
      " 32%|████████████████████████████████████████████████████████                                                                                                                       | 8/25 [00:30<01:00,  3.56s/it]"
     ]
    },
    {
     "name": "stdout",
     "output_type": "stream",
     "text": [
      "BestCad 7.0 0.5897995921499704 0.9939132928848267\n",
      "BestNuclei 7.0 0.34242931017006806 0.9999998807907104\n"
     ]
    },
    {
     "name": "stderr",
     "output_type": "stream",
     "text": [
      "\r",
      " 36%|███████████████████████████████████████████████████████████████                                                                                                                | 9/25 [00:33<00:56,  3.53s/it]"
     ]
    },
    {
     "name": "stdout",
     "output_type": "stream",
     "text": [
      "BestCad 8.0 0.5950601974671538 0.9890280961990356\n",
      "BestNuclei 8.0 0.5017920464793544 0.9999997615814209\n"
     ]
    },
    {
     "name": "stderr",
     "output_type": "stream",
     "text": [
      "\r",
      " 40%|█████████████████████████████████████████████████████████████████████▌                                                                                                        | 10/25 [00:37<00:52,  3.51s/it]"
     ]
    },
    {
     "name": "stdout",
     "output_type": "stream",
     "text": [
      "BestCad 9.0 0.5551230927775032 0.9908004999160767\n",
      "BestNuclei 9.0 0.6005811697210778 0.9999997615814209\n"
     ]
    },
    {
     "name": "stderr",
     "output_type": "stream",
     "text": [
      "\r",
      " 44%|████████████████████████████████████████████████████████████████████████████▌                                                                                                 | 11/25 [00:40<00:48,  3.49s/it]"
     ]
    },
    {
     "name": "stdout",
     "output_type": "stream",
     "text": [
      "BestCad 10.0 0.47414893150804954 0.982893705368042\n",
      "BestNuclei 10.0 0.7907015811651945 0.9999997615814209\n"
     ]
    },
    {
     "name": "stderr",
     "output_type": "stream",
     "text": [
      "\r",
      " 48%|███████████████████████████████████████████████████████████████████████████████████▌                                                                                          | 12/25 [00:44<00:45,  3.48s/it]"
     ]
    },
    {
     "name": "stdout",
     "output_type": "stream",
     "text": [
      "BestCad 11.0 0.46183557240641676 0.9942066669464111\n",
      "BestNuclei 11.0 0.6746603642762542 1.0\n"
     ]
    },
    {
     "name": "stderr",
     "output_type": "stream",
     "text": [
      "\r",
      " 52%|██████████████████████████████████████████████████████████████████████████████████████████▍                                                                                   | 13/25 [00:47<00:41,  3.45s/it]"
     ]
    },
    {
     "name": "stdout",
     "output_type": "stream",
     "text": [
      "BestCad 12.0 0.5512138589190065 0.9928998947143555\n",
      "BestNuclei 12.0 0.6052790425591925 1.0\n"
     ]
    },
    {
     "name": "stderr",
     "output_type": "stream",
     "text": [
      "\r",
      " 56%|█████████████████████████████████████████████████████████████████████████████████████████████████▍                                                                            | 14/25 [00:51<00:37,  3.43s/it]"
     ]
    },
    {
     "name": "stdout",
     "output_type": "stream",
     "text": [
      "BestCad 13.0 0.5632377220095978 0.9923756718635559\n",
      "BestNuclei 13.0 0.6512295150120432 1.0\n"
     ]
    },
    {
     "name": "stderr",
     "output_type": "stream",
     "text": [
      "\r",
      " 60%|████████████████████████████████████████████████████████████████████████████████████████████████████████▍                                                                     | 15/25 [00:54<00:33,  3.39s/it]"
     ]
    },
    {
     "name": "stdout",
     "output_type": "stream",
     "text": [
      "BestCad 14.0 0.5196502661332488 0.9900375604629517\n",
      "BestNuclei 14.0 0.7767001676203852 0.9999999403953552\n"
     ]
    },
    {
     "name": "stderr",
     "output_type": "stream",
     "text": [
      "\r",
      " 64%|███████████████████████████████████████████████████████████████████████████████████████████████████████████████▎                                                              | 16/25 [00:57<00:30,  3.37s/it]"
     ]
    },
    {
     "name": "stdout",
     "output_type": "stream",
     "text": [
      "BestCad 15.0 0.5303741014542301 0.9898103475570679\n",
      "BestNuclei 15.0 0.7481215785850178 0.9999999403953552\n"
     ]
    },
    {
     "name": "stderr",
     "output_type": "stream",
     "text": [
      "\r",
      " 68%|██████████████████████████████████████████████████████████████████████████████████████████████████████████████████████▎                                                       | 17/25 [01:00<00:26,  3.34s/it]"
     ]
    },
    {
     "name": "stdout",
     "output_type": "stream",
     "text": [
      "BestCad 16.0 0.49803998480950085 0.9903941750526428\n",
      "BestNuclei 16.0 0.8248152435291558 0.9999997615814209\n"
     ]
    },
    {
     "name": "stderr",
     "output_type": "stream",
     "text": [
      "\r",
      " 72%|█████████████████████████████████████████████████████████████████████████████████████████████████████████████████████████████▎                                                | 18/25 [01:04<00:23,  3.34s/it]"
     ]
    },
    {
     "name": "stdout",
     "output_type": "stream",
     "text": [
      "BestCad 17.0 0.3836601009507748 0.973408579826355\n",
      "BestNuclei 17.0 0.9267543515433436 0.999994695186615\n"
     ]
    },
    {
     "name": "stderr",
     "output_type": "stream",
     "text": [
      "\r",
      " 76%|████████████████████████████████████████████████████████████████████████████████████████████████████████████████████████████████████▏                                         | 19/25 [01:07<00:20,  3.37s/it]"
     ]
    },
    {
     "name": "stdout",
     "output_type": "stream",
     "text": [
      "BestCad 18.0 0.3842927928146144 0.9809414148330688\n",
      "BestNuclei 18.0 0.8966131235162417 0.9999849796295166\n"
     ]
    },
    {
     "name": "stderr",
     "output_type": "stream",
     "text": [
      "\r",
      " 80%|███████████████████████████████████████████████████████████████████████████████████████████████████████████████████████████████████████████▏                                  | 20/25 [01:11<00:16,  3.39s/it]"
     ]
    },
    {
     "name": "stdout",
     "output_type": "stream",
     "text": [
      "BestCad 19.0 0.3966958133757792 0.9861810207366943\n",
      "BestNuclei 19.0 0.9082673007379407 0.9999837875366211\n"
     ]
    },
    {
     "name": "stderr",
     "output_type": "stream",
     "text": [
      "\r",
      " 84%|██████████████████████████████████████████████████████████████████████████████████████████████████████████████████████████████████████████████████▏                           | 21/25 [01:14<00:13,  3.40s/it]"
     ]
    },
    {
     "name": "stdout",
     "output_type": "stream",
     "text": [
      "BestCad 20.0 0.5782932547609443 0.9923495054244995\n",
      "BestNuclei 20.0 0.7138476644953092 0.9999930262565613\n"
     ]
    },
    {
     "name": "stderr",
     "output_type": "stream",
     "text": [
      "\r",
      " 88%|█████████████████████████████████████████████████████████████████████████████████████████████████████████████████████████████████████████████████████████                     | 22/25 [01:17<00:10,  3.39s/it]"
     ]
    },
    {
     "name": "stdout",
     "output_type": "stream",
     "text": [
      "BestCad 21.0 0.6049396002465232 0.9931831359863281\n",
      "BestNuclei 21.0 0.7362236329777674 0.9999874234199524\n"
     ]
    },
    {
     "name": "stderr",
     "output_type": "stream",
     "text": [
      "100%|██████████████████████████████████████████████████████████████████████████████████████████████████████████████████████████████████████████████████████████████████████████████| 25/25 [01:21<00:00,  3.25s/it]"
     ]
    },
    {
     "name": "stdout",
     "output_type": "stream",
     "text": [
      "BestCad 22.0 0.7074893816995124 0.9952983856201172\n",
      "BestNuclei 22.0 0.3949224402652665 0.9999670386314392\n"
     ]
    },
    {
     "name": "stderr",
     "output_type": "stream",
     "text": [
      "\n"
     ]
    },
    {
     "name": "stdout",
     "output_type": "stream",
     "text": [
      "Detecting focus planes in 210629_Erk_Kate_His_mov1_w3CSU-QUAD-561_s5_t13\n"
     ]
    },
    {
     "name": "stderr",
     "output_type": "stream",
     "text": [
      "  4%|███████                                                                                                                                                                        | 1/25 [00:04<01:53,  4.72s/it]"
     ]
    },
    {
     "name": "stdout",
     "output_type": "stream",
     "text": [
      "BestCad 0.0 2.219796585052336e-05 0.0001891185820568353\n",
      "BestNuclei 0.0 7.710444349794451e-10 4.091281091689325e-09\n"
     ]
    },
    {
     "name": "stderr",
     "output_type": "stream",
     "text": [
      "\r",
      "  8%|██████████████                                                                                                                                                                 | 2/25 [00:08<01:29,  3.88s/it]"
     ]
    },
    {
     "name": "stdout",
     "output_type": "stream",
     "text": [
      "BestCad 1.0 0.0001027784792210117 0.0017768451943993568\n",
      "BestNuclei 1.0 8.041829055427906e-10 4.715729140514213e-09\n"
     ]
    },
    {
     "name": "stderr",
     "output_type": "stream",
     "text": [
      "\r",
      " 12%|█████████████████████                                                                                                                                                          | 3/25 [00:11<01:20,  3.67s/it]"
     ]
    },
    {
     "name": "stdout",
     "output_type": "stream",
     "text": [
      "BestCad 2.0 0.0003871552042201384 0.005358668975532055\n",
      "BestNuclei 2.0 1.508539934421943e-08 2.491143789029593e-07\n"
     ]
    },
    {
     "name": "stderr",
     "output_type": "stream",
     "text": [
      "\r",
      " 16%|████████████████████████████                                                                                                                                                   | 4/25 [00:14<01:15,  3.58s/it]"
     ]
    },
    {
     "name": "stdout",
     "output_type": "stream",
     "text": [
      "BestCad 3.0 0.011793177361283824 0.1222434937953949\n",
      "BestNuclei 3.0 1.969734598172246e-06 4.233967047184706e-05\n"
     ]
    },
    {
     "name": "stderr",
     "output_type": "stream",
     "text": [
      "\r",
      " 20%|███████████████████████████████████                                                                                                                                            | 5/25 [00:18<01:10,  3.52s/it]"
     ]
    },
    {
     "name": "stdout",
     "output_type": "stream",
     "text": [
      "BestCad 4.0 0.051362569211991366 0.9918278455734253\n",
      "BestNuclei 4.0 0.00023484762100213594 0.005365495104342699\n"
     ]
    },
    {
     "name": "stderr",
     "output_type": "stream",
     "text": [
      "\r",
      " 24%|██████████████████████████████████████████                                                                                                                                     | 6/25 [00:21<01:06,  3.52s/it]"
     ]
    },
    {
     "name": "stdout",
     "output_type": "stream",
     "text": [
      "BestCad 5.0 0.07952431785764208 0.999907374382019\n",
      "BestNuclei 5.0 0.00029811859914991576 0.0059562381356954575\n"
     ]
    },
    {
     "name": "stderr",
     "output_type": "stream",
     "text": [
      "\r",
      " 28%|█████████████████████████████████████████████████                                                                                                                              | 7/25 [00:25<01:02,  3.45s/it]"
     ]
    },
    {
     "name": "stdout",
     "output_type": "stream",
     "text": [
      "BestCad 6.0 0.09561535605039123 0.9999983906745911\n",
      "BestNuclei 6.0 0.0006803513957321953 0.014226962812244892\n"
     ]
    },
    {
     "name": "stderr",
     "output_type": "stream",
     "text": [
      "\r",
      " 32%|████████████████████████████████████████████████████████                                                                                                                       | 8/25 [00:28<00:58,  3.44s/it]"
     ]
    },
    {
     "name": "stdout",
     "output_type": "stream",
     "text": [
      "BestCad 7.0 0.12253694463109108 0.9999998807907104\n",
      "BestNuclei 7.0 0.005243562518759749 0.10862278938293457\n"
     ]
    },
    {
     "name": "stderr",
     "output_type": "stream",
     "text": [
      "\r",
      " 36%|███████████████████████████████████████████████████████████████                                                                                                                | 9/25 [00:32<00:55,  3.50s/it]"
     ]
    },
    {
     "name": "stdout",
     "output_type": "stream",
     "text": [
      "BestCad 8.0 0.14586284935523422 0.9999985694885254\n",
      "BestNuclei 8.0 0.043085090768998906 0.9466919898986816\n"
     ]
    },
    {
     "name": "stderr",
     "output_type": "stream",
     "text": [
      "\r",
      " 40%|█████████████████████████████████████████████████████████████████████▌                                                                                                        | 10/25 [00:35<00:53,  3.55s/it]"
     ]
    },
    {
     "name": "stdout",
     "output_type": "stream",
     "text": [
      "BestCad 9.0 0.2942098269899677 0.9999970197677612\n",
      "BestNuclei 9.0 0.05755120067275321 0.9999878406524658\n"
     ]
    },
    {
     "name": "stderr",
     "output_type": "stream",
     "text": [
      "\r",
      " 44%|████████████████████████████████████████████████████████████████████████████▌                                                                                                 | 11/25 [00:39<00:50,  3.57s/it]"
     ]
    },
    {
     "name": "stdout",
     "output_type": "stream",
     "text": [
      "BestCad 10.0 0.2105043916153195 0.9902330636978149\n",
      "BestNuclei 10.0 0.8799523527805622 0.9999449849128723\n"
     ]
    },
    {
     "name": "stderr",
     "output_type": "stream",
     "text": [
      "\r",
      " 48%|███████████████████████████████████████████████████████████████████████████████████▌                                                                                          | 12/25 [00:43<00:47,  3.62s/it]"
     ]
    },
    {
     "name": "stdout",
     "output_type": "stream",
     "text": [
      "BestCad 11.0 0.0001333484062177542 0.0005124881863594055\n",
      "BestNuclei 11.0 0.9999581637053654 0.9999992251396179\n"
     ]
    },
    {
     "name": "stderr",
     "output_type": "stream",
     "text": [
      "\r",
      " 52%|██████████████████████████████████████████████████████████████████████████████████████████▍                                                                                   | 13/25 [00:46<00:43,  3.63s/it]"
     ]
    },
    {
     "name": "stdout",
     "output_type": "stream",
     "text": [
      "BestCad 12.0 2.8115119879619974e-06 1.0301864676875994e-05\n",
      "BestNuclei 12.0 0.9999992982907728 1.0\n"
     ]
    },
    {
     "name": "stderr",
     "output_type": "stream",
     "text": [
      "\r",
      " 56%|█████████████████████████████████████████████████████████████████████████████████████████████████▍                                                                            | 14/25 [00:50<00:40,  3.71s/it]"
     ]
    },
    {
     "name": "stdout",
     "output_type": "stream",
     "text": [
      "BestCad 13.0 1.8802429492966026e-06 8.090260962489992e-06\n",
      "BestNuclei 13.0 0.9999996527381565 1.0\n"
     ]
    },
    {
     "name": "stderr",
     "output_type": "stream",
     "text": [
      "\r",
      " 60%|████████████████████████████████████████████████████████████████████████████████████████████████████████▍                                                                     | 15/25 [00:54<00:37,  3.78s/it]"
     ]
    },
    {
     "name": "stdout",
     "output_type": "stream",
     "text": [
      "BestCad 14.0 2.619556615475934e-06 1.225389314640779e-05\n",
      "BestNuclei 14.0 0.9999995490779048 0.9999998807907104\n"
     ]
    },
    {
     "name": "stderr",
     "output_type": "stream",
     "text": [
      "\r",
      " 64%|███████████████████████████████████████████████████████████████████████████████████████████████████████████████▎                                                              | 16/25 [00:58<00:34,  3.86s/it]"
     ]
    },
    {
     "name": "stdout",
     "output_type": "stream",
     "text": [
      "BestCad 15.0 4.223545188324351e-06 2.5140941943391226e-05\n",
      "BestNuclei 15.0 0.9999995082616806 0.9999998807907104\n"
     ]
    },
    {
     "name": "stderr",
     "output_type": "stream",
     "text": [
      "\r",
      " 68%|██████████████████████████████████████████████████████████████████████████████████████████████████████████████████████▎                                                       | 17/25 [01:02<00:30,  3.87s/it]"
     ]
    },
    {
     "name": "stdout",
     "output_type": "stream",
     "text": [
      "BestCad 16.0 4.378082933271799e-06 2.4120101443259045e-05\n",
      "BestNuclei 16.0 0.9999994445930828 0.9999998807907104\n"
     ]
    },
    {
     "name": "stderr",
     "output_type": "stream",
     "text": [
      "\r",
      " 72%|█████████████████████████████████████████████████████████████████████████████████████████████████████████████████████████████▎                                                | 18/25 [01:06<00:26,  3.83s/it]"
     ]
    },
    {
     "name": "stdout",
     "output_type": "stream",
     "text": [
      "BestCad 17.0 3.1140594370089486e-05 0.0003068715159315616\n",
      "BestNuclei 17.0 0.9999985357989436 0.9999997615814209\n"
     ]
    },
    {
     "name": "stderr",
     "output_type": "stream",
     "text": [
      "\r",
      " 76%|████████████████████████████████████████████████████████████████████████████████████████████████████████████████████████████████████▏                                         | 19/25 [01:09<00:22,  3.76s/it]"
     ]
    },
    {
     "name": "stdout",
     "output_type": "stream",
     "text": [
      "BestCad 18.0 1.1369814547766441e-05 9.518945444142446e-05\n",
      "BestNuclei 18.0 0.9999990491640001 0.9999998807907104\n"
     ]
    },
    {
     "name": "stderr",
     "output_type": "stream",
     "text": [
      "\r",
      " 80%|███████████████████████████████████████████████████████████████████████████████████████████████████████████████████████████████████████████▏                                  | 20/25 [01:13<00:18,  3.71s/it]"
     ]
    },
    {
     "name": "stdout",
     "output_type": "stream",
     "text": [
      "BestCad 19.0 4.514701280957366e-05 0.00028141558868810534\n",
      "BestNuclei 19.0 0.9999936024347941 0.9999997019767761\n"
     ]
    },
    {
     "name": "stderr",
     "output_type": "stream",
     "text": [
      "\r",
      " 84%|██████████████████████████████████████████████████████████████████████████████████████████████████████████████████████████████████████████████████▏                           | 21/25 [01:17<00:14,  3.68s/it]"
     ]
    },
    {
     "name": "stdout",
     "output_type": "stream",
     "text": [
      "BestCad 20.0 9.090071209053956e-05 0.000508283672388643\n",
      "BestNuclei 20.0 0.9999864473938942 0.9999997019767761\n"
     ]
    },
    {
     "name": "stderr",
     "output_type": "stream",
     "text": [
      "\r",
      " 88%|█████████████████████████████████████████████████████████████████████████████████████████████████████████████████████████████████████████████████████████                     | 22/25 [01:20<00:10,  3.61s/it]"
     ]
    },
    {
     "name": "stdout",
     "output_type": "stream",
     "text": [
      "BestCad 21.0 0.00012306576172704808 0.0005227935034781694\n",
      "BestNuclei 21.0 0.9999644600826761 0.9999997615814209\n"
     ]
    },
    {
     "name": "stderr",
     "output_type": "stream",
     "text": [
      "100%|██████████████████████████████████████████████████████████████████████████████████████████████████████████████████████████████████████████████████████████████████████████████| 25/25 [01:24<00:00,  3.37s/it]"
     ]
    },
    {
     "name": "stdout",
     "output_type": "stream",
     "text": [
      "BestCad 22.0 0.00034568393345001493 0.0016763935564085841\n",
      "BestNuclei 22.0 0.9999471591866534 0.9999997019767761\n"
     ]
    },
    {
     "name": "stderr",
     "output_type": "stream",
     "text": [
      "\n"
     ]
    },
    {
     "name": "stdout",
     "output_type": "stream",
     "text": [
      "Detecting focus planes in 210629_Erk_Kate_His_mov1_w1CSU-QUAD-561_s6_t22\n"
     ]
    },
    {
     "name": "stderr",
     "output_type": "stream",
     "text": [
      "  4%|███████                                                                                                                                                                        | 1/25 [00:04<01:58,  4.95s/it]"
     ]
    },
    {
     "name": "stdout",
     "output_type": "stream",
     "text": [
      "BestCad 0.0 0.19630716958393654 0.9774570465087891\n",
      "BestNuclei 0.0 0.2345841327629993 0.9949421882629395\n"
     ]
    },
    {
     "name": "stderr",
     "output_type": "stream",
     "text": [
      "\r",
      "  8%|██████████████                                                                                                                                                                 | 2/25 [00:08<01:36,  4.20s/it]"
     ]
    },
    {
     "name": "stdout",
     "output_type": "stream",
     "text": [
      "BestCad 1.0 0.0021444301797600928 0.01315707340836525\n",
      "BestNuclei 1.0 0.9996186828613282 0.9999917149543762\n"
     ]
    },
    {
     "name": "stderr",
     "output_type": "stream",
     "text": [
      "\r",
      " 12%|█████████████████████                                                                                                                                                          | 3/25 [00:12<01:27,  4.00s/it]"
     ]
    },
    {
     "name": "stdout",
     "output_type": "stream",
     "text": [
      "BestCad 2.0 5.524635051707654e-05 0.00027522107120603323\n",
      "BestNuclei 2.0 0.9999880409240722 0.9999992251396179\n"
     ]
    },
    {
     "name": "stderr",
     "output_type": "stream",
     "text": [
      "\r",
      " 16%|████████████████████████████                                                                                                                                                   | 4/25 [00:15<01:20,  3.84s/it]"
     ]
    },
    {
     "name": "stdout",
     "output_type": "stream",
     "text": [
      "BestCad 3.0 2.0248472506781665e-06 9.572674571245443e-06\n",
      "BestNuclei 3.0 0.9999994754791259 1.0\n"
     ]
    },
    {
     "name": "stderr",
     "output_type": "stream",
     "text": [
      "\r",
      " 20%|███████████████████████████████████                                                                                                                                            | 5/25 [00:19<01:16,  3.83s/it]"
     ]
    },
    {
     "name": "stdout",
     "output_type": "stream",
     "text": [
      "BestCad 4.0 4.487789324751172e-06 4.422415804583579e-05\n",
      "BestNuclei 4.0 0.9999983025633771 0.9999998807907104\n"
     ]
    },
    {
     "name": "stderr",
     "output_type": "stream",
     "text": [
      "\r",
      " 24%|██████████████████████████████████████████                                                                                                                                     | 6/25 [00:23<01:13,  3.85s/it]"
     ]
    },
    {
     "name": "stdout",
     "output_type": "stream",
     "text": [
      "BestCad 5.0 1.1540875688196036e-05 0.00011115738016087562\n",
      "BestNuclei 5.0 0.9999977971116701 0.9999998807907104\n"
     ]
    },
    {
     "name": "stderr",
     "output_type": "stream",
     "text": [
      "\r",
      " 28%|█████████████████████████████████████████████████                                                                                                                              | 7/25 [00:27<01:09,  3.84s/it]"
     ]
    },
    {
     "name": "stdout",
     "output_type": "stream",
     "text": [
      "BestCad 6.0 1.568711787551062e-05 0.00014313709107227623\n",
      "BestNuclei 6.0 0.9999971818923951 0.9999999403953552\n"
     ]
    },
    {
     "name": "stderr",
     "output_type": "stream",
     "text": [
      "\r",
      " 32%|████████████████████████████████████████████████████████                                                                                                                       | 8/25 [00:31<01:05,  3.88s/it]"
     ]
    },
    {
     "name": "stdout",
     "output_type": "stream",
     "text": [
      "BestCad 7.0 1.1851352185203724e-05 0.00010682638094294816\n",
      "BestNuclei 7.0 0.9999986737966537 1.0\n"
     ]
    },
    {
     "name": "stderr",
     "output_type": "stream",
     "text": [
      "\r",
      " 36%|███████████████████████████████████████████████████████████████                                                                                                                | 9/25 [00:35<01:02,  3.92s/it]"
     ]
    },
    {
     "name": "stdout",
     "output_type": "stream",
     "text": [
      "BestCad 8.0 3.383469054454138e-05 0.00030002128914929926\n",
      "BestNuclei 8.0 0.9999864880855267 1.0\n"
     ]
    },
    {
     "name": "stderr",
     "output_type": "stream",
     "text": [
      "\r",
      " 40%|█████████████████████████████████████████████████████████████████████▌                                                                                                        | 10/25 [00:39<00:58,  3.93s/it]"
     ]
    },
    {
     "name": "stdout",
     "output_type": "stream",
     "text": [
      "BestCad 9.0 2.3161833657544168e-05 0.00017882746760733426\n",
      "BestNuclei 9.0 0.9999953577151666 1.0\n"
     ]
    },
    {
     "name": "stderr",
     "output_type": "stream",
     "text": [
      "\r",
      " 44%|████████████████████████████████████████████████████████████████████████████▌                                                                                                 | 11/25 [00:43<00:54,  3.92s/it]"
     ]
    },
    {
     "name": "stdout",
     "output_type": "stream",
     "text": [
      "BestCad 10.0 2.422790157158053e-05 0.00017560266132932156\n",
      "BestNuclei 10.0 0.9999964570999146 1.0\n"
     ]
    },
    {
     "name": "stderr",
     "output_type": "stream",
     "text": [
      "\r",
      " 48%|███████████████████████████████████████████████████████████████████████████████████▌                                                                                          | 12/25 [00:47<00:51,  3.94s/it]"
     ]
    },
    {
     "name": "stdout",
     "output_type": "stream",
     "text": [
      "BestCad 11.0 2.7539933067482313e-05 0.00018781142716761678\n",
      "BestNuclei 11.0 0.9999954975568331 1.0\n"
     ]
    },
    {
     "name": "stderr",
     "output_type": "stream",
     "text": [
      "\r",
      " 52%|██████████████████████████████████████████████████████████████████████████████████████████▍                                                                                   | 13/25 [00:51<00:47,  3.93s/it]"
     ]
    },
    {
     "name": "stdout",
     "output_type": "stream",
     "text": [
      "BestCad 12.0 3.377243577192117e-05 0.00023318226158153266\n",
      "BestNuclei 12.0 0.9999938702583313 1.0\n"
     ]
    },
    {
     "name": "stderr",
     "output_type": "stream",
     "text": [
      "\r",
      " 56%|█████████████████████████████████████████████████████████████████████████████████████████████████▍                                                                            | 14/25 [00:55<00:42,  3.91s/it]"
     ]
    },
    {
     "name": "stdout",
     "output_type": "stream",
     "text": [
      "BestCad 13.0 3.23050394446985e-05 0.000238690001424402\n",
      "BestNuclei 13.0 0.9999883818626404 1.0\n"
     ]
    },
    {
     "name": "stderr",
     "output_type": "stream",
     "text": [
      "\r",
      " 60%|████████████████████████████████████████████████████████████████████████████████████████████████████████▍                                                                     | 15/25 [00:58<00:38,  3.89s/it]"
     ]
    },
    {
     "name": "stdout",
     "output_type": "stream",
     "text": [
      "BestCad 14.0 2.5285066281336793e-05 0.00020889320876449347\n",
      "BestNuclei 14.0 0.9999940867225329 1.0\n"
     ]
    },
    {
     "name": "stderr",
     "output_type": "stream",
     "text": [
      "\r",
      " 64%|███████████████████████████████████████████████████████████████████████████████████████████████████████████████▎                                                              | 16/25 [01:02<00:34,  3.87s/it]"
     ]
    },
    {
     "name": "stdout",
     "output_type": "stream",
     "text": [
      "BestCad 15.0 5.486766014447161e-05 0.00040074181742966175\n",
      "BestNuclei 15.0 0.9999889160195986 1.0\n"
     ]
    },
    {
     "name": "stderr",
     "output_type": "stream",
     "text": [
      "\r",
      " 68%|██████████████████████████████████████████████████████████████████████████████████████████████████████████████████████▎                                                       | 17/25 [01:06<00:30,  3.86s/it]"
     ]
    },
    {
     "name": "stdout",
     "output_type": "stream",
     "text": [
      "BestCad 16.0 2.0072005621717505e-05 0.00016649616009090096\n",
      "BestNuclei 16.0 0.9999975795331209 1.0\n"
     ]
    },
    {
     "name": "stderr",
     "output_type": "stream",
     "text": [
      "\r",
      " 72%|█████████████████████████████████████████████████████████████████████████████████████████████████████████████████████████████▎                                                | 18/25 [01:10<00:26,  3.77s/it]"
     ]
    },
    {
     "name": "stdout",
     "output_type": "stream",
     "text": [
      "BestCad 17.0 2.74309005441544e-06 1.7199447029270232e-05\n",
      "BestNuclei 17.0 0.9999995963139967 1.0\n"
     ]
    },
    {
     "name": "stderr",
     "output_type": "stream",
     "text": [
      "\r",
      " 76%|████████████████████████████████████████████████████████████████████████████████████████████████████████████████████████████████████▏                                         | 19/25 [01:14<00:22,  3.80s/it]"
     ]
    },
    {
     "name": "stdout",
     "output_type": "stream",
     "text": [
      "BestCad 18.0 2.5357531324951434e-06 1.680405330262147e-05\n",
      "BestNuclei 18.0 0.9999996475551439 1.0\n"
     ]
    },
    {
     "name": "stderr",
     "output_type": "stream",
     "text": [
      "\r",
      " 80%|███████████████████████████████████████████████████████████████████████████████████████████████████████████████████████████████████████████▏                                  | 20/25 [01:19<00:21,  4.31s/it]"
     ]
    },
    {
     "name": "stdout",
     "output_type": "stream",
     "text": [
      "BestCad 19.0 2.6157594432292668e-06 1.6244177459157072e-05\n",
      "BestNuclei 19.0 0.9999992755743173 1.0\n"
     ]
    },
    {
     "name": "stderr",
     "output_type": "stream",
     "text": [
      "\r",
      " 84%|██████████████████████████████████████████████████████████████████████████████████████████████████████████████████████████████████████████████████▏                           | 21/25 [01:23<00:16,  4.20s/it]"
     ]
    },
    {
     "name": "stdout",
     "output_type": "stream",
     "text": [
      "BestCad 20.0 1.9105398648746444e-05 0.0001578945229994133\n",
      "BestNuclei 20.0 0.9999974584579467 0.9999997615814209\n"
     ]
    },
    {
     "name": "stderr",
     "output_type": "stream",
     "text": [
      "\r",
      " 88%|█████████████████████████████████████████████████████████████████████████████████████████████████████████████████████████████████████████████████████████                     | 22/25 [01:27<00:12,  4.14s/it]"
     ]
    },
    {
     "name": "stdout",
     "output_type": "stream",
     "text": [
      "BestCad 21.0 0.00012904612909691283 0.0005376540357246995\n",
      "BestNuclei 21.0 0.9999670412229456 0.9999986290931702\n"
     ]
    },
    {
     "name": "stderr",
     "output_type": "stream",
     "text": [
      "100%|██████████████████████████████████████████████████████████████████████████████████████████████████████████████████████████████████████████████████████████████████████████████| 25/25 [01:31<00:00,  3.65s/it]"
     ]
    },
    {
     "name": "stdout",
     "output_type": "stream",
     "text": [
      "BestCad 22.0 0.00032665170467225833 0.0015811333432793617\n",
      "BestNuclei 22.0 0.9998983253132213 0.9999940991401672\n"
     ]
    },
    {
     "name": "stderr",
     "output_type": "stream",
     "text": [
      "\n"
     ]
    },
    {
     "name": "stdout",
     "output_type": "stream",
     "text": [
      "Detecting focus planes in 210629_Erk_Kate_His_mov1_w3CSU-QUAD-561_s5_t24\n"
     ]
    },
    {
     "name": "stderr",
     "output_type": "stream",
     "text": [
      "  4%|███████                                                                                                                                                                        | 1/25 [00:04<01:43,  4.33s/it]"
     ]
    },
    {
     "name": "stdout",
     "output_type": "stream",
     "text": [
      "BestCad 0.0 1.4012341369799908e-05 7.07699655322358e-05\n",
      "BestNuclei 0.0 6.876334806134973e-10 5.356711518800239e-09\n"
     ]
    },
    {
     "name": "stderr",
     "output_type": "stream",
     "text": [
      "\r",
      "  8%|██████████████                                                                                                                                                                 | 2/25 [00:07<01:23,  3.61s/it]"
     ]
    },
    {
     "name": "stdout",
     "output_type": "stream",
     "text": [
      "BestCad 1.0 3.275925347093347e-05 0.0004664235166274011\n",
      "BestNuclei 1.0 5.805611992610637e-10 2.0177759463280154e-09\n"
     ]
    },
    {
     "name": "stderr",
     "output_type": "stream",
     "text": [
      "\r",
      " 12%|█████████████████████                                                                                                                                                          | 3/25 [00:10<01:14,  3.40s/it]"
     ]
    },
    {
     "name": "stdout",
     "output_type": "stream",
     "text": [
      "BestCad 2.0 0.000618539915062175 0.011319002136588097\n",
      "BestNuclei 2.0 4.95727733296349e-09 8.59130651065243e-08\n"
     ]
    },
    {
     "name": "stderr",
     "output_type": "stream",
     "text": [
      "\r",
      " 16%|████████████████████████████                                                                                                                                                   | 4/25 [00:13<01:10,  3.34s/it]"
     ]
    },
    {
     "name": "stdout",
     "output_type": "stream",
     "text": [
      "BestCad 3.0 7.835071610046944e-05 0.0013755339896306396\n",
      "BestNuclei 3.0 1.6344994113583045e-08 2.2237904317989887e-07\n"
     ]
    },
    {
     "name": "stderr",
     "output_type": "stream",
     "text": [
      "\r",
      " 20%|███████████████████████████████████                                                                                                                                            | 5/25 [00:17<01:06,  3.34s/it]"
     ]
    },
    {
     "name": "stdout",
     "output_type": "stream",
     "text": [
      "BestCad 4.0 6.043517027586902e-05 0.0006721788668073714\n",
      "BestNuclei 4.0 1.9472768745913695e-08 1.9496971503940586e-07\n"
     ]
    },
    {
     "name": "stderr",
     "output_type": "stream",
     "text": [
      "\r",
      " 24%|██████████████████████████████████████████                                                                                                                                     | 6/25 [00:20<01:03,  3.34s/it]"
     ]
    },
    {
     "name": "stdout",
     "output_type": "stream",
     "text": [
      "BestCad 5.0 0.0021590850130816137 0.03486006334424019\n",
      "BestNuclei 5.0 5.636907305032118e-07 1.1762758731492795e-05\n"
     ]
    },
    {
     "name": "stderr",
     "output_type": "stream",
     "text": [
      "\r",
      " 28%|█████████████████████████████████████████████████                                                                                                                              | 7/25 [00:23<01:00,  3.35s/it]"
     ]
    },
    {
     "name": "stdout",
     "output_type": "stream",
     "text": [
      "BestCad 6.0 0.052742644611657855 0.9977918267250061\n",
      "BestNuclei 6.0 4.322013617490128e-05 0.000850396347232163\n"
     ]
    },
    {
     "name": "stderr",
     "output_type": "stream",
     "text": [
      "\r",
      " 32%|████████████████████████████████████████████████████████                                                                                                                       | 8/25 [00:27<00:57,  3.41s/it]"
     ]
    },
    {
     "name": "stdout",
     "output_type": "stream",
     "text": [
      "BestCad 7.0 0.08442274028055656 0.9999786019325256\n",
      "BestNuclei 7.0 8.83269300486897e-05 0.0019552172161638737\n"
     ]
    },
    {
     "name": "stderr",
     "output_type": "stream",
     "text": [
      "\r",
      " 36%|███████████████████████████████████████████████████████████████                                                                                                                | 9/25 [00:30<00:55,  3.44s/it]"
     ]
    },
    {
     "name": "stdout",
     "output_type": "stream",
     "text": [
      "BestCad 8.0 0.12606191265654265 0.9999998807907104\n",
      "BestNuclei 8.0 0.00027956452573979306 0.005691551603376865\n"
     ]
    },
    {
     "name": "stderr",
     "output_type": "stream",
     "text": [
      "\r",
      " 40%|█████████████████████████████████████████████████████████████████████▌                                                                                                        | 10/25 [00:35<00:54,  3.64s/it]"
     ]
    },
    {
     "name": "stdout",
     "output_type": "stream",
     "text": [
      "BestCad 9.0 0.21212880112475083 0.9999992847442627\n",
      "BestNuclei 9.0 0.0003665074633597409 0.006750650703907013\n"
     ]
    },
    {
     "name": "stderr",
     "output_type": "stream",
     "text": [
      "\r",
      " 44%|████████████████████████████████████████████████████████████████████████████▌                                                                                                 | 11/25 [00:39<00:52,  3.76s/it]"
     ]
    },
    {
     "name": "stdout",
     "output_type": "stream",
     "text": [
      "BestCad 10.0 0.3121776237537194 0.9999757409095764\n",
      "BestNuclei 10.0 0.20092727956540118 0.9874763488769531\n"
     ]
    },
    {
     "name": "stderr",
     "output_type": "stream",
     "text": [
      "\r",
      " 48%|███████████████████████████████████████████████████████████████████████████████████▌                                                                                          | 12/25 [00:42<00:49,  3.79s/it]"
     ]
    },
    {
     "name": "stdout",
     "output_type": "stream",
     "text": [
      "BestCad 11.0 0.20154882882806388 0.9309402108192444\n",
      "BestNuclei 11.0 0.6861000230822426 0.9949730038642883\n"
     ]
    },
    {
     "name": "stderr",
     "output_type": "stream",
     "text": [
      "\r",
      " 52%|██████████████████████████████████████████████████████████████████████████████████████████▍                                                                                   | 13/25 [00:46<00:45,  3.77s/it]"
     ]
    },
    {
     "name": "stdout",
     "output_type": "stream",
     "text": [
      "BestCad 12.0 0.003847617781898209 0.02247823402285576\n",
      "BestNuclei 12.0 0.9989898705482483 0.9999667406082153\n"
     ]
    },
    {
     "name": "stderr",
     "output_type": "stream",
     "text": [
      "\r",
      " 56%|█████████████████████████████████████████████████████████████████████████████████████████████████▍                                                                            | 14/25 [00:50<00:41,  3.75s/it]"
     ]
    },
    {
     "name": "stdout",
     "output_type": "stream",
     "text": [
      "BestCad 13.0 0.0033497188533973795 0.016115006059408188\n",
      "BestNuclei 13.0 0.9993188762664795 0.9999693632125854\n"
     ]
    },
    {
     "name": "stderr",
     "output_type": "stream",
     "text": [
      "\r",
      " 60%|████████████████████████████████████████████████████████████████████████████████████████████████████████▍                                                                     | 15/25 [00:54<00:37,  3.74s/it]"
     ]
    },
    {
     "name": "stdout",
     "output_type": "stream",
     "text": [
      "BestCad 14.0 1.6838759438542184e-05 8.195198461180553e-05\n",
      "BestNuclei 14.0 0.9999964485565821 0.9999998211860657\n"
     ]
    },
    {
     "name": "stderr",
     "output_type": "stream",
     "text": [
      "\r",
      " 64%|███████████████████████████████████████████████████████████████████████████████████████████████████████████████▎                                                              | 16/25 [00:57<00:33,  3.75s/it]"
     ]
    },
    {
     "name": "stdout",
     "output_type": "stream",
     "text": [
      "BestCad 15.0 3.0008749732864404e-06 1.460470593883656e-05\n",
      "BestNuclei 15.0 0.999999307669126 0.9999999403953552\n"
     ]
    },
    {
     "name": "stderr",
     "output_type": "stream",
     "text": [
      "\r",
      " 68%|██████████████████████████████████████████████████████████████████████████████████████████████████████████████████████▎                                                       | 17/25 [01:01<00:30,  3.78s/it]"
     ]
    },
    {
     "name": "stdout",
     "output_type": "stream",
     "text": [
      "BestCad 16.0 3.2752068257480005e-06 1.4778826880501583e-05\n",
      "BestNuclei 16.0 0.9999993705749511 0.9999999403953552\n"
     ]
    },
    {
     "name": "stderr",
     "output_type": "stream",
     "text": [
      "\r",
      " 72%|█████████████████████████████████████████████████████████████████████████████████████████████████████████████████████████████▎                                                | 18/25 [01:07<00:30,  4.34s/it]"
     ]
    },
    {
     "name": "stdout",
     "output_type": "stream",
     "text": [
      "BestCad 17.0 1.6354248177776754e-05 0.00016525281534995884\n",
      "BestNuclei 17.0 0.999997134009997 0.9999998807907104\n"
     ]
    },
    {
     "name": "stderr",
     "output_type": "stream",
     "text": [
      "\r",
      " 76%|████████████████████████████████████████████████████████████████████████████████████████████████████████████████████████████████████▏                                         | 19/25 [01:11<00:25,  4.19s/it]"
     ]
    },
    {
     "name": "stdout",
     "output_type": "stream",
     "text": [
      "BestCad 18.0 7.732037271006961e-06 6.527284858748317e-05\n",
      "BestNuclei 18.0 0.9999994692348299 0.9999998807907104\n"
     ]
    },
    {
     "name": "stderr",
     "output_type": "stream",
     "text": [
      "\r",
      " 80%|███████████████████████████████████████████████████████████████████████████████████████████████████████████████████████████████████████████▏                                  | 20/25 [01:15<00:20,  4.09s/it]"
     ]
    },
    {
     "name": "stdout",
     "output_type": "stream",
     "text": [
      "BestCad 19.0 8.481925123226613e-06 7.203465793281794e-05\n",
      "BestNuclei 19.0 0.9999992413954302 0.9999998807907104\n"
     ]
    },
    {
     "name": "stderr",
     "output_type": "stream",
     "text": [
      "\r",
      " 84%|██████████████████████████████████████████████████████████████████████████████████████████████████████████████████████████████████████████████████▏                           | 21/25 [01:19<00:16,  4.06s/it]"
     ]
    },
    {
     "name": "stdout",
     "output_type": "stream",
     "text": [
      "BestCad 20.0 4.715538977961842e-06 3.5047920391662046e-05\n",
      "BestNuclei 20.0 0.9999993120630583 0.9999999403953552\n"
     ]
    },
    {
     "name": "stderr",
     "output_type": "stream",
     "text": [
      "\r",
      " 88%|█████████████████████████████████████████████████████████████████████████████████████████████████████████████████████████████████████████████████████████                     | 22/25 [01:22<00:11,  3.99s/it]"
     ]
    },
    {
     "name": "stdout",
     "output_type": "stream",
     "text": [
      "BestCad 21.0 4.759529608359496e-06 2.213939296780154e-05\n",
      "BestNuclei 21.0 0.9999994202093645 1.0\n"
     ]
    },
    {
     "name": "stderr",
     "output_type": "stream",
     "text": [
      "100%|██████████████████████████████████████████████████████████████████████████████████████████████████████████████████████████████████████████████████████████████████████████████| 25/25 [01:26<00:00,  3.46s/it]"
     ]
    },
    {
     "name": "stdout",
     "output_type": "stream",
     "text": [
      "BestCad 22.0 1.3381920556091007e-05 6.91559471306391e-05\n",
      "BestNuclei 22.0 0.9999985315582969 1.0\n"
     ]
    },
    {
     "name": "stderr",
     "output_type": "stream",
     "text": [
      "\n"
     ]
    },
    {
     "name": "stdout",
     "output_type": "stream",
     "text": [
      "Detecting focus planes in 210629_Erk_Kate_His_mov1_w3CSU-QUAD-561_s9_t28\n"
     ]
    },
    {
     "name": "stderr",
     "output_type": "stream",
     "text": [
      "  4%|███████                                                                                                                                                                        | 1/25 [00:04<01:49,  4.55s/it]"
     ]
    },
    {
     "name": "stdout",
     "output_type": "stream",
     "text": [
      "BestCad 0.0 0.0003093185231337191 0.006298628635704517\n",
      "BestNuclei 0.0 3.7487808930069366e-07 8.523385076841805e-06\n"
     ]
    },
    {
     "name": "stderr",
     "output_type": "stream",
     "text": [
      "\r",
      "  8%|██████████████                                                                                                                                                                 | 2/25 [00:07<01:28,  3.86s/it]"
     ]
    },
    {
     "name": "stdout",
     "output_type": "stream",
     "text": [
      "BestCad 1.0 0.00664597288369464 0.13282527029514313\n",
      "BestNuclei 1.0 7.3786971992977e-07 1.2308373698033392e-05\n"
     ]
    },
    {
     "name": "stderr",
     "output_type": "stream",
     "text": [
      "\r",
      " 12%|█████████████████████                                                                                                                                                          | 3/25 [00:11<01:19,  3.62s/it]"
     ]
    },
    {
     "name": "stdout",
     "output_type": "stream",
     "text": [
      "BestCad 2.0 0.04653908223230019 0.9771726131439209\n",
      "BestNuclei 2.0 7.4902320959114514e-06 0.00016248089377768338\n"
     ]
    },
    {
     "name": "stderr",
     "output_type": "stream",
     "text": [
      "\r",
      " 16%|████████████████████████████                                                                                                                                                   | 4/25 [00:14<01:13,  3.52s/it]"
     ]
    },
    {
     "name": "stdout",
     "output_type": "stream",
     "text": [
      "BestCad 3.0 0.05732672572400357 0.9996767044067383\n",
      "BestNuclei 3.0 2.9161175694090083e-05 0.0005552985239773989\n"
     ]
    },
    {
     "name": "stderr",
     "output_type": "stream",
     "text": [
      "\r",
      " 20%|███████████████████████████████████                                                                                                                                            | 5/25 [00:17<01:08,  3.44s/it]"
     ]
    },
    {
     "name": "stdout",
     "output_type": "stream",
     "text": [
      "BestCad 4.0 0.1256318232947897 0.9999921917915344\n",
      "BestNuclei 4.0 3.3695691295200346e-05 0.0005589490756392479\n"
     ]
    },
    {
     "name": "stderr",
     "output_type": "stream",
     "text": [
      "\r",
      " 24%|██████████████████████████████████████████                                                                                                                                     | 6/25 [00:21<01:05,  3.47s/it]"
     ]
    },
    {
     "name": "stdout",
     "output_type": "stream",
     "text": [
      "BestCad 5.0 0.160382100619585 0.9999671578407288\n",
      "BestNuclei 5.0 0.00010851553056819372 0.0018386407755315304\n"
     ]
    },
    {
     "name": "stderr",
     "output_type": "stream",
     "text": [
      "\r",
      " 28%|█████████████████████████████████████████████████                                                                                                                              | 7/25 [00:25<01:03,  3.51s/it]"
     ]
    },
    {
     "name": "stdout",
     "output_type": "stream",
     "text": [
      "BestCad 6.0 0.20507162100019313 0.999969482421875\n",
      "BestNuclei 6.0 0.00042686775380891345 0.00586212333291769\n"
     ]
    },
    {
     "name": "stderr",
     "output_type": "stream",
     "text": [
      "\r",
      " 32%|████████████████████████████████████████████████████████                                                                                                                       | 8/25 [00:28<01:00,  3.57s/it]"
     ]
    },
    {
     "name": "stdout",
     "output_type": "stream",
     "text": [
      "BestCad 7.0 0.25055950887057515 0.9999299049377441\n",
      "BestNuclei 7.0 0.002077566378630796 0.026654615998268127\n"
     ]
    },
    {
     "name": "stderr",
     "output_type": "stream",
     "text": [
      "\r",
      " 36%|███████████████████████████████████████████████████████████████                                                                                                                | 9/25 [00:32<00:56,  3.55s/it]"
     ]
    },
    {
     "name": "stdout",
     "output_type": "stream",
     "text": [
      "BestCad 8.0 0.33500827898586183 0.9998043179512024\n",
      "BestNuclei 8.0 0.04311783026804276 0.4884253740310669\n"
     ]
    },
    {
     "name": "stderr",
     "output_type": "stream",
     "text": [
      "\r",
      " 40%|█████████████████████████████████████████████████████████████████████▌                                                                                                        | 10/25 [00:35<00:53,  3.54s/it]"
     ]
    },
    {
     "name": "stdout",
     "output_type": "stream",
     "text": [
      "BestCad 9.0 0.33164823043607045 0.9996699690818787\n",
      "BestNuclei 9.0 0.10963684046189195 0.9885220527648926\n"
     ]
    },
    {
     "name": "stderr",
     "output_type": "stream",
     "text": [
      "\r",
      " 44%|████████████████████████████████████████████████████████████████████████████▌                                                                                                 | 11/25 [00:39<00:49,  3.54s/it]"
     ]
    },
    {
     "name": "stdout",
     "output_type": "stream",
     "text": [
      "BestCad 10.0 0.46974600057830057 0.9995576739311218\n",
      "BestNuclei 10.0 0.16862245775861548 0.9991554617881775\n"
     ]
    },
    {
     "name": "stderr",
     "output_type": "stream",
     "text": [
      "\r",
      " 48%|███████████████████████████████████████████████████████████████████████████████████▌                                                                                          | 12/25 [00:42<00:45,  3.50s/it]"
     ]
    },
    {
     "name": "stdout",
     "output_type": "stream",
     "text": [
      "BestCad 11.0 0.5288887844699843 0.9992610216140747\n",
      "BestNuclei 11.0 0.2751981051156626 0.9999839663505554\n"
     ]
    },
    {
     "name": "stderr",
     "output_type": "stream",
     "text": [
      "\r",
      " 52%|██████████████████████████████████████████████████████████████████████████████████████████▍                                                                                   | 13/25 [00:46<00:41,  3.45s/it]"
     ]
    },
    {
     "name": "stdout",
     "output_type": "stream",
     "text": [
      "BestCad 12.0 0.5328058883651465 0.9996676445007324\n",
      "BestNuclei 12.0 0.36456420002729684 0.9999993443489075\n"
     ]
    },
    {
     "name": "stderr",
     "output_type": "stream",
     "text": [
      "\r",
      " 56%|█████████████████████████████████████████████████████████████████████████████████████████████████▍                                                                            | 14/25 [00:49<00:37,  3.40s/it]"
     ]
    },
    {
     "name": "stdout",
     "output_type": "stream",
     "text": [
      "BestCad 13.0 0.5316956265623562 0.9996904134750366\n",
      "BestNuclei 13.0 0.32537898938434845 0.9999998807907104\n"
     ]
    },
    {
     "name": "stderr",
     "output_type": "stream",
     "text": [
      "\r",
      " 60%|████████████████████████████████████████████████████████████████████████████████████████████████████████▍                                                                     | 15/25 [00:52<00:33,  3.37s/it]"
     ]
    },
    {
     "name": "stdout",
     "output_type": "stream",
     "text": [
      "BestCad 14.0 0.5730147691528228 0.9996492266654968\n",
      "BestNuclei 14.0 0.35650364343545393 0.9999998807907104\n"
     ]
    },
    {
     "name": "stderr",
     "output_type": "stream",
     "text": [
      "\r",
      " 64%|███████████████████████████████████████████████████████████████████████████████████████████████████████████████▎                                                              | 16/25 [00:57<00:35,  3.92s/it]"
     ]
    },
    {
     "name": "stdout",
     "output_type": "stream",
     "text": [
      "BestCad 15.0 0.5852155524882532 0.9996591806411743\n",
      "BestNuclei 15.0 0.3721069091505564 0.9999987483024597\n"
     ]
    },
    {
     "name": "stderr",
     "output_type": "stream",
     "text": [
      "\r",
      " 68%|██████████████████████████████████████████████████████████████████████████████████████████████████████████████████████▎                                                       | 17/25 [01:01<00:30,  3.77s/it]"
     ]
    },
    {
     "name": "stdout",
     "output_type": "stream",
     "text": [
      "BestCad 16.0 0.5523596446866923 0.9994179606437683\n",
      "BestNuclei 16.0 0.45381614509707036 0.9999977946281433\n"
     ]
    },
    {
     "name": "stderr",
     "output_type": "stream",
     "text": [
      "\r",
      " 72%|█████████████████████████████████████████████████████████████████████████████████████████████████████████████████████████████▎                                                | 18/25 [01:04<00:25,  3.68s/it]"
     ]
    },
    {
     "name": "stdout",
     "output_type": "stream",
     "text": [
      "BestCad 17.0 0.6466870292148087 0.9994605779647827\n",
      "BestNuclei 17.0 0.464912862276942 0.9999986290931702\n"
     ]
    },
    {
     "name": "stderr",
     "output_type": "stream",
     "text": [
      "\r",
      " 76%|████████████████████████████████████████████████████████████████████████████████████████████████████████████████████████████████████▏                                         | 19/25 [01:08<00:21,  3.58s/it]"
     ]
    },
    {
     "name": "stdout",
     "output_type": "stream",
     "text": [
      "BestCad 18.0 0.6508269196929177 0.999024510383606\n",
      "BestNuclei 18.0 0.58467124719391 0.9999983310699463\n"
     ]
    },
    {
     "name": "stderr",
     "output_type": "stream",
     "text": [
      "\r",
      " 80%|███████████████████████████████████████████████████████████████████████████████████████████████████████████████████████████████████████████▏                                  | 20/25 [01:11<00:17,  3.55s/it]"
     ]
    },
    {
     "name": "stdout",
     "output_type": "stream",
     "text": [
      "BestCad 19.0 0.6574137242887879 0.997865617275238\n",
      "BestNuclei 19.0 0.5658491190419148 0.9999911189079285\n"
     ]
    },
    {
     "name": "stderr",
     "output_type": "stream",
     "text": [
      "\r",
      " 84%|██████████████████████████████████████████████████████████████████████████████████████████████████████████████████████████████████████████████████▏                           | 21/25 [01:15<00:14,  3.58s/it]"
     ]
    },
    {
     "name": "stdout",
     "output_type": "stream",
     "text": [
      "BestCad 20.0 0.5952592886486937 0.992714524269104\n",
      "BestNuclei 20.0 0.7232760593760759 0.9999655485153198\n"
     ]
    },
    {
     "name": "stderr",
     "output_type": "stream",
     "text": [
      "\r",
      " 88%|█████████████████████████████████████████████████████████████████████████████████████████████████████████████████████████████████████████████████████████                     | 22/25 [01:18<00:10,  3.60s/it]"
     ]
    },
    {
     "name": "stdout",
     "output_type": "stream",
     "text": [
      "BestCad 21.0 0.6725795730682356 0.9911940693855286\n",
      "BestNuclei 21.0 0.7536628103774526 0.9999475479125977\n"
     ]
    },
    {
     "name": "stderr",
     "output_type": "stream",
     "text": [
      "100%|██████████████████████████████████████████████████████████████████████████████████████████████████████████████████████████████████████████████████████████████████████████████| 25/25 [01:22<00:00,  3.29s/it]"
     ]
    },
    {
     "name": "stdout",
     "output_type": "stream",
     "text": [
      "BestCad 22.0 0.6912985143929042 0.9947000741958618\n",
      "BestNuclei 22.0 0.8115514313632791 0.9999263286590576\n"
     ]
    },
    {
     "name": "stderr",
     "output_type": "stream",
     "text": [
      "\n"
     ]
    },
    {
     "name": "stdout",
     "output_type": "stream",
     "text": [
      "Detecting focus planes in 210629_Erk_Kate_His_mov1_w3CSU-QUAD-561_s4_t5\n"
     ]
    },
    {
     "name": "stderr",
     "output_type": "stream",
     "text": [
      "  4%|███████                                                                                                                                                                        | 1/25 [00:04<01:47,  4.47s/it]"
     ]
    },
    {
     "name": "stdout",
     "output_type": "stream",
     "text": [
      "BestCad 0.0 8.632424213188147e-06 4.221204653731547e-05\n",
      "BestNuclei 0.0 9.406834010444983e-10 1.0041270925853496e-08\n"
     ]
    },
    {
     "name": "stderr",
     "output_type": "stream",
     "text": [
      "\r",
      "  8%|██████████████                                                                                                                                                                 | 2/25 [00:07<01:27,  3.81s/it]"
     ]
    },
    {
     "name": "stdout",
     "output_type": "stream",
     "text": [
      "BestCad 1.0 1.2808995349318634e-05 8.427254215348512e-05\n",
      "BestNuclei 1.0 1.1057745287771546e-09 9.45371958493979e-09\n"
     ]
    },
    {
     "name": "stderr",
     "output_type": "stream",
     "text": [
      "\r",
      " 12%|█████████████████████                                                                                                                                                          | 3/25 [00:11<01:18,  3.58s/it]"
     ]
    },
    {
     "name": "stdout",
     "output_type": "stream",
     "text": [
      "BestCad 2.0 1.7148465035048005e-05 0.00010855233995243907\n",
      "BestNuclei 2.0 1.3741154012627342e-08 2.7517370426721754e-07\n"
     ]
    },
    {
     "name": "stderr",
     "output_type": "stream",
     "text": [
      "\r",
      " 16%|████████████████████████████                                                                                                                                                   | 4/25 [00:14<01:14,  3.54s/it]"
     ]
    },
    {
     "name": "stdout",
     "output_type": "stream",
     "text": [
      "BestCad 3.0 1.8382454444773348e-05 0.00011527715832926333\n",
      "BestNuclei 3.0 2.0274998261312256e-08 3.349088615323126e-07\n"
     ]
    },
    {
     "name": "stderr",
     "output_type": "stream",
     "text": [
      "\r",
      " 20%|███████████████████████████████████                                                                                                                                            | 5/25 [00:17<01:09,  3.47s/it]"
     ]
    },
    {
     "name": "stdout",
     "output_type": "stream",
     "text": [
      "BestCad 4.0 0.007246868492137537 0.1445622742176056\n",
      "BestNuclei 4.0 2.0368316516118977e-06 4.2592881072778255e-05\n"
     ]
    },
    {
     "name": "stderr",
     "output_type": "stream",
     "text": [
      "\r",
      " 24%|██████████████████████████████████████████                                                                                                                                     | 6/25 [00:21<01:06,  3.51s/it]"
     ]
    },
    {
     "name": "stdout",
     "output_type": "stream",
     "text": [
      "BestCad 5.0 0.04355106463210335 0.9978947639465332\n",
      "BestNuclei 5.0 3.3791555495388724e-05 0.0007092849700711668\n"
     ]
    },
    {
     "name": "stderr",
     "output_type": "stream",
     "text": [
      "\r",
      " 28%|█████████████████████████████████████████████████                                                                                                                              | 7/25 [00:25<01:04,  3.56s/it]"
     ]
    },
    {
     "name": "stdout",
     "output_type": "stream",
     "text": [
      "BestCad 6.0 0.048187028742236376 0.9997419118881226\n",
      "BestNuclei 6.0 0.00013318661334899977 0.002610534429550171\n"
     ]
    },
    {
     "name": "stderr",
     "output_type": "stream",
     "text": [
      "\r",
      " 32%|████████████████████████████████████████████████████████                                                                                                                       | 8/25 [00:28<01:01,  3.63s/it]"
     ]
    },
    {
     "name": "stdout",
     "output_type": "stream",
     "text": [
      "BestCad 7.0 0.14839046206882048 0.9999673962593079\n",
      "BestNuclei 7.0 0.02752939597120027 0.6260920166969299\n"
     ]
    },
    {
     "name": "stderr",
     "output_type": "stream",
     "text": [
      "\r",
      " 36%|███████████████████████████████████████████████████████████████                                                                                                                | 9/25 [00:32<00:59,  3.72s/it]"
     ]
    },
    {
     "name": "stdout",
     "output_type": "stream",
     "text": [
      "BestCad 8.0 0.19401780829980453 0.9999052882194519\n",
      "BestNuclei 8.0 0.039305912942878635 0.980818510055542\n"
     ]
    },
    {
     "name": "stderr",
     "output_type": "stream",
     "text": [
      "\r",
      " 40%|█████████████████████████████████████████████████████████████████████▌                                                                                                        | 10/25 [00:36<00:56,  3.77s/it]"
     ]
    },
    {
     "name": "stdout",
     "output_type": "stream",
     "text": [
      "BestCad 9.0 0.3152522946613014 0.9999514222145081\n",
      "BestNuclei 9.0 0.047871968416114075 0.9995133280754089\n"
     ]
    },
    {
     "name": "stderr",
     "output_type": "stream",
     "text": [
      "\r",
      " 44%|████████████████████████████████████████████████████████████████████████████▌                                                                                                 | 11/25 [00:40<00:53,  3.84s/it]"
     ]
    },
    {
     "name": "stdout",
     "output_type": "stream",
     "text": [
      "BestCad 10.0 0.36134344978831906 0.9998985528945923\n",
      "BestNuclei 10.0 0.06255755060324024 0.9999521970748901\n"
     ]
    },
    {
     "name": "stderr",
     "output_type": "stream",
     "text": [
      "\r",
      " 48%|███████████████████████████████████████████████████████████████████████████████████▌                                                                                          | 12/25 [00:44<00:50,  3.88s/it]"
     ]
    },
    {
     "name": "stdout",
     "output_type": "stream",
     "text": [
      "BestCad 11.0 0.4678102064340995 0.9999216794967651\n",
      "BestNuclei 11.0 0.1218061975389966 0.999997079372406\n"
     ]
    },
    {
     "name": "stderr",
     "output_type": "stream",
     "text": [
      "\r",
      " 52%|██████████████████████████████████████████████████████████████████████████████████████████▍                                                                                   | 13/25 [00:48<00:45,  3.82s/it]"
     ]
    },
    {
     "name": "stdout",
     "output_type": "stream",
     "text": [
      "BestCad 12.0 0.08393853654640472 0.3212818503379822\n",
      "BestNuclei 12.0 0.9023480416777042 0.999997079372406\n"
     ]
    },
    {
     "name": "stderr",
     "output_type": "stream",
     "text": [
      "\r",
      " 56%|█████████████████████████████████████████████████████████████████████████████████████████████████▍                                                                            | 14/25 [00:52<00:41,  3.79s/it]"
     ]
    },
    {
     "name": "stdout",
     "output_type": "stream",
     "text": [
      "BestCad 13.0 0.25810719678305427 0.7906825542449951\n",
      "BestNuclei 13.0 0.8707655381697875 0.9999966025352478\n"
     ]
    },
    {
     "name": "stderr",
     "output_type": "stream",
     "text": [
      "\r",
      " 60%|████████████████████████████████████████████████████████████████████████████████████████████████████████▍                                                                     | 15/25 [00:57<00:43,  4.34s/it]"
     ]
    },
    {
     "name": "stdout",
     "output_type": "stream",
     "text": [
      "BestCad 14.0 0.34419980694023566 0.9488067030906677\n",
      "BestNuclei 14.0 0.8836533455178142 0.9999982714653015\n"
     ]
    },
    {
     "name": "stderr",
     "output_type": "stream",
     "text": [
      "\r",
      " 64%|███████████████████████████████████████████████████████████████████████████████████████████████████████████████▎                                                              | 16/25 [01:01<00:37,  4.12s/it]"
     ]
    },
    {
     "name": "stdout",
     "output_type": "stream",
     "text": [
      "BestCad 15.0 0.43691248611582484 0.982890248298645\n",
      "BestNuclei 15.0 0.8547359737753868 0.9999986886978149\n"
     ]
    },
    {
     "name": "stderr",
     "output_type": "stream",
     "text": [
      "\r",
      " 68%|██████████████████████████████████████████████████████████████████████████████████████████████████████████████████████▎                                                       | 17/25 [01:05<00:31,  3.98s/it]"
     ]
    },
    {
     "name": "stdout",
     "output_type": "stream",
     "text": [
      "BestCad 16.0 0.060943020523631104 0.607077956199646\n",
      "BestNuclei 16.0 0.9966161302898241 0.999999463558197\n"
     ]
    },
    {
     "name": "stderr",
     "output_type": "stream",
     "text": [
      "\r",
      " 72%|█████████████████████████████████████████████████████████████████████████████████████████████████████████████████████████████▎                                                | 18/25 [01:08<00:27,  3.89s/it]"
     ]
    },
    {
     "name": "stdout",
     "output_type": "stream",
     "text": [
      "BestCad 17.0 0.004415764631796099 0.05626475065946579\n",
      "BestNuclei 17.0 0.9997018900784579 0.9999992251396179\n"
     ]
    },
    {
     "name": "stderr",
     "output_type": "stream",
     "text": [
      "\r",
      " 76%|████████████████████████████████████████████████████████████████████████████████████████████████████████████████████████████████████▏                                         | 19/25 [01:12<00:22,  3.78s/it]"
     ]
    },
    {
     "name": "stdout",
     "output_type": "stream",
     "text": [
      "BestCad 18.0 0.00023136668997245753 0.001637373585253954\n",
      "BestNuclei 18.0 0.9999592954462225 0.999995768070221\n"
     ]
    },
    {
     "name": "stderr",
     "output_type": "stream",
     "text": [
      "\r",
      " 80%|███████████████████████████████████████████████████████████████████████████████████████████████████████████████████████████████████████████▏                                  | 20/25 [01:16<00:19,  3.80s/it]"
     ]
    },
    {
     "name": "stdout",
     "output_type": "stream",
     "text": [
      "BestCad 19.0 1.2767494903679713e-05 5.183194298297167e-05\n",
      "BestNuclei 19.0 0.9999982254071669 0.9999996423721313\n"
     ]
    },
    {
     "name": "stderr",
     "output_type": "stream",
     "text": [
      "\r",
      " 84%|██████████████████████████████████████████████████████████████████████████████████████████████████████████████████████████████████████████████████▏                           | 21/25 [01:19<00:15,  3.79s/it]"
     ]
    },
    {
     "name": "stdout",
     "output_type": "stream",
     "text": [
      "BestCad 20.0 3.1831735105183525e-06 1.4860012925055344e-05\n",
      "BestNuclei 20.0 0.9999995260011583 0.9999998807907104\n"
     ]
    },
    {
     "name": "stderr",
     "output_type": "stream",
     "text": [
      "\r",
      " 88%|█████████████████████████████████████████████████████████████████████████████████████████████████████████████████████████████████████████████████████████                     | 22/25 [01:23<00:11,  3.72s/it]"
     ]
    },
    {
     "name": "stdout",
     "output_type": "stream",
     "text": [
      "BestCad 21.0 3.911270793347891e-05 0.0001276177354156971\n",
      "BestNuclei 21.0 0.9999911785125732 0.9999997019767761\n"
     ]
    },
    {
     "name": "stderr",
     "output_type": "stream",
     "text": [
      "100%|██████████████████████████████████████████████████████████████████████████████████████████████████████████████████████████████████████████████████████████████████████████████| 25/25 [01:27<00:00,  3.48s/it]"
     ]
    },
    {
     "name": "stdout",
     "output_type": "stream",
     "text": [
      "BestCad 22.0 0.00013608504887088201 0.00037158565828576684\n",
      "BestNuclei 22.0 0.9999710693955421 0.9999991059303284\n"
     ]
    },
    {
     "name": "stderr",
     "output_type": "stream",
     "text": [
      "\n"
     ]
    },
    {
     "name": "stdout",
     "output_type": "stream",
     "text": [
      "Detecting focus planes in 210629_Erk_Kate_His_mov1_w1CSU-QUAD-561_s8_t13\n"
     ]
    },
    {
     "name": "stderr",
     "output_type": "stream",
     "text": [
      "  4%|███████                                                                                                                                                                        | 1/25 [00:05<02:01,  5.05s/it]"
     ]
    },
    {
     "name": "stdout",
     "output_type": "stream",
     "text": [
      "BestCad 0.0 0.14420177978197238 0.985722541809082\n",
      "BestNuclei 0.0 0.003188458361938111 0.03757341951131821\n"
     ]
    },
    {
     "name": "stderr",
     "output_type": "stream",
     "text": [
      "\r",
      "  8%|██████████████                                                                                                                                                                 | 2/25 [00:08<01:39,  4.33s/it]"
     ]
    },
    {
     "name": "stdout",
     "output_type": "stream",
     "text": [
      "BestCad 1.0 0.13434603186479763 0.9881882667541504\n",
      "BestNuclei 1.0 0.0071043687531769165 0.10110393166542053\n"
     ]
    },
    {
     "name": "stderr",
     "output_type": "stream",
     "text": [
      "\r",
      " 12%|█████████████████████                                                                                                                                                          | 3/25 [00:12<01:29,  4.05s/it]"
     ]
    },
    {
     "name": "stdout",
     "output_type": "stream",
     "text": [
      "BestCad 2.0 0.14641138618621122 0.9877644181251526\n",
      "BestNuclei 2.0 0.04629057684702947 0.6436493396759033\n"
     ]
    },
    {
     "name": "stderr",
     "output_type": "stream",
     "text": [
      "\r",
      " 16%|████████████████████████████                                                                                                                                                   | 4/25 [00:16<01:21,  3.88s/it]"
     ]
    },
    {
     "name": "stdout",
     "output_type": "stream",
     "text": [
      "BestCad 3.0 0.20367973842526443 0.9922235012054443\n",
      "BestNuclei 3.0 0.11167647523946049 0.98122239112854\n"
     ]
    },
    {
     "name": "stderr",
     "output_type": "stream",
     "text": [
      "\r",
      " 20%|███████████████████████████████████                                                                                                                                            | 5/25 [00:19<01:16,  3.84s/it]"
     ]
    },
    {
     "name": "stdout",
     "output_type": "stream",
     "text": [
      "BestCad 4.0 0.5099525999672629 0.9956685900688171\n",
      "BestNuclei 4.0 0.25226809961070557 0.9998660087585449\n"
     ]
    },
    {
     "name": "stderr",
     "output_type": "stream",
     "text": [
      "\r",
      " 24%|██████████████████████████████████████████                                                                                                                                     | 6/25 [00:23<01:11,  3.75s/it]"
     ]
    },
    {
     "name": "stdout",
     "output_type": "stream",
     "text": [
      "BestCad 5.0 0.6498012568801641 0.9979841709136963\n",
      "BestNuclei 5.0 0.29529057989925606 0.9999951720237732\n"
     ]
    },
    {
     "name": "stderr",
     "output_type": "stream",
     "text": [
      "\r",
      " 28%|█████████████████████████████████████████████████                                                                                                                              | 7/25 [00:27<01:06,  3.68s/it]"
     ]
    },
    {
     "name": "stdout",
     "output_type": "stream",
     "text": [
      "BestCad 6.0 0.6247404324822128 0.9967483878135681\n",
      "BestNuclei 6.0 0.37070830703004715 0.9999972581863403\n"
     ]
    },
    {
     "name": "stderr",
     "output_type": "stream",
     "text": [
      "\r",
      " 32%|████████████████████████████████████████████████████████                                                                                                                       | 8/25 [00:30<01:01,  3.63s/it]"
     ]
    },
    {
     "name": "stdout",
     "output_type": "stream",
     "text": [
      "BestCad 7.0 0.6367262392304838 0.9983540177345276\n",
      "BestNuclei 7.0 0.4888427976870646 0.9999994039535522\n"
     ]
    },
    {
     "name": "stderr",
     "output_type": "stream",
     "text": [
      "\r",
      " 36%|███████████████████████████████████████████████████████████████                                                                                                                | 9/25 [00:34<00:57,  3.61s/it]"
     ]
    },
    {
     "name": "stdout",
     "output_type": "stream",
     "text": [
      "BestCad 8.0 0.5152715330943465 0.9936615228652954\n",
      "BestNuclei 8.0 0.7547549460828304 0.9999989867210388\n"
     ]
    },
    {
     "name": "stderr",
     "output_type": "stream",
     "text": [
      "\r",
      " 40%|█████████████████████████████████████████████████████████████████████▌                                                                                                        | 10/25 [00:37<00:53,  3.58s/it]"
     ]
    },
    {
     "name": "stdout",
     "output_type": "stream",
     "text": [
      "BestCad 9.0 0.2038658480331443 0.8757295608520508\n",
      "BestNuclei 9.0 0.977905365327994 0.9999925494194031\n"
     ]
    },
    {
     "name": "stderr",
     "output_type": "stream",
     "text": [
      "\r",
      " 44%|████████████████████████████████████████████████████████████████████████████▌                                                                                                 | 11/25 [00:41<00:49,  3.56s/it]"
     ]
    },
    {
     "name": "stdout",
     "output_type": "stream",
     "text": [
      "BestCad 10.0 0.007983999387430562 0.08007647097110748\n",
      "BestNuclei 10.0 0.9995361194014549 0.9999987483024597\n"
     ]
    },
    {
     "name": "stderr",
     "output_type": "stream",
     "text": [
      "\r",
      " 48%|███████████████████████████████████████████████████████████████████████████████████▌                                                                                          | 12/25 [00:44<00:46,  3.55s/it]"
     ]
    },
    {
     "name": "stdout",
     "output_type": "stream",
     "text": [
      "BestCad 11.0 0.011329872780152073 0.13338510692119598\n",
      "BestNuclei 11.0 0.9996437119401019 0.9999986290931702\n"
     ]
    },
    {
     "name": "stderr",
     "output_type": "stream",
     "text": [
      "\r",
      " 52%|██████████████████████████████████████████████████████████████████████████████████████████▍                                                                                   | 13/25 [00:48<00:42,  3.55s/it]"
     ]
    },
    {
     "name": "stdout",
     "output_type": "stream",
     "text": [
      "BestCad 12.0 0.028889648116487282 0.37877321243286133\n",
      "BestNuclei 12.0 0.9994051357110342 0.9999974966049194\n"
     ]
    },
    {
     "name": "stderr",
     "output_type": "stream",
     "text": [
      "\r",
      " 56%|█████████████████████████████████████████████████████████████████████████████████████████████████▍                                                                            | 14/25 [00:51<00:38,  3.52s/it]"
     ]
    },
    {
     "name": "stdout",
     "output_type": "stream",
     "text": [
      "BestCad 13.0 0.11704180879579243 0.7917917966842651\n",
      "BestNuclei 13.0 0.9925042895170358 0.9999918937683105\n"
     ]
    },
    {
     "name": "stderr",
     "output_type": "stream",
     "text": [
      "\r",
      " 60%|████████████████████████████████████████████████████████████████████████████████████████████████████████▍                                                                     | 15/25 [00:57<00:40,  4.07s/it]"
     ]
    },
    {
     "name": "stdout",
     "output_type": "stream",
     "text": [
      "BestCad 14.0 0.13576682250444114 0.8974863290786743\n",
      "BestNuclei 14.0 0.9810671710968017 0.9999905824661255\n"
     ]
    },
    {
     "name": "stderr",
     "output_type": "stream",
     "text": [
      "\r",
      " 64%|███████████████████████████████████████████████████████████████████████████████████████████████████████████████▎                                                              | 16/25 [01:00<00:35,  3.90s/it]"
     ]
    },
    {
     "name": "stdout",
     "output_type": "stream",
     "text": [
      "BestCad 15.0 0.32013470067977323 0.8998758792877197\n",
      "BestNuclei 15.0 0.9526965877284175 0.999961793422699\n"
     ]
    },
    {
     "name": "stderr",
     "output_type": "stream",
     "text": [
      "\r",
      " 68%|██████████████████████████████████████████████████████████████████████████████████████████████████████████████████████▎                                                       | 17/25 [01:04<00:30,  3.75s/it]"
     ]
    },
    {
     "name": "stdout",
     "output_type": "stream",
     "text": [
      "BestCad 16.0 0.3152742218649523 0.9336220622062683\n",
      "BestNuclei 16.0 0.962994773387909 0.9999629855155945\n"
     ]
    },
    {
     "name": "stderr",
     "output_type": "stream",
     "text": [
      "\r",
      " 72%|█████████████████████████████████████████████████████████████████████████████████████████████████████████████████████████████▎                                                | 18/25 [01:07<00:25,  3.63s/it]"
     ]
    },
    {
     "name": "stdout",
     "output_type": "stream",
     "text": [
      "BestCad 17.0 0.3614716765640134 0.9754607677459717\n",
      "BestNuclei 17.0 0.9261436089873314 0.9999250173568726\n"
     ]
    },
    {
     "name": "stderr",
     "output_type": "stream",
     "text": [
      "\r",
      " 76%|████████████████████████████████████████████████████████████████████████████████████████████████████████████████████████████████████▏                                         | 19/25 [01:10<00:21,  3.51s/it]"
     ]
    },
    {
     "name": "stdout",
     "output_type": "stream",
     "text": [
      "BestCad 18.0 0.38051987936436804 0.986661970615387\n",
      "BestNuclei 18.0 0.8836940731853247 0.9999904632568359\n"
     ]
    },
    {
     "name": "stderr",
     "output_type": "stream",
     "text": [
      "\r",
      " 80%|███████████████████████████████████████████████████████████████████████████████████████████████████████████████████████████████████████████▏                                  | 20/25 [01:13<00:17,  3.46s/it]"
     ]
    },
    {
     "name": "stdout",
     "output_type": "stream",
     "text": [
      "BestCad 19.0 0.40938967929936815 0.9696791172027588\n",
      "BestNuclei 19.0 0.9178050769412 0.9999797344207764\n"
     ]
    },
    {
     "name": "stderr",
     "output_type": "stream",
     "text": [
      "\r",
      " 84%|██████████████████████████████████████████████████████████████████████████████████████████████████████████████████████████████████████████████████▏                           | 21/25 [01:17<00:14,  3.54s/it]"
     ]
    },
    {
     "name": "stdout",
     "output_type": "stream",
     "text": [
      "BestCad 20.0 0.0010278444433788536 0.007153647020459175\n",
      "BestNuclei 20.0 0.9999493335684141 0.9999997615814209\n"
     ]
    },
    {
     "name": "stderr",
     "output_type": "stream",
     "text": [
      "\r",
      " 88%|█████████████████████████████████████████████████████████████████████████████████████████████████████████████████████████████████████████████████████████                     | 22/25 [01:21<00:10,  3.53s/it]"
     ]
    },
    {
     "name": "stdout",
     "output_type": "stream",
     "text": [
      "BestCad 21.0 1.2046760583454367e-05 4.86113567603752e-05\n",
      "BestNuclei 21.0 0.999997846104882 0.9999998807907104\n"
     ]
    },
    {
     "name": "stderr",
     "output_type": "stream",
     "text": [
      "100%|██████████████████████████████████████████████████████████████████████████████████████████████████████████████████████████████████████████████████████████████████████████████| 25/25 [01:24<00:00,  3.39s/it]"
     ]
    },
    {
     "name": "stdout",
     "output_type": "stream",
     "text": [
      "BestCad 22.0 4.411611907784163e-06 1.5080937373568304e-05\n",
      "BestNuclei 22.0 0.9999993727320716 1.0\n"
     ]
    },
    {
     "name": "stderr",
     "output_type": "stream",
     "text": [
      "\n"
     ]
    },
    {
     "name": "stdout",
     "output_type": "stream",
     "text": [
      "Detecting focus planes in 210629_Erk_Kate_His_mov1_w1CSU-QUAD-561_s5_t18\n"
     ]
    },
    {
     "name": "stderr",
     "output_type": "stream",
     "text": [
      "  4%|███████                                                                                                                                                                        | 1/25 [00:04<01:54,  4.76s/it]"
     ]
    },
    {
     "name": "stdout",
     "output_type": "stream",
     "text": [
      "BestCad 0.0 0.10710045996379354 0.9999966621398926\n",
      "BestNuclei 0.0 2.6751783545084923e-05 0.00046769672189839184\n"
     ]
    },
    {
     "name": "stderr",
     "output_type": "stream",
     "text": [
      "\r",
      "  8%|██████████████                                                                                                                                                                 | 2/25 [00:08<01:33,  4.06s/it]"
     ]
    },
    {
     "name": "stdout",
     "output_type": "stream",
     "text": [
      "BestCad 1.0 0.12295251005589204 0.9999975562095642\n",
      "BestNuclei 1.0 0.00035613870814774534 0.006278669461607933\n"
     ]
    },
    {
     "name": "stderr",
     "output_type": "stream",
     "text": [
      "\r",
      " 12%|█████████████████████                                                                                                                                                          | 3/25 [00:12<01:27,  3.98s/it]"
     ]
    },
    {
     "name": "stdout",
     "output_type": "stream",
     "text": [
      "BestCad 2.0 0.1146693544480695 0.999912679195404\n",
      "BestNuclei 2.0 0.0005268535720380931 0.011358915828168392\n"
     ]
    },
    {
     "name": "stderr",
     "output_type": "stream",
     "text": [
      "\r",
      " 16%|████████████████████████████                                                                                                                                                   | 4/25 [00:15<01:21,  3.90s/it]"
     ]
    },
    {
     "name": "stdout",
     "output_type": "stream",
     "text": [
      "BestCad 3.0 0.16496775982280573 0.914179265499115\n",
      "BestNuclei 3.0 0.7094558910108529 0.9965510368347168\n"
     ]
    },
    {
     "name": "stderr",
     "output_type": "stream",
     "text": [
      "\r",
      " 20%|███████████████████████████████████                                                                                                                                            | 5/25 [00:19<01:16,  3.84s/it]"
     ]
    },
    {
     "name": "stdout",
     "output_type": "stream",
     "text": [
      "BestCad 4.0 0.00017925172614923212 0.0006398991099558771\n",
      "BestNuclei 4.0 0.9999484855395097 0.9999985694885254\n"
     ]
    },
    {
     "name": "stderr",
     "output_type": "stream",
     "text": [
      "\r",
      " 24%|██████████████████████████████████████████                                                                                                                                     | 6/25 [00:23<01:12,  3.79s/it]"
     ]
    },
    {
     "name": "stdout",
     "output_type": "stream",
     "text": [
      "BestCad 5.0 9.652407594661451e-06 3.0910166969988495e-05\n",
      "BestNuclei 5.0 0.9999970674514771 0.9999998807907104\n"
     ]
    },
    {
     "name": "stderr",
     "output_type": "stream",
     "text": [
      "\r",
      " 28%|█████████████████████████████████████████████████                                                                                                                              | 7/25 [00:27<01:07,  3.74s/it]"
     ]
    },
    {
     "name": "stdout",
     "output_type": "stream",
     "text": [
      "BestCad 6.0 2.886344794833782e-06 9.681287338025868e-06\n",
      "BestNuclei 6.0 0.9999991703033447 1.0\n"
     ]
    },
    {
     "name": "stderr",
     "output_type": "stream",
     "text": [
      "\r",
      " 32%|████████████████████████████████████████████████████████                                                                                                                       | 8/25 [00:31<01:04,  3.81s/it]"
     ]
    },
    {
     "name": "stdout",
     "output_type": "stream",
     "text": [
      "BestCad 7.0 1.4037594719222095e-06 4.613659257302061e-06\n",
      "BestNuclei 7.0 0.9999996640465476 1.0\n"
     ]
    },
    {
     "name": "stderr",
     "output_type": "stream",
     "text": [
      "\r",
      " 36%|███████████████████████████████████████████████████████████████                                                                                                                | 9/25 [00:35<01:02,  3.88s/it]"
     ]
    },
    {
     "name": "stdout",
     "output_type": "stream",
     "text": [
      "BestCad 8.0 2.2334264571099993e-06 9.686431440059096e-06\n",
      "BestNuclei 8.0 0.9999996009080306 0.9999998807907104\n"
     ]
    },
    {
     "name": "stderr",
     "output_type": "stream",
     "text": [
      "\r",
      " 40%|█████████████████████████████████████████████████████████████████████▌                                                                                                        | 10/25 [00:39<00:59,  3.94s/it]"
     ]
    },
    {
     "name": "stdout",
     "output_type": "stream",
     "text": [
      "BestCad 9.0 2.4726889116457396e-06 8.495448128087446e-06\n",
      "BestNuclei 9.0 0.9999996721744537 0.9999998807907104\n"
     ]
    },
    {
     "name": "stderr",
     "output_type": "stream",
     "text": [
      "\r",
      " 44%|████████████████████████████████████████████████████████████████████████████▌                                                                                                 | 11/25 [00:43<00:56,  4.07s/it]"
     ]
    },
    {
     "name": "stdout",
     "output_type": "stream",
     "text": [
      "BestCad 10.0 2.808290932539611e-06 1.4030363672645763e-05\n",
      "BestNuclei 10.0 0.9999993806299956 0.9999999403953552\n"
     ]
    },
    {
     "name": "stderr",
     "output_type": "stream",
     "text": [
      "\r",
      " 48%|███████████████████████████████████████████████████████████████████████████████████▌                                                                                          | 12/25 [00:47<00:53,  4.15s/it]"
     ]
    },
    {
     "name": "stdout",
     "output_type": "stream",
     "text": [
      "BestCad 11.0 2.0872365147235022e-05 0.00010993504838552326\n",
      "BestNuclei 11.0 0.9999967614809672 0.9999998807907104\n"
     ]
    },
    {
     "name": "stderr",
     "output_type": "stream",
     "text": [
      "\r",
      " 52%|██████████████████████████████████████████████████████████████████████████████████████████▍                                                                                   | 13/25 [00:52<00:50,  4.22s/it]"
     ]
    },
    {
     "name": "stdout",
     "output_type": "stream",
     "text": [
      "BestCad 12.0 2.6001257234990287e-05 0.00016187035362236202\n",
      "BestNuclei 12.0 0.9999964634577433 0.9999998807907104\n"
     ]
    },
    {
     "name": "stderr",
     "output_type": "stream",
     "text": [
      "\r",
      " 56%|█████████████████████████████████████████████████████████████████████████████████████████████████▍                                                                            | 14/25 [00:56<00:46,  4.18s/it]"
     ]
    },
    {
     "name": "stdout",
     "output_type": "stream",
     "text": [
      "BestCad 13.0 0.0005276342039689466 0.002386467531323433\n",
      "BestNuclei 13.0 0.9999599779645602 0.9999983906745911\n"
     ]
    },
    {
     "name": "stderr",
     "output_type": "stream",
     "text": [
      "\r",
      " 60%|████████████████████████████████████████████████████████████████████████████████████████████████████████▍                                                                     | 15/25 [01:00<00:41,  4.17s/it]"
     ]
    },
    {
     "name": "stdout",
     "output_type": "stream",
     "text": [
      "BestCad 14.0 0.003901267968467437 0.018337354063987732\n",
      "BestNuclei 14.0 0.9997951155123503 0.9999894499778748\n"
     ]
    },
    {
     "name": "stderr",
     "output_type": "stream",
     "text": [
      "\r",
      " 64%|███████████████████████████████████████████████████████████████████████████████████████████████████████████████▎                                                              | 16/25 [01:06<00:42,  4.69s/it]"
     ]
    },
    {
     "name": "stdout",
     "output_type": "stream",
     "text": [
      "BestCad 15.0 0.05083219186450482 0.4714932441711426\n",
      "BestNuclei 15.0 0.9970744773745537 0.9999970197677612\n"
     ]
    },
    {
     "name": "stderr",
     "output_type": "stream",
     "text": [
      "\r",
      " 68%|██████████████████████████████████████████████████████████████████████████████████████████████████████████████████████▎                                                       | 17/25 [01:09<00:34,  4.32s/it]"
     ]
    },
    {
     "name": "stdout",
     "output_type": "stream",
     "text": [
      "BestCad 16.0 0.010160758163118245 0.039707742631435394\n",
      "BestNuclei 16.0 0.9996782074803892 0.9999897480010986\n"
     ]
    },
    {
     "name": "stderr",
     "output_type": "stream",
     "text": [
      "\r",
      " 72%|█████████████████████████████████████████████████████████████████████████████████████████████████████████████████████████████▎                                                | 18/25 [01:13<00:28,  4.13s/it]"
     ]
    },
    {
     "name": "stdout",
     "output_type": "stream",
     "text": [
      "BestCad 17.0 0.0002487838583647317 0.0014500832185149193\n",
      "BestNuclei 17.0 0.9999784915535538 0.9999997615814209\n"
     ]
    },
    {
     "name": "stderr",
     "output_type": "stream",
     "text": [
      "\r",
      " 76%|████████████████████████████████████████████████████████████████████████████████████████████████████████████████████████████████████▏                                         | 19/25 [01:17<00:24,  4.04s/it]"
     ]
    },
    {
     "name": "stdout",
     "output_type": "stream",
     "text": [
      "BestCad 18.0 4.112445222877644e-06 2.011358992604073e-05\n",
      "BestNuclei 18.0 0.9999993567665418 0.9999999403953552\n"
     ]
    },
    {
     "name": "stderr",
     "output_type": "stream",
     "text": [
      "\r",
      " 80%|███████████████████████████████████████████████████████████████████████████████████████████████████████████████████████████████████████████▏                                  | 20/25 [01:21<00:19,  4.00s/it]"
     ]
    },
    {
     "name": "stdout",
     "output_type": "stream",
     "text": [
      "BestCad 19.0 6.653257185996114e-06 5.576042894972488e-05\n",
      "BestNuclei 19.0 0.999999382279136 0.9999998807907104\n"
     ]
    },
    {
     "name": "stderr",
     "output_type": "stream",
     "text": [
      "\r",
      " 84%|██████████████████████████████████████████████████████████████████████████████████████████████████████████████████████████████████████████████████▏                           | 21/25 [01:24<00:15,  3.93s/it]"
     ]
    },
    {
     "name": "stdout",
     "output_type": "stream",
     "text": [
      "BestCad 20.0 1.7176877777274057e-05 0.00013874637079425156\n",
      "BestNuclei 20.0 0.9999987716260164 0.9999997615814209\n"
     ]
    },
    {
     "name": "stderr",
     "output_type": "stream",
     "text": [
      "\r",
      " 88%|█████████████████████████████████████████████████████████████████████████████████████████████████████████████████████████████████████████████████████████                     | 22/25 [01:28<00:11,  3.91s/it]"
     ]
    },
    {
     "name": "stdout",
     "output_type": "stream",
     "text": [
      "BestCad 21.0 4.82719909541629e-06 3.544317587511614e-05\n",
      "BestNuclei 21.0 0.999999483426412 0.9999998807907104\n"
     ]
    },
    {
     "name": "stderr",
     "output_type": "stream",
     "text": [
      "100%|██████████████████████████████████████████████████████████████████████████████████████████████████████████████████████████████████████████████████████████████████████████████| 25/25 [01:32<00:00,  3.71s/it]"
     ]
    },
    {
     "name": "stdout",
     "output_type": "stream",
     "text": [
      "BestCad 22.0 4.8036365771035134e-06 3.496356657706201e-05\n",
      "BestNuclei 22.0 0.9999994124685015 0.9999998807907104\n"
     ]
    },
    {
     "name": "stderr",
     "output_type": "stream",
     "text": [
      "\n"
     ]
    },
    {
     "name": "stdout",
     "output_type": "stream",
     "text": [
      "Detecting focus planes in 210629_Erk_Kate_His_mov1_w1CSU-QUAD-561_s6_t23\n"
     ]
    },
    {
     "name": "stderr",
     "output_type": "stream",
     "text": [
      "  4%|███████                                                                                                                                                                        | 1/25 [00:04<01:55,  4.83s/it]"
     ]
    },
    {
     "name": "stdout",
     "output_type": "stream",
     "text": [
      "BestCad 0.0 0.08599489994849137 0.9970634579658508\n",
      "BestNuclei 0.0 0.0026567948052415693 0.06538844108581543\n"
     ]
    },
    {
     "name": "stderr",
     "output_type": "stream",
     "text": [
      "\r",
      "  8%|██████████████                                                                                                                                                                 | 2/25 [00:08<01:38,  4.28s/it]"
     ]
    },
    {
     "name": "stdout",
     "output_type": "stream",
     "text": [
      "BestCad 1.0 0.17095147397115149 0.9890551567077637\n",
      "BestNuclei 1.0 0.14849990073120212 0.966806173324585\n"
     ]
    },
    {
     "name": "stderr",
     "output_type": "stream",
     "text": [
      "\r",
      " 12%|█████████████████████                                                                                                                                                          | 3/25 [00:12<01:28,  4.01s/it]"
     ]
    },
    {
     "name": "stdout",
     "output_type": "stream",
     "text": [
      "BestCad 2.0 0.005831282121653203 0.0337836816906929\n",
      "BestNuclei 2.0 0.9986389323517129 0.9999716877937317\n"
     ]
    },
    {
     "name": "stderr",
     "output_type": "stream",
     "text": [
      "\r",
      " 16%|████████████████████████████                                                                                                                                                   | 4/25 [00:16<01:22,  3.93s/it]"
     ]
    },
    {
     "name": "stdout",
     "output_type": "stream",
     "text": [
      "BestCad 3.0 0.00011503062073050229 0.0010052641155198216\n",
      "BestNuclei 3.0 0.9999730344171878 0.9999979734420776\n"
     ]
    },
    {
     "name": "stderr",
     "output_type": "stream",
     "text": [
      "\r",
      " 20%|███████████████████████████████████                                                                                                                                            | 5/25 [00:20<01:18,  3.94s/it]"
     ]
    },
    {
     "name": "stdout",
     "output_type": "stream",
     "text": [
      "BestCad 4.0 5.480791552751422e-06 5.8719982916954905e-05\n",
      "BestNuclei 4.0 0.9999993181228638 0.9999999403953552\n"
     ]
    },
    {
     "name": "stderr",
     "output_type": "stream",
     "text": [
      "\r",
      " 24%|██████████████████████████████████████████                                                                                                                                     | 6/25 [00:24<01:14,  3.93s/it]"
     ]
    },
    {
     "name": "stdout",
     "output_type": "stream",
     "text": [
      "BestCad 5.0 3.874338907735364e-05 0.00034460326423868537\n",
      "BestNuclei 5.0 0.9999858736991882 0.9999996423721313\n"
     ]
    },
    {
     "name": "stderr",
     "output_type": "stream",
     "text": [
      "\r",
      " 28%|█████████████████████████████████████████████████                                                                                                                              | 7/25 [00:27<01:10,  3.92s/it]"
     ]
    },
    {
     "name": "stdout",
     "output_type": "stream",
     "text": [
      "BestCad 6.0 1.922765518202141e-05 0.00018750724848359823\n",
      "BestNuclei 6.0 0.9999981373548508 0.9999998211860657\n"
     ]
    },
    {
     "name": "stderr",
     "output_type": "stream",
     "text": [
      "\r",
      " 32%|████████████████████████████████████████████████████████                                                                                                                       | 8/25 [00:31<01:05,  3.87s/it]"
     ]
    },
    {
     "name": "stdout",
     "output_type": "stream",
     "text": [
      "BestCad 7.0 2.0030036615065434e-05 0.0001636980741750449\n",
      "BestNuclei 7.0 0.9999980500766209 0.9999998807907104\n"
     ]
    },
    {
     "name": "stderr",
     "output_type": "stream",
     "text": [
      "\r",
      " 36%|███████████████████████████████████████████████████████████████                                                                                                                | 9/25 [00:35<01:01,  3.87s/it]"
     ]
    },
    {
     "name": "stdout",
     "output_type": "stream",
     "text": [
      "BestCad 8.0 9.296792622990324e-06 8.446307765552774e-05\n",
      "BestNuclei 8.0 0.9999981061978773 1.0\n"
     ]
    },
    {
     "name": "stderr",
     "output_type": "stream",
     "text": [
      "\r",
      " 40%|█████████████████████████████████████████████████████████████████████▌                                                                                                        | 10/25 [00:39<00:58,  3.89s/it]"
     ]
    },
    {
     "name": "stdout",
     "output_type": "stream",
     "text": [
      "BestCad 9.0 3.131118051176903e-05 0.00023776941816322505\n",
      "BestNuclei 9.0 0.9999935472453082 1.0\n"
     ]
    },
    {
     "name": "stderr",
     "output_type": "stream",
     "text": [
      "\r",
      " 44%|████████████████████████████████████████████████████████████████████████████▌                                                                                                 | 11/25 [00:43<00:54,  3.88s/it]"
     ]
    },
    {
     "name": "stdout",
     "output_type": "stream",
     "text": [
      "BestCad 10.0 6.490096259016275e-05 0.0004356876015663147\n",
      "BestNuclei 10.0 0.9999882653355598 1.0\n"
     ]
    },
    {
     "name": "stderr",
     "output_type": "stream",
     "text": [
      "\r",
      " 48%|███████████████████████████████████████████████████████████████████████████████████▌                                                                                          | 12/25 [00:47<00:50,  3.91s/it]"
     ]
    },
    {
     "name": "stdout",
     "output_type": "stream",
     "text": [
      "BestCad 11.0 0.00012933554125993396 0.0006274804472923279\n",
      "BestNuclei 11.0 0.999976372718811 1.0\n"
     ]
    },
    {
     "name": "stderr",
     "output_type": "stream",
     "text": [
      "\r",
      " 52%|██████████████████████████████████████████████████████████████████████████████████████████▍                                                                                   | 13/25 [00:51<00:47,  3.92s/it]"
     ]
    },
    {
     "name": "stdout",
     "output_type": "stream",
     "text": [
      "BestCad 12.0 0.00011232227261643856 0.0006064824992790818\n",
      "BestNuclei 12.0 0.9999599832075613 1.0\n"
     ]
    },
    {
     "name": "stderr",
     "output_type": "stream",
     "text": [
      "\r",
      " 56%|█████████████████████████████████████████████████████████████████████████████████████████████████▍                                                                            | 14/25 [00:55<00:42,  3.87s/it]"
     ]
    },
    {
     "name": "stdout",
     "output_type": "stream",
     "text": [
      "BestCad 13.0 3.05287186345519e-06 1.757246718625538e-05\n",
      "BestNuclei 13.0 0.9999994387229284 1.0\n"
     ]
    },
    {
     "name": "stderr",
     "output_type": "stream",
     "text": [
      "\r",
      " 60%|████████████████████████████████████████████████████████████████████████████████████████████████████████▍                                                                     | 15/25 [00:58<00:38,  3.86s/it]"
     ]
    },
    {
     "name": "stdout",
     "output_type": "stream",
     "text": [
      "BestCad 14.0 2.4736166687944206e-06 1.543363578093704e-05\n",
      "BestNuclei 14.0 0.9999995778004328 1.0\n"
     ]
    },
    {
     "name": "stderr",
     "output_type": "stream",
     "text": [
      "\r",
      " 64%|███████████████████████████████████████████████████████████████████████████████████████████████████████████████▎                                                              | 16/25 [01:02<00:34,  3.81s/it]"
     ]
    },
    {
     "name": "stdout",
     "output_type": "stream",
     "text": [
      "BestCad 15.0 2.0224585068717715e-06 1.0308402124792337e-05\n",
      "BestNuclei 15.0 0.9999995931335117 1.0\n"
     ]
    },
    {
     "name": "stderr",
     "output_type": "stream",
     "text": [
      "\r",
      " 68%|██████████████████████████████████████████████████████████████████████████████████████████████████████████████████████▎                                                       | 17/25 [01:06<00:30,  3.83s/it]"
     ]
    },
    {
     "name": "stdout",
     "output_type": "stream",
     "text": [
      "BestCad 16.0 5.500378371764852e-05 0.00042605819180607796\n",
      "BestNuclei 16.0 0.9999906704539344 1.0\n"
     ]
    },
    {
     "name": "stderr",
     "output_type": "stream",
     "text": [
      "\r",
      " 72%|█████████████████████████████████████████████████████████████████████████████████████████████████████████████████████████████▎                                                | 18/25 [01:12<00:31,  4.50s/it]"
     ]
    },
    {
     "name": "stdout",
     "output_type": "stream",
     "text": [
      "BestCad 17.0 5.13377562840659e-05 0.0003867862978950143\n",
      "BestNuclei 17.0 0.999992698431015 1.0\n"
     ]
    },
    {
     "name": "stderr",
     "output_type": "stream",
     "text": [
      "\r",
      " 76%|████████████████████████████████████████████████████████████████████████████████████████████████████████████████████████████████████▏                                         | 19/25 [01:16<00:25,  4.32s/it]"
     ]
    },
    {
     "name": "stdout",
     "output_type": "stream",
     "text": [
      "BestCad 18.0 5.4217163536755514e-05 0.0004167516017332673\n",
      "BestNuclei 18.0 0.9999716178230618 1.0\n"
     ]
    },
    {
     "name": "stderr",
     "output_type": "stream",
     "text": [
      "\r",
      " 80%|███████████████████████████████████████████████████████████████████████████████████████████████████████████████████████████████████████████▏                                  | 20/25 [01:20<00:20,  4.19s/it]"
     ]
    },
    {
     "name": "stdout",
     "output_type": "stream",
     "text": [
      "BestCad 19.0 9.160457051393677e-06 9.715125634102151e-05\n",
      "BestNuclei 19.0 0.9999987830718359 1.0\n"
     ]
    },
    {
     "name": "stderr",
     "output_type": "stream",
     "text": [
      "\r",
      " 84%|██████████████████████████████████████████████████████████████████████████████████████████████████████████████████████████████████████████████████▏                           | 21/25 [01:24<00:16,  4.10s/it]"
     ]
    },
    {
     "name": "stdout",
     "output_type": "stream",
     "text": [
      "BestCad 20.0 7.658682259640652e-05 0.0005035509821027517\n",
      "BestNuclei 20.0 0.9999885973723038 0.9999995231628418\n"
     ]
    },
    {
     "name": "stderr",
     "output_type": "stream",
     "text": [
      "\r",
      " 88%|█████████████████████████████████████████████████████████████████████████████████████████████████████████████████████████████████████████████████████████                     | 22/25 [01:28<00:12,  4.06s/it]"
     ]
    },
    {
     "name": "stdout",
     "output_type": "stream",
     "text": [
      "BestCad 21.0 0.00017715932583087124 0.0008564181625843048\n",
      "BestNuclei 21.0 0.9999584406614304 0.9999987483024597\n"
     ]
    },
    {
     "name": "stderr",
     "output_type": "stream",
     "text": [
      "100%|██████████████████████████████████████████████████████████████████████████████████████████████████████████████████████████████████████████████████████████████████████████████| 25/25 [01:32<00:00,  3.69s/it]"
     ]
    },
    {
     "name": "stdout",
     "output_type": "stream",
     "text": [
      "BestCad 22.0 6.588882426792855e-05 0.0004048272385261953\n",
      "BestNuclei 22.0 0.9999890664349431 0.9999998807907104\n"
     ]
    },
    {
     "name": "stderr",
     "output_type": "stream",
     "text": [
      "\n"
     ]
    },
    {
     "name": "stdout",
     "output_type": "stream",
     "text": [
      "Detecting focus planes in 210629_Erk_Kate_His_mov1_w3CSU-QUAD-561_s10_t8\n"
     ]
    },
    {
     "name": "stderr",
     "output_type": "stream",
     "text": [
      "  4%|███████                                                                                                                                                                        | 1/25 [00:04<01:57,  4.89s/it]"
     ]
    },
    {
     "name": "stdout",
     "output_type": "stream",
     "text": [
      "BestCad 0.0 0.03022931119439818 0.5471976399421692\n",
      "BestNuclei 0.0 0.0097228824809368 0.20322266221046448\n"
     ]
    },
    {
     "name": "stderr",
     "output_type": "stream",
     "text": [
      "\r",
      "  8%|██████████████                                                                                                                                                                 | 2/25 [00:08<01:33,  4.06s/it]"
     ]
    },
    {
     "name": "stdout",
     "output_type": "stream",
     "text": [
      "BestCad 1.0 0.07325561635595552 0.9980003237724304\n",
      "BestNuclei 1.0 2.148835188089948e-05 0.0002774994936771691\n"
     ]
    },
    {
     "name": "stderr",
     "output_type": "stream",
     "text": [
      "\r",
      " 12%|█████████████████████                                                                                                                                                          | 3/25 [00:11<01:22,  3.75s/it]"
     ]
    },
    {
     "name": "stdout",
     "output_type": "stream",
     "text": [
      "BestCad 2.0 0.09264392333485051 0.9998995661735535\n",
      "BestNuclei 2.0 2.9264447911710526e-05 0.0003367480239830911\n"
     ]
    },
    {
     "name": "stderr",
     "output_type": "stream",
     "text": [
      "\r",
      " 16%|████████████████████████████                                                                                                                                                   | 4/25 [00:15<01:16,  3.63s/it]"
     ]
    },
    {
     "name": "stdout",
     "output_type": "stream",
     "text": [
      "BestCad 3.0 0.1382477211315117 0.9999498724937439\n",
      "BestNuclei 3.0 6.979707795839463e-05 0.001323235803283751\n"
     ]
    },
    {
     "name": "stderr",
     "output_type": "stream",
     "text": [
      "\r",
      " 20%|███████████████████████████████████                                                                                                                                            | 5/25 [00:18<01:11,  3.57s/it]"
     ]
    },
    {
     "name": "stdout",
     "output_type": "stream",
     "text": [
      "BestCad 4.0 0.22893513949400882 0.9999656081199646\n",
      "BestNuclei 4.0 0.0014376487976941886 0.015231430530548096\n"
     ]
    },
    {
     "name": "stderr",
     "output_type": "stream",
     "text": [
      "\r",
      " 24%|██████████████████████████████████████████                                                                                                                                     | 6/25 [00:21<01:06,  3.48s/it]"
     ]
    },
    {
     "name": "stdout",
     "output_type": "stream",
     "text": [
      "BestCad 5.0 0.2531439482286686 0.9997793436050415\n",
      "BestNuclei 5.0 0.04368744221723273 0.7402176856994629\n"
     ]
    },
    {
     "name": "stderr",
     "output_type": "stream",
     "text": [
      "\r",
      " 28%|█████████████████████████████████████████████████                                                                                                                              | 7/25 [00:25<01:01,  3.44s/it]"
     ]
    },
    {
     "name": "stdout",
     "output_type": "stream",
     "text": [
      "BestCad 6.0 0.28336117977093994 0.9991520047187805\n",
      "BestNuclei 6.0 0.1012455038981514 0.9791966080665588\n"
     ]
    },
    {
     "name": "stderr",
     "output_type": "stream",
     "text": [
      "\r",
      " 32%|████████████████████████████████████████████████████████                                                                                                                       | 8/25 [00:28<00:57,  3.41s/it]"
     ]
    },
    {
     "name": "stdout",
     "output_type": "stream",
     "text": [
      "BestCad 7.0 0.35184360010824395 0.9990660548210144\n",
      "BestNuclei 7.0 0.09978680076141265 0.9991778135299683\n"
     ]
    },
    {
     "name": "stderr",
     "output_type": "stream",
     "text": [
      "\r",
      " 36%|███████████████████████████████████████████████████████████████                                                                                                                | 9/25 [00:31<00:54,  3.38s/it]"
     ]
    },
    {
     "name": "stdout",
     "output_type": "stream",
     "text": [
      "BestCad 8.0 0.5124151503373666 0.9987496137619019\n",
      "BestNuclei 8.0 0.17683437522380901 0.999993085861206\n"
     ]
    },
    {
     "name": "stderr",
     "output_type": "stream",
     "text": [
      "\r",
      " 40%|█████████████████████████████████████████████████████████████████████▌                                                                                                        | 10/25 [00:35<00:50,  3.37s/it]"
     ]
    },
    {
     "name": "stdout",
     "output_type": "stream",
     "text": [
      "BestCad 9.0 0.5048456581900372 0.9986735582351685\n",
      "BestNuclei 9.0 0.24743868153571724 0.9999998807907104\n"
     ]
    },
    {
     "name": "stderr",
     "output_type": "stream",
     "text": [
      "\r",
      " 44%|████████████████████████████████████████████████████████████████████████████▌                                                                                                 | 11/25 [00:38<00:47,  3.37s/it]"
     ]
    },
    {
     "name": "stdout",
     "output_type": "stream",
     "text": [
      "BestCad 10.0 0.5039378945402859 0.9984128475189209\n",
      "BestNuclei 10.0 0.2688053199030477 1.0\n"
     ]
    },
    {
     "name": "stderr",
     "output_type": "stream",
     "text": [
      "\r",
      " 48%|███████████████████████████████████████████████████████████████████████████████████▌                                                                                          | 12/25 [00:42<00:44,  3.39s/it]"
     ]
    },
    {
     "name": "stdout",
     "output_type": "stream",
     "text": [
      "BestCad 11.0 0.4338205604052002 0.925674557685852\n",
      "BestNuclei 11.0 0.7379843209471021 0.9999988079071045\n"
     ]
    },
    {
     "name": "stderr",
     "output_type": "stream",
     "text": [
      "\r",
      " 52%|██████████████████████████████████████████████████████████████████████████████████████████▍                                                                                   | 13/25 [00:45<00:40,  3.42s/it]"
     ]
    },
    {
     "name": "stdout",
     "output_type": "stream",
     "text": [
      "BestCad 12.0 0.0011715736412346207 0.0024590592365711927\n",
      "BestNuclei 12.0 0.9998022136480912 0.9999980330467224\n"
     ]
    },
    {
     "name": "stderr",
     "output_type": "stream",
     "text": [
      "\r",
      " 56%|█████████████████████████████████████████████████████████████████████████████████████████████████▍                                                                            | 14/25 [00:49<00:38,  3.46s/it]"
     ]
    },
    {
     "name": "stdout",
     "output_type": "stream",
     "text": [
      "BestCad 13.0 9.131454830172256e-05 0.0005475931102409959\n",
      "BestNuclei 13.0 0.9999915957450867 0.9999998211860657\n"
     ]
    },
    {
     "name": "stderr",
     "output_type": "stream",
     "text": [
      "\r",
      " 60%|████████████████████████████████████████████████████████████████████████████████████████████████████████▍                                                                     | 15/25 [00:52<00:35,  3.53s/it]"
     ]
    },
    {
     "name": "stdout",
     "output_type": "stream",
     "text": [
      "BestCad 14.0 8.498331838133957e-05 0.000924428750295192\n",
      "BestNuclei 14.0 0.9999935626983643 0.9999998807907104\n"
     ]
    },
    {
     "name": "stderr",
     "output_type": "stream",
     "text": [
      "\r",
      " 64%|███████████████████████████████████████████████████████████████████████████████████████████████████████████████▎                                                              | 16/25 [00:56<00:32,  3.58s/it]"
     ]
    },
    {
     "name": "stdout",
     "output_type": "stream",
     "text": [
      "BestCad 15.0 3.6200604324934915e-05 0.0003996667801402509\n",
      "BestNuclei 15.0 0.999997215270996 0.9999998807907104\n"
     ]
    },
    {
     "name": "stderr",
     "output_type": "stream",
     "text": [
      "\r",
      " 68%|██████████████████████████████████████████████████████████████████████████████████████████████████████████████████████▎                                                       | 17/25 [01:00<00:29,  3.65s/it]"
     ]
    },
    {
     "name": "stdout",
     "output_type": "stream",
     "text": [
      "BestCad 16.0 4.870670208042018e-05 0.0005809127469547093\n",
      "BestNuclei 16.0 0.9999972089477207 0.9999998807907104\n"
     ]
    },
    {
     "name": "stderr",
     "output_type": "stream",
     "text": [
      "\r",
      " 72%|█████████████████████████████████████████████████████████████████████████████████████████████████████████████████████████████▎                                                | 18/25 [01:04<00:25,  3.65s/it]"
     ]
    },
    {
     "name": "stdout",
     "output_type": "stream",
     "text": [
      "BestCad 17.0 3.6096168092366755e-05 0.00032976403599604964\n",
      "BestNuclei 17.0 0.9999972557028135 0.9999998807907104\n"
     ]
    },
    {
     "name": "stderr",
     "output_type": "stream",
     "text": [
      "\r",
      " 76%|████████████████████████████████████████████████████████████████████████████████████████████████████████████████████████████████████▏                                         | 19/25 [01:07<00:21,  3.60s/it]"
     ]
    },
    {
     "name": "stdout",
     "output_type": "stream",
     "text": [
      "BestCad 18.0 0.00016073791854606415 0.0019690890330821276\n",
      "BestNuclei 18.0 0.9999932294542139 0.9999998807907104\n"
     ]
    },
    {
     "name": "stderr",
     "output_type": "stream",
     "text": [
      "\r",
      " 80%|███████████████████████████████████████████████████████████████████████████████████████████████████████████████████████████████████████████▏                                  | 20/25 [01:13<00:21,  4.25s/it]"
     ]
    },
    {
     "name": "stdout",
     "output_type": "stream",
     "text": [
      "BestCad 19.0 0.0011858734766934979 0.01099146157503128\n",
      "BestNuclei 19.0 0.9998950154885001 0.9999996423721313\n"
     ]
    },
    {
     "name": "stderr",
     "output_type": "stream",
     "text": [
      "\r",
      " 84%|██████████████████████████████████████████████████████████████████████████████████████████████████████████████████████████████████████████████████▏                           | 21/25 [01:16<00:15,  3.97s/it]"
     ]
    },
    {
     "name": "stdout",
     "output_type": "stream",
     "text": [
      "BestCad 20.0 0.022856882339428095 0.2015421986579895\n",
      "BestNuclei 20.0 0.9983375045386228 0.9999980330467224\n"
     ]
    },
    {
     "name": "stderr",
     "output_type": "stream",
     "text": [
      "\r",
      " 88%|█████████████████████████████████████████████████████████████████████████████████████████████████████████████████████████████████████████████████████████                     | 22/25 [01:20<00:11,  3.83s/it]"
     ]
    },
    {
     "name": "stdout",
     "output_type": "stream",
     "text": [
      "BestCad 21.0 0.0028950812004989966 0.0350077822804451\n",
      "BestNuclei 21.0 0.9998890405351465 0.9999995827674866\n"
     ]
    },
    {
     "name": "stderr",
     "output_type": "stream",
     "text": [
      "100%|██████████████████████████████████████████████████████████████████████████████████████████████████████████████████████████████████████████████████████████████████████████████| 25/25 [01:23<00:00,  3.35s/it]"
     ]
    },
    {
     "name": "stdout",
     "output_type": "stream",
     "text": [
      "BestCad 22.0 0.0025316759899942556 0.040908776223659515\n",
      "BestNuclei 22.0 0.9998155689239502 0.9999997615814209\n"
     ]
    },
    {
     "name": "stderr",
     "output_type": "stream",
     "text": [
      "\n"
     ]
    },
    {
     "name": "stdout",
     "output_type": "stream",
     "text": [
      "Detecting focus planes in 210629_Erk_Kate_His_mov1_w3CSU-QUAD-561_s4_t27\n"
     ]
    },
    {
     "name": "stderr",
     "output_type": "stream",
     "text": [
      "  4%|███████                                                                                                                                                                        | 1/25 [00:04<01:46,  4.44s/it]"
     ]
    },
    {
     "name": "stdout",
     "output_type": "stream",
     "text": [
      "BestCad 0.0 1.0272077456887163e-05 5.191804302739911e-05\n",
      "BestNuclei 0.0 1.1747829535943246e-09 5.728838292640148e-09\n"
     ]
    },
    {
     "name": "stderr",
     "output_type": "stream",
     "text": [
      "\r",
      "  8%|██████████████                                                                                                                                                                 | 2/25 [00:07<01:27,  3.81s/it]"
     ]
    },
    {
     "name": "stdout",
     "output_type": "stream",
     "text": [
      "BestCad 1.0 1.1234953495369899e-05 8.25064125820063e-05\n",
      "BestNuclei 1.0 1.36109582878951e-09 8.511262805654951e-09\n"
     ]
    },
    {
     "name": "stderr",
     "output_type": "stream",
     "text": [
      "\r",
      " 12%|█████████████████████                                                                                                                                                          | 3/25 [00:11<01:20,  3.65s/it]"
     ]
    },
    {
     "name": "stdout",
     "output_type": "stream",
     "text": [
      "BestCad 2.0 9.419888123201894e-06 7.74397631175816e-05\n",
      "BestNuclei 2.0 6.802100135079437e-10 3.7760550242182944e-09\n"
     ]
    },
    {
     "name": "stderr",
     "output_type": "stream",
     "text": [
      "\r",
      " 16%|████████████████████████████                                                                                                                                                   | 4/25 [00:14<01:14,  3.57s/it]"
     ]
    },
    {
     "name": "stdout",
     "output_type": "stream",
     "text": [
      "BestCad 3.0 2.5940134838720043e-05 0.0003859957796521485\n",
      "BestNuclei 3.0 1.2394523387135447e-09 1.0252508175767616e-08\n"
     ]
    },
    {
     "name": "stderr",
     "output_type": "stream",
     "text": [
      "\r",
      " 20%|███████████████████████████████████                                                                                                                                            | 5/25 [00:18<01:10,  3.52s/it]"
     ]
    },
    {
     "name": "stdout",
     "output_type": "stream",
     "text": [
      "BestCad 4.0 2.021195693755473e-05 0.00010929816198768094\n",
      "BestNuclei 4.0 8.270750865430055e-10 4.970881484211986e-09\n"
     ]
    },
    {
     "name": "stderr",
     "output_type": "stream",
     "text": [
      "\r",
      " 24%|██████████████████████████████████████████                                                                                                                                     | 6/25 [00:21<01:06,  3.52s/it]"
     ]
    },
    {
     "name": "stdout",
     "output_type": "stream",
     "text": [
      "BestCad 5.0 2.7360735507642176e-05 8.505847654305398e-05\n",
      "BestNuclei 5.0 6.197263849755094e-10 2.201969939719106e-09\n"
     ]
    },
    {
     "name": "stderr",
     "output_type": "stream",
     "text": [
      "\r",
      " 28%|█████████████████████████████████████████████████                                                                                                                              | 7/25 [00:25<01:03,  3.54s/it]"
     ]
    },
    {
     "name": "stdout",
     "output_type": "stream",
     "text": [
      "BestCad 6.0 0.000144866289122092 0.0016066264361143112\n",
      "BestNuclei 6.0 4.717523370292192e-09 4.979560230822244e-08\n"
     ]
    },
    {
     "name": "stderr",
     "output_type": "stream",
     "text": [
      "\r",
      " 32%|████████████████████████████████████████████████████████                                                                                                                       | 8/25 [00:28<00:59,  3.51s/it]"
     ]
    },
    {
     "name": "stdout",
     "output_type": "stream",
     "text": [
      "BestCad 7.0 0.0018371924854960753 0.037796176970005035\n",
      "BestNuclei 7.0 9.890355049410691e-08 1.9027439748242614e-06\n"
     ]
    },
    {
     "name": "stderr",
     "output_type": "stream",
     "text": [
      "\r",
      " 36%|███████████████████████████████████████████████████████████████                                                                                                                | 9/25 [00:32<00:57,  3.57s/it]"
     ]
    },
    {
     "name": "stdout",
     "output_type": "stream",
     "text": [
      "BestCad 8.0 0.039893743416217355 0.9529839754104614\n",
      "BestNuclei 8.0 6.806765127199724e-07 1.5129347957554273e-05\n"
     ]
    },
    {
     "name": "stderr",
     "output_type": "stream",
     "text": [
      "\r",
      " 40%|█████████████████████████████████████████████████████████████████████▌                                                                                                        | 10/25 [00:36<00:54,  3.63s/it]"
     ]
    },
    {
     "name": "stdout",
     "output_type": "stream",
     "text": [
      "BestCad 9.0 0.05014050838453634 0.9996609091758728\n",
      "BestNuclei 9.0 8.939719729185447e-07 1.6116509868879803e-05\n"
     ]
    },
    {
     "name": "stderr",
     "output_type": "stream",
     "text": [
      "\r",
      " 44%|████████████████████████████████████████████████████████████████████████████▌                                                                                                 | 11/25 [00:40<00:52,  3.75s/it]"
     ]
    },
    {
     "name": "stdout",
     "output_type": "stream",
     "text": [
      "BestCad 10.0 0.11573344463674759 0.999971866607666\n",
      "BestNuclei 10.0 5.490237084662733e-06 5.5232671002158895e-05\n"
     ]
    },
    {
     "name": "stderr",
     "output_type": "stream",
     "text": [
      "\r",
      " 48%|███████████████████████████████████████████████████████████████████████████████████▌                                                                                          | 12/25 [00:44<00:49,  3.83s/it]"
     ]
    },
    {
     "name": "stdout",
     "output_type": "stream",
     "text": [
      "BestCad 11.0 0.20227780699233847 0.9999968409538269\n",
      "BestNuclei 11.0 4.352443596777426e-05 0.0006483990582637489\n"
     ]
    },
    {
     "name": "stderr",
     "output_type": "stream",
     "text": [
      "\r",
      " 52%|██████████████████████████████████████████████████████████████████████████████████████████▍                                                                                   | 13/25 [00:48<00:46,  3.88s/it]"
     ]
    },
    {
     "name": "stdout",
     "output_type": "stream",
     "text": [
      "BestCad 12.0 0.2985911425066138 0.9999974370002747\n",
      "BestNuclei 12.0 0.002405506139627305 0.05439005047082901\n"
     ]
    },
    {
     "name": "stderr",
     "output_type": "stream",
     "text": [
      "\r",
      " 56%|█████████████████████████████████████████████████████████████████████████████████████████████████▍                                                                            | 14/25 [00:52<00:42,  3.88s/it]"
     ]
    },
    {
     "name": "stdout",
     "output_type": "stream",
     "text": [
      "BestCad 13.0 0.3985849872136714 0.9999983310699463\n",
      "BestNuclei 13.0 0.020491853126029868 0.38722121715545654\n"
     ]
    },
    {
     "name": "stderr",
     "output_type": "stream",
     "text": [
      "\r",
      " 60%|████████████████████████████████████████████████████████████████████████████████████████████████████████▍                                                                     | 15/25 [00:56<00:39,  3.92s/it]"
     ]
    },
    {
     "name": "stdout",
     "output_type": "stream",
     "text": [
      "BestCad 14.0 0.5144744937849912 0.9999856352806091\n",
      "BestNuclei 14.0 0.03415569596233977 0.7887775301933289\n"
     ]
    },
    {
     "name": "stderr",
     "output_type": "stream",
     "text": [
      "\r",
      " 64%|███████████████████████████████████████████████████████████████████████████████████████████████████████████████▎                                                              | 16/25 [01:00<00:35,  3.92s/it]"
     ]
    },
    {
     "name": "stdout",
     "output_type": "stream",
     "text": [
      "BestCad 15.0 0.7103055320912972 0.9999568462371826\n",
      "BestNuclei 15.0 0.055891057476159176 0.9659057855606079\n"
     ]
    },
    {
     "name": "stderr",
     "output_type": "stream",
     "text": [
      "\r",
      " 68%|██████████████████████████████████████████████████████████████████████████████████████████████████████████████████████▎                                                       | 17/25 [01:03<00:30,  3.86s/it]"
     ]
    },
    {
     "name": "stdout",
     "output_type": "stream",
     "text": [
      "BestCad 16.0 0.8860564351729725 0.9999416470527649\n",
      "BestNuclei 16.0 0.17575873419776722 0.9980716705322266\n"
     ]
    },
    {
     "name": "stderr",
     "output_type": "stream",
     "text": [
      "\r",
      " 72%|█████████████████████████████████████████████████████████████████████████████████████████████████████████████████████████████▎                                                | 18/25 [01:07<00:26,  3.79s/it]"
     ]
    },
    {
     "name": "stdout",
     "output_type": "stream",
     "text": [
      "BestCad 17.0 0.9329725303576284 0.9999841451644897\n",
      "BestNuclei 17.0 0.2850571924746755 0.9998850226402283\n"
     ]
    },
    {
     "name": "stderr",
     "output_type": "stream",
     "text": [
      "\r",
      " 76%|████████████████████████████████████████████████████████████████████████████████████████████████████████████████████████████████████▏                                         | 19/25 [01:11<00:22,  3.76s/it]"
     ]
    },
    {
     "name": "stdout",
     "output_type": "stream",
     "text": [
      "BestCad 18.0 0.9253695259491602 0.9999982714653015\n",
      "BestNuclei 18.0 0.37666864824284857 0.9999912977218628\n"
     ]
    },
    {
     "name": "stderr",
     "output_type": "stream",
     "text": [
      "\r",
      " 80%|███████████████████████████████████████████████████████████████████████████████████████████████████████████████████████████████████████████▏                                  | 20/25 [01:14<00:18,  3.74s/it]"
     ]
    },
    {
     "name": "stdout",
     "output_type": "stream",
     "text": [
      "BestCad 19.0 0.9039446372877468 0.9999861717224121\n",
      "BestNuclei 19.0 0.48094058056085487 0.9999988675117493\n"
     ]
    },
    {
     "name": "stderr",
     "output_type": "stream",
     "text": [
      "\r",
      " 84%|██████████████████████████████████████████████████████████████████████████████████████████████████████████████████████████████████████████████████▏                           | 21/25 [01:18<00:14,  3.70s/it]"
     ]
    },
    {
     "name": "stdout",
     "output_type": "stream",
     "text": [
      "BestCad 20.0 0.5994002635008655 0.994126558303833\n",
      "BestNuclei 20.0 0.8675606221608494 0.9999990463256836\n"
     ]
    },
    {
     "name": "stderr",
     "output_type": "stream",
     "text": [
      "\r",
      " 88%|█████████████████████████████████████████████████████████████████████████████████████████████████████████████████████████████████████████████████████████                     | 22/25 [01:22<00:11,  3.70s/it]"
     ]
    },
    {
     "name": "stdout",
     "output_type": "stream",
     "text": [
      "BestCad 21.0 0.6750568083741448 0.9892306327819824\n",
      "BestNuclei 21.0 0.7954921343404314 0.999998927116394\n"
     ]
    },
    {
     "name": "stderr",
     "output_type": "stream",
     "text": [
      "100%|██████████████████████████████████████████████████████████████████████████████████████████████████████████████████████████████████████████████████████████████████████████████| 25/25 [01:25<00:00,  3.43s/it]"
     ]
    },
    {
     "name": "stdout",
     "output_type": "stream",
     "text": [
      "BestCad 22.0 0.5457973994314671 0.982569694519043\n",
      "BestNuclei 22.0 0.8795269525051117 0.9999995231628418\n"
     ]
    },
    {
     "name": "stderr",
     "output_type": "stream",
     "text": [
      "\n"
     ]
    },
    {
     "name": "stdout",
     "output_type": "stream",
     "text": [
      "Detecting focus planes in 210629_Erk_Kate_His_mov1_w3CSU-QUAD-561_s11_t24\n"
     ]
    },
    {
     "name": "stderr",
     "output_type": "stream",
     "text": [
      "  4%|███████                                                                                                                                                                        | 1/25 [00:04<01:53,  4.72s/it]"
     ]
    },
    {
     "name": "stdout",
     "output_type": "stream",
     "text": [
      "BestCad 0.0 6.088489329608199e-05 0.0007010955014266074\n",
      "BestNuclei 0.0 1.978352260959139e-08 1.7353978876144538e-07\n"
     ]
    },
    {
     "name": "stderr",
     "output_type": "stream",
     "text": [
      "\r",
      "  8%|██████████████                                                                                                                                                                 | 2/25 [00:08<01:40,  4.37s/it]"
     ]
    },
    {
     "name": "stdout",
     "output_type": "stream",
     "text": [
      "BestCad 1.0 5.965467410430305e-05 0.0003275444032624364\n",
      "BestNuclei 1.0 1.690665917538813e-08 1.4389746638698853e-07\n"
     ]
    },
    {
     "name": "stderr",
     "output_type": "stream",
     "text": [
      "\r",
      " 12%|█████████████████████                                                                                                                                                          | 3/25 [00:12<01:31,  4.18s/it]"
     ]
    },
    {
     "name": "stdout",
     "output_type": "stream",
     "text": [
      "BestCad 2.0 0.00013537228767020117 0.0018675723113119602\n",
      "BestNuclei 2.0 5.010690561212447e-09 3.2966532614864263e-08\n"
     ]
    },
    {
     "name": "stderr",
     "output_type": "stream",
     "text": [
      "\r",
      " 16%|████████████████████████████                                                                                                                                                   | 4/25 [00:16<01:26,  4.13s/it]"
     ]
    },
    {
     "name": "stdout",
     "output_type": "stream",
     "text": [
      "BestCad 3.0 6.257721240048212e-05 0.0011374650057405233\n",
      "BestNuclei 3.0 1.124669935906067e-08 1.424140947392516e-07\n"
     ]
    },
    {
     "name": "stderr",
     "output_type": "stream",
     "text": [
      "\r",
      " 20%|███████████████████████████████████                                                                                                                                            | 5/25 [00:21<01:24,  4.20s/it]"
     ]
    },
    {
     "name": "stdout",
     "output_type": "stream",
     "text": [
      "BestCad 4.0 6.618181953873166e-05 0.0003979126922786236\n",
      "BestNuclei 4.0 1.6075903213417432e-08 2.9373725851655763e-07\n"
     ]
    },
    {
     "name": "stderr",
     "output_type": "stream",
     "text": [
      "\r",
      " 24%|██████████████████████████████████████████                                                                                                                                     | 6/25 [00:25<01:20,  4.25s/it]"
     ]
    },
    {
     "name": "stdout",
     "output_type": "stream",
     "text": [
      "BestCad 5.0 0.0018668922357559126 0.01366889663040638\n",
      "BestNuclei 5.0 7.066916676451303e-08 9.022768381328206e-07\n"
     ]
    },
    {
     "name": "stderr",
     "output_type": "stream",
     "text": [
      "\r",
      " 28%|█████████████████████████████████████████████████                                                                                                                              | 7/25 [00:29<01:17,  4.30s/it]"
     ]
    },
    {
     "name": "stdout",
     "output_type": "stream",
     "text": [
      "BestCad 6.0 0.06671864179121532 0.963093638420105\n",
      "BestNuclei 6.0 7.904485298679561e-06 0.00012170977424830198\n"
     ]
    },
    {
     "name": "stderr",
     "output_type": "stream",
     "text": [
      "\r",
      " 32%|████████████████████████████████████████████████████████                                                                                                                       | 8/25 [00:34<01:13,  4.31s/it]"
     ]
    },
    {
     "name": "stdout",
     "output_type": "stream",
     "text": [
      "BestCad 7.0 0.09188144476645216 0.9827212691307068\n",
      "BestNuclei 7.0 7.666953618928853e-05 0.0014365834649652243\n"
     ]
    },
    {
     "name": "stderr",
     "output_type": "stream",
     "text": [
      "\r",
      " 36%|███████████████████████████████████████████████████████████████                                                                                                                | 9/25 [00:38<01:10,  4.38s/it]"
     ]
    },
    {
     "name": "stdout",
     "output_type": "stream",
     "text": [
      "BestCad 8.0 0.20769990522617957 0.9997410774230957\n",
      "BestNuclei 8.0 0.0013800201333254525 0.027516096830368042\n"
     ]
    },
    {
     "name": "stderr",
     "output_type": "stream",
     "text": [
      "\r",
      " 40%|█████████████████████████████████████████████████████████████████████▌                                                                                                        | 10/25 [00:43<01:06,  4.43s/it]"
     ]
    },
    {
     "name": "stdout",
     "output_type": "stream",
     "text": [
      "BestCad 9.0 0.2989822495035999 0.998967707157135\n",
      "BestNuclei 9.0 0.018703529859508728 0.31860291957855225\n"
     ]
    },
    {
     "name": "stderr",
     "output_type": "stream",
     "text": [
      "\r",
      " 44%|████████████████████████████████████████████████████████████████████████████▌                                                                                                 | 11/25 [00:47<01:02,  4.45s/it]"
     ]
    },
    {
     "name": "stdout",
     "output_type": "stream",
     "text": [
      "BestCad 10.0 0.33843605523229187 0.9987345933914185\n",
      "BestNuclei 10.0 0.09245874512521167 0.9840685725212097\n"
     ]
    },
    {
     "name": "stderr",
     "output_type": "stream",
     "text": [
      "\r",
      " 48%|███████████████████████████████████████████████████████████████████████████████████▌                                                                                          | 12/25 [00:52<00:57,  4.43s/it]"
     ]
    },
    {
     "name": "stdout",
     "output_type": "stream",
     "text": [
      "BestCad 11.0 0.4661661810849024 0.9954184889793396\n",
      "BestNuclei 11.0 0.162959832100496 0.9967035055160522\n"
     ]
    },
    {
     "name": "stderr",
     "output_type": "stream",
     "text": [
      "\r",
      " 52%|██████████████████████████████████████████████████████████████████████████████████████████▍                                                                                   | 13/25 [00:56<00:51,  4.33s/it]"
     ]
    },
    {
     "name": "stdout",
     "output_type": "stream",
     "text": [
      "BestCad 12.0 0.0027337665047856385 0.014663832262158394\n",
      "BestNuclei 12.0 0.9995890764089731 0.9999678730964661\n"
     ]
    },
    {
     "name": "stderr",
     "output_type": "stream",
     "text": [
      "\r",
      " 56%|█████████████████████████████████████████████████████████████████████████████████████████████████▍                                                                            | 14/25 [00:59<00:45,  4.12s/it]"
     ]
    },
    {
     "name": "stdout",
     "output_type": "stream",
     "text": [
      "BestCad 13.0 0.0027391984287532976 0.020991530269384384\n",
      "BestNuclei 13.0 0.9996355198896848 0.9999815821647644\n"
     ]
    },
    {
     "name": "stderr",
     "output_type": "stream",
     "text": [
      "\r",
      " 60%|████████████████████████████████████████████████████████████████████████████████████████████████████████▍                                                                     | 15/25 [01:03<00:39,  3.96s/it]"
     ]
    },
    {
     "name": "stdout",
     "output_type": "stream",
     "text": [
      "BestCad 14.0 8.076404514039972e-05 0.00028971111169084907\n",
      "BestNuclei 14.0 0.9999903639157613 0.9999986886978149\n"
     ]
    },
    {
     "name": "stderr",
     "output_type": "stream",
     "text": [
      "\r",
      " 64%|███████████████████████████████████████████████████████████████████████████████████████████████████████████████▎                                                              | 16/25 [01:07<00:34,  3.83s/it]"
     ]
    },
    {
     "name": "stdout",
     "output_type": "stream",
     "text": [
      "BestCad 15.0 0.00010825583769308815 0.0007265487220138311\n",
      "BestNuclei 15.0 0.9999879002571106 0.9999986290931702\n"
     ]
    },
    {
     "name": "stderr",
     "output_type": "stream",
     "text": [
      "\r",
      " 68%|██████████████████████████████████████████████████████████████████████████████████████████████████████████████████████▎                                                       | 17/25 [01:10<00:29,  3.72s/it]"
     ]
    },
    {
     "name": "stdout",
     "output_type": "stream",
     "text": [
      "BestCad 16.0 0.00021889922390982974 0.002109646564349532\n",
      "BestNuclei 16.0 0.9999838212262029 0.999998927116394\n"
     ]
    },
    {
     "name": "stderr",
     "output_type": "stream",
     "text": [
      "\r",
      " 72%|█████████████████████████████████████████████████████████████████████████████████████████████████████████████████████████████▎                                                | 18/25 [01:14<00:25,  3.69s/it]"
     ]
    },
    {
     "name": "stdout",
     "output_type": "stream",
     "text": [
      "BestCad 17.0 3.295285173111473e-05 0.00028434471460059285\n",
      "BestNuclei 17.0 0.9999974966049194 0.9999995231628418\n"
     ]
    },
    {
     "name": "stderr",
     "output_type": "stream",
     "text": [
      "\r",
      " 76%|████████████████████████████████████████████████████████████████████████████████████████████████████████████████████████████████████▏                                         | 19/25 [01:17<00:22,  3.68s/it]"
     ]
    },
    {
     "name": "stdout",
     "output_type": "stream",
     "text": [
      "BestCad 18.0 4.4916656774841525e-05 0.00029452063608914614\n",
      "BestNuclei 18.0 0.999996501665849 0.9999994039535522\n"
     ]
    },
    {
     "name": "stderr",
     "output_type": "stream",
     "text": [
      "\r",
      " 80%|███████████████████████████████████████████████████████████████████████████████████████████████████████████████████████████████████████████▏                                  | 20/25 [01:21<00:18,  3.65s/it]"
     ]
    },
    {
     "name": "stdout",
     "output_type": "stream",
     "text": [
      "BestCad 19.0 6.885137401530466e-05 0.0004505357937887311\n",
      "BestNuclei 19.0 0.9999953577151666 0.9999991655349731\n"
     ]
    },
    {
     "name": "stderr",
     "output_type": "stream",
     "text": [
      "\r",
      " 84%|██████████████████████████████████████████████████████████████████████████████████████████████████████████████████████████████████████████████████▏                           | 21/25 [01:24<00:14,  3.61s/it]"
     ]
    },
    {
     "name": "stdout",
     "output_type": "stream",
     "text": [
      "BestCad 20.0 0.000287555649568579 0.0011823892127722502\n",
      "BestNuclei 20.0 0.9999783730506897 0.9999995231628418\n"
     ]
    },
    {
     "name": "stderr",
     "output_type": "stream",
     "text": [
      "\r",
      " 88%|█████████████████████████████████████████████████████████████████████████████████████████████████████████████████████████████████████████████████████████                     | 22/25 [01:28<00:10,  3.56s/it]"
     ]
    },
    {
     "name": "stdout",
     "output_type": "stream",
     "text": [
      "BestCad 21.0 0.0008650592632045078 0.0030467070173472166\n",
      "BestNuclei 21.0 0.9999455979892186 0.9999997615814209\n"
     ]
    },
    {
     "name": "stderr",
     "output_type": "stream",
     "text": [
      "100%|██████████████████████████████████████████████████████████████████████████████████████████████████████████████████████████████████████████████████████████████████████████████| 25/25 [01:31<00:00,  3.67s/it]"
     ]
    },
    {
     "name": "stdout",
     "output_type": "stream",
     "text": [
      "BestCad 22.0 0.0020884829698063967 0.008345123380422592\n",
      "BestNuclei 22.0 0.9998790564991179 0.9999996423721313\n"
     ]
    },
    {
     "name": "stderr",
     "output_type": "stream",
     "text": [
      "\n"
     ]
    },
    {
     "name": "stdout",
     "output_type": "stream",
     "text": [
      "Detecting focus planes in 210629_Erk_Kate_His_mov1_w1CSU-QUAD-561_s5_t21\n"
     ]
    },
    {
     "name": "stderr",
     "output_type": "stream",
     "text": [
      "  4%|███████                                                                                                                                                                        | 1/25 [00:04<01:56,  4.85s/it]"
     ]
    },
    {
     "name": "stdout",
     "output_type": "stream",
     "text": [
      "BestCad 0.0 0.08281321725529978 0.9998947978019714\n",
      "BestNuclei 0.0 1.1754405295612123e-05 0.00021835265215486288\n"
     ]
    },
    {
     "name": "stderr",
     "output_type": "stream",
     "text": [
      "\r",
      "  8%|██████████████                                                                                                                                                                 | 2/25 [00:08<01:38,  4.30s/it]"
     ]
    },
    {
     "name": "stdout",
     "output_type": "stream",
     "text": [
      "BestCad 1.0 0.05478063574423686 0.9966146349906921\n",
      "BestNuclei 1.0 2.0855053493145277e-05 0.00047221966087818146\n"
     ]
    },
    {
     "name": "stderr",
     "output_type": "stream",
     "text": [
      "\r",
      " 12%|█████████████████████                                                                                                                                                          | 3/25 [00:12<01:33,  4.25s/it]"
     ]
    },
    {
     "name": "stdout",
     "output_type": "stream",
     "text": [
      "BestCad 2.0 0.11605751092080027 0.9936071634292603\n",
      "BestNuclei 2.0 0.0435871247115686 0.48260629177093506\n"
     ]
    },
    {
     "name": "stderr",
     "output_type": "stream",
     "text": [
      "\r",
      " 16%|████████████████████████████                                                                                                                                                   | 4/25 [00:16<01:26,  4.10s/it]"
     ]
    },
    {
     "name": "stdout",
     "output_type": "stream",
     "text": [
      "BestCad 3.0 0.02977967314125801 0.05878887325525284\n",
      "BestNuclei 3.0 0.9730879708572671 0.9995755553245544\n"
     ]
    },
    {
     "name": "stderr",
     "output_type": "stream",
     "text": [
      "\r",
      " 20%|███████████████████████████████████                                                                                                                                            | 5/25 [00:20<01:19,  3.95s/it]"
     ]
    },
    {
     "name": "stdout",
     "output_type": "stream",
     "text": [
      "BestCad 4.0 3.090814747834388e-05 8.111665374599397e-05\n",
      "BestNuclei 4.0 0.9999888493464544 0.9999995827674866\n"
     ]
    },
    {
     "name": "stderr",
     "output_type": "stream",
     "text": [
      "\r",
      " 24%|██████████████████████████████████████████                                                                                                                                     | 6/25 [00:24<01:13,  3.88s/it]"
     ]
    },
    {
     "name": "stdout",
     "output_type": "stream",
     "text": [
      "BestCad 5.0 3.280607684839355e-05 7.754191028652713e-05\n",
      "BestNuclei 5.0 0.9999881432606623 0.9999995827674866\n"
     ]
    },
    {
     "name": "stderr",
     "output_type": "stream",
     "text": [
      "\r",
      " 28%|█████████████████████████████████████████████████                                                                                                                              | 7/25 [00:28<01:09,  3.86s/it]"
     ]
    },
    {
     "name": "stdout",
     "output_type": "stream",
     "text": [
      "BestCad 6.0 3.4581099927121475e-05 0.0001308600913034752\n",
      "BestNuclei 6.0 0.9999863015753883 0.9999996423721313\n"
     ]
    },
    {
     "name": "stderr",
     "output_type": "stream",
     "text": [
      "\r",
      " 32%|████████████████████████████████████████████████████████                                                                                                                       | 8/25 [00:31<01:04,  3.81s/it]"
     ]
    },
    {
     "name": "stdout",
     "output_type": "stream",
     "text": [
      "BestCad 7.0 3.7781710034323623e-05 0.00017236542771570385\n",
      "BestNuclei 7.0 0.9999912083148956 0.9999997019767761\n"
     ]
    },
    {
     "name": "stderr",
     "output_type": "stream",
     "text": [
      "\r",
      " 36%|███████████████████████████████████████████████████████████████                                                                                                                | 9/25 [00:35<01:00,  3.80s/it]"
     ]
    },
    {
     "name": "stdout",
     "output_type": "stream",
     "text": [
      "BestCad 8.0 0.0036515868073779116 0.04886096715927124\n",
      "BestNuclei 8.0 0.9997014930615058 0.999993622303009\n"
     ]
    },
    {
     "name": "stderr",
     "output_type": "stream",
     "text": [
      "\r",
      " 40%|█████████████████████████████████████████████████████████████████████▌                                                                                                        | 10/25 [00:39<00:56,  3.77s/it]"
     ]
    },
    {
     "name": "stdout",
     "output_type": "stream",
     "text": [
      "BestCad 9.0 0.008310421737925415 0.1404923051595688\n",
      "BestNuclei 9.0 0.9996517753601074 0.9999929666519165\n"
     ]
    },
    {
     "name": "stderr",
     "output_type": "stream",
     "text": [
      "\r",
      " 44%|████████████████████████████████████████████████████████████████████████████▌                                                                                                 | 11/25 [00:42<00:52,  3.73s/it]"
     ]
    },
    {
     "name": "stdout",
     "output_type": "stream",
     "text": [
      "BestCad 10.0 0.005530399447750477 0.07332546263933182\n",
      "BestNuclei 10.0 0.9994975090026855 0.9999920129776001\n"
     ]
    },
    {
     "name": "stderr",
     "output_type": "stream",
     "text": [
      "\r",
      " 48%|███████████████████████████████████████████████████████████████████████████████████▌                                                                                          | 12/25 [00:46<00:48,  3.72s/it]"
     ]
    },
    {
     "name": "stdout",
     "output_type": "stream",
     "text": [
      "BestCad 11.0 0.00013671240258190666 0.0005795045290142298\n",
      "BestNuclei 11.0 0.9999751425706424 0.9999989867210388\n"
     ]
    },
    {
     "name": "stderr",
     "output_type": "stream",
     "text": [
      "\r",
      " 52%|██████████████████████████████████████████████████████████████████████████████████████████▍                                                                                   | 13/25 [00:50<00:44,  3.74s/it]"
     ]
    },
    {
     "name": "stdout",
     "output_type": "stream",
     "text": [
      "BestCad 12.0 2.5444752368674105e-05 9.75633884081617e-05\n",
      "BestNuclei 12.0 0.9999946112985965 0.9999998211860657\n"
     ]
    },
    {
     "name": "stderr",
     "output_type": "stream",
     "text": [
      "\r",
      " 56%|█████████████████████████████████████████████████████████████████████████████████████████████████▍                                                                            | 14/25 [00:54<00:41,  3.79s/it]"
     ]
    },
    {
     "name": "stdout",
     "output_type": "stream",
     "text": [
      "BestCad 13.0 1.3771279797132909e-05 5.795172182843089e-05\n",
      "BestNuclei 13.0 0.9999976547864767 0.9999998807907104\n"
     ]
    },
    {
     "name": "stderr",
     "output_type": "stream",
     "text": [
      "\r",
      " 60%|████████████████████████████████████████████████████████████████████████████████████████████████████████▍                                                                     | 15/25 [00:58<00:37,  3.78s/it]"
     ]
    },
    {
     "name": "stdout",
     "output_type": "stream",
     "text": [
      "BestCad 14.0 1.1533754126330245e-05 4.321899905335158e-05\n",
      "BestNuclei 14.0 0.9999980485957601 0.9999999403953552\n"
     ]
    },
    {
     "name": "stderr",
     "output_type": "stream",
     "text": [
      "\r",
      " 64%|███████████████████████████████████████████████████████████████████████████████████████████████████████████████▎                                                              | 16/25 [01:01<00:34,  3.82s/it]"
     ]
    },
    {
     "name": "stdout",
     "output_type": "stream",
     "text": [
      "BestCad 15.0 8.46561624195436e-06 2.7640320695354603e-05\n",
      "BestNuclei 15.0 0.9999987656871477 1.0\n"
     ]
    },
    {
     "name": "stderr",
     "output_type": "stream",
     "text": [
      "\r",
      " 68%|██████████████████████████████████████████████████████████████████████████████████████████████████████████████████████▎                                                       | 17/25 [01:05<00:30,  3.81s/it]"
     ]
    },
    {
     "name": "stdout",
     "output_type": "stream",
     "text": [
      "BestCad 16.0 1.0577715246737087e-05 4.104196705156937e-05\n",
      "BestNuclei 16.0 0.9999979390547826 1.0\n"
     ]
    },
    {
     "name": "stderr",
     "output_type": "stream",
     "text": [
      "\r",
      " 72%|█████████████████████████████████████████████████████████████████████████████████████████████████████████████████████████████▎                                                | 18/25 [01:09<00:26,  3.78s/it]"
     ]
    },
    {
     "name": "stdout",
     "output_type": "stream",
     "text": [
      "BestCad 17.0 1.948787393179042e-05 0.00011035958596039563\n",
      "BestNuclei 17.0 0.9999974870681763 0.9999998807907104\n"
     ]
    },
    {
     "name": "stderr",
     "output_type": "stream",
     "text": [
      "\r",
      " 76%|████████████████████████████████████████████████████████████████████████████████████████████████████████████████████████████████████▏                                         | 19/25 [01:13<00:22,  3.76s/it]"
     ]
    },
    {
     "name": "stdout",
     "output_type": "stream",
     "text": [
      "BestCad 18.0 0.000641210129851104 0.007613305933773518\n",
      "BestNuclei 18.0 0.9999735752741495 0.9999989867210388\n"
     ]
    },
    {
     "name": "stderr",
     "output_type": "stream",
     "text": [
      "\r",
      " 80%|███████████████████████████████████████████████████████████████████████████████████████████████████████████████████████████████████████████▏                                  | 20/25 [01:16<00:18,  3.68s/it]"
     ]
    },
    {
     "name": "stdout",
     "output_type": "stream",
     "text": [
      "BestCad 19.0 0.00601005633798195 0.05624666064977646\n",
      "BestNuclei 19.0 0.9996133347352346 0.9999887347221375\n"
     ]
    },
    {
     "name": "stderr",
     "output_type": "stream",
     "text": [
      "\r",
      " 84%|██████████████████████████████████████████████████████████████████████████████████████████████████████████████████████████████████████████████████▏                           | 21/25 [01:20<00:14,  3.67s/it]"
     ]
    },
    {
     "name": "stdout",
     "output_type": "stream",
     "text": [
      "BestCad 20.0 6.884755655194212e-05 0.0008709157118573785\n",
      "BestNuclei 20.0 0.9999899458885193 0.9999998807907104\n"
     ]
    },
    {
     "name": "stderr",
     "output_type": "stream",
     "text": [
      "\r",
      " 88%|█████████████████████████████████████████████████████████████████████████████████████████████████████████████████████████████████████████████████████████                     | 22/25 [01:24<00:11,  3.69s/it]"
     ]
    },
    {
     "name": "stdout",
     "output_type": "stream",
     "text": [
      "BestCad 21.0 3.8687652922026645e-06 2.4770286472630687e-05\n",
      "BestNuclei 21.0 0.999999520679315 0.9999998807907104\n"
     ]
    },
    {
     "name": "stderr",
     "output_type": "stream",
     "text": [
      "100%|██████████████████████████████████████████████████████████████████████████████████████████████████████████████████████████████████████████████████████████████████████████████| 25/25 [01:27<00:00,  3.51s/it]"
     ]
    },
    {
     "name": "stdout",
     "output_type": "stream",
     "text": [
      "BestCad 22.0 5.044129668021924e-05 0.0003565862716641277\n",
      "BestNuclei 22.0 0.9999971588452657 0.9999995231628418\n"
     ]
    },
    {
     "name": "stderr",
     "output_type": "stream",
     "text": [
      "\n"
     ]
    },
    {
     "name": "stdout",
     "output_type": "stream",
     "text": [
      "Detecting focus planes in 210629_Erk_Kate_His_mov1_w3CSU-QUAD-561_s11_t3\n"
     ]
    },
    {
     "name": "stderr",
     "output_type": "stream",
     "text": [
      "  4%|███████                                                                                                                                                                        | 1/25 [00:04<01:47,  4.48s/it]"
     ]
    },
    {
     "name": "stdout",
     "output_type": "stream",
     "text": [
      "BestCad 0.0 0.001127953312236162 0.011047730222344398\n",
      "BestNuclei 0.0 5.089417895107195e-09 4.5282682492597814e-08\n"
     ]
    },
    {
     "name": "stderr",
     "output_type": "stream",
     "text": [
      "\r",
      "  8%|██████████████                                                                                                                                                                 | 2/25 [00:07<01:28,  3.85s/it]"
     ]
    },
    {
     "name": "stdout",
     "output_type": "stream",
     "text": [
      "BestCad 1.0 0.0001561719417641605 0.001538317883387208\n",
      "BestNuclei 1.0 5.539351899251278e-08 5.524750577023951e-07\n"
     ]
    },
    {
     "name": "stderr",
     "output_type": "stream",
     "text": [
      "\r",
      " 12%|█████████████████████                                                                                                                                                          | 3/25 [00:11<01:20,  3.67s/it]"
     ]
    },
    {
     "name": "stdout",
     "output_type": "stream",
     "text": [
      "BestCad 2.0 6.732272984583625e-05 0.000496209948323667\n",
      "BestNuclei 2.0 1.2123290630744544e-08 2.0351949103769584e-07\n"
     ]
    },
    {
     "name": "stderr",
     "output_type": "stream",
     "text": [
      "\r",
      " 16%|████████████████████████████                                                                                                                                                   | 4/25 [00:14<01:15,  3.59s/it]"
     ]
    },
    {
     "name": "stdout",
     "output_type": "stream",
     "text": [
      "BestCad 3.0 4.308482693730298e-05 0.0003130391123704612\n",
      "BestNuclei 3.0 2.6870494312790008e-08 2.941996513072809e-07\n"
     ]
    },
    {
     "name": "stderr",
     "output_type": "stream",
     "text": [
      "\r",
      " 20%|███████████████████████████████████                                                                                                                                            | 5/25 [00:21<01:31,  4.55s/it]"
     ]
    },
    {
     "name": "stdout",
     "output_type": "stream",
     "text": [
      "BestCad 4.0 8.213239566254052e-05 0.0016087675467133522\n",
      "BestNuclei 4.0 6.135518331274913e-08 1.188795863527048e-06\n"
     ]
    },
    {
     "name": "stderr",
     "output_type": "stream",
     "text": [
      "\r",
      " 24%|██████████████████████████████████████████                                                                                                                                     | 6/25 [00:24<01:21,  4.27s/it]"
     ]
    },
    {
     "name": "stdout",
     "output_type": "stream",
     "text": [
      "BestCad 5.0 0.0010720960703724813 0.021629929542541504\n",
      "BestNuclei 5.0 1.2359871786829382e-07 1.580026037117932e-06\n"
     ]
    },
    {
     "name": "stderr",
     "output_type": "stream",
     "text": [
      "\r",
      " 28%|█████████████████████████████████████████████████                                                                                                                              | 7/25 [00:28<01:13,  4.06s/it]"
     ]
    },
    {
     "name": "stdout",
     "output_type": "stream",
     "text": [
      "BestCad 6.0 0.005990061282533271 0.11074356734752655\n",
      "BestNuclei 6.0 2.3495369407782502e-07 3.3795813578763045e-06\n"
     ]
    },
    {
     "name": "stderr",
     "output_type": "stream",
     "text": [
      "\r",
      " 32%|████████████████████████████████████████████████████████                                                                                                                       | 8/25 [00:32<01:06,  3.93s/it]"
     ]
    },
    {
     "name": "stdout",
     "output_type": "stream",
     "text": [
      "BestCad 7.0 0.1689019022477706 0.9654438495635986\n",
      "BestNuclei 7.0 0.006425744369468331 0.1026899591088295\n"
     ]
    },
    {
     "name": "stderr",
     "output_type": "stream",
     "text": [
      "\r",
      " 36%|███████████████████████████████████████████████████████████████                                                                                                                | 9/25 [00:35<01:01,  3.82s/it]"
     ]
    },
    {
     "name": "stdout",
     "output_type": "stream",
     "text": [
      "BestCad 8.0 0.015902914785091645 0.08603385835886002\n",
      "BestNuclei 8.0 0.9961926937103271 0.9997243881225586\n"
     ]
    },
    {
     "name": "stderr",
     "output_type": "stream",
     "text": [
      "\r",
      " 40%|█████████████████████████████████████████████████████████████████████▌                                                                                                        | 10/25 [00:39<00:57,  3.81s/it]"
     ]
    },
    {
     "name": "stdout",
     "output_type": "stream",
     "text": [
      "BestCad 9.0 0.0001494763381070579 0.0008174275862984359\n",
      "BestNuclei 9.0 0.9999605262721026 0.9999945163726807\n"
     ]
    },
    {
     "name": "stderr",
     "output_type": "stream",
     "text": [
      "\r",
      " 44%|████████████████████████████████████████████████████████████████████████████▌                                                                                                 | 11/25 [00:43<00:52,  3.78s/it]"
     ]
    },
    {
     "name": "stdout",
     "output_type": "stream",
     "text": [
      "BestCad 10.0 0.00019505567528856614 0.0009915498085319996\n",
      "BestNuclei 10.0 0.9999588603774706 0.9999942183494568\n"
     ]
    },
    {
     "name": "stderr",
     "output_type": "stream",
     "text": [
      "\r",
      " 48%|███████████████████████████████████████████████████████████████████████████████████▌                                                                                          | 12/25 [00:46<00:48,  3.72s/it]"
     ]
    },
    {
     "name": "stdout",
     "output_type": "stream",
     "text": [
      "BestCad 11.0 0.00018301417192863786 0.0008980508428066969\n",
      "BestNuclei 11.0 0.9999658871780742 0.9999951124191284\n"
     ]
    },
    {
     "name": "stderr",
     "output_type": "stream",
     "text": [
      "\r",
      " 52%|██████████████████████████████████████████████████████████████████████████████████████████▍                                                                                   | 13/25 [00:50<00:44,  3.71s/it]"
     ]
    },
    {
     "name": "stdout",
     "output_type": "stream",
     "text": [
      "BestCad 12.0 0.3903536783764139 0.9804337620735168\n",
      "BestNuclei 12.0 0.3214731415174901 0.9959126114845276\n"
     ]
    },
    {
     "name": "stderr",
     "output_type": "stream",
     "text": [
      "\r",
      " 56%|█████████████████████████████████████████████████████████████████████████████████████████████████▍                                                                            | 14/25 [00:54<00:40,  3.68s/it]"
     ]
    },
    {
     "name": "stdout",
     "output_type": "stream",
     "text": [
      "BestCad 13.0 0.5114583930725612 0.9926408529281616\n",
      "BestNuclei 13.0 0.1821756287197521 0.9999148845672607\n"
     ]
    },
    {
     "name": "stderr",
     "output_type": "stream",
     "text": [
      "\r",
      " 60%|████████████████████████████████████████████████████████████████████████████████████████████████████████▍                                                                     | 15/25 [00:57<00:36,  3.63s/it]"
     ]
    },
    {
     "name": "stdout",
     "output_type": "stream",
     "text": [
      "BestCad 14.0 0.5032664612782273 0.9938110113143921\n",
      "BestNuclei 14.0 0.41420794420992024 0.9999916553497314\n"
     ]
    },
    {
     "name": "stderr",
     "output_type": "stream",
     "text": [
      "\r",
      " 64%|███████████████████████████████████████████████████████████████████████████████████████████████████████████████▎                                                              | 16/25 [01:00<00:32,  3.57s/it]"
     ]
    },
    {
     "name": "stdout",
     "output_type": "stream",
     "text": [
      "BestCad 15.0 0.0003435363999285203 0.0011466629803180695\n",
      "BestNuclei 15.0 0.9999285067121187 0.9999936819076538\n"
     ]
    },
    {
     "name": "stderr",
     "output_type": "stream",
     "text": [
      "\r",
      " 68%|██████████████████████████████████████████████████████████████████████████████████████████████████████████████████████▎                                                       | 17/25 [01:04<00:28,  3.60s/it]"
     ]
    },
    {
     "name": "stdout",
     "output_type": "stream",
     "text": [
      "BestCad 16.0 1.8652288891492692e-05 5.519689148059115e-05\n",
      "BestNuclei 16.0 0.9999963641166687 0.9999991655349731\n"
     ]
    },
    {
     "name": "stderr",
     "output_type": "stream",
     "text": [
      "\r",
      " 72%|█████████████████████████████████████████████████████████████████████████████████████████████████████████████████████████████▎                                                | 18/25 [01:08<00:25,  3.64s/it]"
     ]
    },
    {
     "name": "stdout",
     "output_type": "stream",
     "text": [
      "BestCad 17.0 9.713859810744907e-06 3.6175671993987635e-05\n",
      "BestNuclei 17.0 0.9999989320834478 0.9999998211860657\n"
     ]
    },
    {
     "name": "stderr",
     "output_type": "stream",
     "text": [
      "\r",
      " 76%|████████████████████████████████████████████████████████████████████████████████████████████████████████████████████████████████████▏                                         | 19/25 [01:11<00:21,  3.63s/it]"
     ]
    },
    {
     "name": "stdout",
     "output_type": "stream",
     "text": [
      "BestCad 18.0 1.2470732391865686e-05 4.722413723357022e-05\n",
      "BestNuclei 18.0 0.9999986067414284 0.9999998211860657\n"
     ]
    },
    {
     "name": "stderr",
     "output_type": "stream",
     "text": [
      "\r",
      " 80%|███████████████████████████████████████████████████████████████████████████████████████████████████████████████████████████████████████████▏                                  | 20/25 [01:15<00:18,  3.68s/it]"
     ]
    },
    {
     "name": "stdout",
     "output_type": "stream",
     "text": [
      "BestCad 19.0 6.692173162615621e-06 2.505013981135562e-05\n",
      "BestNuclei 19.0 0.9999994421005249 0.9999999403953552\n"
     ]
    },
    {
     "name": "stderr",
     "output_type": "stream",
     "text": [
      "\r",
      " 84%|██████████████████████████████████████████████████████████████████████████████████████████████████████████████████████████████████████████████████▏                           | 21/25 [01:19<00:14,  3.69s/it]"
     ]
    },
    {
     "name": "stdout",
     "output_type": "stream",
     "text": [
      "BestCad 20.0 6.752074489707846e-06 3.0130220693536103e-05\n",
      "BestNuclei 20.0 0.9999992895126343 0.9999999403953552\n"
     ]
    },
    {
     "name": "stderr",
     "output_type": "stream",
     "text": [
      "\r",
      " 88%|█████████████████████████████████████████████████████████████████████████████████████████████████████████████████████████████████████████████████████████                     | 22/25 [01:23<00:11,  3.69s/it]"
     ]
    },
    {
     "name": "stdout",
     "output_type": "stream",
     "text": [
      "BestCad 21.0 1.7058901873853124e-05 6.749237945768982e-05\n",
      "BestNuclei 21.0 0.9999980068206787 0.9999997615814209\n"
     ]
    },
    {
     "name": "stderr",
     "output_type": "stream",
     "text": [
      "100%|██████████████████████████████████████████████████████████████████████████████████████████████████████████████████████████████████████████████████████████████████████████████| 25/25 [01:26<00:00,  3.47s/it]"
     ]
    },
    {
     "name": "stdout",
     "output_type": "stream",
     "text": [
      "BestCad 22.0 2.0618707406791383e-05 8.403416723012924e-05\n",
      "BestNuclei 22.0 0.9999980504314104 0.9999996423721313\n"
     ]
    },
    {
     "name": "stderr",
     "output_type": "stream",
     "text": [
      "\n"
     ]
    },
    {
     "name": "stdout",
     "output_type": "stream",
     "text": [
      "Detecting focus planes in 210629_Erk_Kate_His_mov1_w3CSU-QUAD-561_s7_t29\n"
     ]
    },
    {
     "name": "stderr",
     "output_type": "stream",
     "text": [
      "  4%|███████                                                                                                                                                                        | 1/25 [00:04<01:53,  4.73s/it]"
     ]
    },
    {
     "name": "stdout",
     "output_type": "stream",
     "text": [
      "BestCad 0.0 1.4566363668677696e-05 8.192218956537545e-05\n",
      "BestNuclei 0.0 9.982774550575113e-10 5.709145156629347e-09\n"
     ]
    },
    {
     "name": "stderr",
     "output_type": "stream",
     "text": [
      "\r",
      "  8%|██████████████                                                                                                                                                                 | 2/25 [00:08<01:32,  4.03s/it]"
     ]
    },
    {
     "name": "stdout",
     "output_type": "stream",
     "text": [
      "BestCad 1.0 1.4727134173013342e-05 0.00015043860184960067\n",
      "BestNuclei 1.0 1.5876590264394543e-09 9.876455209223423e-09\n"
     ]
    },
    {
     "name": "stderr",
     "output_type": "stream",
     "text": [
      "\r",
      " 12%|█████████████████████                                                                                                                                                          | 3/25 [00:11<01:21,  3.69s/it]"
     ]
    },
    {
     "name": "stdout",
     "output_type": "stream",
     "text": [
      "BestCad 2.0 3.1816263025064017e-06 2.216679058619775e-05\n",
      "BestNuclei 2.0 3.314225917695378e-09 3.11549186449156e-08\n"
     ]
    },
    {
     "name": "stderr",
     "output_type": "stream",
     "text": [
      "\r",
      " 16%|████████████████████████████                                                                                                                                                   | 4/25 [00:14<01:13,  3.50s/it]"
     ]
    },
    {
     "name": "stdout",
     "output_type": "stream",
     "text": [
      "BestCad 3.0 1.234452575502587e-05 0.00015096523566171527\n",
      "BestNuclei 3.0 5.045583569172962e-09 4.171683798404047e-08\n"
     ]
    },
    {
     "name": "stderr",
     "output_type": "stream",
     "text": [
      "\r",
      " 20%|███████████████████████████████████                                                                                                                                            | 5/25 [00:18<01:09,  3.45s/it]"
     ]
    },
    {
     "name": "stdout",
     "output_type": "stream",
     "text": [
      "BestCad 4.0 1.0850698571043962e-05 0.00010351814853493124\n",
      "BestNuclei 4.0 9.483754690294991e-09 8.418791708209028e-08\n"
     ]
    },
    {
     "name": "stderr",
     "output_type": "stream",
     "text": [
      "\r",
      " 24%|██████████████████████████████████████████                                                                                                                                     | 6/25 [00:21<01:05,  3.44s/it]"
     ]
    },
    {
     "name": "stdout",
     "output_type": "stream",
     "text": [
      "BestCad 5.0 9.677064340510552e-05 0.001284353551454842\n",
      "BestNuclei 5.0 8.114989893208776e-09 1.0448458453993226e-07\n"
     ]
    },
    {
     "name": "stderr",
     "output_type": "stream",
     "text": [
      "\r",
      " 28%|█████████████████████████████████████████████████                                                                                                                              | 7/25 [00:25<01:02,  3.48s/it]"
     ]
    },
    {
     "name": "stdout",
     "output_type": "stream",
     "text": [
      "BestCad 6.0 0.0003732415836209059 0.0044255792163312435\n",
      "BestNuclei 6.0 7.868974271994921e-08 1.2116086054447806e-06\n"
     ]
    },
    {
     "name": "stderr",
     "output_type": "stream",
     "text": [
      "\r",
      " 32%|████████████████████████████████████████████████████████                                                                                                                       | 8/25 [00:28<01:00,  3.55s/it]"
     ]
    },
    {
     "name": "stdout",
     "output_type": "stream",
     "text": [
      "BestCad 7.0 0.0024922955415594633 0.028478190302848816\n",
      "BestNuclei 7.0 3.104762505899289e-07 2.481458977854345e-06\n"
     ]
    },
    {
     "name": "stderr",
     "output_type": "stream",
     "text": [
      "\r",
      " 36%|███████████████████████████████████████████████████████████████                                                                                                                | 9/25 [00:32<00:56,  3.54s/it]"
     ]
    },
    {
     "name": "stdout",
     "output_type": "stream",
     "text": [
      "BestCad 8.0 0.0009350162058353817 0.013574114069342613\n",
      "BestNuclei 8.0 4.1794933736490575e-07 4.196417194179958e-06\n"
     ]
    },
    {
     "name": "stderr",
     "output_type": "stream",
     "text": [
      "\r",
      " 40%|█████████████████████████████████████████████████████████████████████▌                                                                                                        | 10/25 [00:36<00:54,  3.61s/it]"
     ]
    },
    {
     "name": "stdout",
     "output_type": "stream",
     "text": [
      "BestCad 9.0 0.000658182270246822 0.004567406140267849\n",
      "BestNuclei 9.0 5.507477723664843e-07 5.895634785701986e-06\n"
     ]
    },
    {
     "name": "stderr",
     "output_type": "stream",
     "text": [
      "\r",
      " 44%|████████████████████████████████████████████████████████████████████████████▌                                                                                                 | 11/25 [00:39<00:51,  3.66s/it]"
     ]
    },
    {
     "name": "stdout",
     "output_type": "stream",
     "text": [
      "BestCad 10.0 0.006416940771932786 0.10248300433158875\n",
      "BestNuclei 10.0 0.006075891090677306 0.12929463386535645\n"
     ]
    },
    {
     "name": "stderr",
     "output_type": "stream",
     "text": [
      "\r",
      " 48%|███████████████████████████████████████████████████████████████████████████████████▌                                                                                          | 12/25 [00:43<00:48,  3.73s/it]"
     ]
    },
    {
     "name": "stdout",
     "output_type": "stream",
     "text": [
      "BestCad 11.0 0.024969624600089446 0.18600644171237946\n",
      "BestNuclei 11.0 0.09337893897528218 0.9347671270370483\n"
     ]
    },
    {
     "name": "stderr",
     "output_type": "stream",
     "text": [
      "\r",
      " 52%|██████████████████████████████████████████████████████████████████████████████████████████▍                                                                                   | 13/25 [00:50<00:54,  4.56s/it]"
     ]
    },
    {
     "name": "stdout",
     "output_type": "stream",
     "text": [
      "BestCad 12.0 0.21860044152708724 0.9864672422409058\n",
      "BestNuclei 12.0 0.36268803588231097 0.9999289512634277\n"
     ]
    },
    {
     "name": "stderr",
     "output_type": "stream",
     "text": [
      "\r",
      " 56%|█████████████████████████████████████████████████████████████████████████████████████████████████▍                                                                            | 14/25 [00:53<00:47,  4.31s/it]"
     ]
    },
    {
     "name": "stdout",
     "output_type": "stream",
     "text": [
      "BestCad 13.0 0.10185891801191484 0.6034048795700073\n",
      "BestNuclei 13.0 0.9823479973352872 0.9999960064888\n"
     ]
    },
    {
     "name": "stderr",
     "output_type": "stream",
     "text": [
      "\r",
      " 60%|████████████████████████████████████████████████████████████████████████████████████████████████████████▍                                                                     | 15/25 [00:57<00:41,  4.15s/it]"
     ]
    },
    {
     "name": "stdout",
     "output_type": "stream",
     "text": [
      "BestCad 14.0 0.0003194697300604394 0.004162131808698177\n",
      "BestNuclei 14.0 0.9999654843257024 0.9999998807907104\n"
     ]
    },
    {
     "name": "stderr",
     "output_type": "stream",
     "text": [
      "\r",
      " 64%|███████████████████████████████████████████████████████████████████████████████████████████████████████████████▎                                                              | 16/25 [01:01<00:36,  4.04s/it]"
     ]
    },
    {
     "name": "stdout",
     "output_type": "stream",
     "text": [
      "BestCad 15.0 1.7614350440453563e-06 1.0317995474906638e-05\n",
      "BestNuclei 15.0 0.9999996821085612 0.9999999403953552\n"
     ]
    },
    {
     "name": "stderr",
     "output_type": "stream",
     "text": [
      "\r",
      " 68%|██████████████████████████████████████████████████████████████████████████████████████████████████████████████████████▎                                                       | 17/25 [01:05<00:32,  4.03s/it]"
     ]
    },
    {
     "name": "stdout",
     "output_type": "stream",
     "text": [
      "BestCad 16.0 6.11525457805748e-05 0.0002591109077911824\n",
      "BestNuclei 16.0 0.9999846311715933 0.9999987483024597\n"
     ]
    },
    {
     "name": "stderr",
     "output_type": "stream",
     "text": [
      "\r",
      " 72%|█████████████████████████████████████████████████████████████████████████████████████████████████████████████████████████████▎                                                | 18/25 [01:09<00:28,  4.04s/it]"
     ]
    },
    {
     "name": "stdout",
     "output_type": "stream",
     "text": [
      "BestCad 17.0 0.0004942672193283215 0.0013498920015990734\n",
      "BestNuclei 17.0 0.9998628616333007 0.9999762773513794\n"
     ]
    },
    {
     "name": "stderr",
     "output_type": "stream",
     "text": [
      "\r",
      " 76%|████████████████████████████████████████████████████████████████████████████████████████████████████████████████████████████████████▏                                         | 19/25 [01:13<00:23,  4.00s/it]"
     ]
    },
    {
     "name": "stdout",
     "output_type": "stream",
     "text": [
      "BestCad 18.0 0.0008321338315605923 0.002141112694516778\n",
      "BestNuclei 18.0 0.999680537244548 0.999932587146759\n"
     ]
    },
    {
     "name": "stderr",
     "output_type": "stream",
     "text": [
      "\r",
      " 80%|███████████████████████████████████████████████████████████████████████████████████████████████████████████████████████████████████████████▏                                  | 20/25 [01:17<00:19,  3.94s/it]"
     ]
    },
    {
     "name": "stdout",
     "output_type": "stream",
     "text": [
      "BestCad 19.0 0.0009276296283739308 0.002161323791369796\n",
      "BestNuclei 19.0 0.9996713027358055 0.9999297261238098\n"
     ]
    },
    {
     "name": "stderr",
     "output_type": "stream",
     "text": [
      "\r",
      " 84%|██████████████████████████████████████████████████████████████████████████████████████████████████████████████████████████████████████████████████▏                           | 21/25 [01:21<00:15,  3.90s/it]"
     ]
    },
    {
     "name": "stdout",
     "output_type": "stream",
     "text": [
      "BestCad 20.0 0.0009360293574307276 0.0020814985036849976\n",
      "BestNuclei 20.0 0.9996639465292295 0.999970018863678\n"
     ]
    },
    {
     "name": "stderr",
     "output_type": "stream",
     "text": [
      "\r",
      " 88%|█████████████████████████████████████████████████████████████████████████████████████████████████████████████████████████████████████████████████████████                     | 22/25 [01:24<00:11,  3.88s/it]"
     ]
    },
    {
     "name": "stdout",
     "output_type": "stream",
     "text": [
      "BestCad 21.0 0.0009148416526538009 0.002143998397514224\n",
      "BestNuclei 21.0 0.9997170334276946 0.9999922513961792\n"
     ]
    },
    {
     "name": "stderr",
     "output_type": "stream",
     "text": [
      "100%|██████████████████████████████████████████████████████████████████████████████████████████████████████████████████████████████████████████████████████████████████████████████| 25/25 [01:28<00:00,  3.55s/it]"
     ]
    },
    {
     "name": "stdout",
     "output_type": "stream",
     "text": [
      "BestCad 22.0 0.0008238690358627101 0.0022251096088439226\n",
      "BestNuclei 22.0 0.9997695374488831 0.9999997019767761\n"
     ]
    },
    {
     "name": "stderr",
     "output_type": "stream",
     "text": [
      "\n"
     ]
    },
    {
     "name": "stdout",
     "output_type": "stream",
     "text": [
      "Detecting focus planes in 210629_Erk_Kate_His_mov1_w3CSU-QUAD-561_s4_t12\n"
     ]
    },
    {
     "name": "stderr",
     "output_type": "stream",
     "text": [
      "  4%|███████                                                                                                                                                                        | 1/25 [00:04<01:45,  4.39s/it]"
     ]
    },
    {
     "name": "stdout",
     "output_type": "stream",
     "text": [
      "BestCad 0.0 1.0343891711528385e-05 0.0001529943838249892\n",
      "BestNuclei 0.0 5.9085035546135865e-08 1.1223348792555043e-06\n"
     ]
    },
    {
     "name": "stderr",
     "output_type": "stream",
     "text": [
      "\r",
      "  8%|██████████████                                                                                                                                                                 | 2/25 [00:07<01:27,  3.80s/it]"
     ]
    },
    {
     "name": "stdout",
     "output_type": "stream",
     "text": [
      "BestCad 1.0 3.307542080351182e-05 0.00034640062949620187\n",
      "BestNuclei 1.0 6.356122584384853e-09 1.1163093915911304e-07\n"
     ]
    },
    {
     "name": "stderr",
     "output_type": "stream",
     "text": [
      "\r",
      " 12%|█████████████████████                                                                                                                                                          | 3/25 [00:11<01:19,  3.61s/it]"
     ]
    },
    {
     "name": "stdout",
     "output_type": "stream",
     "text": [
      "BestCad 2.0 3.363293377015945e-05 0.00040498707676306367\n",
      "BestNuclei 2.0 3.4369248347415865e-08 7.120532927729073e-07\n"
     ]
    },
    {
     "name": "stderr",
     "output_type": "stream",
     "text": [
      "\r",
      " 16%|████████████████████████████                                                                                                                                                   | 4/25 [00:14<01:12,  3.46s/it]"
     ]
    },
    {
     "name": "stdout",
     "output_type": "stream",
     "text": [
      "BestCad 3.0 3.327483858868163e-05 0.00040817755507305264\n",
      "BestNuclei 3.0 4.5905743328344376e-08 8.54182417242555e-07\n"
     ]
    },
    {
     "name": "stderr",
     "output_type": "stream",
     "text": [
      "\r",
      " 20%|███████████████████████████████████                                                                                                                                            | 5/25 [00:17<01:07,  3.40s/it]"
     ]
    },
    {
     "name": "stdout",
     "output_type": "stream",
     "text": [
      "BestCad 4.0 5.9758563038899e-05 0.0006615506717935205\n",
      "BestNuclei 4.0 3.2294082065697497e-07 6.528496669488959e-06\n"
     ]
    },
    {
     "name": "stderr",
     "output_type": "stream",
     "text": [
      "\r",
      " 24%|██████████████████████████████████████████                                                                                                                                     | 6/25 [00:20<01:03,  3.34s/it]"
     ]
    },
    {
     "name": "stdout",
     "output_type": "stream",
     "text": [
      "BestCad 5.0 0.03198578261710736 0.6394443511962891\n",
      "BestNuclei 5.0 1.0516080139688634e-06 2.031432813964784e-05\n"
     ]
    },
    {
     "name": "stderr",
     "output_type": "stream",
     "text": [
      "\r",
      " 28%|█████████████████████████████████████████████████                                                                                                                              | 7/25 [00:24<01:01,  3.40s/it]"
     ]
    },
    {
     "name": "stdout",
     "output_type": "stream",
     "text": [
      "BestCad 6.0 0.04344050569183243 0.9987102746963501\n",
      "BestNuclei 6.0 1.211442526830441e-05 0.0002655511489138007\n"
     ]
    },
    {
     "name": "stderr",
     "output_type": "stream",
     "text": [
      "\r",
      " 32%|████████████████████████████████████████████████████████                                                                                                                       | 8/25 [00:28<01:00,  3.57s/it]"
     ]
    },
    {
     "name": "stdout",
     "output_type": "stream",
     "text": [
      "BestCad 7.0 0.14640735218852735 0.9999365210533142\n",
      "BestNuclei 7.0 2.960597546898928e-05 0.0004719911376014352\n"
     ]
    },
    {
     "name": "stderr",
     "output_type": "stream",
     "text": [
      "\r",
      " 36%|███████████████████████████████████████████████████████████████                                                                                                                | 9/25 [00:32<00:59,  3.69s/it]"
     ]
    },
    {
     "name": "stdout",
     "output_type": "stream",
     "text": [
      "BestCad 8.0 0.19708700896640866 0.9999566078186035\n",
      "BestNuclei 8.0 0.0007519217812116928 0.01654091849923134\n"
     ]
    },
    {
     "name": "stderr",
     "output_type": "stream",
     "text": [
      "\r",
      " 40%|█████████████████████████████████████████████████████████████████████▌                                                                                                        | 10/25 [00:36<00:56,  3.78s/it]"
     ]
    },
    {
     "name": "stdout",
     "output_type": "stream",
     "text": [
      "BestCad 9.0 0.33014896779786795 0.9999873638153076\n",
      "BestNuclei 9.0 0.0352363021915106 0.8086999654769897\n"
     ]
    },
    {
     "name": "stderr",
     "output_type": "stream",
     "text": [
      "\r",
      " 44%|████████████████████████████████████████████████████████████████████████████▌                                                                                                 | 11/25 [00:40<00:54,  3.89s/it]"
     ]
    },
    {
     "name": "stdout",
     "output_type": "stream",
     "text": [
      "BestCad 10.0 0.39758345101548914 0.9999823570251465\n",
      "BestNuclei 10.0 0.04022879091062361 0.9952374696731567\n"
     ]
    },
    {
     "name": "stderr",
     "output_type": "stream",
     "text": [
      "\r",
      " 48%|███████████████████████████████████████████████████████████████████████████████████▌                                                                                          | 12/25 [00:44<00:51,  3.99s/it]"
     ]
    },
    {
     "name": "stdout",
     "output_type": "stream",
     "text": [
      "BestCad 11.0 0.5188238319600574 0.9997396469116211\n",
      "BestNuclei 11.0 0.1308574600933821 0.9987611770629883\n"
     ]
    },
    {
     "name": "stderr",
     "output_type": "stream",
     "text": [
      "\r",
      " 52%|██████████████████████████████████████████████████████████████████████████████████████████▍                                                                                   | 13/25 [00:49<00:49,  4.14s/it]"
     ]
    },
    {
     "name": "stdout",
     "output_type": "stream",
     "text": [
      "BestCad 12.0 0.5268984876927876 0.9915063977241516\n",
      "BestNuclei 12.0 0.5317381068279456 0.9999238848686218\n"
     ]
    },
    {
     "name": "stderr",
     "output_type": "stream",
     "text": [
      "\r",
      " 56%|█████████████████████████████████████████████████████████████████████████████████████████████████▍                                                                            | 14/25 [00:53<00:46,  4.22s/it]"
     ]
    },
    {
     "name": "stdout",
     "output_type": "stream",
     "text": [
      "BestCad 13.0 0.44424439560283313 0.9192196130752563\n",
      "BestNuclei 13.0 0.7762131556544615 0.9999063014984131\n"
     ]
    },
    {
     "name": "stderr",
     "output_type": "stream",
     "text": [
      "\r",
      " 60%|████████████████████████████████████████████████████████████████████████████████████████████████████████▍                                                                     | 15/25 [00:57<00:42,  4.25s/it]"
     ]
    },
    {
     "name": "stdout",
     "output_type": "stream",
     "text": [
      "BestCad 14.0 0.051617262161536406 0.4267074167728424\n",
      "BestNuclei 14.0 0.9945322846372923 0.9999768733978271\n"
     ]
    },
    {
     "name": "stderr",
     "output_type": "stream",
     "text": [
      "\r",
      " 64%|███████████████████████████████████████████████████████████████████████████████████████████████████████████████▎                                                              | 16/25 [01:02<00:38,  4.29s/it]"
     ]
    },
    {
     "name": "stdout",
     "output_type": "stream",
     "text": [
      "BestCad 15.0 0.00016244021840659275 0.0015261236112564802\n",
      "BestNuclei 15.0 0.9999738687818701 0.9999985098838806\n"
     ]
    },
    {
     "name": "stderr",
     "output_type": "stream",
     "text": [
      "\r",
      " 68%|██████████████████████████████████████████████████████████████████████████████████████████████████████████████████████▎                                                       | 17/25 [01:06<00:34,  4.37s/it]"
     ]
    },
    {
     "name": "stdout",
     "output_type": "stream",
     "text": [
      "BestCad 16.0 3.4187382430180455e-06 1.4715355973748956e-05\n",
      "BestNuclei 16.0 0.9999993687326257 0.9999999403953552\n"
     ]
    },
    {
     "name": "stderr",
     "output_type": "stream",
     "text": [
      "\r",
      " 72%|█████████████████████████████████████████████████████████████████████████████████████████████████████████████████████████████▎                                                | 18/25 [01:11<00:30,  4.43s/it]"
     ]
    },
    {
     "name": "stdout",
     "output_type": "stream",
     "text": [
      "BestCad 17.0 1.9267670055000963e-06 1.0561729141045362e-05\n",
      "BestNuclei 17.0 0.9999996811151505 0.9999999403953552\n"
     ]
    },
    {
     "name": "stderr",
     "output_type": "stream",
     "text": [
      "\r",
      " 76%|████████████████████████████████████████████████████████████████████████████████████████████████████████████████████████████████████▏                                         | 19/25 [01:15<00:26,  4.47s/it]"
     ]
    },
    {
     "name": "stdout",
     "output_type": "stream",
     "text": [
      "BestCad 18.0 1.1261237349257359e-05 2.9467541025951505e-05\n",
      "BestNuclei 18.0 0.9999971191088358 0.9999998807907104\n"
     ]
    },
    {
     "name": "stderr",
     "output_type": "stream",
     "text": [
      "\r",
      " 80%|███████████████████████████████████████████████████████████████████████████████████████████████████████████████████████████████████████████▏                                  | 20/25 [01:20<00:22,  4.50s/it]"
     ]
    },
    {
     "name": "stdout",
     "output_type": "stream",
     "text": [
      "BestCad 19.0 3.90136306320884e-05 0.00010512328299228102\n",
      "BestNuclei 19.0 0.9999906959987822 0.9999997615814209\n"
     ]
    },
    {
     "name": "stderr",
     "output_type": "stream",
     "text": [
      "\r",
      " 84%|██████████████████████████████████████████████████████████████████████████████████████████████████████████████████████████████████████████████████▏                           | 21/25 [01:27<00:21,  5.36s/it]"
     ]
    },
    {
     "name": "stdout",
     "output_type": "stream",
     "text": [
      "BestCad 20.0 0.00011444887256099416 0.0003269831067882478\n",
      "BestNuclei 20.0 0.9999693393707275 0.9999995827674866\n"
     ]
    },
    {
     "name": "stderr",
     "output_type": "stream",
     "text": [
      "\r",
      " 88%|█████████████████████████████████████████████████████████████████████████████████████████████████████████████████████████████████████████████████████████                     | 22/25 [01:32<00:15,  5.12s/it]"
     ]
    },
    {
     "name": "stdout",
     "output_type": "stream",
     "text": [
      "BestCad 21.0 0.00013528139030919797 0.00038147991290315986\n",
      "BestNuclei 21.0 0.9999603529771169 0.9999997615814209\n"
     ]
    },
    {
     "name": "stderr",
     "output_type": "stream",
     "text": [
      "100%|██████████████████████████████████████████████████████████████████████████████████████████████████████████████████████████████████████████████████████████████████████████████| 25/25 [01:36<00:00,  3.88s/it]"
     ]
    },
    {
     "name": "stdout",
     "output_type": "stream",
     "text": [
      "BestCad 22.0 0.0003555483338762618 0.0009893226670101285\n",
      "BestNuclei 22.0 0.9999035244638269 0.9999997615814209\n"
     ]
    },
    {
     "name": "stderr",
     "output_type": "stream",
     "text": [
      "\n"
     ]
    },
    {
     "name": "stdout",
     "output_type": "stream",
     "text": [
      "Detecting focus planes in 210629_Erk_Kate_His_mov1_w1CSU-QUAD-561_s1_t27\n"
     ]
    },
    {
     "name": "stderr",
     "output_type": "stream",
     "text": [
      "  4%|███████                                                                                                                                                                        | 1/25 [00:04<01:46,  4.45s/it]"
     ]
    },
    {
     "name": "stdout",
     "output_type": "stream",
     "text": [
      "BestCad 0.0 8.427520403955022e-06 6.531793042086065e-05\n",
      "BestNuclei 0.0 1.554173978170666e-09 6.202914626385336e-09\n"
     ]
    },
    {
     "name": "stderr",
     "output_type": "stream",
     "text": [
      "\r",
      "  8%|██████████████                                                                                                                                                                 | 2/25 [00:07<01:26,  3.76s/it]"
     ]
    },
    {
     "name": "stdout",
     "output_type": "stream",
     "text": [
      "BestCad 1.0 1.3214956467777483e-05 7.70202896092087e-05\n",
      "BestNuclei 1.0 1.2960555163810117e-09 4.5058854425406025e-09\n"
     ]
    },
    {
     "name": "stderr",
     "output_type": "stream",
     "text": [
      "\r",
      " 12%|█████████████████████                                                                                                                                                          | 3/25 [00:10<01:17,  3.53s/it]"
     ]
    },
    {
     "name": "stdout",
     "output_type": "stream",
     "text": [
      "BestCad 2.0 5.815453495601601e-05 0.0006929797818884254\n",
      "BestNuclei 2.0 6.234987690662525e-10 2.750764949155382e-09\n"
     ]
    },
    {
     "name": "stderr",
     "output_type": "stream",
     "text": [
      "\r",
      " 16%|████████████████████████████                                                                                                                                                   | 4/25 [00:14<01:13,  3.50s/it]"
     ]
    },
    {
     "name": "stdout",
     "output_type": "stream",
     "text": [
      "BestCad 3.0 5.413848175620565e-05 0.0004616473743226379\n",
      "BestNuclei 3.0 1.3323157620606582e-09 1.0458231614052238e-08\n",
      "BestCad 4.0 0.00010265848924394628 0.0018814447103068233\n",
      "BestNuclei 4.0 7.1707752783652405e-09 1.526292408016161e-07\n"
     ]
    },
    {
     "name": "stderr",
     "output_type": "stream",
     "text": [
      "\r",
      " 20%|███████████████████████████████████                                                                                                                                            | 5/25 [00:19<01:19,  3.99s/it]"
     ]
    },
    {
     "name": "stdout",
     "output_type": "stream",
     "text": [
      "BestCad 5.0 0.010147789516161725 0.23310479521751404\n",
      "BestNuclei 5.0 1.4311851194733822e-06 3.147011011606082e-05\n"
     ]
    },
    {
     "name": "stderr",
     "output_type": "stream",
     "text": [
      "\r",
      " 24%|██████████████████████████████████████████                                                                                                                                     | 6/25 [00:24<01:24,  4.47s/it]"
     ]
    },
    {
     "name": "stdout",
     "output_type": "stream",
     "text": [
      "BestCad 6.0 0.04550258189670909 0.9985989332199097\n",
      "BestNuclei 6.0 4.027491512760929e-06 8.832380990497768e-05\n"
     ]
    },
    {
     "name": "stderr",
     "output_type": "stream",
     "text": [
      "\r",
      " 28%|█████████████████████████████████████████████████                                                                                                                              | 7/25 [00:31<01:33,  5.19s/it]"
     ]
    },
    {
     "name": "stdout",
     "output_type": "stream",
     "text": [
      "BestCad 7.0 0.04348080834902154 0.9999110698699951\n",
      "BestNuclei 7.0 2.7771896759742897e-06 6.857003609184176e-05\n"
     ]
    },
    {
     "name": "stderr",
     "output_type": "stream",
     "text": [
      "\r",
      " 32%|████████████████████████████████████████████████████████                                                                                                                       | 8/25 [00:38<01:37,  5.75s/it]"
     ]
    },
    {
     "name": "stdout",
     "output_type": "stream",
     "text": [
      "BestCad 8.0 0.09124759983143865 0.9999842047691345\n",
      "BestNuclei 8.0 1.620240502965553e-05 0.00035072918399237096\n"
     ]
    },
    {
     "name": "stderr",
     "output_type": "stream",
     "text": [
      "\r",
      " 36%|███████████████████████████████████████████████████████████████                                                                                                                | 9/25 [00:45<01:38,  6.15s/it]"
     ]
    },
    {
     "name": "stdout",
     "output_type": "stream",
     "text": [
      "BestCad 9.0 0.2088657246543638 0.9999927878379822\n",
      "BestNuclei 9.0 0.002186921734196119 0.03091300278902054\n"
     ]
    },
    {
     "name": "stderr",
     "output_type": "stream",
     "text": [
      "\r",
      " 40%|█████████████████████████████████████████████████████████████████████▌                                                                                                        | 10/25 [00:51<01:32,  6.17s/it]"
     ]
    },
    {
     "name": "stdout",
     "output_type": "stream",
     "text": [
      "BestCad 10.0 0.4227334646178254 0.9999743103981018\n",
      "BestNuclei 10.0 0.001926114331885979 0.04294606298208237\n"
     ]
    },
    {
     "name": "stderr",
     "output_type": "stream",
     "text": [
      "\r",
      " 44%|████████████████████████████████████████████████████████████████████████████▌                                                                                                 | 11/25 [00:57<01:25,  6.08s/it]"
     ]
    },
    {
     "name": "stdout",
     "output_type": "stream",
     "text": [
      "BestCad 11.0 0.5934216437919531 0.9999784231185913\n",
      "BestNuclei 11.0 0.029033087058588574 0.690161943435669\n"
     ]
    },
    {
     "name": "stderr",
     "output_type": "stream",
     "text": [
      "\r",
      " 48%|███████████████████████████████████████████████████████████████████████████████████▌                                                                                          | 12/25 [01:03<01:19,  6.08s/it]"
     ]
    },
    {
     "name": "stdout",
     "output_type": "stream",
     "text": [
      "BestCad 12.0 0.7162901241475387 0.9999875426292419\n",
      "BestNuclei 12.0 0.0454466272427838 0.9826103448867798\n"
     ]
    },
    {
     "name": "stderr",
     "output_type": "stream",
     "text": [
      "\r",
      " 52%|██████████████████████████████████████████████████████████████████████████████████████████▍                                                                                   | 13/25 [01:09<01:13,  6.13s/it]"
     ]
    },
    {
     "name": "stdout",
     "output_type": "stream",
     "text": [
      "BestCad 13.0 0.8009080772975549 0.9999991059303284\n",
      "BestNuclei 13.0 0.06424279492146638 0.9996556639671326\n"
     ]
    },
    {
     "name": "stderr",
     "output_type": "stream",
     "text": [
      "\r",
      " 56%|█████████████████████████████████████████████████████████████████████████████████████████████████▍                                                                            | 14/25 [01:15<01:06,  6.09s/it]"
     ]
    },
    {
     "name": "stdout",
     "output_type": "stream",
     "text": [
      "BestCad 14.0 0.7263067958778456 0.9999972581863403\n",
      "BestNuclei 14.0 0.44549864627576125 0.9999725818634033\n"
     ]
    },
    {
     "name": "stderr",
     "output_type": "stream",
     "text": [
      "\r",
      " 60%|████████████████████████████████████████████████████████████████████████████████████████████████████████▍                                                                     | 15/25 [01:22<01:02,  6.24s/it]"
     ]
    },
    {
     "name": "stdout",
     "output_type": "stream",
     "text": [
      "BestCad 15.0 0.6804857338694009 0.9999364018440247\n",
      "BestNuclei 15.0 0.5011843878613866 0.9999886751174927\n"
     ]
    },
    {
     "name": "stderr",
     "output_type": "stream",
     "text": [
      "\r",
      " 64%|███████████████████████████████████████████████████████████████████████████████████████████████████████████████▎                                                              | 16/25 [01:28<00:57,  6.35s/it]"
     ]
    },
    {
     "name": "stdout",
     "output_type": "stream",
     "text": [
      "BestCad 16.0 0.6735564749222249 0.9998671412467957\n",
      "BestNuclei 16.0 0.5168079972888032 0.9999985098838806\n"
     ]
    },
    {
     "name": "stderr",
     "output_type": "stream",
     "text": [
      "\r",
      " 68%|██████████████████████████████████████████████████████████████████████████████████████████████████████████████████████▎                                                       | 17/25 [01:35<00:51,  6.40s/it]"
     ]
    },
    {
     "name": "stdout",
     "output_type": "stream",
     "text": [
      "BestCad 17.0 0.628470160625875 0.9996777772903442\n",
      "BestNuclei 17.0 0.6447028462690386 0.9999991655349731\n"
     ]
    },
    {
     "name": "stderr",
     "output_type": "stream",
     "text": [
      "\r",
      " 72%|█████████████████████████████████████████████████████████████████████████████████████████████████████████████████████████████▎                                                | 18/25 [01:41<00:43,  6.26s/it]"
     ]
    },
    {
     "name": "stdout",
     "output_type": "stream",
     "text": [
      "BestCad 18.0 0.4691805429174565 0.9980449676513672\n",
      "BestNuclei 18.0 0.8154574087044845 0.9999974966049194\n"
     ]
    },
    {
     "name": "stderr",
     "output_type": "stream",
     "text": [
      "\r",
      " 76%|████████████████████████████████████████████████████████████████████████████████████████████████████████████████████████████████████▏                                         | 19/25 [01:46<00:36,  6.02s/it]"
     ]
    },
    {
     "name": "stdout",
     "output_type": "stream",
     "text": [
      "BestCad 19.0 0.6143544405614111 0.9986739158630371\n",
      "BestNuclei 19.0 0.5848846161582818 0.9999966025352478\n"
     ]
    },
    {
     "name": "stderr",
     "output_type": "stream",
     "text": [
      "\r",
      " 80%|███████████████████████████████████████████████████████████████████████████████████████████████████████████████████████████████████████████▏                                  | 20/25 [01:52<00:29,  5.82s/it]"
     ]
    },
    {
     "name": "stdout",
     "output_type": "stream",
     "text": [
      "BestCad 20.0 0.5338177467726738 0.9938974380493164\n",
      "BestNuclei 20.0 0.8230648562312126 0.9999939203262329\n"
     ]
    },
    {
     "name": "stderr",
     "output_type": "stream",
     "text": [
      "\r",
      " 84%|██████████████████████████████████████████████████████████████████████████████████████████████████████████████████████████████████████████████████▏                           | 21/25 [01:57<00:22,  5.68s/it]"
     ]
    },
    {
     "name": "stdout",
     "output_type": "stream",
     "text": [
      "BestCad 21.0 0.5165402741348815 0.962565541267395\n",
      "BestNuclei 21.0 0.8741755578666925 0.9999902248382568\n"
     ]
    },
    {
     "name": "stderr",
     "output_type": "stream",
     "text": [
      "\r",
      " 88%|█████████████████████████████████████████████████████████████████████████████████████████████████████████████████████████████████████████████████████████                     | 22/25 [02:03<00:16,  5.63s/it]"
     ]
    },
    {
     "name": "stdout",
     "output_type": "stream",
     "text": [
      "BestCad 22.0 0.00688158808373952 0.026155930012464523\n",
      "BestNuclei 22.0 0.9990832695254573 0.9999819993972778\n"
     ]
    },
    {
     "name": "stderr",
     "output_type": "stream",
     "text": [
      "100%|██████████████████████████████████████████████████████████████████████████████████████████████████████████████████████████████████████████████████████████████████████████████| 25/25 [02:09<00:00,  5.17s/it]\n"
     ]
    },
    {
     "name": "stdout",
     "output_type": "stream",
     "text": [
      "Detecting focus planes in 210629_Erk_Kate_His_mov1_w3CSU-QUAD-561_s5_t29\n"
     ]
    },
    {
     "name": "stderr",
     "output_type": "stream",
     "text": [
      "\r",
      "  0%|                                                                                                                                                                                       | 0/25 [00:00<?, ?it/s]"
     ]
    },
    {
     "name": "stdout",
     "output_type": "stream",
     "text": [
      "BestCad 0.0 2.3247200886089557e-06 1.0355150152463466e-05\n",
      "BestNuclei 0.0 4.620907057516221e-09 1.6857949702853148e-08\n"
     ]
    },
    {
     "name": "stderr",
     "output_type": "stream",
     "text": [
      "\r",
      "  4%|███████                                                                                                                                                                        | 1/25 [00:10<04:21, 10.91s/it]"
     ]
    },
    {
     "name": "stdout",
     "output_type": "stream",
     "text": [
      "BestCad 1.0 9.640837491886601e-07 5.183061603020178e-06\n",
      "BestNuclei 1.0 1.2530634209070856e-09 3.9668468510001276e-09\n"
     ]
    },
    {
     "name": "stderr",
     "output_type": "stream",
     "text": [
      "\r",
      "  8%|██████████████                                                                                                                                                                 | 2/25 [00:16<03:00,  7.84s/it]"
     ]
    },
    {
     "name": "stdout",
     "output_type": "stream",
     "text": [
      "BestCad 2.0 5.515042875391497e-06 3.9935566746862605e-05\n",
      "BestNuclei 2.0 3.8346687886451524e-10 1.2945549077159058e-09\n"
     ]
    },
    {
     "name": "stderr",
     "output_type": "stream",
     "text": [
      "\r",
      " 12%|█████████████████████                                                                                                                                                          | 3/25 [00:22<02:32,  6.91s/it]"
     ]
    },
    {
     "name": "stdout",
     "output_type": "stream",
     "text": [
      "BestCad 3.0 6.536963004085313e-06 3.118691893178038e-05\n",
      "BestNuclei 3.0 4.2909012840665464e-10 1.9668697781582978e-09\n"
     ]
    },
    {
     "name": "stderr",
     "output_type": "stream",
     "text": [
      "\r",
      " 16%|████████████████████████████                                                                                                                                                   | 4/25 [00:28<02:17,  6.56s/it]"
     ]
    },
    {
     "name": "stdout",
     "output_type": "stream",
     "text": [
      "BestCad 4.0 1.3963297947364814e-05 0.0001125838971347548\n",
      "BestNuclei 4.0 3.22101294993743e-10 1.217716705248506e-09\n"
     ]
    },
    {
     "name": "stderr",
     "output_type": "stream",
     "text": [
      "\r",
      " 20%|███████████████████████████████████                                                                                                                                            | 5/25 [00:34<02:07,  6.38s/it]"
     ]
    },
    {
     "name": "stdout",
     "output_type": "stream",
     "text": [
      "BestCad 5.0 1.585219640610881e-05 0.0001377332373522222\n",
      "BestNuclei 5.0 4.06951862833016e-10 1.671124350011155e-09\n"
     ]
    },
    {
     "name": "stderr",
     "output_type": "stream",
     "text": [
      "\r",
      " 24%|██████████████████████████████████████████                                                                                                                                     | 6/25 [00:40<01:57,  6.19s/it]"
     ]
    },
    {
     "name": "stdout",
     "output_type": "stream",
     "text": [
      "BestCad 6.0 2.4374300957268652e-05 0.00024612972629256546\n",
      "BestNuclei 6.0 8.172110492256231e-10 4.161772704236455e-09\n"
     ]
    },
    {
     "name": "stderr",
     "output_type": "stream",
     "text": [
      "\r",
      " 28%|█████████████████████████████████████████████████                                                                                                                              | 7/25 [00:45<01:47,  6.00s/it]"
     ]
    },
    {
     "name": "stdout",
     "output_type": "stream",
     "text": [
      "BestCad 7.0 4.268537735702632e-05 0.00024399258836638182\n",
      "BestNuclei 7.0 2.339849065515163e-09 2.3084618661073364e-08\n"
     ]
    },
    {
     "name": "stderr",
     "output_type": "stream",
     "text": [
      "\r",
      " 32%|████████████████████████████████████████████████████████                                                                                                                       | 8/25 [00:52<01:42,  6.06s/it]"
     ]
    },
    {
     "name": "stdout",
     "output_type": "stream",
     "text": [
      "BestCad 8.0 0.0003571842396522264 0.005518434569239616\n",
      "BestNuclei 8.0 7.365832090447388e-08 9.126820827987103e-07\n"
     ]
    },
    {
     "name": "stderr",
     "output_type": "stream",
     "text": [
      "\r",
      " 36%|███████████████████████████████████████████████████████████████                                                                                                                | 9/25 [00:58<01:36,  6.05s/it]"
     ]
    },
    {
     "name": "stdout",
     "output_type": "stream",
     "text": [
      "BestCad 9.0 0.012316242226494691 0.2807588577270508\n",
      "BestNuclei 9.0 6.408833149360424e-06 0.00013300325372256339\n"
     ]
    },
    {
     "name": "stderr",
     "output_type": "stream",
     "text": [
      "\r",
      " 40%|█████████████████████████████████████████████████████████████████████▌                                                                                                        | 10/25 [01:03<01:28,  5.88s/it]"
     ]
    },
    {
     "name": "stdout",
     "output_type": "stream",
     "text": [
      "BestCad 10.0 0.054203980004053486 0.9991662502288818\n",
      "BestNuclei 10.0 0.00014724601720834547 0.0028380760923027992\n"
     ]
    },
    {
     "name": "stderr",
     "output_type": "stream",
     "text": [
      "\r",
      " 44%|████████████████████████████████████████████████████████████████████████████▌                                                                                                 | 11/25 [01:09<01:23,  5.98s/it]"
     ]
    },
    {
     "name": "stdout",
     "output_type": "stream",
     "text": [
      "BestCad 11.0 0.08033601000805078 0.9999944567680359\n",
      "BestNuclei 11.0 0.00011324682414750147 0.002040200401097536\n"
     ]
    },
    {
     "name": "stderr",
     "output_type": "stream",
     "text": [
      "\r",
      " 48%|███████████████████████████████████████████████████████████████████████████████████▌                                                                                          | 12/25 [01:16<01:19,  6.09s/it]"
     ]
    },
    {
     "name": "stdout",
     "output_type": "stream",
     "text": [
      "BestCad 12.0 0.19221216409835962 0.9999989867210388\n",
      "BestNuclei 12.0 0.0001277914849686573 0.002239414257928729\n"
     ]
    },
    {
     "name": "stderr",
     "output_type": "stream",
     "text": [
      "\r",
      " 52%|██████████████████████████████████████████████████████████████████████████████████████████▍                                                                                   | 13/25 [01:23<01:15,  6.32s/it]"
     ]
    },
    {
     "name": "stdout",
     "output_type": "stream",
     "text": [
      "BestCad 13.0 0.2653774957823316 0.9999998807907104\n",
      "BestNuclei 13.0 0.011140635913684345 0.2765616178512573\n"
     ]
    },
    {
     "name": "stderr",
     "output_type": "stream",
     "text": [
      "\r",
      " 56%|█████████████████████████████████████████████████████████████████████████████████████████████████▍                                                                            | 14/25 [01:29<01:11,  6.47s/it]"
     ]
    },
    {
     "name": "stdout",
     "output_type": "stream",
     "text": [
      "BestCad 14.0 0.3642165113633382 0.9999943375587463\n",
      "BestNuclei 14.0 0.09600184732952008 0.8713621497154236\n"
     ]
    },
    {
     "name": "stderr",
     "output_type": "stream",
     "text": [
      " 64%|███████████████████████████████████████████████████████████████████████████████████████████████████████████████▎                                                              | 16/25 [01:40<00:51,  5.71s/it]"
     ]
    },
    {
     "name": "stdout",
     "output_type": "stream",
     "text": [
      "BestCad 15.0 0.46702112005247426 0.9999443888664246\n",
      "BestNuclei 15.0 0.1459056233130741 0.9940105676651001\n"
     ]
    },
    {
     "name": "stderr",
     "output_type": "stream",
     "text": [
      "\r",
      " 68%|██████████████████████████████████████████████████████████████████████████████████████████████████████████████████████▎                                                       | 17/25 [01:44<00:43,  5.40s/it]"
     ]
    },
    {
     "name": "stdout",
     "output_type": "stream",
     "text": [
      "BestCad 16.0 0.04834954674482684 0.6204179525375366\n",
      "BestNuclei 16.0 0.9982298398017884 0.9999699592590332\n"
     ]
    },
    {
     "name": "stderr",
     "output_type": "stream",
     "text": [
      "\r",
      " 72%|█████████████████████████████████████████████████████████████████████████████████████████████████████████████████████████████▎                                                | 18/25 [01:49<00:35,  5.10s/it]"
     ]
    },
    {
     "name": "stdout",
     "output_type": "stream",
     "text": [
      "BestCad 17.0 0.00021877051567571472 0.0018151982221752405\n",
      "BestNuclei 17.0 0.999954505608632 0.9999985098838806\n"
     ]
    },
    {
     "name": "stderr",
     "output_type": "stream",
     "text": [
      "\r",
      " 76%|████████████████████████████████████████████████████████████████████████████████████████████████████████████████████████████████████▏                                         | 19/25 [01:53<00:29,  4.87s/it]"
     ]
    },
    {
     "name": "stdout",
     "output_type": "stream",
     "text": [
      "BestCad 18.0 2.6228331390401847e-06 1.375707233819412e-05\n",
      "BestNuclei 18.0 0.9999995203245253 1.0\n"
     ]
    },
    {
     "name": "stderr",
     "output_type": "stream",
     "text": [
      "\r",
      " 80%|███████████████████████████████████████████████████████████████████████████████████████████████████████████████████████████████████████████▏                                  | 20/25 [01:57<00:22,  4.55s/it]"
     ]
    },
    {
     "name": "stdout",
     "output_type": "stream",
     "text": [
      "BestCad 19.0 1.8678868229926593e-06 9.854054042079952e-06\n",
      "BestNuclei 19.0 0.999999575316906 1.0\n"
     ]
    },
    {
     "name": "stderr",
     "output_type": "stream",
     "text": [
      "\r",
      " 84%|██████████████████████████████████████████████████████████████████████████████████████████████████████████████████████████████████████████████████▏                           | 21/25 [02:01<00:17,  4.29s/it]"
     ]
    },
    {
     "name": "stdout",
     "output_type": "stream",
     "text": [
      "BestCad 20.0 5.784727184163785e-06 4.47480779257603e-05\n",
      "BestNuclei 20.0 0.9999994307756424 0.9999998807907104\n"
     ]
    },
    {
     "name": "stderr",
     "output_type": "stream",
     "text": [
      "\r",
      " 88%|█████████████████████████████████████████████████████████████████████████████████████████████████████████████████████████████████████████████████████████                     | 22/25 [02:05<00:12,  4.17s/it]"
     ]
    },
    {
     "name": "stdout",
     "output_type": "stream",
     "text": [
      "BestCad 21.0 4.529162754352001e-06 3.174103403580375e-05\n",
      "BestNuclei 21.0 0.9999994661497034 0.9999998807907104\n"
     ]
    },
    {
     "name": "stderr",
     "output_type": "stream",
     "text": [
      "100%|██████████████████████████████████████████████████████████████████████████████████████████████████████████████████████████████████████████████████████████████████████████████| 25/25 [02:08<00:00,  5.16s/it]"
     ]
    },
    {
     "name": "stdout",
     "output_type": "stream",
     "text": [
      "BestCad 22.0 4.678072346193759e-06 2.6806086680153385e-05\n",
      "BestNuclei 22.0 0.9999994039535522 0.9999998807907104\n"
     ]
    },
    {
     "name": "stderr",
     "output_type": "stream",
     "text": [
      "\n"
     ]
    },
    {
     "name": "stdout",
     "output_type": "stream",
     "text": [
      "Detecting focus planes in 210629_Erk_Kate_His_mov1_w1CSU-QUAD-561_s9_t23\n"
     ]
    },
    {
     "name": "stderr",
     "output_type": "stream",
     "text": [
      "  4%|███████                                                                                                                                                                        | 1/25 [00:04<01:58,  4.94s/it]"
     ]
    },
    {
     "name": "stdout",
     "output_type": "stream",
     "text": [
      "BestCad 0.0 0.49610629511722515 0.9993946552276611\n",
      "BestNuclei 0.0 0.23794894636929326 0.9999989867210388\n"
     ]
    },
    {
     "name": "stderr",
     "output_type": "stream",
     "text": [
      "\r",
      "  8%|██████████████                                                                                                                                                                 | 2/25 [00:08<01:34,  4.10s/it]"
     ]
    },
    {
     "name": "stdout",
     "output_type": "stream",
     "text": [
      "BestCad 1.0 0.4481338878917582 0.9995477199554443\n",
      "BestNuclei 1.0 0.27085320219350656 0.9999992251396179\n"
     ]
    },
    {
     "name": "stderr",
     "output_type": "stream",
     "text": [
      "\r",
      " 12%|█████████████████████                                                                                                                                                          | 3/25 [00:11<01:24,  3.84s/it]"
     ]
    },
    {
     "name": "stdout",
     "output_type": "stream",
     "text": [
      "BestCad 2.0 0.5670886875916039 0.9986839890480042\n",
      "BestNuclei 2.0 0.3571670398153201 0.9999997019767761\n"
     ]
    },
    {
     "name": "stderr",
     "output_type": "stream",
     "text": [
      "\r",
      " 16%|████████████████████████████                                                                                                                                                   | 4/25 [00:15<01:17,  3.69s/it]"
     ]
    },
    {
     "name": "stdout",
     "output_type": "stream",
     "text": [
      "BestCad 3.0 0.47453889882341505 0.9979041814804077\n",
      "BestNuclei 3.0 0.3929266213456183 0.999999463558197\n"
     ]
    },
    {
     "name": "stderr",
     "output_type": "stream",
     "text": [
      "\r",
      " 20%|███████████████████████████████████                                                                                                                                            | 5/25 [00:18<01:11,  3.60s/it]"
     ]
    },
    {
     "name": "stdout",
     "output_type": "stream",
     "text": [
      "BestCad 4.0 0.5780268011149019 0.9992364048957825\n",
      "BestNuclei 4.0 0.4165632983282854 0.9999997615814209\n"
     ]
    },
    {
     "name": "stderr",
     "output_type": "stream",
     "text": [
      "\r",
      " 24%|██████████████████████████████████████████                                                                                                                                     | 6/25 [00:22<01:07,  3.57s/it]"
     ]
    },
    {
     "name": "stdout",
     "output_type": "stream",
     "text": [
      "BestCad 5.0 0.6350973183223687 0.9975571632385254\n",
      "BestNuclei 5.0 0.4321561210945126 0.9999998211860657\n"
     ]
    },
    {
     "name": "stderr",
     "output_type": "stream",
     "text": [
      "\r",
      " 28%|█████████████████████████████████████████████████                                                                                                                              | 7/25 [00:25<01:03,  3.53s/it]"
     ]
    },
    {
     "name": "stdout",
     "output_type": "stream",
     "text": [
      "BestCad 6.0 0.6422032226875768 0.9962645769119263\n",
      "BestNuclei 6.0 0.5158331926548574 0.9999998211860657\n"
     ]
    },
    {
     "name": "stderr",
     "output_type": "stream",
     "text": [
      "\r",
      " 32%|████████████████████████████████████████████████████████                                                                                                                       | 8/25 [00:29<00:59,  3.52s/it]"
     ]
    },
    {
     "name": "stdout",
     "output_type": "stream",
     "text": [
      "BestCad 7.0 0.6541446892938222 0.9980859756469727\n",
      "BestNuclei 7.0 0.5254046554705518 0.9999997615814209\n"
     ]
    },
    {
     "name": "stderr",
     "output_type": "stream",
     "text": [
      "\r",
      " 36%|███████████████████████████████████████████████████████████████                                                                                                                | 9/25 [00:33<00:58,  3.63s/it]"
     ]
    },
    {
     "name": "stdout",
     "output_type": "stream",
     "text": [
      "BestCad 8.0 0.6388568011594047 0.9944307804107666\n",
      "BestNuclei 8.0 0.6131093370547951 0.9999978542327881\n"
     ]
    },
    {
     "name": "stderr",
     "output_type": "stream",
     "text": [
      "\r",
      " 40%|█████████████████████████████████████████████████████████████████████▌                                                                                                        | 10/25 [00:36<00:53,  3.58s/it]"
     ]
    },
    {
     "name": "stdout",
     "output_type": "stream",
     "text": [
      "BestCad 9.0 0.6617357136539953 0.9960614442825317\n",
      "BestNuclei 9.0 0.6353973367710006 0.9999994039535522\n"
     ]
    },
    {
     "name": "stderr",
     "output_type": "stream",
     "text": [
      "\r",
      " 44%|████████████████████████████████████████████████████████████████████████████▌                                                                                                 | 11/25 [00:42<01:01,  4.37s/it]"
     ]
    },
    {
     "name": "stdout",
     "output_type": "stream",
     "text": [
      "BestCad 10.0 0.7168078916681679 0.9911810159683228\n",
      "BestNuclei 10.0 0.7004577115374089 0.9999993443489075\n"
     ]
    },
    {
     "name": "stderr",
     "output_type": "stream",
     "text": [
      "\r",
      " 48%|███████████████████████████████████████████████████████████████████████████████████▌                                                                                          | 12/25 [00:46<00:52,  4.03s/it]"
     ]
    },
    {
     "name": "stdout",
     "output_type": "stream",
     "text": [
      "BestCad 11.0 0.6890079954646353 0.9947526454925537\n",
      "BestNuclei 11.0 0.6807822556470334 0.9999874830245972\n"
     ]
    },
    {
     "name": "stderr",
     "output_type": "stream",
     "text": [
      "\r",
      " 52%|██████████████████████████████████████████████████████████████████████████████████████████▍                                                                                   | 13/25 [00:49<00:45,  3.80s/it]"
     ]
    },
    {
     "name": "stdout",
     "output_type": "stream",
     "text": [
      "BestCad 12.0 0.7756920664740558 0.9919977188110352\n",
      "BestNuclei 12.0 0.5895376659495355 0.9998875260353088\n"
     ]
    },
    {
     "name": "stderr",
     "output_type": "stream",
     "text": [
      "\r",
      " 56%|█████████████████████████████████████████████████████████████████████████████████████████████████▍                                                                            | 14/25 [00:52<00:39,  3.60s/it]"
     ]
    },
    {
     "name": "stdout",
     "output_type": "stream",
     "text": [
      "BestCad 13.0 0.8101045242510736 0.9938300848007202\n",
      "BestNuclei 13.0 0.5171188072925391 0.9999870657920837\n"
     ]
    },
    {
     "name": "stderr",
     "output_type": "stream",
     "text": [
      "\r",
      " 60%|████████████████████████████████████████████████████████████████████████████████████████████████████████▍                                                                     | 15/25 [00:55<00:35,  3.52s/it]"
     ]
    },
    {
     "name": "stdout",
     "output_type": "stream",
     "text": [
      "BestCad 14.0 0.8283774938151639 0.991081953048706\n",
      "BestNuclei 14.0 0.5657357789975925 0.9999985098838806\n"
     ]
    },
    {
     "name": "stderr",
     "output_type": "stream",
     "text": [
      "\r",
      " 64%|███████████████████████████████████████████████████████████████████████████████████████████████████████████████▎                                                              | 16/25 [00:59<00:31,  3.55s/it]"
     ]
    },
    {
     "name": "stdout",
     "output_type": "stream",
     "text": [
      "BestCad 15.0 0.5288035128561949 0.9842109680175781\n",
      "BestNuclei 15.0 0.8537793927467786 0.9999731779098511\n"
     ]
    },
    {
     "name": "stderr",
     "output_type": "stream",
     "text": [
      "\r",
      " 68%|██████████████████████████████████████████████████████████████████████████████████████████████████████████████████████▎                                                       | 17/25 [01:03<00:28,  3.57s/it]"
     ]
    },
    {
     "name": "stdout",
     "output_type": "stream",
     "text": [
      "BestCad 16.0 0.3677310697258572 0.9562079310417175\n",
      "BestNuclei 16.0 0.9610608915487925 0.9998153448104858\n"
     ]
    },
    {
     "name": "stderr",
     "output_type": "stream",
     "text": [
      "\r",
      " 72%|█████████████████████████████████████████████████████████████████████████████████████████████████████████████████████████████▎                                                | 18/25 [01:06<00:25,  3.64s/it]"
     ]
    },
    {
     "name": "stdout",
     "output_type": "stream",
     "text": [
      "BestCad 17.0 0.0009767027417104184 0.009281150996685028\n",
      "BestNuclei 17.0 0.9999063563346863 0.9999986290931702\n"
     ]
    },
    {
     "name": "stderr",
     "output_type": "stream",
     "text": [
      "\r",
      " 76%|████████████████████████████████████████████████████████████████████████████████████████████████████████████████████████████████████▏                                         | 19/25 [01:10<00:22,  3.67s/it]"
     ]
    },
    {
     "name": "stdout",
     "output_type": "stream",
     "text": [
      "BestCad 18.0 0.0004161909730259061 0.0034111300483345985\n",
      "BestNuclei 18.0 0.9999620473903158 0.9999994039535522\n"
     ]
    },
    {
     "name": "stderr",
     "output_type": "stream",
     "text": [
      "\r",
      " 80%|███████████████████████████████████████████████████████████████████████████████████████████████████████████████████████████████████████████▏                                  | 20/25 [01:14<00:18,  3.70s/it]"
     ]
    },
    {
     "name": "stdout",
     "output_type": "stream",
     "text": [
      "BestCad 19.0 0.0003507273839990045 0.004150244407355785\n",
      "BestNuclei 19.0 0.9999654315985166 0.9999997019767761\n"
     ]
    },
    {
     "name": "stderr",
     "output_type": "stream",
     "text": [
      "\r",
      " 84%|██████████████████████████████████████████████████████████████████████████████████████████████████████████████████████████████████████████████████▏                           | 21/25 [01:18<00:15,  3.75s/it]"
     ]
    },
    {
     "name": "stdout",
     "output_type": "stream",
     "text": [
      "BestCad 20.0 0.00015058937248630338 0.0013898005709052086\n",
      "BestNuclei 20.0 0.9999869888027509 0.9999998807907104\n"
     ]
    },
    {
     "name": "stderr",
     "output_type": "stream",
     "text": [
      "\r",
      " 88%|█████████████████████████████████████████████████████████████████████████████████████████████████████████████████████████████████████████████████████████                     | 22/25 [01:22<00:11,  3.85s/it]"
     ]
    },
    {
     "name": "stdout",
     "output_type": "stream",
     "text": [
      "BestCad 21.0 0.00015261033478471595 0.0017655417323112488\n",
      "BestNuclei 21.0 0.9999823103780332 0.9999998211860657\n"
     ]
    },
    {
     "name": "stderr",
     "output_type": "stream",
     "text": [
      "100%|██████████████████████████████████████████████████████████████████████████████████████████████████████████████████████████████████████████████████████████████████████████████| 25/25 [01:26<00:00,  3.45s/it]"
     ]
    },
    {
     "name": "stdout",
     "output_type": "stream",
     "text": [
      "BestCad 22.0 8.379019862497279e-05 0.0006532259285449982\n",
      "BestNuclei 22.0 0.9999927800634633 0.9999998807907104\n"
     ]
    },
    {
     "name": "stderr",
     "output_type": "stream",
     "text": [
      "\n"
     ]
    },
    {
     "name": "stdout",
     "output_type": "stream",
     "text": [
      "Detecting focus planes in 210629_Erk_Kate_His_mov1_w3CSU-QUAD-561_s2_t31\n"
     ]
    },
    {
     "name": "stderr",
     "output_type": "stream",
     "text": [
      "\r",
      "  0%|                                                                                                                                                                                       | 0/25 [00:00<?, ?it/s]"
     ]
    },
    {
     "name": "stdout",
     "output_type": "stream",
     "text": [
      "BestCad 0.0 1.9937636430000794e-05 0.00014326890232041478\n",
      "BestNuclei 0.0 2.221852274915326e-09 1.668106008878567e-08\n"
     ]
    },
    {
     "name": "stderr",
     "output_type": "stream",
     "text": [
      "\r",
      "  4%|███████                                                                                                                                                                        | 1/25 [00:08<03:17,  8.21s/it]"
     ]
    },
    {
     "name": "stdout",
     "output_type": "stream",
     "text": [
      "BestCad 1.0 4.7226770467053335e-05 0.0004332590033300221\n",
      "BestNuclei 1.0 8.219076576827437e-09 1.5010641618573572e-07\n"
     ]
    },
    {
     "name": "stderr",
     "output_type": "stream",
     "text": [
      "\r",
      "  8%|██████████████                                                                                                                                                                 | 2/25 [00:13<02:35,  6.77s/it]"
     ]
    },
    {
     "name": "stdout",
     "output_type": "stream",
     "text": [
      "BestCad 2.0 0.005751816765269741 0.13191653788089752\n",
      "BestNuclei 2.0 9.35592006509551e-07 2.1468194972840138e-05\n"
     ]
    },
    {
     "name": "stderr",
     "output_type": "stream",
     "text": [
      "\r",
      " 12%|█████████████████████                                                                                                                                                          | 3/25 [00:19<02:20,  6.40s/it]"
     ]
    },
    {
     "name": "stdout",
     "output_type": "stream",
     "text": [
      "BestCad 3.0 0.04624342894328242 0.9942745566368103\n",
      "BestNuclei 3.0 8.11958135756754e-05 0.0017859875224530697\n"
     ]
    },
    {
     "name": "stderr",
     "output_type": "stream",
     "text": [
      "\r",
      " 16%|████████████████████████████                                                                                                                                                   | 4/25 [00:27<02:23,  6.81s/it]"
     ]
    },
    {
     "name": "stdout",
     "output_type": "stream",
     "text": [
      "BestCad 4.0 0.08259980565674327 0.9999111294746399\n",
      "BestNuclei 4.0 2.6887785473362183e-05 0.0005344367818906903\n"
     ]
    },
    {
     "name": "stderr",
     "output_type": "stream",
     "text": [
      "\r",
      " 20%|███████████████████████████████████                                                                                                                                            | 5/25 [00:33<02:13,  6.67s/it]"
     ]
    },
    {
     "name": "stdout",
     "output_type": "stream",
     "text": [
      "BestCad 5.0 0.07930186914135745 0.9999864101409912\n",
      "BestNuclei 5.0 0.00010073448221832593 0.0021460908465087414\n"
     ]
    },
    {
     "name": "stderr",
     "output_type": "stream",
     "text": [
      "\r",
      " 24%|██████████████████████████████████████████                                                                                                                                     | 6/25 [00:41<02:11,  6.91s/it]"
     ]
    },
    {
     "name": "stdout",
     "output_type": "stream",
     "text": [
      "BestCad 6.0 0.15871433679677635 0.9999905824661255\n",
      "BestNuclei 6.0 0.016449839449515388 0.3780713677406311\n"
     ]
    },
    {
     "name": "stderr",
     "output_type": "stream",
     "text": [
      "\r",
      " 28%|█████████████████████████████████████████████████                                                                                                                              | 7/25 [00:47<02:03,  6.85s/it]"
     ]
    },
    {
     "name": "stdout",
     "output_type": "stream",
     "text": [
      "BestCad 7.0 0.250851803368235 0.9999939203262329\n",
      "BestNuclei 7.0 0.04158212872514475 0.9969437122344971\n"
     ]
    },
    {
     "name": "stderr",
     "output_type": "stream",
     "text": [
      "\r",
      " 32%|████████████████████████████████████████████████████████                                                                                                                       | 8/25 [00:54<01:55,  6.81s/it]"
     ]
    },
    {
     "name": "stdout",
     "output_type": "stream",
     "text": [
      "BestCad 8.0 0.40852070050111605 0.9999311566352844\n",
      "BestNuclei 8.0 0.1449013636977863 0.9929115176200867\n"
     ]
    },
    {
     "name": "stderr",
     "output_type": "stream",
     "text": [
      "\r",
      " 36%|███████████████████████████████████████████████████████████████                                                                                                                | 9/25 [01:01<01:47,  6.70s/it]"
     ]
    },
    {
     "name": "stdout",
     "output_type": "stream",
     "text": [
      "BestCad 9.0 0.3078445837917653 0.9995719790458679\n",
      "BestNuclei 9.0 0.7720765137615112 0.9997358322143555\n"
     ]
    },
    {
     "name": "stderr",
     "output_type": "stream",
     "text": [
      "\r",
      " 40%|█████████████████████████████████████████████████████████████████████▌                                                                                                        | 10/25 [01:07<01:39,  6.62s/it]"
     ]
    },
    {
     "name": "stdout",
     "output_type": "stream",
     "text": [
      "BestCad 10.0 0.3262169004417956 0.999762773513794\n",
      "BestNuclei 10.0 0.9214353710412979 0.9999037384986877\n"
     ]
    },
    {
     "name": "stderr",
     "output_type": "stream",
     "text": [
      "\r",
      " 44%|████████████████████████████████████████████████████████████████████████████▌                                                                                                 | 11/25 [01:13<01:31,  6.50s/it]"
     ]
    },
    {
     "name": "stdout",
     "output_type": "stream",
     "text": [
      "BestCad 11.0 0.48329628828912974 0.9997526407241821\n",
      "BestNuclei 11.0 0.8602157545089721 0.9999690055847168\n"
     ]
    },
    {
     "name": "stderr",
     "output_type": "stream",
     "text": [
      "\r",
      " 48%|███████████████████████████████████████████████████████████████████████████████████▌                                                                                          | 12/25 [01:20<01:23,  6.44s/it]"
     ]
    },
    {
     "name": "stdout",
     "output_type": "stream",
     "text": [
      "BestCad 12.0 0.035559120803858 0.56837397813797\n",
      "BestNuclei 12.0 0.9993674755096436 0.9999988079071045\n"
     ]
    },
    {
     "name": "stderr",
     "output_type": "stream",
     "text": [
      "\r",
      " 52%|██████████████████████████████████████████████████████████████████████████████████████████▍                                                                                   | 13/25 [01:26<01:16,  6.38s/it]"
     ]
    },
    {
     "name": "stdout",
     "output_type": "stream",
     "text": [
      "BestCad 13.0 0.00047472886446643236 0.006565688643604517\n",
      "BestNuclei 13.0 0.9999646420280138 0.9999998807907104\n"
     ]
    },
    {
     "name": "stderr",
     "output_type": "stream",
     "text": [
      "\r",
      " 56%|█████████████████████████████████████████████████████████████████████████████████████████████████▍                                                                            | 14/25 [01:32<01:10,  6.44s/it]"
     ]
    },
    {
     "name": "stdout",
     "output_type": "stream",
     "text": [
      "BestCad 14.0 0.00048001918800028286 0.004435438197106123\n",
      "BestNuclei 14.0 0.9999679426352183 0.9999998807907104\n"
     ]
    },
    {
     "name": "stderr",
     "output_type": "stream",
     "text": [
      "\r",
      " 60%|████████████████████████████████████████████████████████████████████████████████████████████████████████▍                                                                     | 15/25 [01:39<01:04,  6.48s/it]"
     ]
    },
    {
     "name": "stdout",
     "output_type": "stream",
     "text": [
      "BestCad 15.0 0.0015705287140173657 0.0242994986474514\n",
      "BestNuclei 15.0 0.9999621562335802 0.9999998211860657\n"
     ]
    },
    {
     "name": "stderr",
     "output_type": "stream",
     "text": [
      "\r",
      " 64%|███████████████████████████████████████████████████████████████████████████████████████████████████████████████▎                                                              | 16/25 [01:46<00:58,  6.54s/it]"
     ]
    },
    {
     "name": "stdout",
     "output_type": "stream",
     "text": [
      "BestCad 16.0 0.3246853895834647 0.9936090707778931\n",
      "BestNuclei 16.0 0.9491850941077523 0.9999465346336365\n"
     ]
    },
    {
     "name": "stderr",
     "output_type": "stream",
     "text": [
      " 72%|█████████████████████████████████████████████████████████████████████████████████████████████████████████████████████████████▎                                                | 18/25 [01:57<00:41,  5.90s/it]"
     ]
    },
    {
     "name": "stdout",
     "output_type": "stream",
     "text": [
      "BestCad 17.0 0.04717591962636154 0.48520392179489136\n",
      "BestNuclei 17.0 0.9988699505726496 0.9999892711639404\n"
     ]
    },
    {
     "name": "stderr",
     "output_type": "stream",
     "text": [
      "\r",
      " 76%|████████████████████████████████████████████████████████████████████████████████████████████████████████████████████████████████████▏                                         | 19/25 [02:01<00:31,  5.29s/it]"
     ]
    },
    {
     "name": "stdout",
     "output_type": "stream",
     "text": [
      "BestCad 18.0 5.165879350027788e-05 0.0001324900076724589\n",
      "BestNuclei 18.0 0.9999891805648804 0.9999998807907104\n"
     ]
    },
    {
     "name": "stderr",
     "output_type": "stream",
     "text": [
      "\r",
      " 80%|███████████████████████████████████████████████████████████████████████████████████████████████████████████████████████████████████████████▏                                  | 20/25 [02:04<00:24,  4.84s/it]"
     ]
    },
    {
     "name": "stdout",
     "output_type": "stream",
     "text": [
      "BestCad 19.0 6.106587330615791e-06 1.2328864613664337e-05\n",
      "BestNuclei 19.0 0.9999988603591919 0.9999998807907104\n"
     ]
    },
    {
     "name": "stderr",
     "output_type": "stream",
     "text": [
      "\r",
      " 84%|██████████████████████████████████████████████████████████████████████████████████████████████████████████████████████████████████████████████████▏                           | 21/25 [02:08<00:17,  4.48s/it]"
     ]
    },
    {
     "name": "stdout",
     "output_type": "stream",
     "text": [
      "BestCad 20.0 2.2461532849278726e-05 4.967272252542898e-05\n",
      "BestNuclei 20.0 0.999995319739632 0.9999999403953552\n"
     ]
    },
    {
     "name": "stderr",
     "output_type": "stream",
     "text": [
      "\r",
      " 88%|█████████████████████████████████████████████████████████████████████████████████████████████████████████████████████████████████████████████████████████                     | 22/25 [02:12<00:12,  4.23s/it]"
     ]
    },
    {
     "name": "stdout",
     "output_type": "stream",
     "text": [
      "BestCad 21.0 2.6947320520775975e-05 6.367089372361079e-05\n",
      "BestNuclei 21.0 0.9999951918919882 0.9999999403953552\n"
     ]
    },
    {
     "name": "stderr",
     "output_type": "stream",
     "text": [
      "100%|██████████████████████████████████████████████████████████████████████████████████████████████████████████████████████████████████████████████████████████████████████████████| 25/25 [02:18<00:00,  5.55s/it]"
     ]
    },
    {
     "name": "stdout",
     "output_type": "stream",
     "text": [
      "BestCad 22.0 0.015447206927505746 0.08462637662887573\n",
      "BestNuclei 22.0 0.9995431954210455 0.9999930262565613\n"
     ]
    },
    {
     "name": "stderr",
     "output_type": "stream",
     "text": [
      "\n"
     ]
    },
    {
     "name": "stdout",
     "output_type": "stream",
     "text": [
      "Detecting focus planes in 210629_Erk_Kate_His_mov1_w1CSU-QUAD-561_s2_t15\n"
     ]
    },
    {
     "name": "stderr",
     "output_type": "stream",
     "text": [
      "  4%|███████                                                                                                                                                                        | 1/25 [00:04<01:56,  4.87s/it]"
     ]
    },
    {
     "name": "stdout",
     "output_type": "stream",
     "text": [
      "BestCad 0.0 0.25416527212363016 0.9999885559082031\n",
      "BestNuclei 0.0 0.046181298305693286 0.9995207190513611\n"
     ]
    },
    {
     "name": "stderr",
     "output_type": "stream",
     "text": [
      "\r",
      "  8%|██████████████                                                                                                                                                                 | 2/25 [00:08<01:37,  4.22s/it]"
     ]
    },
    {
     "name": "stdout",
     "output_type": "stream",
     "text": [
      "BestCad 1.0 0.34108849836078053 0.9999985694885254\n",
      "BestNuclei 1.0 0.04312737115373633 0.9999473094940186\n"
     ]
    },
    {
     "name": "stderr",
     "output_type": "stream",
     "text": [
      "\r",
      " 12%|█████████████████████                                                                                                                                                          | 3/25 [00:12<01:28,  4.04s/it]"
     ]
    },
    {
     "name": "stdout",
     "output_type": "stream",
     "text": [
      "BestCad 2.0 0.4988062694505788 0.9999856948852539\n",
      "BestNuclei 2.0 0.0958013350665586 0.9999699592590332\n"
     ]
    },
    {
     "name": "stderr",
     "output_type": "stream",
     "text": [
      "\r",
      " 16%|████████████████████████████                                                                                                                                                   | 4/25 [00:16<01:21,  3.89s/it]"
     ]
    },
    {
     "name": "stdout",
     "output_type": "stream",
     "text": [
      "BestCad 3.0 0.6175781034398824 0.9999516010284424\n",
      "BestNuclei 3.0 0.12703816642622692 0.9999917149543762\n"
     ]
    },
    {
     "name": "stderr",
     "output_type": "stream",
     "text": [
      "\r",
      " 20%|███████████████████████████████████                                                                                                                                            | 5/25 [00:19<01:16,  3.81s/it]"
     ]
    },
    {
     "name": "stdout",
     "output_type": "stream",
     "text": [
      "BestCad 4.0 0.5761797858564102 0.9995157122612\n",
      "BestNuclei 4.0 0.6855734398122877 0.9999855756759644\n"
     ]
    },
    {
     "name": "stderr",
     "output_type": "stream",
     "text": [
      "\r",
      " 24%|██████████████████████████████████████████                                                                                                                                     | 6/25 [00:23<01:11,  3.75s/it]"
     ]
    },
    {
     "name": "stdout",
     "output_type": "stream",
     "text": [
      "BestCad 5.0 0.20464348160682924 0.9167017936706543\n",
      "BestNuclei 5.0 0.9866377342314947 0.9999774694442749\n"
     ]
    },
    {
     "name": "stderr",
     "output_type": "stream",
     "text": [
      "\r",
      " 28%|█████████████████████████████████████████████████                                                                                                                              | 7/25 [00:27<01:08,  3.78s/it]"
     ]
    },
    {
     "name": "stdout",
     "output_type": "stream",
     "text": [
      "BestCad 6.0 0.0002878382992639672 0.001439060433767736\n",
      "BestNuclei 6.0 0.9999575433523759 0.9999995231628418\n"
     ]
    },
    {
     "name": "stderr",
     "output_type": "stream",
     "text": [
      "\r",
      " 32%|████████████████████████████████████████████████████████                                                                                                                       | 8/25 [00:31<01:04,  3.79s/it]"
     ]
    },
    {
     "name": "stdout",
     "output_type": "stream",
     "text": [
      "BestCad 7.0 0.0002025529930029907 0.0007187172304838896\n",
      "BestNuclei 7.0 0.9999721050262451 0.9999997019767761\n"
     ]
    },
    {
     "name": "stderr",
     "output_type": "stream",
     "text": [
      "\r",
      " 36%|███████████████████████████████████████████████████████████████                                                                                                                | 9/25 [00:34<01:01,  3.82s/it]"
     ]
    },
    {
     "name": "stdout",
     "output_type": "stream",
     "text": [
      "BestCad 8.0 0.00016287273667165374 0.0006354840006679296\n",
      "BestNuclei 8.0 0.9999753975868225 0.9999997019767761\n"
     ]
    },
    {
     "name": "stderr",
     "output_type": "stream",
     "text": [
      "\r",
      " 40%|█████████████████████████████████████████████████████████████████████▌                                                                                                        | 10/25 [00:38<00:57,  3.85s/it]"
     ]
    },
    {
     "name": "stdout",
     "output_type": "stream",
     "text": [
      "BestCad 9.0 8.178543707041779e-05 0.00022707157768309116\n",
      "BestNuclei 9.0 0.9999837967065665 0.9999998211860657\n"
     ]
    },
    {
     "name": "stderr",
     "output_type": "stream",
     "text": [
      "\r",
      " 44%|████████████████████████████████████████████████████████████████████████████▌                                                                                                 | 11/25 [00:42<00:53,  3.84s/it]"
     ]
    },
    {
     "name": "stdout",
     "output_type": "stream",
     "text": [
      "BestCad 10.0 7.776143283163864e-05 0.00018359367095399648\n",
      "BestNuclei 10.0 0.9999863058328629 0.9999998211860657\n"
     ]
    },
    {
     "name": "stderr",
     "output_type": "stream",
     "text": [
      "\r",
      " 48%|███████████████████████████████████████████████████████████████████████████████████▌                                                                                          | 12/25 [00:46<00:49,  3.80s/it]"
     ]
    },
    {
     "name": "stdout",
     "output_type": "stream",
     "text": [
      "BestCad 11.0 0.00011364497755573171 0.0003439901920501143\n",
      "BestNuclei 11.0 0.9999726033210754 0.9999996423721313\n"
     ]
    },
    {
     "name": "stderr",
     "output_type": "stream",
     "text": [
      "\r",
      " 52%|██████████████████████████████████████████████████████████████████████████████████████████▍                                                                                   | 13/25 [00:50<00:44,  3.74s/it]"
     ]
    },
    {
     "name": "stdout",
     "output_type": "stream",
     "text": [
      "BestCad 12.0 0.00010932550057160287 0.0004946348490193486\n",
      "BestNuclei 12.0 0.9999795357386271 0.9999998211860657\n"
     ]
    },
    {
     "name": "stderr",
     "output_type": "stream",
     "text": [
      "\r",
      " 56%|█████████████████████████████████████████████████████████████████████████████████████████████████▍                                                                            | 14/25 [00:53<00:40,  3.70s/it]"
     ]
    },
    {
     "name": "stdout",
     "output_type": "stream",
     "text": [
      "BestCad 13.0 0.00019454170772157588 0.001217385521158576\n",
      "BestNuclei 13.0 0.9999664497375488 0.9999996423721313\n"
     ]
    },
    {
     "name": "stderr",
     "output_type": "stream",
     "text": [
      "\r",
      " 60%|████████████████████████████████████████████████████████████████████████████████████████████████████████▍                                                                     | 15/25 [00:57<00:36,  3.66s/it]"
     ]
    },
    {
     "name": "stdout",
     "output_type": "stream",
     "text": [
      "BestCad 14.0 0.0002941373868847934 0.0017233574762940407\n",
      "BestNuclei 14.0 0.999958561225371 0.9999993443489075\n"
     ]
    },
    {
     "name": "stderr",
     "output_type": "stream",
     "text": [
      "\r",
      " 64%|███████████████████████████████████████████████████████████████████████████████████████████████████████████████▎                                                              | 16/25 [01:00<00:32,  3.58s/it]"
     ]
    },
    {
     "name": "stdout",
     "output_type": "stream",
     "text": [
      "BestCad 15.0 0.0019150578619224862 0.008138250559568405\n",
      "BestNuclei 15.0 0.9998204163883043 0.9999952912330627\n"
     ]
    },
    {
     "name": "stderr",
     "output_type": "stream",
     "text": [
      "\r",
      " 68%|██████████████████████████████████████████████████████████████████████████████████████████████████████████████████████▎                                                       | 17/25 [01:04<00:28,  3.53s/it]"
     ]
    },
    {
     "name": "stdout",
     "output_type": "stream",
     "text": [
      "BestCad 16.0 0.005088232867737216 0.02958584949374199\n",
      "BestNuclei 16.0 0.9996642048160235 0.9999913573265076\n"
     ]
    },
    {
     "name": "stderr",
     "output_type": "stream",
     "text": [
      "\r",
      " 72%|█████████████████████████████████████████████████████████████████████████████████████████████████████████████████████████████▎                                                | 18/25 [01:07<00:24,  3.54s/it]"
     ]
    },
    {
     "name": "stdout",
     "output_type": "stream",
     "text": [
      "BestCad 17.0 0.0028115414686562005 0.014622114598751068\n",
      "BestNuclei 17.0 0.9997955039143562 0.9999979734420776\n"
     ]
    },
    {
     "name": "stderr",
     "output_type": "stream",
     "text": [
      "\r",
      " 76%|████████████████████████████████████████████████████████████████████████████████████████████████████████████████████████████████████▏                                         | 19/25 [01:11<00:21,  3.52s/it]"
     ]
    },
    {
     "name": "stdout",
     "output_type": "stream",
     "text": [
      "BestCad 18.0 0.012463260528064617 0.06165022775530815\n",
      "BestNuclei 18.0 0.9993048881491026 0.9999905824661255\n"
     ]
    },
    {
     "name": "stderr",
     "output_type": "stream",
     "text": [
      "\r",
      " 80%|███████████████████████████████████████████████████████████████████████████████████████████████████████████████████████████████████████████▏                                  | 20/25 [01:14<00:17,  3.52s/it]"
     ]
    },
    {
     "name": "stdout",
     "output_type": "stream",
     "text": [
      "BestCad 19.0 0.010349643272699419 0.04393826425075531\n",
      "BestNuclei 19.0 0.9995472160252658 0.9999924898147583\n"
     ]
    },
    {
     "name": "stderr",
     "output_type": "stream",
     "text": [
      "\r",
      " 84%|██████████████████████████████████████████████████████████████████████████████████████████████████████████████████████████████████████████████████▏                           | 21/25 [01:18<00:14,  3.53s/it]"
     ]
    },
    {
     "name": "stdout",
     "output_type": "stream",
     "text": [
      "BestCad 20.0 0.01550849090272095 0.06082495301961899\n",
      "BestNuclei 20.0 0.9997085361253648 0.9999915957450867\n"
     ]
    },
    {
     "name": "stderr",
     "output_type": "stream",
     "text": [
      "\r",
      " 88%|█████████████████████████████████████████████████████████████████████████████████████████████████████████████████████████████████████████████████████████                     | 22/25 [01:21<00:10,  3.54s/it]"
     ]
    },
    {
     "name": "stdout",
     "output_type": "stream",
     "text": [
      "BestCad 21.0 0.005428017669430574 0.03453996032476425\n",
      "BestNuclei 21.0 0.999873049557209 0.9999986290931702\n"
     ]
    },
    {
     "name": "stderr",
     "output_type": "stream",
     "text": [
      "100%|██████████████████████████████████████████████████████████████████████████████████████████████████████████████████████████████████████████████████████████████████████████████| 25/25 [01:25<00:00,  3.41s/it]"
     ]
    },
    {
     "name": "stdout",
     "output_type": "stream",
     "text": [
      "BestCad 22.0 0.0001902905840137571 0.0006079378072172403\n",
      "BestNuclei 22.0 0.999991794427236 0.9999998807907104\n"
     ]
    },
    {
     "name": "stderr",
     "output_type": "stream",
     "text": [
      "\n"
     ]
    },
    {
     "name": "stdout",
     "output_type": "stream",
     "text": [
      "Detecting focus planes in 210629_Erk_Kate_His_mov1_w1CSU-QUAD-561_s6_t28\n"
     ]
    },
    {
     "name": "stderr",
     "output_type": "stream",
     "text": [
      "  4%|███████                                                                                                                                                                        | 1/25 [00:04<01:48,  4.53s/it]"
     ]
    },
    {
     "name": "stdout",
     "output_type": "stream",
     "text": [
      "BestCad 0.0 0.013934368304425621 0.24118274450302124\n",
      "BestNuclei 0.0 0.00012170735211921404 0.0016493061557412148\n"
     ]
    },
    {
     "name": "stderr",
     "output_type": "stream",
     "text": [
      "\r",
      "  8%|██████████████                                                                                                                                                                 | 2/25 [00:07<01:29,  3.91s/it]"
     ]
    },
    {
     "name": "stdout",
     "output_type": "stream",
     "text": [
      "BestCad 1.0 0.03361116905130806 0.6991868019104004\n",
      "BestNuclei 1.0 6.310032399146539e-05 0.0010865548392757773\n"
     ]
    },
    {
     "name": "stderr",
     "output_type": "stream",
     "text": [
      "\r",
      " 12%|█████████████████████                                                                                                                                                          | 3/25 [00:11<01:24,  3.85s/it]"
     ]
    },
    {
     "name": "stdout",
     "output_type": "stream",
     "text": [
      "BestCad 2.0 0.0759782381140667 0.998044490814209\n",
      "BestNuclei 2.0 0.0005122730834650033 0.011161844246089458\n"
     ]
    },
    {
     "name": "stderr",
     "output_type": "stream",
     "text": [
      "\r",
      " 16%|████████████████████████████                                                                                                                                                   | 4/25 [00:15<01:20,  3.81s/it]"
     ]
    },
    {
     "name": "stdout",
     "output_type": "stream",
     "text": [
      "BestCad 3.0 0.11521384803170803 0.9991495609283447\n",
      "BestNuclei 3.0 0.010206469328822089 0.2219482958316803\n"
     ]
    },
    {
     "name": "stderr",
     "output_type": "stream",
     "text": [
      "\r",
      " 20%|███████████████████████████████████                                                                                                                                            | 5/25 [00:22<01:39,  4.98s/it]"
     ]
    },
    {
     "name": "stdout",
     "output_type": "stream",
     "text": [
      "BestCad 4.0 0.33224125383033726 0.9863957166671753\n",
      "BestNuclei 4.0 0.46192698791408193 0.9993041753768921\n"
     ]
    },
    {
     "name": "stderr",
     "output_type": "stream",
     "text": [
      "\r",
      " 24%|██████████████████████████████████████████                                                                                                                                     | 6/25 [00:26<01:28,  4.65s/it]"
     ]
    },
    {
     "name": "stdout",
     "output_type": "stream",
     "text": [
      "BestCad 5.0 0.15131584187038244 0.820695161819458\n",
      "BestNuclei 5.0 0.9128637474316817 0.9994642734527588\n"
     ]
    },
    {
     "name": "stderr",
     "output_type": "stream",
     "text": [
      "\r",
      " 28%|█████████████████████████████████████████████████                                                                                                                              | 7/25 [00:30<01:19,  4.39s/it]"
     ]
    },
    {
     "name": "stdout",
     "output_type": "stream",
     "text": [
      "BestCad 6.0 0.00012996475371354873 0.0007015201263129711\n",
      "BestNuclei 6.0 0.9999679106253164 0.9999976754188538\n"
     ]
    },
    {
     "name": "stderr",
     "output_type": "stream",
     "text": [
      "\r",
      " 32%|████████████████████████████████████████████████████████                                                                                                                       | 8/25 [00:34<01:11,  4.22s/it]"
     ]
    },
    {
     "name": "stdout",
     "output_type": "stream",
     "text": [
      "BestCad 7.0 2.7706298445072326e-06 9.859721103566699e-06\n",
      "BestNuclei 7.0 0.9999992201725642 0.9999999403953552\n"
     ]
    },
    {
     "name": "stderr",
     "output_type": "stream",
     "text": [
      "\r",
      " 36%|███████████████████████████████████████████████████████████████                                                                                                                | 9/25 [00:38<01:06,  4.17s/it]"
     ]
    },
    {
     "name": "stdout",
     "output_type": "stream",
     "text": [
      "BestCad 8.0 3.132703469077569e-06 2.5393543182872236e-05\n",
      "BestNuclei 8.0 0.999999554157257 0.9999999403953552\n"
     ]
    },
    {
     "name": "stderr",
     "output_type": "stream",
     "text": [
      "\r",
      " 40%|█████████████████████████████████████████████████████████████████████▌                                                                                                        | 10/25 [00:42<01:01,  4.08s/it]"
     ]
    },
    {
     "name": "stdout",
     "output_type": "stream",
     "text": [
      "BestCad 9.0 1.7054187589830388e-05 0.0001451876451028511\n",
      "BestNuclei 9.0 0.9999961256980896 0.9999998807907104\n"
     ]
    },
    {
     "name": "stderr",
     "output_type": "stream",
     "text": [
      "\r",
      " 44%|████████████████████████████████████████████████████████████████████████████▌                                                                                                 | 11/25 [00:46<00:56,  4.05s/it]"
     ]
    },
    {
     "name": "stdout",
     "output_type": "stream",
     "text": [
      "BestCad 10.0 4.526288975625903e-05 0.00034046295331791043\n",
      "BestNuclei 10.0 0.9999913771947225 0.9999999403953552\n"
     ]
    },
    {
     "name": "stderr",
     "output_type": "stream",
     "text": [
      "\r",
      " 48%|███████████████████████████████████████████████████████████████████████████████████▌                                                                                          | 12/25 [00:50<00:52,  4.04s/it]"
     ]
    },
    {
     "name": "stdout",
     "output_type": "stream",
     "text": [
      "BestCad 11.0 0.00010053773751049169 0.00056004140060395\n",
      "BestNuclei 11.0 0.9999811156936314 0.9999998807907104\n"
     ]
    },
    {
     "name": "stderr",
     "output_type": "stream",
     "text": [
      "\r",
      " 52%|██████████████████████████████████████████████████████████████████████████████████████████▍                                                                                   | 13/25 [00:54<00:48,  4.03s/it]"
     ]
    },
    {
     "name": "stdout",
     "output_type": "stream",
     "text": [
      "BestCad 12.0 0.00012934311696881197 0.000636969693005085\n",
      "BestNuclei 12.0 0.9999755943814913 0.9999999403953552\n"
     ]
    },
    {
     "name": "stderr",
     "output_type": "stream",
     "text": [
      "\r",
      " 56%|█████████████████████████████████████████████████████████████████████████████████████████████████▍                                                                            | 14/25 [00:58<00:43,  3.98s/it]"
     ]
    },
    {
     "name": "stdout",
     "output_type": "stream",
     "text": [
      "BestCad 13.0 0.00015184351658111458 0.0007736127590760589\n",
      "BestNuclei 13.0 0.9999652401260708 1.0\n"
     ]
    },
    {
     "name": "stderr",
     "output_type": "stream",
     "text": [
      "\r",
      " 60%|████████████████████████████████████████████████████████████████████████████████████████████████████████▍                                                                     | 15/25 [01:02<00:39,  3.97s/it]"
     ]
    },
    {
     "name": "stdout",
     "output_type": "stream",
     "text": [
      "BestCad 14.0 9.976845556593617e-05 0.0005388708086684346\n",
      "BestNuclei 14.0 0.999973937869072 1.0\n"
     ]
    },
    {
     "name": "stderr",
     "output_type": "stream",
     "text": [
      "\r",
      " 64%|███████████████████████████████████████████████████████████████████████████████████████████████████████████████▎                                                              | 16/25 [01:05<00:35,  3.95s/it]"
     ]
    },
    {
     "name": "stdout",
     "output_type": "stream",
     "text": [
      "BestCad 15.0 0.00010263832996315614 0.0005455196369439363\n",
      "BestNuclei 15.0 0.9999767256819684 1.0\n"
     ]
    },
    {
     "name": "stderr",
     "output_type": "stream",
     "text": [
      "\r",
      " 68%|██████████████████████████████████████████████████████████████████████████████████████████████████████████████████████▎                                                       | 17/25 [01:10<00:31,  3.98s/it]"
     ]
    },
    {
     "name": "stdout",
     "output_type": "stream",
     "text": [
      "BestCad 16.0 8.857422382594191e-05 0.0005181027227081358\n",
      "BestNuclei 16.0 0.9999720557876255 1.0\n"
     ]
    },
    {
     "name": "stderr",
     "output_type": "stream",
     "text": [
      "\r",
      " 72%|█████████████████████████████████████████████████████████████████████████████████████████████████████████████████████████████▎                                                | 18/25 [01:13<00:27,  3.91s/it]"
     ]
    },
    {
     "name": "stdout",
     "output_type": "stream",
     "text": [
      "BestCad 17.0 0.00015121419164643157 0.0007307099876925349\n",
      "BestNuclei 17.0 0.9999482607841492 1.0\n"
     ]
    },
    {
     "name": "stderr",
     "output_type": "stream",
     "text": [
      "\r",
      " 76%|████████████████████████████████████████████████████████████████████████████████████████████████████████████████████████████████████▏                                         | 19/25 [01:17<00:23,  3.87s/it]"
     ]
    },
    {
     "name": "stdout",
     "output_type": "stream",
     "text": [
      "BestCad 18.0 0.00010556339200775256 0.000542114139534533\n",
      "BestNuclei 18.0 0.999973247880521 1.0\n"
     ]
    },
    {
     "name": "stderr",
     "output_type": "stream",
     "text": [
      "\r",
      " 80%|███████████████████████████████████████████████████████████████████████████████████████████████████████████████████████████████████████████▏                                  | 20/25 [01:21<00:19,  3.87s/it]"
     ]
    },
    {
     "name": "stdout",
     "output_type": "stream",
     "text": [
      "BestCad 19.0 7.680488704863819e-05 0.0004977849312126637\n",
      "BestNuclei 19.0 0.9999875128269196 1.0\n"
     ]
    },
    {
     "name": "stderr",
     "output_type": "stream",
     "text": [
      "\r",
      " 84%|██████████████████████████████████████████████████████████████████████████████████████████████████████████████████████████████████████████████████▏                           | 21/25 [01:25<00:15,  3.86s/it]"
     ]
    },
    {
     "name": "stdout",
     "output_type": "stream",
     "text": [
      "BestCad 20.0 5.1933545445119e-05 0.00038917630445212126\n",
      "BestNuclei 20.0 0.9999846940239271 1.0\n"
     ]
    },
    {
     "name": "stderr",
     "output_type": "stream",
     "text": [
      "\r",
      " 88%|█████████████████████████████████████████████████████████████████████████████████████████████████████████████████████████████████████████████████████████                     | 22/25 [01:29<00:11,  3.90s/it]"
     ]
    },
    {
     "name": "stdout",
     "output_type": "stream",
     "text": [
      "BestCad 21.0 0.00017233131256944034 0.0007670721970498562\n",
      "BestNuclei 21.0 0.9999658646790878 0.999999463558197\n"
     ]
    },
    {
     "name": "stderr",
     "output_type": "stream",
     "text": [
      "100%|██████████████████████████████████████████████████████████████████████████████████████████████████████████████████████████████████████████████████████████████████████████████| 25/25 [01:33<00:00,  3.73s/it]"
     ]
    },
    {
     "name": "stdout",
     "output_type": "stream",
     "text": [
      "BestCad 22.0 0.00037893472593471717 0.0018009559717029333\n",
      "BestNuclei 22.0 0.9998869345738337 0.9999988675117493\n"
     ]
    },
    {
     "name": "stderr",
     "output_type": "stream",
     "text": [
      "\n"
     ]
    },
    {
     "name": "stdout",
     "output_type": "stream",
     "text": [
      "Detecting focus planes in 210629_Erk_Kate_His_mov1_w1CSU-QUAD-561_s6_t4\n"
     ]
    },
    {
     "name": "stderr",
     "output_type": "stream",
     "text": [
      "  4%|███████                                                                                                                                                                        | 1/25 [00:04<01:54,  4.77s/it]"
     ]
    },
    {
     "name": "stdout",
     "output_type": "stream",
     "text": [
      "BestCad 0.0 0.05615611093984626 0.9989067912101746\n",
      "BestNuclei 0.0 0.009151738341736347 0.2012733668088913\n"
     ]
    },
    {
     "name": "stderr",
     "output_type": "stream",
     "text": [
      "\r",
      "  8%|██████████████                                                                                                                                                                 | 2/25 [00:08<01:34,  4.12s/it]"
     ]
    },
    {
     "name": "stdout",
     "output_type": "stream",
     "text": [
      "BestCad 1.0 0.10920791627271682 0.9981451034545898\n",
      "BestNuclei 1.0 0.027055895526430077 0.6652159690856934\n"
     ]
    },
    {
     "name": "stderr",
     "output_type": "stream",
     "text": [
      "\r",
      " 12%|█████████████████████                                                                                                                                                          | 3/25 [00:12<01:25,  3.90s/it]"
     ]
    },
    {
     "name": "stdout",
     "output_type": "stream",
     "text": [
      "BestCad 2.0 0.27911916283968213 0.9961159825325012\n",
      "BestNuclei 2.0 0.16231197427258168 0.9933494329452515\n"
     ]
    },
    {
     "name": "stderr",
     "output_type": "stream",
     "text": [
      "\r",
      " 16%|████████████████████████████                                                                                                                                                   | 4/25 [00:15<01:20,  3.82s/it]"
     ]
    },
    {
     "name": "stdout",
     "output_type": "stream",
     "text": [
      "BestCad 3.0 0.0011236231174734713 0.004764586221426725\n",
      "BestNuclei 3.0 0.9997763466835022 0.9999977946281433\n"
     ]
    },
    {
     "name": "stderr",
     "output_type": "stream",
     "text": [
      "\r",
      " 20%|███████████████████████████████████                                                                                                                                            | 5/25 [00:19<01:15,  3.75s/it]"
     ]
    },
    {
     "name": "stdout",
     "output_type": "stream",
     "text": [
      "BestCad 4.0 7.854774815749134e-05 0.0006548418896272779\n",
      "BestNuclei 4.0 0.9999792186113504 0.9999995231628418\n"
     ]
    },
    {
     "name": "stderr",
     "output_type": "stream",
     "text": [
      "\r",
      " 24%|██████████████████████████████████████████                                                                                                                                     | 6/25 [00:22<01:09,  3.67s/it]"
     ]
    },
    {
     "name": "stdout",
     "output_type": "stream",
     "text": [
      "BestCad 5.0 9.802958019415535e-05 0.0007897536270320415\n",
      "BestNuclei 5.0 0.9999805617332459 0.9999995231628418\n"
     ]
    },
    {
     "name": "stderr",
     "output_type": "stream",
     "text": [
      "\r",
      " 28%|█████████████████████████████████████████████████                                                                                                                              | 7/25 [00:26<01:05,  3.66s/it]"
     ]
    },
    {
     "name": "stdout",
     "output_type": "stream",
     "text": [
      "BestCad 6.0 1.7496968108720136e-05 0.0001053037922247313\n",
      "BestNuclei 6.0 0.9999964684247971 0.9999996423721313\n"
     ]
    },
    {
     "name": "stderr",
     "output_type": "stream",
     "text": [
      "\r",
      " 32%|████████████████████████████████████████████████████████                                                                                                                       | 8/25 [00:30<01:02,  3.65s/it]"
     ]
    },
    {
     "name": "stdout",
     "output_type": "stream",
     "text": [
      "BestCad 7.0 3.924024218062898e-06 2.0224419131409377e-05\n",
      "BestNuclei 7.0 0.9999991393089295 0.9999999403953552\n"
     ]
    },
    {
     "name": "stderr",
     "output_type": "stream",
     "text": [
      "\r",
      " 36%|███████████████████████████████████████████████████████████████                                                                                                                | 9/25 [00:33<00:58,  3.67s/it]"
     ]
    },
    {
     "name": "stdout",
     "output_type": "stream",
     "text": [
      "BestCad 8.0 3.2230326200514505e-06 2.028217750194017e-05\n",
      "BestNuclei 8.0 0.9999995008111 1.0\n"
     ]
    },
    {
     "name": "stderr",
     "output_type": "stream",
     "text": [
      "\r",
      " 40%|█████████████████████████████████████████████████████████████████████▌                                                                                                        | 10/25 [00:37<00:55,  3.69s/it]"
     ]
    },
    {
     "name": "stdout",
     "output_type": "stream",
     "text": [
      "BestCad 9.0 7.75598324826601e-06 7.177165389293805e-05\n",
      "BestNuclei 9.0 0.9999992350737253 1.0\n"
     ]
    },
    {
     "name": "stderr",
     "output_type": "stream",
     "text": [
      "\r",
      " 44%|████████████████████████████████████████████████████████████████████████████▌                                                                                                 | 11/25 [00:41<00:51,  3.68s/it]"
     ]
    },
    {
     "name": "stdout",
     "output_type": "stream",
     "text": [
      "BestCad 10.0 1.6898539561225333e-05 0.00017383658268954605\n",
      "BestNuclei 10.0 0.9999975182793357 1.0\n"
     ]
    },
    {
     "name": "stderr",
     "output_type": "stream",
     "text": [
      "\r",
      " 48%|███████████████████████████████████████████████████████████████████████████████████▌                                                                                          | 12/25 [00:45<00:48,  3.71s/it]"
     ]
    },
    {
     "name": "stdout",
     "output_type": "stream",
     "text": [
      "BestCad 11.0 1.775338757662818e-05 0.00016677302483003587\n",
      "BestNuclei 11.0 0.9999982005073911 1.0\n"
     ]
    },
    {
     "name": "stderr",
     "output_type": "stream",
     "text": [
      "\r",
      " 52%|██████████████████████████████████████████████████████████████████████████████████████████▍                                                                                   | 13/25 [00:48<00:44,  3.74s/it]"
     ]
    },
    {
     "name": "stdout",
     "output_type": "stream",
     "text": [
      "BestCad 12.0 2.6476200213951614e-05 0.0002265444927616045\n",
      "BestNuclei 12.0 0.9999967139700184 1.0\n"
     ]
    },
    {
     "name": "stderr",
     "output_type": "stream",
     "text": [
      "\r",
      " 56%|█████████████████████████████████████████████████████████████████████████████████████████████████▍                                                                            | 14/25 [00:52<00:41,  3.78s/it]"
     ]
    },
    {
     "name": "stdout",
     "output_type": "stream",
     "text": [
      "BestCad 13.0 3.167093094361917e-05 0.000307209265884012\n",
      "BestNuclei 13.0 0.9999967142939568 1.0\n"
     ]
    },
    {
     "name": "stderr",
     "output_type": "stream",
     "text": [
      "\r",
      " 60%|████████████████████████████████████████████████████████████████████████████████████████████████████████▍                                                                     | 15/25 [00:56<00:38,  3.81s/it]"
     ]
    },
    {
     "name": "stdout",
     "output_type": "stream",
     "text": [
      "BestCad 14.0 6.519483643387503e-05 0.0005079450202174485\n",
      "BestNuclei 14.0 0.9999876808036458 1.0\n"
     ]
    },
    {
     "name": "stderr",
     "output_type": "stream",
     "text": [
      "\r",
      " 64%|███████████████████████████████████████████████████████████████████████████████████████████████████████████████▎                                                              | 16/25 [01:00<00:34,  3.85s/it]"
     ]
    },
    {
     "name": "stdout",
     "output_type": "stream",
     "text": [
      "BestCad 15.0 4.975885998646845e-05 0.0004477018374018371\n",
      "BestNuclei 15.0 0.9999928855895996 1.0\n"
     ]
    },
    {
     "name": "stderr",
     "output_type": "stream",
     "text": [
      "\r",
      " 68%|██████████████████████████████████████████████████████████████████████████████████████████████████████████████████████▎                                                       | 17/25 [01:04<00:30,  3.82s/it]"
     ]
    },
    {
     "name": "stdout",
     "output_type": "stream",
     "text": [
      "BestCad 16.0 5.4247735053278035e-05 0.0004664336738642305\n",
      "BestNuclei 16.0 0.9999917667845021 1.0\n"
     ]
    },
    {
     "name": "stderr",
     "output_type": "stream",
     "text": [
      "\r",
      " 72%|█████████████████████████████████████████████████████████████████████████████████████████████████████████████████████████████▎                                                | 18/25 [01:08<00:27,  3.87s/it]"
     ]
    },
    {
     "name": "stdout",
     "output_type": "stream",
     "text": [
      "BestCad 17.0 4.352360666792305e-05 0.0003764749853871763\n",
      "BestNuclei 17.0 0.9999863220297772 1.0\n"
     ]
    },
    {
     "name": "stderr",
     "output_type": "stream",
     "text": [
      "\r",
      " 76%|████████████████████████████████████████████████████████████████████████████████████████████████████████████████████████████████████▏                                         | 19/25 [01:12<00:23,  3.90s/it]"
     ]
    },
    {
     "name": "stdout",
     "output_type": "stream",
     "text": [
      "BestCad 18.0 2.5742933735273256e-05 0.00028526311507448554\n",
      "BestNuclei 18.0 0.9999974706898564 1.0\n"
     ]
    },
    {
     "name": "stderr",
     "output_type": "stream",
     "text": [
      "\r",
      " 80%|███████████████████████████████████████████████████████████████████████████████████████████████████████████████████████████████████████████▏                                  | 20/25 [01:18<00:23,  4.73s/it]"
     ]
    },
    {
     "name": "stdout",
     "output_type": "stream",
     "text": [
      "BestCad 19.0 1.6567608651503935e-05 0.00017685792408883572\n",
      "BestNuclei 19.0 0.9999985513479813 1.0\n"
     ]
    },
    {
     "name": "stderr",
     "output_type": "stream",
     "text": [
      "\r",
      " 84%|██████████████████████████████████████████████████████████████████████████████████████████████████████████████████████████████████████████████████▏                           | 21/25 [01:22<00:17,  4.35s/it]"
     ]
    },
    {
     "name": "stdout",
     "output_type": "stream",
     "text": [
      "BestCad 20.0 8.37664026975242e-06 3.256168565712869e-05\n",
      "BestNuclei 20.0 0.9999992847442627 1.0\n"
     ]
    },
    {
     "name": "stderr",
     "output_type": "stream",
     "text": [
      "\r",
      " 88%|█████████████████████████████████████████████████████████████████████████████████████████████████████████████████████████████████████████████████████████                     | 22/25 [01:25<00:12,  4.10s/it]"
     ]
    },
    {
     "name": "stdout",
     "output_type": "stream",
     "text": [
      "BestCad 21.0 5.122778196147754e-06 1.756651545292698e-05\n",
      "BestNuclei 21.0 0.9999991384419528 1.0\n"
     ]
    },
    {
     "name": "stderr",
     "output_type": "stream",
     "text": [
      "100%|██████████████████████████████████████████████████████████████████████████████████████████████████████████████████████████████████████████████████████████████████████████████| 25/25 [01:29<00:00,  3.59s/it]"
     ]
    },
    {
     "name": "stdout",
     "output_type": "stream",
     "text": [
      "BestCad 22.0 8.339342966594458e-06 7.905909296823665e-05\n",
      "BestNuclei 22.0 0.9999990438421568 0.9999998807907104\n"
     ]
    },
    {
     "name": "stderr",
     "output_type": "stream",
     "text": [
      "\n"
     ]
    },
    {
     "name": "stdout",
     "output_type": "stream",
     "text": [
      "Detecting focus planes in 210629_Erk_Kate_His_mov1_w1CSU-QUAD-561_s4_t29\n"
     ]
    },
    {
     "name": "stderr",
     "output_type": "stream",
     "text": [
      "  4%|███████                                                                                                                                                                        | 1/25 [00:04<01:54,  4.77s/it]"
     ]
    },
    {
     "name": "stdout",
     "output_type": "stream",
     "text": [
      "BestCad 0.0 0.04728965849621621 0.986526608467102\n",
      "BestNuclei 0.0 1.2449544836942452e-06 2.585744732641615e-05\n"
     ]
    },
    {
     "name": "stderr",
     "output_type": "stream",
     "text": [
      "\r",
      "  8%|██████████████                                                                                                                                                                 | 2/25 [00:08<01:38,  4.30s/it]"
     ]
    },
    {
     "name": "stdout",
     "output_type": "stream",
     "text": [
      "BestCad 1.0 0.08146107284185315 0.9995336532592773\n",
      "BestNuclei 1.0 2.7146748487110086e-06 2.962643156934064e-05\n"
     ]
    },
    {
     "name": "stderr",
     "output_type": "stream",
     "text": [
      "\r",
      " 12%|█████████████████████                                                                                                                                                          | 3/25 [00:12<01:32,  4.23s/it]"
     ]
    },
    {
     "name": "stdout",
     "output_type": "stream",
     "text": [
      "BestCad 2.0 0.1753917225366046 0.9999800324440002\n",
      "BestNuclei 2.0 1.4623395248085485e-05 0.0001830988039728254\n"
     ]
    },
    {
     "name": "stderr",
     "output_type": "stream",
     "text": [
      "\r",
      " 16%|████████████████████████████                                                                                                                                                   | 4/25 [00:17<01:28,  4.20s/it]"
     ]
    },
    {
     "name": "stdout",
     "output_type": "stream",
     "text": [
      "BestCad 3.0 0.2963425298792845 0.9999920129776001\n",
      "BestNuclei 3.0 0.00064424827831112 0.014037535525858402\n"
     ]
    },
    {
     "name": "stderr",
     "output_type": "stream",
     "text": [
      "\r",
      " 20%|███████████████████████████████████                                                                                                                                            | 5/25 [00:21<01:22,  4.12s/it]"
     ]
    },
    {
     "name": "stdout",
     "output_type": "stream",
     "text": [
      "BestCad 4.0 0.4339273230702747 0.9999945163726807\n",
      "BestNuclei 4.0 0.029871998623317977 0.6533702611923218\n"
     ]
    },
    {
     "name": "stderr",
     "output_type": "stream",
     "text": [
      "\r",
      " 24%|██████████████████████████████████████████                                                                                                                                     | 6/25 [00:25<01:18,  4.12s/it]"
     ]
    },
    {
     "name": "stdout",
     "output_type": "stream",
     "text": [
      "BestCad 5.0 0.5640441159531474 0.9999814629554749\n",
      "BestNuclei 5.0 0.03726898582118128 0.8991706371307373\n"
     ]
    },
    {
     "name": "stderr",
     "output_type": "stream",
     "text": [
      "\r",
      " 28%|█████████████████████████████████████████████████                                                                                                                              | 7/25 [00:29<01:13,  4.08s/it]"
     ]
    },
    {
     "name": "stdout",
     "output_type": "stream",
     "text": [
      "BestCad 6.0 0.8102883754975416 0.9999109506607056\n",
      "BestNuclei 6.0 0.06748381478822606 0.9947943091392517\n"
     ]
    },
    {
     "name": "stderr",
     "output_type": "stream",
     "text": [
      "\r",
      " 32%|████████████████████████████████████████████████████████                                                                                                                       | 8/25 [00:33<01:08,  4.05s/it]"
     ]
    },
    {
     "name": "stdout",
     "output_type": "stream",
     "text": [
      "BestCad 7.0 0.9443441098151 0.9999380111694336\n",
      "BestNuclei 7.0 0.15982225349951198 0.9990798234939575\n"
     ]
    },
    {
     "name": "stderr",
     "output_type": "stream",
     "text": [
      "\r",
      " 36%|███████████████████████████████████████████████████████████████                                                                                                                | 9/25 [00:36<01:02,  3.93s/it]"
     ]
    },
    {
     "name": "stdout",
     "output_type": "stream",
     "text": [
      "BestCad 8.0 0.9455336970942361 0.9999670386314392\n",
      "BestNuclei 8.0 0.24294999602934694 0.99981689453125\n"
     ]
    },
    {
     "name": "stderr",
     "output_type": "stream",
     "text": [
      "\r",
      " 40%|█████████████████████████████████████████████████████████████████████▌                                                                                                        | 10/25 [00:40<00:57,  3.84s/it]"
     ]
    },
    {
     "name": "stdout",
     "output_type": "stream",
     "text": [
      "BestCad 9.0 0.9445824908173602 0.9999935030937195\n",
      "BestNuclei 9.0 0.35974334665043983 0.9999783039093018\n"
     ]
    },
    {
     "name": "stderr",
     "output_type": "stream",
     "text": [
      "\r",
      " 44%|████████████████████████████████████████████████████████████████████████████▌                                                                                                 | 11/25 [00:44<00:53,  3.79s/it]"
     ]
    },
    {
     "name": "stdout",
     "output_type": "stream",
     "text": [
      "BestCad 10.0 0.8872890258207917 0.9999788403511047\n",
      "BestNuclei 10.0 0.4673059114150722 0.9999993443489075\n"
     ]
    },
    {
     "name": "stderr",
     "output_type": "stream",
     "text": [
      "\r",
      " 48%|███████████████████████████████████████████████████████████████████████████████████▌                                                                                          | 12/25 [00:47<00:48,  3.72s/it]"
     ]
    },
    {
     "name": "stdout",
     "output_type": "stream",
     "text": [
      "BestCad 11.0 0.8555080113203629 0.9988545775413513\n",
      "BestNuclei 11.0 0.48786770764854737 0.9999967813491821\n"
     ]
    },
    {
     "name": "stderr",
     "output_type": "stream",
     "text": [
      "\r",
      " 52%|██████████████████████████████████████████████████████████████████████████████████████████▍                                                                                   | 13/25 [00:51<00:44,  3.70s/it]"
     ]
    },
    {
     "name": "stdout",
     "output_type": "stream",
     "text": [
      "BestCad 12.0 0.741421632343554 0.9899410009384155\n",
      "BestNuclei 12.0 0.7178799623313049 0.9999991059303284\n"
     ]
    },
    {
     "name": "stderr",
     "output_type": "stream",
     "text": [
      "\r",
      " 56%|█████████████████████████████████████████████████████████████████████████████████████████████████▍                                                                            | 14/25 [00:54<00:40,  3.65s/it]"
     ]
    },
    {
     "name": "stdout",
     "output_type": "stream",
     "text": [
      "BestCad 13.0 0.6311297043177643 0.990476131439209\n",
      "BestNuclei 13.0 0.8142967152854671 0.9999996423721313\n"
     ]
    },
    {
     "name": "stderr",
     "output_type": "stream",
     "text": [
      "\r",
      " 60%|████████████████████████████████████████████████████████████████████████████████████████████████████████▍                                                                     | 15/25 [00:58<00:36,  3.66s/it]"
     ]
    },
    {
     "name": "stdout",
     "output_type": "stream",
     "text": [
      "BestCad 14.0 0.4284106482783417 0.9929831027984619\n",
      "BestNuclei 14.0 0.9080424088498821 0.9999999403953552\n"
     ]
    },
    {
     "name": "stderr",
     "output_type": "stream",
     "text": [
      "\r",
      " 64%|███████████████████████████████████████████████████████████████████████████████████████████████████████████████▎                                                              | 16/25 [01:02<00:32,  3.60s/it]"
     ]
    },
    {
     "name": "stdout",
     "output_type": "stream",
     "text": [
      "BestCad 15.0 0.02132690568013411 0.14198186993598938\n",
      "BestNuclei 15.0 0.9992676506871763 0.9999960660934448\n"
     ]
    },
    {
     "name": "stderr",
     "output_type": "stream",
     "text": [
      "\r",
      " 68%|██████████████████████████████████████████████████████████████████████████████████████████████████████████████████████▎                                                       | 17/25 [01:05<00:29,  3.67s/it]"
     ]
    },
    {
     "name": "stdout",
     "output_type": "stream",
     "text": [
      "BestCad 16.0 8.621295704791049e-05 0.00047560606617480516\n",
      "BestNuclei 16.0 0.9999854986866316 0.9999990463256836\n"
     ]
    },
    {
     "name": "stderr",
     "output_type": "stream",
     "text": [
      "\r",
      " 72%|█████████████████████████████████████████████████████████████████████████████████████████████████████████████████████████████▎                                                | 18/25 [01:09<00:26,  3.72s/it]"
     ]
    },
    {
     "name": "stdout",
     "output_type": "stream",
     "text": [
      "BestCad 17.0 3.6454125880898878e-06 1.4436960555030964e-05\n",
      "BestNuclei 17.0 0.9999993391658949 0.9999999403953552\n"
     ]
    },
    {
     "name": "stderr",
     "output_type": "stream",
     "text": [
      "\r",
      " 76%|████████████████████████████████████████████████████████████████████████████████████████████████████████████████████████████████████▏                                         | 19/25 [01:13<00:22,  3.76s/it]"
     ]
    },
    {
     "name": "stdout",
     "output_type": "stream",
     "text": [
      "BestCad 18.0 2.958300306297381e-06 9.56997428147588e-06\n",
      "BestNuclei 18.0 0.9999994387229284 0.9999998807907104\n"
     ]
    },
    {
     "name": "stderr",
     "output_type": "stream",
     "text": [
      "\r",
      " 80%|███████████████████████████████████████████████████████████████████████████████████████████████████████████████████████████████████████████▏                                  | 20/25 [01:17<00:18,  3.72s/it]"
     ]
    },
    {
     "name": "stdout",
     "output_type": "stream",
     "text": [
      "BestCad 19.0 2.4474795618121078e-05 9.43312916206196e-05\n",
      "BestNuclei 19.0 0.9999950372654459 0.9999993443489075\n"
     ]
    },
    {
     "name": "stderr",
     "output_type": "stream",
     "text": [
      "\r",
      " 84%|██████████████████████████████████████████████████████████████████████████████████████████████████████████████████████████████████████████████████▏                           | 21/25 [01:20<00:14,  3.70s/it]"
     ]
    },
    {
     "name": "stdout",
     "output_type": "stream",
     "text": [
      "BestCad 20.0 7.620207812262537e-05 0.00018834625370800495\n",
      "BestNuclei 20.0 0.9999851822853089 0.9999977946281433\n"
     ]
    },
    {
     "name": "stderr",
     "output_type": "stream",
     "text": [
      "\r",
      " 88%|█████████████████████████████████████████████████████████████████████████████████████████████████████████████████████████████████████████████████████████                     | 22/25 [01:24<00:10,  3.65s/it]"
     ]
    },
    {
     "name": "stdout",
     "output_type": "stream",
     "text": [
      "BestCad 21.0 0.00016288042942982255 0.0003471807576715946\n",
      "BestNuclei 21.0 0.9999699843557257 0.9999947547912598\n"
     ]
    },
    {
     "name": "stderr",
     "output_type": "stream",
     "text": [
      "100%|██████████████████████████████████████████████████████████████████████████████████████████████████████████████████████████████████████████████████████████████████████████████| 25/25 [01:27<00:00,  3.52s/it]"
     ]
    },
    {
     "name": "stdout",
     "output_type": "stream",
     "text": [
      "BestCad 22.0 0.00015918182053491878 0.00037571165012195706\n",
      "BestNuclei 22.0 0.9999564091364542 0.9999954700469971\n"
     ]
    },
    {
     "name": "stderr",
     "output_type": "stream",
     "text": [
      "\n"
     ]
    },
    {
     "name": "stdout",
     "output_type": "stream",
     "text": [
      "Detecting focus planes in 210629_Erk_Kate_His_mov1_w3CSU-QUAD-561_s3_t29\n"
     ]
    },
    {
     "name": "stderr",
     "output_type": "stream",
     "text": [
      "  4%|███████                                                                                                                                                                        | 1/25 [00:04<01:46,  4.43s/it]"
     ]
    },
    {
     "name": "stdout",
     "output_type": "stream",
     "text": [
      "BestCad 0.0 4.039407341357067e-06 1.612328560440801e-05\n",
      "BestNuclei 0.0 1.0316891268059467e-09 6.2082721186129675e-09\n"
     ]
    },
    {
     "name": "stderr",
     "output_type": "stream",
     "text": [
      "\r",
      "  8%|██████████████                                                                                                                                                                 | 2/25 [00:07<01:28,  3.87s/it]"
     ]
    },
    {
     "name": "stdout",
     "output_type": "stream",
     "text": [
      "BestCad 1.0 3.885322520264231e-06 1.610726394574158e-05\n",
      "BestNuclei 1.0 6.414831510184858e-10 4.288932764495712e-09\n"
     ]
    },
    {
     "name": "stderr",
     "output_type": "stream",
     "text": [
      "\r",
      " 12%|█████████████████████                                                                                                                                                          | 3/25 [00:11<01:21,  3.71s/it]"
     ]
    },
    {
     "name": "stdout",
     "output_type": "stream",
     "text": [
      "BestCad 2.0 3.7057470407830806e-06 1.240419896930689e-05\n",
      "BestNuclei 2.0 6.33968137147271e-10 2.023407663642729e-09\n"
     ]
    },
    {
     "name": "stderr",
     "output_type": "stream",
     "text": [
      "\r",
      " 16%|████████████████████████████                                                                                                                                                   | 4/25 [00:14<01:13,  3.52s/it]"
     ]
    },
    {
     "name": "stdout",
     "output_type": "stream",
     "text": [
      "BestCad 3.0 3.6578351964325604e-06 2.2050826373742893e-05\n",
      "BestNuclei 3.0 9.867131495153044e-10 1.56824846442305e-08\n"
     ]
    },
    {
     "name": "stderr",
     "output_type": "stream",
     "text": [
      "\r",
      " 20%|███████████████████████████████████                                                                                                                                            | 5/25 [00:21<01:34,  4.72s/it]"
     ]
    },
    {
     "name": "stdout",
     "output_type": "stream",
     "text": [
      "BestCad 4.0 2.0465434854807665e-06 1.6215903087868355e-05\n",
      "BestNuclei 4.0 4.150615763335005e-10 2.630150763849315e-09\n"
     ]
    },
    {
     "name": "stderr",
     "output_type": "stream",
     "text": [
      "\r",
      " 24%|██████████████████████████████████████████                                                                                                                                     | 6/25 [00:24<01:20,  4.24s/it]"
     ]
    },
    {
     "name": "stdout",
     "output_type": "stream",
     "text": [
      "BestCad 5.0 2.288683862026292e-06 8.759487172937952e-06\n",
      "BestNuclei 5.0 5.931130835414122e-10 3.2683162842772617e-09\n"
     ]
    },
    {
     "name": "stderr",
     "output_type": "stream",
     "text": [
      "\r",
      " 28%|█████████████████████████████████████████████████                                                                                                                              | 7/25 [00:28<01:11,  3.95s/it]"
     ]
    },
    {
     "name": "stdout",
     "output_type": "stream",
     "text": [
      "BestCad 6.0 1.7123484015072514e-06 5.800146027468145e-06\n",
      "BestNuclei 6.0 1.462971004939055e-09 5.498648647517257e-09\n"
     ]
    },
    {
     "name": "stderr",
     "output_type": "stream",
     "text": [
      "\r",
      " 32%|████████████████████████████████████████████████████████                                                                                                                       | 8/25 [00:31<01:03,  3.75s/it]"
     ]
    },
    {
     "name": "stdout",
     "output_type": "stream",
     "text": [
      "BestCad 7.0 2.005621283274195e-06 6.545344149344601e-06\n",
      "BestNuclei 7.0 1.1549642842806352e-09 3.957542737964559e-09\n"
     ]
    },
    {
     "name": "stderr",
     "output_type": "stream",
     "text": [
      "\r",
      " 36%|███████████████████████████████████████████████████████████████                                                                                                                | 9/25 [00:34<00:57,  3.59s/it]"
     ]
    },
    {
     "name": "stdout",
     "output_type": "stream",
     "text": [
      "BestCad 8.0 2.0247649029227577e-06 8.792110747890547e-06\n",
      "BestNuclei 8.0 1.9382671086808706e-09 6.452887113539418e-09\n"
     ]
    },
    {
     "name": "stderr",
     "output_type": "stream",
     "text": [
      "\r",
      " 40%|█████████████████████████████████████████████████████████████████████▌                                                                                                        | 10/25 [00:38<00:52,  3.50s/it]"
     ]
    },
    {
     "name": "stdout",
     "output_type": "stream",
     "text": [
      "BestCad 9.0 3.4298561326111322e-06 1.429929761798121e-05\n",
      "BestNuclei 9.0 5.005671972757586e-10 2.479363825358405e-09\n"
     ]
    },
    {
     "name": "stderr",
     "output_type": "stream",
     "text": [
      "\r",
      " 44%|████████████████████████████████████████████████████████████████████████████▌                                                                                                 | 11/25 [00:41<00:49,  3.51s/it]"
     ]
    },
    {
     "name": "stdout",
     "output_type": "stream",
     "text": [
      "BestCad 10.0 7.283965328755667e-06 5.033168417867273e-05\n",
      "BestNuclei 10.0 9.32380075989274e-10 6.299171406709547e-09\n"
     ]
    },
    {
     "name": "stderr",
     "output_type": "stream",
     "text": [
      "\r",
      " 48%|███████████████████████████████████████████████████████████████████████████████████▌                                                                                          | 12/25 [00:45<00:45,  3.52s/it]"
     ]
    },
    {
     "name": "stdout",
     "output_type": "stream",
     "text": [
      "BestCad 11.0 2.2731744241441664e-05 0.0001256909454241395\n",
      "BestNuclei 11.0 7.189890006281674e-10 2.8397137974423003e-09\n"
     ]
    },
    {
     "name": "stderr",
     "output_type": "stream",
     "text": [
      "\r",
      " 52%|██████████████████████████████████████████████████████████████████████████████████████████▍                                                                                   | 13/25 [00:48<00:42,  3.56s/it]"
     ]
    },
    {
     "name": "stdout",
     "output_type": "stream",
     "text": [
      "BestCad 12.0 1.3927691126921124e-05 8.13391525298357e-05\n",
      "BestNuclei 12.0 1.4196277678534318e-09 1.693115514456167e-08\n"
     ]
    },
    {
     "name": "stderr",
     "output_type": "stream",
     "text": [
      "\r",
      " 56%|█████████████████████████████████████████████████████████████████████████████████████████████████▍                                                                            | 14/25 [00:52<00:38,  3.54s/it]"
     ]
    },
    {
     "name": "stdout",
     "output_type": "stream",
     "text": [
      "BestCad 13.0 1.0296232078003827e-05 3.927072248188779e-05\n",
      "BestNuclei 13.0 9.288063056762346e-10 5.161034266620845e-09\n"
     ]
    },
    {
     "name": "stderr",
     "output_type": "stream",
     "text": [
      "\r",
      " 60%|████████████████████████████████████████████████████████████████████████████████████████████████████████▍                                                                     | 15/25 [00:55<00:35,  3.51s/it]"
     ]
    },
    {
     "name": "stdout",
     "output_type": "stream",
     "text": [
      "BestCad 14.0 1.985846536973151e-05 0.0001545014965813607\n",
      "BestNuclei 14.0 3.1993509603329115e-09 4.393016794779214e-08\n"
     ]
    },
    {
     "name": "stderr",
     "output_type": "stream",
     "text": [
      "\r",
      " 64%|███████████████████████████████████████████████████████████████████████████████████████████████████████████████▎                                                              | 16/25 [00:59<00:31,  3.48s/it]"
     ]
    },
    {
     "name": "stdout",
     "output_type": "stream",
     "text": [
      "BestCad 15.0 0.03760742768823207 0.7469093203544617\n",
      "BestNuclei 15.0 3.874172513803844e-05 0.0008126631146296859\n"
     ]
    },
    {
     "name": "stderr",
     "output_type": "stream",
     "text": [
      "\r",
      " 68%|██████████████████████████████████████████████████████████████████████████████████████████████████████████████████████▎                                                       | 17/25 [01:02<00:28,  3.51s/it]"
     ]
    },
    {
     "name": "stdout",
     "output_type": "stream",
     "text": [
      "BestCad 16.0 0.05370495267628816 0.999811053276062\n",
      "BestNuclei 16.0 1.6680091934835307e-05 0.00028361950535327196\n"
     ]
    },
    {
     "name": "stderr",
     "output_type": "stream",
     "text": [
      "\r",
      " 72%|█████████████████████████████████████████████████████████████████████████████████████████████████████████████████████████████▎                                                | 18/25 [01:06<00:25,  3.64s/it]"
     ]
    },
    {
     "name": "stdout",
     "output_type": "stream",
     "text": [
      "BestCad 17.0 0.12818634462087175 0.9999945163726807\n",
      "BestNuclei 17.0 5.6708312690901336e-05 0.0005286751547828317\n"
     ]
    },
    {
     "name": "stderr",
     "output_type": "stream",
     "text": [
      "\r",
      " 76%|████████████████████████████████████████████████████████████████████████████████████████████████████████████████████████████████████▏                                         | 19/25 [01:10<00:22,  3.72s/it]"
     ]
    },
    {
     "name": "stdout",
     "output_type": "stream",
     "text": [
      "BestCad 18.0 0.24300494336302622 0.9999979138374329\n",
      "BestNuclei 18.0 0.00048559328391057537 0.005428951233625412\n"
     ]
    },
    {
     "name": "stderr",
     "output_type": "stream",
     "text": [
      "\r",
      " 80%|███████████████████████████████████████████████████████████████████████████████████████████████████████████████████████████████████████████▏                                  | 20/25 [01:14<00:19,  3.81s/it]"
     ]
    },
    {
     "name": "stdout",
     "output_type": "stream",
     "text": [
      "BestCad 19.0 0.26860200263945444 0.9999975562095642\n",
      "BestNuclei 19.0 0.0015112548128750002 0.019699828699231148\n"
     ]
    },
    {
     "name": "stderr",
     "output_type": "stream",
     "text": [
      "\r",
      " 84%|██████████████████████████████████████████████████████████████████████████████████████████████████████████████████████████████████████████████████▏                           | 21/25 [01:18<00:15,  3.77s/it]"
     ]
    },
    {
     "name": "stdout",
     "output_type": "stream",
     "text": [
      "BestCad 20.0 0.3753611624500384 0.9999980330467224\n",
      "BestNuclei 20.0 0.02733010801657354 0.43460434675216675\n"
     ]
    },
    {
     "name": "stderr",
     "output_type": "stream",
     "text": [
      "\r",
      " 88%|█████████████████████████████████████████████████████████████████████████████████████████████████████████████████████████████████████████████████████████                     | 22/25 [01:21<00:11,  3.71s/it]"
     ]
    },
    {
     "name": "stdout",
     "output_type": "stream",
     "text": [
      "BestCad 21.0 0.4296335989422998 0.9999942183494568\n",
      "BestNuclei 21.0 0.09886817348440205 0.9794572591781616\n"
     ]
    },
    {
     "name": "stderr",
     "output_type": "stream",
     "text": [
      "100%|██████████████████████████████████████████████████████████████████████████████████████████████████████████████████████████████████████████████████████████████████████████████| 25/25 [01:25<00:00,  3.42s/it]"
     ]
    },
    {
     "name": "stdout",
     "output_type": "stream",
     "text": [
      "BestCad 22.0 0.4770932569340996 0.9999950528144836\n",
      "BestNuclei 22.0 0.12813898157485323 0.9988226890563965\n"
     ]
    },
    {
     "name": "stderr",
     "output_type": "stream",
     "text": [
      "\n"
     ]
    },
    {
     "name": "stdout",
     "output_type": "stream",
     "text": [
      "Detecting focus planes in 210629_Erk_Kate_His_mov1_w1CSU-QUAD-561_s10_t23\n"
     ]
    },
    {
     "name": "stderr",
     "output_type": "stream",
     "text": [
      "  4%|███████                                                                                                                                                                        | 1/25 [00:04<01:54,  4.77s/it]"
     ]
    },
    {
     "name": "stdout",
     "output_type": "stream",
     "text": [
      "BestCad 0.0 0.17602475739247736 0.9917234182357788\n",
      "BestNuclei 0.0 0.014144348267216016 0.2764964699745178\n"
     ]
    },
    {
     "name": "stderr",
     "output_type": "stream",
     "text": [
      "\r",
      "  8%|██████████████                                                                                                                                                                 | 2/25 [00:08<01:33,  4.07s/it]"
     ]
    },
    {
     "name": "stdout",
     "output_type": "stream",
     "text": [
      "BestCad 1.0 0.3603984326526353 0.9983109831809998\n",
      "BestNuclei 1.0 0.07889169704016942 0.8832966089248657\n"
     ]
    },
    {
     "name": "stderr",
     "output_type": "stream",
     "text": [
      "\r",
      " 12%|█████████████████████                                                                                                                                                          | 3/25 [00:11<01:24,  3.82s/it]"
     ]
    },
    {
     "name": "stdout",
     "output_type": "stream",
     "text": [
      "BestCad 2.0 0.34453240267854807 0.9983222484588623\n",
      "BestNuclei 2.0 0.08716025137205773 0.9951251745223999\n"
     ]
    },
    {
     "name": "stderr",
     "output_type": "stream",
     "text": [
      "\r",
      " 16%|████████████████████████████                                                                                                                                                   | 4/25 [00:15<01:17,  3.70s/it]"
     ]
    },
    {
     "name": "stdout",
     "output_type": "stream",
     "text": [
      "BestCad 3.0 0.4042403572373307 0.9983389377593994\n",
      "BestNuclei 3.0 0.12651773828071336 0.9999186396598816\n"
     ]
    },
    {
     "name": "stderr",
     "output_type": "stream",
     "text": [
      "\r",
      " 20%|███████████████████████████████████                                                                                                                                            | 5/25 [00:19<01:13,  3.68s/it]"
     ]
    },
    {
     "name": "stdout",
     "output_type": "stream",
     "text": [
      "BestCad 4.0 0.5041694700873146 0.9846917390823364\n",
      "BestNuclei 4.0 0.5533149058161222 0.9999392032623291\n"
     ]
    },
    {
     "name": "stderr",
     "output_type": "stream",
     "text": [
      "\r",
      " 24%|██████████████████████████████████████████                                                                                                                                     | 6/25 [00:22<01:09,  3.67s/it]"
     ]
    },
    {
     "name": "stdout",
     "output_type": "stream",
     "text": [
      "BestCad 5.0 0.0852424868803826 0.3172965943813324\n",
      "BestNuclei 5.0 0.9935387259437924 0.9999651312828064\n"
     ]
    },
    {
     "name": "stderr",
     "output_type": "stream",
     "text": [
      "\r",
      " 28%|█████████████████████████████████████████████████                                                                                                                              | 7/25 [00:26<01:05,  3.67s/it]"
     ]
    },
    {
     "name": "stdout",
     "output_type": "stream",
     "text": [
      "BestCad 6.0 0.18478702239337422 0.6932447552680969\n",
      "BestNuclei 6.0 0.9811990630059015 0.9999803900718689\n"
     ]
    },
    {
     "name": "stderr",
     "output_type": "stream",
     "text": [
      "\r",
      " 32%|████████████████████████████████████████████████████████                                                                                                                       | 8/25 [00:29<01:01,  3.62s/it]"
     ]
    },
    {
     "name": "stdout",
     "output_type": "stream",
     "text": [
      "BestCad 7.0 0.18404010096159967 0.8770536780357361\n",
      "BestNuclei 7.0 0.9562825506383722 0.9999922513961792\n"
     ]
    },
    {
     "name": "stderr",
     "output_type": "stream",
     "text": [
      "\r",
      " 36%|███████████████████████████████████████████████████████████████                                                                                                                | 9/25 [00:33<00:56,  3.56s/it]"
     ]
    },
    {
     "name": "stdout",
     "output_type": "stream",
     "text": [
      "BestCad 8.0 0.5375473454001952 0.9732983708381653\n",
      "BestNuclei 8.0 0.6706512147236777 0.9999992251396179\n"
     ]
    },
    {
     "name": "stderr",
     "output_type": "stream",
     "text": [
      "\r",
      " 40%|█████████████████████████████████████████████████████████████████████▌                                                                                                        | 10/25 [00:36<00:52,  3.48s/it]"
     ]
    },
    {
     "name": "stdout",
     "output_type": "stream",
     "text": [
      "BestCad 9.0 0.46314336960891855 0.9955112934112549\n",
      "BestNuclei 9.0 0.5311357682849792 1.0\n"
     ]
    },
    {
     "name": "stderr",
     "output_type": "stream",
     "text": [
      "\r",
      " 44%|████████████████████████████████████████████████████████████████████████████▌                                                                                                 | 11/25 [00:40<00:48,  3.46s/it]"
     ]
    },
    {
     "name": "stdout",
     "output_type": "stream",
     "text": [
      "BestCad 10.0 0.5295102443247426 0.995535671710968\n",
      "BestNuclei 10.0 0.5060764542913405 1.0\n"
     ]
    },
    {
     "name": "stderr",
     "output_type": "stream",
     "text": [
      "\r",
      " 48%|███████████████████████████████████████████████████████████████████████████████████▌                                                                                          | 12/25 [00:43<00:44,  3.44s/it]"
     ]
    },
    {
     "name": "stdout",
     "output_type": "stream",
     "text": [
      "BestCad 11.0 0.5785618352020676 0.9938564300537109\n",
      "BestNuclei 11.0 0.5451976851088108 1.0\n"
     ]
    },
    {
     "name": "stderr",
     "output_type": "stream",
     "text": [
      "\r",
      " 52%|██████████████████████████████████████████████████████████████████████████████████████████▍                                                                                   | 13/25 [00:46<00:41,  3.47s/it]"
     ]
    },
    {
     "name": "stdout",
     "output_type": "stream",
     "text": [
      "BestCad 12.0 0.6096171840895078 0.9930082559585571\n",
      "BestNuclei 12.0 0.5949058833600429 1.0\n"
     ]
    },
    {
     "name": "stderr",
     "output_type": "stream",
     "text": [
      "\r",
      " 56%|█████████████████████████████████████████████████████████████████████████████████████████████████▍                                                                            | 14/25 [00:50<00:38,  3.47s/it]"
     ]
    },
    {
     "name": "stdout",
     "output_type": "stream",
     "text": [
      "BestCad 13.0 0.5484601062034136 0.9938787221908569\n",
      "BestNuclei 13.0 0.7068173905524114 0.9999999403953552\n"
     ]
    },
    {
     "name": "stderr",
     "output_type": "stream",
     "text": [
      "\r",
      " 60%|████████████████████████████████████████████████████████████████████████████████████████████████████████▍                                                                     | 15/25 [00:53<00:34,  3.44s/it]"
     ]
    },
    {
     "name": "stdout",
     "output_type": "stream",
     "text": [
      "BestCad 14.0 0.5612638964825734 0.9952477812767029\n",
      "BestNuclei 14.0 0.6964710881332973 0.9999998807907104\n"
     ]
    },
    {
     "name": "stderr",
     "output_type": "stream",
     "text": [
      "\r",
      " 64%|███████████████████████████████████████████████████████████████████████████████████████████████████████████████▎                                                              | 16/25 [00:57<00:31,  3.47s/it]"
     ]
    },
    {
     "name": "stdout",
     "output_type": "stream",
     "text": [
      "BestCad 15.0 0.6015035342425108 0.9961774349212646\n",
      "BestNuclei 15.0 0.6946681346210729 0.9999997615814209\n"
     ]
    },
    {
     "name": "stderr",
     "output_type": "stream",
     "text": [
      "\r",
      " 68%|██████████████████████████████████████████████████████████████████████████████████████████████████████████████████████▎                                                       | 17/25 [01:00<00:27,  3.49s/it]"
     ]
    },
    {
     "name": "stdout",
     "output_type": "stream",
     "text": [
      "BestCad 16.0 0.6467072106897831 0.995915412902832\n",
      "BestNuclei 16.0 0.6655015078292269 0.9999988675117493\n"
     ]
    },
    {
     "name": "stderr",
     "output_type": "stream",
     "text": [
      "\r",
      " 72%|█████████████████████████████████████████████████████████████████████████████████████████████████████████████████████████████▎                                                | 18/25 [01:04<00:24,  3.49s/it]"
     ]
    },
    {
     "name": "stdout",
     "output_type": "stream",
     "text": [
      "BestCad 17.0 0.5210883250389167 0.9916534423828125\n",
      "BestNuclei 17.0 0.8797515506545702 0.9999869465827942\n"
     ]
    },
    {
     "name": "stderr",
     "output_type": "stream",
     "text": [
      "\r",
      " 76%|████████████████████████████████████████████████████████████████████████████████████████████████████████████████████████████████████▏                                         | 19/25 [01:08<00:21,  3.54s/it]"
     ]
    },
    {
     "name": "stdout",
     "output_type": "stream",
     "text": [
      "BestCad 18.0 0.5041132914307325 0.9926115274429321\n",
      "BestNuclei 18.0 0.8369564533233642 0.9999911189079285\n"
     ]
    },
    {
     "name": "stderr",
     "output_type": "stream",
     "text": [
      "\r",
      " 80%|███████████████████████████████████████████████████████████████████████████████████████████████████████████████████████████████████████████▏                                  | 20/25 [01:11<00:17,  3.58s/it]"
     ]
    },
    {
     "name": "stdout",
     "output_type": "stream",
     "text": [
      "BestCad 19.0 0.36021043453365564 0.9761030673980713\n",
      "BestNuclei 19.0 0.8852199077606201 0.999993622303009\n"
     ]
    },
    {
     "name": "stderr",
     "output_type": "stream",
     "text": [
      "\r",
      " 84%|██████████████████████████████████████████████████████████████████████████████████████████████████████████████████████████████████████████████████▏                           | 21/25 [01:15<00:14,  3.64s/it]"
     ]
    },
    {
     "name": "stdout",
     "output_type": "stream",
     "text": [
      "BestCad 20.0 0.23570183578514212 0.8571194410324097\n",
      "BestNuclei 20.0 0.9757834413777227 0.9999821186065674\n"
     ]
    },
    {
     "name": "stderr",
     "output_type": "stream",
     "text": [
      "\r",
      " 88%|█████████████████████████████████████████████████████████████████████████████████████████████████████████████████████████████████████████████████████████                     | 22/25 [01:22<00:13,  4.63s/it]"
     ]
    },
    {
     "name": "stdout",
     "output_type": "stream",
     "text": [
      "BestCad 21.0 0.1965763924742566 0.7808417677879333\n",
      "BestNuclei 21.0 0.9741767992575964 0.9999739527702332\n"
     ]
    },
    {
     "name": "stderr",
     "output_type": "stream",
     "text": [
      "100%|██████████████████████████████████████████████████████████████████████████████████████████████████████████████████████████████████████████████████████████████████████████████| 25/25 [01:26<00:00,  3.44s/it]"
     ]
    },
    {
     "name": "stdout",
     "output_type": "stream",
     "text": [
      "BestCad 22.0 0.15768231239807964 0.7049812078475952\n",
      "BestNuclei 22.0 0.9773226833343506 0.9999769926071167\n"
     ]
    },
    {
     "name": "stderr",
     "output_type": "stream",
     "text": [
      "\n"
     ]
    },
    {
     "name": "stdout",
     "output_type": "stream",
     "text": [
      "Detecting focus planes in 210629_Erk_Kate_His_mov1_w3CSU-QUAD-561_s9_t6\n"
     ]
    },
    {
     "name": "stderr",
     "output_type": "stream",
     "text": [
      "  4%|███████                                                                                                                                                                        | 1/25 [00:05<02:08,  5.34s/it]"
     ]
    },
    {
     "name": "stdout",
     "output_type": "stream",
     "text": [
      "BestCad 0.0 1.7659266048845577e-05 5.2415842219488695e-05\n",
      "BestNuclei 0.0 0.9999939313641301 0.9999998211860657\n"
     ]
    },
    {
     "name": "stderr",
     "output_type": "stream",
     "text": [
      "\r",
      "  8%|██████████████                                                                                                                                                                 | 2/25 [00:09<01:43,  4.52s/it]"
     ]
    },
    {
     "name": "stdout",
     "output_type": "stream",
     "text": [
      "BestCad 1.0 1.3174709682640572e-05 3.5760323953581974e-05\n",
      "BestNuclei 1.0 0.9999957036972046 0.9999998211860657\n"
     ]
    },
    {
     "name": "stderr",
     "output_type": "stream",
     "text": [
      "\r",
      " 12%|█████████████████████                                                                                                                                                          | 3/25 [00:13<01:32,  4.21s/it]"
     ]
    },
    {
     "name": "stdout",
     "output_type": "stream",
     "text": [
      "BestCad 2.0 5.182270710381841e-05 0.00013751872756984085\n",
      "BestNuclei 2.0 0.9999811580547919 0.999998927116394\n"
     ]
    },
    {
     "name": "stderr",
     "output_type": "stream",
     "text": [
      "\r",
      " 16%|████████████████████████████                                                                                                                                                   | 4/25 [00:17<01:26,  4.14s/it]"
     ]
    },
    {
     "name": "stdout",
     "output_type": "stream",
     "text": [
      "BestCad 3.0 0.1610733131597357 0.9984980225563049\n",
      "BestNuclei 3.0 0.001193302692933504 0.023265130817890167\n"
     ]
    },
    {
     "name": "stderr",
     "output_type": "stream",
     "text": [
      "\r",
      " 20%|███████████████████████████████████                                                                                                                                            | 5/25 [00:21<01:21,  4.06s/it]"
     ]
    },
    {
     "name": "stdout",
     "output_type": "stream",
     "text": [
      "BestCad 4.0 0.20635564829776362 0.9978349804878235\n",
      "BestNuclei 4.0 0.015020770736109301 0.3028852939605713\n"
     ]
    },
    {
     "name": "stderr",
     "output_type": "stream",
     "text": [
      "\r",
      " 24%|██████████████████████████████████████████                                                                                                                                     | 6/25 [00:24<01:15,  3.98s/it]"
     ]
    },
    {
     "name": "stdout",
     "output_type": "stream",
     "text": [
      "BestCad 5.0 0.24731387600287313 0.9995371103286743\n",
      "BestNuclei 5.0 0.06003104512579874 0.9630322456359863\n"
     ]
    },
    {
     "name": "stderr",
     "output_type": "stream",
     "text": [
      "\r",
      " 28%|█████████████████████████████████████████████████                                                                                                                              | 7/25 [00:28<01:10,  3.93s/it]"
     ]
    },
    {
     "name": "stdout",
     "output_type": "stream",
     "text": [
      "BestCad 6.0 0.3264057026782818 0.9992915391921997\n",
      "BestNuclei 6.0 0.08193080293074473 0.99889075756073\n"
     ]
    },
    {
     "name": "stderr",
     "output_type": "stream",
     "text": [
      "\r",
      " 32%|████████████████████████████████████████████████████████                                                                                                                       | 8/25 [00:32<01:05,  3.88s/it]"
     ]
    },
    {
     "name": "stdout",
     "output_type": "stream",
     "text": [
      "BestCad 7.0 0.4321923829881019 0.9994657635688782\n",
      "BestNuclei 7.0 0.08200065405480474 0.9999934434890747\n"
     ]
    },
    {
     "name": "stderr",
     "output_type": "stream",
     "text": [
      "\r",
      " 36%|███████████████████████████████████████████████████████████████                                                                                                                | 9/25 [00:36<01:00,  3.81s/it]"
     ]
    },
    {
     "name": "stdout",
     "output_type": "stream",
     "text": [
      "BestCad 8.0 0.4614860254712403 0.9992966651916504\n",
      "BestNuclei 8.0 0.16301159037890434 0.9999997615814209\n"
     ]
    },
    {
     "name": "stderr",
     "output_type": "stream",
     "text": [
      "\r",
      " 40%|█████████████████████████████████████████████████████████████████████▌                                                                                                        | 10/25 [00:39<00:56,  3.78s/it]"
     ]
    },
    {
     "name": "stdout",
     "output_type": "stream",
     "text": [
      "BestCad 9.0 0.5781766553326244 0.9995687007904053\n",
      "BestNuclei 9.0 0.24991594925348648 1.0\n"
     ]
    },
    {
     "name": "stderr",
     "output_type": "stream",
     "text": [
      "\r",
      " 44%|████████████████████████████████████████████████████████████████████████████▌                                                                                                 | 11/25 [00:43<00:52,  3.77s/it]"
     ]
    },
    {
     "name": "stdout",
     "output_type": "stream",
     "text": [
      "BestCad 10.0 0.5407852793919712 0.9996473789215088\n",
      "BestNuclei 10.0 0.3345183561552645 1.0\n"
     ]
    },
    {
     "name": "stderr",
     "output_type": "stream",
     "text": [
      "\r",
      " 48%|███████████████████████████████████████████████████████████████████████████████████▌                                                                                          | 12/25 [00:47<00:48,  3.71s/it]"
     ]
    },
    {
     "name": "stdout",
     "output_type": "stream",
     "text": [
      "BestCad 11.0 0.5144315098558486 0.9997037649154663\n",
      "BestNuclei 11.0 0.3271103387542929 1.0\n"
     ]
    },
    {
     "name": "stderr",
     "output_type": "stream",
     "text": [
      "\r",
      " 52%|██████████████████████████████████████████████████████████████████████████████████████████▍                                                                                   | 13/25 [00:50<00:43,  3.66s/it]"
     ]
    },
    {
     "name": "stdout",
     "output_type": "stream",
     "text": [
      "BestCad 12.0 0.5605218283056853 0.9995212554931641\n",
      "BestNuclei 12.0 0.39223581277058145 1.0\n"
     ]
    },
    {
     "name": "stderr",
     "output_type": "stream",
     "text": [
      "\r",
      " 56%|█████████████████████████████████████████████████████████████████████████████████████████████████▍                                                                            | 14/25 [00:54<00:40,  3.65s/it]"
     ]
    },
    {
     "name": "stdout",
     "output_type": "stream",
     "text": [
      "BestCad 13.0 0.5401788860855793 0.9891951680183411\n",
      "BestNuclei 13.0 0.4143631284474395 0.999996542930603\n"
     ]
    },
    {
     "name": "stderr",
     "output_type": "stream",
     "text": [
      "\r",
      " 60%|████████████████████████████████████████████████████████████████████████████████████████████████████████▍                                                                     | 15/25 [00:58<00:36,  3.65s/it]"
     ]
    },
    {
     "name": "stdout",
     "output_type": "stream",
     "text": [
      "BestCad 14.0 0.5792728530624035 0.9816564917564392\n",
      "BestNuclei 14.0 0.5520056291425135 0.9999973177909851\n"
     ]
    },
    {
     "name": "stderr",
     "output_type": "stream",
     "text": [
      "\r",
      " 64%|███████████████████████████████████████████████████████████████████████████████████████████████████████████████▎                                                              | 16/25 [01:01<00:32,  3.65s/it]"
     ]
    },
    {
     "name": "stdout",
     "output_type": "stream",
     "text": [
      "BestCad 15.0 0.5783646960875818 0.9790030717849731\n",
      "BestNuclei 15.0 0.6225540857170321 0.9999985694885254\n"
     ]
    },
    {
     "name": "stderr",
     "output_type": "stream",
     "text": [
      "\r",
      " 68%|██████████████████████████████████████████████████████████████████████████████████████████████████████████████████████▎                                                       | 17/25 [01:05<00:29,  3.63s/it]"
     ]
    },
    {
     "name": "stdout",
     "output_type": "stream",
     "text": [
      "BestCad 16.0 0.06770758930638078 0.4740235209465027\n",
      "BestNuclei 16.0 0.9984351234002546 0.9999990463256836\n"
     ]
    },
    {
     "name": "stderr",
     "output_type": "stream",
     "text": [
      "\r",
      " 72%|█████████████████████████████████████████████████████████████████████████████████████████████████████████████████████████████▎                                                | 18/25 [01:08<00:25,  3.66s/it]"
     ]
    },
    {
     "name": "stdout",
     "output_type": "stream",
     "text": [
      "BestCad 17.0 0.5639760160743857 0.9985401630401611\n",
      "BestNuclei 17.0 0.8303021892257358 1.0\n"
     ]
    },
    {
     "name": "stderr",
     "output_type": "stream",
     "text": [
      "\r",
      " 76%|████████████████████████████████████████████████████████████████████████████████████████████████████████████████████████████████████▏                                         | 19/25 [01:12<00:21,  3.61s/it]"
     ]
    },
    {
     "name": "stdout",
     "output_type": "stream",
     "text": [
      "BestCad 18.0 0.47267997580569326 0.9983903169631958\n",
      "BestNuclei 18.0 0.8410254645012213 1.0\n"
     ]
    },
    {
     "name": "stderr",
     "output_type": "stream",
     "text": [
      "\r",
      " 80%|███████████████████████████████████████████████████████████████████████████████████████████████████████████████████████████████████████████▏                                  | 20/25 [01:15<00:17,  3.55s/it]"
     ]
    },
    {
     "name": "stdout",
     "output_type": "stream",
     "text": [
      "BestCad 19.0 0.48476263414832355 0.9965070486068726\n",
      "BestNuclei 19.0 0.8592543201844323 1.0\n"
     ]
    },
    {
     "name": "stderr",
     "output_type": "stream",
     "text": [
      "\r",
      " 84%|██████████████████████████████████████████████████████████████████████████████████████████████████████████████████████████████████████████████████▏                           | 21/25 [01:19<00:14,  3.56s/it]"
     ]
    },
    {
     "name": "stdout",
     "output_type": "stream",
     "text": [
      "BestCad 20.0 8.521187245823176e-06 2.3214914108393714e-05\n",
      "BestNuclei 20.0 0.9999984179933866 1.0\n"
     ]
    },
    {
     "name": "stderr",
     "output_type": "stream",
     "text": [
      "\r",
      " 88%|█████████████████████████████████████████████████████████████████████████████████████████████████████████████████████████████████████████████████████████                     | 22/25 [01:22<00:10,  3.55s/it]"
     ]
    },
    {
     "name": "stdout",
     "output_type": "stream",
     "text": [
      "BestCad 21.0 8.206499677228185e-06 1.99866608454613e-05\n",
      "BestNuclei 21.0 0.999998504700868 1.0\n"
     ]
    },
    {
     "name": "stderr",
     "output_type": "stream",
     "text": [
      "100%|██████████████████████████████████████████████████████████████████████████████████████████████████████████████████████████████████████████████████████████████████████████████| 25/25 [01:26<00:00,  3.46s/it]"
     ]
    },
    {
     "name": "stdout",
     "output_type": "stream",
     "text": [
      "BestCad 22.0 5.44872054912086e-06 1.9468992832116783e-05\n",
      "BestNuclei 22.0 0.9999990774237592 1.0\n"
     ]
    },
    {
     "name": "stderr",
     "output_type": "stream",
     "text": [
      "\n"
     ]
    },
    {
     "name": "stdout",
     "output_type": "stream",
     "text": [
      "Detecting focus planes in 210629_Erk_Kate_His_mov1_w1CSU-QUAD-561_s4_t20\n"
     ]
    },
    {
     "name": "stderr",
     "output_type": "stream",
     "text": [
      "  4%|███████                                                                                                                                                                        | 1/25 [00:04<01:53,  4.72s/it]"
     ]
    },
    {
     "name": "stdout",
     "output_type": "stream",
     "text": [
      "BestCad 0.0 0.008430284828892808 0.16842353343963623\n",
      "BestNuclei 0.0 1.2343288401787818e-06 2.6914711270364933e-05\n"
     ]
    },
    {
     "name": "stderr",
     "output_type": "stream",
     "text": [
      "\r",
      "  8%|██████████████                                                                                                                                                                 | 2/25 [00:08<01:34,  4.10s/it]"
     ]
    },
    {
     "name": "stdout",
     "output_type": "stream",
     "text": [
      "BestCad 1.0 0.0459571461514981 0.9647049903869629\n",
      "BestNuclei 1.0 1.1468259773759252e-05 0.0002630305243656039\n"
     ]
    },
    {
     "name": "stderr",
     "output_type": "stream",
     "text": [
      "\r",
      " 12%|█████████████████████                                                                                                                                                          | 3/25 [00:11<01:24,  3.86s/it]"
     ]
    },
    {
     "name": "stdout",
     "output_type": "stream",
     "text": [
      "BestCad 2.0 0.051580687001497295 0.9984722137451172\n",
      "BestNuclei 2.0 4.3848088315130834e-05 0.0009339628741145134\n"
     ]
    },
    {
     "name": "stderr",
     "output_type": "stream",
     "text": [
      "\r",
      " 16%|████████████████████████████                                                                                                                                                   | 4/25 [00:16<01:22,  3.94s/it]"
     ]
    },
    {
     "name": "stdout",
     "output_type": "stream",
     "text": [
      "BestCad 3.0 0.10449673149952719 0.9997561573982239\n",
      "BestNuclei 3.0 0.0002951143984043696 0.006604958325624466\n"
     ]
    },
    {
     "name": "stderr",
     "output_type": "stream",
     "text": [
      "\r",
      " 20%|███████████████████████████████████                                                                                                                                            | 5/25 [00:20<01:19,  3.98s/it]"
     ]
    },
    {
     "name": "stdout",
     "output_type": "stream",
     "text": [
      "BestCad 4.0 0.21994879378949386 0.9999570846557617\n",
      "BestNuclei 4.0 0.01189492492095239 0.29671457409858704\n"
     ]
    },
    {
     "name": "stderr",
     "output_type": "stream",
     "text": [
      "\r",
      " 24%|██████████████████████████████████████████                                                                                                                                     | 6/25 [00:24<01:16,  4.03s/it]"
     ]
    },
    {
     "name": "stdout",
     "output_type": "stream",
     "text": [
      "BestCad 5.0 0.37645182947115546 0.9999743700027466\n",
      "BestNuclei 5.0 0.03382233338335173 0.8067982196807861\n"
     ]
    },
    {
     "name": "stderr",
     "output_type": "stream",
     "text": [
      "\r",
      " 28%|█████████████████████████████████████████████████                                                                                                                              | 7/25 [00:28<01:12,  4.05s/it]"
     ]
    },
    {
     "name": "stdout",
     "output_type": "stream",
     "text": [
      "BestCad 6.0 0.5153294325965639 0.999940812587738\n",
      "BestNuclei 6.0 0.040554525798259605 0.9647629261016846\n"
     ]
    },
    {
     "name": "stderr",
     "output_type": "stream",
     "text": [
      "\r",
      " 32%|████████████████████████████████████████████████████████                                                                                                                       | 8/25 [00:32<01:09,  4.09s/it]"
     ]
    },
    {
     "name": "stdout",
     "output_type": "stream",
     "text": [
      "BestCad 7.0 0.6853882592227107 0.9998271465301514\n",
      "BestNuclei 7.0 0.0558525472508575 0.9978073239326477\n"
     ]
    },
    {
     "name": "stderr",
     "output_type": "stream",
     "text": [
      "\r",
      " 36%|███████████████████████████████████████████████████████████████                                                                                                                | 9/25 [00:39<01:20,  5.03s/it]"
     ]
    },
    {
     "name": "stdout",
     "output_type": "stream",
     "text": [
      "BestCad 8.0 0.8164144859689734 0.9998180866241455\n",
      "BestNuclei 8.0 0.1164498760190814 0.99978107213974\n"
     ]
    },
    {
     "name": "stderr",
     "output_type": "stream",
     "text": [
      "\r",
      " 40%|█████████████████████████████████████████████████████████████████████▌                                                                                                        | 10/25 [00:43<01:09,  4.65s/it]"
     ]
    },
    {
     "name": "stdout",
     "output_type": "stream",
     "text": [
      "BestCad 9.0 0.9167720160701058 0.9999016523361206\n",
      "BestNuclei 9.0 0.2062092700662864 0.9998740553855896\n"
     ]
    },
    {
     "name": "stderr",
     "output_type": "stream",
     "text": [
      "\r",
      " 44%|████████████████████████████████████████████████████████████████████████████▌                                                                                                 | 11/25 [00:47<01:01,  4.37s/it]"
     ]
    },
    {
     "name": "stdout",
     "output_type": "stream",
     "text": [
      "BestCad 10.0 0.9107617760698 0.9999630451202393\n",
      "BestNuclei 10.0 0.3871236576134201 0.9999892711639404\n"
     ]
    },
    {
     "name": "stderr",
     "output_type": "stream",
     "text": [
      "\r",
      " 48%|███████████████████████████████████████████████████████████████████████████████████▌                                                                                          | 12/25 [00:50<00:54,  4.22s/it]"
     ]
    },
    {
     "name": "stdout",
     "output_type": "stream",
     "text": [
      "BestCad 11.0 0.8346577923406254 0.999847948551178\n",
      "BestNuclei 11.0 0.5090618903708198 0.9999918937683105\n"
     ]
    },
    {
     "name": "stderr",
     "output_type": "stream",
     "text": [
      "\r",
      " 52%|██████████████████████████████████████████████████████████████████████████████████████████▍                                                                                   | 13/25 [00:54<00:48,  4.04s/it]"
     ]
    },
    {
     "name": "stdout",
     "output_type": "stream",
     "text": [
      "BestCad 12.0 0.7213287332825448 0.99880051612854\n",
      "BestNuclei 12.0 0.4898883541719988 0.9999991655349731\n"
     ]
    },
    {
     "name": "stderr",
     "output_type": "stream",
     "text": [
      "\r",
      " 56%|█████████████████████████████████████████████████████████████████████████████████████████████████▍                                                                            | 14/25 [00:58<00:43,  3.97s/it]"
     ]
    },
    {
     "name": "stdout",
     "output_type": "stream",
     "text": [
      "BestCad 13.0 0.6331862965598702 0.9931671023368835\n",
      "BestNuclei 13.0 0.6652188772010655 0.9999998807907104\n"
     ]
    },
    {
     "name": "stderr",
     "output_type": "stream",
     "text": [
      "\r",
      " 60%|████████████████████████████████████████████████████████████████████████████████████████████████████████▍                                                                     | 15/25 [01:02<00:38,  3.87s/it]"
     ]
    },
    {
     "name": "stdout",
     "output_type": "stream",
     "text": [
      "BestCad 14.0 0.5715813872908863 0.9909324645996094\n",
      "BestNuclei 14.0 0.7459320742151855 1.0\n"
     ]
    },
    {
     "name": "stderr",
     "output_type": "stream",
     "text": [
      "\r",
      " 64%|███████████████████████████████████████████████████████████████████████████████████████████████████████████████▎                                                              | 16/25 [01:05<00:34,  3.80s/it]"
     ]
    },
    {
     "name": "stdout",
     "output_type": "stream",
     "text": [
      "BestCad 15.0 0.41856009784386633 0.9840685725212097\n",
      "BestNuclei 15.0 0.8258659327588975 1.0\n"
     ]
    },
    {
     "name": "stderr",
     "output_type": "stream",
     "text": [
      "\r",
      " 68%|██████████████████████████████████████████████████████████████████████████████████████████████████████████████████████▎                                                       | 17/25 [01:09<00:30,  3.75s/it]"
     ]
    },
    {
     "name": "stdout",
     "output_type": "stream",
     "text": [
      "BestCad 16.0 0.35026960362902965 0.9874247312545776\n",
      "BestNuclei 16.0 0.9481273510239341 1.0\n"
     ]
    },
    {
     "name": "stderr",
     "output_type": "stream",
     "text": [
      "\r",
      " 72%|█████████████████████████████████████████████████████████████████████████████████████████████████████████████████████████████▎                                                | 18/25 [01:12<00:25,  3.69s/it]"
     ]
    },
    {
     "name": "stdout",
     "output_type": "stream",
     "text": [
      "BestCad 17.0 0.16030901622434612 0.918933629989624\n",
      "BestNuclei 17.0 0.9807186981906062 0.9999998807907104\n"
     ]
    },
    {
     "name": "stderr",
     "output_type": "stream",
     "text": [
      "\r",
      " 76%|████████████████████████████████████████████████████████████████████████████████████████████████████████████████████████████████████▏                                         | 19/25 [01:16<00:21,  3.63s/it]"
     ]
    },
    {
     "name": "stdout",
     "output_type": "stream",
     "text": [
      "BestCad 18.0 0.007012620158050032 0.047572217881679535\n",
      "BestNuclei 18.0 0.999427450199922 0.9999970197677612\n"
     ]
    },
    {
     "name": "stderr",
     "output_type": "stream",
     "text": [
      "\r",
      " 80%|███████████████████████████████████████████████████████████████████████████████████████████████████████████████████████████████████████████▏                                  | 20/25 [01:20<00:18,  3.70s/it]"
     ]
    },
    {
     "name": "stdout",
     "output_type": "stream",
     "text": [
      "BestCad 19.0 4.25368294975709e-05 0.000163480726769194\n",
      "BestNuclei 19.0 0.9999919986724853 0.9999997019767761\n"
     ]
    },
    {
     "name": "stderr",
     "output_type": "stream",
     "text": [
      "\r",
      " 84%|██████████████████████████████████████████████████████████████████████████████████████████████████████████████████████████████████████████████████▏                           | 21/25 [01:24<00:15,  3.81s/it]"
     ]
    },
    {
     "name": "stdout",
     "output_type": "stream",
     "text": [
      "BestCad 20.0 5.252182432968766e-06 1.896116737043485e-05\n",
      "BestNuclei 20.0 0.9999987816810608 0.9999998807907104\n"
     ]
    },
    {
     "name": "stderr",
     "output_type": "stream",
     "text": [
      "\r",
      " 88%|█████████████████████████████████████████████████████████████████████████████████████████████████████████████████████████████████████████████████████████                     | 22/25 [01:28<00:11,  3.80s/it]"
     ]
    },
    {
     "name": "stdout",
     "output_type": "stream",
     "text": [
      "BestCad 21.0 3.6083265844884713e-06 1.939339199452661e-05\n",
      "BestNuclei 21.0 0.999999463558197 0.9999997615814209\n"
     ]
    },
    {
     "name": "stderr",
     "output_type": "stream",
     "text": [
      "100%|██████████████████████████████████████████████████████████████████████████████████████████████████████████████████████████████████████████████████████████████████████████████| 25/25 [01:31<00:00,  3.67s/it]"
     ]
    },
    {
     "name": "stdout",
     "output_type": "stream",
     "text": [
      "BestCad 22.0 4.095640349987662e-05 0.00016525338287465274\n",
      "BestNuclei 22.0 0.9999924405761387 0.9999988675117493\n"
     ]
    },
    {
     "name": "stderr",
     "output_type": "stream",
     "text": [
      "\n"
     ]
    },
    {
     "name": "stdout",
     "output_type": "stream",
     "text": [
      "Detecting focus planes in 210629_Erk_Kate_His_mov1_w1CSU-QUAD-561_s3_t31\n"
     ]
    },
    {
     "name": "stderr",
     "output_type": "stream",
     "text": [
      "  4%|███████                                                                                                                                                                        | 1/25 [00:04<01:55,  4.81s/it]"
     ]
    },
    {
     "name": "stdout",
     "output_type": "stream",
     "text": [
      "BestCad 0.0 0.8019456956535578 0.9977803230285645\n",
      "BestNuclei 0.0 0.23194193473318592 0.9982600212097168\n"
     ]
    },
    {
     "name": "stderr",
     "output_type": "stream",
     "text": [
      "\r",
      "  8%|██████████████                                                                                                                                                                 | 2/25 [00:08<01:31,  4.00s/it]"
     ]
    },
    {
     "name": "stdout",
     "output_type": "stream",
     "text": [
      "BestCad 1.0 0.7960973707112399 0.9985085725784302\n",
      "BestNuclei 1.0 0.3169236108660698 0.9997483491897583\n"
     ]
    },
    {
     "name": "stderr",
     "output_type": "stream",
     "text": [
      "\r",
      " 12%|█████████████████████                                                                                                                                                          | 3/25 [00:11<01:25,  3.87s/it]"
     ]
    },
    {
     "name": "stdout",
     "output_type": "stream",
     "text": [
      "BestCad 2.0 0.43769726238124784 0.9222995042800903\n",
      "BestNuclei 2.0 0.9317744779586792 0.9999874830245972\n"
     ]
    },
    {
     "name": "stderr",
     "output_type": "stream",
     "text": [
      "\r",
      " 16%|████████████████████████████                                                                                                                                                   | 4/25 [00:15<01:18,  3.73s/it]"
     ]
    },
    {
     "name": "stdout",
     "output_type": "stream",
     "text": [
      "BestCad 3.0 0.7015720428815777 0.9975531101226807\n",
      "BestNuclei 3.0 0.7058718586745469 0.9999990463256836\n"
     ]
    },
    {
     "name": "stderr",
     "output_type": "stream",
     "text": [
      "\r",
      " 20%|███████████████████████████████████                                                                                                                                            | 5/25 [00:19<01:14,  3.72s/it]"
     ]
    },
    {
     "name": "stdout",
     "output_type": "stream",
     "text": [
      "BestCad 4.0 0.41240664568474694 0.9249199628829956\n",
      "BestNuclei 4.0 0.9427045832077662 0.9999980330467224\n"
     ]
    },
    {
     "name": "stderr",
     "output_type": "stream",
     "text": [
      "\r",
      " 24%|██████████████████████████████████████████                                                                                                                                     | 6/25 [00:22<01:09,  3.68s/it]"
     ]
    },
    {
     "name": "stdout",
     "output_type": "stream",
     "text": [
      "BestCad 5.0 0.025894526769305863 0.09059804677963257\n",
      "BestNuclei 5.0 0.996730367342631 0.9999961256980896\n"
     ]
    },
    {
     "name": "stderr",
     "output_type": "stream",
     "text": [
      "\r",
      " 28%|█████████████████████████████████████████████████                                                                                                                              | 7/25 [00:26<01:04,  3.56s/it]"
     ]
    },
    {
     "name": "stdout",
     "output_type": "stream",
     "text": [
      "BestCad 6.0 0.006020088699491073 0.02484782040119171\n",
      "BestNuclei 6.0 0.9994533409674963 0.9999937415122986\n"
     ]
    },
    {
     "name": "stderr",
     "output_type": "stream",
     "text": [
      "\r",
      " 32%|████████████████████████████████████████████████████████                                                                                                                       | 8/25 [00:29<00:59,  3.52s/it]"
     ]
    },
    {
     "name": "stdout",
     "output_type": "stream",
     "text": [
      "BestCad 7.0 0.006402974240937392 0.030763298273086548\n",
      "BestNuclei 7.0 0.9995521569252014 0.9999945163726807\n"
     ]
    },
    {
     "name": "stderr",
     "output_type": "stream",
     "text": [
      "\r",
      " 36%|███████████████████████████████████████████████████████████████                                                                                                                | 9/25 [00:32<00:55,  3.50s/it]"
     ]
    },
    {
     "name": "stdout",
     "output_type": "stream",
     "text": [
      "BestCad 8.0 0.005465113459841201 0.017587941139936447\n",
      "BestNuclei 8.0 0.9997298455238343 0.9999929070472717\n"
     ]
    },
    {
     "name": "stderr",
     "output_type": "stream",
     "text": [
      "\r",
      " 40%|█████████████████████████████████████████████████████████████████████▌                                                                                                        | 10/25 [00:36<00:52,  3.48s/it]"
     ]
    },
    {
     "name": "stdout",
     "output_type": "stream",
     "text": [
      "BestCad 9.0 0.027750075865617913 0.13253960013389587\n",
      "BestNuclei 9.0 0.9993565459000436 0.9999960660934448\n"
     ]
    },
    {
     "name": "stderr",
     "output_type": "stream",
     "text": [
      "\r",
      " 44%|████████████████████████████████████████████████████████████████████████████▌                                                                                                 | 11/25 [00:39<00:48,  3.45s/it]"
     ]
    },
    {
     "name": "stdout",
     "output_type": "stream",
     "text": [
      "BestCad 10.0 0.17584991272862838 0.6208578944206238\n",
      "BestNuclei 10.0 0.995636624949319 0.9999921917915344\n"
     ]
    },
    {
     "name": "stderr",
     "output_type": "stream",
     "text": [
      "\r",
      " 48%|███████████████████████████████████████████████████████████████████████████████████▌                                                                                          | 12/25 [00:43<00:44,  3.40s/it]"
     ]
    },
    {
     "name": "stdout",
     "output_type": "stream",
     "text": [
      "BestCad 11.0 0.14677583871525712 0.6190240383148193\n",
      "BestNuclei 11.0 0.9952134002338756 0.9999886155128479\n"
     ]
    },
    {
     "name": "stderr",
     "output_type": "stream",
     "text": [
      "\r",
      " 52%|██████████████████████████████████████████████████████████████████████████████████████████▍                                                                                   | 13/25 [00:46<00:40,  3.37s/it]"
     ]
    },
    {
     "name": "stdout",
     "output_type": "stream",
     "text": [
      "BestCad 12.0 0.13004711799715696 0.33457672595977783\n",
      "BestNuclei 12.0 0.9961882585828955 0.9999585747718811\n"
     ]
    },
    {
     "name": "stderr",
     "output_type": "stream",
     "text": [
      "\r",
      " 56%|█████████████████████████████████████████████████████████████████████████████████████████████████▍                                                                            | 14/25 [00:49<00:37,  3.37s/it]"
     ]
    },
    {
     "name": "stdout",
     "output_type": "stream",
     "text": [
      "BestCad 13.0 0.03586634527385721 0.11892242729663849\n",
      "BestNuclei 13.0 0.9979604259133339 0.9999709129333496\n"
     ]
    },
    {
     "name": "stderr",
     "output_type": "stream",
     "text": [
      "\r",
      " 60%|████████████████████████████████████████████████████████████████████████████████████████████████████████▍                                                                     | 15/25 [00:53<00:33,  3.38s/it]"
     ]
    },
    {
     "name": "stdout",
     "output_type": "stream",
     "text": [
      "BestCad 14.0 0.04453131451182777 0.14809328317642212\n",
      "BestNuclei 14.0 0.997964084148407 0.9999544620513916\n"
     ]
    },
    {
     "name": "stderr",
     "output_type": "stream",
     "text": [
      "\r",
      " 64%|███████████████████████████████████████████████████████████████████████████████████████████████████████████████▎                                                              | 16/25 [00:56<00:30,  3.44s/it]"
     ]
    },
    {
     "name": "stdout",
     "output_type": "stream",
     "text": [
      "BestCad 15.0 0.0004107343469182855 0.0020125380251556635\n",
      "BestNuclei 15.0 0.9999570548534393 0.999998927116394\n"
     ]
    },
    {
     "name": "stderr",
     "output_type": "stream",
     "text": [
      "\r",
      " 68%|██████████████████████████████████████████████████████████████████████████████████████████████████████████████████████▎                                                       | 17/25 [01:00<00:27,  3.47s/it]"
     ]
    },
    {
     "name": "stdout",
     "output_type": "stream",
     "text": [
      "BestCad 16.0 9.202782814554667e-06 3.957088847528212e-05\n",
      "BestNuclei 16.0 0.9999989921396429 0.9999999403953552\n"
     ]
    },
    {
     "name": "stderr",
     "output_type": "stream",
     "text": [
      "\r",
      " 72%|█████████████████████████████████████████████████████████████████████████████████████████████████████████████████████████████▎                                                | 18/25 [01:03<00:24,  3.52s/it]"
     ]
    },
    {
     "name": "stdout",
     "output_type": "stream",
     "text": [
      "BestCad 17.0 1.5333641371121896e-06 5.312459506967571e-06\n",
      "BestNuclei 17.0 0.9999997814496359 1.0\n"
     ]
    },
    {
     "name": "stderr",
     "output_type": "stream",
     "text": [
      "\r",
      " 76%|████████████████████████████████████████████████████████████████████████████████████████████████████████████████████████████████████▏                                         | 19/25 [01:07<00:21,  3.58s/it]"
     ]
    },
    {
     "name": "stdout",
     "output_type": "stream",
     "text": [
      "BestCad 18.0 4.044086302240865e-06 2.4838558601913974e-05\n",
      "BestNuclei 18.0 0.9999993358339582 0.9999998807907104\n"
     ]
    },
    {
     "name": "stderr",
     "output_type": "stream",
     "text": [
      "\r",
      " 80%|███████████████████████████████████████████████████████████████████████████████████████████████████████████████████████████████████████████▏                                  | 20/25 [01:11<00:18,  3.65s/it]"
     ]
    },
    {
     "name": "stdout",
     "output_type": "stream",
     "text": [
      "BestCad 19.0 3.223111430501872e-05 0.00010337099229218438\n",
      "BestNuclei 19.0 0.9999949307668776 0.9999994039535522\n"
     ]
    },
    {
     "name": "stderr",
     "output_type": "stream",
     "text": [
      "\r",
      " 84%|██████████████████████████████████████████████████████████████████████████████████████████████████████████████████████████████████████████████████▏                           | 21/25 [01:15<00:14,  3.65s/it]"
     ]
    },
    {
     "name": "stdout",
     "output_type": "stream",
     "text": [
      "BestCad 20.0 7.794554471729498e-05 0.00023108767345547676\n",
      "BestNuclei 20.0 0.9999857743581136 0.9999989867210388\n"
     ]
    },
    {
     "name": "stderr",
     "output_type": "stream",
     "text": [
      "\r",
      " 88%|█████████████████████████████████████████████████████████████████████████████████████████████████████████████████████████████████████████████████████████                     | 22/25 [01:18<00:11,  3.71s/it]"
     ]
    },
    {
     "name": "stdout",
     "output_type": "stream",
     "text": [
      "BestCad 21.0 0.00014548290770714326 0.0003781550331041217\n",
      "BestNuclei 21.0 0.9999725791541013 0.9999990463256836\n"
     ]
    },
    {
     "name": "stderr",
     "output_type": "stream",
     "text": [
      "100%|██████████████████████████████████████████████████████████████████████████████████████████████████████████████████████████████████████████████████████████████████████████████| 25/25 [01:22<00:00,  3.30s/it]"
     ]
    },
    {
     "name": "stdout",
     "output_type": "stream",
     "text": [
      "BestCad 22.0 0.00018488754060606217 0.0004323573666624725\n",
      "BestNuclei 22.0 0.9999620370242907 0.9999993443489075\n"
     ]
    },
    {
     "name": "stderr",
     "output_type": "stream",
     "text": [
      "\n"
     ]
    },
    {
     "name": "stdout",
     "output_type": "stream",
     "text": [
      "Detecting focus planes in 210629_Erk_Kate_His_mov1_w1CSU-QUAD-561_s7_t25\n"
     ]
    },
    {
     "name": "stderr",
     "output_type": "stream",
     "text": [
      "  4%|███████                                                                                                                                                                        | 1/25 [00:05<02:01,  5.07s/it]"
     ]
    },
    {
     "name": "stdout",
     "output_type": "stream",
     "text": [
      "BestCad 0.0 0.1689295536312072 0.9728028774261475\n",
      "BestNuclei 0.0 0.2020698045358026 0.9965778589248657\n"
     ]
    },
    {
     "name": "stderr",
     "output_type": "stream",
     "text": [
      "\r",
      "  8%|██████████████                                                                                                                                                                 | 2/25 [00:08<01:38,  4.26s/it]"
     ]
    },
    {
     "name": "stdout",
     "output_type": "stream",
     "text": [
      "BestCad 1.0 0.13483575968844394 0.7783257961273193\n",
      "BestNuclei 1.0 0.9376043329636256 0.9999321699142456\n"
     ]
    },
    {
     "name": "stderr",
     "output_type": "stream",
     "text": [
      "\r",
      " 12%|█████████████████████                                                                                                                                                          | 3/25 [00:12<01:29,  4.05s/it]"
     ]
    },
    {
     "name": "stdout",
     "output_type": "stream",
     "text": [
      "BestCad 2.0 0.003996339337311877 0.03973371535539627\n",
      "BestNuclei 2.0 0.9992334796832159 0.9999971389770508\n"
     ]
    },
    {
     "name": "stderr",
     "output_type": "stream",
     "text": [
      "\r",
      " 16%|████████████████████████████                                                                                                                                                   | 4/25 [00:16<01:23,  3.96s/it]"
     ]
    },
    {
     "name": "stdout",
     "output_type": "stream",
     "text": [
      "BestCad 3.0 2.2902072605970517e-05 0.00011818592611234635\n",
      "BestNuclei 3.0 0.9999953756729761 0.9999998807907104\n"
     ]
    },
    {
     "name": "stderr",
     "output_type": "stream",
     "text": [
      "\r",
      " 20%|███████████████████████████████████                                                                                                                                            | 5/25 [00:20<01:18,  3.93s/it]"
     ]
    },
    {
     "name": "stdout",
     "output_type": "stream",
     "text": [
      "BestCad 4.0 1.6658178560646775e-06 6.644979748671176e-06\n",
      "BestNuclei 4.0 0.9999994585911433 1.0\n"
     ]
    },
    {
     "name": "stderr",
     "output_type": "stream",
     "text": [
      "\r",
      " 24%|██████████████████████████████████████████                                                                                                                                     | 6/25 [00:24<01:15,  3.96s/it]"
     ]
    },
    {
     "name": "stdout",
     "output_type": "stream",
     "text": [
      "BestCad 5.0 1.100501710089188e-06 3.7641689232259523e-06\n",
      "BestNuclei 5.0 0.999999737739563 1.0\n"
     ]
    },
    {
     "name": "stderr",
     "output_type": "stream",
     "text": [
      "\r",
      " 28%|█████████████████████████████████████████████████                                                                                                                              | 7/25 [00:28<01:12,  4.00s/it]"
     ]
    },
    {
     "name": "stdout",
     "output_type": "stream",
     "text": [
      "BestCad 6.0 1.0299473427284493e-05 5.335329842637293e-05\n",
      "BestNuclei 6.0 0.9999984602133433 0.9999998807907104\n"
     ]
    },
    {
     "name": "stderr",
     "output_type": "stream",
     "text": [
      "\r",
      " 32%|████████████████████████████████████████████████████████                                                                                                                       | 8/25 [00:32<01:07,  3.98s/it]"
     ]
    },
    {
     "name": "stdout",
     "output_type": "stream",
     "text": [
      "BestCad 7.0 7.346458733081818e-05 0.00021497075795195997\n",
      "BestNuclei 7.0 0.9999804024895033 0.9999995231628418\n",
      "BestCad 8.0 0.00022628986422205345 0.0005772485164925456\n",
      "BestNuclei 8.0 0.9999144275983175 0.9999987483024597\n"
     ]
    },
    {
     "name": "stderr",
     "output_type": "stream",
     "text": [
      " 40%|█████████████████████████████████████████████████████████████████████▌                                                                                                        | 10/25 [00:41<01:05,  4.35s/it]"
     ]
    },
    {
     "name": "stdout",
     "output_type": "stream",
     "text": [
      "BestCad 9.0 0.00034984451546430745 0.0008423864492215216\n",
      "BestNuclei 9.0 0.9999142860372862 0.9999993443489075\n"
     ]
    },
    {
     "name": "stderr",
     "output_type": "stream",
     "text": [
      "\r",
      " 44%|████████████████████████████████████████████████████████████████████████████▌                                                                                                 | 11/25 [00:45<00:58,  4.16s/it]"
     ]
    },
    {
     "name": "stdout",
     "output_type": "stream",
     "text": [
      "BestCad 10.0 0.0004223539253871422 0.0009696958586573601\n",
      "BestNuclei 10.0 0.9998834943771362 0.9999997019767761\n"
     ]
    },
    {
     "name": "stderr",
     "output_type": "stream",
     "text": [
      "\r",
      " 48%|███████████████████████████████████████████████████████████████████████████████████▌                                                                                          | 12/25 [00:49<00:52,  4.01s/it]"
     ]
    },
    {
     "name": "stdout",
     "output_type": "stream",
     "text": [
      "BestCad 11.0 0.0004107104212744161 0.001150165218859911\n",
      "BestNuclei 11.0 0.9998945450782776 0.9999998807907104\n"
     ]
    },
    {
     "name": "stderr",
     "output_type": "stream",
     "text": [
      "\r",
      " 52%|██████████████████████████████████████████████████████████████████████████████████████████▍                                                                                   | 13/25 [00:52<00:46,  3.90s/it]"
     ]
    },
    {
     "name": "stdout",
     "output_type": "stream",
     "text": [
      "BestCad 12.0 0.0004748043163841509 0.0011309169931337237\n",
      "BestNuclei 12.0 0.9998533725738525 1.0\n"
     ]
    },
    {
     "name": "stderr",
     "output_type": "stream",
     "text": [
      "\r",
      " 56%|█████████████████████████████████████████████████████████████████████████████████████████████████▍                                                                            | 14/25 [00:56<00:42,  3.85s/it]"
     ]
    },
    {
     "name": "stdout",
     "output_type": "stream",
     "text": [
      "BestCad 13.0 0.0004321174055803567 0.0010637512896209955\n",
      "BestNuclei 13.0 0.999885231256485 1.0\n"
     ]
    },
    {
     "name": "stderr",
     "output_type": "stream",
     "text": [
      "\r",
      " 60%|████████████████████████████████████████████████████████████████████████████████████████████████████████▍                                                                     | 15/25 [01:00<00:37,  3.79s/it]"
     ]
    },
    {
     "name": "stdout",
     "output_type": "stream",
     "text": [
      "BestCad 14.0 0.0003783720663341228 0.0009845370659604669\n",
      "BestNuclei 14.0 0.9999159953810952 1.0\n"
     ]
    },
    {
     "name": "stderr",
     "output_type": "stream",
     "text": [
      "\r",
      " 64%|███████████████████████████████████████████████████████████████████████████████████████████████████████████████▎                                                              | 16/25 [01:03<00:33,  3.71s/it]"
     ]
    },
    {
     "name": "stdout",
     "output_type": "stream",
     "text": [
      "BestCad 15.0 0.00033513997944586055 0.0009720238158479333\n",
      "BestNuclei 15.0 0.9999184987761758 1.0\n"
     ]
    },
    {
     "name": "stderr",
     "output_type": "stream",
     "text": [
      "\r",
      " 68%|██████████████████████████████████████████████████████████████████████████████████████████████████████████████████████▎                                                       | 17/25 [01:07<00:29,  3.68s/it]"
     ]
    },
    {
     "name": "stdout",
     "output_type": "stream",
     "text": [
      "BestCad 16.0 0.0003358877995355136 0.0009161894558928907\n",
      "BestNuclei 16.0 0.9999374611811205 1.0\n"
     ]
    },
    {
     "name": "stderr",
     "output_type": "stream",
     "text": [
      "\r",
      " 72%|█████████████████████████████████████████████████████████████████████████████████████████████████████████████████████████████▎                                                | 18/25 [01:10<00:25,  3.67s/it]"
     ]
    },
    {
     "name": "stdout",
     "output_type": "stream",
     "text": [
      "BestCad 17.0 0.0004627103387195218 0.0011777172330766916\n",
      "BestNuclei 17.0 0.9999246055429633 0.9999998807907104\n"
     ]
    },
    {
     "name": "stderr",
     "output_type": "stream",
     "text": [
      "\r",
      " 76%|████████████████████████████████████████████████████████████████████████████████████████████████████████████████████████████████████▏                                         | 19/25 [01:14<00:22,  3.71s/it]"
     ]
    },
    {
     "name": "stdout",
     "output_type": "stream",
     "text": [
      "BestCad 18.0 0.0005869590879782387 0.0013498098123818636\n",
      "BestNuclei 18.0 0.9998704195022583 0.9999972581863403\n"
     ]
    },
    {
     "name": "stderr",
     "output_type": "stream",
     "text": [
      "\r",
      " 80%|███████████████████████████████████████████████████████████████████████████████████████████████████████████████████████████████████████████▏                                  | 20/25 [01:18<00:18,  3.70s/it]"
     ]
    },
    {
     "name": "stdout",
     "output_type": "stream",
     "text": [
      "BestCad 19.0 0.000842068240593147 0.0019112948793917894\n",
      "BestNuclei 19.0 0.9997625323859128 0.9999781250953674\n"
     ]
    },
    {
     "name": "stderr",
     "output_type": "stream",
     "text": [
      "\r",
      " 84%|██████████████████████████████████████████████████████████████████████████████████████████████████████████████████████████████████████████████████▏                           | 21/25 [01:22<00:14,  3.69s/it]"
     ]
    },
    {
     "name": "stdout",
     "output_type": "stream",
     "text": [
      "BestCad 20.0 0.0008716326820748774 0.0018010834464803338\n",
      "BestNuclei 20.0 0.9996834305616525 0.9999419450759888\n"
     ]
    },
    {
     "name": "stderr",
     "output_type": "stream",
     "text": [
      "\r",
      " 88%|█████████████████████████████████████████████████████████████████████████████████████████████████████████████████████████████████████████████████████████                     | 22/25 [01:25<00:11,  3.68s/it]"
     ]
    },
    {
     "name": "stdout",
     "output_type": "stream",
     "text": [
      "BestCad 21.0 0.0009545488865114748 0.0019341406878083944\n",
      "BestNuclei 21.0 0.9996484518051147 0.9999136924743652\n"
     ]
    },
    {
     "name": "stderr",
     "output_type": "stream",
     "text": [
      "100%|██████████████████████████████████████████████████████████████████████████████████████████████████████████████████████████████████████████████████████████████████████████████| 25/25 [01:29<00:00,  3.58s/it]"
     ]
    },
    {
     "name": "stdout",
     "output_type": "stream",
     "text": [
      "BestCad 22.0 0.0009585584169447733 0.0019474975997582078\n",
      "BestNuclei 22.0 0.9996746933978536 0.999954879283905\n"
     ]
    },
    {
     "name": "stderr",
     "output_type": "stream",
     "text": [
      "\n"
     ]
    },
    {
     "name": "stdout",
     "output_type": "stream",
     "text": [
      "Detecting focus planes in 210629_Erk_Kate_His_mov1_w1CSU-QUAD-561_s4_t2\n"
     ]
    },
    {
     "name": "stderr",
     "output_type": "stream",
     "text": [
      "  4%|███████                                                                                                                                                                        | 1/25 [00:05<02:09,  5.39s/it]"
     ]
    },
    {
     "name": "stdout",
     "output_type": "stream",
     "text": [
      "BestCad 0.0 0.2970924310502596 0.9540208578109741\n",
      "BestNuclei 0.0 0.3289880824299366 0.9968757629394531\n"
     ]
    },
    {
     "name": "stderr",
     "output_type": "stream",
     "text": [
      "\r",
      "  8%|██████████████                                                                                                                                                                 | 2/25 [00:09<01:47,  4.66s/it]"
     ]
    },
    {
     "name": "stdout",
     "output_type": "stream",
     "text": [
      "BestCad 1.0 0.37381056644022465 0.9590685963630676\n",
      "BestNuclei 1.0 0.3490671917644795 0.9980961084365845\n"
     ]
    },
    {
     "name": "stderr",
     "output_type": "stream",
     "text": [
      "\r",
      " 12%|█████████████████████                                                                                                                                                          | 3/25 [00:13<01:35,  4.34s/it]"
     ]
    },
    {
     "name": "stdout",
     "output_type": "stream",
     "text": [
      "BestCad 2.0 0.5736410923030538 0.9980437159538269\n",
      "BestNuclei 2.0 0.21993773152595167 0.9993788599967957\n"
     ]
    },
    {
     "name": "stderr",
     "output_type": "stream",
     "text": [
      "\r",
      " 16%|████████████████████████████                                                                                                                                                   | 4/25 [00:17<01:25,  4.07s/it]"
     ]
    },
    {
     "name": "stdout",
     "output_type": "stream",
     "text": [
      "BestCad 3.0 0.5808789353817702 0.9867420196533203\n",
      "BestNuclei 3.0 0.6136691289469706 0.9999016523361206\n"
     ]
    },
    {
     "name": "stderr",
     "output_type": "stream",
     "text": [
      "\r",
      " 20%|███████████████████████████████████                                                                                                                                            | 5/25 [00:21<01:20,  4.03s/it]"
     ]
    },
    {
     "name": "stdout",
     "output_type": "stream",
     "text": [
      "BestCad 4.0 0.049202324356883764 0.3772854506969452\n",
      "BestNuclei 4.0 0.9920508161835049 0.9999879002571106\n"
     ]
    },
    {
     "name": "stderr",
     "output_type": "stream",
     "text": [
      "\r",
      " 24%|██████████████████████████████████████████                                                                                                                                     | 6/25 [00:25<01:20,  4.21s/it]"
     ]
    },
    {
     "name": "stdout",
     "output_type": "stream",
     "text": [
      "BestCad 5.0 0.011461166621302254 0.13961093127727509\n",
      "BestNuclei 5.0 0.9987781022985777 0.9999956488609314\n"
     ]
    },
    {
     "name": "stderr",
     "output_type": "stream",
     "text": [
      "\r",
      " 28%|█████████████████████████████████████████████████                                                                                                                              | 7/25 [00:30<01:17,  4.30s/it]"
     ]
    },
    {
     "name": "stdout",
     "output_type": "stream",
     "text": [
      "BestCad 6.0 0.001069970413126335 0.01098924782127142\n",
      "BestNuclei 6.0 0.9998052000999451 0.9999945759773254\n"
     ]
    },
    {
     "name": "stderr",
     "output_type": "stream",
     "text": [
      "\r",
      " 32%|████████████████████████████████████████████████████████                                                                                                                       | 8/25 [00:34<01:14,  4.38s/it]"
     ]
    },
    {
     "name": "stdout",
     "output_type": "stream",
     "text": [
      "BestCad 7.0 3.423285399797103e-05 0.000222831527935341\n",
      "BestNuclei 7.0 0.9999944723170736 0.9999992251396179\n"
     ]
    },
    {
     "name": "stderr",
     "output_type": "stream",
     "text": [
      "\r",
      " 36%|███████████████████████████████████████████████████████████████                                                                                                                | 9/25 [00:39<01:10,  4.43s/it]"
     ]
    },
    {
     "name": "stdout",
     "output_type": "stream",
     "text": [
      "BestCad 8.0 5.101041655176562e-06 2.4513963580830023e-05\n",
      "BestNuclei 8.0 0.9999994039535522 0.9999998807907104\n"
     ]
    },
    {
     "name": "stderr",
     "output_type": "stream",
     "text": [
      "\r",
      " 40%|█████████████████████████████████████████████████████████████████████▌                                                                                                        | 10/25 [00:43<01:07,  4.51s/it]"
     ]
    },
    {
     "name": "stdout",
     "output_type": "stream",
     "text": [
      "BestCad 9.0 4.204827282592305e-06 1.4222156096366234e-05\n",
      "BestNuclei 9.0 0.9999992406886556 1.0\n"
     ]
    },
    {
     "name": "stderr",
     "output_type": "stream",
     "text": [
      "\r",
      " 44%|████████████████████████████████████████████████████████████████████████████▌                                                                                                 | 11/25 [00:48<01:03,  4.52s/it]"
     ]
    },
    {
     "name": "stdout",
     "output_type": "stream",
     "text": [
      "BestCad 10.0 2.139557451149206e-05 6.34782700217329e-05\n",
      "BestNuclei 10.0 0.9999957291976266 0.9999998807907104\n"
     ]
    },
    {
     "name": "stderr",
     "output_type": "stream",
     "text": [
      "\r",
      " 48%|███████████████████████████████████████████████████████████████████████████████████▌                                                                                          | 12/25 [00:53<00:59,  4.56s/it]"
     ]
    },
    {
     "name": "stdout",
     "output_type": "stream",
     "text": [
      "BestCad 11.0 7.40287965606473e-05 0.00021614335128106177\n",
      "BestNuclei 11.0 0.9999827361106872 0.9999998807907104\n"
     ]
    },
    {
     "name": "stderr",
     "output_type": "stream",
     "text": [
      "\r",
      " 52%|██████████████████████████████████████████████████████████████████████████████████████████▍                                                                                   | 13/25 [00:57<00:54,  4.52s/it]"
     ]
    },
    {
     "name": "stdout",
     "output_type": "stream",
     "text": [
      "BestCad 12.0 0.0001090549502848825 0.00026082078693434596\n",
      "BestNuclei 12.0 0.999968157364772 0.9999998807907104\n"
     ]
    },
    {
     "name": "stderr",
     "output_type": "stream",
     "text": [
      "\r",
      " 56%|█████████████████████████████████████████████████████████████████████████████████████████████████▍                                                                            | 14/25 [01:01<00:48,  4.44s/it]"
     ]
    },
    {
     "name": "stdout",
     "output_type": "stream",
     "text": [
      "BestCad 13.0 0.00016167695101007427 0.00033374078338965774\n",
      "BestNuclei 13.0 0.999961010787798 1.0\n"
     ]
    },
    {
     "name": "stderr",
     "output_type": "stream",
     "text": [
      "\r",
      " 60%|████████████████████████████████████████████████████████████████████████████████████████████████████████▍                                                                     | 15/25 [01:06<00:43,  4.38s/it]"
     ]
    },
    {
     "name": "stdout",
     "output_type": "stream",
     "text": [
      "BestCad 14.0 0.00019233060083934106 0.0005090329796075821\n",
      "BestNuclei 14.0 0.9999427769495093 1.0\n"
     ]
    },
    {
     "name": "stderr",
     "output_type": "stream",
     "text": [
      "\r",
      " 64%|███████████████████████████████████████████████████████████████████████████████████████████████████████████████▎                                                              | 16/25 [01:10<00:39,  4.40s/it]"
     ]
    },
    {
     "name": "stdout",
     "output_type": "stream",
     "text": [
      "BestCad 15.0 0.00022036857886372933 0.0007572999456897378\n",
      "BestNuclei 15.0 0.9999427571892738 1.0\n"
     ]
    },
    {
     "name": "stderr",
     "output_type": "stream",
     "text": [
      "\r",
      " 68%|██████████████████████████████████████████████████████████████████████████████████████████████████████████████████████▎                                                       | 17/25 [01:14<00:35,  4.38s/it]"
     ]
    },
    {
     "name": "stdout",
     "output_type": "stream",
     "text": [
      "BestCad 16.0 0.00024553776992516674 0.0012356326915323734\n",
      "BestNuclei 16.0 0.9999275922775268 1.0\n"
     ]
    },
    {
     "name": "stderr",
     "output_type": "stream",
     "text": [
      "\r",
      " 72%|█████████████████████████████████████████████████████████████████████████████████████████████████████████████████████████████▎                                                | 18/25 [01:19<00:30,  4.41s/it]"
     ]
    },
    {
     "name": "stdout",
     "output_type": "stream",
     "text": [
      "BestCad 17.0 0.00025991759387331763 0.001279728952795267\n",
      "BestNuclei 17.0 0.999950108203021 1.0\n"
     ]
    },
    {
     "name": "stderr",
     "output_type": "stream",
     "text": [
      "\r",
      " 76%|████████████████████████████████████████████████████████████████████████████████████████████████████████████████████████████████████▏                                         | 19/25 [01:23<00:26,  4.47s/it]"
     ]
    },
    {
     "name": "stdout",
     "output_type": "stream",
     "text": [
      "BestCad 18.0 0.0004944963046633031 0.0016340457368642092\n",
      "BestNuclei 18.0 0.9998967310656672 1.0\n"
     ]
    },
    {
     "name": "stderr",
     "output_type": "stream",
     "text": [
      "\r",
      " 80%|███████████████████████████████████████████████████████████████████████████████████████████████████████████████████████████████████████████▏                                  | 20/25 [01:28<00:22,  4.47s/it]"
     ]
    },
    {
     "name": "stdout",
     "output_type": "stream",
     "text": [
      "BestCad 19.0 0.0004521925857261522 0.0011282035848125815\n",
      "BestNuclei 19.0 0.9998909185330073 0.9999998807907104\n"
     ]
    },
    {
     "name": "stderr",
     "output_type": "stream",
     "text": [
      "\r",
      " 84%|██████████████████████████████████████████████████████████████████████████████████████████████████████████████████████████████████████████████████▏                           | 21/25 [01:36<00:22,  5.58s/it]"
     ]
    },
    {
     "name": "stdout",
     "output_type": "stream",
     "text": [
      "BestCad 20.0 0.00041080225026234984 0.0010184053098782897\n",
      "BestNuclei 20.0 0.9998984855154286 0.9999998807907104\n"
     ]
    },
    {
     "name": "stderr",
     "output_type": "stream",
     "text": [
      "\r",
      " 88%|█████████████████████████████████████████████████████████████████████████████████████████████████████████████████████████████████████████████████████████                     | 22/25 [01:41<00:15,  5.26s/it]"
     ]
    },
    {
     "name": "stdout",
     "output_type": "stream",
     "text": [
      "BestCad 21.0 0.0003589638380127816 0.0010235181543976068\n",
      "BestNuclei 21.0 0.999904523725095 0.9999997615814209\n"
     ]
    },
    {
     "name": "stderr",
     "output_type": "stream",
     "text": [
      "100%|██████████████████████████████████████████████████████████████████████████████████████████████████████████████████████████████████████████████████████████████████████████████| 25/25 [01:45<00:00,  4.22s/it]"
     ]
    },
    {
     "name": "stdout",
     "output_type": "stream",
     "text": [
      "BestCad 22.0 0.0002975000211154111 0.0008299818728119135\n",
      "BestNuclei 22.0 0.9999190902709961 0.9999990463256836\n"
     ]
    },
    {
     "name": "stderr",
     "output_type": "stream",
     "text": [
      "\n"
     ]
    },
    {
     "name": "stdout",
     "output_type": "stream",
     "text": [
      "Detecting focus planes in 210629_Erk_Kate_His_mov1_w1CSU-QUAD-561_s4_t32\n"
     ]
    },
    {
     "name": "stderr",
     "output_type": "stream",
     "text": [
      "  4%|███████                                                                                                                                                                        | 1/25 [00:05<02:11,  5.48s/it]"
     ]
    },
    {
     "name": "stdout",
     "output_type": "stream",
     "text": [
      "BestCad 0.0 0.47654000215276027 0.999996542930603\n",
      "BestNuclei 0.0 0.03440041257773444 0.8161778450012207\n"
     ]
    },
    {
     "name": "stderr",
     "output_type": "stream",
     "text": [
      "\r",
      "  8%|██████████████                                                                                                                                                                 | 2/25 [00:09<01:44,  4.53s/it]"
     ]
    },
    {
     "name": "stdout",
     "output_type": "stream",
     "text": [
      "BestCad 1.0 0.5461477345643289 0.9999839067459106\n",
      "BestNuclei 1.0 0.047120820546638284 0.9820632934570312\n"
     ]
    },
    {
     "name": "stderr",
     "output_type": "stream",
     "text": [
      "\r",
      " 12%|█████████████████████                                                                                                                                                          | 3/25 [00:13<01:34,  4.28s/it]"
     ]
    },
    {
     "name": "stdout",
     "output_type": "stream",
     "text": [
      "BestCad 2.0 0.7576761720702052 0.9999821186065674\n",
      "BestNuclei 2.0 0.07421026319510236 0.9934935569763184\n"
     ]
    },
    {
     "name": "stderr",
     "output_type": "stream",
     "text": [
      "\r",
      " 16%|████████████████████████████                                                                                                                                                   | 4/25 [00:17<01:25,  4.05s/it]"
     ]
    },
    {
     "name": "stdout",
     "output_type": "stream",
     "text": [
      "BestCad 3.0 0.9442185407335107 0.9999722242355347\n",
      "BestNuclei 3.0 0.1789216585733205 0.9994648694992065\n"
     ]
    },
    {
     "name": "stderr",
     "output_type": "stream",
     "text": [
      "\r",
      " 20%|███████████████████████████████████                                                                                                                                            | 5/25 [00:20<01:19,  3.98s/it]"
     ]
    },
    {
     "name": "stdout",
     "output_type": "stream",
     "text": [
      "BestCad 4.0 0.9227746220735403 0.9999797344207764\n",
      "BestNuclei 4.0 0.32909987429593457 0.9999557733535767\n"
     ]
    },
    {
     "name": "stderr",
     "output_type": "stream",
     "text": [
      "\r",
      " 24%|██████████████████████████████████████████                                                                                                                                     | 6/25 [00:24<01:14,  3.92s/it]"
     ]
    },
    {
     "name": "stdout",
     "output_type": "stream",
     "text": [
      "BestCad 5.0 0.849982118170539 0.9993274807929993\n",
      "BestNuclei 5.0 0.5984236444346607 0.9998910427093506\n"
     ]
    },
    {
     "name": "stderr",
     "output_type": "stream",
     "text": [
      "\r",
      " 28%|█████████████████████████████████████████████████                                                                                                                              | 7/25 [00:28<01:08,  3.83s/it]"
     ]
    },
    {
     "name": "stdout",
     "output_type": "stream",
     "text": [
      "BestCad 6.0 0.9188535725292952 0.9993336200714111\n",
      "BestNuclei 6.0 0.37176059960135416 0.9999462366104126\n"
     ]
    },
    {
     "name": "stderr",
     "output_type": "stream",
     "text": [
      "\r",
      " 32%|████████████████████████████████████████████████████████                                                                                                                       | 8/25 [00:32<01:04,  3.78s/it]"
     ]
    },
    {
     "name": "stdout",
     "output_type": "stream",
     "text": [
      "BestCad 7.0 0.8630650001375572 0.996301531791687\n",
      "BestNuclei 7.0 0.5137907416828966 0.9999933242797852\n"
     ]
    },
    {
     "name": "stderr",
     "output_type": "stream",
     "text": [
      "\r",
      " 36%|███████████████████████████████████████████████████████████████                                                                                                                | 9/25 [00:35<01:00,  3.76s/it]"
     ]
    },
    {
     "name": "stdout",
     "output_type": "stream",
     "text": [
      "BestCad 8.0 0.7923699643300928 0.9936544895172119\n",
      "BestNuclei 8.0 0.5681233557034284 0.9999966025352478\n"
     ]
    },
    {
     "name": "stderr",
     "output_type": "stream",
     "text": [
      "\r",
      " 40%|█████████████████████████████████████████████████████████████████████▌                                                                                                        | 10/25 [00:39<00:55,  3.69s/it]"
     ]
    },
    {
     "name": "stdout",
     "output_type": "stream",
     "text": [
      "BestCad 9.0 0.7138979062861339 0.9954403638839722\n",
      "BestNuclei 9.0 0.6157184094900003 0.9999990463256836\n"
     ]
    },
    {
     "name": "stderr",
     "output_type": "stream",
     "text": [
      "\r",
      " 44%|████████████████████████████████████████████████████████████████████████████▌                                                                                                 | 11/25 [00:42<00:51,  3.64s/it]"
     ]
    },
    {
     "name": "stdout",
     "output_type": "stream",
     "text": [
      "BestCad 10.0 0.651880275872536 0.9951868057250977\n",
      "BestNuclei 10.0 0.7098940875553323 0.9999995231628418\n"
     ]
    },
    {
     "name": "stderr",
     "output_type": "stream",
     "text": [
      "\r",
      " 48%|███████████████████████████████████████████████████████████████████████████████████▌                                                                                          | 12/25 [00:46<00:46,  3.60s/it]"
     ]
    },
    {
     "name": "stdout",
     "output_type": "stream",
     "text": [
      "BestCad 11.0 0.66779144658887 0.99030601978302\n",
      "BestNuclei 11.0 0.7661957593253729 0.9999999403953552\n"
     ]
    },
    {
     "name": "stderr",
     "output_type": "stream",
     "text": [
      "\r",
      " 52%|██████████████████████████████████████████████████████████████████████████████████████████▍                                                                                   | 13/25 [00:49<00:42,  3.55s/it]"
     ]
    },
    {
     "name": "stdout",
     "output_type": "stream",
     "text": [
      "BestCad 12.0 0.7134090532252396 0.9884046912193298\n",
      "BestNuclei 12.0 0.6913371092893861 0.9999960660934448\n"
     ]
    },
    {
     "name": "stderr",
     "output_type": "stream",
     "text": [
      "\r",
      " 56%|█████████████████████████████████████████████████████████████████████████████████████████████████▍                                                                            | 14/25 [00:53<00:38,  3.50s/it]"
     ]
    },
    {
     "name": "stdout",
     "output_type": "stream",
     "text": [
      "BestCad 13.0 0.401056838943623 0.9090012311935425\n",
      "BestNuclei 13.0 0.9668399556116625 0.9999388456344604\n"
     ]
    },
    {
     "name": "stderr",
     "output_type": "stream",
     "text": [
      "\r",
      " 60%|████████████████████████████████████████████████████████████████████████████████████████████████████████▍                                                                     | 15/25 [00:57<00:36,  3.66s/it]"
     ]
    },
    {
     "name": "stdout",
     "output_type": "stream",
     "text": [
      "BestCad 14.0 0.0002245734205340947 0.0013444263022392988\n",
      "BestNuclei 14.0 0.9999571847915649 0.9999977350234985\n"
     ]
    },
    {
     "name": "stderr",
     "output_type": "stream",
     "text": [
      "\r",
      " 64%|███████████████████████████████████████████████████████████████████████████████████████████████████████████████▎                                                              | 16/25 [01:00<00:33,  3.68s/it]"
     ]
    },
    {
     "name": "stdout",
     "output_type": "stream",
     "text": [
      "BestCad 15.0 1.6594905377386426e-06 6.5143076426465996e-06\n",
      "BestNuclei 15.0 0.9999995983165243 0.9999999403953552\n"
     ]
    },
    {
     "name": "stderr",
     "output_type": "stream",
     "text": [
      "\r",
      " 68%|██████████████████████████████████████████████████████████████████████████████████████████████████████████████████████▎                                                       | 17/25 [01:04<00:29,  3.72s/it]"
     ]
    },
    {
     "name": "stdout",
     "output_type": "stream",
     "text": [
      "BestCad 16.0 8.71668542383001e-06 4.046873073093593e-05\n",
      "BestNuclei 16.0 0.9999987510117617 0.9999995231628418\n"
     ]
    },
    {
     "name": "stderr",
     "output_type": "stream",
     "text": [
      "\r",
      " 72%|█████████████████████████████████████████████████████████████████████████████████████████████████████████████████████████████▎                                                | 18/25 [01:08<00:25,  3.68s/it]"
     ]
    },
    {
     "name": "stdout",
     "output_type": "stream",
     "text": [
      "BestCad 17.0 7.381066090298798e-05 0.0001743655011523515\n",
      "BestNuclei 17.0 0.9999751845995585 0.9999962449073792\n"
     ]
    },
    {
     "name": "stderr",
     "output_type": "stream",
     "text": [
      "\r",
      " 76%|████████████████████████████████████████████████████████████████████████████████████████████████████████████████████████████████████▏                                         | 19/25 [01:12<00:22,  3.72s/it]"
     ]
    },
    {
     "name": "stdout",
     "output_type": "stream",
     "text": [
      "BestCad 18.0 0.00013403598336481082 0.0003147252427879721\n",
      "BestNuclei 18.0 0.9999580305555592 0.9999933242797852\n"
     ]
    },
    {
     "name": "stderr",
     "output_type": "stream",
     "text": [
      "\r",
      " 80%|███████████████████████████████████████████████████████████████████████████████████████████████████████████████████████████████████████████▏                                  | 20/25 [01:15<00:18,  3.75s/it]"
     ]
    },
    {
     "name": "stdout",
     "output_type": "stream",
     "text": [
      "BestCad 19.0 0.00013782140821503062 0.00038960797246545553\n",
      "BestNuclei 19.0 0.9999589238848005 0.9999967217445374\n"
     ]
    },
    {
     "name": "stderr",
     "output_type": "stream",
     "text": [
      "\r",
      " 84%|██████████████████████████████████████████████████████████████████████████████████████████████████████████████████████████████████████████████████▏                           | 21/25 [01:19<00:14,  3.73s/it]"
     ]
    },
    {
     "name": "stdout",
     "output_type": "stream",
     "text": [
      "BestCad 20.0 0.0001515086928520759 0.00043422821909189224\n",
      "BestNuclei 20.0 0.9999551962722432 0.9999969005584717\n"
     ]
    },
    {
     "name": "stderr",
     "output_type": "stream",
     "text": [
      "\r",
      " 88%|█████████████████████████████████████████████████████████████████████████████████████████████████████████████████████████████████████████████████████████                     | 22/25 [01:23<00:11,  3.74s/it]"
     ]
    },
    {
     "name": "stdout",
     "output_type": "stream",
     "text": [
      "BestCad 21.0 0.0001771318532701116 0.0005250200047157705\n",
      "BestNuclei 21.0 0.9999465999149141 0.9999966025352478\n"
     ]
    },
    {
     "name": "stderr",
     "output_type": "stream",
     "text": [
      "100%|██████████████████████████████████████████████████████████████████████████████████████████████████████████████████████████████████████████████████████████████████████████████| 25/25 [01:26<00:00,  3.48s/it]"
     ]
    },
    {
     "name": "stdout",
     "output_type": "stream",
     "text": [
      "BestCad 22.0 0.00012255753039346968 0.00034732173662632704\n",
      "BestNuclei 22.0 0.9999680292038691 0.9999982118606567\n"
     ]
    },
    {
     "name": "stderr",
     "output_type": "stream",
     "text": [
      "\n"
     ]
    },
    {
     "name": "stdout",
     "output_type": "stream",
     "text": [
      "Detecting focus planes in 210629_Erk_Kate_His_mov1_w3CSU-QUAD-561_s10_t9\n"
     ]
    },
    {
     "name": "stderr",
     "output_type": "stream",
     "text": [
      "  4%|███████                                                                                                                                                                        | 1/25 [00:05<02:02,  5.10s/it]"
     ]
    },
    {
     "name": "stdout",
     "output_type": "stream",
     "text": [
      "BestCad 0.0 0.0024922958284497284 0.039255645126104355\n",
      "BestNuclei 0.0 2.4357281237304493e-06 4.263643131707795e-05\n"
     ]
    },
    {
     "name": "stderr",
     "output_type": "stream",
     "text": [
      "\r",
      "  8%|██████████████                                                                                                                                                                 | 2/25 [00:08<01:36,  4.19s/it]"
     ]
    },
    {
     "name": "stdout",
     "output_type": "stream",
     "text": [
      "BestCad 1.0 0.008078318333707913 0.13262857496738434\n",
      "BestNuclei 1.0 3.861197182454733e-06 6.438114360207692e-05\n"
     ]
    },
    {
     "name": "stderr",
     "output_type": "stream",
     "text": [
      "\r",
      " 12%|█████████████████████                                                                                                                                                          | 3/25 [00:12<01:25,  3.88s/it]"
     ]
    },
    {
     "name": "stdout",
     "output_type": "stream",
     "text": [
      "BestCad 2.0 0.05157330497687276 0.968177318572998\n",
      "BestNuclei 2.0 8.988022183261299e-06 0.00019006457296200097\n"
     ]
    },
    {
     "name": "stderr",
     "output_type": "stream",
     "text": [
      "\r",
      " 16%|████████████████████████████                                                                                                                                                   | 4/25 [00:15<01:18,  3.76s/it]"
     ]
    },
    {
     "name": "stdout",
     "output_type": "stream",
     "text": [
      "BestCad 3.0 0.08956676297163568 0.9992412328720093\n",
      "BestNuclei 3.0 6.803349634067138e-05 0.0007482394576072693\n"
     ]
    },
    {
     "name": "stderr",
     "output_type": "stream",
     "text": [
      "\r",
      " 20%|███████████████████████████████████                                                                                                                                            | 5/25 [00:19<01:14,  3.75s/it]"
     ]
    },
    {
     "name": "stdout",
     "output_type": "stream",
     "text": [
      "BestCad 4.0 0.131160836893168 0.9993646740913391\n",
      "BestNuclei 4.0 0.000100076070370875 0.0010621855035424232\n"
     ]
    },
    {
     "name": "stderr",
     "output_type": "stream",
     "text": [
      "\r",
      " 24%|██████████████████████████████████████████                                                                                                                                     | 6/25 [00:23<01:11,  3.74s/it]"
     ]
    },
    {
     "name": "stdout",
     "output_type": "stream",
     "text": [
      "BestCad 5.0 0.2771631661135788 0.9994601011276245\n",
      "BestNuclei 5.0 0.0037544721681942146 0.04701501131057739\n"
     ]
    },
    {
     "name": "stderr",
     "output_type": "stream",
     "text": [
      "\r",
      " 28%|█████████████████████████████████████████████████                                                                                                                              | 7/25 [00:26<01:07,  3.76s/it]"
     ]
    },
    {
     "name": "stdout",
     "output_type": "stream",
     "text": [
      "BestCad 6.0 0.38038415101155726 0.9994023442268372\n",
      "BestNuclei 6.0 0.032679992437722426 0.45771142840385437\n"
     ]
    },
    {
     "name": "stderr",
     "output_type": "stream",
     "text": [
      "\r",
      " 32%|████████████████████████████████████████████████████████                                                                                                                       | 8/25 [00:30<01:03,  3.75s/it]"
     ]
    },
    {
     "name": "stdout",
     "output_type": "stream",
     "text": [
      "BestCad 7.0 0.4506617416239654 0.999300479888916\n",
      "BestNuclei 7.0 0.180731234248924 0.9593199491500854\n"
     ]
    },
    {
     "name": "stderr",
     "output_type": "stream",
     "text": [
      "\r",
      " 36%|███████████████████████████████████████████████████████████████                                                                                                                | 9/25 [00:34<00:59,  3.73s/it]"
     ]
    },
    {
     "name": "stdout",
     "output_type": "stream",
     "text": [
      "BestCad 8.0 0.5354855863455062 0.9988917708396912\n",
      "BestNuclei 8.0 0.24081448995002575 0.998967707157135\n"
     ]
    },
    {
     "name": "stderr",
     "output_type": "stream",
     "text": [
      "\r",
      " 40%|█████████████████████████████████████████████████████████████████████▌                                                                                                        | 10/25 [00:37<00:55,  3.68s/it]"
     ]
    },
    {
     "name": "stdout",
     "output_type": "stream",
     "text": [
      "BestCad 9.0 0.5610592177307064 0.998403787612915\n",
      "BestNuclei 9.0 0.32981789296106645 0.9999959468841553\n"
     ]
    },
    {
     "name": "stderr",
     "output_type": "stream",
     "text": [
      "\r",
      " 44%|████████████████████████████████████████████████████████████████████████████▌                                                                                                 | 11/25 [00:41<00:50,  3.63s/it]"
     ]
    },
    {
     "name": "stdout",
     "output_type": "stream",
     "text": [
      "BestCad 10.0 0.24623987198521552 0.8613149523735046\n",
      "BestNuclei 10.0 0.9647523320239523 0.9999972581863403\n"
     ]
    },
    {
     "name": "stderr",
     "output_type": "stream",
     "text": [
      "\r",
      " 48%|███████████████████████████████████████████████████████████████████████████████████▌                                                                                          | 12/25 [00:45<00:46,  3.62s/it]"
     ]
    },
    {
     "name": "stdout",
     "output_type": "stream",
     "text": [
      "BestCad 11.0 0.0031977227807384106 0.008937721140682697\n",
      "BestNuclei 11.0 0.9993519758184751 0.9999973773956299\n"
     ]
    },
    {
     "name": "stderr",
     "output_type": "stream",
     "text": [
      "\r",
      " 52%|██████████████████████████████████████████████████████████████████████████████████████████▍                                                                                   | 13/25 [00:52<00:55,  4.65s/it]"
     ]
    },
    {
     "name": "stdout",
     "output_type": "stream",
     "text": [
      "BestCad 12.0 0.44424193343994295 0.9192162156105042\n",
      "BestNuclei 12.0 0.6516076352285303 0.9999968409538269\n"
     ]
    },
    {
     "name": "stderr",
     "output_type": "stream",
     "text": [
      "\r",
      " 56%|█████████████████████████████████████████████████████████████████████████████████████████████████▍                                                                            | 14/25 [00:55<00:47,  4.28s/it]"
     ]
    },
    {
     "name": "stdout",
     "output_type": "stream",
     "text": [
      "BestCad 13.0 0.4611280031857036 0.8775967359542847\n",
      "BestNuclei 13.0 0.6676460759093364 0.999998152256012\n"
     ]
    },
    {
     "name": "stderr",
     "output_type": "stream",
     "text": [
      "\r",
      " 60%|████████████████████████████████████████████████████████████████████████████████████████████████████████▍                                                                     | 15/25 [00:59<00:40,  4.07s/it]"
     ]
    },
    {
     "name": "stdout",
     "output_type": "stream",
     "text": [
      "BestCad 14.0 0.36720754230475944 0.8750712871551514\n",
      "BestNuclei 14.0 0.7788142580538988 0.9999983906745911\n"
     ]
    },
    {
     "name": "stderr",
     "output_type": "stream",
     "text": [
      "\r",
      " 64%|███████████████████████████████████████████████████████████████████████████████████████████████████████████████▎                                                              | 16/25 [01:02<00:35,  3.90s/it]"
     ]
    },
    {
     "name": "stdout",
     "output_type": "stream",
     "text": [
      "BestCad 15.0 0.00020534681211756834 0.0016978986095637083\n",
      "BestNuclei 15.0 0.9999858633331631 0.9999998211860657\n"
     ]
    },
    {
     "name": "stderr",
     "output_type": "stream",
     "text": [
      "\r",
      " 68%|██████████████████████████████████████████████████████████████████████████████████████████████████████████████████████▎                                                       | 17/25 [01:06<00:30,  3.80s/it]"
     ]
    },
    {
     "name": "stdout",
     "output_type": "stream",
     "text": [
      "BestCad 16.0 7.177919627836326e-05 0.00047710107173770666\n",
      "BestNuclei 16.0 0.9999946925951086 0.9999998807907104\n"
     ]
    },
    {
     "name": "stderr",
     "output_type": "stream",
     "text": [
      "\r",
      " 72%|█████████████████████████████████████████████████████████████████████████████████████████████████████████████████████████████▎                                                | 18/25 [01:09<00:26,  3.75s/it]"
     ]
    },
    {
     "name": "stdout",
     "output_type": "stream",
     "text": [
      "BestCad 17.0 4.326469331772387e-05 0.00034576738835312426\n",
      "BestNuclei 17.0 0.9999972504118214 0.9999998807907104\n"
     ]
    },
    {
     "name": "stderr",
     "output_type": "stream",
     "text": [
      "\r",
      " 76%|████████████████████████████████████████████████████████████████████████████████████████████████████████████████████████████████████▏                                         | 19/25 [01:13<00:22,  3.67s/it]"
     ]
    },
    {
     "name": "stdout",
     "output_type": "stream",
     "text": [
      "BestCad 18.0 4.9496127254704856e-05 0.00040515261935070157\n",
      "BestNuclei 18.0 0.9999968924305656 0.9999998807907104\n"
     ]
    },
    {
     "name": "stderr",
     "output_type": "stream",
     "text": [
      "\r",
      " 80%|███████████████████████████████████████████████████████████████████████████████████████████████████████████████████████████████████████████▏                                  | 20/25 [01:16<00:18,  3.66s/it]"
     ]
    },
    {
     "name": "stdout",
     "output_type": "stream",
     "text": [
      "BestCad 19.0 3.949388340764753e-05 0.0003686921554617584\n",
      "BestNuclei 19.0 0.9999940120256864 0.9999998807907104\n"
     ]
    },
    {
     "name": "stderr",
     "output_type": "stream",
     "text": [
      "\r",
      " 84%|██████████████████████████████████████████████████████████████████████████████████████████████████████████████████████████████████████████████████▏                           | 21/25 [01:20<00:14,  3.66s/it]"
     ]
    },
    {
     "name": "stdout",
     "output_type": "stream",
     "text": [
      "BestCad 20.0 0.0002758477583959327 0.003904827404767275\n",
      "BestNuclei 20.0 0.9999883572260538 0.9999998807907104\n"
     ]
    },
    {
     "name": "stderr",
     "output_type": "stream",
     "text": [
      "\r",
      " 88%|█████████████████████████████████████████████████████████████████████████████████████████████████████████████████████████████████████████████████████████                     | 22/25 [01:24<00:11,  3.67s/it]"
     ]
    },
    {
     "name": "stdout",
     "output_type": "stream",
     "text": [
      "BestCad 21.0 0.0010162188063986832 0.017472563311457634\n",
      "BestNuclei 21.0 0.999949779510498 0.9999998211860657\n"
     ]
    },
    {
     "name": "stderr",
     "output_type": "stream",
     "text": [
      "100%|██████████████████████████████████████████████████████████████████████████████████████████████████████████████████████████████████████████████████████████████████████████████| 25/25 [01:27<00:00,  3.51s/it]"
     ]
    },
    {
     "name": "stdout",
     "output_type": "stream",
     "text": [
      "BestCad 22.0 0.15177709172965717 0.8710184097290039\n",
      "BestNuclei 22.0 0.9845766373302626 0.9999980926513672\n"
     ]
    },
    {
     "name": "stderr",
     "output_type": "stream",
     "text": [
      "\n"
     ]
    },
    {
     "name": "stdout",
     "output_type": "stream",
     "text": [
      "Detecting focus planes in 210629_Erk_Kate_His_mov1_w3CSU-QUAD-561_s8_t4\n"
     ]
    },
    {
     "name": "stderr",
     "output_type": "stream",
     "text": [
      "  4%|███████                                                                                                                                                                        | 1/25 [00:04<01:52,  4.71s/it]"
     ]
    },
    {
     "name": "stdout",
     "output_type": "stream",
     "text": [
      "BestCad 0.0 0.000207965202391307 0.0022006798535585403\n",
      "BestNuclei 0.0 1.9040173862164674e-08 2.492211592652893e-07\n"
     ]
    },
    {
     "name": "stderr",
     "output_type": "stream",
     "text": [
      "\r",
      "  8%|██████████████                                                                                                                                                                 | 2/25 [00:08<01:31,  3.96s/it]"
     ]
    },
    {
     "name": "stdout",
     "output_type": "stream",
     "text": [
      "BestCad 1.0 4.941669680086599e-05 0.0004293021047487855\n",
      "BestNuclei 1.0 3.93070953207372e-08 5.362015826904099e-07\n"
     ]
    },
    {
     "name": "stderr",
     "output_type": "stream",
     "text": [
      "\r",
      " 12%|█████████████████████                                                                                                                                                          | 3/25 [00:11<01:23,  3.78s/it]"
     ]
    },
    {
     "name": "stdout",
     "output_type": "stream",
     "text": [
      "BestCad 2.0 0.00011436597047478058 0.0016338264103978872\n",
      "BestNuclei 2.0 2.497583163044664e-08 4.0675945456314366e-07\n"
     ]
    },
    {
     "name": "stderr",
     "output_type": "stream",
     "text": [
      "\r",
      " 16%|████████████████████████████                                                                                                                                                   | 4/25 [00:15<01:18,  3.73s/it]"
     ]
    },
    {
     "name": "stdout",
     "output_type": "stream",
     "text": [
      "BestCad 3.0 0.0001982536648149383 0.0022120787762105465\n",
      "BestNuclei 3.0 4.282120752556336e-08 3.6723670859828417e-07\n"
     ]
    },
    {
     "name": "stderr",
     "output_type": "stream",
     "text": [
      "\r",
      " 20%|███████████████████████████████████                                                                                                                                            | 5/25 [00:18<01:11,  3.59s/it]"
     ]
    },
    {
     "name": "stdout",
     "output_type": "stream",
     "text": [
      "BestCad 4.0 0.0024932271515186633 0.0387985035777092\n",
      "BestNuclei 4.0 3.173777660098187e-07 3.843385911750374e-06\n"
     ]
    },
    {
     "name": "stderr",
     "output_type": "stream",
     "text": [
      "\r",
      " 24%|██████████████████████████████████████████                                                                                                                                     | 6/25 [00:22<01:06,  3.49s/it]"
     ]
    },
    {
     "name": "stdout",
     "output_type": "stream",
     "text": [
      "BestCad 5.0 0.04813683683856105 0.9674168825149536\n",
      "BestNuclei 5.0 2.1671686432711273e-05 0.0004151425091549754\n"
     ]
    },
    {
     "name": "stderr",
     "output_type": "stream",
     "text": [
      "\r",
      " 28%|█████████████████████████████████████████████████                                                                                                                              | 7/25 [00:25<01:02,  3.47s/it]"
     ]
    },
    {
     "name": "stdout",
     "output_type": "stream",
     "text": [
      "BestCad 6.0 0.06137629642216038 0.9975029230117798\n",
      "BestNuclei 6.0 0.0014623661975897053 0.033523716032505035\n"
     ]
    },
    {
     "name": "stderr",
     "output_type": "stream",
     "text": [
      "\r",
      " 32%|████████████████████████████████████████████████████████                                                                                                                       | 8/25 [00:29<01:01,  3.61s/it]"
     ]
    },
    {
     "name": "stdout",
     "output_type": "stream",
     "text": [
      "BestCad 7.0 0.0886014116309604 0.9951050281524658\n",
      "BestNuclei 7.0 0.060229437220588065 0.8488462567329407\n"
     ]
    },
    {
     "name": "stderr",
     "output_type": "stream",
     "text": [
      "\r",
      " 36%|███████████████████████████████████████████████████████████████                                                                                                                | 9/25 [00:33<00:59,  3.74s/it]"
     ]
    },
    {
     "name": "stdout",
     "output_type": "stream",
     "text": [
      "BestCad 8.0 0.15158287771340506 0.9934906959533691\n",
      "BestNuclei 8.0 0.09859890779926717 0.972531259059906\n"
     ]
    },
    {
     "name": "stderr",
     "output_type": "stream",
     "text": [
      "\r",
      " 40%|█████████████████████████████████████████████████████████████████████▌                                                                                                        | 10/25 [00:37<00:55,  3.73s/it]"
     ]
    },
    {
     "name": "stdout",
     "output_type": "stream",
     "text": [
      "BestCad 9.0 0.21233780574264183 0.9877471327781677\n",
      "BestNuclei 9.0 0.17650778991358976 0.9991799592971802\n"
     ]
    },
    {
     "name": "stderr",
     "output_type": "stream",
     "text": [
      "\r",
      " 44%|████████████████████████████████████████████████████████████████████████████▌                                                                                                 | 11/25 [00:40<00:51,  3.71s/it]"
     ]
    },
    {
     "name": "stdout",
     "output_type": "stream",
     "text": [
      "BestCad 10.0 0.3307677779494869 0.9945845007896423\n",
      "BestNuclei 10.0 0.20706680832189822 0.9993245601654053\n"
     ]
    },
    {
     "name": "stderr",
     "output_type": "stream",
     "text": [
      "\r",
      " 48%|███████████████████████████████████████████████████████████████████████████████████▌                                                                                          | 12/25 [00:44<00:48,  3.70s/it]"
     ]
    },
    {
     "name": "stdout",
     "output_type": "stream",
     "text": [
      "BestCad 11.0 0.4445113328031518 0.9901096224784851\n",
      "BestNuclei 11.0 0.22803101190994884 0.9999560117721558\n"
     ]
    },
    {
     "name": "stderr",
     "output_type": "stream",
     "text": [
      "\r",
      " 52%|██████████████████████████████████████████████████████████████████████████████████████████▍                                                                                   | 13/25 [00:48<00:44,  3.69s/it]"
     ]
    },
    {
     "name": "stdout",
     "output_type": "stream",
     "text": [
      "BestCad 12.0 0.5230322609644472 0.9877870082855225\n",
      "BestNuclei 12.0 0.2906826397979785 0.9999979138374329\n"
     ]
    },
    {
     "name": "stderr",
     "output_type": "stream",
     "text": [
      "\r",
      " 56%|█████████████████████████████████████████████████████████████████████████████████████████████████▍                                                                            | 14/25 [00:51<00:39,  3.63s/it]"
     ]
    },
    {
     "name": "stdout",
     "output_type": "stream",
     "text": [
      "BestCad 13.0 0.5640919921431868 0.9959708452224731\n",
      "BestNuclei 13.0 0.3078717527311751 0.9999996423721313\n"
     ]
    },
    {
     "name": "stderr",
     "output_type": "stream",
     "text": [
      "\r",
      " 60%|████████████████████████████████████████████████████████████████████████████████████████████████████████▍                                                                     | 15/25 [00:55<00:36,  3.60s/it]"
     ]
    },
    {
     "name": "stdout",
     "output_type": "stream",
     "text": [
      "BestCad 14.0 0.5395896089161397 0.9960300326347351\n",
      "BestNuclei 14.0 0.5124432863481343 0.9999997019767761\n"
     ]
    },
    {
     "name": "stderr",
     "output_type": "stream",
     "text": [
      "\r",
      " 64%|███████████████████████████████████████████████████████████████████████████████████████████████████████████████▎                                                              | 16/25 [00:58<00:32,  3.62s/it]"
     ]
    },
    {
     "name": "stdout",
     "output_type": "stream",
     "text": [
      "BestCad 15.0 0.560927775755772 0.994093656539917\n",
      "BestNuclei 15.0 0.5263409924765046 0.9999998211860657\n"
     ]
    },
    {
     "name": "stderr",
     "output_type": "stream",
     "text": [
      "\r",
      " 68%|██████████████████████████████████████████████████████████████████████████████████████████████████████████████████████▎                                                       | 17/25 [01:02<00:28,  3.56s/it]"
     ]
    },
    {
     "name": "stdout",
     "output_type": "stream",
     "text": [
      "BestCad 16.0 0.5080911441121619 0.9907188415527344\n",
      "BestNuclei 16.0 0.5946254711930773 0.9999998807907104\n"
     ]
    },
    {
     "name": "stderr",
     "output_type": "stream",
     "text": [
      "\r",
      " 72%|█████████████████████████████████████████████████████████████████████████████████████████████████████████████████████████████▎                                                | 18/25 [01:05<00:24,  3.53s/it]"
     ]
    },
    {
     "name": "stdout",
     "output_type": "stream",
     "text": [
      "BestCad 17.0 0.5807909882622136 0.9953975677490234\n",
      "BestNuclei 17.0 0.5507734112122663 1.0\n"
     ]
    },
    {
     "name": "stderr",
     "output_type": "stream",
     "text": [
      "\r",
      " 76%|████████████████████████████████████████████████████████████████████████████████████████████████████████████████████████████████████▏                                         | 19/25 [01:08<00:20,  3.46s/it]"
     ]
    },
    {
     "name": "stdout",
     "output_type": "stream",
     "text": [
      "BestCad 18.0 0.5125265694630798 0.9955685138702393\n",
      "BestNuclei 18.0 0.5733154082952405 1.0\n"
     ]
    },
    {
     "name": "stderr",
     "output_type": "stream",
     "text": [
      "\r",
      " 80%|███████████████████████████████████████████████████████████████████████████████████████████████████████████████████████████████████████████▏                                  | 20/25 [01:12<00:17,  3.44s/it]"
     ]
    },
    {
     "name": "stdout",
     "output_type": "stream",
     "text": [
      "BestCad 19.0 0.499844563035627 0.9932810068130493\n",
      "BestNuclei 19.0 0.5759390527092023 1.0\n"
     ]
    },
    {
     "name": "stderr",
     "output_type": "stream",
     "text": [
      "\r",
      " 84%|██████████████████████████████████████████████████████████████████████████████████████████████████████████████████████████████████████████████████▏                           | 21/25 [01:15<00:13,  3.42s/it]"
     ]
    },
    {
     "name": "stdout",
     "output_type": "stream",
     "text": [
      "BestCad 20.0 0.4699259464058824 0.9952259659767151\n",
      "BestNuclei 20.0 0.6591630224174002 1.0\n"
     ]
    },
    {
     "name": "stderr",
     "output_type": "stream",
     "text": [
      "\r",
      " 88%|█████████████████████████████████████████████████████████████████████████████████████████████████████████████████████████████████████████████████████████                     | 22/25 [01:19<00:10,  3.40s/it]"
     ]
    },
    {
     "name": "stdout",
     "output_type": "stream",
     "text": [
      "BestCad 21.0 0.4328725047267984 0.9887136220932007\n",
      "BestNuclei 21.0 0.769197656909455 1.0\n"
     ]
    },
    {
     "name": "stderr",
     "output_type": "stream",
     "text": [
      "100%|██████████████████████████████████████████████████████████████████████████████████████████████████████████████████████████████████████████████████████████████████████████████| 25/25 [01:22<00:00,  3.30s/it]"
     ]
    },
    {
     "name": "stdout",
     "output_type": "stream",
     "text": [
      "BestCad 22.0 0.02220400547971819 0.14122456312179565\n",
      "BestNuclei 22.0 0.9981424907843272 0.9999996423721313\n"
     ]
    },
    {
     "name": "stderr",
     "output_type": "stream",
     "text": [
      "\n"
     ]
    },
    {
     "name": "stdout",
     "output_type": "stream",
     "text": [
      "Detecting focus planes in 210629_Erk_Kate_His_mov1_w1CSU-QUAD-561_s1_t8\n"
     ]
    },
    {
     "name": "stderr",
     "output_type": "stream",
     "text": [
      "  4%|███████                                                                                                                                                                        | 1/25 [00:04<01:56,  4.85s/it]"
     ]
    },
    {
     "name": "stdout",
     "output_type": "stream",
     "text": [
      "BestCad 0.0 0.7838697102852166 0.9998642206192017\n",
      "BestNuclei 0.0 0.03414357481181204 0.7129744291305542\n"
     ]
    },
    {
     "name": "stderr",
     "output_type": "stream",
     "text": [
      "\r",
      "  8%|██████████████                                                                                                                                                                 | 2/25 [00:08<01:33,  4.07s/it]"
     ]
    },
    {
     "name": "stdout",
     "output_type": "stream",
     "text": [
      "BestCad 1.0 0.8029097714461386 0.9999740123748779\n",
      "BestNuclei 1.0 0.12247965780503971 0.9596236944198608\n"
     ]
    },
    {
     "name": "stderr",
     "output_type": "stream",
     "text": [
      "\r",
      " 12%|█████████████████████                                                                                                                                                          | 3/25 [00:12<01:26,  3.94s/it]"
     ]
    },
    {
     "name": "stdout",
     "output_type": "stream",
     "text": [
      "BestCad 2.0 0.7218887180178648 0.999911904335022\n",
      "BestNuclei 2.0 0.3965749909877087 0.9964972734451294\n"
     ]
    },
    {
     "name": "stderr",
     "output_type": "stream",
     "text": [
      "\r",
      " 16%|████████████████████████████                                                                                                                                                   | 4/25 [00:15<01:21,  3.89s/it]"
     ]
    },
    {
     "name": "stdout",
     "output_type": "stream",
     "text": [
      "BestCad 3.0 0.28137486307172194 0.9833977222442627\n",
      "BestNuclei 3.0 0.9668356643782722 0.9999409317970276\n"
     ]
    },
    {
     "name": "stderr",
     "output_type": "stream",
     "text": [
      "\r",
      " 20%|███████████████████████████████████                                                                                                                                            | 5/25 [00:19<01:17,  3.86s/it]"
     ]
    },
    {
     "name": "stdout",
     "output_type": "stream",
     "text": [
      "BestCad 4.0 0.04923739374234257 0.3754740357398987\n",
      "BestNuclei 4.0 0.9958275671188648 0.9999150633811951\n"
     ]
    },
    {
     "name": "stderr",
     "output_type": "stream",
     "text": [
      "\r",
      " 24%|██████████████████████████████████████████                                                                                                                                     | 6/25 [00:23<01:13,  3.85s/it]"
     ]
    },
    {
     "name": "stdout",
     "output_type": "stream",
     "text": [
      "BestCad 5.0 7.608212921616581e-05 0.00022812535462435335\n",
      "BestNuclei 5.0 0.999979178905487 0.9999988675117493\n"
     ]
    },
    {
     "name": "stderr",
     "output_type": "stream",
     "text": [
      "\r",
      " 28%|█████████████████████████████████████████████████                                                                                                                              | 7/25 [00:31<01:31,  5.07s/it]"
     ]
    },
    {
     "name": "stdout",
     "output_type": "stream",
     "text": [
      "BestCad 6.0 5.279257691100888e-06 1.64791417773813e-05\n",
      "BestNuclei 6.0 0.9999984787858051 0.9999998807907104\n"
     ]
    },
    {
     "name": "stderr",
     "output_type": "stream",
     "text": [
      "\r",
      " 32%|████████████████████████████████████████████████████████                                                                                                                       | 8/25 [00:35<01:20,  4.75s/it]"
     ]
    },
    {
     "name": "stdout",
     "output_type": "stream",
     "text": [
      "BestCad 7.0 1.895136712164458e-06 1.059705300576752e-05\n",
      "BestNuclei 7.0 0.9999996708787006 1.0\n"
     ]
    },
    {
     "name": "stderr",
     "output_type": "stream",
     "text": [
      "\r",
      " 36%|███████████████████████████████████████████████████████████████                                                                                                                | 9/25 [00:39<01:12,  4.54s/it]"
     ]
    },
    {
     "name": "stdout",
     "output_type": "stream",
     "text": [
      "BestCad 8.0 1.817260847928992e-05 0.00011744708172045648\n",
      "BestNuclei 8.0 0.9999964807344519 0.9999996423721313\n"
     ]
    },
    {
     "name": "stderr",
     "output_type": "stream",
     "text": [
      "\r",
      " 40%|█████████████████████████████████████████████████████████████████████▌                                                                                                        | 10/25 [00:43<01:05,  4.38s/it]"
     ]
    },
    {
     "name": "stdout",
     "output_type": "stream",
     "text": [
      "BestCad 9.0 0.0002625042039793558 0.0011965831508859992\n",
      "BestNuclei 9.0 0.9999321880547897 0.9999938011169434\n"
     ]
    },
    {
     "name": "stderr",
     "output_type": "stream",
     "text": [
      "\r",
      " 44%|████████████████████████████████████████████████████████████████████████████▌                                                                                                 | 11/25 [00:47<00:59,  4.26s/it]"
     ]
    },
    {
     "name": "stdout",
     "output_type": "stream",
     "text": [
      "BestCad 10.0 0.00027306732479938427 0.0011853838805109262\n",
      "BestNuclei 10.0 0.9999268388748169 0.9999915361404419\n"
     ]
    },
    {
     "name": "stderr",
     "output_type": "stream",
     "text": [
      "\r",
      " 48%|███████████████████████████████████████████████████████████████████████████████████▌                                                                                          | 12/25 [00:51<00:54,  4.20s/it]"
     ]
    },
    {
     "name": "stdout",
     "output_type": "stream",
     "text": [
      "BestCad 11.0 0.00034972530444904877 0.0015892494702711701\n",
      "BestNuclei 11.0 0.9998652118223684 0.9999872446060181\n"
     ]
    },
    {
     "name": "stderr",
     "output_type": "stream",
     "text": [
      "\r",
      " 52%|██████████████████████████████████████████████████████████████████████████████████████████▍                                                                                   | 13/25 [00:55<00:49,  4.14s/it]"
     ]
    },
    {
     "name": "stdout",
     "output_type": "stream",
     "text": [
      "BestCad 12.0 0.0004085748837678693 0.0015873804222792387\n",
      "BestNuclei 12.0 0.9998895801030673 0.9999860525131226\n"
     ]
    },
    {
     "name": "stderr",
     "output_type": "stream",
     "text": [
      "\r",
      " 56%|█████████████████████████████████████████████████████████████████████████████████████████████████▍                                                                            | 14/25 [00:59<00:45,  4.12s/it]"
     ]
    },
    {
     "name": "stdout",
     "output_type": "stream",
     "text": [
      "BestCad 13.0 0.0004931484060458994 0.0017543230205774307\n",
      "BestNuclei 13.0 0.999864730834961 0.9999829530715942\n"
     ]
    },
    {
     "name": "stderr",
     "output_type": "stream",
     "text": [
      "\r",
      " 60%|████████████████████████████████████████████████████████████████████████████████████████████████████████▍                                                                     | 15/25 [01:03<00:41,  4.11s/it]"
     ]
    },
    {
     "name": "stdout",
     "output_type": "stream",
     "text": [
      "BestCad 14.0 0.0004592355326167308 0.0017024538246914744\n",
      "BestNuclei 14.0 0.9998877453804016 0.9999858736991882\n"
     ]
    },
    {
     "name": "stderr",
     "output_type": "stream",
     "text": [
      "\r",
      " 64%|███████████████████████████████████████████████████████████████████████████████████████████████████████████████▎                                                              | 16/25 [01:07<00:36,  4.09s/it]"
     ]
    },
    {
     "name": "stdout",
     "output_type": "stream",
     "text": [
      "BestCad 15.0 0.00034144667733926326 0.001438087085261941\n",
      "BestNuclei 15.0 0.9999247970788375 0.9999895691871643\n"
     ]
    },
    {
     "name": "stderr",
     "output_type": "stream",
     "text": [
      "\r",
      " 68%|██████████████████████████████████████████████████████████████████████████████████████████████████████████████████████▎                                                       | 17/25 [01:11<00:32,  4.05s/it]"
     ]
    },
    {
     "name": "stdout",
     "output_type": "stream",
     "text": [
      "BestCad 16.0 0.0003295368695272254 0.0012333332560956478\n",
      "BestNuclei 16.0 0.999929629266262 0.999990701675415\n"
     ]
    },
    {
     "name": "stderr",
     "output_type": "stream",
     "text": [
      "\r",
      " 72%|█████████████████████████████████████████████████████████████████████████████████████████████████████████████████████████████▎                                                | 18/25 [01:15<00:28,  4.01s/it]"
     ]
    },
    {
     "name": "stdout",
     "output_type": "stream",
     "text": [
      "BestCad 17.0 0.00022842252583359367 0.0007799105951562524\n",
      "BestNuclei 17.0 0.9999411702156067 0.9999929666519165\n"
     ]
    },
    {
     "name": "stderr",
     "output_type": "stream",
     "text": [
      "\r",
      " 76%|████████████████████████████████████████████████████████████████████████████████████████████████████████████████████████████████████▏                                         | 19/25 [01:19<00:24,  4.00s/it]"
     ]
    },
    {
     "name": "stdout",
     "output_type": "stream",
     "text": [
      "BestCad 18.0 0.00021444155866517505 0.0007444889051839709\n",
      "BestNuclei 18.0 0.9999436712265015 0.9999940991401672\n"
     ]
    },
    {
     "name": "stderr",
     "output_type": "stream",
     "text": [
      "\r",
      " 80%|███████████████████████████████████████████████████████████████████████████████████████████████████████████████████████████████████████████▏                                  | 20/25 [01:23<00:19,  4.00s/it]"
     ]
    },
    {
     "name": "stdout",
     "output_type": "stream",
     "text": [
      "BestCad 19.0 0.0001909775050576586 0.0004949109861627221\n",
      "BestNuclei 19.0 0.9999644108440565 0.999997079372406\n"
     ]
    },
    {
     "name": "stderr",
     "output_type": "stream",
     "text": [
      "\r",
      " 84%|██████████████████████████████████████████████████████████████████████████████████████████████████████████████████████████████████████████████████▏                           | 21/25 [01:27<00:16,  4.00s/it]"
     ]
    },
    {
     "name": "stdout",
     "output_type": "stream",
     "text": [
      "BestCad 20.0 0.00028049065032973884 0.001211024820804596\n",
      "BestNuclei 20.0 0.9999328603347143 0.9999951124191284\n"
     ]
    },
    {
     "name": "stderr",
     "output_type": "stream",
     "text": [
      "\r",
      " 88%|█████████████████████████████████████████████████████████████████████████████████████████████████████████████████████████████████████████████████████████                     | 22/25 [01:31<00:12,  4.03s/it]"
     ]
    },
    {
     "name": "stdout",
     "output_type": "stream",
     "text": [
      "BestCad 21.0 0.00023374039210466435 0.0008628336945548654\n",
      "BestNuclei 21.0 0.9999461436271667 0.9999967217445374\n"
     ]
    },
    {
     "name": "stderr",
     "output_type": "stream",
     "text": [
      "100%|██████████████████████████████████████████████████████████████████████████████████████████████████████████████████████████████████████████████████████████████████████████████| 25/25 [01:36<00:00,  3.85s/it]"
     ]
    },
    {
     "name": "stdout",
     "output_type": "stream",
     "text": [
      "BestCad 22.0 0.00016729484227455586 0.0004960105870850384\n",
      "BestNuclei 22.0 0.9999661827087403 0.9999986886978149\n"
     ]
    },
    {
     "name": "stderr",
     "output_type": "stream",
     "text": [
      "\n"
     ]
    },
    {
     "name": "stdout",
     "output_type": "stream",
     "text": [
      "Detecting focus planes in 210629_Erk_Kate_His_mov1_w1CSU-QUAD-561_s10_t21\n"
     ]
    },
    {
     "name": "stderr",
     "output_type": "stream",
     "text": [
      "  4%|███████                                                                                                                                                                        | 1/25 [00:05<02:15,  5.64s/it]"
     ]
    },
    {
     "name": "stdout",
     "output_type": "stream",
     "text": [
      "BestCad 0.0 0.3175270652975 0.9879975318908691\n",
      "BestNuclei 0.0 0.10876288746038137 0.7583886981010437\n"
     ]
    },
    {
     "name": "stderr",
     "output_type": "stream",
     "text": [
      "\r",
      "  8%|██████████████                                                                                                                                                                 | 2/25 [00:09<01:51,  4.87s/it]"
     ]
    },
    {
     "name": "stdout",
     "output_type": "stream",
     "text": [
      "BestCad 1.0 0.29296883047694183 0.9945532083511353\n",
      "BestNuclei 1.0 0.11038796719329817 0.9541453123092651\n"
     ]
    },
    {
     "name": "stderr",
     "output_type": "stream",
     "text": [
      "\r",
      " 12%|█████████████████████                                                                                                                                                          | 3/25 [00:14<01:40,  4.57s/it]"
     ]
    },
    {
     "name": "stdout",
     "output_type": "stream",
     "text": [
      "BestCad 2.0 0.40205827935036115 0.9993698596954346\n",
      "BestNuclei 2.0 0.13770074282716868 0.9998092651367188\n"
     ]
    },
    {
     "name": "stderr",
     "output_type": "stream",
     "text": [
      "\r",
      " 16%|████████████████████████████                                                                                                                                                   | 4/25 [00:18<01:33,  4.46s/it]"
     ]
    },
    {
     "name": "stdout",
     "output_type": "stream",
     "text": [
      "BestCad 3.0 0.5119650253467262 0.9967446327209473\n",
      "BestNuclei 3.0 0.2882301814653064 0.9999842643737793\n"
     ]
    },
    {
     "name": "stderr",
     "output_type": "stream",
     "text": [
      "\r",
      " 20%|███████████████████████████████████                                                                                                                                            | 5/25 [00:22<01:27,  4.36s/it]"
     ]
    },
    {
     "name": "stdout",
     "output_type": "stream",
     "text": [
      "BestCad 4.0 0.5150849229539745 0.9900741577148438\n",
      "BestNuclei 4.0 0.32296641145038174 0.9999955296516418\n"
     ]
    },
    {
     "name": "stderr",
     "output_type": "stream",
     "text": [
      "\r",
      " 24%|██████████████████████████████████████████                                                                                                                                     | 6/25 [00:26<01:21,  4.28s/it]"
     ]
    },
    {
     "name": "stdout",
     "output_type": "stream",
     "text": [
      "BestCad 5.0 0.5978514820175327 0.995359480381012\n",
      "BestNuclei 5.0 0.391474151838338 0.9999993443489075\n"
     ]
    },
    {
     "name": "stderr",
     "output_type": "stream",
     "text": [
      "\r",
      " 28%|█████████████████████████████████████████████████                                                                                                                              | 7/25 [00:30<01:16,  4.23s/it]"
     ]
    },
    {
     "name": "stdout",
     "output_type": "stream",
     "text": [
      "BestCad 6.0 0.5599570759028817 0.990627646446228\n",
      "BestNuclei 6.0 0.42323754400865216 0.9999996423721313\n"
     ]
    },
    {
     "name": "stderr",
     "output_type": "stream",
     "text": [
      "\r",
      " 32%|████████████████████████████████████████████████████████                                                                                                                       | 8/25 [00:35<01:11,  4.20s/it]"
     ]
    },
    {
     "name": "stdout",
     "output_type": "stream",
     "text": [
      "BestCad 7.0 0.5917097438304197 0.9884251356124878\n",
      "BestNuclei 7.0 0.5159255668258993 0.9999998211860657\n"
     ]
    },
    {
     "name": "stderr",
     "output_type": "stream",
     "text": [
      "\r",
      " 36%|███████████████████████████████████████████████████████████████                                                                                                                | 9/25 [00:39<01:07,  4.20s/it]"
     ]
    },
    {
     "name": "stdout",
     "output_type": "stream",
     "text": [
      "BestCad 8.0 0.4851434952517873 0.9950990676879883\n",
      "BestNuclei 8.0 0.41968144132347446 1.0\n"
     ]
    },
    {
     "name": "stderr",
     "output_type": "stream",
     "text": [
      "\r",
      " 40%|█████████████████████████████████████████████████████████████████████▌                                                                                                        | 10/25 [00:43<01:02,  4.17s/it]"
     ]
    },
    {
     "name": "stdout",
     "output_type": "stream",
     "text": [
      "BestCad 9.0 0.4885336258549891 0.9943488836288452\n",
      "BestNuclei 9.0 0.5562184689149696 1.0\n"
     ]
    },
    {
     "name": "stderr",
     "output_type": "stream",
     "text": [
      "\r",
      " 44%|████████████████████████████████████████████████████████████████████████████▌                                                                                                 | 11/25 [00:47<00:57,  4.12s/it]"
     ]
    },
    {
     "name": "stdout",
     "output_type": "stream",
     "text": [
      "BestCad 10.0 0.511913293348202 0.994118869304657\n",
      "BestNuclei 10.0 0.560043781741834 1.0\n"
     ]
    },
    {
     "name": "stderr",
     "output_type": "stream",
     "text": [
      "\r",
      " 48%|███████████████████████████████████████████████████████████████████████████████████▌                                                                                          | 12/25 [00:51<00:53,  4.09s/it]"
     ]
    },
    {
     "name": "stdout",
     "output_type": "stream",
     "text": [
      "BestCad 11.0 0.5985932170756554 0.9956423044204712\n",
      "BestNuclei 11.0 0.6358917578314582 1.0\n"
     ]
    },
    {
     "name": "stderr",
     "output_type": "stream",
     "text": [
      "\r",
      " 52%|██████████████████████████████████████████████████████████████████████████████████████████▍                                                                                   | 13/25 [00:55<00:48,  4.06s/it]"
     ]
    },
    {
     "name": "stdout",
     "output_type": "stream",
     "text": [
      "BestCad 12.0 0.5784243608999532 0.9964641332626343\n",
      "BestNuclei 12.0 0.6501198622104518 1.0\n"
     ]
    },
    {
     "name": "stderr",
     "output_type": "stream",
     "text": [
      "\r",
      " 56%|█████████████████████████████████████████████████████████████████████████████████████████████████▍                                                                            | 14/25 [00:59<00:44,  4.02s/it]"
     ]
    },
    {
     "name": "stdout",
     "output_type": "stream",
     "text": [
      "BestCad 13.0 0.5060082342519309 0.9939086437225342\n",
      "BestNuclei 13.0 0.6503933765216696 1.0\n"
     ]
    },
    {
     "name": "stderr",
     "output_type": "stream",
     "text": [
      "\r",
      " 60%|████████████████████████████████████████████████████████████████████████████████████████████████████████▍                                                                     | 15/25 [01:03<00:39,  4.00s/it]"
     ]
    },
    {
     "name": "stdout",
     "output_type": "stream",
     "text": [
      "BestCad 14.0 0.6296697242222237 0.9943488836288452\n",
      "BestNuclei 14.0 0.7085648413834117 0.9999998211860657\n"
     ]
    },
    {
     "name": "stderr",
     "output_type": "stream",
     "text": [
      "\r",
      " 64%|███████████████████████████████████████████████████████████████████████████████████████████████████████████████▎                                                              | 16/25 [01:07<00:36,  4.01s/it]"
     ]
    },
    {
     "name": "stdout",
     "output_type": "stream",
     "text": [
      "BestCad 15.0 0.640138744199205 0.9952563047409058\n",
      "BestNuclei 15.0 0.7077049604180502 0.9999995231628418\n"
     ]
    },
    {
     "name": "stderr",
     "output_type": "stream",
     "text": [
      "\r",
      " 68%|██████████████████████████████████████████████████████████████████████████████████████████████████████████████████████▎                                                       | 17/25 [01:11<00:31,  3.98s/it]"
     ]
    },
    {
     "name": "stdout",
     "output_type": "stream",
     "text": [
      "BestCad 16.0 0.4907349011982265 0.9933896064758301\n",
      "BestNuclei 16.0 0.849308733235706 0.9999961256980896\n"
     ]
    },
    {
     "name": "stderr",
     "output_type": "stream",
     "text": [
      "\r",
      " 72%|█████████████████████████████████████████████████████████████████████████████████████████████████████████████████████████████▎                                                | 18/25 [01:15<00:28,  4.06s/it]"
     ]
    },
    {
     "name": "stdout",
     "output_type": "stream",
     "text": [
      "BestCad 17.0 0.6194358530531948 0.9941282272338867\n",
      "BestNuclei 17.0 0.7310949424998119 0.9999852180480957\n"
     ]
    },
    {
     "name": "stderr",
     "output_type": "stream",
     "text": [
      "\r",
      " 76%|████████████████████████████████████████████████████████████████████████████████████████████████████████████████████████████████████▏                                         | 19/25 [01:19<00:24,  4.03s/it]"
     ]
    },
    {
     "name": "stdout",
     "output_type": "stream",
     "text": [
      "BestCad 18.0 0.47871755496801244 0.9876108765602112\n",
      "BestNuclei 18.0 0.8569942983714017 0.9999532103538513\n"
     ]
    },
    {
     "name": "stderr",
     "output_type": "stream",
     "text": [
      "\r",
      " 80%|███████████████████████████████████████████████████████████████████████████████████████████████████████████████████████████████████████████▏                                  | 20/25 [01:22<00:19,  3.87s/it]"
     ]
    },
    {
     "name": "stdout",
     "output_type": "stream",
     "text": [
      "BestCad 19.0 0.49462778121232986 0.9869775772094727\n",
      "BestNuclei 19.0 0.7868479626334232 0.9999510049819946\n"
     ]
    },
    {
     "name": "stderr",
     "output_type": "stream",
     "text": [
      "\r",
      " 84%|██████████████████████████████████████████████████████████████████████████████████████████████████████████████████████████████████████████████████▏                           | 21/25 [01:26<00:15,  3.78s/it]"
     ]
    },
    {
     "name": "stdout",
     "output_type": "stream",
     "text": [
      "BestCad 20.0 0.3687909145475082 0.9779479503631592\n",
      "BestNuclei 20.0 0.9164121250311533 0.9999634027481079\n"
     ]
    },
    {
     "name": "stderr",
     "output_type": "stream",
     "text": [
      "\r",
      " 88%|█████████████████████████████████████████████████████████████████████████████████████████████████████████████████████████████████████████████████████████                     | 22/25 [01:30<00:11,  3.71s/it]"
     ]
    },
    {
     "name": "stdout",
     "output_type": "stream",
     "text": [
      "BestCad 21.0 0.5359811258756302 0.9910947680473328\n",
      "BestNuclei 21.0 0.8372605313425479 0.9999773502349854\n"
     ]
    },
    {
     "name": "stderr",
     "output_type": "stream",
     "text": [
      "100%|██████████████████████████████████████████████████████████████████████████████████████████████████████████████████████████████████████████████████████████████████████████████| 25/25 [01:33<00:00,  3.74s/it]"
     ]
    },
    {
     "name": "stdout",
     "output_type": "stream",
     "text": [
      "BestCad 22.0 0.6989210942675445 0.9973412156105042\n",
      "BestNuclei 22.0 0.4091550549589253 0.9997168779373169\n"
     ]
    },
    {
     "name": "stderr",
     "output_type": "stream",
     "text": [
      "\n"
     ]
    },
    {
     "name": "stdout",
     "output_type": "stream",
     "text": [
      "Detecting focus planes in 210629_Erk_Kate_His_mov1_w3CSU-QUAD-561_s7_t19\n"
     ]
    },
    {
     "name": "stderr",
     "output_type": "stream",
     "text": [
      "  4%|███████                                                                                                                                                                        | 1/25 [00:04<01:51,  4.65s/it]"
     ]
    },
    {
     "name": "stdout",
     "output_type": "stream",
     "text": [
      "BestCad 0.0 0.0002725518751560685 0.004755265545099974\n",
      "BestNuclei 0.0 3.4399287952301326e-07 7.132973678380949e-06\n"
     ]
    },
    {
     "name": "stderr",
     "output_type": "stream",
     "text": [
      "\r",
      "  8%|██████████████                                                                                                                                                                 | 2/25 [00:08<01:31,  3.98s/it]"
     ]
    },
    {
     "name": "stdout",
     "output_type": "stream",
     "text": [
      "BestCad 1.0 0.0005754983784888943 0.009695852175354958\n",
      "BestNuclei 1.0 2.41689870713496e-07 4.028514013043605e-06\n"
     ]
    },
    {
     "name": "stderr",
     "output_type": "stream",
     "text": [
      "\r",
      " 12%|█████████████████████                                                                                                                                                          | 3/25 [00:15<02:04,  5.65s/it]"
     ]
    },
    {
     "name": "stdout",
     "output_type": "stream",
     "text": [
      "BestCad 2.0 0.001295399171031022 0.015569519251585007\n",
      "BestNuclei 2.0 3.3671199738833277e-06 5.767869151895866e-05\n"
     ]
    },
    {
     "name": "stderr",
     "output_type": "stream",
     "text": [
      "\r",
      " 16%|████████████████████████████                                                                                                                                                   | 4/25 [00:19<01:42,  4.86s/it]"
     ]
    },
    {
     "name": "stdout",
     "output_type": "stream",
     "text": [
      "BestCad 3.0 0.0014613107394411816 0.008731259033083916\n",
      "BestNuclei 3.0 9.736753547613285e-06 0.0001742933818604797\n"
     ]
    },
    {
     "name": "stderr",
     "output_type": "stream",
     "text": [
      "\r",
      " 20%|███████████████████████████████████                                                                                                                                            | 5/25 [00:23<01:29,  4.45s/it]"
     ]
    },
    {
     "name": "stdout",
     "output_type": "stream",
     "text": [
      "BestCad 4.0 0.001320211583610533 0.018412567675113678\n",
      "BestNuclei 4.0 6.680620003345793e-05 0.001276869559660554\n"
     ]
    },
    {
     "name": "stderr",
     "output_type": "stream",
     "text": [
      "\r",
      " 24%|██████████████████████████████████████████                                                                                                                                     | 6/25 [00:26<01:20,  4.24s/it]"
     ]
    },
    {
     "name": "stdout",
     "output_type": "stream",
     "text": [
      "BestCad 5.0 0.0031007184791277446 0.028332490473985672\n",
      "BestNuclei 5.0 0.0022937238071061663 0.04502261057496071\n"
     ]
    },
    {
     "name": "stderr",
     "output_type": "stream",
     "text": [
      "\r",
      " 28%|█████████████████████████████████████████████████                                                                                                                              | 7/25 [00:31<01:14,  4.16s/it]"
     ]
    },
    {
     "name": "stdout",
     "output_type": "stream",
     "text": [
      "BestCad 6.0 0.03610841562318535 0.18701940774917603\n",
      "BestNuclei 6.0 0.16848504583386925 0.9966144561767578\n"
     ]
    },
    {
     "name": "stderr",
     "output_type": "stream",
     "text": [
      "\r",
      " 32%|████████████████████████████████████████████████████████                                                                                                                       | 8/25 [00:34<01:08,  4.04s/it]"
     ]
    },
    {
     "name": "stdout",
     "output_type": "stream",
     "text": [
      "BestCad 7.0 0.09171401749786344 0.33089882135391235\n",
      "BestNuclei 7.0 0.671733194887638 0.9999099969863892\n"
     ]
    },
    {
     "name": "stderr",
     "output_type": "stream",
     "text": [
      "\r",
      " 36%|███████████████████████████████████████████████████████████████                                                                                                                | 9/25 [00:38<01:03,  3.95s/it]"
     ]
    },
    {
     "name": "stdout",
     "output_type": "stream",
     "text": [
      "BestCad 8.0 0.0006728204217996909 0.008497343398630619\n",
      "BestNuclei 8.0 0.999917345046997 0.9999998211860657\n"
     ]
    },
    {
     "name": "stderr",
     "output_type": "stream",
     "text": [
      "\r",
      " 40%|█████████████████████████████████████████████████████████████████████▌                                                                                                        | 10/25 [00:42<00:58,  3.89s/it]"
     ]
    },
    {
     "name": "stdout",
     "output_type": "stream",
     "text": [
      "BestCad 9.0 1.928838131348698e-05 0.00012063076428603381\n",
      "BestNuclei 9.0 0.9999950851003329 1.0\n"
     ]
    },
    {
     "name": "stderr",
     "output_type": "stream",
     "text": [
      "\r",
      " 44%|████████████████████████████████████████████████████████████████████████████▌                                                                                                 | 11/25 [00:46<00:54,  3.88s/it]"
     ]
    },
    {
     "name": "stdout",
     "output_type": "stream",
     "text": [
      "BestCad 10.0 1.7015081502212643e-06 8.336048267665319e-06\n",
      "BestNuclei 10.0 0.9999997149343076 1.0\n"
     ]
    },
    {
     "name": "stderr",
     "output_type": "stream",
     "text": [
      "\r",
      " 48%|███████████████████████████████████████████████████████████████████████████████████▌                                                                                          | 12/25 [00:50<00:51,  3.94s/it]"
     ]
    },
    {
     "name": "stdout",
     "output_type": "stream",
     "text": [
      "BestCad 11.0 1.713241941558863e-05 0.00013042839418631047\n",
      "BestNuclei 11.0 0.9999975562095642 0.9999998807907104\n"
     ]
    },
    {
     "name": "stderr",
     "output_type": "stream",
     "text": [
      "\r",
      " 52%|██████████████████████████████████████████████████████████████████████████████████████████▍                                                                                   | 13/25 [00:54<00:47,  3.98s/it]"
     ]
    },
    {
     "name": "stdout",
     "output_type": "stream",
     "text": [
      "BestCad 12.0 0.00013008613474084995 0.0003726352588273585\n",
      "BestNuclei 12.0 0.9999718951142352 0.9999990463256836\n"
     ]
    },
    {
     "name": "stderr",
     "output_type": "stream",
     "text": [
      "\r",
      " 56%|█████████████████████████████████████████████████████████████████████████████████████████████████▍                                                                            | 14/25 [00:58<00:43,  4.00s/it]"
     ]
    },
    {
     "name": "stdout",
     "output_type": "stream",
     "text": [
      "BestCad 13.0 0.0003200884742303363 0.0009535315912216902\n",
      "BestNuclei 13.0 0.999903050561746 0.999997079372406\n"
     ]
    },
    {
     "name": "stderr",
     "output_type": "stream",
     "text": [
      "\r",
      " 60%|████████████████████████████████████████████████████████████████████████████████████████████████████████▍                                                                     | 15/25 [01:02<00:39,  3.98s/it]"
     ]
    },
    {
     "name": "stdout",
     "output_type": "stream",
     "text": [
      "BestCad 14.0 0.000540011014090851 0.0015152422711253166\n",
      "BestNuclei 14.0 0.9998307347297668 0.9999983906745911\n"
     ]
    },
    {
     "name": "stderr",
     "output_type": "stream",
     "text": [
      "\r",
      " 64%|███████████████████████████████████████████████████████████████████████████████████████████████████████████████▎                                                              | 16/25 [01:06<00:35,  3.95s/it]"
     ]
    },
    {
     "name": "stdout",
     "output_type": "stream",
     "text": [
      "BestCad 15.0 0.0008166884444653988 0.0020569118205457926\n",
      "BestNuclei 15.0 0.9997410631179809 0.9999990463256836\n"
     ]
    },
    {
     "name": "stderr",
     "output_type": "stream",
     "text": [
      "\r",
      " 68%|██████████████████████████████████████████████████████████████████████████████████████████████████████████████████████▎                                                       | 17/25 [01:10<00:33,  4.17s/it]"
     ]
    },
    {
     "name": "stdout",
     "output_type": "stream",
     "text": [
      "BestCad 16.0 0.0007660697648624101 0.0020216067787259817\n",
      "BestNuclei 16.0 0.999774606331535 0.9999997615814209\n"
     ]
    },
    {
     "name": "stderr",
     "output_type": "stream",
     "text": [
      "\r",
      " 72%|█████████████████████████████████████████████████████████████████████████████████████████████████████████████████████████████▎                                                | 18/25 [01:14<00:28,  4.13s/it]"
     ]
    },
    {
     "name": "stdout",
     "output_type": "stream",
     "text": [
      "BestCad 17.0 0.0007926467224024236 0.003066045232117176\n",
      "BestNuclei 17.0 0.9997529362638792 0.9999998807907104\n"
     ]
    },
    {
     "name": "stderr",
     "output_type": "stream",
     "text": [
      "\r",
      " 76%|████████████████████████████████████████████████████████████████████████████████████████████████████████████████████████████████████▏                                         | 19/25 [01:18<00:24,  4.08s/it]"
     ]
    },
    {
     "name": "stdout",
     "output_type": "stream",
     "text": [
      "BestCad 18.0 0.0008468138874741271 0.004090465605258942\n",
      "BestNuclei 18.0 0.9998015332221984 1.0\n"
     ]
    },
    {
     "name": "stderr",
     "output_type": "stream",
     "text": [
      "\r",
      " 80%|███████████████████████████████████████████████████████████████████████████████████████████████████████████████████████████████████████████▏                                  | 20/25 [01:22<00:20,  4.09s/it]"
     ]
    },
    {
     "name": "stdout",
     "output_type": "stream",
     "text": [
      "BestCad 19.0 0.0008674345388918972 0.004527325741946697\n",
      "BestNuclei 19.0 0.9997123869565817 1.0\n"
     ]
    },
    {
     "name": "stderr",
     "output_type": "stream",
     "text": [
      "\r",
      " 84%|██████████████████████████████████████████████████████████████████████████████████████████████████████████████████████████████████████████████████▏                           | 21/25 [01:27<00:16,  4.21s/it]"
     ]
    },
    {
     "name": "stdout",
     "output_type": "stream",
     "text": [
      "BestCad 20.0 0.0007026441235211678 0.0023579823318868876\n",
      "BestNuclei 20.0 0.9998237466812134 1.0\n"
     ]
    },
    {
     "name": "stderr",
     "output_type": "stream",
     "text": [
      "\r",
      " 88%|█████████████████████████████████████████████████████████████████████████████████████████████████████████████████████████████████████████████████████████                     | 22/25 [01:31<00:12,  4.10s/it]"
     ]
    },
    {
     "name": "stdout",
     "output_type": "stream",
     "text": [
      "BestCad 21.0 0.0005185969395097345 0.0014620563015341759\n",
      "BestNuclei 21.0 0.9998312401771545 1.0\n"
     ]
    },
    {
     "name": "stderr",
     "output_type": "stream",
     "text": [
      "100%|██████████████████████████████████████████████████████████████████████████████████████████████████████████████████████████████████████████████████████████████████████████████| 25/25 [01:35<00:00,  3.81s/it]"
     ]
    },
    {
     "name": "stdout",
     "output_type": "stream",
     "text": [
      "BestCad 22.0 0.00040033821183580744 0.0009993090061470866\n",
      "BestNuclei 22.0 0.9998965978622436 1.0\n"
     ]
    },
    {
     "name": "stderr",
     "output_type": "stream",
     "text": [
      "\n"
     ]
    },
    {
     "name": "stdout",
     "output_type": "stream",
     "text": [
      "Detecting focus planes in 210629_Erk_Kate_His_mov1_w3CSU-QUAD-561_s11_t22\n"
     ]
    },
    {
     "name": "stderr",
     "output_type": "stream",
     "text": [
      "  4%|███████                                                                                                                                                                        | 1/25 [00:05<02:07,  5.29s/it]"
     ]
    },
    {
     "name": "stdout",
     "output_type": "stream",
     "text": [
      "BestCad 0.0 0.00010269017910573553 0.0013881035847589374\n",
      "BestNuclei 0.0 9.990357594663602e-09 1.4615754651003954e-07\n"
     ]
    },
    {
     "name": "stderr",
     "output_type": "stream",
     "text": [
      "\r",
      "  8%|██████████████                                                                                                                                                                 | 2/25 [00:09<01:45,  4.60s/it]"
     ]
    },
    {
     "name": "stdout",
     "output_type": "stream",
     "text": [
      "BestCad 1.0 6.32996465297776e-05 0.0008630227530375123\n",
      "BestNuclei 1.0 1.3438077457088652e-08 1.3506532070550747e-07\n"
     ]
    },
    {
     "name": "stderr",
     "output_type": "stream",
     "text": [
      "\r",
      " 12%|█████████████████████                                                                                                                                                          | 3/25 [00:13<01:38,  4.46s/it]"
     ]
    },
    {
     "name": "stdout",
     "output_type": "stream",
     "text": [
      "BestCad 2.0 0.00039191320172077005 0.0067320317029953\n",
      "BestNuclei 2.0 2.2198890762693192e-08 2.468574962222192e-07\n"
     ]
    },
    {
     "name": "stderr",
     "output_type": "stream",
     "text": [
      "\r",
      " 16%|████████████████████████████                                                                                                                                                   | 4/25 [00:18<01:32,  4.40s/it]"
     ]
    },
    {
     "name": "stdout",
     "output_type": "stream",
     "text": [
      "BestCad 3.0 7.734245908888242e-05 0.000882993801496923\n",
      "BestNuclei 3.0 7.1770191633221655e-09 8.986328481341843e-08\n"
     ]
    },
    {
     "name": "stderr",
     "output_type": "stream",
     "text": [
      "\r",
      " 20%|███████████████████████████████████                                                                                                                                            | 5/25 [00:22<01:27,  4.38s/it]"
     ]
    },
    {
     "name": "stdout",
     "output_type": "stream",
     "text": [
      "BestCad 4.0 0.00930727620063619 0.11906785517930984\n",
      "BestNuclei 4.0 7.321792030953607e-08 8.248105132224737e-07\n"
     ]
    },
    {
     "name": "stderr",
     "output_type": "stream",
     "text": [
      "\r",
      " 24%|██████████████████████████████████████████                                                                                                                                     | 6/25 [00:27<01:25,  4.48s/it]"
     ]
    },
    {
     "name": "stdout",
     "output_type": "stream",
     "text": [
      "BestCad 5.0 0.05893114697587358 0.6982864141464233\n",
      "BestNuclei 5.0 2.454432969738426e-06 2.1018833649577573e-05\n"
     ]
    },
    {
     "name": "stderr",
     "output_type": "stream",
     "text": [
      "\r",
      " 28%|█████████████████████████████████████████████████                                                                                                                              | 7/25 [00:31<01:20,  4.47s/it]"
     ]
    },
    {
     "name": "stdout",
     "output_type": "stream",
     "text": [
      "BestCad 6.0 0.19160082295488595 0.9958057999610901\n",
      "BestNuclei 6.0 0.00024423338367864837 0.0025285487063229084\n"
     ]
    },
    {
     "name": "stderr",
     "output_type": "stream",
     "text": [
      "\r",
      " 32%|████████████████████████████████████████████████████████                                                                                                                       | 8/25 [00:36<01:16,  4.49s/it]"
     ]
    },
    {
     "name": "stdout",
     "output_type": "stream",
     "text": [
      "BestCad 7.0 0.2875400108564645 0.9958705902099609\n",
      "BestNuclei 7.0 0.10027783634870957 0.6013754606246948\n"
     ]
    },
    {
     "name": "stderr",
     "output_type": "stream",
     "text": [
      "\r",
      " 36%|███████████████████████████████████████████████████████████████                                                                                                                | 9/25 [00:40<01:10,  4.40s/it]"
     ]
    },
    {
     "name": "stdout",
     "output_type": "stream",
     "text": [
      "BestCad 8.0 0.19153873876414515 0.8025540113449097\n",
      "BestNuclei 8.0 0.8572999003032843 0.9955428838729858\n"
     ]
    },
    {
     "name": "stderr",
     "output_type": "stream",
     "text": [
      "\r",
      " 40%|█████████████████████████████████████████████████████████████████████▌                                                                                                        | 10/25 [00:44<01:05,  4.35s/it]"
     ]
    },
    {
     "name": "stdout",
     "output_type": "stream",
     "text": [
      "BestCad 9.0 0.15395124872093616 0.7617352604866028\n",
      "BestNuclei 9.0 0.8615975509519163 0.9971696138381958\n"
     ]
    },
    {
     "name": "stderr",
     "output_type": "stream",
     "text": [
      "\r",
      " 44%|████████████████████████████████████████████████████████████████████████████▌                                                                                                 | 11/25 [00:48<01:00,  4.31s/it]"
     ]
    },
    {
     "name": "stdout",
     "output_type": "stream",
     "text": [
      "BestCad 10.0 0.2238579678038756 0.9043616652488708\n",
      "BestNuclei 10.0 0.8770089683433374 0.9989736080169678\n"
     ]
    },
    {
     "name": "stderr",
     "output_type": "stream",
     "text": [
      "\r",
      " 48%|███████████████████████████████████████████████████████████████████████████████████▌                                                                                          | 12/25 [00:52<00:55,  4.28s/it]"
     ]
    },
    {
     "name": "stdout",
     "output_type": "stream",
     "text": [
      "BestCad 11.0 0.3394542811438441 0.9776462316513062\n",
      "BestNuclei 11.0 0.6879993866508206 0.999826192855835\n"
     ]
    },
    {
     "name": "stderr",
     "output_type": "stream",
     "text": [
      "\r",
      " 52%|██████████████████████████████████████████████████████████████████████████████████████████▍                                                                                   | 13/25 [00:56<00:50,  4.20s/it]"
     ]
    },
    {
     "name": "stdout",
     "output_type": "stream",
     "text": [
      "BestCad 12.0 0.1304284836165607 0.7915301322937012\n",
      "BestNuclei 12.0 0.9811489269846961 0.9999687075614929\n"
     ]
    },
    {
     "name": "stderr",
     "output_type": "stream",
     "text": [
      "\r",
      " 56%|█████████████████████████████████████████████████████████████████████████████████████████████████▍                                                                            | 14/25 [01:00<00:45,  4.15s/it]"
     ]
    },
    {
     "name": "stdout",
     "output_type": "stream",
     "text": [
      "BestCad 13.0 0.01810074915313938 0.20345288515090942\n",
      "BestNuclei 13.0 0.99790358543396 0.9999918341636658\n"
     ]
    },
    {
     "name": "stderr",
     "output_type": "stream",
     "text": [
      "\r",
      " 60%|████████████████████████████████████████████████████████████████████████████████████████████████████████▍                                                                     | 15/25 [01:04<00:41,  4.11s/it]"
     ]
    },
    {
     "name": "stdout",
     "output_type": "stream",
     "text": [
      "BestCad 14.0 0.004383674129878107 0.04695407673716545\n",
      "BestNuclei 14.0 0.9996431171894073 0.9999980926513672\n"
     ]
    },
    {
     "name": "stderr",
     "output_type": "stream",
     "text": [
      "\r",
      " 64%|███████████████████████████████████████████████████████████████████████████████████████████████████████████████▎                                                              | 16/25 [01:09<00:36,  4.10s/it]"
     ]
    },
    {
     "name": "stdout",
     "output_type": "stream",
     "text": [
      "BestCad 15.0 0.0012121822609597903 0.006165521219372749\n",
      "BestNuclei 15.0 0.9998655418554941 0.9999995231628418\n"
     ]
    },
    {
     "name": "stderr",
     "output_type": "stream",
     "text": [
      "\r",
      " 68%|██████████████████████████████████████████████████████████████████████████████████████████████████████████████████████▎                                                       | 17/25 [01:12<00:32,  4.05s/it]"
     ]
    },
    {
     "name": "stdout",
     "output_type": "stream",
     "text": [
      "BestCad 16.0 0.0015380053268422165 0.006967874243855476\n",
      "BestNuclei 16.0 0.9998742290165114 0.9999996423721313\n"
     ]
    },
    {
     "name": "stderr",
     "output_type": "stream",
     "text": [
      "\r",
      " 72%|█████████████████████████████████████████████████████████████████████████████████████████████████████████████████████████████▎                                                | 18/25 [01:16<00:28,  4.05s/it]"
     ]
    },
    {
     "name": "stdout",
     "output_type": "stream",
     "text": [
      "BestCad 17.0 0.0022424246284493206 0.009973904117941856\n",
      "BestNuclei 17.0 0.9997393960754076 0.9999997615814209\n"
     ]
    },
    {
     "name": "stderr",
     "output_type": "stream",
     "text": [
      "\r",
      " 76%|████████████████████████████████████████████████████████████████████████████████████████████████████████████████████████████████████▏                                         | 19/25 [01:20<00:24,  4.03s/it]"
     ]
    },
    {
     "name": "stdout",
     "output_type": "stream",
     "text": [
      "BestCad 18.0 0.0033992530141923843 0.012288043275475502\n",
      "BestNuclei 18.0 0.9995903038978576 0.9999975562095642\n"
     ]
    },
    {
     "name": "stderr",
     "output_type": "stream",
     "text": [
      "\r",
      " 80%|███████████████████████████████████████████████████████████████████████████████████████████████████████████████████████████████████████████▏                                  | 20/25 [01:24<00:20,  4.02s/it]"
     ]
    },
    {
     "name": "stdout",
     "output_type": "stream",
     "text": [
      "BestCad 19.0 0.004581104366533349 0.018660781905055046\n",
      "BestNuclei 19.0 0.9995953862865766 0.9999971389770508\n"
     ]
    },
    {
     "name": "stderr",
     "output_type": "stream",
     "text": [
      "\r",
      " 84%|██████████████████████████████████████████████████████████████████████████████████████████████████████████████████████████████████████████████████▏                           | 21/25 [01:29<00:16,  4.10s/it]"
     ]
    },
    {
     "name": "stdout",
     "output_type": "stream",
     "text": [
      "BestCad 20.0 0.0001231714522082652 0.0006916745333001018\n",
      "BestNuclei 20.0 0.9999886362448983 0.999997615814209\n"
     ]
    },
    {
     "name": "stderr",
     "output_type": "stream",
     "text": [
      "\r",
      " 88%|█████████████████████████████████████████████████████████████████████████████████████████████████████████████████████████████████████████████████████████                     | 22/25 [01:33<00:12,  4.20s/it]"
     ]
    },
    {
     "name": "stdout",
     "output_type": "stream",
     "text": [
      "BestCad 21.0 4.3363833934032904e-05 0.0004057889454998076\n",
      "BestNuclei 21.0 0.999995698928833 0.9999995231628418\n"
     ]
    },
    {
     "name": "stderr",
     "output_type": "stream",
     "text": [
      "100%|██████████████████████████████████████████████████████████████████████████████████████████████████████████████████████████████████████████████████████████████████████████████| 25/25 [01:38<00:00,  3.92s/it]"
     ]
    },
    {
     "name": "stdout",
     "output_type": "stream",
     "text": [
      "BestCad 22.0 1.2217256890716785e-05 0.00012684837565757334\n",
      "BestNuclei 22.0 0.9999990889004299 0.9999998807907104\n"
     ]
    },
    {
     "name": "stderr",
     "output_type": "stream",
     "text": [
      "\n"
     ]
    },
    {
     "name": "stdout",
     "output_type": "stream",
     "text": [
      "Detecting focus planes in 210629_Erk_Kate_His_mov1_w1CSU-QUAD-561_s5_t19\n"
     ]
    },
    {
     "name": "stderr",
     "output_type": "stream",
     "text": [
      "  4%|███████                                                                                                                                                                        | 1/25 [00:09<03:37,  9.05s/it]"
     ]
    },
    {
     "name": "stdout",
     "output_type": "stream",
     "text": [
      "BestCad 0.0 0.08992573830792458 0.9999574422836304\n",
      "BestNuclei 0.0 1.5839319489300835e-05 0.0002950271009467542\n"
     ]
    },
    {
     "name": "stderr",
     "output_type": "stream",
     "text": [
      "\r",
      "  8%|██████████████                                                                                                                                                                 | 2/25 [00:12<02:13,  5.80s/it]"
     ]
    },
    {
     "name": "stdout",
     "output_type": "stream",
     "text": [
      "BestCad 1.0 0.1358580279408638 0.999998927116394\n",
      "BestNuclei 1.0 6.434520602978389e-05 0.0009786247974261642\n"
     ]
    },
    {
     "name": "stderr",
     "output_type": "stream",
     "text": [
      "\r",
      " 12%|█████████████████████                                                                                                                                                          | 3/25 [00:16<01:47,  4.87s/it]"
     ]
    },
    {
     "name": "stdout",
     "output_type": "stream",
     "text": [
      "BestCad 2.0 0.190092718156692 0.9999998807907104\n",
      "BestNuclei 2.0 0.004318555875001304 0.09002914279699326\n"
     ]
    },
    {
     "name": "stderr",
     "output_type": "stream",
     "text": [
      "\r",
      " 16%|████████████████████████████                                                                                                                                                   | 4/25 [00:20<01:33,  4.44s/it]"
     ]
    },
    {
     "name": "stdout",
     "output_type": "stream",
     "text": [
      "BestCad 3.0 0.2420005924637567 0.9999929666519165\n",
      "BestNuclei 3.0 0.03758424671714505 0.855868935585022\n"
     ]
    },
    {
     "name": "stderr",
     "output_type": "stream",
     "text": [
      "\r",
      " 20%|███████████████████████████████████                                                                                                                                            | 5/25 [00:23<01:23,  4.16s/it]"
     ]
    },
    {
     "name": "stdout",
     "output_type": "stream",
     "text": [
      "BestCad 4.0 0.3137909895024114 0.9999133348464966\n",
      "BestNuclei 4.0 0.05378133582285155 0.9994415640830994\n"
     ]
    },
    {
     "name": "stderr",
     "output_type": "stream",
     "text": [
      "\r",
      " 24%|██████████████████████████████████████████                                                                                                                                     | 6/25 [00:27<01:17,  4.07s/it]"
     ]
    },
    {
     "name": "stdout",
     "output_type": "stream",
     "text": [
      "BestCad 5.0 0.46390361003189656 0.9999562501907349\n",
      "BestNuclei 5.0 0.1009552980331626 0.9999489784240723\n"
     ]
    },
    {
     "name": "stderr",
     "output_type": "stream",
     "text": [
      "\r",
      " 28%|█████████████████████████████████████████████████                                                                                                                              | 7/25 [00:31<01:11,  3.98s/it]"
     ]
    },
    {
     "name": "stdout",
     "output_type": "stream",
     "text": [
      "BestCad 6.0 0.6521996343913286 0.9999021291732788\n",
      "BestNuclei 6.0 0.29077120805517065 0.9999785423278809\n"
     ]
    },
    {
     "name": "stderr",
     "output_type": "stream",
     "text": [
      "\r",
      " 32%|████████████████████████████████████████████████████████                                                                                                                       | 8/25 [00:35<01:06,  3.90s/it]"
     ]
    },
    {
     "name": "stdout",
     "output_type": "stream",
     "text": [
      "BestCad 7.0 0.5011519692615485 0.9975811243057251\n",
      "BestNuclei 7.0 0.8189441970101109 0.9999858140945435\n"
     ]
    },
    {
     "name": "stderr",
     "output_type": "stream",
     "text": [
      "\r",
      " 36%|███████████████████████████████████████████████████████████████                                                                                                                | 9/25 [00:39<01:04,  4.06s/it]"
     ]
    },
    {
     "name": "stdout",
     "output_type": "stream",
     "text": [
      "BestCad 8.0 0.0005047759338555371 0.002938357647508383\n",
      "BestNuclei 8.0 0.9998809764018426 0.9999977946281433\n"
     ]
    },
    {
     "name": "stderr",
     "output_type": "stream",
     "text": [
      "\r",
      " 40%|█████████████████████████████████████████████████████████████████████▌                                                                                                        | 10/25 [00:44<01:02,  4.19s/it]"
     ]
    },
    {
     "name": "stdout",
     "output_type": "stream",
     "text": [
      "BestCad 9.0 5.24282519823568e-06 1.730434269120451e-05\n",
      "BestNuclei 9.0 0.9999990637103716 0.9999999403953552\n"
     ]
    },
    {
     "name": "stderr",
     "output_type": "stream",
     "text": [
      "\r",
      " 44%|████████████████████████████████████████████████████████████████████████████▌                                                                                                 | 11/25 [00:48<01:00,  4.32s/it]"
     ]
    },
    {
     "name": "stdout",
     "output_type": "stream",
     "text": [
      "BestCad 10.0 5.551312387552798e-06 2.513181243557483e-05\n",
      "BestNuclei 10.0 0.9999990955643032 0.9999999403953552\n"
     ]
    },
    {
     "name": "stderr",
     "output_type": "stream",
     "text": [
      "\r",
      " 48%|███████████████████████████████████████████████████████████████████████████████████▌                                                                                          | 12/25 [00:53<00:56,  4.38s/it]"
     ]
    },
    {
     "name": "stdout",
     "output_type": "stream",
     "text": [
      "BestCad 11.0 7.161065990534222e-06 3.493864642223343e-05\n",
      "BestNuclei 11.0 0.9999988627433777 0.9999999403953552\n"
     ]
    },
    {
     "name": "stderr",
     "output_type": "stream",
     "text": [
      "\r",
      " 52%|██████████████████████████████████████████████████████████████████████████████████████████▍                                                                                   | 13/25 [00:57<00:52,  4.41s/it]"
     ]
    },
    {
     "name": "stdout",
     "output_type": "stream",
     "text": [
      "BestCad 12.0 7.40248866402628e-06 3.983716305810958e-05\n",
      "BestNuclei 12.0 0.9999987293373455 1.0\n"
     ]
    },
    {
     "name": "stderr",
     "output_type": "stream",
     "text": [
      "\r",
      " 56%|█████████████████████████████████████████████████████████████████████████████████████████████████▍                                                                            | 14/25 [01:02<00:48,  4.42s/it]"
     ]
    },
    {
     "name": "stdout",
     "output_type": "stream",
     "text": [
      "BestCad 13.0 3.30839899561397e-05 0.0001327061909250915\n",
      "BestNuclei 13.0 0.9999956274032593 0.9999998807907104\n"
     ]
    },
    {
     "name": "stderr",
     "output_type": "stream",
     "text": [
      "\r",
      " 60%|████████████████████████████████████████████████████████████████████████████████████████████████████████▍                                                                     | 15/25 [01:06<00:44,  4.45s/it]"
     ]
    },
    {
     "name": "stdout",
     "output_type": "stream",
     "text": [
      "BestCad 14.0 3.788228214034462e-05 0.0001236286188941449\n",
      "BestNuclei 14.0 0.9999960246293441 0.9999998807907104\n"
     ]
    },
    {
     "name": "stderr",
     "output_type": "stream",
     "text": [
      "\r",
      " 64%|███████████████████████████████████████████████████████████████████████████████████████████████████████████████▎                                                              | 16/25 [01:11<00:40,  4.47s/it]"
     ]
    },
    {
     "name": "stdout",
     "output_type": "stream",
     "text": [
      "BestCad 15.0 4.454851720133181e-05 0.00018374662613496184\n",
      "BestNuclei 15.0 0.9999934315681458 0.9999998807907104\n"
     ]
    },
    {
     "name": "stderr",
     "output_type": "stream",
     "text": [
      "\r",
      " 68%|██████████████████████████████████████████████████████████████████████████████████████████████████████████████████████▎                                                       | 17/25 [01:15<00:35,  4.48s/it]"
     ]
    },
    {
     "name": "stdout",
     "output_type": "stream",
     "text": [
      "BestCad 16.0 0.0005554262414599569 0.002293078228831291\n",
      "BestNuclei 16.0 0.999935065706571 0.9999967813491821\n"
     ]
    },
    {
     "name": "stderr",
     "output_type": "stream",
     "text": [
      "\r",
      " 72%|█████████████████████████████████████████████████████████████████████████████████████████████████████████████████████████████▎                                                | 18/25 [01:19<00:30,  4.40s/it]"
     ]
    },
    {
     "name": "stdout",
     "output_type": "stream",
     "text": [
      "BestCad 17.0 0.007441226749822659 0.05481641739606857\n",
      "BestNuclei 17.0 0.9996910339052026 0.9999688863754272\n",
      "BestCad 18.0 0.0004399239281026114 0.0029709383379667997\n",
      "BestNuclei 18.0 0.999937252998352 0.9999982118606567\n"
     ]
    },
    {
     "name": "stderr",
     "output_type": "stream",
     "text": [
      " 80%|███████████████████████████████████████████████████████████████████████████████████████████████████████████████████████████████████████████▏                                  | 20/25 [01:28<00:22,  4.46s/it]"
     ]
    },
    {
     "name": "stdout",
     "output_type": "stream",
     "text": [
      "BestCad 19.0 1.9917042726030392e-05 0.00018513514078222215\n",
      "BestNuclei 19.0 0.9999974071979523 0.9999998807907104\n"
     ]
    },
    {
     "name": "stderr",
     "output_type": "stream",
     "text": [
      "\r",
      " 84%|██████████████████████████████████████████████████████████████████████████████████████████████████████████████████████████████████████████████████▏                           | 21/25 [01:33<00:17,  4.49s/it]"
     ]
    },
    {
     "name": "stdout",
     "output_type": "stream",
     "text": [
      "BestCad 20.0 3.0568076722788233e-06 1.494737352913944e-05\n",
      "BestNuclei 20.0 0.9999993260090168 1.0\n"
     ]
    },
    {
     "name": "stderr",
     "output_type": "stream",
     "text": [
      "\r",
      " 88%|█████████████████████████████████████████████████████████████████████████████████████████████████████████████████████████████████████████████████████████                     | 22/25 [01:38<00:13,  4.53s/it]"
     ]
    },
    {
     "name": "stdout",
     "output_type": "stream",
     "text": [
      "BestCad 21.0 6.773708102732949e-06 5.36890875082463e-05\n",
      "BestNuclei 21.0 0.999999466267499 0.9999998807907104\n"
     ]
    },
    {
     "name": "stderr",
     "output_type": "stream",
     "text": [
      "100%|██████████████████████████████████████████████████████████████████████████████████████████████████████████████████████████████████████████████████████████████████████████████| 25/25 [01:42<00:00,  4.11s/it]"
     ]
    },
    {
     "name": "stdout",
     "output_type": "stream",
     "text": [
      "BestCad 22.0 5.738899173593381e-05 0.0003192779258824885\n",
      "BestNuclei 22.0 0.999995391477238 0.9999994039535522\n"
     ]
    },
    {
     "name": "stderr",
     "output_type": "stream",
     "text": [
      "\n"
     ]
    },
    {
     "name": "stdout",
     "output_type": "stream",
     "text": [
      "Detecting focus planes in 210629_Erk_Kate_His_mov1_w3CSU-QUAD-561_s5_t25\n"
     ]
    },
    {
     "name": "stderr",
     "output_type": "stream",
     "text": [
      "  4%|███████                                                                                                                                                                        | 1/25 [00:04<01:47,  4.48s/it]"
     ]
    },
    {
     "name": "stdout",
     "output_type": "stream",
     "text": [
      "BestCad 0.0 6.633624036025833e-06 2.6598689146339893e-05\n",
      "BestNuclei 0.0 5.848140276967027e-10 1.912792146896436e-09\n"
     ]
    },
    {
     "name": "stderr",
     "output_type": "stream",
     "text": [
      "\r",
      "  8%|██████████████                                                                                                                                                                 | 2/25 [00:07<01:25,  3.73s/it]"
     ]
    },
    {
     "name": "stdout",
     "output_type": "stream",
     "text": [
      "BestCad 1.0 4.2002573762470336e-06 1.7082293197745457e-05\n",
      "BestNuclei 1.0 2.8275415960010706e-09 9.560207736569737e-09\n"
     ]
    },
    {
     "name": "stderr",
     "output_type": "stream",
     "text": [
      "\r",
      " 12%|█████████████████████                                                                                                                                                          | 3/25 [00:11<01:18,  3.59s/it]"
     ]
    },
    {
     "name": "stdout",
     "output_type": "stream",
     "text": [
      "BestCad 2.0 4.64456342846071e-06 3.3945580071303993e-05\n",
      "BestNuclei 2.0 1.0022957252359132e-09 6.717658429522544e-09\n"
     ]
    },
    {
     "name": "stderr",
     "output_type": "stream",
     "text": [
      "\r",
      " 16%|████████████████████████████                                                                                                                                                   | 4/25 [00:14<01:12,  3.46s/it]"
     ]
    },
    {
     "name": "stdout",
     "output_type": "stream",
     "text": [
      "BestCad 3.0 4.7623977309285696e-06 2.2572419766220264e-05\n",
      "BestNuclei 3.0 1.3397865496957782e-09 6.8453087642694754e-09\n"
     ]
    },
    {
     "name": "stderr",
     "output_type": "stream",
     "text": [
      "\r",
      " 20%|███████████████████████████████████                                                                                                                                            | 5/25 [00:17<01:08,  3.45s/it]"
     ]
    },
    {
     "name": "stdout",
     "output_type": "stream",
     "text": [
      "BestCad 4.0 2.7495983419267844e-05 0.00029956133221276104\n",
      "BestNuclei 4.0 4.2803579002471045e-09 4.5028649253708863e-08\n"
     ]
    },
    {
     "name": "stderr",
     "output_type": "stream",
     "text": [
      "\r",
      " 24%|██████████████████████████████████████████                                                                                                                                     | 6/25 [00:21<01:05,  3.46s/it]"
     ]
    },
    {
     "name": "stdout",
     "output_type": "stream",
     "text": [
      "BestCad 5.0 3.545476133532637e-05 0.0004400104226078838\n",
      "BestNuclei 5.0 2.9909516210957497e-09 1.5359262306446908e-08\n"
     ]
    },
    {
     "name": "stderr",
     "output_type": "stream",
     "text": [
      "\r",
      " 28%|█████████████████████████████████████████████████                                                                                                                              | 7/25 [00:24<01:03,  3.52s/it]"
     ]
    },
    {
     "name": "stdout",
     "output_type": "stream",
     "text": [
      "BestCad 6.0 0.0001061123033258881 0.001596679212525487\n",
      "BestNuclei 6.0 2.083785414391539e-08 2.3510139612881176e-07\n"
     ]
    },
    {
     "name": "stderr",
     "output_type": "stream",
     "text": [
      "\r",
      " 32%|████████████████████████████████████████████████████████                                                                                                                       | 8/25 [00:28<01:01,  3.60s/it]"
     ]
    },
    {
     "name": "stdout",
     "output_type": "stream",
     "text": [
      "BestCad 7.0 0.013809155639551369 0.29805988073349\n",
      "BestNuclei 7.0 2.5567859758208358e-06 4.773445471073501e-05\n"
     ]
    },
    {
     "name": "stderr",
     "output_type": "stream",
     "text": [
      "\r",
      " 36%|███████████████████████████████████████████████████████████████                                                                                                                | 9/25 [00:32<00:57,  3.62s/it]"
     ]
    },
    {
     "name": "stdout",
     "output_type": "stream",
     "text": [
      "BestCad 8.0 0.04872170623772056 0.9997274279594421\n",
      "BestNuclei 8.0 4.1385304600797064e-05 0.0008953680517151952\n"
     ]
    },
    {
     "name": "stderr",
     "output_type": "stream",
     "text": [
      "\r",
      " 40%|█████████████████████████████████████████████████████████████████████▌                                                                                                        | 10/25 [00:36<00:54,  3.66s/it]"
     ]
    },
    {
     "name": "stdout",
     "output_type": "stream",
     "text": [
      "BestCad 9.0 0.12899111674860944 0.9999987483024597\n",
      "BestNuclei 9.0 0.0001578394511984863 0.003314361674711108\n"
     ]
    },
    {
     "name": "stderr",
     "output_type": "stream",
     "text": [
      "\r",
      " 44%|████████████████████████████████████████████████████████████████████████████▌                                                                                                 | 11/25 [00:40<00:53,  3.80s/it]"
     ]
    },
    {
     "name": "stdout",
     "output_type": "stream",
     "text": [
      "BestCad 10.0 0.14931964044130155 0.9999994039535522\n",
      "BestNuclei 10.0 0.00036249530113671653 0.007991869002580643\n"
     ]
    },
    {
     "name": "stderr",
     "output_type": "stream",
     "text": [
      "\r",
      " 48%|███████████████████████████████████████████████████████████████████████████████████▌                                                                                          | 12/25 [00:44<00:49,  3.80s/it]"
     ]
    },
    {
     "name": "stdout",
     "output_type": "stream",
     "text": [
      "BestCad 11.0 0.22707718458277462 0.9999998211860657\n",
      "BestNuclei 11.0 0.021240761506761005 0.5301572680473328\n"
     ]
    },
    {
     "name": "stderr",
     "output_type": "stream",
     "text": [
      "\r",
      " 52%|██████████████████████████████████████████████████████████████████████████████████████████▍                                                                                   | 13/25 [00:47<00:45,  3.79s/it]"
     ]
    },
    {
     "name": "stdout",
     "output_type": "stream",
     "text": [
      "BestCad 12.0 0.2951898410779904 0.9999962449073792\n",
      "BestNuclei 12.0 0.03936097341096568 0.9715056419372559\n"
     ]
    },
    {
     "name": "stderr",
     "output_type": "stream",
     "text": [
      "\r",
      " 56%|█████████████████████████████████████████████████████████████████████████████████████████████████▍                                                                            | 14/25 [00:51<00:42,  3.86s/it]"
     ]
    },
    {
     "name": "stdout",
     "output_type": "stream",
     "text": [
      "BestCad 13.0 0.46047422767657303 0.999557375907898\n",
      "BestNuclei 13.0 0.38247197506711084 0.9944565296173096\n"
     ]
    },
    {
     "name": "stderr",
     "output_type": "stream",
     "text": [
      "\r",
      " 60%|████████████████████████████████████████████████████████████████████████████████████████████████████████▍                                                                     | 15/25 [00:55<00:38,  3.86s/it]"
     ]
    },
    {
     "name": "stdout",
     "output_type": "stream",
     "text": [
      "BestCad 14.0 0.00348989435918735 0.043154437094926834\n",
      "BestNuclei 14.0 0.9996769380569458 0.9999926090240479\n"
     ]
    },
    {
     "name": "stderr",
     "output_type": "stream",
     "text": [
      "\r",
      " 64%|███████████████████████████████████████████████████████████████████████████████████████████████████████████████▎                                                              | 16/25 [00:59<00:34,  3.87s/it]"
     ]
    },
    {
     "name": "stdout",
     "output_type": "stream",
     "text": [
      "BestCad 15.0 0.00020813866240132484 0.0015200360212475061\n",
      "BestNuclei 15.0 0.9999650164886758 0.9999988079071045\n"
     ]
    },
    {
     "name": "stderr",
     "output_type": "stream",
     "text": [
      "\r",
      " 68%|██████████████████████████████████████████████████████████████████████████████████████████████████████████████████████▎                                                       | 17/25 [01:03<00:31,  3.88s/it]"
     ]
    },
    {
     "name": "stdout",
     "output_type": "stream",
     "text": [
      "BestCad 16.0 2.927429737350654e-05 0.00018336871289648116\n",
      "BestNuclei 16.0 0.9999942922592163 0.9999997615814209\n"
     ]
    },
    {
     "name": "stderr",
     "output_type": "stream",
     "text": [
      "\r",
      " 72%|█████████████████████████████████████████████████████████████████████████████████████████████████████████████████████████████▎                                                | 18/25 [01:07<00:27,  3.89s/it]"
     ]
    },
    {
     "name": "stdout",
     "output_type": "stream",
     "text": [
      "BestCad 17.0 8.917046226418858e-06 4.79304653708823e-05\n",
      "BestNuclei 17.0 0.9999985513479813 0.9999998807907104\n"
     ]
    },
    {
     "name": "stderr",
     "output_type": "stream",
     "text": [
      "\r",
      " 76%|████████████████████████████████████████████████████████████████████████████████████████████████████████████████████████████████████▏                                         | 19/25 [01:11<00:23,  3.86s/it]"
     ]
    },
    {
     "name": "stdout",
     "output_type": "stream",
     "text": [
      "BestCad 18.0 1.1123099669289745e-05 9.242600208381191e-05\n",
      "BestNuclei 18.0 0.9999983880830847 0.9999998807907104\n"
     ]
    },
    {
     "name": "stderr",
     "output_type": "stream",
     "text": [
      "\r",
      " 80%|███████████████████████████████████████████████████████████████████████████████████████████████████████████████████████████████████████████▏                                  | 20/25 [01:15<00:19,  3.88s/it]"
     ]
    },
    {
     "name": "stdout",
     "output_type": "stream",
     "text": [
      "BestCad 19.0 3.9840703731641725e-06 2.4804528948152438e-05\n",
      "BestNuclei 19.0 0.9999992277311243 0.9999999403953552\n"
     ]
    },
    {
     "name": "stderr",
     "output_type": "stream",
     "text": [
      "\r",
      " 84%|██████████████████████████████████████████████████████████████████████████████████████████████████████████████████████████████████████████████████▏                           | 21/25 [01:19<00:15,  3.95s/it]"
     ]
    },
    {
     "name": "stdout",
     "output_type": "stream",
     "text": [
      "BestCad 20.0 2.5183765899328137e-06 1.130038799601607e-05\n",
      "BestNuclei 20.0 0.9999993741512299 1.0\n"
     ]
    },
    {
     "name": "stderr",
     "output_type": "stream",
     "text": [
      "\r",
      " 88%|█████████████████████████████████████████████████████████████████████████████████████████████████████████████████████████████████████████████████████████                     | 22/25 [01:23<00:12,  4.02s/it]"
     ]
    },
    {
     "name": "stdout",
     "output_type": "stream",
     "text": [
      "BestCad 21.0 7.306558906350347e-06 5.9538295317906886e-05\n",
      "BestNuclei 21.0 0.9999992723266283 0.9999998807907104\n"
     ]
    },
    {
     "name": "stderr",
     "output_type": "stream",
     "text": [
      "100%|██████████████████████████████████████████████████████████████████████████████████████████████████████████████████████████████████████████████████████████████████████████████| 25/25 [01:27<00:00,  3.50s/it]"
     ]
    },
    {
     "name": "stdout",
     "output_type": "stream",
     "text": [
      "BestCad 22.0 3.888402458275008e-06 1.9669147150125355e-05\n",
      "BestNuclei 22.0 0.9999988848964373 1.0\n"
     ]
    },
    {
     "name": "stderr",
     "output_type": "stream",
     "text": [
      "\n"
     ]
    },
    {
     "name": "stdout",
     "output_type": "stream",
     "text": [
      "Detecting focus planes in 210629_Erk_Kate_His_mov1_w3CSU-QUAD-561_s2_t4\n"
     ]
    },
    {
     "name": "stderr",
     "output_type": "stream",
     "text": [
      "  4%|███████                                                                                                                                                                        | 1/25 [00:04<01:56,  4.86s/it]"
     ]
    },
    {
     "name": "stdout",
     "output_type": "stream",
     "text": [
      "BestCad 0.0 0.0004587038843421202 0.006757756695151329\n",
      "BestNuclei 0.0 4.770027494470582e-07 8.543474905309267e-06\n"
     ]
    },
    {
     "name": "stderr",
     "output_type": "stream",
     "text": [
      "\r",
      "  8%|██████████████                                                                                                                                                                 | 2/25 [00:08<01:31,  4.00s/it]"
     ]
    },
    {
     "name": "stdout",
     "output_type": "stream",
     "text": [
      "BestCad 1.0 0.0047014681220631585 0.09739330410957336\n",
      "BestNuclei 1.0 2.501401731017623e-05 0.0005251513794064522\n"
     ]
    },
    {
     "name": "stderr",
     "output_type": "stream",
     "text": [
      "\r",
      " 12%|█████████████████████                                                                                                                                                          | 3/25 [00:11<01:23,  3.81s/it]"
     ]
    },
    {
     "name": "stdout",
     "output_type": "stream",
     "text": [
      "BestCad 2.0 0.03995610987088494 0.9576728343963623\n",
      "BestNuclei 2.0 0.00018441896597171467 0.004241433460265398\n"
     ]
    },
    {
     "name": "stderr",
     "output_type": "stream",
     "text": [
      "\r",
      " 16%|████████████████████████████                                                                                                                                                   | 4/25 [00:15<01:19,  3.76s/it]"
     ]
    },
    {
     "name": "stdout",
     "output_type": "stream",
     "text": [
      "BestCad 3.0 0.06566689181519791 0.999939501285553\n",
      "BestNuclei 3.0 0.007263743923529417 0.15979032218456268\n"
     ]
    },
    {
     "name": "stderr",
     "output_type": "stream",
     "text": [
      "\r",
      " 20%|███████████████████████████████████                                                                                                                                            | 5/25 [00:19<01:17,  3.87s/it]"
     ]
    },
    {
     "name": "stdout",
     "output_type": "stream",
     "text": [
      "BestCad 4.0 0.0583656484554164 0.9997836351394653\n",
      "BestNuclei 4.0 0.00662404304455366 0.145480215549469\n"
     ]
    },
    {
     "name": "stderr",
     "output_type": "stream",
     "text": [
      "\r",
      " 24%|██████████████████████████████████████████                                                                                                                                     | 6/25 [00:23<01:16,  4.01s/it]"
     ]
    },
    {
     "name": "stdout",
     "output_type": "stream",
     "text": [
      "BestCad 5.0 0.12271353612231906 0.9993656873703003\n",
      "BestNuclei 5.0 0.04581219264282334 0.8100751042366028\n"
     ]
    },
    {
     "name": "stderr",
     "output_type": "stream",
     "text": [
      "\r",
      " 28%|█████████████████████████████████████████████████                                                                                                                              | 7/25 [00:27<01:11,  3.99s/it]"
     ]
    },
    {
     "name": "stdout",
     "output_type": "stream",
     "text": [
      "BestCad 6.0 0.12617983207614583 0.8760707378387451\n",
      "BestNuclei 6.0 0.7184542192038722 0.9998621940612793\n"
     ]
    },
    {
     "name": "stderr",
     "output_type": "stream",
     "text": [
      "\r",
      " 32%|████████████████████████████████████████████████████████                                                                                                                       | 8/25 [00:31<01:07,  3.98s/it]"
     ]
    },
    {
     "name": "stdout",
     "output_type": "stream",
     "text": [
      "BestCad 7.0 0.00018044118761558227 0.0005941782146692276\n",
      "BestNuclei 7.0 0.9999425278769599 0.9999998211860657\n"
     ]
    },
    {
     "name": "stderr",
     "output_type": "stream",
     "text": [
      "\r",
      " 36%|███████████████████████████████████████████████████████████████                                                                                                                | 9/25 [00:35<01:03,  3.98s/it]"
     ]
    },
    {
     "name": "stdout",
     "output_type": "stream",
     "text": [
      "BestCad 8.0 8.178390208226832e-06 2.9028940844000317e-05\n",
      "BestNuclei 8.0 0.9999974612836484 0.9999999403953552\n"
     ]
    },
    {
     "name": "stderr",
     "output_type": "stream",
     "text": [
      "\r",
      " 40%|█████████████████████████████████████████████████████████████████████▌                                                                                                        | 10/25 [00:39<00:59,  3.97s/it]"
     ]
    },
    {
     "name": "stdout",
     "output_type": "stream",
     "text": [
      "BestCad 9.0 8.16593464151083e-06 2.6508660084800795e-05\n",
      "BestNuclei 9.0 0.9999978137016297 0.9999999403953552\n"
     ]
    },
    {
     "name": "stderr",
     "output_type": "stream",
     "text": [
      "\r",
      " 44%|████████████████████████████████████████████████████████████████████████████▌                                                                                                 | 11/25 [00:43<00:54,  3.91s/it]"
     ]
    },
    {
     "name": "stdout",
     "output_type": "stream",
     "text": [
      "BestCad 10.0 2.737438555176714e-06 8.36087747302372e-06\n",
      "BestNuclei 10.0 0.9999992847442627 0.9999999403953552\n"
     ]
    },
    {
     "name": "stderr",
     "output_type": "stream",
     "text": [
      "\r",
      " 48%|███████████████████████████████████████████████████████████████████████████████████▌                                                                                          | 12/25 [00:47<00:50,  3.91s/it]"
     ]
    },
    {
     "name": "stdout",
     "output_type": "stream",
     "text": [
      "BestCad 11.0 6.7822158416674935e-06 1.5682839148212224e-05\n",
      "BestNuclei 11.0 0.9999980484997785 1.0\n"
     ]
    },
    {
     "name": "stderr",
     "output_type": "stream",
     "text": [
      "\r",
      " 52%|██████████████████████████████████████████████████████████████████████████████████████████▍                                                                                   | 13/25 [00:51<00:46,  3.90s/it]"
     ]
    },
    {
     "name": "stdout",
     "output_type": "stream",
     "text": [
      "BestCad 12.0 9.073401444133513e-06 2.0435636542970315e-05\n",
      "BestNuclei 12.0 0.9999977350234985 1.0\n"
     ]
    },
    {
     "name": "stderr",
     "output_type": "stream",
     "text": [
      "\r",
      " 56%|█████████████████████████████████████████████████████████████████████████████████████████████████▍                                                                            | 14/25 [00:55<00:42,  3.88s/it]"
     ]
    },
    {
     "name": "stdout",
     "output_type": "stream",
     "text": [
      "BestCad 13.0 0.0002303416274246826 0.0009234232129529119\n",
      "BestNuclei 13.0 0.9999593639373779 0.9999997019767761\n"
     ]
    },
    {
     "name": "stderr",
     "output_type": "stream",
     "text": [
      "\r",
      " 60%|████████████████████████████████████████████████████████████████████████████████████████████████████████▍                                                                     | 15/25 [00:58<00:38,  3.82s/it]"
     ]
    },
    {
     "name": "stdout",
     "output_type": "stream",
     "text": [
      "BestCad 14.0 0.06575782473997346 0.4440755844116211\n",
      "BestNuclei 14.0 0.9968952251517255 0.9999929070472717\n"
     ]
    },
    {
     "name": "stderr",
     "output_type": "stream",
     "text": [
      "\r",
      " 64%|███████████████████████████████████████████████████████████████████████████████████████████████████████████████▎                                                              | 16/25 [01:02<00:34,  3.79s/it]"
     ]
    },
    {
     "name": "stdout",
     "output_type": "stream",
     "text": [
      "BestCad 15.0 0.0011999327773657186 0.005410005338490009\n",
      "BestNuclei 15.0 0.9998317406727717 0.9999986290931702\n"
     ]
    },
    {
     "name": "stderr",
     "output_type": "stream",
     "text": [
      "\r",
      " 68%|██████████████████████████████████████████████████████████████████████████████████████████████████████████████████████▎                                                       | 17/25 [01:06<00:30,  3.77s/it]"
     ]
    },
    {
     "name": "stdout",
     "output_type": "stream",
     "text": [
      "BestCad 16.0 8.469490719355896e-05 0.00030673955916427076\n",
      "BestNuclei 16.0 0.9999822775522867 0.9999998211860657\n"
     ]
    },
    {
     "name": "stderr",
     "output_type": "stream",
     "text": [
      "\r",
      " 72%|█████████████████████████████████████████████████████████████████████████████████████████████████████████████████████████████▎                                                | 18/25 [01:09<00:26,  3.77s/it]"
     ]
    },
    {
     "name": "stdout",
     "output_type": "stream",
     "text": [
      "BestCad 17.0 2.1580799639172216e-05 8.487532613798976e-05\n",
      "BestNuclei 17.0 0.9999966776889303 0.9999999403953552\n"
     ]
    },
    {
     "name": "stderr",
     "output_type": "stream",
     "text": [
      "\r",
      " 76%|████████████████████████████████████████████████████████████████████████████████████████████████████████████████████████████████████▏                                         | 19/25 [01:13<00:22,  3.77s/it]"
     ]
    },
    {
     "name": "stdout",
     "output_type": "stream",
     "text": [
      "BestCad 18.0 2.3881800777540246e-05 0.00016553958994336426\n",
      "BestNuclei 18.0 0.999996833179308 0.9999999403953552\n"
     ]
    },
    {
     "name": "stderr",
     "output_type": "stream",
     "text": [
      "\r",
      " 80%|███████████████████████████████████████████████████████████████████████████████████████████████████████████████████████████████████████████▏                                  | 20/25 [01:17<00:18,  3.77s/it]"
     ]
    },
    {
     "name": "stdout",
     "output_type": "stream",
     "text": [
      "BestCad 19.0 1.763270751098389e-05 9.400160342920572e-05\n",
      "BestNuclei 19.0 0.9999970868229866 0.9999999403953552\n"
     ]
    },
    {
     "name": "stderr",
     "output_type": "stream",
     "text": [
      "\r",
      " 84%|██████████████████████████████████████████████████████████████████████████████████████████████████████████████████████████████████████████████████▏                           | 21/25 [01:21<00:15,  3.76s/it]"
     ]
    },
    {
     "name": "stdout",
     "output_type": "stream",
     "text": [
      "BestCad 20.0 6.362282489214482e-06 2.7488784326124005e-05\n",
      "BestNuclei 20.0 0.9999990090727806 1.0\n"
     ]
    },
    {
     "name": "stderr",
     "output_type": "stream",
     "text": [
      "\r",
      " 88%|█████████████████████████████████████████████████████████████████████████████████████████████████████████████████████████████████████████████████████████                     | 22/25 [01:24<00:11,  3.68s/it]"
     ]
    },
    {
     "name": "stdout",
     "output_type": "stream",
     "text": [
      "BestCad 21.0 7.375612128157627e-06 2.7134714400744997e-05\n",
      "BestNuclei 21.0 0.9999990100445955 1.0\n"
     ]
    },
    {
     "name": "stderr",
     "output_type": "stream",
     "text": [
      "100%|██████████████████████████████████████████████████████████████████████████████████████████████████████████████████████████████████████████████████████████████████████████████| 25/25 [01:28<00:00,  3.54s/it]"
     ]
    },
    {
     "name": "stdout",
     "output_type": "stream",
     "text": [
      "BestCad 22.0 8.489437132084276e-06 3.0698225600644946e-05\n",
      "BestNuclei 22.0 0.9999989219333815 1.0\n"
     ]
    },
    {
     "name": "stderr",
     "output_type": "stream",
     "text": [
      "\n"
     ]
    },
    {
     "name": "stdout",
     "output_type": "stream",
     "text": [
      "Detecting focus planes in 210629_Erk_Kate_His_mov1_w3CSU-QUAD-561_s2_t5\n"
     ]
    },
    {
     "name": "stderr",
     "output_type": "stream",
     "text": [
      "  4%|███████                                                                                                                                                                        | 1/25 [00:04<01:58,  4.92s/it]"
     ]
    },
    {
     "name": "stdout",
     "output_type": "stream",
     "text": [
      "BestCad 0.0 0.00018338741876093643 0.0025053254794329405\n",
      "BestNuclei 0.0 2.2565519164292228e-08 4.844005729864875e-07\n"
     ]
    },
    {
     "name": "stderr",
     "output_type": "stream",
     "text": [
      "\r",
      "  8%|██████████████                                                                                                                                                                 | 2/25 [00:08<01:33,  4.07s/it]"
     ]
    },
    {
     "name": "stdout",
     "output_type": "stream",
     "text": [
      "BestCad 1.0 2.1644021078345976e-05 0.00030004209838807583\n",
      "BestNuclei 1.0 2.013879027429333e-09 1.552506034840917e-08\n"
     ]
    },
    {
     "name": "stderr",
     "output_type": "stream",
     "text": [
      "\r",
      " 12%|█████████████████████                                                                                                                                                          | 3/25 [00:11<01:23,  3.81s/it]"
     ]
    },
    {
     "name": "stdout",
     "output_type": "stream",
     "text": [
      "BestCad 2.0 0.004175222908930002 0.09568244218826294\n",
      "BestNuclei 2.0 7.752221391637587e-06 0.00016270385822281241\n"
     ]
    },
    {
     "name": "stderr",
     "output_type": "stream",
     "text": [
      "\r",
      " 16%|████████████████████████████                                                                                                                                                   | 4/25 [00:15<01:17,  3.71s/it]"
     ]
    },
    {
     "name": "stdout",
     "output_type": "stream",
     "text": [
      "BestCad 3.0 0.046819561542258276 0.9849550724029541\n",
      "BestNuclei 3.0 6.657786556522062e-05 0.0014512246707454324\n"
     ]
    },
    {
     "name": "stderr",
     "output_type": "stream",
     "text": [
      "\r",
      " 20%|███████████████████████████████████                                                                                                                                            | 5/25 [00:18<01:12,  3.63s/it]"
     ]
    },
    {
     "name": "stdout",
     "output_type": "stream",
     "text": [
      "BestCad 4.0 0.05678104819984583 0.9998520612716675\n",
      "BestNuclei 4.0 0.00031907342924103336 0.006418455857783556\n"
     ]
    },
    {
     "name": "stderr",
     "output_type": "stream",
     "text": [
      "\r",
      " 24%|██████████████████████████████████████████                                                                                                                                     | 6/25 [00:22<01:09,  3.67s/it]"
     ]
    },
    {
     "name": "stdout",
     "output_type": "stream",
     "text": [
      "BestCad 5.0 0.1265024062646687 0.9999232888221741\n",
      "BestNuclei 5.0 0.0021214226975088193 0.04828299582004547\n"
     ]
    },
    {
     "name": "stderr",
     "output_type": "stream",
     "text": [
      "\r",
      " 28%|█████████████████████████████████████████████████                                                                                                                              | 7/25 [00:26<01:08,  3.79s/it]"
     ]
    },
    {
     "name": "stdout",
     "output_type": "stream",
     "text": [
      "BestCad 6.0 0.1095014965458876 0.9998413324356079\n",
      "BestNuclei 6.0 0.015069059270039117 0.3591410517692566\n"
     ]
    },
    {
     "name": "stderr",
     "output_type": "stream",
     "text": [
      "\r",
      " 32%|████████████████████████████████████████████████████████                                                                                                                       | 8/25 [00:30<01:05,  3.87s/it]"
     ]
    },
    {
     "name": "stdout",
     "output_type": "stream",
     "text": [
      "BestCad 7.0 0.17543372256659495 0.9993629455566406\n",
      "BestNuclei 7.0 0.0614639910458766 0.9721544981002808\n"
     ]
    },
    {
     "name": "stderr",
     "output_type": "stream",
     "text": [
      "\r",
      " 36%|███████████████████████████████████████████████████████████████                                                                                                                | 9/25 [00:34<01:03,  3.96s/it]"
     ]
    },
    {
     "name": "stdout",
     "output_type": "stream",
     "text": [
      "BestCad 8.0 0.2486584777579992 0.9996131658554077\n",
      "BestNuclei 8.0 0.10167829548686314 0.9991406202316284\n"
     ]
    },
    {
     "name": "stderr",
     "output_type": "stream",
     "text": [
      "\r",
      " 40%|█████████████████████████████████████████████████████████████████████▌                                                                                                        | 10/25 [00:38<00:59,  3.97s/it]"
     ]
    },
    {
     "name": "stdout",
     "output_type": "stream",
     "text": [
      "BestCad 9.0 0.03851745623008659 0.315068781375885\n",
      "BestNuclei 9.0 0.9898484968222104 0.9999900460243225\n"
     ]
    },
    {
     "name": "stderr",
     "output_type": "stream",
     "text": [
      "\r",
      " 44%|████████████████████████████████████████████████████████████████████████████▌                                                                                                 | 11/25 [00:43<00:56,  4.03s/it]"
     ]
    },
    {
     "name": "stdout",
     "output_type": "stream",
     "text": [
      "BestCad 10.0 2.0765594532197913e-05 6.552624108735472e-05\n",
      "BestNuclei 10.0 0.9999935856232276 0.9999999403953552\n"
     ]
    },
    {
     "name": "stderr",
     "output_type": "stream",
     "text": [
      "\r",
      " 48%|███████████████████████████████████████████████████████████████████████████████████▌                                                                                          | 12/25 [00:46<00:51,  3.99s/it]"
     ]
    },
    {
     "name": "stdout",
     "output_type": "stream",
     "text": [
      "BestCad 11.0 1.746693311094097e-05 5.122853326611221e-05\n",
      "BestNuclei 11.0 0.9999959096312523 0.9999999403953552\n"
     ]
    },
    {
     "name": "stderr",
     "output_type": "stream",
     "text": [
      "\r",
      " 52%|██████████████████████████████████████████████████████████████████████████████████████████▍                                                                                   | 13/25 [00:51<00:48,  4.01s/it]"
     ]
    },
    {
     "name": "stdout",
     "output_type": "stream",
     "text": [
      "BestCad 12.0 1.543004163582025e-05 7.349949737545103e-05\n",
      "BestNuclei 12.0 0.999996719452051 0.9999999403953552\n"
     ]
    },
    {
     "name": "stderr",
     "output_type": "stream",
     "text": [
      "\r",
      " 56%|█████████████████████████████████████████████████████████████████████████████████████████████████▍                                                                            | 14/25 [00:54<00:43,  3.99s/it]"
     ]
    },
    {
     "name": "stdout",
     "output_type": "stream",
     "text": [
      "BestCad 13.0 1.9602241754119344e-05 7.981265662238002e-05\n",
      "BestNuclei 13.0 0.9999963824565594 0.9999999403953552\n"
     ]
    },
    {
     "name": "stderr",
     "output_type": "stream",
     "text": [
      "\r",
      " 60%|████████████████████████████████████████████████████████████████████████████████████████████████████████▍                                                                     | 15/25 [00:59<00:40,  4.08s/it]"
     ]
    },
    {
     "name": "stdout",
     "output_type": "stream",
     "text": [
      "BestCad 14.0 0.0001032558585458381 0.0004938774509355426\n",
      "BestNuclei 14.0 0.9999852204322814 0.9999998807907104\n"
     ]
    },
    {
     "name": "stderr",
     "output_type": "stream",
     "text": [
      "\r",
      " 64%|███████████████████████████████████████████████████████████████████████████████████████████████████████████████▎                                                              | 16/25 [01:03<00:36,  4.05s/it]"
     ]
    },
    {
     "name": "stdout",
     "output_type": "stream",
     "text": [
      "BestCad 15.0 6.472804579971125e-05 0.00021205528173595667\n",
      "BestNuclei 15.0 0.9999914646148682 0.9999999403953552\n"
     ]
    },
    {
     "name": "stderr",
     "output_type": "stream",
     "text": [
      "\r",
      " 68%|██████████████████████████████████████████████████████████████████████████████████████████████████████████████████████▎                                                       | 17/25 [01:07<00:32,  4.01s/it]"
     ]
    },
    {
     "name": "stdout",
     "output_type": "stream",
     "text": [
      "BestCad 16.0 6.230372323753644e-06 1.932305167429149e-05\n",
      "BestNuclei 16.0 0.999998546563662 0.9999998807907104\n"
     ]
    },
    {
     "name": "stderr",
     "output_type": "stream",
     "text": [
      "\r",
      " 72%|█████████████████████████████████████████████████████████████████████████████████████████████████████████████████████████████▎                                                | 18/25 [01:10<00:27,  3.90s/it]"
     ]
    },
    {
     "name": "stdout",
     "output_type": "stream",
     "text": [
      "BestCad 17.0 5.776925601843513e-06 1.7473539628554136e-05\n",
      "BestNuclei 17.0 0.9999990281851395 1.0\n"
     ]
    },
    {
     "name": "stderr",
     "output_type": "stream",
     "text": [
      "\r",
      " 76%|████████████████████████████████████████████████████████████████████████████████████████████████████████████████████████████████████▏                                         | 19/25 [01:14<00:23,  3.85s/it]"
     ]
    },
    {
     "name": "stdout",
     "output_type": "stream",
     "text": [
      "BestCad 18.0 7.363375686963991e-06 3.2221600122284144e-05\n",
      "BestNuclei 18.0 0.9999986446422079 0.9999998807907104\n"
     ]
    },
    {
     "name": "stderr",
     "output_type": "stream",
     "text": [
      "\r",
      " 80%|███████████████████████████████████████████████████████████████████████████████████████████████████████████████████████████████████████████▏                                  | 20/25 [01:18<00:19,  3.83s/it]"
     ]
    },
    {
     "name": "stdout",
     "output_type": "stream",
     "text": [
      "BestCad 19.0 1.341255800705691e-05 8.596423140261322e-05\n",
      "BestNuclei 19.0 0.9999977995951971 0.9999999403953552\n"
     ]
    },
    {
     "name": "stderr",
     "output_type": "stream",
     "text": [
      "\r",
      " 84%|██████████████████████████████████████████████████████████████████████████████████████████████████████████████████████████████████████████████████▏                           | 21/25 [01:22<00:15,  3.81s/it]"
     ]
    },
    {
     "name": "stdout",
     "output_type": "stream",
     "text": [
      "BestCad 20.0 2.444976640795769e-05 0.0001366060459986329\n",
      "BestNuclei 20.0 0.9999961952368418 0.9999999403953552\n"
     ]
    },
    {
     "name": "stderr",
     "output_type": "stream",
     "text": [
      "\r",
      " 88%|█████████████████████████████████████████████████████████████████████████████████████████████████████████████████████████████████████████████████████████                     | 22/25 [01:25<00:11,  3.76s/it]"
     ]
    },
    {
     "name": "stdout",
     "output_type": "stream",
     "text": [
      "BestCad 21.0 1.686035413058562e-05 7.57191883167252e-05\n",
      "BestNuclei 21.0 0.9999969427784284 0.9999999403953552\n"
     ]
    },
    {
     "name": "stderr",
     "output_type": "stream",
     "text": [
      "100%|██████████████████████████████████████████████████████████████████████████████████████████████████████████████████████████████████████████████████████████████████████████████| 25/25 [01:29<00:00,  3.57s/it]"
     ]
    },
    {
     "name": "stdout",
     "output_type": "stream",
     "text": [
      "BestCad 22.0 2.1925998767172764e-05 9.729101293487474e-05\n",
      "BestNuclei 22.0 0.9999960041963137 0.9999999403953552\n"
     ]
    },
    {
     "name": "stderr",
     "output_type": "stream",
     "text": [
      "\n"
     ]
    },
    {
     "name": "stdout",
     "output_type": "stream",
     "text": [
      "Detecting focus planes in 210629_Erk_Kate_His_mov1_w1CSU-QUAD-561_s8_t2\n"
     ]
    },
    {
     "name": "stderr",
     "output_type": "stream",
     "text": [
      "  4%|███████                                                                                                                                                                        | 1/25 [00:09<03:58,  9.95s/it]"
     ]
    },
    {
     "name": "stdout",
     "output_type": "stream",
     "text": [
      "BestCad 0.0 0.28802836454600433 0.9850523471832275\n",
      "BestNuclei 0.0 0.1980493410388743 0.9973686933517456\n"
     ]
    },
    {
     "name": "stderr",
     "output_type": "stream",
     "text": [
      "\r",
      "  8%|██████████████                                                                                                                                                                 | 2/25 [00:13<02:26,  6.37s/it]"
     ]
    },
    {
     "name": "stdout",
     "output_type": "stream",
     "text": [
      "BestCad 1.0 0.27506642035397183 0.9580577611923218\n",
      "BestNuclei 1.0 0.46465858224604745 0.999960720539093\n"
     ]
    },
    {
     "name": "stderr",
     "output_type": "stream",
     "text": [
      "\r",
      " 12%|█████████████████████                                                                                                                                                          | 3/25 [00:17<01:55,  5.25s/it]"
     ]
    },
    {
     "name": "stdout",
     "output_type": "stream",
     "text": [
      "BestCad 2.0 0.35357693628016434 0.9718434810638428\n",
      "BestNuclei 2.0 0.35628431371296754 0.9999151229858398\n"
     ]
    },
    {
     "name": "stderr",
     "output_type": "stream",
     "text": [
      "\r",
      " 16%|████████████████████████████                                                                                                                                                   | 4/25 [00:21<01:38,  4.70s/it]"
     ]
    },
    {
     "name": "stdout",
     "output_type": "stream",
     "text": [
      "BestCad 3.0 0.46492869448099683 0.9617900252342224\n",
      "BestNuclei 3.0 0.3641658621514216 0.9999850988388062\n"
     ]
    },
    {
     "name": "stderr",
     "output_type": "stream",
     "text": [
      "\r",
      " 20%|███████████████████████████████████                                                                                                                                            | 5/25 [00:25<01:26,  4.35s/it]"
     ]
    },
    {
     "name": "stdout",
     "output_type": "stream",
     "text": [
      "BestCad 4.0 0.5080057472091756 0.9960130453109741\n",
      "BestNuclei 4.0 0.229285131198082 0.9999999403953552\n"
     ]
    },
    {
     "name": "stderr",
     "output_type": "stream",
     "text": [
      "\r",
      " 24%|██████████████████████████████████████████                                                                                                                                     | 6/25 [00:28<01:17,  4.06s/it]"
     ]
    },
    {
     "name": "stdout",
     "output_type": "stream",
     "text": [
      "BestCad 5.0 0.5488552274182439 0.9964228272438049\n",
      "BestNuclei 5.0 0.396616075134344 0.9999998807907104\n"
     ]
    },
    {
     "name": "stderr",
     "output_type": "stream",
     "text": [
      "\r",
      " 28%|█████████████████████████████████████████████████                                                                                                                              | 7/25 [00:32<01:09,  3.85s/it]"
     ]
    },
    {
     "name": "stdout",
     "output_type": "stream",
     "text": [
      "BestCad 6.0 0.5500022662330263 0.9947453141212463\n",
      "BestNuclei 6.0 0.45967586336495436 0.9999998807907104\n"
     ]
    },
    {
     "name": "stderr",
     "output_type": "stream",
     "text": [
      "\r",
      " 32%|████████████████████████████████████████████████████████                                                                                                                       | 8/25 [00:35<01:03,  3.73s/it]"
     ]
    },
    {
     "name": "stdout",
     "output_type": "stream",
     "text": [
      "BestCad 7.0 0.5212188582663657 0.9942855834960938\n",
      "BestNuclei 7.0 0.47294990296226885 0.9999996423721313\n"
     ]
    },
    {
     "name": "stderr",
     "output_type": "stream",
     "text": [
      "\r",
      " 36%|███████████████████████████████████████████████████████████████                                                                                                                | 9/25 [00:39<00:58,  3.65s/it]"
     ]
    },
    {
     "name": "stdout",
     "output_type": "stream",
     "text": [
      "BestCad 8.0 0.560026947120648 0.9921432733535767\n",
      "BestNuclei 8.0 0.5388846873990943 0.9999991655349731\n"
     ]
    },
    {
     "name": "stderr",
     "output_type": "stream",
     "text": [
      "\r",
      " 40%|█████████████████████████████████████████████████████████████████████▌                                                                                                        | 10/25 [00:42<00:54,  3.62s/it]"
     ]
    },
    {
     "name": "stdout",
     "output_type": "stream",
     "text": [
      "BestCad 9.0 0.5797855685537104 0.9899078011512756\n",
      "BestNuclei 9.0 0.5544680877292194 0.9999992847442627\n"
     ]
    },
    {
     "name": "stderr",
     "output_type": "stream",
     "text": [
      "\r",
      " 44%|████████████████████████████████████████████████████████████████████████████▌                                                                                                 | 11/25 [00:46<00:49,  3.57s/it]"
     ]
    },
    {
     "name": "stdout",
     "output_type": "stream",
     "text": [
      "BestCad 10.0 0.4729767260293517 0.981745719909668\n",
      "BestNuclei 10.0 0.6041184559326211 0.9999995231628418\n"
     ]
    },
    {
     "name": "stderr",
     "output_type": "stream",
     "text": [
      "\r",
      " 48%|███████████████████████████████████████████████████████████████████████████████████▌                                                                                          | 12/25 [00:49<00:46,  3.56s/it]"
     ]
    },
    {
     "name": "stdout",
     "output_type": "stream",
     "text": [
      "BestCad 11.0 0.527901867634076 0.9911978244781494\n",
      "BestNuclei 11.0 0.659899397135996 1.0\n"
     ]
    },
    {
     "name": "stderr",
     "output_type": "stream",
     "text": [
      "\r",
      " 52%|██████████████████████████████████████████████████████████████████████████████████████████▍                                                                                   | 13/25 [00:53<00:42,  3.53s/it]"
     ]
    },
    {
     "name": "stdout",
     "output_type": "stream",
     "text": [
      "BestCad 12.0 0.5596567341154219 0.9894952178001404\n",
      "BestNuclei 12.0 0.759957335019467 1.0\n"
     ]
    },
    {
     "name": "stderr",
     "output_type": "stream",
     "text": [
      "\r",
      " 56%|█████████████████████████████████████████████████████████████████████████████████████████████████▍                                                                            | 14/25 [00:56<00:38,  3.54s/it]"
     ]
    },
    {
     "name": "stdout",
     "output_type": "stream",
     "text": [
      "BestCad 13.0 0.025489713344541087 0.2112845480442047\n",
      "BestNuclei 13.0 0.9972382664680481 0.9999986886978149\n"
     ]
    },
    {
     "name": "stderr",
     "output_type": "stream",
     "text": [
      "\r",
      " 60%|████████████████████████████████████████████████████████████████████████████████████████████████████████▍                                                                     | 15/25 [01:00<00:36,  3.66s/it]"
     ]
    },
    {
     "name": "stdout",
     "output_type": "stream",
     "text": [
      "BestCad 14.0 4.727023730538349e-05 0.0004979674704372883\n",
      "BestNuclei 14.0 0.9999944567680359 0.9999998807907104\n"
     ]
    },
    {
     "name": "stderr",
     "output_type": "stream",
     "text": [
      "\r",
      " 64%|███████████████████████████████████████████████████████████████████████████████████████████████████████████████▎                                                              | 16/25 [01:04<00:33,  3.70s/it]"
     ]
    },
    {
     "name": "stdout",
     "output_type": "stream",
     "text": [
      "BestCad 15.0 5.7324611120179725e-05 0.0005631183739751577\n",
      "BestNuclei 15.0 0.9999893953402837 0.9999998807907104\n"
     ]
    },
    {
     "name": "stderr",
     "output_type": "stream",
     "text": [
      "\r",
      " 68%|██████████████████████████████████████████████████████████████████████████████████████████████████████████████████████▎                                                       | 17/25 [01:08<00:29,  3.75s/it]"
     ]
    },
    {
     "name": "stdout",
     "output_type": "stream",
     "text": [
      "BestCad 16.0 5.365295266093871e-05 0.0004011474084109068\n",
      "BestNuclei 16.0 0.999995073546534 0.9999998807907104\n"
     ]
    },
    {
     "name": "stderr",
     "output_type": "stream",
     "text": [
      "\r",
      " 72%|█████████████████████████████████████████████████████████████████████████████████████████████████████████████████████████████▎                                                | 18/25 [01:12<00:26,  3.75s/it]"
     ]
    },
    {
     "name": "stdout",
     "output_type": "stream",
     "text": [
      "BestCad 17.0 0.0005605829229011761 0.004526665434241295\n",
      "BestNuclei 17.0 0.9999259138107299 0.9999998807907104\n"
     ]
    },
    {
     "name": "stderr",
     "output_type": "stream",
     "text": [
      "\r",
      " 76%|████████████████████████████████████████████████████████████████████████████████████████████████████████████████████████████████████▏                                         | 19/25 [01:15<00:22,  3.78s/it]"
     ]
    },
    {
     "name": "stdout",
     "output_type": "stream",
     "text": [
      "BestCad 18.0 0.0006164783098938642 0.003558929543942213\n",
      "BestNuclei 18.0 0.9999615120887756 0.9999998807907104\n"
     ]
    },
    {
     "name": "stderr",
     "output_type": "stream",
     "text": [
      "\r",
      " 80%|███████████████████████████████████████████████████████████████████████████████████████████████████████████████████████████████████████████▏                                  | 20/25 [01:19<00:18,  3.77s/it]"
     ]
    },
    {
     "name": "stdout",
     "output_type": "stream",
     "text": [
      "BestCad 19.0 0.001091779547020148 0.009636661037802696\n",
      "BestNuclei 19.0 0.9999437956582933 0.9999997615814209\n"
     ]
    },
    {
     "name": "stderr",
     "output_type": "stream",
     "text": [
      "\r",
      " 84%|██████████████████████████████████████████████████████████████████████████████████████████████████████████████████████████████████████████████████▏                           | 21/25 [01:23<00:15,  3.78s/it]"
     ]
    },
    {
     "name": "stdout",
     "output_type": "stream",
     "text": [
      "BestCad 20.0 0.03120545720242841 0.24541045725345612\n",
      "BestNuclei 20.0 0.9994276571273804 0.9999991655349731\n"
     ]
    },
    {
     "name": "stderr",
     "output_type": "stream",
     "text": [
      "\r",
      " 88%|█████████████████████████████████████████████████████████████████████████████████████████████████████████████████████████████████████████████████████████                     | 22/25 [01:27<00:11,  3.83s/it]"
     ]
    },
    {
     "name": "stdout",
     "output_type": "stream",
     "text": [
      "BestCad 21.0 0.021694591267248597 0.13957400619983673\n",
      "BestNuclei 21.0 0.9989911988377571 0.9999992847442627\n"
     ]
    },
    {
     "name": "stderr",
     "output_type": "stream",
     "text": [
      "100%|██████████████████████████████████████████████████████████████████████████████████████████████████████████████████████████████████████████████████████████████████████████████| 25/25 [01:31<00:00,  3.65s/it]"
     ]
    },
    {
     "name": "stdout",
     "output_type": "stream",
     "text": [
      "BestCad 22.0 0.00042638236594484626 0.002041060943156481\n",
      "BestNuclei 22.0 0.9999757571653887 0.9999998807907104\n"
     ]
    },
    {
     "name": "stderr",
     "output_type": "stream",
     "text": [
      "\n"
     ]
    },
    {
     "name": "stdout",
     "output_type": "stream",
     "text": [
      "Detecting focus planes in 210629_Erk_Kate_His_mov1_w3CSU-QUAD-561_s7_t30\n"
     ]
    },
    {
     "name": "stderr",
     "output_type": "stream",
     "text": [
      "  4%|███████                                                                                                                                                                        | 1/25 [00:04<01:56,  4.86s/it]"
     ]
    },
    {
     "name": "stdout",
     "output_type": "stream",
     "text": [
      "BestCad 0.0 2.007983333953689e-05 0.00021472589287441224\n",
      "BestNuclei 0.0 1.8605599848980914e-09 9.558780433849279e-09\n"
     ]
    },
    {
     "name": "stderr",
     "output_type": "stream",
     "text": [
      "\r",
      "  8%|██████████████                                                                                                                                                                 | 2/25 [00:08<01:35,  4.15s/it]"
     ]
    },
    {
     "name": "stdout",
     "output_type": "stream",
     "text": [
      "BestCad 1.0 1.3726283495429924e-05 0.00012236319889780134\n",
      "BestNuclei 1.0 1.360139145778948e-09 7.513834887618032e-09\n"
     ]
    },
    {
     "name": "stderr",
     "output_type": "stream",
     "text": [
      "\r",
      " 12%|█████████████████████                                                                                                                                                          | 3/25 [00:11<01:24,  3.84s/it]"
     ]
    },
    {
     "name": "stdout",
     "output_type": "stream",
     "text": [
      "BestCad 2.0 2.665423740008269e-05 0.00043051334796473384\n",
      "BestNuclei 2.0 2.200024199787873e-09 1.736590071743649e-08\n"
     ]
    },
    {
     "name": "stderr",
     "output_type": "stream",
     "text": [
      "\r",
      " 16%|████████████████████████████                                                                                                                                                   | 4/25 [00:15<01:15,  3.59s/it]"
     ]
    },
    {
     "name": "stdout",
     "output_type": "stream",
     "text": [
      "BestCad 3.0 2.4456324089589483e-05 0.0003931537503376603\n",
      "BestNuclei 3.0 4.27401678689913e-09 3.59857175169509e-08\n"
     ]
    },
    {
     "name": "stderr",
     "output_type": "stream",
     "text": [
      "\r",
      " 20%|███████████████████████████████████                                                                                                                                            | 5/25 [00:18<01:09,  3.49s/it]"
     ]
    },
    {
     "name": "stdout",
     "output_type": "stream",
     "text": [
      "BestCad 4.0 7.245822665200457e-05 0.0012255609035491943\n",
      "BestNuclei 4.0 1.025000065024359e-08 1.7415293029898749e-07\n"
     ]
    },
    {
     "name": "stderr",
     "output_type": "stream",
     "text": [
      "\r",
      " 24%|██████████████████████████████████████████                                                                                                                                     | 6/25 [00:21<01:06,  3.49s/it]"
     ]
    },
    {
     "name": "stdout",
     "output_type": "stream",
     "text": [
      "BestCad 5.0 0.000264061146464336 0.003171705873683095\n",
      "BestNuclei 5.0 2.7833994865090632e-08 5.541111818274658e-07\n"
     ]
    },
    {
     "name": "stderr",
     "output_type": "stream",
     "text": [
      "\r",
      " 28%|█████████████████████████████████████████████████                                                                                                                              | 7/25 [00:25<01:02,  3.46s/it]"
     ]
    },
    {
     "name": "stdout",
     "output_type": "stream",
     "text": [
      "BestCad 6.0 0.0005547391228614382 0.007206215988844633\n",
      "BestNuclei 6.0 1.1332918484965114e-07 2.00642762138159e-06\n"
     ]
    },
    {
     "name": "stderr",
     "output_type": "stream",
     "text": [
      "\r",
      " 32%|████████████████████████████████████████████████████████                                                                                                                       | 8/25 [00:28<00:59,  3.48s/it]"
     ]
    },
    {
     "name": "stdout",
     "output_type": "stream",
     "text": [
      "BestCad 7.0 0.0015512146409156187 0.02648935839533806\n",
      "BestNuclei 7.0 3.152745149203657e-07 3.5510940961103188e-06\n"
     ]
    },
    {
     "name": "stderr",
     "output_type": "stream",
     "text": [
      "\r",
      " 36%|███████████████████████████████████████████████████████████████                                                                                                                | 9/25 [00:32<00:56,  3.55s/it]"
     ]
    },
    {
     "name": "stdout",
     "output_type": "stream",
     "text": [
      "BestCad 8.0 0.0015277504172130111 0.03252096101641655\n",
      "BestNuclei 8.0 7.606250308560616e-07 1.282588709727861e-05\n"
     ]
    },
    {
     "name": "stderr",
     "output_type": "stream",
     "text": [
      "\r",
      " 40%|█████████████████████████████████████████████████████████████████████▌                                                                                                        | 10/25 [00:36<00:53,  3.57s/it]"
     ]
    },
    {
     "name": "stdout",
     "output_type": "stream",
     "text": [
      "BestCad 9.0 0.0003405237743769683 0.006721136160194874\n",
      "BestNuclei 9.0 2.332399270475044e-06 4.3261723476462066e-05\n"
     ]
    },
    {
     "name": "stderr",
     "output_type": "stream",
     "text": [
      "\r",
      " 44%|████████████████████████████████████████████████████████████████████████████▌                                                                                                 | 11/25 [00:40<00:51,  3.65s/it]"
     ]
    },
    {
     "name": "stdout",
     "output_type": "stream",
     "text": [
      "BestCad 10.0 0.0008107556424556605 0.009829229675233364\n",
      "BestNuclei 10.0 6.894195015271486e-06 0.0001326640776824206\n"
     ]
    },
    {
     "name": "stderr",
     "output_type": "stream",
     "text": [
      "\r",
      " 48%|███████████████████████████████████████████████████████████████████████████████████▌                                                                                          | 12/25 [00:43<00:47,  3.69s/it]"
     ]
    },
    {
     "name": "stdout",
     "output_type": "stream",
     "text": [
      "BestCad 11.0 0.0007101712816145902 0.004973418079316616\n",
      "BestNuclei 11.0 8.434755091291102e-07 1.278497620660346e-05\n"
     ]
    },
    {
     "name": "stderr",
     "output_type": "stream",
     "text": [
      "\r",
      " 52%|██████████████████████████████████████████████████████████████████████████████████████████▍                                                                                   | 13/25 [00:47<00:45,  3.76s/it]"
     ]
    },
    {
     "name": "stdout",
     "output_type": "stream",
     "text": [
      "BestCad 12.0 0.08207013486105058 0.8658493757247925\n",
      "BestNuclei 12.0 0.1283992696675469 0.9582157731056213\n"
     ]
    },
    {
     "name": "stderr",
     "output_type": "stream",
     "text": [
      "\r",
      " 56%|█████████████████████████████████████████████████████████████████████████████████████████████████▍                                                                            | 14/25 [00:51<00:41,  3.76s/it]"
     ]
    },
    {
     "name": "stdout",
     "output_type": "stream",
     "text": [
      "BestCad 13.0 0.061606500183858624 0.30472996830940247\n",
      "BestNuclei 13.0 0.969997434704392 0.9999880194664001\n"
     ]
    },
    {
     "name": "stderr",
     "output_type": "stream",
     "text": [
      "\r",
      " 60%|████████████████████████████████████████████████████████████████████████████████████████████████████████▍                                                                     | 15/25 [00:55<00:38,  3.83s/it]"
     ]
    },
    {
     "name": "stdout",
     "output_type": "stream",
     "text": [
      "BestCad 14.0 2.4273091338253163e-06 9.242162377631757e-06\n",
      "BestNuclei 14.0 0.9999992755743173 0.9999998807907104\n"
     ]
    },
    {
     "name": "stderr",
     "output_type": "stream",
     "text": [
      "\r",
      " 64%|███████████████████████████████████████████████████████████████████████████████████████████████████████████████▎                                                              | 16/25 [00:59<00:35,  3.92s/it]"
     ]
    },
    {
     "name": "stdout",
     "output_type": "stream",
     "text": [
      "BestCad 15.0 2.1941095874353777e-05 0.00017237209249287844\n",
      "BestNuclei 15.0 0.99999365762428 0.9999996423721313\n"
     ]
    },
    {
     "name": "stderr",
     "output_type": "stream",
     "text": [
      "\r",
      " 68%|██████████████████████████████████████████████████████████████████████████████████████████████████████████████████████▎                                                       | 17/25 [01:03<00:31,  3.93s/it]"
     ]
    },
    {
     "name": "stdout",
     "output_type": "stream",
     "text": [
      "BestCad 16.0 0.0003816979691085483 0.0010076613398268819\n",
      "BestNuclei 16.0 0.9998662744959196 0.9999827742576599\n"
     ]
    },
    {
     "name": "stderr",
     "output_type": "stream",
     "text": [
      "\r",
      " 72%|█████████████████████████████████████████████████████████████████████████████████████████████████████████████████████████████▎                                                | 18/25 [01:07<00:27,  3.95s/it]"
     ]
    },
    {
     "name": "stdout",
     "output_type": "stream",
     "text": [
      "BestCad 17.0 0.0009135078064652837 0.0021018809638917446\n",
      "BestNuclei 17.0 0.999633367061615 0.9999300837516785\n"
     ]
    },
    {
     "name": "stderr",
     "output_type": "stream",
     "text": [
      "\r",
      " 76%|████████████████████████████████████████████████████████████████████████████████████████████████████████████████████████████████████▏                                         | 19/25 [01:11<00:23,  3.98s/it]"
     ]
    },
    {
     "name": "stdout",
     "output_type": "stream",
     "text": [
      "BestCad 18.0 0.0009950464564925906 0.0021682961378246546\n",
      "BestNuclei 18.0 0.9995976662635804 0.9999163746833801\n"
     ]
    },
    {
     "name": "stderr",
     "output_type": "stream",
     "text": [
      "\r",
      " 80%|███████████████████████████████████████████████████████████████████████████████████████████████████████████████████████████████████████████▏                                  | 20/25 [01:15<00:19,  3.99s/it]"
     ]
    },
    {
     "name": "stdout",
     "output_type": "stream",
     "text": [
      "BestCad 19.0 0.0009435197039831268 0.0021001817658543587\n",
      "BestNuclei 19.0 0.9996468917183254 0.9999225735664368\n"
     ]
    },
    {
     "name": "stderr",
     "output_type": "stream",
     "text": [
      "\r",
      " 84%|██████████████████████████████████████████████████████████████████████████████████████████████████████████████████████████████████████████████████▏                           | 21/25 [01:19<00:16,  4.06s/it]"
     ]
    },
    {
     "name": "stdout",
     "output_type": "stream",
     "text": [
      "BestCad 20.0 0.0009650482071182606 0.0021510468795895576\n",
      "BestNuclei 20.0 0.9996524715423584 0.9999307990074158\n"
     ]
    },
    {
     "name": "stderr",
     "output_type": "stream",
     "text": [
      "\r",
      " 88%|█████████████████████████████████████████████████████████████████████████████████████████████████████████████████████████████████████████████████████████                     | 22/25 [01:23<00:12,  4.07s/it]"
     ]
    },
    {
     "name": "stdout",
     "output_type": "stream",
     "text": [
      "BestCad 21.0 0.0008457954076584429 0.0020626219920814037\n",
      "BestNuclei 21.0 0.9997382909059525 0.9999837279319763\n"
     ]
    },
    {
     "name": "stderr",
     "output_type": "stream",
     "text": [
      "100%|██████████████████████████████████████████████████████████████████████████████████████████████████████████████████████████████████████████████████████████████████████████████| 25/25 [01:27<00:00,  3.51s/it]"
     ]
    },
    {
     "name": "stdout",
     "output_type": "stream",
     "text": [
      "BestCad 22.0 0.0007026839775789995 0.0019982175435870886\n",
      "BestNuclei 22.0 0.9998136940209762 0.9999988675117493\n"
     ]
    },
    {
     "name": "stderr",
     "output_type": "stream",
     "text": [
      "\n"
     ]
    },
    {
     "name": "stdout",
     "output_type": "stream",
     "text": [
      "Detecting focus planes in 210629_Erk_Kate_His_mov1_w3CSU-QUAD-561_s1_t7\n"
     ]
    },
    {
     "name": "stderr",
     "output_type": "stream",
     "text": [
      "  4%|███████                                                                                                                                                                        | 1/25 [00:04<01:48,  4.51s/it]"
     ]
    },
    {
     "name": "stdout",
     "output_type": "stream",
     "text": [
      "BestCad 0.0 0.0015120157543591296 0.03087432309985161\n",
      "BestNuclei 0.0 1.4166490064139116e-06 3.242439197492786e-05\n"
     ]
    },
    {
     "name": "stderr",
     "output_type": "stream",
     "text": [
      "\r",
      "  8%|██████████████                                                                                                                                                                 | 2/25 [00:07<01:28,  3.84s/it]"
     ]
    },
    {
     "name": "stdout",
     "output_type": "stream",
     "text": [
      "BestCad 1.0 0.04098743669317782 0.8604228496551514\n",
      "BestNuclei 1.0 0.00011326455697066653 0.002265223767608404\n"
     ]
    },
    {
     "name": "stderr",
     "output_type": "stream",
     "text": [
      "\r",
      " 12%|█████████████████████                                                                                                                                                          | 3/25 [00:11<01:19,  3.59s/it]"
     ]
    },
    {
     "name": "stdout",
     "output_type": "stream",
     "text": [
      "BestCad 2.0 0.05008554889783419 0.9999092817306519\n",
      "BestNuclei 2.0 0.00012429633465755392 0.0026102010160684586\n"
     ]
    },
    {
     "name": "stderr",
     "output_type": "stream",
     "text": [
      "\r",
      " 16%|████████████████████████████                                                                                                                                                   | 4/25 [00:19<01:53,  5.42s/it]"
     ]
    },
    {
     "name": "stdout",
     "output_type": "stream",
     "text": [
      "BestCad 3.0 0.0862049577623017 0.9999940991401672\n",
      "BestNuclei 3.0 4.921494237022486e-05 0.0010824550408869982\n"
     ]
    },
    {
     "name": "stderr",
     "output_type": "stream",
     "text": [
      "\r",
      " 20%|███████████████████████████████████                                                                                                                                            | 5/25 [00:23<01:38,  4.95s/it]"
     ]
    },
    {
     "name": "stdout",
     "output_type": "stream",
     "text": [
      "BestCad 4.0 0.10988586001402066 0.999997615814209\n",
      "BestNuclei 4.0 0.00013410469887603415 0.0032982798293232918\n"
     ]
    },
    {
     "name": "stderr",
     "output_type": "stream",
     "text": [
      "\r",
      " 24%|██████████████████████████████████████████                                                                                                                                     | 6/25 [00:27<01:27,  4.62s/it]"
     ]
    },
    {
     "name": "stdout",
     "output_type": "stream",
     "text": [
      "BestCad 5.0 0.09779087831692287 0.9999849200248718\n",
      "BestNuclei 5.0 0.001781532452072858 0.04325898736715317\n"
     ]
    },
    {
     "name": "stderr",
     "output_type": "stream",
     "text": [
      "\r",
      " 28%|█████████████████████████████████████████████████                                                                                                                              | 7/25 [00:31<01:17,  4.30s/it]"
     ]
    },
    {
     "name": "stdout",
     "output_type": "stream",
     "text": [
      "BestCad 6.0 0.17156353697085555 0.9999836087226868\n",
      "BestNuclei 6.0 0.03948092663554489 0.946460485458374\n"
     ]
    },
    {
     "name": "stderr",
     "output_type": "stream",
     "text": [
      "\r",
      " 32%|████████████████████████████████████████████████████████                                                                                                                       | 8/25 [00:34<01:10,  4.13s/it]"
     ]
    },
    {
     "name": "stdout",
     "output_type": "stream",
     "text": [
      "BestCad 7.0 0.3704929174176262 0.9998867511749268\n",
      "BestNuclei 7.0 0.058200224240081866 0.891548752784729\n"
     ]
    },
    {
     "name": "stderr",
     "output_type": "stream",
     "text": [
      "\r",
      " 36%|███████████████████████████████████████████████████████████████                                                                                                                | 9/25 [00:38<01:04,  4.00s/it]"
     ]
    },
    {
     "name": "stdout",
     "output_type": "stream",
     "text": [
      "BestCad 8.0 0.4022841661991108 0.9709669351577759\n",
      "BestNuclei 8.0 0.8689477977653345 0.9992419481277466\n"
     ]
    },
    {
     "name": "stderr",
     "output_type": "stream",
     "text": [
      "\r",
      " 40%|█████████████████████████████████████████████████████████████████████▌                                                                                                        | 10/25 [00:42<00:58,  3.91s/it]"
     ]
    },
    {
     "name": "stdout",
     "output_type": "stream",
     "text": [
      "BestCad 9.0 0.1008525904718503 0.683031439781189\n",
      "BestNuclei 9.0 0.9928236651420593 0.9998926520347595\n"
     ]
    },
    {
     "name": "stderr",
     "output_type": "stream",
     "text": [
      "\r",
      " 44%|████████████████████████████████████████████████████████████████████████████▌                                                                                                 | 11/25 [00:46<00:53,  3.85s/it]"
     ]
    },
    {
     "name": "stdout",
     "output_type": "stream",
     "text": [
      "BestCad 10.0 0.22437653796408663 0.8846050500869751\n",
      "BestNuclei 10.0 0.9745119236982785 0.9999108910560608\n"
     ]
    },
    {
     "name": "stderr",
     "output_type": "stream",
     "text": [
      "\r",
      " 48%|███████████████████████████████████████████████████████████████████████████████████▌                                                                                          | 12/25 [00:49<00:49,  3.78s/it]"
     ]
    },
    {
     "name": "stdout",
     "output_type": "stream",
     "text": [
      "BestCad 11.0 0.013676641571739884 0.0827050730586052\n",
      "BestNuclei 11.0 0.9995588946342469 0.9999904632568359\n"
     ]
    },
    {
     "name": "stderr",
     "output_type": "stream",
     "text": [
      "\r",
      " 52%|██████████████████████████████████████████████████████████████████████████████████████████▍                                                                                   | 13/25 [00:53<00:44,  3.73s/it]"
     ]
    },
    {
     "name": "stdout",
     "output_type": "stream",
     "text": [
      "BestCad 12.0 6.503895437245691e-06 3.298923547845334e-05\n",
      "BestNuclei 12.0 0.9999987292289734 0.9999998807907104\n"
     ]
    },
    {
     "name": "stderr",
     "output_type": "stream",
     "text": [
      "\r",
      " 56%|█████████████████████████████████████████████████████████████████████████████████████████████████▍                                                                            | 14/25 [00:57<00:41,  3.77s/it]"
     ]
    },
    {
     "name": "stdout",
     "output_type": "stream",
     "text": [
      "BestCad 13.0 2.799928677651072e-06 1.8596383597468957e-05\n",
      "BestNuclei 13.0 0.9999995908953927 0.9999999403953552\n"
     ]
    },
    {
     "name": "stderr",
     "output_type": "stream",
     "text": [
      "\r",
      " 60%|████████████████████████████████████████████████████████████████████████████████████████████████████████▍                                                                     | 15/25 [01:01<00:39,  3.91s/it]"
     ]
    },
    {
     "name": "stdout",
     "output_type": "stream",
     "text": [
      "BestCad 14.0 3.520470274528028e-05 0.0002571191289462149\n",
      "BestNuclei 14.0 0.9999949857592583 0.9999996423721313\n"
     ]
    },
    {
     "name": "stderr",
     "output_type": "stream",
     "text": [
      "\r",
      " 64%|███████████████████████████████████████████████████████████████████████████████████████████████████████████████▎                                                              | 16/25 [01:05<00:35,  3.95s/it]"
     ]
    },
    {
     "name": "stdout",
     "output_type": "stream",
     "text": [
      "BestCad 15.0 0.00014021409606357338 0.0005358649068512022\n",
      "BestNuclei 15.0 0.9999631461889847 0.9999951720237732\n"
     ]
    },
    {
     "name": "stderr",
     "output_type": "stream",
     "text": [
      "\r",
      " 68%|██████████████████████████████████████████████████████████████████████████████████████████████████████████████████████▎                                                       | 17/25 [01:09<00:31,  3.98s/it]"
     ]
    },
    {
     "name": "stdout",
     "output_type": "stream",
     "text": [
      "BestCad 16.0 0.00013786756193439942 0.00042851059697568417\n",
      "BestNuclei 16.0 0.9999633664670198 0.9999942183494568\n"
     ]
    },
    {
     "name": "stderr",
     "output_type": "stream",
     "text": [
      "\r",
      " 72%|█████████████████████████████████████████████████████████████████████████████████████████████████████████████████████████████▎                                                | 18/25 [01:13<00:28,  4.03s/it]"
     ]
    },
    {
     "name": "stdout",
     "output_type": "stream",
     "text": [
      "BestCad 17.0 0.00021918984354366936 0.0009059506701305509\n",
      "BestNuclei 17.0 0.9999285984039307 0.9999886155128479\n"
     ]
    },
    {
     "name": "stderr",
     "output_type": "stream",
     "text": [
      "\r",
      " 76%|████████████████████████████████████████████████████████████████████████████████████████████████████████████████████████████████████▏                                         | 19/25 [01:17<00:24,  4.08s/it]"
     ]
    },
    {
     "name": "stdout",
     "output_type": "stream",
     "text": [
      "BestCad 18.0 0.00030858215832267887 0.0012387775350362062\n",
      "BestNuclei 18.0 0.9999089789390564 0.9999862909317017\n"
     ]
    },
    {
     "name": "stderr",
     "output_type": "stream",
     "text": [
      "\r",
      " 80%|███████████████████████████████████████████████████████████████████████████████████████████████████████████████████████████████████████████▏                                  | 20/25 [01:22<00:20,  4.13s/it]"
     ]
    },
    {
     "name": "stdout",
     "output_type": "stream",
     "text": [
      "BestCad 19.0 0.0005619758504998082 0.0017945235595107079\n",
      "BestNuclei 19.0 0.9998184045155843 0.9999732375144958\n"
     ]
    },
    {
     "name": "stderr",
     "output_type": "stream",
     "text": [
      "\r",
      " 84%|██████████████████████████████████████████████████████████████████████████████████████████████████████████████████████████████████████████████████▏                           | 21/25 [01:26<00:16,  4.10s/it]"
     ]
    },
    {
     "name": "stdout",
     "output_type": "stream",
     "text": [
      "BestCad 20.0 0.00047731898931405425 0.001571503933519125\n",
      "BestNuclei 20.0 0.9998799736301104 0.999983012676239\n"
     ]
    },
    {
     "name": "stderr",
     "output_type": "stream",
     "text": [
      "\r",
      " 88%|█████████████████████████████████████████████████████████████████████████████████████████████████████████████████████████████████████████████████████████                     | 22/25 [01:30<00:12,  4.13s/it]"
     ]
    },
    {
     "name": "stdout",
     "output_type": "stream",
     "text": [
      "BestCad 21.0 0.00045735275109662956 0.001540295546874404\n",
      "BestNuclei 21.0 0.9998930070711218 0.9999847412109375\n"
     ]
    },
    {
     "name": "stderr",
     "output_type": "stream",
     "text": [
      "100%|██████████████████████████████████████████████████████████████████████████████████████████████████████████████████████████████████████████████████████████████████████████████| 25/25 [01:34<00:00,  3.78s/it]"
     ]
    },
    {
     "name": "stdout",
     "output_type": "stream",
     "text": [
      "BestCad 22.0 0.0004367882376589643 0.0016108367126435041\n",
      "BestNuclei 22.0 0.9998571599523226 0.9999857544898987\n"
     ]
    },
    {
     "name": "stderr",
     "output_type": "stream",
     "text": [
      "\n"
     ]
    },
    {
     "name": "stdout",
     "output_type": "stream",
     "text": [
      "Detecting focus planes in 210629_Erk_Kate_His_mov1_w3CSU-QUAD-561_s7_t24\n"
     ]
    },
    {
     "name": "stderr",
     "output_type": "stream",
     "text": [
      "  4%|███████                                                                                                                                                                        | 1/25 [00:04<01:53,  4.75s/it]"
     ]
    },
    {
     "name": "stdout",
     "output_type": "stream",
     "text": [
      "BestCad 0.0 1.4737303531988902e-05 0.00013816403225064278\n",
      "BestNuclei 0.0 3.6358883697006226e-09 3.611949495052613e-08\n"
     ]
    },
    {
     "name": "stderr",
     "output_type": "stream",
     "text": [
      "\r",
      "  8%|██████████████                                                                                                                                                                 | 2/25 [00:08<01:36,  4.20s/it]"
     ]
    },
    {
     "name": "stdout",
     "output_type": "stream",
     "text": [
      "BestCad 1.0 2.7637302423499932e-05 0.0002067543100565672\n",
      "BestNuclei 1.0 5.947036428415042e-08 1.2502707704697968e-06\n"
     ]
    },
    {
     "name": "stderr",
     "output_type": "stream",
     "text": [
      "\r",
      " 12%|█████████████████████                                                                                                                                                          | 3/25 [00:12<01:29,  4.07s/it]"
     ]
    },
    {
     "name": "stdout",
     "output_type": "stream",
     "text": [
      "BestCad 2.0 0.00010167264020114172 0.001635084510780871\n",
      "BestNuclei 2.0 4.5512816300599165e-09 4.621416138661516e-08\n"
     ]
    },
    {
     "name": "stderr",
     "output_type": "stream",
     "text": [
      "\r",
      " 16%|████████████████████████████                                                                                                                                                   | 4/25 [00:16<01:22,  3.93s/it]"
     ]
    },
    {
     "name": "stdout",
     "output_type": "stream",
     "text": [
      "BestCad 3.0 0.00032236183815077883 0.004942744038999081\n",
      "BestNuclei 3.0 1.9142515222027253e-08 3.1740569284011144e-07\n"
     ]
    },
    {
     "name": "stderr",
     "output_type": "stream",
     "text": [
      "\r",
      " 20%|███████████████████████████████████                                                                                                                                            | 5/25 [00:19<01:17,  3.85s/it]"
     ]
    },
    {
     "name": "stdout",
     "output_type": "stream",
     "text": [
      "BestCad 4.0 0.00038528525626786535 0.0048369853757321835\n",
      "BestNuclei 4.0 2.8051269223485574e-08 4.267179747330374e-07\n"
     ]
    },
    {
     "name": "stderr",
     "output_type": "stream",
     "text": [
      "\r",
      " 24%|██████████████████████████████████████████                                                                                                                                     | 6/25 [00:24<01:16,  4.03s/it]"
     ]
    },
    {
     "name": "stdout",
     "output_type": "stream",
     "text": [
      "BestCad 5.0 0.0001482673046666605 0.0012956199934706092\n",
      "BestNuclei 5.0 4.9886228950215795e-08 5.160684963811946e-07\n"
     ]
    },
    {
     "name": "stderr",
     "output_type": "stream",
     "text": [
      "\r",
      " 28%|█████████████████████████████████████████████████                                                                                                                              | 7/25 [00:28<01:14,  4.12s/it]"
     ]
    },
    {
     "name": "stdout",
     "output_type": "stream",
     "text": [
      "BestCad 6.0 0.0002933663235005213 0.0013744633179157972\n",
      "BestNuclei 6.0 2.652607956416354e-07 3.2477828426635824e-06\n"
     ]
    },
    {
     "name": "stderr",
     "output_type": "stream",
     "text": [
      "\r",
      " 32%|████████████████████████████████████████████████████████                                                                                                                       | 8/25 [00:32<01:09,  4.11s/it]"
     ]
    },
    {
     "name": "stdout",
     "output_type": "stream",
     "text": [
      "BestCad 7.0 0.0004207655912157549 0.004394378513097763\n",
      "BestNuclei 7.0 7.214693168841205e-07 8.516792149748653e-06\n"
     ]
    },
    {
     "name": "stderr",
     "output_type": "stream",
     "text": [
      "\r",
      " 36%|███████████████████████████████████████████████████████████████                                                                                                                | 9/25 [00:36<01:06,  4.14s/it]"
     ]
    },
    {
     "name": "stdout",
     "output_type": "stream",
     "text": [
      "BestCad 8.0 0.003227866239127331 0.03566070646047592\n",
      "BestNuclei 8.0 0.0008251493100709754 0.016860781237483025\n",
      "BestCad 9.0 0.062409694108646364 0.5931975841522217\n",
      "BestNuclei 9.0 0.1203398584039815 0.9845640659332275\n"
     ]
    },
    {
     "name": "stderr",
     "output_type": "stream",
     "text": [
      " 44%|████████████████████████████████████████████████████████████████████████████▌                                                                                                 | 11/25 [00:45<00:58,  4.16s/it]"
     ]
    },
    {
     "name": "stdout",
     "output_type": "stream",
     "text": [
      "BestCad 10.0 0.20559833027488952 0.9129800796508789\n",
      "BestNuclei 10.0 0.5128476662933826 0.9999301433563232\n",
      "BestCad 11.0 0.01605054424943892 0.13645657896995544\n",
      "BestNuclei 11.0 0.9982977619877568 0.9999983906745911\n"
     ]
    },
    {
     "name": "stderr",
     "output_type": "stream",
     "text": [
      "\r",
      " 48%|███████████████████████████████████████████████████████████████████████████████████▌                                                                                          | 12/25 [00:49<00:54,  4.18s/it]"
     ]
    },
    {
     "name": "stdout",
     "output_type": "stream",
     "text": [
      "BestCad 12.0 0.00018766863770262413 0.0019017240265384316\n",
      "BestNuclei 12.0 0.9999715423583985 0.9999998807907104\n"
     ]
    },
    {
     "name": "stderr",
     "output_type": "stream",
     "text": [
      "\r",
      " 52%|██████████████████████████████████████████████████████████████████████████████████████████▍                                                                                   | 13/25 [00:54<00:53,  4.45s/it]"
     ]
    },
    {
     "name": "stdout",
     "output_type": "stream",
     "text": [
      "BestCad 13.0 2.177800124429822e-06 1.5402110875584185e-05\n",
      "BestNuclei 13.0 0.9999996803023599 1.0\n"
     ]
    },
    {
     "name": "stderr",
     "output_type": "stream",
     "text": [
      "\r",
      " 56%|█████████████████████████████████████████████████████████████████████████████████████████████████▍                                                                            | 14/25 [00:59<00:51,  4.65s/it]"
     ]
    },
    {
     "name": "stdout",
     "output_type": "stream",
     "text": [
      "BestCad 14.0 5.877885996596888e-05 0.0002436271752230823\n",
      "BestNuclei 14.0 0.9999902372558912 0.9999985694885254\n"
     ]
    },
    {
     "name": "stderr",
     "output_type": "stream",
     "text": [
      "\r",
      " 60%|████████████████████████████████████████████████████████████████████████████████████████████████████████▍                                                                     | 15/25 [01:04<00:48,  4.85s/it]"
     ]
    },
    {
     "name": "stdout",
     "output_type": "stream",
     "text": [
      "BestCad 15.0 0.00033253097384052427 0.0010128316935151815\n",
      "BestNuclei 15.0 0.999909887711207 0.9999881386756897\n"
     ]
    },
    {
     "name": "stderr",
     "output_type": "stream",
     "text": [
      "\r",
      " 64%|███████████████████████████████████████████████████████████████████████████████████████████████████████████████▎                                                              | 16/25 [01:10<00:44,  4.94s/it]"
     ]
    },
    {
     "name": "stdout",
     "output_type": "stream",
     "text": [
      "BestCad 16.0 0.0005371635634219274 0.0014042672701179981\n",
      "BestNuclei 16.0 0.9998417854309082 0.999977707862854\n"
     ]
    },
    {
     "name": "stderr",
     "output_type": "stream",
     "text": [
      "\r",
      " 68%|██████████████████████████████████████████████████████████████████████████████████████████████████████████████████████▎                                                       | 17/25 [01:15<00:40,  5.06s/it]"
     ]
    },
    {
     "name": "stdout",
     "output_type": "stream",
     "text": [
      "BestCad 17.0 0.0005431474079766 0.0013883468927815557\n",
      "BestNuclei 17.0 0.9998399615287781 0.9999938011169434\n"
     ]
    },
    {
     "name": "stderr",
     "output_type": "stream",
     "text": [
      "\r",
      " 72%|█████████████████████████████████████████████████████████████████████████████████████████████████████████████████████████████▎                                                | 18/25 [01:20<00:35,  5.09s/it]"
     ]
    },
    {
     "name": "stdout",
     "output_type": "stream",
     "text": [
      "BestCad 18.0 0.000657596078235656 0.001750101218931377\n",
      "BestNuclei 18.0 0.9998123879018037 0.9999957084655762\n"
     ]
    },
    {
     "name": "stderr",
     "output_type": "stream",
     "text": [
      "\r",
      " 76%|████████████████████████████████████████████████████████████████████████████████████████████████████████████████████████████████████▏                                         | 19/25 [01:25<00:30,  5.13s/it]"
     ]
    },
    {
     "name": "stdout",
     "output_type": "stream",
     "text": [
      "BestCad 19.0 0.0007710716393679226 0.0020999284461140633\n",
      "BestNuclei 19.0 0.9997557004292806 0.9999975562095642\n"
     ]
    },
    {
     "name": "stderr",
     "output_type": "stream",
     "text": [
      "\r",
      " 80%|███████████████████████████████████████████████████████████████████████████████████████████████████████████████████████████████████████████▏                                  | 20/25 [01:30<00:25,  5.12s/it]"
     ]
    },
    {
     "name": "stdout",
     "output_type": "stream",
     "text": [
      "BestCad 20.0 0.00081892522132915 0.0021545016206800938\n",
      "BestNuclei 20.0 0.9997703929742178 0.9999985694885254\n"
     ]
    },
    {
     "name": "stderr",
     "output_type": "stream",
     "text": [
      "\r",
      " 84%|██████████████████████████████████████████████████████████████████████████████████████████████████████████████████████████████████████████████████▏                           | 21/25 [01:35<00:20,  5.08s/it]"
     ]
    },
    {
     "name": "stdout",
     "output_type": "stream",
     "text": [
      "BestCad 21.0 0.0007806961343158037 0.002169580664485693\n",
      "BestNuclei 21.0 0.9997695088386536 0.9999993443489075\n"
     ]
    },
    {
     "name": "stderr",
     "output_type": "stream",
     "text": [
      "\r",
      " 88%|█████████████████████████████████████████████████████████████████████████████████████████████████████████████████████████████████████████████████████████                     | 22/25 [01:40<00:15,  5.05s/it]"
     ]
    },
    {
     "name": "stdout",
     "output_type": "stream",
     "text": [
      "BestCad 22.0 0.0007534952485002578 0.0020799452904611826\n",
      "BestNuclei 22.0 0.9997941773870717 0.9999996423721313\n"
     ]
    },
    {
     "name": "stderr",
     "output_type": "stream",
     "text": [
      "100%|██████████████████████████████████████████████████████████████████████████████████████████████████████████████████████████████████████████████████████████████████████████████| 25/25 [01:45<00:00,  4.21s/it]\n"
     ]
    },
    {
     "name": "stdout",
     "output_type": "stream",
     "text": [
      "Detecting focus planes in 210629_Erk_Kate_His_mov1_w3CSU-QUAD-561_s9_t15\n"
     ]
    },
    {
     "name": "stderr",
     "output_type": "stream",
     "text": [
      "  4%|███████                                                                                                                                                                        | 1/25 [00:04<01:59,  4.96s/it]"
     ]
    },
    {
     "name": "stdout",
     "output_type": "stream",
     "text": [
      "BestCad 0.0 4.3624690005715726e-05 0.00027102031162939966\n",
      "BestNuclei 0.0 4.834035866041475e-09 7.286487146984655e-08\n"
     ]
    },
    {
     "name": "stderr",
     "output_type": "stream",
     "text": [
      "\r",
      "  8%|██████████████                                                                                                                                                                 | 2/25 [00:08<01:37,  4.26s/it]"
     ]
    },
    {
     "name": "stdout",
     "output_type": "stream",
     "text": [
      "BestCad 1.0 3.627238099586094e-05 0.0004903067601844668\n",
      "BestNuclei 1.0 1.0596051740044245e-08 1.0181425835753544e-07\n"
     ]
    },
    {
     "name": "stderr",
     "output_type": "stream",
     "text": [
      "\r",
      " 12%|█████████████████████                                                                                                                                                          | 3/25 [00:12<01:30,  4.14s/it]"
     ]
    },
    {
     "name": "stdout",
     "output_type": "stream",
     "text": [
      "BestCad 2.0 0.006580584607265371 0.15118171274662018\n",
      "BestNuclei 2.0 2.6436002121438e-07 5.436239916889463e-06\n"
     ]
    },
    {
     "name": "stderr",
     "output_type": "stream",
     "text": [
      "\r",
      " 16%|████████████████████████████                                                                                                                                                   | 4/25 [00:16<01:25,  4.08s/it]"
     ]
    },
    {
     "name": "stdout",
     "output_type": "stream",
     "text": [
      "BestCad 3.0 0.04520062353542639 0.994024395942688\n",
      "BestNuclei 3.0 2.3541236329126367e-06 5.399953079177067e-05\n",
      "BestCad 4.0 0.045837324839972694 0.9999824166297913\n",
      "BestNuclei 4.0 1.7239518655814967e-06 3.7058205634821206e-05\n"
     ]
    },
    {
     "name": "stderr",
     "output_type": "stream",
     "text": [
      " 24%|██████████████████████████████████████████                                                                                                                                     | 6/25 [00:26<01:24,  4.44s/it]"
     ]
    },
    {
     "name": "stdout",
     "output_type": "stream",
     "text": [
      "BestCad 5.0 0.12264172798029727 0.9999966621398926\n",
      "BestNuclei 5.0 7.753872422750348e-06 0.00011625466140685603\n"
     ]
    },
    {
     "name": "stderr",
     "output_type": "stream",
     "text": [
      "\r",
      " 28%|█████████████████████████████████████████████████                                                                                                                              | 7/25 [00:30<01:18,  4.35s/it]"
     ]
    },
    {
     "name": "stdout",
     "output_type": "stream",
     "text": [
      "BestCad 6.0 0.18687137817545635 0.9999982118606567\n",
      "BestNuclei 6.0 7.524431043895036e-05 0.0009380200644955039\n"
     ]
    },
    {
     "name": "stderr",
     "output_type": "stream",
     "text": [
      "\r",
      " 32%|████████████████████████████████████████████████████████                                                                                                                       | 8/25 [00:38<01:36,  5.69s/it]"
     ]
    },
    {
     "name": "stdout",
     "output_type": "stream",
     "text": [
      "BestCad 7.0 0.23780550163081943 0.9999783039093018\n",
      "BestNuclei 7.0 0.007229425701909436 0.11532141268253326\n"
     ]
    },
    {
     "name": "stderr",
     "output_type": "stream",
     "text": [
      "\r",
      " 36%|███████████████████████████████████████████████████████████████                                                                                                                | 9/25 [00:42<01:22,  5.16s/it]"
     ]
    },
    {
     "name": "stdout",
     "output_type": "stream",
     "text": [
      "BestCad 8.0 0.24360269891488057 0.9999881386756897\n",
      "BestNuclei 8.0 0.020786697085236297 0.24573639035224915\n"
     ]
    },
    {
     "name": "stderr",
     "output_type": "stream",
     "text": [
      "\r",
      " 40%|█████████████████████████████████████████████████████████████████████▌                                                                                                        | 10/25 [00:46<01:10,  4.73s/it]"
     ]
    },
    {
     "name": "stdout",
     "output_type": "stream",
     "text": [
      "BestCad 9.0 0.36335308172021413 0.9999761581420898\n",
      "BestNuclei 9.0 0.09241651776338243 0.9441893100738525\n"
     ]
    },
    {
     "name": "stderr",
     "output_type": "stream",
     "text": [
      "\r",
      " 44%|████████████████████████████████████████████████████████████████████████████▌                                                                                                 | 11/25 [00:50<01:04,  4.63s/it]"
     ]
    },
    {
     "name": "stdout",
     "output_type": "stream",
     "text": [
      "BestCad 10.0 0.414268072997711 0.9999419450759888\n",
      "BestNuclei 10.0 0.08906333997067675 0.99747234582901\n",
      "BestCad 11.0 0.45214234113419005 0.9998863339424133\n",
      "BestNuclei 11.0 0.09818448823478304 0.9999440908432007\n"
     ]
    },
    {
     "name": "stderr",
     "output_type": "stream",
     "text": [
      " 52%|██████████████████████████████████████████████████████████████████████████████████████████▍                                                                                   | 13/25 [00:59<00:52,  4.41s/it]"
     ]
    },
    {
     "name": "stdout",
     "output_type": "stream",
     "text": [
      "BestCad 12.0 0.4870793574125855 0.9994395971298218\n",
      "BestNuclei 12.0 0.13062008716876547 0.999984622001648\n"
     ]
    },
    {
     "name": "stderr",
     "output_type": "stream",
     "text": [
      "\r",
      " 56%|█████████████████████████████████████████████████████████████████████████████████████████████████▍                                                                            | 14/25 [01:03<00:47,  4.28s/it]"
     ]
    },
    {
     "name": "stdout",
     "output_type": "stream",
     "text": [
      "BestCad 13.0 0.51777739892777 0.9984860420227051\n",
      "BestNuclei 13.0 0.20267389088892657 0.999998927116394\n",
      "BestCad 14.0 0.5216523353181243 0.9994078874588013\n",
      "BestNuclei 14.0 0.33508833291466344 0.9999997615814209\n"
     ]
    },
    {
     "name": "stderr",
     "output_type": "stream",
     "text": [
      "\r",
      " 60%|████████████████████████████████████████████████████████████████████████████████████████████████████████▍                                                                     | 15/25 [01:07<00:42,  4.24s/it]"
     ]
    },
    {
     "name": "stdout",
     "output_type": "stream",
     "text": [
      "BestCad 15.0 0.584714408084983 0.9996472001075745\n",
      "BestNuclei 15.0 0.36701229722943624 0.9999999403953552\n"
     ]
    },
    {
     "name": "stderr",
     "output_type": "stream",
     "text": [
      " 68%|██████████████████████████████████████████████████████████████████████████████████████████████████████████████████████▎                                                       | 17/25 [01:15<00:32,  4.10s/it]"
     ]
    },
    {
     "name": "stdout",
     "output_type": "stream",
     "text": [
      "BestCad 16.0 0.6464136783580959 0.9995307922363281\n",
      "BestNuclei 16.0 0.4070922473079701 0.9999999403953552\n"
     ]
    },
    {
     "name": "stderr",
     "output_type": "stream",
     "text": [
      "\r",
      " 72%|█████████████████████████████████████████████████████████████████████████████████████████████████████████████████████████████▎                                                | 18/25 [01:19<00:28,  4.09s/it]"
     ]
    },
    {
     "name": "stdout",
     "output_type": "stream",
     "text": [
      "BestCad 17.0 0.5776030792533319 0.9972772598266602\n",
      "BestNuclei 17.0 0.4856833908066619 0.9999872446060181\n"
     ]
    },
    {
     "name": "stderr",
     "output_type": "stream",
     "text": [
      "\r",
      " 76%|████████████████████████████████████████████████████████████████████████████████████████████████████████████████████████████████████▏                                         | 19/25 [01:23<00:24,  4.09s/it]"
     ]
    },
    {
     "name": "stdout",
     "output_type": "stream",
     "text": [
      "BestCad 18.0 0.5669317607313306 0.9942095279693604\n",
      "BestNuclei 18.0 0.5930561451427638 0.9999904036521912\n"
     ]
    },
    {
     "name": "stderr",
     "output_type": "stream",
     "text": [
      "\r",
      " 80%|███████████████████████████████████████████████████████████████████████████████████████████████████████████████████████████████████████████▏                                  | 20/25 [01:27<00:20,  4.11s/it]"
     ]
    },
    {
     "name": "stdout",
     "output_type": "stream",
     "text": [
      "BestCad 19.0 0.602202026554594 0.9905319213867188\n",
      "BestNuclei 19.0 0.6873747512695643 0.9999931454658508\n"
     ]
    },
    {
     "name": "stderr",
     "output_type": "stream",
     "text": [
      "\r",
      " 84%|██████████████████████████████████████████████████████████████████████████████████████████████████████████████████████████████████████████████████▏                           | 21/25 [01:32<00:16,  4.14s/it]"
     ]
    },
    {
     "name": "stdout",
     "output_type": "stream",
     "text": [
      "BestCad 20.0 0.6029624330376031 0.9910088181495667\n",
      "BestNuclei 20.0 0.7036219854999217 0.9999971389770508\n"
     ]
    },
    {
     "name": "stderr",
     "output_type": "stream",
     "text": [
      "\r",
      " 88%|█████████████████████████████████████████████████████████████████████████████████████████████████████████████████████████████████████████████████████████                     | 22/25 [01:36<00:12,  4.09s/it]"
     ]
    },
    {
     "name": "stdout",
     "output_type": "stream",
     "text": [
      "BestCad 21.0 0.5984696419680924 0.9948350191116333\n",
      "BestNuclei 21.0 0.7010821898848835 0.9999983906745911\n"
     ]
    },
    {
     "name": "stderr",
     "output_type": "stream",
     "text": [
      "100%|██████████████████████████████████████████████████████████████████████████████████████████████████████████████████████████████████████████████████████████████████████████████| 25/25 [01:39<00:00,  4.00s/it]"
     ]
    },
    {
     "name": "stdout",
     "output_type": "stream",
     "text": [
      "BestCad 22.0 0.5237289285869338 0.9946154952049255\n",
      "BestNuclei 22.0 0.8380247326972692 0.9999991655349731\n"
     ]
    },
    {
     "name": "stderr",
     "output_type": "stream",
     "text": [
      "\n"
     ]
    },
    {
     "name": "stdout",
     "output_type": "stream",
     "text": [
      "Detecting focus planes in 210629_Erk_Kate_His_mov1_w1CSU-QUAD-561_s6_t30\n"
     ]
    },
    {
     "name": "stderr",
     "output_type": "stream",
     "text": [
      "  4%|███████                                                                                                                                                                        | 1/25 [00:05<02:03,  5.13s/it]"
     ]
    },
    {
     "name": "stdout",
     "output_type": "stream",
     "text": [
      "BestCad 0.0 0.00316373250127021 0.053400762379169464\n",
      "BestNuclei 0.0 1.4500535474920395e-05 0.00031691452022641897\n"
     ]
    },
    {
     "name": "stderr",
     "output_type": "stream",
     "text": [
      "\r",
      "  8%|██████████████                                                                                                                                                                 | 2/25 [00:08<01:37,  4.24s/it]"
     ]
    },
    {
     "name": "stdout",
     "output_type": "stream",
     "text": [
      "BestCad 1.0 0.030909943886248802 0.6492022275924683\n",
      "BestNuclei 1.0 0.0005715455300222561 0.00923532247543335\n",
      "BestCad 2.0 0.06861595198805166 0.9920281171798706\n",
      "BestNuclei 2.0 0.00048825798850286493 0.008526835590600967\n"
     ]
    },
    {
     "name": "stderr",
     "output_type": "stream",
     "text": [
      " 16%|████████████████████████████                                                                                                                                                   | 4/25 [00:16<01:23,  3.99s/it]"
     ]
    },
    {
     "name": "stdout",
     "output_type": "stream",
     "text": [
      "BestCad 3.0 0.08663388702335773 0.9990799427032471\n",
      "BestNuclei 3.0 0.000867269934322413 0.016292119398713112\n"
     ]
    },
    {
     "name": "stderr",
     "output_type": "stream",
     "text": [
      "\r",
      " 20%|███████████████████████████████████                                                                                                                                            | 5/25 [00:20<01:19,  3.98s/it]"
     ]
    },
    {
     "name": "stdout",
     "output_type": "stream",
     "text": [
      "BestCad 4.0 0.10514641295248155 0.9990214705467224\n",
      "BestNuclei 4.0 0.0009863572480019625 0.02050948329269886\n"
     ]
    },
    {
     "name": "stderr",
     "output_type": "stream",
     "text": [
      "\r",
      " 24%|██████████████████████████████████████████                                                                                                                                     | 6/25 [00:25<01:21,  4.27s/it]"
     ]
    },
    {
     "name": "stdout",
     "output_type": "stream",
     "text": [
      "BestCad 5.0 0.28992041856205714 0.991765022277832\n",
      "BestNuclei 5.0 0.3233103122060689 0.9968050718307495\n"
     ]
    },
    {
     "name": "stderr",
     "output_type": "stream",
     "text": [
      "\r",
      " 28%|█████████████████████████████████████████████████                                                                                                                              | 7/25 [00:29<01:16,  4.26s/it]"
     ]
    },
    {
     "name": "stdout",
     "output_type": "stream",
     "text": [
      "BestCad 6.0 0.0013374247863912783 0.011076604947447777\n",
      "BestNuclei 6.0 0.9997740066968478 0.9999948740005493\n"
     ]
    },
    {
     "name": "stderr",
     "output_type": "stream",
     "text": [
      "\r",
      " 32%|████████████████████████████████████████████████████████                                                                                                                       | 8/25 [00:33<01:12,  4.26s/it]"
     ]
    },
    {
     "name": "stdout",
     "output_type": "stream",
     "text": [
      "BestCad 7.0 1.0890768289565736e-05 4.6207947889342904e-05\n",
      "BestNuclei 7.0 0.9999972271919251 0.9999998807907104\n"
     ]
    },
    {
     "name": "stderr",
     "output_type": "stream",
     "text": [
      "\r",
      " 36%|███████████████████████████████████████████████████████████████                                                                                                                | 9/25 [00:38<01:08,  4.27s/it]"
     ]
    },
    {
     "name": "stdout",
     "output_type": "stream",
     "text": [
      "BestCad 8.0 1.6775324525042379e-06 9.913130270433612e-06\n",
      "BestNuclei 8.0 0.999999691610751 1.0\n"
     ]
    },
    {
     "name": "stderr",
     "output_type": "stream",
     "text": [
      "\r",
      " 40%|█████████████████████████████████████████████████████████████████████▌                                                                                                        | 10/25 [00:42<01:04,  4.31s/it]"
     ]
    },
    {
     "name": "stdout",
     "output_type": "stream",
     "text": [
      "BestCad 9.0 8.693515958384524e-06 8.593197708250955e-05\n",
      "BestNuclei 9.0 0.9999986995350231 0.9999998807907104\n"
     ]
    },
    {
     "name": "stderr",
     "output_type": "stream",
     "text": [
      "\r",
      " 44%|████████████████████████████████████████████████████████████████████████████▌                                                                                                 | 11/25 [00:46<01:00,  4.31s/it]"
     ]
    },
    {
     "name": "stdout",
     "output_type": "stream",
     "text": [
      "BestCad 10.0 4.4109162133835245e-06 3.399540582904592e-05\n",
      "BestNuclei 10.0 0.9999992872277895 0.9999998807907104\n"
     ]
    },
    {
     "name": "stderr",
     "output_type": "stream",
     "text": [
      "\r",
      " 48%|███████████████████████████████████████████████████████████████████████████████████▌                                                                                          | 12/25 [00:51<00:55,  4.29s/it]"
     ]
    },
    {
     "name": "stdout",
     "output_type": "stream",
     "text": [
      "BestCad 11.0 6.429240166028194e-06 5.1114329835399985e-05\n",
      "BestNuclei 11.0 0.9999990923838182 1.0\n"
     ]
    },
    {
     "name": "stderr",
     "output_type": "stream",
     "text": [
      "\r",
      " 52%|██████████████████████████████████████████████████████████████████████████████████████████▍                                                                                   | 13/25 [00:55<00:52,  4.35s/it]"
     ]
    },
    {
     "name": "stdout",
     "output_type": "stream",
     "text": [
      "BestCad 12.0 2.0010805278616318e-05 0.00015829243056941777\n",
      "BestNuclei 12.0 0.9999957405603849 1.0\n"
     ]
    },
    {
     "name": "stderr",
     "output_type": "stream",
     "text": [
      "\r",
      " 56%|█████████████████████████████████████████████████████████████████████████████████████████████████▍                                                                            | 14/25 [01:00<00:48,  4.40s/it]"
     ]
    },
    {
     "name": "stdout",
     "output_type": "stream",
     "text": [
      "BestCad 13.0 6.94331186405879e-05 0.00043673126492649317\n",
      "BestNuclei 13.0 0.9999878931045533 1.0\n"
     ]
    },
    {
     "name": "stderr",
     "output_type": "stream",
     "text": [
      "\r",
      " 60%|████████████████████████████████████████████████████████████████████████████████████████████████████████▍                                                                     | 15/25 [01:04<00:44,  4.41s/it]"
     ]
    },
    {
     "name": "stdout",
     "output_type": "stream",
     "text": [
      "BestCad 14.0 9.29277950854157e-05 0.0004715258255600929\n",
      "BestNuclei 14.0 0.9999778469403585 1.0\n"
     ]
    },
    {
     "name": "stderr",
     "output_type": "stream",
     "text": [
      "\r",
      " 64%|███████████████████████████████████████████████████████████████████████████████████████████████████████████████▎                                                              | 16/25 [01:08<00:39,  4.38s/it]"
     ]
    },
    {
     "name": "stdout",
     "output_type": "stream",
     "text": [
      "BestCad 15.0 0.00010219122556009098 0.0005320883356034756\n",
      "BestNuclei 15.0 0.999977727731069 1.0\n"
     ]
    },
    {
     "name": "stderr",
     "output_type": "stream",
     "text": [
      "\r",
      " 68%|██████████████████████████████████████████████████████████████████████████████████████████████████████████████████████▎                                                       | 17/25 [01:13<00:34,  4.37s/it]"
     ]
    },
    {
     "name": "stdout",
     "output_type": "stream",
     "text": [
      "BestCad 16.0 0.0001981586464883852 0.000998594448901713\n",
      "BestNuclei 16.0 0.9999324828386307 1.0\n"
     ]
    },
    {
     "name": "stderr",
     "output_type": "stream",
     "text": [
      "\r",
      " 72%|█████████████████████████████████████████████████████████████████████████████████████████████████████████████████████████████▎                                                | 18/25 [01:17<00:30,  4.30s/it]"
     ]
    },
    {
     "name": "stdout",
     "output_type": "stream",
     "text": [
      "BestCad 17.0 0.0002088948583605088 0.0010242853313684464\n",
      "BestNuclei 17.0 0.9999605287676272 1.0\n"
     ]
    },
    {
     "name": "stderr",
     "output_type": "stream",
     "text": [
      "\r",
      " 76%|████████████████████████████████████████████████████████████████████████████████████████████████████████████████████████████████████▏                                         | 19/25 [01:21<00:25,  4.24s/it]"
     ]
    },
    {
     "name": "stdout",
     "output_type": "stream",
     "text": [
      "BestCad 18.0 0.00018706090315845358 0.0008994052186608315\n",
      "BestNuclei 18.0 0.9999585151672363 1.0\n"
     ]
    },
    {
     "name": "stderr",
     "output_type": "stream",
     "text": [
      "\r",
      " 80%|███████████████████████████████████████████████████████████████████████████████████████████████████████████████████████████████████████████▏                                  | 20/25 [01:25<00:20,  4.17s/it]"
     ]
    },
    {
     "name": "stdout",
     "output_type": "stream",
     "text": [
      "BestCad 19.0 0.0001652852237283595 0.001071288133971393\n",
      "BestNuclei 19.0 0.9999700136806654 1.0\n"
     ]
    },
    {
     "name": "stderr",
     "output_type": "stream",
     "text": [
      "\r",
      " 84%|██████████████████████████████████████████████████████████████████████████████████████████████████████████████████████████████████████████████████▏                           | 21/25 [01:29<00:16,  4.16s/it]"
     ]
    },
    {
     "name": "stdout",
     "output_type": "stream",
     "text": [
      "BestCad 20.0 0.00013105636585182597 0.0006620056228712201\n",
      "BestNuclei 20.0 0.9999761037204576 0.9999997615814209\n"
     ]
    },
    {
     "name": "stderr",
     "output_type": "stream",
     "text": [
      "\r",
      " 88%|█████████████████████████████████████████████████████████████████████████████████████████████████████████████████████████████████████████████████████████                     | 22/25 [01:33<00:12,  4.16s/it]"
     ]
    },
    {
     "name": "stdout",
     "output_type": "stream",
     "text": [
      "BestCad 21.0 0.0003193919530895073 0.0017107350286096334\n",
      "BestNuclei 21.0 0.9999153668230231 0.9999986886978149\n"
     ]
    },
    {
     "name": "stderr",
     "output_type": "stream",
     "text": [
      "100%|██████████████████████████████████████████████████████████████████████████████████████████████████████████████████████████████████████████████████████████████████████████████| 25/25 [01:37<00:00,  3.91s/it]"
     ]
    },
    {
     "name": "stdout",
     "output_type": "stream",
     "text": [
      "BestCad 22.0 0.0005298917021718808 0.0021684460807591677\n",
      "BestNuclei 22.0 0.9998683333396912 0.999998927116394\n"
     ]
    },
    {
     "name": "stderr",
     "output_type": "stream",
     "text": [
      "\n"
     ]
    }
   ],
   "source": [
    "Raw_path = os.path.join(imagedir, '*tif')\n",
    "X = glob.glob(Raw_path)\n",
    "\n",
    "\n",
    "for imagename in X:\n",
    "     \n",
    "         model.predict(imagename, savedir, interest_event, n_tiles = n_tiles)"
   ]
  },
  {
   "cell_type": "code",
   "execution_count": null,
   "id": "486423fc",
   "metadata": {},
   "outputs": [],
   "source": []
  }
 ],
 "metadata": {
  "kernelspec": {
   "display_name": "Python 3 (ipykernel)",
   "language": "python",
   "name": "python3"
  },
  "language_info": {
   "codemirror_mode": {
    "name": "ipython",
    "version": 3
   },
   "file_extension": ".py",
   "mimetype": "text/x-python",
   "name": "python",
   "nbconvert_exporter": "python",
   "pygments_lexer": "ipython3",
   "version": "3.8.8"
  }
 },
 "nbformat": 4,
 "nbformat_minor": 5
}
