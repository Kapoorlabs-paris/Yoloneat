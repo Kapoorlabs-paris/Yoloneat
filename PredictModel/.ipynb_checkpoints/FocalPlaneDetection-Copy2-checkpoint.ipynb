{
 "cells": [
  {
   "cell_type": "code",
   "execution_count": 1,
   "id": "87ec8896",
   "metadata": {},
   "outputs": [
    {
     "name": "stderr",
     "output_type": "stream",
     "text": [
      "Using TensorFlow backend.\n"
     ]
    }
   ],
   "source": [
    "\n",
    "import sys\n",
    "import os\n",
    "import glob\n",
    "sys.path.append(\"../NEAT\")\n",
    "from NEATModels import NEATFocus, nets\n",
    "from NEATModels.config import dynamic_config\n",
    "from NEATUtils import helpers\n",
    "from NEATUtils.helpers import load_json\n",
    "os.environ[\"CUDA_VISIBLE_DEVICES\"]=\"0\"\n",
    "os.environ[\"HDF5_USE_FILE_LOCKING\"] = \"FALSE\"\n",
    "from pathlib import Path"
   ]
  },
  {
   "cell_type": "code",
   "execution_count": 2,
   "id": "b843f28a",
   "metadata": {},
   "outputs": [],
   "source": [
    "imagedir = '/home/sancere/Kepler/CurieTrainingDatasets/foconeatimages/'\n",
    "model_dir = '/home/sancere/Kepler/CurieDeepLearningModels/OneatModels/Focusoneatmodels/'\n",
    "savedir= '/home/sancere/Kepler/CurieTrainingDatasets/foconeatimages/Predictionsd29s4f16resmulti/'\n",
    "\n",
    "model_name = 'cadhistoned29s4f16resmulti'\n",
    "focus_categories_json = model_dir + 'FocusCategories.json'\n",
    "catconfig = load_json(focus_categories_json)\n",
    "focus_cord_json = model_dir + 'FocusCord.json'\n",
    "cordconfig = load_json(focus_cord_json)\n",
    "model = NEATFocus(None, model_dir , model_name,catconfig, cordconfig)\n",
    "Path(savedir).mkdir(exist_ok=True)\n",
    "n_tiles = (1,1)\n",
    "interest_event = (\"BestCad\", \"BestNuclei\")"
   ]
  },
  {
   "cell_type": "markdown",
   "id": "59554497",
   "metadata": {},
   "source": [
    "# In the code block below compute the markers and make a dictionary for each image"
   ]
  },
  {
   "cell_type": "code",
   "execution_count": 3,
   "id": "510d2e87",
   "metadata": {
    "scrolled": false
   },
   "outputs": [
    {
     "name": "stderr",
     "output_type": "stream",
     "text": [
      "2021-08-27 12:37:16.607659: I tensorflow/stream_executor/platform/default/dso_loader.cc:44] Successfully opened dynamic library libcuda.so.1\n",
      "2021-08-27 12:37:16.661949: I tensorflow/core/common_runtime/gpu/gpu_device.cc:1561] Found device 0 with properties: \n",
      "pciBusID: 0000:17:00.0 name: Quadro RTX 6000 computeCapability: 7.5\n",
      "coreClock: 1.77GHz coreCount: 72 deviceMemorySize: 23.65GiB deviceMemoryBandwidth: 625.94GiB/s\n",
      "2021-08-27 12:37:16.662201: I tensorflow/stream_executor/platform/default/dso_loader.cc:44] Successfully opened dynamic library libcudart.so.10.1\n",
      "2021-08-27 12:37:16.663726: I tensorflow/stream_executor/platform/default/dso_loader.cc:44] Successfully opened dynamic library libcublas.so.10\n",
      "2021-08-27 12:37:16.665482: I tensorflow/stream_executor/platform/default/dso_loader.cc:44] Successfully opened dynamic library libcufft.so.10\n",
      "2021-08-27 12:37:16.665810: I tensorflow/stream_executor/platform/default/dso_loader.cc:44] Successfully opened dynamic library libcurand.so.10\n",
      "2021-08-27 12:37:16.667626: I tensorflow/stream_executor/platform/default/dso_loader.cc:44] Successfully opened dynamic library libcusolver.so.10\n",
      "2021-08-27 12:37:16.668601: I tensorflow/stream_executor/platform/default/dso_loader.cc:44] Successfully opened dynamic library libcusparse.so.10\n",
      "2021-08-27 12:37:16.672531: I tensorflow/stream_executor/platform/default/dso_loader.cc:44] Successfully opened dynamic library libcudnn.so.7\n",
      "2021-08-27 12:37:16.675004: I tensorflow/core/common_runtime/gpu/gpu_device.cc:1703] Adding visible gpu devices: 0\n",
      "2021-08-27 12:37:16.675752: I tensorflow/core/platform/cpu_feature_guard.cc:143] Your CPU supports instructions that this TensorFlow binary was not compiled to use: AVX2 AVX512F FMA\n",
      "2021-08-27 12:37:16.686210: I tensorflow/core/platform/profile_utils/cpu_utils.cc:102] CPU Frequency: 2200000000 Hz\n",
      "2021-08-27 12:37:16.688236: I tensorflow/compiler/xla/service/service.cc:168] XLA service 0x7fd0a8000b20 initialized for platform Host (this does not guarantee that XLA will be used). Devices:\n",
      "2021-08-27 12:37:16.688251: I tensorflow/compiler/xla/service/service.cc:176]   StreamExecutor device (0): Host, Default Version\n",
      "2021-08-27 12:37:16.791282: I tensorflow/compiler/xla/service/service.cc:168] XLA service 0x55e00897b700 initialized for platform CUDA (this does not guarantee that XLA will be used). Devices:\n",
      "2021-08-27 12:37:16.791331: I tensorflow/compiler/xla/service/service.cc:176]   StreamExecutor device (0): Quadro RTX 6000, Compute Capability 7.5\n",
      "2021-08-27 12:37:16.795181: I tensorflow/core/common_runtime/gpu/gpu_device.cc:1561] Found device 0 with properties: \n",
      "pciBusID: 0000:17:00.0 name: Quadro RTX 6000 computeCapability: 7.5\n",
      "coreClock: 1.77GHz coreCount: 72 deviceMemorySize: 23.65GiB deviceMemoryBandwidth: 625.94GiB/s\n",
      "2021-08-27 12:37:16.795306: I tensorflow/stream_executor/platform/default/dso_loader.cc:44] Successfully opened dynamic library libcudart.so.10.1\n",
      "2021-08-27 12:37:16.795345: I tensorflow/stream_executor/platform/default/dso_loader.cc:44] Successfully opened dynamic library libcublas.so.10\n",
      "2021-08-27 12:37:16.795380: I tensorflow/stream_executor/platform/default/dso_loader.cc:44] Successfully opened dynamic library libcufft.so.10\n",
      "2021-08-27 12:37:16.795415: I tensorflow/stream_executor/platform/default/dso_loader.cc:44] Successfully opened dynamic library libcurand.so.10\n",
      "2021-08-27 12:37:16.795450: I tensorflow/stream_executor/platform/default/dso_loader.cc:44] Successfully opened dynamic library libcusolver.so.10\n",
      "2021-08-27 12:37:16.795484: I tensorflow/stream_executor/platform/default/dso_loader.cc:44] Successfully opened dynamic library libcusparse.so.10\n",
      "2021-08-27 12:37:16.795519: I tensorflow/stream_executor/platform/default/dso_loader.cc:44] Successfully opened dynamic library libcudnn.so.7\n",
      "2021-08-27 12:37:16.802314: I tensorflow/core/common_runtime/gpu/gpu_device.cc:1703] Adding visible gpu devices: 0\n",
      "2021-08-27 12:37:16.802407: I tensorflow/stream_executor/platform/default/dso_loader.cc:44] Successfully opened dynamic library libcudart.so.10.1\n",
      "2021-08-27 12:37:16.807835: I tensorflow/core/common_runtime/gpu/gpu_device.cc:1102] Device interconnect StreamExecutor with strength 1 edge matrix:\n",
      "2021-08-27 12:37:16.807860: I tensorflow/core/common_runtime/gpu/gpu_device.cc:1108]      0 \n",
      "2021-08-27 12:37:16.807875: I tensorflow/core/common_runtime/gpu/gpu_device.cc:1121] 0:   N \n",
      "2021-08-27 12:37:16.812832: I tensorflow/core/common_runtime/gpu/gpu_device.cc:1247] Created TensorFlow device (/job:localhost/replica:0/task:0/device:GPU:0 with 21694 MB memory) -> physical GPU (device: 0, name: Quadro RTX 6000, pci bus id: 0000:17:00.0, compute capability: 7.5)\n"
     ]
    },
    {
     "name": "stdout",
     "output_type": "stream",
     "text": [
      "Detecting focus planes in 210629_Erk_Kate_His_mov1_w3CSU-QUAD-561_s3_t11\n"
     ]
    },
    {
     "name": "stderr",
     "output_type": "stream",
     "text": [
      "  0%|                                                                                                                                                                                       | 0/25 [00:00<?, ?it/s]2021-08-27 12:37:32.532908: I tensorflow/stream_executor/platform/default/dso_loader.cc:44] Successfully opened dynamic library libcudnn.so.7\n",
      "2021-08-27 12:37:34.385566: I tensorflow/stream_executor/platform/default/dso_loader.cc:44] Successfully opened dynamic library libcublas.so.10\n",
      "100%|██████████████████████████████████████████████████████████████████████████████████████████████████████████████████████████████████████████████████████████████████████████████| 25/25 [06:10<00:00, 14.84s/it]\n"
     ]
    },
    {
     "name": "stdout",
     "output_type": "stream",
     "text": [
      "Best Zs210629_Erk_Kate_His_mov1_w3CSU-QUAD-561_s3_t11forBestCadat18.0\n",
      "Best Zs210629_Erk_Kate_His_mov1_w3CSU-QUAD-561_s3_t11forBestNucleiat21.0\n",
      "Detecting focus planes in 210629_Erk_Kate_His_mov1_w3CSU-QUAD-561_s8_t10\n"
     ]
    },
    {
     "name": "stderr",
     "output_type": "stream",
     "text": [
      "100%|██████████████████████████████████████████████████████████████████████████████████████████████████████████████████████████████████████████████████████████████████████████████| 25/25 [06:02<00:00, 14.51s/it]\n"
     ]
    },
    {
     "name": "stdout",
     "output_type": "stream",
     "text": [
      "Best Zs210629_Erk_Kate_His_mov1_w3CSU-QUAD-561_s8_t10forBestCadat20.0\n",
      "Best Zs210629_Erk_Kate_His_mov1_w3CSU-QUAD-561_s8_t10forBestNucleiat21.0\n",
      "Detecting focus planes in 210629_Erk_Kate_His_mov1_w1CSU-QUAD-561_s5_t12\n"
     ]
    },
    {
     "name": "stderr",
     "output_type": "stream",
     "text": [
      "100%|██████████████████████████████████████████████████████████████████████████████████████████████████████████████████████████████████████████████████████████████████████████████| 25/25 [05:44<00:00, 13.78s/it]\n"
     ]
    },
    {
     "name": "stdout",
     "output_type": "stream",
     "text": [
      "Best Zs210629_Erk_Kate_His_mov1_w1CSU-QUAD-561_s5_t12forBestCadat21.0\n",
      "Best Zs210629_Erk_Kate_His_mov1_w1CSU-QUAD-561_s5_t12forBestNucleiat17.0\n",
      "Detecting focus planes in 210629_Erk_Kate_His_mov1_w1CSU-QUAD-561_s9_t32\n"
     ]
    },
    {
     "name": "stderr",
     "output_type": "stream",
     "text": [
      "100%|██████████████████████████████████████████████████████████████████████████████████████████████████████████████████████████████████████████████████████████████████████████████| 25/25 [05:53<00:00, 14.15s/it]\n"
     ]
    },
    {
     "name": "stdout",
     "output_type": "stream",
     "text": [
      "Best Zs210629_Erk_Kate_His_mov1_w1CSU-QUAD-561_s9_t32forBestCadat13.0\n",
      "Best Zs210629_Erk_Kate_His_mov1_w1CSU-QUAD-561_s9_t32forBestNucleiat17.0\n",
      "Detecting focus planes in 210629_Erk_Kate_His_mov1_w3CSU-QUAD-561_s11_t21\n"
     ]
    },
    {
     "name": "stderr",
     "output_type": "stream",
     "text": [
      "100%|██████████████████████████████████████████████████████████████████████████████████████████████████████████████████████████████████████████████████████████████████████████████| 25/25 [06:05<00:00, 14.61s/it]\n"
     ]
    },
    {
     "name": "stdout",
     "output_type": "stream",
     "text": [
      "Best Zs210629_Erk_Kate_His_mov1_w3CSU-QUAD-561_s11_t21forBestCadat21.0\n",
      "Best Zs210629_Erk_Kate_His_mov1_w3CSU-QUAD-561_s11_t21forBestNucleiat16.0\n",
      "Detecting focus planes in 210629_Erk_Kate_His_mov1_w1CSU-QUAD-561_s1_t16\n"
     ]
    },
    {
     "name": "stderr",
     "output_type": "stream",
     "text": [
      "100%|██████████████████████████████████████████████████████████████████████████████████████████████████████████████████████████████████████████████████████████████████████████████| 25/25 [05:59<00:00, 14.38s/it]\n"
     ]
    },
    {
     "name": "stdout",
     "output_type": "stream",
     "text": [
      "Best Zs210629_Erk_Kate_His_mov1_w1CSU-QUAD-561_s1_t16forBestCadat18.0\n",
      "Best Zs210629_Erk_Kate_His_mov1_w1CSU-QUAD-561_s1_t16forBestNucleiat19.0\n",
      "Detecting focus planes in 210629_Erk_Kate_His_mov1_w1CSU-QUAD-561_s6_t32\n"
     ]
    },
    {
     "name": "stderr",
     "output_type": "stream",
     "text": [
      "100%|██████████████████████████████████████████████████████████████████████████████████████████████████████████████████████████████████████████████████████████████████████████████| 25/25 [06:00<00:00, 14.43s/it]\n"
     ]
    },
    {
     "name": "stdout",
     "output_type": "stream",
     "text": [
      "Best Zs210629_Erk_Kate_His_mov1_w1CSU-QUAD-561_s6_t32forBestCadat10.0\n",
      "Best Zs210629_Erk_Kate_His_mov1_w1CSU-QUAD-561_s6_t32forBestNucleiat21.0\n",
      "Detecting focus planes in 210629_Erk_Kate_His_mov1_w3CSU-QUAD-561_s3_t23\n"
     ]
    },
    {
     "name": "stderr",
     "output_type": "stream",
     "text": [
      "100%|██████████████████████████████████████████████████████████████████████████████████████████████████████████████████████████████████████████████████████████████████████████████| 25/25 [05:59<00:00, 14.37s/it]\n"
     ]
    },
    {
     "name": "stdout",
     "output_type": "stream",
     "text": [
      "Best Zs210629_Erk_Kate_His_mov1_w3CSU-QUAD-561_s3_t23forBestCadat14.0\n",
      "Best Zs210629_Erk_Kate_His_mov1_w3CSU-QUAD-561_s3_t23forBestNucleiat21.0\n",
      "Detecting focus planes in 210629_Erk_Kate_His_mov1_w1CSU-QUAD-561_s6_t21\n"
     ]
    },
    {
     "name": "stderr",
     "output_type": "stream",
     "text": [
      "100%|██████████████████████████████████████████████████████████████████████████████████████████████████████████████████████████████████████████████████████████████████████████████| 25/25 [06:02<00:00, 14.49s/it]\n"
     ]
    },
    {
     "name": "stdout",
     "output_type": "stream",
     "text": [
      "Best Zs210629_Erk_Kate_His_mov1_w1CSU-QUAD-561_s6_t21forBestCadat19.0\n",
      "Best Zs210629_Erk_Kate_His_mov1_w1CSU-QUAD-561_s6_t21forBestNucleiat17.0\n",
      "Detecting focus planes in 210629_Erk_Kate_His_mov1_w1CSU-QUAD-561_s5_t11\n"
     ]
    },
    {
     "name": "stderr",
     "output_type": "stream",
     "text": [
      "100%|██████████████████████████████████████████████████████████████████████████████████████████████████████████████████████████████████████████████████████████████████████████████| 25/25 [05:47<00:00, 13.90s/it]\n"
     ]
    },
    {
     "name": "stdout",
     "output_type": "stream",
     "text": [
      "Best Zs210629_Erk_Kate_His_mov1_w1CSU-QUAD-561_s5_t11forBestCadat17.0\n",
      "Best Zs210629_Erk_Kate_His_mov1_w1CSU-QUAD-561_s5_t11forBestNucleiat19.0\n",
      "Detecting focus planes in 210629_Erk_Kate_His_mov1_w1CSU-QUAD-561_s11_t3\n"
     ]
    },
    {
     "name": "stderr",
     "output_type": "stream",
     "text": [
      "100%|██████████████████████████████████████████████████████████████████████████████████████████████████████████████████████████████████████████████████████████████████████████████| 25/25 [05:47<00:00, 13.89s/it]\n"
     ]
    },
    {
     "name": "stdout",
     "output_type": "stream",
     "text": [
      "Best Zs210629_Erk_Kate_His_mov1_w1CSU-QUAD-561_s11_t3forBestCadat9.0\n",
      "Best Zs210629_Erk_Kate_His_mov1_w1CSU-QUAD-561_s11_t3forBestNucleiat14.0\n",
      "Detecting focus planes in 210629_Erk_Kate_His_mov1_w3CSU-QUAD-561_s7_t3\n"
     ]
    },
    {
     "name": "stderr",
     "output_type": "stream",
     "text": [
      "100%|██████████████████████████████████████████████████████████████████████████████████████████████████████████████████████████████████████████████████████████████████████████████| 25/25 [06:09<00:00, 14.80s/it]\n"
     ]
    },
    {
     "name": "stdout",
     "output_type": "stream",
     "text": [
      "Best Zs210629_Erk_Kate_His_mov1_w3CSU-QUAD-561_s7_t3forBestCadat15.0\n",
      "Best Zs210629_Erk_Kate_His_mov1_w3CSU-QUAD-561_s7_t3forBestNucleiat18.0\n",
      "Detecting focus planes in 210629_Erk_Kate_His_mov1_w1CSU-QUAD-561_s3_t5\n"
     ]
    },
    {
     "name": "stderr",
     "output_type": "stream",
     "text": [
      "100%|██████████████████████████████████████████████████████████████████████████████████████████████████████████████████████████████████████████████████████████████████████████████| 25/25 [05:44<00:00, 13.79s/it]\n"
     ]
    },
    {
     "name": "stdout",
     "output_type": "stream",
     "text": [
      "Best Zs210629_Erk_Kate_His_mov1_w1CSU-QUAD-561_s3_t5forBestCadat12.0\n",
      "Best Zs210629_Erk_Kate_His_mov1_w1CSU-QUAD-561_s3_t5forBestNucleiat16.0\n",
      "Detecting focus planes in 210629_Erk_Kate_His_mov1_w3CSU-QUAD-561_s5_t33\n"
     ]
    },
    {
     "name": "stderr",
     "output_type": "stream",
     "text": [
      "100%|██████████████████████████████████████████████████████████████████████████████████████████████████████████████████████████████████████████████████████████████████████████████| 25/25 [05:57<00:00, 14.31s/it]\n"
     ]
    },
    {
     "name": "stdout",
     "output_type": "stream",
     "text": [
      "Best Zs210629_Erk_Kate_His_mov1_w3CSU-QUAD-561_s5_t33forBestCadat21.0\n",
      "Best Zs210629_Erk_Kate_His_mov1_w3CSU-QUAD-561_s5_t33forBestNucleiat21.0\n",
      "Detecting focus planes in 210629_Erk_Kate_His_mov1_w1CSU-QUAD-561_s2_t32\n"
     ]
    },
    {
     "name": "stderr",
     "output_type": "stream",
     "text": [
      "100%|██████████████████████████████████████████████████████████████████████████████████████████████████████████████████████████████████████████████████████████████████████████████| 25/25 [05:48<00:00, 13.93s/it]\n"
     ]
    },
    {
     "name": "stdout",
     "output_type": "stream",
     "text": [
      "Best Zs210629_Erk_Kate_His_mov1_w1CSU-QUAD-561_s2_t32forBestCadat21.0\n",
      "Best Zs210629_Erk_Kate_His_mov1_w1CSU-QUAD-561_s2_t32forBestNucleiat15.0\n",
      "Detecting focus planes in 210629_Erk_Kate_His_mov1_w1CSU-QUAD-561_s7_t28\n"
     ]
    },
    {
     "name": "stderr",
     "output_type": "stream",
     "text": [
      "100%|██████████████████████████████████████████████████████████████████████████████████████████████████████████████████████████████████████████████████████████████████████████████| 25/25 [06:05<00:00, 14.63s/it]\n"
     ]
    },
    {
     "name": "stdout",
     "output_type": "stream",
     "text": [
      "Best Zs210629_Erk_Kate_His_mov1_w1CSU-QUAD-561_s7_t28forBestCadat4.0\n",
      "Best Zs210629_Erk_Kate_His_mov1_w1CSU-QUAD-561_s7_t28forBestNucleiat21.0\n",
      "Detecting focus planes in 210629_Erk_Kate_His_mov1_w1CSU-QUAD-561_s8_t1\n"
     ]
    },
    {
     "name": "stderr",
     "output_type": "stream",
     "text": [
      "100%|██████████████████████████████████████████████████████████████████████████████████████████████████████████████████████████████████████████████████████████████████████████████| 25/25 [05:55<00:00, 14.23s/it]\n"
     ]
    },
    {
     "name": "stdout",
     "output_type": "stream",
     "text": [
      "Best Zs210629_Erk_Kate_His_mov1_w1CSU-QUAD-561_s8_t1forBestCadat20.0\n",
      "Best Zs210629_Erk_Kate_His_mov1_w1CSU-QUAD-561_s8_t1forBestNucleiat16.0\n",
      "Detecting focus planes in 210629_Erk_Kate_His_mov1_w3CSU-QUAD-561_s9_t2\n"
     ]
    },
    {
     "name": "stderr",
     "output_type": "stream",
     "text": [
      "100%|██████████████████████████████████████████████████████████████████████████████████████████████████████████████████████████████████████████████████████████████████████████████| 25/25 [05:53<00:00, 14.13s/it]\n"
     ]
    },
    {
     "name": "stdout",
     "output_type": "stream",
     "text": [
      "Best Zs210629_Erk_Kate_His_mov1_w3CSU-QUAD-561_s9_t2forBestCadat19.0\n",
      "Best Zs210629_Erk_Kate_His_mov1_w3CSU-QUAD-561_s9_t2forBestNucleiat17.0\n",
      "Detecting focus planes in 210629_Erk_Kate_His_mov1_w3CSU-QUAD-561_s7_t32\n"
     ]
    },
    {
     "name": "stderr",
     "output_type": "stream",
     "text": [
      "100%|██████████████████████████████████████████████████████████████████████████████████████████████████████████████████████████████████████████████████████████████████████████████| 25/25 [06:07<00:00, 14.72s/it]\n"
     ]
    },
    {
     "name": "stdout",
     "output_type": "stream",
     "text": [
      "Best Zs210629_Erk_Kate_His_mov1_w3CSU-QUAD-561_s7_t32forBestCadat12.0\n",
      "Best Zs210629_Erk_Kate_His_mov1_w3CSU-QUAD-561_s7_t32forBestNucleiat14.0\n",
      "Detecting focus planes in 210629_Erk_Kate_His_mov1_w1CSU-QUAD-561_s8_t25\n"
     ]
    },
    {
     "name": "stderr",
     "output_type": "stream",
     "text": [
      "100%|██████████████████████████████████████████████████████████████████████████████████████████████████████████████████████████████████████████████████████████████████████████████| 25/25 [06:07<00:00, 14.72s/it]\n"
     ]
    },
    {
     "name": "stdout",
     "output_type": "stream",
     "text": [
      "Best Zs210629_Erk_Kate_His_mov1_w1CSU-QUAD-561_s8_t25forBestCadat17.0\n",
      "Best Zs210629_Erk_Kate_His_mov1_w1CSU-QUAD-561_s8_t25forBestNucleiat21.0\n",
      "Detecting focus planes in 210629_Erk_Kate_His_mov1_w3CSU-QUAD-561_s8_t21\n"
     ]
    },
    {
     "name": "stderr",
     "output_type": "stream",
     "text": [
      "100%|██████████████████████████████████████████████████████████████████████████████████████████████████████████████████████████████████████████████████████████████████████████████| 25/25 [06:19<00:00, 15.17s/it]\n"
     ]
    },
    {
     "name": "stdout",
     "output_type": "stream",
     "text": [
      "Best Zs210629_Erk_Kate_His_mov1_w3CSU-QUAD-561_s8_t21forBestCadat21.0\n",
      "Best Zs210629_Erk_Kate_His_mov1_w3CSU-QUAD-561_s8_t21forBestNucleiat21.0\n",
      "Detecting focus planes in 210629_Erk_Kate_His_mov1_w3CSU-QUAD-561_s10_t21\n"
     ]
    },
    {
     "name": "stderr",
     "output_type": "stream",
     "text": [
      " 48%|███████████████████████████████████████████████████████████████████████████████████▌                                                                                          | 12/25 [03:23<03:40, 16.96s/it]\n"
     ]
    },
    {
     "ename": "KeyboardInterrupt",
     "evalue": "",
     "output_type": "error",
     "traceback": [
      "\u001b[0;31m---------------------------------------------------------------------------\u001b[0m",
      "\u001b[0;31mKeyboardInterrupt\u001b[0m                         Traceback (most recent call last)",
      "\u001b[0;32m/tmp/ipykernel_24162/1784676875.py\u001b[0m in \u001b[0;36m<module>\u001b[0;34m\u001b[0m\n\u001b[1;32m      5\u001b[0m \u001b[0;32mfor\u001b[0m \u001b[0mimagename\u001b[0m \u001b[0;32min\u001b[0m \u001b[0mX\u001b[0m\u001b[0;34m:\u001b[0m\u001b[0;34m\u001b[0m\u001b[0;34m\u001b[0m\u001b[0m\n\u001b[1;32m      6\u001b[0m \u001b[0;34m\u001b[0m\u001b[0m\n\u001b[0;32m----> 7\u001b[0;31m          \u001b[0mmodel\u001b[0m\u001b[0;34m.\u001b[0m\u001b[0mpredict\u001b[0m\u001b[0;34m(\u001b[0m\u001b[0mimagename\u001b[0m\u001b[0;34m,\u001b[0m \u001b[0msavedir\u001b[0m\u001b[0;34m,\u001b[0m \u001b[0minterest_event\u001b[0m\u001b[0;34m,\u001b[0m \u001b[0mn_tiles\u001b[0m \u001b[0;34m=\u001b[0m \u001b[0mn_tiles\u001b[0m\u001b[0;34m)\u001b[0m\u001b[0;34m\u001b[0m\u001b[0;34m\u001b[0m\u001b[0m\n\u001b[0m",
      "\u001b[0;32m~/anaconda3/bin/Yoloneat/NEAT/NEATModels/neat_focus.py\u001b[0m in \u001b[0;36mpredict\u001b[0;34m(self, imagename, savedir, interest_event, n_tiles, overlap_percent, event_threshold, iou_threshold)\u001b[0m\n\u001b[1;32m    287\u001b[0m         \u001b[0mself\u001b[0m\u001b[0;34m.\u001b[0m\u001b[0mmodel\u001b[0m \u001b[0;34m=\u001b[0m  \u001b[0mload_model\u001b[0m\u001b[0;34m(\u001b[0m \u001b[0mself\u001b[0m\u001b[0;34m.\u001b[0m\u001b[0mmodel_dir\u001b[0m \u001b[0;34m+\u001b[0m \u001b[0mself\u001b[0m\u001b[0;34m.\u001b[0m\u001b[0mmodel_name\u001b[0m \u001b[0;34m+\u001b[0m \u001b[0;34m'.h5'\u001b[0m\u001b[0;34m,\u001b[0m  \u001b[0mcustom_objects\u001b[0m\u001b[0;34m=\u001b[0m\u001b[0;34m{\u001b[0m\u001b[0;34m'loss'\u001b[0m\u001b[0;34m:\u001b[0m\u001b[0mself\u001b[0m\u001b[0;34m.\u001b[0m\u001b[0myololoss\u001b[0m\u001b[0;34m,\u001b[0m \u001b[0;34m'Concat'\u001b[0m\u001b[0;34m:\u001b[0m\u001b[0mConcat\u001b[0m\u001b[0;34m}\u001b[0m\u001b[0;34m)\u001b[0m\u001b[0;34m\u001b[0m\u001b[0;34m\u001b[0m\u001b[0m\n\u001b[1;32m    288\u001b[0m \u001b[0;34m\u001b[0m\u001b[0m\n\u001b[0;32m--> 289\u001b[0;31m         \u001b[0mself\u001b[0m\u001b[0;34m.\u001b[0m\u001b[0mfirst_pass_predict\u001b[0m\u001b[0;34m(\u001b[0m\u001b[0;34m)\u001b[0m\u001b[0;34m\u001b[0m\u001b[0;34m\u001b[0m\u001b[0m\n\u001b[0m\u001b[1;32m    290\u001b[0m \u001b[0;34m\u001b[0m\u001b[0m\n\u001b[1;32m    291\u001b[0m \u001b[0;34m\u001b[0m\u001b[0m\n",
      "\u001b[0;32m~/anaconda3/bin/Yoloneat/NEAT/NEATModels/neat_focus.py\u001b[0m in \u001b[0;36mfirst_pass_predict\u001b[0;34m(self)\u001b[0m\n\u001b[1;32m    341\u001b[0m                                 \u001b[0mself\u001b[0m\u001b[0;34m.\u001b[0m\u001b[0meventboxes\u001b[0m \u001b[0;34m=\u001b[0m  \u001b[0meventboxes\u001b[0m\u001b[0;34m\u001b[0m\u001b[0;34m\u001b[0m\u001b[0m\n\u001b[1;32m    342\u001b[0m \u001b[0;34m\u001b[0m\u001b[0m\n\u001b[0;32m--> 343\u001b[0;31m                                 \u001b[0mself\u001b[0m\u001b[0;34m.\u001b[0m\u001b[0mnms\u001b[0m\u001b[0;34m(\u001b[0m\u001b[0;34m)\u001b[0m\u001b[0;34m\u001b[0m\u001b[0;34m\u001b[0m\u001b[0m\n\u001b[0m\u001b[1;32m    344\u001b[0m                                 \u001b[0mself\u001b[0m\u001b[0;34m.\u001b[0m\u001b[0mto_csv\u001b[0m\u001b[0;34m(\u001b[0m\u001b[0;34m)\u001b[0m\u001b[0;34m\u001b[0m\u001b[0;34m\u001b[0m\u001b[0m\n\u001b[1;32m    345\u001b[0m                                 \u001b[0mself\u001b[0m\u001b[0;34m.\u001b[0m\u001b[0mdraw\u001b[0m\u001b[0;34m(\u001b[0m\u001b[0;34m)\u001b[0m\u001b[0;34m\u001b[0m\u001b[0;34m\u001b[0m\u001b[0m\n",
      "\u001b[0;32m~/anaconda3/bin/Yoloneat/NEAT/NEATModels/neat_focus.py\u001b[0m in \u001b[0;36mnms\u001b[0;34m(self)\u001b[0m\n\u001b[1;32m    366\u001b[0m \u001b[0;34m\u001b[0m\u001b[0m\n\u001b[1;32m    367\u001b[0m                \u001b[0mscores\u001b[0m \u001b[0;34m=\u001b[0m \u001b[0;34m[\u001b[0m \u001b[0msorted_event_box\u001b[0m\u001b[0;34m[\u001b[0m\u001b[0mi\u001b[0m\u001b[0;34m]\u001b[0m\u001b[0;34m[\u001b[0m\u001b[0mevent_name\u001b[0m\u001b[0;34m]\u001b[0m  \u001b[0;32mfor\u001b[0m \u001b[0mi\u001b[0m \u001b[0;32min\u001b[0m \u001b[0mrange\u001b[0m\u001b[0;34m(\u001b[0m\u001b[0mlen\u001b[0m\u001b[0;34m(\u001b[0m\u001b[0msorted_event_box\u001b[0m\u001b[0;34m)\u001b[0m\u001b[0;34m)\u001b[0m\u001b[0;34m]\u001b[0m\u001b[0;34m\u001b[0m\u001b[0;34m\u001b[0m\u001b[0m\n\u001b[0;32m--> 368\u001b[0;31m                \u001b[0mbest_sorted_event_box\u001b[0m\u001b[0;34m,\u001b[0m \u001b[0mall_boxes\u001b[0m \u001b[0;34m=\u001b[0m \u001b[0msimpleaveragenms\u001b[0m\u001b[0;34m(\u001b[0m\u001b[0msorted_event_box\u001b[0m\u001b[0;34m,\u001b[0m \u001b[0mscores\u001b[0m\u001b[0;34m,\u001b[0m \u001b[0mself\u001b[0m\u001b[0;34m.\u001b[0m\u001b[0miou_threshold\u001b[0m\u001b[0;34m,\u001b[0m \u001b[0mself\u001b[0m\u001b[0;34m.\u001b[0m\u001b[0mevent_threshold\u001b[0m\u001b[0;34m,\u001b[0m \u001b[0mevent_name\u001b[0m\u001b[0;34m)\u001b[0m\u001b[0;34m\u001b[0m\u001b[0;34m\u001b[0m\u001b[0m\n\u001b[0m\u001b[1;32m    369\u001b[0m                \u001b[0;31m#nms_indices = fastnms(sorted_event_box, scores, self.iou_threshold, self.event_threshold, event_name)\u001b[0m\u001b[0;34m\u001b[0m\u001b[0;34m\u001b[0m\u001b[0;34m\u001b[0m\u001b[0m\n\u001b[1;32m    370\u001b[0m                \u001b[0;31m#best_sorted_event_box = [sorted_event_box[nms_indices[i]] for i in range(len(nms_indices))]\u001b[0m\u001b[0;34m\u001b[0m\u001b[0;34m\u001b[0m\u001b[0;34m\u001b[0m\u001b[0m\n",
      "\u001b[0;32m~/anaconda3/bin/Yoloneat/NEAT/NEATUtils/helpers.py\u001b[0m in \u001b[0;36msimpleaveragenms\u001b[0;34m(boxes, scores, nms_threshold, score_threshold, event_name)\u001b[0m\n\u001b[1;32m    829\u001b[0m \u001b[0;34m\u001b[0m\u001b[0m\n\u001b[1;32m    830\u001b[0m             \u001b[0;31m# compute the ratio of overlap between the two boxes and the area of the second box\u001b[0m\u001b[0;34m\u001b[0m\u001b[0;34m\u001b[0m\u001b[0;34m\u001b[0m\u001b[0m\n\u001b[0;32m--> 831\u001b[0;31m             \u001b[0moverlap\u001b[0m \u001b[0;34m=\u001b[0m \u001b[0mcompare_function\u001b[0m\u001b[0;34m(\u001b[0m\u001b[0mboxes\u001b[0m\u001b[0;34m[\u001b[0m\u001b[0mi\u001b[0m\u001b[0;34m]\u001b[0m\u001b[0;34m,\u001b[0m \u001b[0mboxes\u001b[0m\u001b[0;34m[\u001b[0m\u001b[0mj\u001b[0m\u001b[0;34m]\u001b[0m\u001b[0;34m,\u001b[0m\u001b[0mevent_name\u001b[0m\u001b[0;34m)\u001b[0m\u001b[0;34m\u001b[0m\u001b[0;34m\u001b[0m\u001b[0m\n\u001b[0m\u001b[1;32m    832\u001b[0m \u001b[0;34m\u001b[0m\u001b[0m\n\u001b[1;32m    833\u001b[0m             \u001b[0;31m# if there is sufficient overlap, suppress the current bounding box\u001b[0m\u001b[0;34m\u001b[0m\u001b[0;34m\u001b[0m\u001b[0;34m\u001b[0m\u001b[0m\n",
      "\u001b[0;32m~/anaconda3/bin/Yoloneat/NEAT/NEATUtils/helpers.py\u001b[0m in \u001b[0;36mcompare_function\u001b[0;34m(box1, box2, event_name)\u001b[0m\n\u001b[1;32m    581\u001b[0m         \u001b[0munion\u001b[0m \u001b[0;34m=\u001b[0m \u001b[0mr1\u001b[0m\u001b[0;34m*\u001b[0m\u001b[0mr1\u001b[0m \u001b[0;34m+\u001b[0m \u001b[0mr2\u001b[0m\u001b[0;34m*\u001b[0m\u001b[0mr2\u001b[0m  \u001b[0;34m-\u001b[0m \u001b[0mintersect\u001b[0m\u001b[0;34m\u001b[0m\u001b[0;34m\u001b[0m\u001b[0m\n\u001b[1;32m    582\u001b[0m \u001b[0;34m\u001b[0m\u001b[0m\n\u001b[0;32m--> 583\u001b[0;31m         \u001b[0;32mreturn\u001b[0m \u001b[0mfloat\u001b[0m\u001b[0;34m(\u001b[0m\u001b[0mnp\u001b[0m\u001b[0;34m.\u001b[0m\u001b[0mtrue_divide\u001b[0m\u001b[0;34m(\u001b[0m\u001b[0mintersect\u001b[0m\u001b[0;34m,\u001b[0m \u001b[0munion\u001b[0m\u001b[0;34m)\u001b[0m\u001b[0;34m)\u001b[0m\u001b[0;34m\u001b[0m\u001b[0;34m\u001b[0m\u001b[0m\n\u001b[0m\u001b[1;32m    584\u001b[0m \u001b[0;34m\u001b[0m\u001b[0m\n\u001b[1;32m    585\u001b[0m \u001b[0;34m\u001b[0m\u001b[0m\n",
      "\u001b[0;31mKeyboardInterrupt\u001b[0m: "
     ]
    }
   ],
   "source": [
    "Raw_path = os.path.join(imagedir, '*tif')\n",
    "X = glob.glob(Raw_path)\n",
    "\n",
    "\n",
    "for imagename in X:\n",
    "     \n",
    "         model.predict(imagename, savedir, interest_event, n_tiles = n_tiles)"
   ]
  },
  {
   "cell_type": "code",
   "execution_count": null,
   "id": "486423fc",
   "metadata": {},
   "outputs": [],
   "source": []
  },
  {
   "cell_type": "code",
   "execution_count": null,
   "id": "712d00ee",
   "metadata": {},
   "outputs": [],
   "source": []
  }
 ],
 "metadata": {
  "kernelspec": {
   "display_name": "Python 3 (ipykernel)",
   "language": "python",
   "name": "python3"
  },
  "language_info": {
   "codemirror_mode": {
    "name": "ipython",
    "version": 3
   },
   "file_extension": ".py",
   "mimetype": "text/x-python",
   "name": "python",
   "nbconvert_exporter": "python",
   "pygments_lexer": "ipython3",
   "version": "3.7.10"
  }
 },
 "nbformat": 4,
 "nbformat_minor": 5
}
