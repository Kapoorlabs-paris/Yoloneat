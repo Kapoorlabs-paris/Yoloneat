{
 "cells": [
  {
   "cell_type": "code",
   "execution_count": 1,
   "id": "87ec8896",
   "metadata": {},
   "outputs": [
    {
     "name": "stderr",
     "output_type": "stream",
     "text": [
      "Using TensorFlow backend.\n"
     ]
    }
   ],
   "source": [
    "\n",
    "import sys\n",
    "import os\n",
    "import glob\n",
    "sys.path.append(\"../NEAT\")\n",
    "from NEATModels import NEATFocus, nets\n",
    "from NEATModels.config import dynamic_config\n",
    "from NEATUtils import helpers\n",
    "from NEATUtils.helpers import load_json\n",
    "os.environ[\"CUDA_VISIBLE_DEVICES\"]=\"0\"\n",
    "os.environ[\"HDF5_USE_FILE_LOCKING\"] = \"FALSE\"\n",
    "from pathlib import Path"
   ]
  },
  {
   "cell_type": "code",
   "execution_count": 2,
   "id": "b843f28a",
   "metadata": {},
   "outputs": [],
   "source": [
    "imagedir = '/home/sancere/Kepler/CurieTrainingDatasets/foconeatimages/'\n",
    "model_dir = '/home/sancere/Kepler/CurieDeepLearningModels/OneatModels/Focusoneatmodels/'\n",
    "savedir= '/home/sancere/Kepler/CurieTrainingDatasets/foconeatimages/SeqPredictions/'\n",
    "\n",
    "model_name = 'cadhistoned29s4f16seq'\n",
    "focus_categories_json = model_dir + 'FocusCategories.json'\n",
    "catconfig = load_json(focus_categories_json)\n",
    "focus_cord_json = model_dir + 'FocusCord.json'\n",
    "cordconfig = load_json(focus_cord_json)\n",
    "model = NEATFocus(None, model_dir , model_name,catconfig, cordconfig)\n",
    "Path(savedir).mkdir(exist_ok=True)\n",
    "n_tiles = (1,1)\n",
    "interest_event = (\"BestCad\", \"BestNuclei\")"
   ]
  },
  {
   "cell_type": "markdown",
   "id": "59554497",
   "metadata": {},
   "source": [
    "# In the code block below compute the markers and make a dictionary for each image"
   ]
  },
  {
   "cell_type": "code",
   "execution_count": null,
   "id": "510d2e87",
   "metadata": {
    "scrolled": false
   },
   "outputs": [
    {
     "name": "stderr",
     "output_type": "stream",
     "text": [
      "2021-08-12 11:45:02.282518: I tensorflow/stream_executor/platform/default/dso_loader.cc:44] Successfully opened dynamic library libcuda.so.1\n",
      "2021-08-12 11:45:02.354575: I tensorflow/core/common_runtime/gpu/gpu_device.cc:1561] Found device 0 with properties: \n",
      "pciBusID: 0000:73:00.0 name: Quadro RTX 6000 computeCapability: 7.5\n",
      "coreClock: 1.77GHz coreCount: 72 deviceMemorySize: 23.65GiB deviceMemoryBandwidth: 625.94GiB/s\n",
      "2021-08-12 11:45:02.354977: I tensorflow/stream_executor/platform/default/dso_loader.cc:44] Successfully opened dynamic library libcudart.so.10.1\n",
      "2021-08-12 11:45:02.357316: I tensorflow/stream_executor/platform/default/dso_loader.cc:44] Successfully opened dynamic library libcublas.so.10\n",
      "2021-08-12 11:45:02.359688: I tensorflow/stream_executor/platform/default/dso_loader.cc:44] Successfully opened dynamic library libcufft.so.10\n",
      "2021-08-12 11:45:02.360163: I tensorflow/stream_executor/platform/default/dso_loader.cc:44] Successfully opened dynamic library libcurand.so.10\n",
      "2021-08-12 11:45:02.363081: I tensorflow/stream_executor/platform/default/dso_loader.cc:44] Successfully opened dynamic library libcusolver.so.10\n",
      "2021-08-12 11:45:02.364558: I tensorflow/stream_executor/platform/default/dso_loader.cc:44] Successfully opened dynamic library libcusparse.so.10\n",
      "2021-08-12 11:45:02.370817: I tensorflow/stream_executor/platform/default/dso_loader.cc:44] Successfully opened dynamic library libcudnn.so.7\n",
      "2021-08-12 11:45:02.373895: I tensorflow/core/common_runtime/gpu/gpu_device.cc:1703] Adding visible gpu devices: 0\n",
      "2021-08-12 11:45:02.374767: I tensorflow/core/platform/cpu_feature_guard.cc:143] Your CPU supports instructions that this TensorFlow binary was not compiled to use: AVX2 AVX512F FMA\n",
      "2021-08-12 11:45:02.386294: I tensorflow/core/platform/profile_utils/cpu_utils.cc:102] CPU Frequency: 2200000000 Hz\n",
      "2021-08-12 11:45:02.390251: I tensorflow/compiler/xla/service/service.cc:168] XLA service 0x7fd958000b20 initialized for platform Host (this does not guarantee that XLA will be used). Devices:\n",
      "2021-08-12 11:45:02.390297: I tensorflow/compiler/xla/service/service.cc:176]   StreamExecutor device (0): Host, Default Version\n",
      "2021-08-12 11:45:02.517826: I tensorflow/compiler/xla/service/service.cc:168] XLA service 0x55c6b2387950 initialized for platform CUDA (this does not guarantee that XLA will be used). Devices:\n",
      "2021-08-12 11:45:02.517878: I tensorflow/compiler/xla/service/service.cc:176]   StreamExecutor device (0): Quadro RTX 6000, Compute Capability 7.5\n",
      "2021-08-12 11:45:02.521832: I tensorflow/core/common_runtime/gpu/gpu_device.cc:1561] Found device 0 with properties: \n",
      "pciBusID: 0000:73:00.0 name: Quadro RTX 6000 computeCapability: 7.5\n",
      "coreClock: 1.77GHz coreCount: 72 deviceMemorySize: 23.65GiB deviceMemoryBandwidth: 625.94GiB/s\n",
      "2021-08-12 11:45:02.521961: I tensorflow/stream_executor/platform/default/dso_loader.cc:44] Successfully opened dynamic library libcudart.so.10.1\n",
      "2021-08-12 11:45:02.522003: I tensorflow/stream_executor/platform/default/dso_loader.cc:44] Successfully opened dynamic library libcublas.so.10\n",
      "2021-08-12 11:45:02.522040: I tensorflow/stream_executor/platform/default/dso_loader.cc:44] Successfully opened dynamic library libcufft.so.10\n",
      "2021-08-12 11:45:02.522076: I tensorflow/stream_executor/platform/default/dso_loader.cc:44] Successfully opened dynamic library libcurand.so.10\n",
      "2021-08-12 11:45:02.522113: I tensorflow/stream_executor/platform/default/dso_loader.cc:44] Successfully opened dynamic library libcusolver.so.10\n",
      "2021-08-12 11:45:02.522149: I tensorflow/stream_executor/platform/default/dso_loader.cc:44] Successfully opened dynamic library libcusparse.so.10\n",
      "2021-08-12 11:45:02.522186: I tensorflow/stream_executor/platform/default/dso_loader.cc:44] Successfully opened dynamic library libcudnn.so.7\n",
      "2021-08-12 11:45:02.529224: I tensorflow/core/common_runtime/gpu/gpu_device.cc:1703] Adding visible gpu devices: 0\n",
      "2021-08-12 11:45:02.529337: I tensorflow/stream_executor/platform/default/dso_loader.cc:44] Successfully opened dynamic library libcudart.so.10.1\n",
      "2021-08-12 11:45:02.534190: I tensorflow/core/common_runtime/gpu/gpu_device.cc:1102] Device interconnect StreamExecutor with strength 1 edge matrix:\n",
      "2021-08-12 11:45:02.534208: I tensorflow/core/common_runtime/gpu/gpu_device.cc:1108]      0 \n",
      "2021-08-12 11:45:02.534219: I tensorflow/core/common_runtime/gpu/gpu_device.cc:1121] 0:   N \n",
      "2021-08-12 11:45:02.538847: I tensorflow/core/common_runtime/gpu/gpu_device.cc:1247] Created TensorFlow device (/job:localhost/replica:0/task:0/device:GPU:0 with 22611 MB memory) -> physical GPU (device: 0, name: Quadro RTX 6000, pci bus id: 0000:73:00.0, compute capability: 7.5)\n"
     ]
    },
    {
     "name": "stdout",
     "output_type": "stream",
     "text": [
      "Detecting focus planes in 210629_Erk_Kate_His_mov1_w3CSU-QUAD-561_s3_t11\n"
     ]
    },
    {
     "name": "stderr",
     "output_type": "stream",
     "text": [
      "  0%|                                                                                                                                                                                       | 0/25 [00:00<?, ?it/s]2021-08-12 11:45:22.520388: I tensorflow/stream_executor/platform/default/dso_loader.cc:44] Successfully opened dynamic library libcudnn.so.7\n",
      "2021-08-12 11:45:24.350028: I tensorflow/stream_executor/platform/default/dso_loader.cc:44] Successfully opened dynamic library libcublas.so.10\n",
      "  4%|███████                                                                                                                                                                        | 1/25 [00:08<03:32,  8.86s/it]"
     ]
    },
    {
     "name": "stdout",
     "output_type": "stream",
     "text": [
      "BestCad 0.0 7.644427042020565e-05\n",
      "BestNuclei 0.0 1.6659341692173286e-09\n"
     ]
    },
    {
     "name": "stderr",
     "output_type": "stream",
     "text": [
      "\r",
      "  8%|██████████████                                                                                                                                                                 | 2/25 [00:12<02:11,  5.71s/it]"
     ]
    },
    {
     "name": "stdout",
     "output_type": "stream",
     "text": [
      "BestCad 1.0 0.00010568896457960992\n",
      "BestNuclei 1.0 4.4170962227620127e-08\n"
     ]
    },
    {
     "name": "stderr",
     "output_type": "stream",
     "text": [
      "\r",
      " 12%|█████████████████████                                                                                                                                                          | 3/25 [00:15<01:42,  4.67s/it]"
     ]
    },
    {
     "name": "stdout",
     "output_type": "stream",
     "text": [
      "BestCad 2.0 0.0002466612834776275\n",
      "BestNuclei 2.0 7.25280100694587e-06\n"
     ]
    },
    {
     "name": "stderr",
     "output_type": "stream",
     "text": [
      "\r",
      " 16%|████████████████████████████                                                                                                                                                   | 4/25 [00:19<01:30,  4.31s/it]"
     ]
    },
    {
     "name": "stdout",
     "output_type": "stream",
     "text": [
      "BestCad 3.0 0.0452373100486281\n",
      "BestNuclei 3.0 0.0002205396116767002\n"
     ]
    },
    {
     "name": "stderr",
     "output_type": "stream",
     "text": [
      "\r",
      " 20%|███████████████████████████████████                                                                                                                                            | 5/25 [00:23<01:21,  4.08s/it]"
     ]
    },
    {
     "name": "stdout",
     "output_type": "stream",
     "text": [
      "BestCad 4.0 0.08624000306855738\n",
      "BestNuclei 4.0 8.163015299104793e-05\n"
     ]
    },
    {
     "name": "stderr",
     "output_type": "stream",
     "text": [
      "\r",
      " 24%|██████████████████████████████████████████                                                                                                                                     | 6/25 [00:26<01:13,  3.88s/it]"
     ]
    },
    {
     "name": "stdout",
     "output_type": "stream",
     "text": [
      "BestCad 5.0 0.13859808806691634\n",
      "BestNuclei 5.0 0.0002736672398452999\n"
     ]
    },
    {
     "name": "stderr",
     "output_type": "stream",
     "text": [
      "\r",
      " 28%|█████████████████████████████████████████████████                                                                                                                              | 7/25 [00:30<01:08,  3.83s/it]"
     ]
    },
    {
     "name": "stdout",
     "output_type": "stream",
     "text": [
      "BestCad 6.0 0.1828314944097232\n",
      "BestNuclei 6.0 0.007928968792107019\n"
     ]
    },
    {
     "name": "stderr",
     "output_type": "stream",
     "text": [
      "\r",
      " 32%|████████████████████████████████████████████████████████                                                                                                                       | 8/25 [00:34<01:04,  3.82s/it]"
     ]
    },
    {
     "name": "stdout",
     "output_type": "stream",
     "text": [
      "BestCad 7.0 0.2757162522446898\n",
      "BestNuclei 7.0 0.02789066259247045\n"
     ]
    },
    {
     "name": "stderr",
     "output_type": "stream",
     "text": [
      "\r",
      " 36%|███████████████████████████████████████████████████████████████                                                                                                                | 9/25 [00:37<01:00,  3.77s/it]"
     ]
    },
    {
     "name": "stdout",
     "output_type": "stream",
     "text": [
      "BestCad 8.0 0.2634989055115274\n",
      "BestNuclei 8.0 0.07113269173303405\n"
     ]
    },
    {
     "name": "stderr",
     "output_type": "stream",
     "text": [
      "\r",
      " 40%|█████████████████████████████████████████████████████████████████████▌                                                                                                        | 10/25 [00:41<00:55,  3.73s/it]"
     ]
    },
    {
     "name": "stdout",
     "output_type": "stream",
     "text": [
      "BestCad 9.0 0.4806175270456482\n",
      "BestNuclei 9.0 0.22991100161770342\n"
     ]
    },
    {
     "name": "stderr",
     "output_type": "stream",
     "text": [
      "\r",
      " 44%|████████████████████████████████████████████████████████████████████████████▌                                                                                                 | 11/25 [00:45<00:52,  3.77s/it]"
     ]
    },
    {
     "name": "stdout",
     "output_type": "stream",
     "text": [
      "BestCad 10.0 0.5241199520726999\n",
      "BestNuclei 10.0 0.4866177504348646\n"
     ]
    },
    {
     "name": "stderr",
     "output_type": "stream",
     "text": [
      "\r",
      " 48%|███████████████████████████████████████████████████████████████████████████████████▌                                                                                          | 12/25 [00:49<00:48,  3.73s/it]"
     ]
    },
    {
     "name": "stdout",
     "output_type": "stream",
     "text": [
      "BestCad 11.0 0.4675752467221834\n",
      "BestNuclei 11.0 0.6872847266495228\n"
     ]
    },
    {
     "name": "stderr",
     "output_type": "stream",
     "text": [
      "\r",
      " 52%|██████████████████████████████████████████████████████████████████████████████████████████▍                                                                                   | 13/25 [00:52<00:44,  3.68s/it]"
     ]
    },
    {
     "name": "stdout",
     "output_type": "stream",
     "text": [
      "BestCad 12.0 0.17269059904324618\n",
      "BestNuclei 12.0 0.9770500858624777\n"
     ]
    },
    {
     "name": "stderr",
     "output_type": "stream",
     "text": [
      "\r",
      " 56%|█████████████████████████████████████████████████████████████████████████████████████████████████▍                                                                            | 14/25 [00:56<00:41,  3.73s/it]"
     ]
    },
    {
     "name": "stdout",
     "output_type": "stream",
     "text": [
      "BestCad 13.0 0.08805873632714477\n",
      "BestNuclei 13.0 0.9955725234288436\n"
     ]
    },
    {
     "name": "stderr",
     "output_type": "stream",
     "text": [
      "\r",
      " 60%|████████████████████████████████████████████████████████████████████████████████████████████████████████▍                                                                     | 15/25 [00:59<00:36,  3.67s/it]"
     ]
    },
    {
     "name": "stdout",
     "output_type": "stream",
     "text": [
      "BestCad 14.0 0.005692399888933626\n",
      "BestNuclei 14.0 0.9994505757377261\n"
     ]
    },
    {
     "name": "stderr",
     "output_type": "stream",
     "text": [
      "\r",
      " 64%|███████████████████████████████████████████████████████████████████████████████████████████████████████████████▎                                                              | 16/25 [01:03<00:32,  3.63s/it]"
     ]
    },
    {
     "name": "stdout",
     "output_type": "stream",
     "text": [
      "BestCad 15.0 0.019282405348522366\n",
      "BestNuclei 15.0 0.9989387559890747\n"
     ]
    },
    {
     "name": "stderr",
     "output_type": "stream",
     "text": [
      "\r",
      " 68%|██████████████████████████████████████████████████████████████████████████████████████████████████████████████████████▎                                                       | 17/25 [01:07<00:29,  3.71s/it]"
     ]
    },
    {
     "name": "stdout",
     "output_type": "stream",
     "text": [
      "BestCad 16.0 0.0005537021480406457\n",
      "BestNuclei 16.0 0.9999292666713396\n"
     ]
    },
    {
     "name": "stderr",
     "output_type": "stream",
     "text": [
      "\r",
      " 72%|█████████████████████████████████████████████████████████████████████████████████████████████████████████████████████████████▎                                                | 18/25 [01:10<00:25,  3.66s/it]"
     ]
    },
    {
     "name": "stdout",
     "output_type": "stream",
     "text": [
      "BestCad 17.0 2.9559031309358744e-05\n",
      "BestNuclei 17.0 0.9999968409538269\n"
     ]
    },
    {
     "name": "stderr",
     "output_type": "stream",
     "text": [
      "\r",
      " 76%|████████████████████████████████████████████████████████████████████████████████████████████████████████████████████████████████████▏                                         | 19/25 [01:14<00:21,  3.66s/it]"
     ]
    },
    {
     "name": "stdout",
     "output_type": "stream",
     "text": [
      "BestCad 18.0 3.9663505845055624e-05\n",
      "BestNuclei 18.0 0.9999959121147791\n"
     ]
    },
    {
     "name": "stderr",
     "output_type": "stream",
     "text": [
      "\r",
      " 80%|███████████████████████████████████████████████████████████████████████████████████████████████████████████████████████████████████████████▏                                  | 20/25 [01:18<00:18,  3.66s/it]"
     ]
    },
    {
     "name": "stdout",
     "output_type": "stream",
     "text": [
      "BestCad 19.0 4.876650920819388e-05\n",
      "BestNuclei 19.0 0.9999952192107836\n"
     ]
    },
    {
     "name": "stderr",
     "output_type": "stream",
     "text": [
      "\r",
      " 84%|██████████████████████████████████████████████████████████████████████████████████████████████████████████████████████████████████████████████████▏                           | 21/25 [01:22<00:15,  3.90s/it]"
     ]
    },
    {
     "name": "stdout",
     "output_type": "stream",
     "text": [
      "BestCad 20.0 5.807113363945601e-05\n",
      "BestNuclei 20.0 0.9999965453147888\n"
     ]
    },
    {
     "name": "stderr",
     "output_type": "stream",
     "text": [
      "100%|██████████████████████████████████████████████████████████████████████████████████████████████████████████████████████████████████████████████████████████████████████████████| 25/25 [01:26<00:00,  3.45s/it]"
     ]
    },
    {
     "name": "stdout",
     "output_type": "stream",
     "text": [
      "BestCad 21.0 0.0007365478675637859\n",
      "BestNuclei 21.0 0.9999657788059928\n",
      "For file BestCadFocusQuality210629_Erk_Kate_His_mov1_w3CSU-QUAD-561_s3_t11 max score of 0.5241199520726999 was found at Z =  9.0\n",
      "For file BestNucleiFocusQuality210629_Erk_Kate_His_mov1_w3CSU-QUAD-561_s3_t11 max score of 0.9999968409538268 was found at Z =  16.0\n",
      "For file ComboFocusQuality210629_Erk_Kate_His_mov1_w3CSU-QUAD-561_s3_t11 max score of 0.5774299866858531 was found at Z =  10.0\n"
     ]
    },
    {
     "name": "stderr",
     "output_type": "stream",
     "text": [
      "\n"
     ]
    },
    {
     "name": "stdout",
     "output_type": "stream",
     "text": [
      "Detecting focus planes in 210629_Erk_Kate_His_mov1_w3CSU-QUAD-561_s8_t10\n"
     ]
    },
    {
     "name": "stderr",
     "output_type": "stream",
     "text": [
      "  4%|███████                                                                                                                                                                        | 1/25 [00:04<01:56,  4.84s/it]"
     ]
    },
    {
     "name": "stdout",
     "output_type": "stream",
     "text": [
      "BestCad 0.0 0.00029998091449236935\n",
      "BestNuclei 0.0 9.754891084074659e-08\n"
     ]
    },
    {
     "name": "stderr",
     "output_type": "stream",
     "text": [
      "\r",
      "  8%|██████████████                                                                                                                                                                 | 2/25 [00:08<01:31,  3.99s/it]"
     ]
    },
    {
     "name": "stdout",
     "output_type": "stream",
     "text": [
      "BestCad 1.0 2.139693507950049e-06\n",
      "BestNuclei 1.0 2.2072291717210237e-08\n"
     ]
    },
    {
     "name": "stderr",
     "output_type": "stream",
     "text": [
      "\r",
      " 12%|█████████████████████                                                                                                                                                          | 3/25 [00:11<01:20,  3.65s/it]"
     ]
    },
    {
     "name": "stdout",
     "output_type": "stream",
     "text": [
      "BestCad 2.0 2.579812234153021e-05\n",
      "BestNuclei 2.0 6.950788956627818e-07\n"
     ]
    },
    {
     "name": "stderr",
     "output_type": "stream",
     "text": [
      "\r",
      " 16%|████████████████████████████                                                                                                                                                   | 4/25 [00:15<01:18,  3.76s/it]"
     ]
    },
    {
     "name": "stdout",
     "output_type": "stream",
     "text": [
      "BestCad 3.0 0.00018841685012520188\n",
      "BestNuclei 3.0 1.4638003344768474e-06\n"
     ]
    },
    {
     "name": "stderr",
     "output_type": "stream",
     "text": [
      "\r",
      " 20%|███████████████████████████████████                                                                                                                                            | 5/25 [00:19<01:15,  3.75s/it]"
     ]
    },
    {
     "name": "stdout",
     "output_type": "stream",
     "text": [
      "BestCad 4.0 0.03045740251497146\n",
      "BestNuclei 4.0 2.1840057177525963e-05\n"
     ]
    },
    {
     "name": "stderr",
     "output_type": "stream",
     "text": [
      "\r",
      " 24%|██████████████████████████████████████████                                                                                                                                     | 6/25 [00:22<01:10,  3.73s/it]"
     ]
    },
    {
     "name": "stdout",
     "output_type": "stream",
     "text": [
      "BestCad 5.0 0.04699604807760771\n",
      "BestNuclei 5.0 0.00045583591274553484\n"
     ]
    },
    {
     "name": "stderr",
     "output_type": "stream",
     "text": [
      "\r",
      " 28%|█████████████████████████████████████████████████                                                                                                                              | 7/25 [00:26<01:07,  3.74s/it]"
     ]
    },
    {
     "name": "stdout",
     "output_type": "stream",
     "text": [
      "BestCad 6.0 0.0770507997588119\n",
      "BestNuclei 6.0 0.001133441386612758\n"
     ]
    },
    {
     "name": "stderr",
     "output_type": "stream",
     "text": [
      "\r",
      " 32%|████████████████████████████████████████████████████████                                                                                                                       | 8/25 [00:30<01:05,  3.87s/it]"
     ]
    },
    {
     "name": "stdout",
     "output_type": "stream",
     "text": [
      "BestCad 7.0 0.22618039401961298\n",
      "BestNuclei 7.0 0.10792948832258298\n"
     ]
    },
    {
     "name": "stderr",
     "output_type": "stream",
     "text": [
      "\r",
      " 36%|███████████████████████████████████████████████████████████████                                                                                                                | 9/25 [00:34<01:02,  3.93s/it]"
     ]
    },
    {
     "name": "stdout",
     "output_type": "stream",
     "text": [
      "BestCad 8.0 0.26171655246253067\n",
      "BestNuclei 8.0 0.12363272096515619\n"
     ]
    },
    {
     "name": "stderr",
     "output_type": "stream",
     "text": [
      "\r",
      " 40%|█████████████████████████████████████████████████████████████████████▌                                                                                                        | 10/25 [00:38<00:58,  3.93s/it]"
     ]
    },
    {
     "name": "stdout",
     "output_type": "stream",
     "text": [
      "BestCad 9.0 0.28334847548952286\n",
      "BestNuclei 9.0 0.18532242556196898\n"
     ]
    },
    {
     "name": "stderr",
     "output_type": "stream",
     "text": [
      "\r",
      " 44%|████████████████████████████████████████████████████████████████████████████▌                                                                                                 | 11/25 [00:43<00:56,  4.03s/it]"
     ]
    },
    {
     "name": "stdout",
     "output_type": "stream",
     "text": [
      "BestCad 10.0 0.40827264355320947\n",
      "BestNuclei 10.0 0.19278108755666012\n"
     ]
    },
    {
     "name": "stderr",
     "output_type": "stream",
     "text": [
      "\r",
      " 48%|███████████████████████████████████████████████████████████████████████████████████▌                                                                                          | 12/25 [00:47<00:52,  4.05s/it]"
     ]
    },
    {
     "name": "stdout",
     "output_type": "stream",
     "text": [
      "BestCad 11.0 0.5239063487265652\n",
      "BestNuclei 11.0 0.2552901429323053\n"
     ]
    },
    {
     "name": "stderr",
     "output_type": "stream",
     "text": [
      "\r",
      " 52%|██████████████████████████████████████████████████████████████████████████████████████████▍                                                                                   | 13/25 [00:51<00:49,  4.13s/it]"
     ]
    },
    {
     "name": "stdout",
     "output_type": "stream",
     "text": [
      "BestCad 12.0 0.5431745850713924\n",
      "BestNuclei 12.0 0.28599753463968225\n"
     ]
    },
    {
     "name": "stderr",
     "output_type": "stream",
     "text": [
      "\r",
      " 56%|█████████████████████████████████████████████████████████████████████████████████████████████████▍                                                                            | 14/25 [00:55<00:45,  4.10s/it]"
     ]
    },
    {
     "name": "stdout",
     "output_type": "stream",
     "text": [
      "BestCad 13.0 0.39897655893146294\n",
      "BestNuclei 13.0 0.7758708058211666\n"
     ]
    },
    {
     "name": "stderr",
     "output_type": "stream",
     "text": [
      "\r",
      " 60%|████████████████████████████████████████████████████████████████████████████████████████████████████████▍                                                                     | 15/25 [00:59<00:40,  4.08s/it]"
     ]
    },
    {
     "name": "stdout",
     "output_type": "stream",
     "text": [
      "BestCad 14.0 0.20367868289727084\n",
      "BestNuclei 14.0 0.9629098796844482\n"
     ]
    },
    {
     "name": "stderr",
     "output_type": "stream",
     "text": [
      "\r",
      " 64%|███████████████████████████████████████████████████████████████████████████████████████████████████████████████▎                                                              | 16/25 [01:03<00:37,  4.15s/it]"
     ]
    },
    {
     "name": "stdout",
     "output_type": "stream",
     "text": [
      "BestCad 15.0 0.1754417985703185\n",
      "BestNuclei 15.0 0.9793483328819275\n"
     ]
    },
    {
     "name": "stderr",
     "output_type": "stream",
     "text": [
      "\r",
      " 68%|██████████████████████████████████████████████████████████████████████████████████████████████████████████████████████▎                                                       | 17/25 [01:07<00:32,  4.09s/it]"
     ]
    },
    {
     "name": "stdout",
     "output_type": "stream",
     "text": [
      "BestCad 16.0 0.14975815699822956\n",
      "BestNuclei 16.0 0.9689197018742561\n"
     ]
    },
    {
     "name": "stderr",
     "output_type": "stream",
     "text": [
      "\r",
      " 72%|█████████████████████████████████████████████████████████████████████████████████████████████████████████████████████████████▎                                                | 18/25 [01:11<00:28,  4.02s/it]"
     ]
    },
    {
     "name": "stdout",
     "output_type": "stream",
     "text": [
      "BestCad 17.0 0.4133063200279139\n",
      "BestNuclei 17.0 0.7618753522958445\n"
     ]
    },
    {
     "name": "stderr",
     "output_type": "stream",
     "text": [
      "\r",
      " 76%|████████████████████████████████████████████████████████████████████████████████████████████████████████████████████████████████████▏                                         | 19/25 [01:15<00:24,  4.02s/it]"
     ]
    },
    {
     "name": "stdout",
     "output_type": "stream",
     "text": [
      "BestCad 18.0 0.017653108763245957\n",
      "BestNuclei 18.0 0.9991215208302373\n"
     ]
    },
    {
     "name": "stderr",
     "output_type": "stream",
     "text": [
      "\r",
      " 80%|███████████████████████████████████████████████████████████████████████████████████████████████████████████████████████████████████████████▏                                  | 20/25 [01:19<00:20,  4.00s/it]"
     ]
    },
    {
     "name": "stdout",
     "output_type": "stream",
     "text": [
      "BestCad 19.0 0.01986607720591169\n",
      "BestNuclei 19.0 0.9974909543991088\n"
     ]
    },
    {
     "name": "stderr",
     "output_type": "stream",
     "text": [
      "\r",
      " 84%|██████████████████████████████████████████████████████████████████████████████████████████████████████████████████████████████████████████████████▏                           | 21/25 [01:23<00:16,  4.07s/it]"
     ]
    },
    {
     "name": "stdout",
     "output_type": "stream",
     "text": [
      "BestCad 20.0 0.005779607755476204\n",
      "BestNuclei 20.0 0.9997866361037545\n"
     ]
    },
    {
     "name": "stderr",
     "output_type": "stream",
     "text": [
      "100%|██████████████████████████████████████████████████████████████████████████████████████████████████████████████████████████████████████████████████████████████████████████████| 25/25 [01:27<00:00,  3.49s/it]"
     ]
    },
    {
     "name": "stdout",
     "output_type": "stream",
     "text": [
      "BestCad 21.0 0.013375816360642355\n",
      "BestNuclei 21.0 0.9993190792473879\n",
      "For file BestNucleiFocusQuality210629_Erk_Kate_His_mov1_w3CSU-QUAD-561_s8_t10 max score of 0.9997866361037544 was found at Z =  19.0\n",
      "For file BestCadFocusQuality210629_Erk_Kate_His_mov1_w3CSU-QUAD-561_s8_t10 max score of 0.5431745850713924 was found at Z =  11.0\n",
      "For file BestCadFocusQuality210629_Erk_Kate_His_mov1_w3CSU-QUAD-561_s3_t11 max score of 0.5241199520726999 was found at Z =  9.0\n",
      "For file BestNucleiFocusQuality210629_Erk_Kate_His_mov1_w3CSU-QUAD-561_s3_t11 max score of 0.9999968409538268 was found at Z =  16.0\n",
      "For file ComboFocusQuality210629_Erk_Kate_His_mov1_w3CSU-QUAD-561_s8_t10 max score of 0.5875908361618791 was found at Z =  16.0\n",
      "For file ComboFocusQuality210629_Erk_Kate_His_mov1_w3CSU-QUAD-561_s3_t11 max score of 0.5774299866858531 was found at Z =  10.0\n"
     ]
    },
    {
     "name": "stderr",
     "output_type": "stream",
     "text": [
      "\n"
     ]
    },
    {
     "name": "stdout",
     "output_type": "stream",
     "text": [
      "Detecting focus planes in 210629_Erk_Kate_His_mov1_w1CSU-QUAD-561_s5_t12\n"
     ]
    },
    {
     "name": "stderr",
     "output_type": "stream",
     "text": [
      "  4%|███████                                                                                                                                                                        | 1/25 [00:04<01:56,  4.87s/it]"
     ]
    },
    {
     "name": "stdout",
     "output_type": "stream",
     "text": [
      "BestCad 0.0 0.03101640541128637\n",
      "BestNuclei 0.0 0.994968021357501\n"
     ]
    },
    {
     "name": "stderr",
     "output_type": "stream",
     "text": [
      "\r",
      "  8%|██████████████                                                                                                                                                                 | 2/25 [00:09<01:43,  4.51s/it]"
     ]
    },
    {
     "name": "stdout",
     "output_type": "stream",
     "text": [
      "BestCad 1.0 6.126146162056433e-05\n",
      "BestNuclei 1.0 0.999982652755884\n"
     ]
    },
    {
     "name": "stderr",
     "output_type": "stream",
     "text": [
      "\r",
      " 12%|█████████████████████                                                                                                                                                          | 3/25 [00:12<01:31,  4.16s/it]"
     ]
    },
    {
     "name": "stdout",
     "output_type": "stream",
     "text": [
      "BestCad 2.0 1.2878180422890379e-05\n",
      "BestNuclei 2.0 0.9999958781095651\n"
     ]
    },
    {
     "name": "stderr",
     "output_type": "stream",
     "text": [
      "\r",
      " 16%|████████████████████████████                                                                                                                                                   | 4/25 [00:16<01:23,  3.97s/it]"
     ]
    },
    {
     "name": "stdout",
     "output_type": "stream",
     "text": [
      "BestCad 3.0 1.58610254878849e-05\n",
      "BestNuclei 3.0 0.9999958801269532\n"
     ]
    },
    {
     "name": "stderr",
     "output_type": "stream",
     "text": [
      "\r",
      " 20%|███████████████████████████████████                                                                                                                                            | 5/25 [00:20<01:18,  3.90s/it]"
     ]
    },
    {
     "name": "stdout",
     "output_type": "stream",
     "text": [
      "BestCad 4.0 1.4495849515324979e-05\n",
      "BestNuclei 4.0 0.9999968600273133\n"
     ]
    },
    {
     "name": "stderr",
     "output_type": "stream",
     "text": [
      "\r",
      " 24%|██████████████████████████████████████████                                                                                                                                     | 6/25 [00:24<01:12,  3.84s/it]"
     ]
    },
    {
     "name": "stdout",
     "output_type": "stream",
     "text": [
      "BestCad 5.0 0.00011292453506360867\n",
      "BestNuclei 5.0 0.9999747092907245\n"
     ]
    },
    {
     "name": "stderr",
     "output_type": "stream",
     "text": [
      "\r",
      " 28%|█████████████████████████████████████████████████                                                                                                                              | 7/25 [00:28<01:10,  3.90s/it]"
     ]
    },
    {
     "name": "stdout",
     "output_type": "stream",
     "text": [
      "BestCad 6.0 3.2891507316890056e-05\n",
      "BestNuclei 6.0 0.9999941037251399\n"
     ]
    },
    {
     "name": "stderr",
     "output_type": "stream",
     "text": [
      "\r",
      " 32%|████████████████████████████████████████████████████████                                                                                                                       | 8/25 [00:31<01:05,  3.87s/it]"
     ]
    },
    {
     "name": "stdout",
     "output_type": "stream",
     "text": [
      "BestCad 7.0 3.631674040943402e-06\n",
      "BestNuclei 7.0 0.9999994337558746\n"
     ]
    },
    {
     "name": "stderr",
     "output_type": "stream",
     "text": [
      "\r",
      " 36%|███████████████████████████████████████████████████████████████                                                                                                                | 9/25 [00:35<01:01,  3.84s/it]"
     ]
    },
    {
     "name": "stdout",
     "output_type": "stream",
     "text": [
      "BestCad 8.0 9.109712921243677e-06\n",
      "BestNuclei 8.0 0.9999990105628968\n"
     ]
    },
    {
     "name": "stderr",
     "output_type": "stream",
     "text": [
      "\r",
      " 40%|█████████████████████████████████████████████████████████████████████▌                                                                                                        | 10/25 [00:39<00:56,  3.80s/it]"
     ]
    },
    {
     "name": "stdout",
     "output_type": "stream",
     "text": [
      "BestCad 9.0 5.224210375532633e-05\n",
      "BestNuclei 9.0 0.9999953643842177\n"
     ]
    },
    {
     "name": "stderr",
     "output_type": "stream",
     "text": [
      "\r",
      " 44%|████████████████████████████████████████████████████████████████████████████▌                                                                                                 | 11/25 [00:43<00:52,  3.75s/it]"
     ]
    },
    {
     "name": "stdout",
     "output_type": "stream",
     "text": [
      "BestCad 10.0 0.00012119282893343971\n",
      "BestNuclei 10.0 0.999968002239863\n"
     ]
    },
    {
     "name": "stderr",
     "output_type": "stream",
     "text": [
      "\r",
      " 48%|███████████████████████████████████████████████████████████████████████████████████▌                                                                                          | 12/25 [00:46<00:49,  3.79s/it]"
     ]
    },
    {
     "name": "stdout",
     "output_type": "stream",
     "text": [
      "BestCad 11.0 0.00021483586691750173\n",
      "BestNuclei 11.0 0.9999709025673245\n"
     ]
    },
    {
     "name": "stderr",
     "output_type": "stream",
     "text": [
      "\r",
      " 52%|██████████████████████████████████████████████████████████████████████████████████████████▍                                                                                   | 13/25 [00:50<00:44,  3.71s/it]"
     ]
    },
    {
     "name": "stdout",
     "output_type": "stream",
     "text": [
      "BestCad 12.0 0.0002464228117870252\n",
      "BestNuclei 12.0 0.9999603732772495\n"
     ]
    },
    {
     "name": "stderr",
     "output_type": "stream",
     "text": [
      "\r",
      " 56%|█████████████████████████████████████████████████████████████████████████████████████████████████▍                                                                            | 14/25 [00:53<00:40,  3.64s/it]"
     ]
    },
    {
     "name": "stdout",
     "output_type": "stream",
     "text": [
      "BestCad 13.0 0.00015036227741802577\n",
      "BestNuclei 13.0 0.9999612813646143\n"
     ]
    },
    {
     "name": "stderr",
     "output_type": "stream",
     "text": [
      "\r",
      " 60%|████████████████████████████████████████████████████████████████████████████████████████████████████████▍                                                                     | 15/25 [00:57<00:35,  3.59s/it]"
     ]
    },
    {
     "name": "stdout",
     "output_type": "stream",
     "text": [
      "BestCad 14.0 0.00016290199194675856\n",
      "BestNuclei 14.0 0.9999786586988539\n"
     ]
    },
    {
     "name": "stderr",
     "output_type": "stream",
     "text": [
      "\r",
      " 64%|███████████████████████████████████████████████████████████████████████████████████████████████████████████████▎                                                              | 16/25 [01:00<00:32,  3.56s/it]"
     ]
    },
    {
     "name": "stdout",
     "output_type": "stream",
     "text": [
      "BestCad 15.0 0.00015919548520916858\n",
      "BestNuclei 15.0 0.9999594377434772\n"
     ]
    },
    {
     "name": "stderr",
     "output_type": "stream",
     "text": [
      "\r",
      " 68%|██████████████████████████████████████████████████████████████████████████████████████████████████████████████████████▎                                                       | 17/25 [01:04<00:28,  3.62s/it]"
     ]
    },
    {
     "name": "stdout",
     "output_type": "stream",
     "text": [
      "BestCad 16.0 0.0001920575243730127\n",
      "BestNuclei 16.0 0.9999518109404523\n"
     ]
    },
    {
     "name": "stderr",
     "output_type": "stream",
     "text": [
      "\r",
      " 72%|█████████████████████████████████████████████████████████████████████████████████████████████████████████████████████████████▎                                                | 18/25 [01:08<00:25,  3.64s/it]"
     ]
    },
    {
     "name": "stdout",
     "output_type": "stream",
     "text": [
      "BestCad 17.0 0.0002033591052800741\n",
      "BestNuclei 17.0 0.9999539541161578\n"
     ]
    },
    {
     "name": "stderr",
     "output_type": "stream",
     "text": [
      "\r",
      " 76%|████████████████████████████████████████████████████████████████████████████████████████████████████████████████████████████████████▏                                         | 19/25 [01:11<00:21,  3.62s/it]"
     ]
    },
    {
     "name": "stdout",
     "output_type": "stream",
     "text": [
      "BestCad 18.0 0.0003552258116858708\n",
      "BestNuclei 18.0 0.9999538605863397\n"
     ]
    },
    {
     "name": "stderr",
     "output_type": "stream",
     "text": [
      "\r",
      " 80%|███████████████████████████████████████████████████████████████████████████████████████████████████████████████████████████████████████████▏                                  | 20/25 [01:15<00:18,  3.61s/it]"
     ]
    },
    {
     "name": "stdout",
     "output_type": "stream",
     "text": [
      "BestCad 19.0 0.00018950226723973173\n",
      "BestNuclei 19.0 0.999965719201348\n"
     ]
    },
    {
     "name": "stderr",
     "output_type": "stream",
     "text": [
      "\r",
      " 84%|██████████████████████████████████████████████████████████████████████████████████████████████████████████████████████████████████████████████████▏                           | 21/25 [01:19<00:14,  3.62s/it]"
     ]
    },
    {
     "name": "stdout",
     "output_type": "stream",
     "text": [
      "BestCad 20.0 0.00015801029148860836\n",
      "BestNuclei 20.0 0.9999750771305778\n"
     ]
    },
    {
     "name": "stderr",
     "output_type": "stream",
     "text": [
      "100%|██████████████████████████████████████████████████████████████████████████████████████████████████████████████████████████████████████████████████████████████████████████████| 25/25 [01:23<00:00,  3.32s/it]"
     ]
    },
    {
     "name": "stdout",
     "output_type": "stream",
     "text": [
      "BestCad 21.0 0.0001517172771015724\n",
      "BestNuclei 21.0 0.9999762830280122\n",
      "For file BestNucleiFocusQuality210629_Erk_Kate_His_mov1_w3CSU-QUAD-561_s8_t10 max score of 0.9997866361037544 was found at Z =  19.0\n",
      "For file ComboFocusQuality210629_Erk_Kate_His_mov1_w1CSU-QUAD-561_s5_t12 max score of 0.5001545431990128 was found at Z =  17.0\n",
      "For file BestCadFocusQuality210629_Erk_Kate_His_mov1_w3CSU-QUAD-561_s8_t10 max score of 0.5431745850713924 was found at Z =  11.0\n",
      "For file BestCadFocusQuality210629_Erk_Kate_His_mov1_w1CSU-QUAD-561_s5_t12 max score of 0.0003552258116858 was found at Z =  17.0\n",
      "For file BestCadFocusQuality210629_Erk_Kate_His_mov1_w3CSU-QUAD-561_s3_t11 max score of 0.5241199520726999 was found at Z =  9.0\n",
      "For file BestNucleiFocusQuality210629_Erk_Kate_His_mov1_w3CSU-QUAD-561_s3_t11 max score of 0.9999968409538268 was found at Z =  16.0\n",
      "For file ComboFocusQuality210629_Erk_Kate_His_mov1_w3CSU-QUAD-561_s8_t10 max score of 0.5875908361618791 was found at Z =  16.0\n",
      "For file ComboFocusQuality210629_Erk_Kate_His_mov1_w3CSU-QUAD-561_s3_t11 max score of 0.5774299866858531 was found at Z =  10.0\n",
      "For file BestNucleiFocusQuality210629_Erk_Kate_His_mov1_w1CSU-QUAD-561_s5_t12 max score of 0.9999994337558746 was found at Z =  6.0\n"
     ]
    },
    {
     "name": "stderr",
     "output_type": "stream",
     "text": [
      "\n"
     ]
    },
    {
     "name": "stdout",
     "output_type": "stream",
     "text": [
      "Detecting focus planes in 210629_Erk_Kate_His_mov1_w1CSU-QUAD-561_s9_t32\n"
     ]
    },
    {
     "name": "stderr",
     "output_type": "stream",
     "text": [
      "  4%|███████                                                                                                                                                                        | 1/25 [00:05<02:00,  5.00s/it]"
     ]
    },
    {
     "name": "stdout",
     "output_type": "stream",
     "text": [
      "BestCad 0.0 0.30661999407912727\n",
      "BestNuclei 0.0 0.06598813684949681\n"
     ]
    },
    {
     "name": "stderr",
     "output_type": "stream",
     "text": [
      "\r",
      "  8%|██████████████                                                                                                                                                                 | 2/25 [00:08<01:35,  4.17s/it]"
     ]
    },
    {
     "name": "stdout",
     "output_type": "stream",
     "text": [
      "BestCad 1.0 0.294145750649043\n",
      "BestNuclei 1.0 0.10121633591264516\n"
     ]
    },
    {
     "name": "stderr",
     "output_type": "stream",
     "text": [
      "\r",
      " 12%|█████████████████████                                                                                                                                                          | 3/25 [00:12<01:28,  4.04s/it]"
     ]
    },
    {
     "name": "stdout",
     "output_type": "stream",
     "text": [
      "BestCad 2.0 0.40059930764531915\n",
      "BestNuclei 2.0 0.09828834728534647\n"
     ]
    },
    {
     "name": "stderr",
     "output_type": "stream",
     "text": [
      "\r",
      " 16%|████████████████████████████                                                                                                                                                   | 4/25 [00:15<01:20,  3.83s/it]"
     ]
    },
    {
     "name": "stdout",
     "output_type": "stream",
     "text": [
      "BestCad 3.0 0.45542711002431135\n",
      "BestNuclei 3.0 0.10536979489443411\n"
     ]
    },
    {
     "name": "stderr",
     "output_type": "stream",
     "text": [
      "\r",
      " 20%|███████████████████████████████████                                                                                                                                            | 5/25 [00:20<01:17,  3.90s/it]"
     ]
    },
    {
     "name": "stdout",
     "output_type": "stream",
     "text": [
      "BestCad 4.0 0.49978799993429374\n",
      "BestNuclei 4.0 0.18472249147974545\n"
     ]
    },
    {
     "name": "stderr",
     "output_type": "stream",
     "text": [
      "\r",
      " 24%|██████████████████████████████████████████                                                                                                                                     | 6/25 [00:24<01:15,  3.96s/it]"
     ]
    },
    {
     "name": "stdout",
     "output_type": "stream",
     "text": [
      "BestCad 5.0 0.4915928205684953\n",
      "BestNuclei 5.0 0.25696401995375606\n"
     ]
    },
    {
     "name": "stderr",
     "output_type": "stream",
     "text": [
      "\r",
      " 28%|█████████████████████████████████████████████████                                                                                                                              | 7/25 [00:28<01:11,  3.97s/it]"
     ]
    },
    {
     "name": "stdout",
     "output_type": "stream",
     "text": [
      "BestCad 6.0 0.4894761128917664\n",
      "BestNuclei 6.0 0.30452882508924944\n"
     ]
    },
    {
     "name": "stderr",
     "output_type": "stream",
     "text": [
      "\r",
      " 32%|████████████████████████████████████████████████████████                                                                                                                       | 8/25 [00:31<01:06,  3.93s/it]"
     ]
    },
    {
     "name": "stdout",
     "output_type": "stream",
     "text": [
      "BestCad 7.0 0.5125991195999017\n",
      "BestNuclei 7.0 0.41512830655138444\n"
     ]
    },
    {
     "name": "stderr",
     "output_type": "stream",
     "text": [
      "\r",
      " 36%|███████████████████████████████████████████████████████████████                                                                                                                | 9/25 [00:35<01:03,  3.94s/it]"
     ]
    },
    {
     "name": "stdout",
     "output_type": "stream",
     "text": [
      "BestCad 8.0 0.6303325514327623\n",
      "BestNuclei 8.0 0.46259215905536216\n"
     ]
    },
    {
     "name": "stderr",
     "output_type": "stream",
     "text": [
      "\r",
      " 40%|█████████████████████████████████████████████████████████████████████▌                                                                                                        | 10/25 [00:39<00:57,  3.84s/it]"
     ]
    },
    {
     "name": "stdout",
     "output_type": "stream",
     "text": [
      "BestCad 9.0 0.6941878294688649\n",
      "BestNuclei 9.0 0.4897197164002005\n"
     ]
    },
    {
     "name": "stderr",
     "output_type": "stream",
     "text": [
      "\r",
      " 44%|████████████████████████████████████████████████████████████████████████████▌                                                                                                 | 11/25 [00:43<00:54,  3.87s/it]"
     ]
    },
    {
     "name": "stdout",
     "output_type": "stream",
     "text": [
      "BestCad 10.0 0.689701199337019\n",
      "BestNuclei 10.0 0.4724791921058637\n"
     ]
    },
    {
     "name": "stderr",
     "output_type": "stream",
     "text": [
      "\r",
      " 48%|███████████████████████████████████████████████████████████████████████████████████▌                                                                                          | 12/25 [00:46<00:48,  3.73s/it]"
     ]
    },
    {
     "name": "stdout",
     "output_type": "stream",
     "text": [
      "BestCad 11.0 0.8257120361344682\n",
      "BestNuclei 11.0 0.45001898165022186\n"
     ]
    },
    {
     "name": "stderr",
     "output_type": "stream",
     "text": [
      "\r",
      " 52%|██████████████████████████████████████████████████████████████████████████████████████████▍                                                                                   | 13/25 [00:50<00:43,  3.62s/it]"
     ]
    },
    {
     "name": "stdout",
     "output_type": "stream",
     "text": [
      "BestCad 12.0 0.7913917854893953\n",
      "BestNuclei 12.0 0.5060648670986748\n"
     ]
    },
    {
     "name": "stderr",
     "output_type": "stream",
     "text": [
      "\r",
      " 56%|█████████████████████████████████████████████████████████████████████████████████████████████████▍                                                                            | 14/25 [00:53<00:38,  3.53s/it]"
     ]
    },
    {
     "name": "stdout",
     "output_type": "stream",
     "text": [
      "BestCad 13.0 0.8923947778013017\n",
      "BestNuclei 13.0 0.4985712890683435\n"
     ]
    },
    {
     "name": "stderr",
     "output_type": "stream",
     "text": [
      "\r",
      " 60%|████████████████████████████████████████████████████████████████████████████████████████████████████████▍                                                                     | 15/25 [00:56<00:34,  3.48s/it]"
     ]
    },
    {
     "name": "stdout",
     "output_type": "stream",
     "text": [
      "BestCad 14.0 0.8424940767387549\n",
      "BestNuclei 14.0 0.5190439953586611\n"
     ]
    },
    {
     "name": "stderr",
     "output_type": "stream",
     "text": [
      "\r",
      " 64%|███████████████████████████████████████████████████████████████████████████████████████████████████████████████▎                                                              | 16/25 [01:00<00:30,  3.42s/it]"
     ]
    },
    {
     "name": "stdout",
     "output_type": "stream",
     "text": [
      "BestCad 15.0 0.921153602655977\n",
      "BestNuclei 15.0 0.4910269398208425\n"
     ]
    },
    {
     "name": "stderr",
     "output_type": "stream",
     "text": [
      "\r",
      " 68%|██████████████████████████████████████████████████████████████████████████████████████████████████████████████████████▎                                                       | 17/25 [01:03<00:27,  3.48s/it]"
     ]
    },
    {
     "name": "stdout",
     "output_type": "stream",
     "text": [
      "BestCad 16.0 0.9223789660747916\n",
      "BestNuclei 16.0 0.5856141440692484\n"
     ]
    },
    {
     "name": "stderr",
     "output_type": "stream",
     "text": [
      "\r",
      " 72%|█████████████████████████████████████████████████████████████████████████████████████████████████████████████████████████████▎                                                | 18/25 [01:07<00:23,  3.40s/it]"
     ]
    },
    {
     "name": "stdout",
     "output_type": "stream",
     "text": [
      "BestCad 17.0 0.8113634453620762\n",
      "BestNuclei 17.0 0.5912104306148754\n"
     ]
    },
    {
     "name": "stderr",
     "output_type": "stream",
     "text": [
      "\r",
      " 76%|████████████████████████████████████████████████████████████████████████████████████████████████████████████████████████████████████▏                                         | 19/25 [01:10<00:20,  3.37s/it]"
     ]
    },
    {
     "name": "stdout",
     "output_type": "stream",
     "text": [
      "BestCad 18.0 0.8186198003590107\n",
      "BestNuclei 18.0 0.7994617238620539\n"
     ]
    },
    {
     "name": "stderr",
     "output_type": "stream",
     "text": [
      "\r",
      " 80%|███████████████████████████████████████████████████████████████████████████████████████████████████████████████████████████████████████████▏                                  | 20/25 [01:13<00:16,  3.35s/it]"
     ]
    },
    {
     "name": "stdout",
     "output_type": "stream",
     "text": [
      "BestCad 19.0 0.8586075740999409\n",
      "BestNuclei 19.0 0.6296882091579997\n"
     ]
    },
    {
     "name": "stderr",
     "output_type": "stream",
     "text": [
      "\r",
      " 84%|██████████████████████████████████████████████████████████████████████████████████████████████████████████████████████████████████████████████████▏                           | 21/25 [01:16<00:13,  3.35s/it]"
     ]
    },
    {
     "name": "stdout",
     "output_type": "stream",
     "text": [
      "BestCad 20.0 0.7716218308884312\n",
      "BestNuclei 20.0 0.5794736355760093\n"
     ]
    },
    {
     "name": "stderr",
     "output_type": "stream",
     "text": [
      "100%|██████████████████████████████████████████████████████████████████████████████████████████████████████████████████████████████████████████████████████████████████████████████| 25/25 [01:20<00:00,  3.21s/it]"
     ]
    },
    {
     "name": "stdout",
     "output_type": "stream",
     "text": [
      "BestCad 21.0 0.7722108675622043\n",
      "BestNuclei 21.0 0.5790930136784234\n",
      "For file BestNucleiFocusQuality210629_Erk_Kate_His_mov1_w3CSU-QUAD-561_s8_t10 max score of 0.9997866361037544 was found at Z =  19.0\n",
      "For file ComboFocusQuality210629_Erk_Kate_His_mov1_w1CSU-QUAD-561_s5_t12 max score of 0.5001545431990128 was found at Z =  17.0\n",
      "For file BestCadFocusQuality210629_Erk_Kate_His_mov1_w1CSU-QUAD-561_s9_t32 max score of 0.9223789660747916 was found at Z =  15.0\n",
      "For file ComboFocusQuality210629_Erk_Kate_His_mov1_w1CSU-QUAD-561_s9_t32 max score of 0.8090407621105323 was found at Z =  17.0\n",
      "For file BestCadFocusQuality210629_Erk_Kate_His_mov1_w3CSU-QUAD-561_s8_t10 max score of 0.5431745850713924 was found at Z =  11.0\n",
      "For file BestCadFocusQuality210629_Erk_Kate_His_mov1_w1CSU-QUAD-561_s5_t12 max score of 0.0003552258116858 was found at Z =  17.0\n",
      "For file BestCadFocusQuality210629_Erk_Kate_His_mov1_w3CSU-QUAD-561_s3_t11 max score of 0.5241199520726999 was found at Z =  9.0\n",
      "For file BestNucleiFocusQuality210629_Erk_Kate_His_mov1_w3CSU-QUAD-561_s3_t11 max score of 0.9999968409538268 was found at Z =  16.0\n",
      "For file ComboFocusQuality210629_Erk_Kate_His_mov1_w3CSU-QUAD-561_s8_t10 max score of 0.5875908361618791 was found at Z =  16.0\n",
      "For file ComboFocusQuality210629_Erk_Kate_His_mov1_w3CSU-QUAD-561_s3_t11 max score of 0.5774299866858531 was found at Z =  10.0\n",
      "For file BestNucleiFocusQuality210629_Erk_Kate_His_mov1_w1CSU-QUAD-561_s9_t32 max score of 0.7994617238620539 was found at Z =  17.0\n",
      "For file BestNucleiFocusQuality210629_Erk_Kate_His_mov1_w1CSU-QUAD-561_s5_t12 max score of 0.9999994337558746 was found at Z =  6.0\n"
     ]
    },
    {
     "name": "stderr",
     "output_type": "stream",
     "text": [
      "\n"
     ]
    },
    {
     "name": "stdout",
     "output_type": "stream",
     "text": [
      "Detecting focus planes in 210629_Erk_Kate_His_mov1_w3CSU-QUAD-561_s11_t21\n"
     ]
    },
    {
     "name": "stderr",
     "output_type": "stream",
     "text": [
      "  4%|███████                                                                                                                                                                        | 1/25 [00:04<01:50,  4.61s/it]"
     ]
    },
    {
     "name": "stdout",
     "output_type": "stream",
     "text": [
      "BestCad 0.0 4.303454021290711e-05\n",
      "BestNuclei 0.0 5.73997001781142e-09\n"
     ]
    },
    {
     "name": "stderr",
     "output_type": "stream",
     "text": [
      "\r",
      "  8%|██████████████                                                                                                                                                                 | 2/25 [00:08<01:39,  4.33s/it]"
     ]
    },
    {
     "name": "stdout",
     "output_type": "stream",
     "text": [
      "BestCad 1.0 1.8673195541237437e-05\n",
      "BestNuclei 1.0 2.0284730891523273e-09\n"
     ]
    },
    {
     "name": "stderr",
     "output_type": "stream",
     "text": [
      "\r",
      " 12%|█████████████████████                                                                                                                                                          | 3/25 [00:12<01:28,  4.04s/it]"
     ]
    },
    {
     "name": "stdout",
     "output_type": "stream",
     "text": [
      "BestCad 2.0 3.8623509460287345e-05\n",
      "BestNuclei 2.0 7.3974329907247765e-09\n"
     ]
    },
    {
     "name": "stderr",
     "output_type": "stream",
     "text": [
      "\r",
      " 16%|████████████████████████████                                                                                                                                                   | 4/25 [00:16<01:21,  3.90s/it]"
     ]
    },
    {
     "name": "stdout",
     "output_type": "stream",
     "text": [
      "BestCad 3.0 0.00014410213393227693\n",
      "BestNuclei 3.0 1.3023937785183737e-08\n"
     ]
    },
    {
     "name": "stderr",
     "output_type": "stream",
     "text": [
      "\r",
      " 20%|███████████████████████████████████                                                                                                                                            | 5/25 [00:19<01:15,  3.79s/it]"
     ]
    },
    {
     "name": "stdout",
     "output_type": "stream",
     "text": [
      "BestCad 4.0 0.03825250634757689\n",
      "BestNuclei 4.0 6.116901363143143e-07\n"
     ]
    },
    {
     "name": "stderr",
     "output_type": "stream",
     "text": [
      "\r",
      " 24%|██████████████████████████████████████████                                                                                                                                     | 6/25 [00:23<01:12,  3.81s/it]"
     ]
    },
    {
     "name": "stdout",
     "output_type": "stream",
     "text": [
      "BestCad 5.0 0.1463900213778775\n",
      "BestNuclei 5.0 4.5377123016848535e-05\n"
     ]
    },
    {
     "name": "stderr",
     "output_type": "stream",
     "text": [
      "\r",
      " 28%|█████████████████████████████████████████████████                                                                                                                              | 7/25 [00:27<01:07,  3.77s/it]"
     ]
    },
    {
     "name": "stdout",
     "output_type": "stream",
     "text": [
      "BestCad 6.0 0.17504435807085256\n",
      "BestNuclei 6.0 0.0030222110044542507\n"
     ]
    },
    {
     "name": "stderr",
     "output_type": "stream",
     "text": [
      "\r",
      " 32%|████████████████████████████████████████████████████████                                                                                                                       | 8/25 [00:31<01:06,  3.92s/it]"
     ]
    },
    {
     "name": "stdout",
     "output_type": "stream",
     "text": [
      "BestCad 7.0 0.26128446133690886\n",
      "BestNuclei 7.0 0.016396179097240872\n"
     ]
    },
    {
     "name": "stderr",
     "output_type": "stream",
     "text": [
      "\r",
      " 36%|███████████████████████████████████████████████████████████████                                                                                                                | 9/25 [00:35<01:01,  3.87s/it]"
     ]
    },
    {
     "name": "stdout",
     "output_type": "stream",
     "text": [
      "BestCad 8.0 0.41071782510896976\n",
      "BestNuclei 8.0 0.1052173873996043\n"
     ]
    },
    {
     "name": "stderr",
     "output_type": "stream",
     "text": [
      "\r",
      " 40%|█████████████████████████████████████████████████████████████████████▌                                                                                                        | 10/25 [00:39<00:58,  3.88s/it]"
     ]
    },
    {
     "name": "stdout",
     "output_type": "stream",
     "text": [
      "BestCad 9.0 0.34338268455117943\n",
      "BestNuclei 9.0 0.16260569617297732\n"
     ]
    },
    {
     "name": "stderr",
     "output_type": "stream",
     "text": [
      "\r",
      " 44%|████████████████████████████████████████████████████████████████████████████▌                                                                                                 | 11/25 [00:42<00:52,  3.75s/it]"
     ]
    },
    {
     "name": "stdout",
     "output_type": "stream",
     "text": [
      "BestCad 10.0 0.12481854883953929\n",
      "BestNuclei 10.0 0.9351935868079846\n"
     ]
    },
    {
     "name": "stderr",
     "output_type": "stream",
     "text": [
      "\r",
      " 48%|███████████████████████████████████████████████████████████████████████████████████▌                                                                                          | 12/25 [00:46<00:48,  3.69s/it]"
     ]
    },
    {
     "name": "stdout",
     "output_type": "stream",
     "text": [
      "BestCad 11.0 0.005538345277521082\n",
      "BestNuclei 11.0 0.9988167596899945\n"
     ]
    },
    {
     "name": "stderr",
     "output_type": "stream",
     "text": [
      "\r",
      " 52%|██████████████████████████████████████████████████████████████████████████████████████████▍                                                                                   | 13/25 [00:49<00:43,  3.61s/it]"
     ]
    },
    {
     "name": "stdout",
     "output_type": "stream",
     "text": [
      "BestCad 12.0 0.0006241266517983084\n",
      "BestNuclei 12.0 0.9999167815498684\n"
     ]
    },
    {
     "name": "stderr",
     "output_type": "stream",
     "text": [
      "\r",
      " 56%|█████████████████████████████████████████████████████████████████████████████████████████████████▍                                                                            | 14/25 [00:53<00:38,  3.54s/it]"
     ]
    },
    {
     "name": "stdout",
     "output_type": "stream",
     "text": [
      "BestCad 13.0 0.000686557420885947\n",
      "BestNuclei 13.0 0.9998916257982668\n"
     ]
    },
    {
     "name": "stderr",
     "output_type": "stream",
     "text": [
      "\r",
      " 60%|████████████████████████████████████████████████████████████████████████████████████████████████████████▍                                                                     | 15/25 [00:56<00:34,  3.49s/it]"
     ]
    },
    {
     "name": "stdout",
     "output_type": "stream",
     "text": [
      "BestCad 14.0 0.0019141211683745495\n",
      "BestNuclei 14.0 0.9997823908925056\n"
     ]
    },
    {
     "name": "stderr",
     "output_type": "stream",
     "text": [
      "\r",
      " 64%|███████████████████████████████████████████████████████████████████████████████████████████████████████████████▎                                                              | 16/25 [01:00<00:32,  3.59s/it]"
     ]
    },
    {
     "name": "stdout",
     "output_type": "stream",
     "text": [
      "BestCad 15.0 0.21980094640515413\n",
      "BestNuclei 15.0 0.9847139379252559\n"
     ]
    },
    {
     "name": "stderr",
     "output_type": "stream",
     "text": [
      "\r",
      " 68%|██████████████████████████████████████████████████████████████████████████████████████████████████████████████████████▎                                                       | 17/25 [01:03<00:28,  3.51s/it]"
     ]
    },
    {
     "name": "stdout",
     "output_type": "stream",
     "text": [
      "BestCad 16.0 0.1938043974640957\n",
      "BestNuclei 16.0 0.9879642020572316\n"
     ]
    },
    {
     "name": "stderr",
     "output_type": "stream",
     "text": [
      "\r",
      " 72%|█████████████████████████████████████████████████████████████████████████████████████████████████████████████████████████████▎                                                | 18/25 [01:06<00:24,  3.44s/it]"
     ]
    },
    {
     "name": "stdout",
     "output_type": "stream",
     "text": [
      "BestCad 17.0 0.004296323660167653\n",
      "BestNuclei 17.0 0.9996521202000704\n"
     ]
    },
    {
     "name": "stderr",
     "output_type": "stream",
     "text": [
      "\r",
      " 76%|████████████████████████████████████████████████████████████████████████████████████████████████████████████████████████████████████▏                                         | 19/25 [01:10<00:20,  3.46s/it]"
     ]
    },
    {
     "name": "stdout",
     "output_type": "stream",
     "text": [
      "BestCad 18.0 0.0012511507870840433\n",
      "BestNuclei 18.0 0.9998474473303015\n"
     ]
    },
    {
     "name": "stderr",
     "output_type": "stream",
     "text": [
      "\r",
      " 80%|███████████████████████████████████████████████████████████████████████████████████████████████████████████████████████████████████████████▏                                  | 20/25 [01:13<00:17,  3.52s/it]"
     ]
    },
    {
     "name": "stdout",
     "output_type": "stream",
     "text": [
      "BestCad 19.0 0.0002079076371244256\n",
      "BestNuclei 19.0 0.999981704083356\n"
     ]
    },
    {
     "name": "stderr",
     "output_type": "stream",
     "text": [
      "\r",
      " 84%|██████████████████████████████████████████████████████████████████████████████████████████████████████████████████████████████████████████████████▏                           | 21/25 [01:17<00:14,  3.64s/it]"
     ]
    },
    {
     "name": "stdout",
     "output_type": "stream",
     "text": [
      "BestCad 20.0 2.9763433071631578e-05\n",
      "BestNuclei 20.0 0.999997444152832\n"
     ]
    },
    {
     "name": "stderr",
     "output_type": "stream",
     "text": [
      "100%|██████████████████████████████████████████████████████████████████████████████████████████████████████████████████████████████████████████████████████████████████████████████| 25/25 [01:21<00:00,  3.27s/it]"
     ]
    },
    {
     "name": "stdout",
     "output_type": "stream",
     "text": [
      "BestCad 21.0 1.2430659259497707e-05\n",
      "BestNuclei 21.0 0.9999990940093995\n",
      "For file BestNucleiFocusQuality210629_Erk_Kate_His_mov1_w3CSU-QUAD-561_s8_t10 max score of 0.9997866361037544 was found at Z =  19.0\n",
      "For file ComboFocusQuality210629_Erk_Kate_His_mov1_w1CSU-QUAD-561_s5_t12 max score of 0.5001545431990128 was found at Z =  17.0\n",
      "For file BestCadFocusQuality210629_Erk_Kate_His_mov1_w1CSU-QUAD-561_s9_t32 max score of 0.9223789660747916 was found at Z =  15.0\n",
      "For file ComboFocusQuality210629_Erk_Kate_His_mov1_w1CSU-QUAD-561_s9_t32 max score of 0.8090407621105323 was found at Z =  17.0\n",
      "For file BestCadFocusQuality210629_Erk_Kate_His_mov1_w3CSU-QUAD-561_s8_t10 max score of 0.5431745850713924 was found at Z =  11.0\n",
      "For file BestNucleiFocusQuality210629_Erk_Kate_His_mov1_w3CSU-QUAD-561_s11_t21 max score of 0.9999990940093996 was found at Z =  20.0\n",
      "For file BestCadFocusQuality210629_Erk_Kate_His_mov1_w1CSU-QUAD-561_s5_t12 max score of 0.0003552258116858 was found at Z =  17.0\n",
      "For file BestCadFocusQuality210629_Erk_Kate_His_mov1_w3CSU-QUAD-561_s3_t11 max score of 0.5241199520726999 was found at Z =  9.0\n",
      "For file ComboFocusQuality210629_Erk_Kate_His_mov1_w3CSU-QUAD-561_s11_t21 max score of 0.6022574421652049 was found at Z =  14.0\n",
      "For file BestNucleiFocusQuality210629_Erk_Kate_His_mov1_w3CSU-QUAD-561_s3_t11 max score of 0.9999968409538268 was found at Z =  16.0\n",
      "For file BestCadFocusQuality210629_Erk_Kate_His_mov1_w3CSU-QUAD-561_s11_t21 max score of 0.4107178251089697 was found at Z =  7.0\n",
      "For file ComboFocusQuality210629_Erk_Kate_His_mov1_w3CSU-QUAD-561_s8_t10 max score of 0.5875908361618791 was found at Z =  16.0\n",
      "For file ComboFocusQuality210629_Erk_Kate_His_mov1_w3CSU-QUAD-561_s3_t11 max score of 0.5774299866858531 was found at Z =  10.0\n",
      "For file BestNucleiFocusQuality210629_Erk_Kate_His_mov1_w1CSU-QUAD-561_s9_t32 max score of 0.7994617238620539 was found at Z =  17.0\n",
      "For file BestNucleiFocusQuality210629_Erk_Kate_His_mov1_w1CSU-QUAD-561_s5_t12 max score of 0.9999994337558746 was found at Z =  6.0\n"
     ]
    },
    {
     "name": "stderr",
     "output_type": "stream",
     "text": [
      "\n"
     ]
    },
    {
     "name": "stdout",
     "output_type": "stream",
     "text": [
      "Detecting focus planes in 210629_Erk_Kate_His_mov1_w1CSU-QUAD-561_s1_t16\n"
     ]
    },
    {
     "name": "stderr",
     "output_type": "stream",
     "text": [
      "  4%|███████                                                                                                                                                                        | 1/25 [00:05<02:06,  5.28s/it]"
     ]
    },
    {
     "name": "stdout",
     "output_type": "stream",
     "text": [
      "BestCad 0.0 0.044390111987820426\n",
      "BestNuclei 0.0 1.5759828706725044e-05\n"
     ]
    },
    {
     "name": "stderr",
     "output_type": "stream",
     "text": [
      "\r",
      "  8%|██████████████                                                                                                                                                                 | 2/25 [00:09<01:46,  4.62s/it]"
     ]
    },
    {
     "name": "stdout",
     "output_type": "stream",
     "text": [
      "BestCad 1.0 0.08343894552805987\n",
      "BestNuclei 1.0 5.99427539197805e-06\n"
     ]
    },
    {
     "name": "stderr",
     "output_type": "stream",
     "text": [
      "\r",
      " 12%|█████████████████████                                                                                                                                                          | 3/25 [00:13<01:37,  4.43s/it]"
     ]
    },
    {
     "name": "stdout",
     "output_type": "stream",
     "text": [
      "BestCad 2.0 0.09501826572054248\n",
      "BestNuclei 2.0 0.00027385082291755595\n"
     ]
    },
    {
     "name": "stderr",
     "output_type": "stream",
     "text": [
      "\r",
      " 16%|████████████████████████████                                                                                                                                                   | 4/25 [00:17<01:30,  4.30s/it]"
     ]
    },
    {
     "name": "stdout",
     "output_type": "stream",
     "text": [
      "BestCad 3.0 0.19284566920017823\n",
      "BestNuclei 3.0 0.002324943182034076\n"
     ]
    },
    {
     "name": "stderr",
     "output_type": "stream",
     "text": [
      "\r",
      " 20%|███████████████████████████████████                                                                                                                                            | 5/25 [00:21<01:21,  4.09s/it]"
     ]
    },
    {
     "name": "stdout",
     "output_type": "stream",
     "text": [
      "BestCad 4.0 0.3866169550286334\n",
      "BestNuclei 4.0 0.02458003626072447\n"
     ]
    },
    {
     "name": "stderr",
     "output_type": "stream",
     "text": [
      "\r",
      " 24%|██████████████████████████████████████████                                                                                                                                     | 6/25 [00:25<01:14,  3.91s/it]"
     ]
    },
    {
     "name": "stdout",
     "output_type": "stream",
     "text": [
      "BestCad 5.0 0.6773144864039394\n",
      "BestNuclei 5.0 0.04330820641009364\n"
     ]
    },
    {
     "name": "stderr",
     "output_type": "stream",
     "text": [
      "\r",
      " 28%|█████████████████████████████████████████████████                                                                                                                              | 7/25 [00:28<01:08,  3.82s/it]"
     ]
    },
    {
     "name": "stdout",
     "output_type": "stream",
     "text": [
      "BestCad 6.0 0.7372702800785191\n",
      "BestNuclei 6.0 0.07233154451134159\n"
     ]
    },
    {
     "name": "stderr",
     "output_type": "stream",
     "text": [
      "\r",
      " 32%|████████████████████████████████████████████████████████                                                                                                                       | 8/25 [00:32<01:03,  3.71s/it]"
     ]
    },
    {
     "name": "stdout",
     "output_type": "stream",
     "text": [
      "BestCad 7.0 0.7825235804218961\n",
      "BestNuclei 7.0 0.09243190967437999\n"
     ]
    },
    {
     "name": "stderr",
     "output_type": "stream",
     "text": [
      "\r",
      " 36%|███████████████████████████████████████████████████████████████                                                                                                                | 9/25 [00:35<00:59,  3.74s/it]"
     ]
    },
    {
     "name": "stdout",
     "output_type": "stream",
     "text": [
      "BestCad 8.0 0.7683926643803716\n",
      "BestNuclei 8.0 0.16225124942069497\n"
     ]
    },
    {
     "name": "stderr",
     "output_type": "stream",
     "text": [
      "\r",
      " 40%|█████████████████████████████████████████████████████████████████████▌                                                                                                        | 10/25 [00:39<00:54,  3.66s/it]"
     ]
    },
    {
     "name": "stdout",
     "output_type": "stream",
     "text": [
      "BestCad 9.0 0.7425923614064232\n",
      "BestNuclei 9.0 0.2680108510551509\n"
     ]
    },
    {
     "name": "stderr",
     "output_type": "stream",
     "text": [
      "\r",
      " 44%|████████████████████████████████████████████████████████████████████████████▌                                                                                                 | 11/25 [00:43<00:51,  3.69s/it]"
     ]
    },
    {
     "name": "stdout",
     "output_type": "stream",
     "text": [
      "BestCad 10.0 0.4213508082751144\n",
      "BestNuclei 10.0 0.8814428925514222\n"
     ]
    },
    {
     "name": "stderr",
     "output_type": "stream",
     "text": [
      "\r",
      " 48%|███████████████████████████████████████████████████████████████████████████████████▌                                                                                          | 12/25 [00:46<00:47,  3.69s/it]"
     ]
    },
    {
     "name": "stdout",
     "output_type": "stream",
     "text": [
      "BestCad 11.0 0.007524783466797089\n",
      "BestNuclei 11.0 0.9996383352713152\n"
     ]
    },
    {
     "name": "stderr",
     "output_type": "stream",
     "text": [
      "\r",
      " 52%|██████████████████████████████████████████████████████████████████████████████████████████▍                                                                                   | 13/25 [00:50<00:44,  3.69s/it]"
     ]
    },
    {
     "name": "stdout",
     "output_type": "stream",
     "text": [
      "BestCad 12.0 0.03932617796090199\n",
      "BestNuclei 12.0 0.9980056161681811\n"
     ]
    },
    {
     "name": "stderr",
     "output_type": "stream",
     "text": [
      "\r",
      " 56%|█████████████████████████████████████████████████████████████████████████████████████████████████▍                                                                            | 14/25 [00:54<00:40,  3.71s/it]"
     ]
    },
    {
     "name": "stdout",
     "output_type": "stream",
     "text": [
      "BestCad 13.0 0.00105807066045765\n",
      "BestNuclei 13.0 0.999869079693504\n"
     ]
    },
    {
     "name": "stderr",
     "output_type": "stream",
     "text": [
      "\r",
      " 60%|████████████████████████████████████████████████████████████████████████████████████████████████████████▍                                                                     | 15/25 [00:58<00:37,  3.72s/it]"
     ]
    },
    {
     "name": "stdout",
     "output_type": "stream",
     "text": [
      "BestCad 14.0 0.0004151213638362519\n",
      "BestNuclei 14.0 0.9999589586257934\n"
     ]
    },
    {
     "name": "stderr",
     "output_type": "stream",
     "text": [
      "\r",
      " 64%|███████████████████████████████████████████████████████████████████████████████████████████████████████████████▎                                                              | 16/25 [01:01<00:33,  3.76s/it]"
     ]
    },
    {
     "name": "stdout",
     "output_type": "stream",
     "text": [
      "BestCad 15.0 0.00018212046510914502\n",
      "BestNuclei 15.0 0.9999781101942062\n"
     ]
    },
    {
     "name": "stderr",
     "output_type": "stream",
     "text": [
      "\r",
      " 68%|██████████████████████████████████████████████████████████████████████████████████████████████████████████████████████▎                                                       | 17/25 [01:06<00:30,  3.87s/it]"
     ]
    },
    {
     "name": "stdout",
     "output_type": "stream",
     "text": [
      "BestCad 16.0 0.0003604276644909987\n",
      "BestNuclei 16.0 0.9999360396311834\n"
     ]
    },
    {
     "name": "stderr",
     "output_type": "stream",
     "text": [
      "\r",
      " 72%|█████████████████████████████████████████████████████████████████████████████████████████████████████████████████████████████▎                                                | 18/25 [01:10<00:27,  3.94s/it]"
     ]
    },
    {
     "name": "stdout",
     "output_type": "stream",
     "text": [
      "BestCad 17.0 0.0003077848797104144\n",
      "BestNuclei 17.0 0.9999513402581215\n"
     ]
    },
    {
     "name": "stderr",
     "output_type": "stream",
     "text": [
      "\r",
      " 76%|████████████████████████████████████████████████████████████████████████████████████████████████████████████████████████████████████▏                                         | 19/25 [01:14<00:24,  4.14s/it]"
     ]
    },
    {
     "name": "stdout",
     "output_type": "stream",
     "text": [
      "BestCad 18.0 0.0001552667969087412\n",
      "BestNuclei 18.0 0.9999709570849383\n"
     ]
    },
    {
     "name": "stderr",
     "output_type": "stream",
     "text": [
      "\r",
      " 80%|███████████████████████████████████████████████████████████████████████████████████████████████████████████████████████████████████████████▏                                  | 20/25 [01:18<00:20,  4.17s/it]"
     ]
    },
    {
     "name": "stdout",
     "output_type": "stream",
     "text": [
      "BestCad 19.0 8.89540362910187e-06\n",
      "BestNuclei 19.0 0.9999984855001623\n"
     ]
    },
    {
     "name": "stderr",
     "output_type": "stream",
     "text": [
      "\r",
      " 84%|██████████████████████████████████████████████████████████████████████████████████████████████████████████████████████████████████████████████████▏                           | 21/25 [01:23<00:17,  4.35s/it]"
     ]
    },
    {
     "name": "stdout",
     "output_type": "stream",
     "text": [
      "BestCad 20.0 0.000794959897085881\n",
      "BestNuclei 20.0 0.9996494327982267\n"
     ]
    },
    {
     "name": "stderr",
     "output_type": "stream",
     "text": [
      "100%|██████████████████████████████████████████████████████████████████████████████████████████████████████████████████████████████████████████████████████████████████████████████| 25/25 [01:28<00:00,  3.54s/it]"
     ]
    },
    {
     "name": "stdout",
     "output_type": "stream",
     "text": [
      "BestCad 21.0 0.0007742350152693688\n",
      "BestNuclei 21.0 0.9997277622637541\n",
      "For file BestNucleiFocusQuality210629_Erk_Kate_His_mov1_w3CSU-QUAD-561_s8_t10 max score of 0.9997866361037544 was found at Z =  19.0\n",
      "For file ComboFocusQuality210629_Erk_Kate_His_mov1_w1CSU-QUAD-561_s5_t12 max score of 0.5001545431990128 was found at Z =  17.0\n",
      "For file BestCadFocusQuality210629_Erk_Kate_His_mov1_w1CSU-QUAD-561_s9_t32 max score of 0.9223789660747916 was found at Z =  15.0\n",
      "For file ComboFocusQuality210629_Erk_Kate_His_mov1_w1CSU-QUAD-561_s9_t32 max score of 0.8090407621105323 was found at Z =  17.0\n",
      "For file ComboFocusQuality210629_Erk_Kate_His_mov1_w1CSU-QUAD-561_s1_t16 max score of 0.6513968504132683 was found at Z =  9.0\n",
      "For file BestCadFocusQuality210629_Erk_Kate_His_mov1_w3CSU-QUAD-561_s8_t10 max score of 0.5431745850713924 was found at Z =  11.0\n",
      "For file BestNucleiFocusQuality210629_Erk_Kate_His_mov1_w3CSU-QUAD-561_s11_t21 max score of 0.9999990940093996 was found at Z =  20.0\n",
      "For file BestCadFocusQuality210629_Erk_Kate_His_mov1_w1CSU-QUAD-561_s5_t12 max score of 0.0003552258116858 was found at Z =  17.0\n",
      "For file BestCadFocusQuality210629_Erk_Kate_His_mov1_w3CSU-QUAD-561_s3_t11 max score of 0.5241199520726999 was found at Z =  9.0\n",
      "For file ComboFocusQuality210629_Erk_Kate_His_mov1_w3CSU-QUAD-561_s11_t21 max score of 0.6022574421652049 was found at Z =  14.0\n",
      "For file BestCadFocusQuality210629_Erk_Kate_His_mov1_w1CSU-QUAD-561_s1_t16 max score of 0.7825235804218961 was found at Z =  6.0\n",
      "For file BestNucleiFocusQuality210629_Erk_Kate_His_mov1_w3CSU-QUAD-561_s3_t11 max score of 0.9999968409538268 was found at Z =  16.0\n",
      "For file BestCadFocusQuality210629_Erk_Kate_His_mov1_w3CSU-QUAD-561_s11_t21 max score of 0.4107178251089697 was found at Z =  7.0\n",
      "For file BestNucleiFocusQuality210629_Erk_Kate_His_mov1_w1CSU-QUAD-561_s1_t16 max score of 0.9999984855001623 was found at Z =  18.0\n",
      "For file ComboFocusQuality210629_Erk_Kate_His_mov1_w3CSU-QUAD-561_s8_t10 max score of 0.5875908361618791 was found at Z =  16.0\n",
      "For file ComboFocusQuality210629_Erk_Kate_His_mov1_w3CSU-QUAD-561_s3_t11 max score of 0.5774299866858531 was found at Z =  10.0\n",
      "For file BestNucleiFocusQuality210629_Erk_Kate_His_mov1_w1CSU-QUAD-561_s9_t32 max score of 0.7994617238620539 was found at Z =  17.0\n",
      "For file BestNucleiFocusQuality210629_Erk_Kate_His_mov1_w1CSU-QUAD-561_s5_t12 max score of 0.9999994337558746 was found at Z =  6.0\n"
     ]
    },
    {
     "name": "stderr",
     "output_type": "stream",
     "text": [
      "\n"
     ]
    },
    {
     "name": "stdout",
     "output_type": "stream",
     "text": [
      "Detecting focus planes in 210629_Erk_Kate_His_mov1_w1CSU-QUAD-561_s6_t32\n"
     ]
    },
    {
     "name": "stderr",
     "output_type": "stream",
     "text": [
      "  4%|███████                                                                                                                                                                        | 1/25 [00:05<02:03,  5.17s/it]"
     ]
    },
    {
     "name": "stdout",
     "output_type": "stream",
     "text": [
      "BestCad 0.0 0.089711244149309\n",
      "BestNuclei 0.0 0.002171311835176276\n"
     ]
    },
    {
     "name": "stderr",
     "output_type": "stream",
     "text": [
      "\r",
      "  8%|██████████████                                                                                                                                                                 | 2/25 [00:09<01:44,  4.55s/it]"
     ]
    },
    {
     "name": "stdout",
     "output_type": "stream",
     "text": [
      "BestCad 1.0 0.0894823448741325\n",
      "BestNuclei 1.0 0.0016776484527999463\n"
     ]
    },
    {
     "name": "stderr",
     "output_type": "stream",
     "text": [
      "\r",
      " 12%|█████████████████████                                                                                                                                                          | 3/25 [00:13<01:35,  4.35s/it]"
     ]
    },
    {
     "name": "stdout",
     "output_type": "stream",
     "text": [
      "BestCad 2.0 0.14665553363101935\n",
      "BestNuclei 2.0 0.0039021723923004003\n"
     ]
    },
    {
     "name": "stderr",
     "output_type": "stream",
     "text": [
      "\r",
      " 16%|████████████████████████████                                                                                                                                                   | 4/25 [00:17<01:31,  4.34s/it]"
     ]
    },
    {
     "name": "stdout",
     "output_type": "stream",
     "text": [
      "BestCad 3.0 0.339337558640788\n",
      "BestNuclei 3.0 0.195468665616645\n"
     ]
    },
    {
     "name": "stderr",
     "output_type": "stream",
     "text": [
      "\r",
      " 20%|███████████████████████████████████                                                                                                                                            | 5/25 [00:22<01:32,  4.61s/it]"
     ]
    },
    {
     "name": "stdout",
     "output_type": "stream",
     "text": [
      "BestCad 4.0 0.0007479819405056159\n",
      "BestNuclei 4.0 0.9997973510852227\n"
     ]
    },
    {
     "name": "stderr",
     "output_type": "stream",
     "text": [
      "\r",
      " 24%|██████████████████████████████████████████                                                                                                                                     | 6/25 [00:27<01:26,  4.56s/it]"
     ]
    },
    {
     "name": "stdout",
     "output_type": "stream",
     "text": [
      "BestCad 5.0 1.7815869372365494e-06\n",
      "BestNuclei 5.0 0.9999996209144593\n"
     ]
    },
    {
     "name": "stderr",
     "output_type": "stream",
     "text": [
      "\r",
      " 28%|█████████████████████████████████████████████████                                                                                                                              | 7/25 [00:31<01:20,  4.48s/it]"
     ]
    },
    {
     "name": "stdout",
     "output_type": "stream",
     "text": [
      "BestCad 6.0 5.50908956256535e-06\n",
      "BestNuclei 6.0 0.999998939037323\n"
     ]
    },
    {
     "name": "stderr",
     "output_type": "stream",
     "text": [
      "\r",
      " 32%|████████████████████████████████████████████████████████                                                                                                                       | 8/25 [00:35<01:13,  4.33s/it]"
     ]
    },
    {
     "name": "stdout",
     "output_type": "stream",
     "text": [
      "BestCad 7.0 1.3355993175991898e-05\n",
      "BestNuclei 7.0 0.9999980408212413\n"
     ]
    }
   ],
   "source": [
    "Raw_path = os.path.join(imagedir, '*tif')\n",
    "X = glob.glob(Raw_path)\n",
    "\n",
    "\n",
    "for imagename in X:\n",
    "     \n",
    "         model.predict(imagename, savedir, interest_event, n_tiles = n_tiles)"
   ]
  },
  {
   "cell_type": "code",
   "execution_count": null,
   "id": "7a9e41f9",
   "metadata": {},
   "outputs": [],
   "source": []
  }
 ],
 "metadata": {
  "kernelspec": {
   "display_name": "Python [conda env:tensorflowGPU] *",
   "language": "python",
   "name": "conda-env-tensorflowGPU-py"
  },
  "language_info": {
   "codemirror_mode": {
    "name": "ipython",
    "version": 3
   },
   "file_extension": ".py",
   "mimetype": "text/x-python",
   "name": "python",
   "nbconvert_exporter": "python",
   "pygments_lexer": "ipython3",
   "version": "3.7.10"
  }
 },
 "nbformat": 4,
 "nbformat_minor": 5
}
