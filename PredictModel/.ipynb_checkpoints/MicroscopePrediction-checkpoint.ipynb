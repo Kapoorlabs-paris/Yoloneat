{
 "cells": [
  {
   "cell_type": "code",
   "execution_count": null,
   "id": "medieval-cabin",
   "metadata": {},
   "outputs": [],
   "source": [
    "import sys\n",
    "import os\n",
    "from glob import glob\n",
    "sys.path.append(\"../NEAT\")\n",
    "from NEATModels import NEATPredict, nets\n",
    "from NEATModels.config import dynamic_config\n",
    "from NEATUtils import helpers\n",
    "from NEATUtils.helpers import load_json\n",
    "from csbdeep.models import ProjectionCARE\n",
    "os.environ[\"CUDA_VISIBLE_DEVICES\"]=\"0\"\n",
    "os.environ[\"HDF5_USE_FILE_LOCKING\"] = \"FALSE\""
   ]
  },
  {
   "cell_type": "code",
   "execution_count": null,
   "id": "handy-mediterranean",
   "metadata": {},
   "outputs": [],
   "source": [
    "Z_imagedir = '/home/sancere/Kepler/FinalONEATTraining/Z_ONEAT_fly_test/'\n",
    "imagedir = '/home/sancere/Kepler/FinalONEATTraining/ONEAT_fly_test/'\n",
    "model_dir =  '/home/sancere/Kepler/FinalONEATTraining/PreMicroneatmodel/'\n",
    "model_name = 'premicroseqnetbin2d56'\n",
    "projection_model_name = 'projectionmodelbin2'\n",
    "division_categories_json = model_dir + 'MicroscopeCategories.json'\n",
    "catconfig = load_json(division_categories_json)\n",
    "division_cord_json = model_dir + 'MicroscopeCord.json'\n",
    "cordconfig = load_json(division_cord_json)\n",
    "fileextension = '*tif'\n",
    "\n",
    "model = NEATPredict(None, model_dir , model_name,catconfig, cordconfig)\n",
    "projection_model = ProjectionCARE(config = None, name = projection_model_name, basedir = model_dir)"
   ]
  },
  {
   "cell_type": "code",
   "execution_count": null,
   "id": "interstate-satin",
   "metadata": {},
   "outputs": [],
   "source": [
    "n_tiles = (1,1)\n",
    "Z_n_tiles = (1,2,2)\n",
    "event_threshold = 0.999\n",
    "iou_threshold = 0.6\n",
    "nb_predictions = 3"
   ]
  },
  {
   "cell_type": "code",
   "execution_count": null,
   "id": "sweet-statement",
   "metadata": {
    "scrolled": false
   },
   "outputs": [],
   "source": [
    "model.predict(imagedir, [], [], Z_imagedir, [], [], 0, 0, fileextension = fileextension, nb_prediction = nb_predictions, n_tiles = n_tiles, Z_n_tiles = Z_n_tiles, event_threshold = event_threshold, iou_threshold = iou_threshold, projection_model = projection_model)\n",
    "\n"
   ]
  }
 ],
 "metadata": {
  "kernelspec": {
   "display_name": "Python 3",
   "language": "python",
   "name": "python3"
  },
  "language_info": {
   "codemirror_mode": {
    "name": "ipython",
    "version": 3
   },
   "file_extension": ".py",
   "mimetype": "text/x-python",
   "name": "python",
   "nbconvert_exporter": "python",
   "pygments_lexer": "ipython3",
   "version": "3.7.0"
  }
 },
 "nbformat": 4,
 "nbformat_minor": 5
}
