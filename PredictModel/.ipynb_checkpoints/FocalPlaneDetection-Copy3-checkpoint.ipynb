{
 "cells": [
  {
   "cell_type": "code",
   "execution_count": 1,
   "id": "87ec8896",
   "metadata": {},
   "outputs": [
    {
     "name": "stderr",
     "output_type": "stream",
     "text": [
      "Using TensorFlow backend.\n"
     ]
    }
   ],
   "source": [
    "\n",
    "import sys\n",
    "import os\n",
    "import glob\n",
    "sys.path.append(\"../NEAT\")\n",
    "from NEATModels import NEATFocus, nets\n",
    "from NEATModels.config import dynamic_config\n",
    "from NEATUtils import helpers\n",
    "from NEATUtils.helpers import load_json\n",
    "os.environ[\"CUDA_VISIBLE_DEVICES\"]=\"0\"\n",
    "os.environ[\"HDF5_USE_FILE_LOCKING\"] = \"FALSE\"\n",
    "from pathlib import Path"
   ]
  },
  {
   "cell_type": "code",
   "execution_count": 2,
   "id": "b843f28a",
   "metadata": {},
   "outputs": [],
   "source": [
    "imagedir = '/home/sancere/Kepler/CurieTrainingDatasets/foconeatimages/'\n",
    "model_dir = '/home/sancere/Kepler/CurieDeepLearningModels/OneatModels/Focusoneatmodels/'\n",
    "savedir= '/home/sancere/Kepler/CurieTrainingDatasets/foconeatimages/Predictionsd29s4f32resmulti/'\n",
    "\n",
    "model_name = 'cadhistoned29s4f32resmulti'\n",
    "focus_categories_json = model_dir + 'FocusCategories.json'\n",
    "catconfig = load_json(focus_categories_json)\n",
    "focus_cord_json = model_dir + 'FocusCord.json'\n",
    "cordconfig = load_json(focus_cord_json)\n",
    "model = NEATFocus(None, model_dir , model_name,catconfig, cordconfig)\n",
    "Path(savedir).mkdir(exist_ok=True)\n",
    "n_tiles = (1,1)\n",
    "interest_event = (\"BestCad\", \"BestNuclei\")"
   ]
  },
  {
   "cell_type": "markdown",
   "id": "59554497",
   "metadata": {},
   "source": [
    "# In the code block below compute the markers and make a dictionary for each image"
   ]
  },
  {
   "cell_type": "code",
   "execution_count": 3,
   "id": "510d2e87",
   "metadata": {
    "scrolled": false
   },
   "outputs": [
    {
     "name": "stderr",
     "output_type": "stream",
     "text": [
      "2021-08-27 18:11:36.450899: I tensorflow/stream_executor/platform/default/dso_loader.cc:44] Successfully opened dynamic library libcuda.so.1\n",
      "2021-08-27 18:11:36.479498: E tensorflow/stream_executor/cuda/cuda_driver.cc:313] failed call to cuInit: CUDA_ERROR_NO_DEVICE: no CUDA-capable device is detected\n",
      "2021-08-27 18:11:36.479531: I tensorflow/stream_executor/cuda/cuda_diagnostics.cc:169] retrieving CUDA diagnostic information for host: newton\n",
      "2021-08-27 18:11:36.479538: I tensorflow/stream_executor/cuda/cuda_diagnostics.cc:176] hostname: newton\n",
      "2021-08-27 18:11:36.479673: I tensorflow/stream_executor/cuda/cuda_diagnostics.cc:200] libcuda reported version is: 450.57.0\n",
      "2021-08-27 18:11:36.479701: I tensorflow/stream_executor/cuda/cuda_diagnostics.cc:204] kernel reported version is: 450.57.0\n",
      "2021-08-27 18:11:36.479707: I tensorflow/stream_executor/cuda/cuda_diagnostics.cc:310] kernel version seems to match DSO: 450.57.0\n",
      "2021-08-27 18:11:36.480673: I tensorflow/core/platform/cpu_feature_guard.cc:143] Your CPU supports instructions that this TensorFlow binary was not compiled to use: AVX2 AVX512F FMA\n",
      "2021-08-27 18:11:36.492701: I tensorflow/core/platform/profile_utils/cpu_utils.cc:102] CPU Frequency: 2200000000 Hz\n",
      "2021-08-27 18:11:36.495816: I tensorflow/compiler/xla/service/service.cc:168] XLA service 0x7f08a0000b20 initialized for platform Host (this does not guarantee that XLA will be used). Devices:\n",
      "2021-08-27 18:11:36.495855: I tensorflow/compiler/xla/service/service.cc:176]   StreamExecutor device (0): Host, Default Version\n"
     ]
    },
    {
     "name": "stdout",
     "output_type": "stream",
     "text": [
      "binary\n",
      "Detecting focus planes in 210629_Erk_Kate_His_mov1_w3CSU-QUAD-561_s3_t11\n"
     ]
    },
    {
     "name": "stderr",
     "output_type": "stream",
     "text": [
      "  0%|                                                                                                                                                                                       | 0/25 [00:00<?, ?it/s]2021-08-27 18:11:53.425151: W tensorflow/core/framework/cpu_allocator_impl.cc:81] Allocation of 805306368 exceeds 10% of free system memory.\n",
      "2021-08-27 18:11:53.865744: W tensorflow/core/framework/cpu_allocator_impl.cc:81] Allocation of 805306368 exceeds 10% of free system memory.\n",
      "2021-08-27 18:11:54.191124: W tensorflow/core/framework/cpu_allocator_impl.cc:81] Allocation of 805306368 exceeds 10% of free system memory.\n",
      "2021-08-27 18:11:54.423324: W tensorflow/core/framework/cpu_allocator_impl.cc:81] Allocation of 805306368 exceeds 10% of free system memory.\n",
      "2021-08-27 18:11:54.776640: W tensorflow/core/framework/cpu_allocator_impl.cc:81] Allocation of 805306368 exceeds 10% of free system memory.\n",
      "100%|██████████████████████████████████████████████████████████████████████████████████████████████████████████████████████████████████████████████████████████████████████████████| 25/25 [09:21<00:00, 22.46s/it]\n"
     ]
    },
    {
     "name": "stdout",
     "output_type": "stream",
     "text": [
      "Best Zs210629_Erk_Kate_His_mov1_w3CSU-QUAD-561_s3_t11forBestCadat7    9.0\n",
      "Name: Z, dtype: float64\n",
      "Best Zs210629_Erk_Kate_His_mov1_w3CSU-QUAD-561_s3_t11forBestNucleiat22    24.0\n",
      "Name: Z, dtype: float64\n",
      "binary\n",
      "Detecting focus planes in 210629_Erk_Kate_His_mov1_w3CSU-QUAD-561_s8_t10\n"
     ]
    },
    {
     "name": "stderr",
     "output_type": "stream",
     "text": [
      "100%|██████████████████████████████████████████████████████████████████████████████████████████████████████████████████████████████████████████████████████████████████████████████| 25/25 [09:46<00:00, 23.46s/it]\n"
     ]
    },
    {
     "name": "stdout",
     "output_type": "stream",
     "text": [
      "Best Zs210629_Erk_Kate_His_mov1_w3CSU-QUAD-561_s8_t10forBestCadat5    7.0\n",
      "Name: Z, dtype: float64\n",
      "Best Zs210629_Erk_Kate_His_mov1_w3CSU-QUAD-561_s8_t10forBestNucleiat22    24.0\n",
      "Name: Z, dtype: float64\n",
      "binary\n",
      "Detecting focus planes in 210629_Erk_Kate_His_mov1_w1CSU-QUAD-561_s5_t12\n"
     ]
    },
    {
     "name": "stderr",
     "output_type": "stream",
     "text": [
      "100%|██████████████████████████████████████████████████████████████████████████████████████████████████████████████████████████████████████████████████████████████████████████████| 25/25 [10:48<00:00, 25.94s/it]\n"
     ]
    },
    {
     "name": "stdout",
     "output_type": "stream",
     "text": [
      "Best Zs210629_Erk_Kate_His_mov1_w1CSU-QUAD-561_s5_t12forBestCadat0    2.0\n",
      "Name: Z, dtype: float64\n",
      "Best Zs210629_Erk_Kate_His_mov1_w1CSU-QUAD-561_s5_t12forBestNucleiat18    20.0\n",
      "Name: Z, dtype: float64\n",
      "binary\n",
      "Detecting focus planes in 210629_Erk_Kate_His_mov1_w1CSU-QUAD-561_s9_t32\n"
     ]
    },
    {
     "name": "stderr",
     "output_type": "stream",
     "text": [
      "100%|██████████████████████████████████████████████████████████████████████████████████████████████████████████████████████████████████████████████████████████████████████████████| 25/25 [09:57<00:00, 23.92s/it]\n"
     ]
    },
    {
     "name": "stdout",
     "output_type": "stream",
     "text": [
      "Best Zs210629_Erk_Kate_His_mov1_w1CSU-QUAD-561_s9_t32forBestCadat1    3.0\n",
      "Name: Z, dtype: float64\n",
      "Best Zs210629_Erk_Kate_His_mov1_w1CSU-QUAD-561_s9_t32forBestNucleiat18    20.0\n",
      "Name: Z, dtype: float64\n",
      "binary\n",
      "Detecting focus planes in 210629_Erk_Kate_His_mov1_w3CSU-QUAD-561_s11_t21\n"
     ]
    },
    {
     "name": "stderr",
     "output_type": "stream",
     "text": [
      "100%|██████████████████████████████████████████████████████████████████████████████████████████████████████████████████████████████████████████████████████████████████████████████| 25/25 [09:51<00:00, 23.65s/it]\n"
     ]
    },
    {
     "name": "stdout",
     "output_type": "stream",
     "text": [
      "Best Zs210629_Erk_Kate_His_mov1_w3CSU-QUAD-561_s11_t21forBestCadat22    24.0\n",
      "Name: Z, dtype: float64\n",
      "Best Zs210629_Erk_Kate_His_mov1_w3CSU-QUAD-561_s11_t21forBestNucleiat22    24.0\n",
      "Name: Z, dtype: float64\n",
      "binary\n",
      "Detecting focus planes in 210629_Erk_Kate_His_mov1_w1CSU-QUAD-561_s1_t16\n"
     ]
    },
    {
     "name": "stderr",
     "output_type": "stream",
     "text": [
      "100%|██████████████████████████████████████████████████████████████████████████████████████████████████████████████████████████████████████████████████████████████████████████████| 25/25 [10:49<00:00, 25.97s/it]\n"
     ]
    },
    {
     "name": "stdout",
     "output_type": "stream",
     "text": [
      "Best Zs210629_Erk_Kate_His_mov1_w1CSU-QUAD-561_s1_t16forBestCadat7    9.0\n",
      "Name: Z, dtype: float64\n",
      "Best Zs210629_Erk_Kate_His_mov1_w1CSU-QUAD-561_s1_t16forBestNucleiat21    23.0\n",
      "Name: Z, dtype: float64\n",
      "binary\n",
      "Detecting focus planes in 210629_Erk_Kate_His_mov1_w1CSU-QUAD-561_s6_t32\n"
     ]
    },
    {
     "name": "stderr",
     "output_type": "stream",
     "text": [
      "100%|██████████████████████████████████████████████████████████████████████████████████████████████████████████████████████████████████████████████████████████████████████████████| 25/25 [10:45<00:00, 25.81s/it]\n"
     ]
    },
    {
     "name": "stdout",
     "output_type": "stream",
     "text": [
      "Best Zs210629_Erk_Kate_His_mov1_w1CSU-QUAD-561_s6_t32forBestCadat1    3.0\n",
      "Name: Z, dtype: float64\n",
      "Best Zs210629_Erk_Kate_His_mov1_w1CSU-QUAD-561_s6_t32forBestNucleiat22    24.0\n",
      "Name: Z, dtype: float64\n",
      "binary\n",
      "Detecting focus planes in 210629_Erk_Kate_His_mov1_w3CSU-QUAD-561_s3_t23\n"
     ]
    },
    {
     "name": "stderr",
     "output_type": "stream",
     "text": [
      "100%|██████████████████████████████████████████████████████████████████████████████████████████████████████████████████████████████████████████████████████████████████████████████| 25/25 [09:59<00:00, 23.96s/it]\n"
     ]
    },
    {
     "name": "stdout",
     "output_type": "stream",
     "text": [
      "Best Zs210629_Erk_Kate_His_mov1_w3CSU-QUAD-561_s3_t23forBestCadat16    18.0\n",
      "Name: Z, dtype: float64\n",
      "Best Zs210629_Erk_Kate_His_mov1_w3CSU-QUAD-561_s3_t23forBestNucleiat22    24.0\n",
      "Name: Z, dtype: float64\n",
      "binary\n",
      "Detecting focus planes in 210629_Erk_Kate_His_mov1_w1CSU-QUAD-561_s6_t21\n"
     ]
    },
    {
     "name": "stderr",
     "output_type": "stream",
     "text": [
      "100%|██████████████████████████████████████████████████████████████████████████████████████████████████████████████████████████████████████████████████████████████████████████████| 25/25 [10:02<00:00, 24.11s/it]\n"
     ]
    },
    {
     "name": "stdout",
     "output_type": "stream",
     "text": [
      "Best Zs210629_Erk_Kate_His_mov1_w1CSU-QUAD-561_s6_t21forBestCadat22    24.0\n",
      "Name: Z, dtype: float64\n",
      "Best Zs210629_Erk_Kate_His_mov1_w1CSU-QUAD-561_s6_t21forBestNucleiat19    21.0\n",
      "Name: Z, dtype: float64\n",
      "binary\n",
      "Detecting focus planes in 210629_Erk_Kate_His_mov1_w1CSU-QUAD-561_s5_t11\n"
     ]
    },
    {
     "name": "stderr",
     "output_type": "stream",
     "text": [
      "100%|██████████████████████████████████████████████████████████████████████████████████████████████████████████████████████████████████████████████████████████████████████████████| 25/25 [10:42<00:00, 25.70s/it]\n"
     ]
    },
    {
     "name": "stdout",
     "output_type": "stream",
     "text": [
      "Best Zs210629_Erk_Kate_His_mov1_w1CSU-QUAD-561_s5_t11forBestCadat0    2.0\n",
      "Name: Z, dtype: float64\n",
      "Best Zs210629_Erk_Kate_His_mov1_w1CSU-QUAD-561_s5_t11forBestNucleiat20    22.0\n",
      "Name: Z, dtype: float64\n",
      "binary\n",
      "Detecting focus planes in 210629_Erk_Kate_His_mov1_w1CSU-QUAD-561_s11_t3\n"
     ]
    },
    {
     "name": "stderr",
     "output_type": "stream",
     "text": [
      "100%|██████████████████████████████████████████████████████████████████████████████████████████████████████████████████████████████████████████████████████████████████████████████| 25/25 [09:47<00:00, 23.48s/it]\n"
     ]
    },
    {
     "name": "stdout",
     "output_type": "stream",
     "text": [
      "Best Zs210629_Erk_Kate_His_mov1_w1CSU-QUAD-561_s11_t3forBestCadat22    24.0\n",
      "Name: Z, dtype: float64\n",
      "Best Zs210629_Erk_Kate_His_mov1_w1CSU-QUAD-561_s11_t3forBestNucleiat15    17.0\n",
      "Name: Z, dtype: float64\n",
      "binary\n",
      "Detecting focus planes in 210629_Erk_Kate_His_mov1_w3CSU-QUAD-561_s7_t3\n"
     ]
    },
    {
     "name": "stderr",
     "output_type": "stream",
     "text": [
      "100%|██████████████████████████████████████████████████████████████████████████████████████████████████████████████████████████████████████████████████████████████████████████████| 25/25 [10:23<00:00, 24.93s/it]\n"
     ]
    },
    {
     "name": "stdout",
     "output_type": "stream",
     "text": [
      "Best Zs210629_Erk_Kate_His_mov1_w3CSU-QUAD-561_s7_t3forBestCadat15    17.0\n",
      "Name: Z, dtype: float64\n",
      "Best Zs210629_Erk_Kate_His_mov1_w3CSU-QUAD-561_s7_t3forBestNucleiat19    21.0\n",
      "Name: Z, dtype: float64\n",
      "binary\n",
      "Detecting focus planes in 210629_Erk_Kate_His_mov1_w1CSU-QUAD-561_s3_t5\n"
     ]
    },
    {
     "name": "stderr",
     "output_type": "stream",
     "text": [
      "100%|██████████████████████████████████████████████████████████████████████████████████████████████████████████████████████████████████████████████████████████████████████████████| 25/25 [10:03<00:00, 24.14s/it]\n"
     ]
    },
    {
     "name": "stdout",
     "output_type": "stream",
     "text": [
      "Best Zs210629_Erk_Kate_His_mov1_w1CSU-QUAD-561_s3_t5forBestCadat0    2.0\n",
      "Name: Z, dtype: float64\n",
      "Best Zs210629_Erk_Kate_His_mov1_w1CSU-QUAD-561_s3_t5forBestNucleiat17    19.0\n",
      "Name: Z, dtype: float64\n",
      "binary\n",
      "Detecting focus planes in 210629_Erk_Kate_His_mov1_w3CSU-QUAD-561_s5_t33\n"
     ]
    },
    {
     "name": "stderr",
     "output_type": "stream",
     "text": [
      "100%|██████████████████████████████████████████████████████████████████████████████████████████████████████████████████████████████████████████████████████████████████████████████| 25/25 [10:12<00:00, 24.52s/it]\n"
     ]
    },
    {
     "name": "stdout",
     "output_type": "stream",
     "text": [
      "Best Zs210629_Erk_Kate_His_mov1_w3CSU-QUAD-561_s5_t33forBestCadat15    17.0\n",
      "Name: Z, dtype: float64\n",
      "Best Zs210629_Erk_Kate_His_mov1_w3CSU-QUAD-561_s5_t33forBestNucleiat22    24.0\n",
      "Name: Z, dtype: float64\n",
      "binary\n",
      "Detecting focus planes in 210629_Erk_Kate_His_mov1_w1CSU-QUAD-561_s2_t32\n"
     ]
    },
    {
     "name": "stderr",
     "output_type": "stream",
     "text": [
      "100%|██████████████████████████████████████████████████████████████████████████████████████████████████████████████████████████████████████████████████████████████████████████████| 25/25 [10:10<00:00, 24.41s/it]\n"
     ]
    },
    {
     "name": "stdout",
     "output_type": "stream",
     "text": [
      "Best Zs210629_Erk_Kate_His_mov1_w1CSU-QUAD-561_s2_t32forBestCadat2    4.0\n",
      "Name: Z, dtype: float64\n",
      "Best Zs210629_Erk_Kate_His_mov1_w1CSU-QUAD-561_s2_t32forBestNucleiat22    24.0\n",
      "Name: Z, dtype: float64\n",
      "binary\n",
      "Detecting focus planes in 210629_Erk_Kate_His_mov1_w1CSU-QUAD-561_s7_t28\n"
     ]
    },
    {
     "name": "stderr",
     "output_type": "stream",
     "text": [
      "100%|██████████████████████████████████████████████████████████████████████████████████████████████████████████████████████████████████████████████████████████████████████████████| 25/25 [10:37<00:00, 25.51s/it]\n"
     ]
    },
    {
     "name": "stdout",
     "output_type": "stream",
     "text": [
      "Best Zs210629_Erk_Kate_His_mov1_w1CSU-QUAD-561_s7_t28forBestCadat5    7.0\n",
      "Name: Z, dtype: float64\n",
      "Best Zs210629_Erk_Kate_His_mov1_w1CSU-QUAD-561_s7_t28forBestNucleiat22    24.0\n",
      "Name: Z, dtype: float64\n",
      "binary\n",
      "Detecting focus planes in 210629_Erk_Kate_His_mov1_w1CSU-QUAD-561_s8_t1\n"
     ]
    },
    {
     "name": "stderr",
     "output_type": "stream",
     "text": [
      "100%|██████████████████████████████████████████████████████████████████████████████████████████████████████████████████████████████████████████████████████████████████████████████| 25/25 [09:51<00:00, 23.65s/it]\n"
     ]
    },
    {
     "name": "stdout",
     "output_type": "stream",
     "text": [
      "Best Zs210629_Erk_Kate_His_mov1_w1CSU-QUAD-561_s8_t1forBestCadat20    22.0\n",
      "Name: Z, dtype: float64\n",
      "Best Zs210629_Erk_Kate_His_mov1_w1CSU-QUAD-561_s8_t1forBestNucleiat14    16.0\n",
      "Name: Z, dtype: float64\n",
      "binary\n",
      "Detecting focus planes in 210629_Erk_Kate_His_mov1_w3CSU-QUAD-561_s9_t2\n"
     ]
    },
    {
     "name": "stderr",
     "output_type": "stream",
     "text": [
      "100%|██████████████████████████████████████████████████████████████████████████████████████████████████████████████████████████████████████████████████████████████████████████████| 25/25 [10:29<00:00, 25.19s/it]\n"
     ]
    },
    {
     "name": "stdout",
     "output_type": "stream",
     "text": [
      "Best Zs210629_Erk_Kate_His_mov1_w3CSU-QUAD-561_s9_t2forBestCadat4    6.0\n",
      "Name: Z, dtype: float64\n",
      "Best Zs210629_Erk_Kate_His_mov1_w3CSU-QUAD-561_s9_t2forBestNucleiat17    19.0\n",
      "Name: Z, dtype: float64\n",
      "binary\n",
      "Detecting focus planes in 210629_Erk_Kate_His_mov1_w3CSU-QUAD-561_s7_t32\n"
     ]
    },
    {
     "name": "stderr",
     "output_type": "stream",
     "text": [
      "100%|██████████████████████████████████████████████████████████████████████████████████████████████████████████████████████████████████████████████████████████████████████████████| 25/25 [10:36<00:00, 25.47s/it]\n"
     ]
    },
    {
     "name": "stdout",
     "output_type": "stream",
     "text": [
      "Best Zs210629_Erk_Kate_His_mov1_w3CSU-QUAD-561_s7_t32forBestCadat10    12.0\n",
      "Name: Z, dtype: float64\n",
      "Best Zs210629_Erk_Kate_His_mov1_w3CSU-QUAD-561_s7_t32forBestNucleiat15    17.0\n",
      "Name: Z, dtype: float64\n",
      "binary\n",
      "Detecting focus planes in 210629_Erk_Kate_His_mov1_w1CSU-QUAD-561_s8_t25\n"
     ]
    },
    {
     "name": "stderr",
     "output_type": "stream",
     "text": [
      "100%|██████████████████████████████████████████████████████████████████████████████████████████████████████████████████████████████████████████████████████████████████████████████| 25/25 [10:09<00:00, 24.37s/it]\n"
     ]
    },
    {
     "name": "stdout",
     "output_type": "stream",
     "text": [
      "Best Zs210629_Erk_Kate_His_mov1_w1CSU-QUAD-561_s8_t25forBestCadat18    20.0\n",
      "Name: Z, dtype: float64\n",
      "Best Zs210629_Erk_Kate_His_mov1_w1CSU-QUAD-561_s8_t25forBestNucleiat22    24.0\n",
      "Name: Z, dtype: float64\n",
      "binary\n",
      "Detecting focus planes in 210629_Erk_Kate_His_mov1_w3CSU-QUAD-561_s8_t21\n"
     ]
    },
    {
     "name": "stderr",
     "output_type": "stream",
     "text": [
      "100%|██████████████████████████████████████████████████████████████████████████████████████████████████████████████████████████████████████████████████████████████████████████████| 25/25 [09:25<00:00, 22.63s/it]\n"
     ]
    },
    {
     "name": "stdout",
     "output_type": "stream",
     "text": [
      "Best Zs210629_Erk_Kate_His_mov1_w3CSU-QUAD-561_s8_t21forBestCadat6    8.0\n",
      "Name: Z, dtype: float64\n",
      "Best Zs210629_Erk_Kate_His_mov1_w3CSU-QUAD-561_s8_t21forBestNucleiat22    24.0\n",
      "Name: Z, dtype: float64\n",
      "binary\n",
      "Detecting focus planes in 210629_Erk_Kate_His_mov1_w3CSU-QUAD-561_s10_t21\n"
     ]
    },
    {
     "name": "stderr",
     "output_type": "stream",
     "text": [
      "100%|██████████████████████████████████████████████████████████████████████████████████████████████████████████████████████████████████████████████████████████████████████████████| 25/25 [09:11<00:00, 22.06s/it]\n"
     ]
    },
    {
     "name": "stdout",
     "output_type": "stream",
     "text": [
      "Best Zs210629_Erk_Kate_His_mov1_w3CSU-QUAD-561_s10_t21forBestCadat6    8.0\n",
      "Name: Z, dtype: float64\n",
      "Best Zs210629_Erk_Kate_His_mov1_w3CSU-QUAD-561_s10_t21forBestNucleiat22    24.0\n",
      "Name: Z, dtype: float64\n",
      "binary\n",
      "Detecting focus planes in 210629_Erk_Kate_His_mov1_w3CSU-QUAD-561_s9_t13\n"
     ]
    },
    {
     "name": "stderr",
     "output_type": "stream",
     "text": [
      "100%|██████████████████████████████████████████████████████████████████████████████████████████████████████████████████████████████████████████████████████████████████████████████| 25/25 [09:41<00:00, 23.25s/it]\n"
     ]
    },
    {
     "name": "stdout",
     "output_type": "stream",
     "text": [
      "Best Zs210629_Erk_Kate_His_mov1_w3CSU-QUAD-561_s9_t13forBestCadat12    14.0\n",
      "Name: Z, dtype: float64\n",
      "Best Zs210629_Erk_Kate_His_mov1_w3CSU-QUAD-561_s9_t13forBestNucleiat22    24.0\n",
      "Name: Z, dtype: float64\n",
      "binary\n",
      "Detecting focus planes in 210629_Erk_Kate_His_mov1_w3CSU-QUAD-561_s4_t31\n"
     ]
    },
    {
     "name": "stderr",
     "output_type": "stream",
     "text": [
      "100%|██████████████████████████████████████████████████████████████████████████████████████████████████████████████████████████████████████████████████████████████████████████████| 25/25 [09:56<00:00, 23.84s/it]\n"
     ]
    },
    {
     "name": "stdout",
     "output_type": "stream",
     "text": [
      "Best Zs210629_Erk_Kate_His_mov1_w3CSU-QUAD-561_s4_t31forBestCadat12    14.0\n",
      "Name: Z, dtype: float64\n",
      "Best Zs210629_Erk_Kate_His_mov1_w3CSU-QUAD-561_s4_t31forBestNucleiat20    22.0\n",
      "Name: Z, dtype: float64\n",
      "binary\n",
      "Detecting focus planes in 210629_Erk_Kate_His_mov1_w1CSU-QUAD-561_s10_t24\n"
     ]
    },
    {
     "name": "stderr",
     "output_type": "stream",
     "text": [
      "100%|██████████████████████████████████████████████████████████████████████████████████████████████████████████████████████████████████████████████████████████████████████████████| 25/25 [09:48<00:00, 23.54s/it]\n"
     ]
    },
    {
     "name": "stdout",
     "output_type": "stream",
     "text": [
      "Best Zs210629_Erk_Kate_His_mov1_w1CSU-QUAD-561_s10_t24forBestCadat0    2.0\n",
      "Name: Z, dtype: float64\n",
      "Best Zs210629_Erk_Kate_His_mov1_w1CSU-QUAD-561_s10_t24forBestNucleiat15    17.0\n",
      "Name: Z, dtype: float64\n",
      "binary\n",
      "Detecting focus planes in 210629_Erk_Kate_His_mov1_w3CSU-QUAD-561_s5_t13\n"
     ]
    },
    {
     "name": "stderr",
     "output_type": "stream",
     "text": [
      "100%|██████████████████████████████████████████████████████████████████████████████████████████████████████████████████████████████████████████████████████████████████████████████| 25/25 [09:52<00:00, 23.71s/it]\n"
     ]
    },
    {
     "name": "stdout",
     "output_type": "stream",
     "text": [
      "Best Zs210629_Erk_Kate_His_mov1_w3CSU-QUAD-561_s5_t13forBestCadat9    11.0\n",
      "Name: Z, dtype: float64\n",
      "Best Zs210629_Erk_Kate_His_mov1_w3CSU-QUAD-561_s5_t13forBestNucleiat22    24.0\n",
      "Name: Z, dtype: float64\n",
      "binary\n",
      "Detecting focus planes in 210629_Erk_Kate_His_mov1_w1CSU-QUAD-561_s6_t22\n"
     ]
    },
    {
     "name": "stderr",
     "output_type": "stream",
     "text": [
      "100%|██████████████████████████████████████████████████████████████████████████████████████████████████████████████████████████████████████████████████████████████████████████████| 25/25 [10:24<00:00, 25.00s/it]\n"
     ]
    },
    {
     "name": "stdout",
     "output_type": "stream",
     "text": [
      "Best Zs210629_Erk_Kate_His_mov1_w1CSU-QUAD-561_s6_t22forBestCadat16    18.0\n",
      "Name: Z, dtype: float64\n",
      "Best Zs210629_Erk_Kate_His_mov1_w1CSU-QUAD-561_s6_t22forBestNucleiat22    24.0\n",
      "Name: Z, dtype: float64\n",
      "binary\n",
      "Detecting focus planes in 210629_Erk_Kate_His_mov1_w3CSU-QUAD-561_s5_t24\n"
     ]
    },
    {
     "name": "stderr",
     "output_type": "stream",
     "text": [
      "100%|██████████████████████████████████████████████████████████████████████████████████████████████████████████████████████████████████████████████████████████████████████████████| 25/25 [10:22<00:00, 24.92s/it]\n"
     ]
    },
    {
     "name": "stdout",
     "output_type": "stream",
     "text": [
      "Best Zs210629_Erk_Kate_His_mov1_w3CSU-QUAD-561_s5_t24forBestCadat17    19.0\n",
      "Name: Z, dtype: float64\n",
      "Best Zs210629_Erk_Kate_His_mov1_w3CSU-QUAD-561_s5_t24forBestNucleiat22    24.0\n",
      "Name: Z, dtype: float64\n",
      "binary\n",
      "Detecting focus planes in 210629_Erk_Kate_His_mov1_w3CSU-QUAD-561_s9_t28\n"
     ]
    },
    {
     "name": "stderr",
     "output_type": "stream",
     "text": [
      "100%|██████████████████████████████████████████████████████████████████████████████████████████████████████████████████████████████████████████████████████████████████████████████| 25/25 [10:01<00:00, 24.05s/it]\n"
     ]
    },
    {
     "name": "stdout",
     "output_type": "stream",
     "text": [
      "Best Zs210629_Erk_Kate_His_mov1_w3CSU-QUAD-561_s9_t28forBestCadat7    9.0\n",
      "Name: Z, dtype: float64\n",
      "Best Zs210629_Erk_Kate_His_mov1_w3CSU-QUAD-561_s9_t28forBestNucleiat22    24.0\n",
      "Name: Z, dtype: float64\n",
      "binary\n",
      "Detecting focus planes in 210629_Erk_Kate_His_mov1_w3CSU-QUAD-561_s4_t5\n"
     ]
    },
    {
     "name": "stderr",
     "output_type": "stream",
     "text": [
      "100%|██████████████████████████████████████████████████████████████████████████████████████████████████████████████████████████████████████████████████████████████████████████████| 25/25 [09:35<00:00, 23.02s/it]\n"
     ]
    },
    {
     "name": "stdout",
     "output_type": "stream",
     "text": [
      "Best Zs210629_Erk_Kate_His_mov1_w3CSU-QUAD-561_s4_t5forBestCadat11    13.0\n",
      "Name: Z, dtype: float64\n",
      "Best Zs210629_Erk_Kate_His_mov1_w3CSU-QUAD-561_s4_t5forBestNucleiat22    24.0\n",
      "Name: Z, dtype: float64\n",
      "binary\n",
      "Detecting focus planes in 210629_Erk_Kate_His_mov1_w1CSU-QUAD-561_s8_t13\n"
     ]
    },
    {
     "name": "stderr",
     "output_type": "stream",
     "text": [
      "100%|██████████████████████████████████████████████████████████████████████████████████████████████████████████████████████████████████████████████████████████████████████████████| 25/25 [09:13<00:00, 22.15s/it]\n"
     ]
    },
    {
     "name": "stdout",
     "output_type": "stream",
     "text": [
      "Best Zs210629_Erk_Kate_His_mov1_w1CSU-QUAD-561_s8_t13forBestCadat22    24.0\n",
      "Name: Z, dtype: float64\n",
      "Best Zs210629_Erk_Kate_His_mov1_w1CSU-QUAD-561_s8_t13forBestNucleiat19    21.0\n",
      "Name: Z, dtype: float64\n",
      "binary\n",
      "Detecting focus planes in 210629_Erk_Kate_His_mov1_w1CSU-QUAD-561_s5_t18\n"
     ]
    },
    {
     "name": "stderr",
     "output_type": "stream",
     "text": [
      "100%|██████████████████████████████████████████████████████████████████████████████████████████████████████████████████████████████████████████████████████████████████████████████| 25/25 [09:29<00:00, 22.79s/it]\n"
     ]
    },
    {
     "name": "stdout",
     "output_type": "stream",
     "text": [
      "Best Zs210629_Erk_Kate_His_mov1_w1CSU-QUAD-561_s5_t18forBestCadat1    3.0\n",
      "Name: Z, dtype: float64\n",
      "Best Zs210629_Erk_Kate_His_mov1_w1CSU-QUAD-561_s5_t18forBestNucleiat15    17.0\n",
      "Name: Z, dtype: float64\n",
      "binary\n",
      "Detecting focus planes in 210629_Erk_Kate_His_mov1_w1CSU-QUAD-561_s6_t23\n"
     ]
    },
    {
     "name": "stderr",
     "output_type": "stream",
     "text": [
      "100%|██████████████████████████████████████████████████████████████████████████████████████████████████████████████████████████████████████████████████████████████████████████████| 25/25 [08:56<00:00, 21.48s/it]\n"
     ]
    },
    {
     "name": "stdout",
     "output_type": "stream",
     "text": [
      "Best Zs210629_Erk_Kate_His_mov1_w1CSU-QUAD-561_s6_t23forBestCadat0    2.0\n",
      "Name: Z, dtype: float64\n",
      "Best Zs210629_Erk_Kate_His_mov1_w1CSU-QUAD-561_s6_t23forBestNucleiat21    23.0\n",
      "Name: Z, dtype: float64\n",
      "binary\n",
      "Detecting focus planes in 210629_Erk_Kate_His_mov1_w3CSU-QUAD-561_s10_t8\n"
     ]
    },
    {
     "name": "stderr",
     "output_type": "stream",
     "text": [
      "100%|██████████████████████████████████████████████████████████████████████████████████████████████████████████████████████████████████████████████████████████████████████████████| 25/25 [08:49<00:00, 21.18s/it]\n"
     ]
    },
    {
     "name": "stdout",
     "output_type": "stream",
     "text": [
      "Best Zs210629_Erk_Kate_His_mov1_w3CSU-QUAD-561_s10_t8forBestCadat4    6.0\n",
      "Name: Z, dtype: float64\n",
      "Best Zs210629_Erk_Kate_His_mov1_w3CSU-QUAD-561_s10_t8forBestNucleiat22    24.0\n",
      "Name: Z, dtype: float64\n",
      "binary\n",
      "Detecting focus planes in 210629_Erk_Kate_His_mov1_w3CSU-QUAD-561_s4_t27\n"
     ]
    },
    {
     "name": "stderr",
     "output_type": "stream",
     "text": [
      "100%|██████████████████████████████████████████████████████████████████████████████████████████████████████████████████████████████████████████████████████████████████████████████| 25/25 [08:47<00:00, 21.09s/it]\n"
     ]
    },
    {
     "name": "stdout",
     "output_type": "stream",
     "text": [
      "Best Zs210629_Erk_Kate_His_mov1_w3CSU-QUAD-561_s4_t27forBestCadat16    18.0\n",
      "Name: Z, dtype: float64\n",
      "Best Zs210629_Erk_Kate_His_mov1_w3CSU-QUAD-561_s4_t27forBestNucleiat22    24.0\n",
      "Name: Z, dtype: float64\n",
      "binary\n",
      "Detecting focus planes in 210629_Erk_Kate_His_mov1_w3CSU-QUAD-561_s11_t24\n"
     ]
    },
    {
     "name": "stderr",
     "output_type": "stream",
     "text": [
      "100%|██████████████████████████████████████████████████████████████████████████████████████████████████████████████████████████████████████████████████████████████████████████████| 25/25 [08:41<00:00, 20.87s/it]\n"
     ]
    },
    {
     "name": "stdout",
     "output_type": "stream",
     "text": [
      "Best Zs210629_Erk_Kate_His_mov1_w3CSU-QUAD-561_s11_t24forBestCadat10    12.0\n",
      "Name: Z, dtype: float64\n",
      "Best Zs210629_Erk_Kate_His_mov1_w3CSU-QUAD-561_s11_t24forBestNucleiat22    24.0\n",
      "Name: Z, dtype: float64\n",
      "binary\n",
      "Detecting focus planes in 210629_Erk_Kate_His_mov1_w1CSU-QUAD-561_s5_t21\n"
     ]
    },
    {
     "name": "stderr",
     "output_type": "stream",
     "text": [
      "100%|██████████████████████████████████████████████████████████████████████████████████████████████████████████████████████████████████████████████████████████████████████████████| 25/25 [08:58<00:00, 21.55s/it]\n"
     ]
    },
    {
     "name": "stdout",
     "output_type": "stream",
     "text": [
      "Best Zs210629_Erk_Kate_His_mov1_w1CSU-QUAD-561_s5_t21forBestCadat8    10.0\n",
      "Name: Z, dtype: float64\n",
      "Best Zs210629_Erk_Kate_His_mov1_w1CSU-QUAD-561_s5_t21forBestNucleiat22    24.0\n",
      "Name: Z, dtype: float64\n",
      "binary\n",
      "Detecting focus planes in 210629_Erk_Kate_His_mov1_w3CSU-QUAD-561_s11_t3\n"
     ]
    },
    {
     "name": "stderr",
     "output_type": "stream",
     "text": [
      "100%|██████████████████████████████████████████████████████████████████████████████████████████████████████████████████████████████████████████████████████████████████████████████| 25/25 [08:43<00:00, 20.96s/it]\n"
     ]
    },
    {
     "name": "stdout",
     "output_type": "stream",
     "text": [
      "Best Zs210629_Erk_Kate_His_mov1_w3CSU-QUAD-561_s11_t3forBestCadat20    22.0\n",
      "Name: Z, dtype: float64\n",
      "Best Zs210629_Erk_Kate_His_mov1_w3CSU-QUAD-561_s11_t3forBestNucleiat20    22.0\n",
      "Name: Z, dtype: float64\n",
      "binary\n",
      "Detecting focus planes in 210629_Erk_Kate_His_mov1_w3CSU-QUAD-561_s7_t29\n"
     ]
    },
    {
     "name": "stderr",
     "output_type": "stream",
     "text": [
      "100%|██████████████████████████████████████████████████████████████████████████████████████████████████████████████████████████████████████████████████████████████████████████████| 25/25 [08:32<00:00, 20.50s/it]\n"
     ]
    },
    {
     "name": "stdout",
     "output_type": "stream",
     "text": [
      "Best Zs210629_Erk_Kate_His_mov1_w3CSU-QUAD-561_s7_t29forBestCadat13    15.0\n",
      "Name: Z, dtype: float64\n",
      "Best Zs210629_Erk_Kate_His_mov1_w3CSU-QUAD-561_s7_t29forBestNucleiat21    23.0\n",
      "Name: Z, dtype: float64\n",
      "binary\n",
      "Detecting focus planes in 210629_Erk_Kate_His_mov1_w3CSU-QUAD-561_s4_t12\n"
     ]
    },
    {
     "name": "stderr",
     "output_type": "stream",
     "text": [
      "100%|██████████████████████████████████████████████████████████████████████████████████████████████████████████████████████████████████████████████████████████████████████████████| 25/25 [09:03<00:00, 21.72s/it]\n"
     ]
    },
    {
     "name": "stdout",
     "output_type": "stream",
     "text": [
      "Best Zs210629_Erk_Kate_His_mov1_w3CSU-QUAD-561_s4_t12forBestCadat12    14.0\n",
      "Name: Z, dtype: float64\n",
      "Best Zs210629_Erk_Kate_His_mov1_w3CSU-QUAD-561_s4_t12forBestNucleiat22    24.0\n",
      "Name: Z, dtype: float64\n",
      "binary\n",
      "Detecting focus planes in 210629_Erk_Kate_His_mov1_w1CSU-QUAD-561_s1_t27\n"
     ]
    },
    {
     "name": "stderr",
     "output_type": "stream",
     "text": [
      "100%|██████████████████████████████████████████████████████████████████████████████████████████████████████████████████████████████████████████████████████████████████████████████| 25/25 [08:52<00:00, 21.28s/it]\n"
     ]
    },
    {
     "name": "stdout",
     "output_type": "stream",
     "text": [
      "Best Zs210629_Erk_Kate_His_mov1_w1CSU-QUAD-561_s1_t27forBestCadat13    15.0\n",
      "Name: Z, dtype: float64\n",
      "Best Zs210629_Erk_Kate_His_mov1_w1CSU-QUAD-561_s1_t27forBestNucleiat21    23.0\n",
      "Name: Z, dtype: float64\n",
      "binary\n",
      "Detecting focus planes in 210629_Erk_Kate_His_mov1_w3CSU-QUAD-561_s5_t29\n"
     ]
    },
    {
     "name": "stderr",
     "output_type": "stream",
     "text": [
      "100%|██████████████████████████████████████████████████████████████████████████████████████████████████████████████████████████████████████████████████████████████████████████████| 25/25 [08:59<00:00, 21.56s/it]\n"
     ]
    },
    {
     "name": "stdout",
     "output_type": "stream",
     "text": [
      "Best Zs210629_Erk_Kate_His_mov1_w3CSU-QUAD-561_s5_t29forBestCadat15    17.0\n",
      "Name: Z, dtype: float64\n",
      "Best Zs210629_Erk_Kate_His_mov1_w3CSU-QUAD-561_s5_t29forBestNucleiat22    24.0\n",
      "Name: Z, dtype: float64\n",
      "binary\n",
      "Detecting focus planes in 210629_Erk_Kate_His_mov1_w1CSU-QUAD-561_s9_t23\n"
     ]
    },
    {
     "name": "stderr",
     "output_type": "stream",
     "text": [
      "100%|██████████████████████████████████████████████████████████████████████████████████████████████████████████████████████████████████████████████████████████████████████████████| 25/25 [10:09<00:00, 24.39s/it]\n"
     ]
    },
    {
     "name": "stdout",
     "output_type": "stream",
     "text": [
      "Best Zs210629_Erk_Kate_His_mov1_w1CSU-QUAD-561_s9_t23forBestCadat1    3.0\n",
      "Name: Z, dtype: float64\n",
      "Best Zs210629_Erk_Kate_His_mov1_w1CSU-QUAD-561_s9_t23forBestNucleiat10    12.0\n",
      "Name: Z, dtype: float64\n",
      "binary\n",
      "Detecting focus planes in 210629_Erk_Kate_His_mov1_w3CSU-QUAD-561_s2_t31\n"
     ]
    },
    {
     "name": "stderr",
     "output_type": "stream",
     "text": [
      "100%|██████████████████████████████████████████████████████████████████████████████████████████████████████████████████████████████████████████████████████████████████████████████| 25/25 [10:23<00:00, 24.93s/it]\n"
     ]
    },
    {
     "name": "stdout",
     "output_type": "stream",
     "text": [
      "Best Zs210629_Erk_Kate_His_mov1_w3CSU-QUAD-561_s2_t31forBestCadat12    14.0\n",
      "Name: Z, dtype: float64\n",
      "Best Zs210629_Erk_Kate_His_mov1_w3CSU-QUAD-561_s2_t31forBestNucleiat22    24.0\n",
      "Name: Z, dtype: float64\n",
      "binary\n",
      "Detecting focus planes in 210629_Erk_Kate_His_mov1_w1CSU-QUAD-561_s2_t15\n"
     ]
    },
    {
     "name": "stderr",
     "output_type": "stream",
     "text": [
      "100%|██████████████████████████████████████████████████████████████████████████████████████████████████████████████████████████████████████████████████████████████████████████████| 25/25 [10:15<00:00, 24.63s/it]\n"
     ]
    },
    {
     "name": "stdout",
     "output_type": "stream",
     "text": [
      "Best Zs210629_Erk_Kate_His_mov1_w1CSU-QUAD-561_s2_t15forBestCadat3    5.0\n",
      "Name: Z, dtype: float64\n",
      "Best Zs210629_Erk_Kate_His_mov1_w1CSU-QUAD-561_s2_t15forBestNucleiat17    19.0\n",
      "Name: Z, dtype: float64\n",
      "binary\n",
      "Detecting focus planes in 210629_Erk_Kate_His_mov1_w1CSU-QUAD-561_s6_t28\n"
     ]
    },
    {
     "name": "stderr",
     "output_type": "stream",
     "text": [
      "100%|██████████████████████████████████████████████████████████████████████████████████████████████████████████████████████████████████████████████████████████████████████████████| 25/25 [09:30<00:00, 22.82s/it]\n"
     ]
    },
    {
     "name": "stdout",
     "output_type": "stream",
     "text": [
      "Best Zs210629_Erk_Kate_His_mov1_w1CSU-QUAD-561_s6_t28forBestCadat2    4.0\n",
      "Name: Z, dtype: float64\n",
      "Best Zs210629_Erk_Kate_His_mov1_w1CSU-QUAD-561_s6_t28forBestNucleiat22    24.0\n",
      "Name: Z, dtype: float64\n",
      "binary\n",
      "Detecting focus planes in 210629_Erk_Kate_His_mov1_w1CSU-QUAD-561_s6_t4\n"
     ]
    },
    {
     "name": "stderr",
     "output_type": "stream",
     "text": [
      "100%|██████████████████████████████████████████████████████████████████████████████████████████████████████████████████████████████████████████████████████████████████████████████| 25/25 [10:08<00:00, 24.32s/it]\n"
     ]
    },
    {
     "name": "stdout",
     "output_type": "stream",
     "text": [
      "Best Zs210629_Erk_Kate_His_mov1_w1CSU-QUAD-561_s6_t4forBestCadat0    2.0\n",
      "Name: Z, dtype: float64\n",
      "Best Zs210629_Erk_Kate_His_mov1_w1CSU-QUAD-561_s6_t4forBestNucleiat14    16.0\n",
      "Name: Z, dtype: float64\n",
      "binary\n",
      "Detecting focus planes in 210629_Erk_Kate_His_mov1_w1CSU-QUAD-561_s4_t29\n"
     ]
    },
    {
     "name": "stderr",
     "output_type": "stream",
     "text": [
      "100%|██████████████████████████████████████████████████████████████████████████████████████████████████████████████████████████████████████████████████████████████████████████████| 25/25 [09:50<00:00, 23.63s/it]\n"
     ]
    },
    {
     "name": "stdout",
     "output_type": "stream",
     "text": [
      "Best Zs210629_Erk_Kate_His_mov1_w1CSU-QUAD-561_s4_t29forBestCadat7    9.0\n",
      "Name: Z, dtype: float64\n",
      "Best Zs210629_Erk_Kate_His_mov1_w1CSU-QUAD-561_s4_t29forBestNucleiat22    24.0\n",
      "Name: Z, dtype: float64\n",
      "binary\n",
      "Detecting focus planes in 210629_Erk_Kate_His_mov1_w3CSU-QUAD-561_s3_t29\n"
     ]
    },
    {
     "name": "stderr",
     "output_type": "stream",
     "text": [
      "100%|██████████████████████████████████████████████████████████████████████████████████████████████████████████████████████████████████████████████████████████████████████████████| 25/25 [09:37<00:00, 23.09s/it]\n"
     ]
    },
    {
     "name": "stdout",
     "output_type": "stream",
     "text": [
      "Best Zs210629_Erk_Kate_His_mov1_w3CSU-QUAD-561_s3_t29forBestCadat22    24.0\n",
      "Name: Z, dtype: float64\n",
      "Best Zs210629_Erk_Kate_His_mov1_w3CSU-QUAD-561_s3_t29forBestNucleiat22    24.0\n",
      "Name: Z, dtype: float64\n",
      "binary\n"
     ]
    },
    {
     "ename": "KeyError",
     "evalue": "'Unable to open object (bad object header version number)'",
     "output_type": "error",
     "traceback": [
      "\u001b[0;31m---------------------------------------------------------------------------\u001b[0m",
      "\u001b[0;31mKeyError\u001b[0m                                  Traceback (most recent call last)",
      "\u001b[0;32m/tmp/ipykernel_13886/1784676875.py\u001b[0m in \u001b[0;36m<module>\u001b[0;34m\u001b[0m\n\u001b[1;32m      5\u001b[0m \u001b[0;32mfor\u001b[0m \u001b[0mimagename\u001b[0m \u001b[0;32min\u001b[0m \u001b[0mX\u001b[0m\u001b[0;34m:\u001b[0m\u001b[0;34m\u001b[0m\u001b[0;34m\u001b[0m\u001b[0m\n\u001b[1;32m      6\u001b[0m \u001b[0;34m\u001b[0m\u001b[0m\n\u001b[0;32m----> 7\u001b[0;31m          \u001b[0mmodel\u001b[0m\u001b[0;34m.\u001b[0m\u001b[0mpredict\u001b[0m\u001b[0;34m(\u001b[0m\u001b[0mimagename\u001b[0m\u001b[0;34m,\u001b[0m \u001b[0msavedir\u001b[0m\u001b[0;34m,\u001b[0m \u001b[0minterest_event\u001b[0m\u001b[0;34m,\u001b[0m \u001b[0mn_tiles\u001b[0m \u001b[0;34m=\u001b[0m \u001b[0mn_tiles\u001b[0m\u001b[0;34m)\u001b[0m\u001b[0;34m\u001b[0m\u001b[0;34m\u001b[0m\u001b[0m\n\u001b[0m",
      "\u001b[0;32m~/anaconda3/bin/Yoloneat/NEAT/NEATModels/neat_focus.py\u001b[0m in \u001b[0;36mpredict\u001b[0;34m(self, imagename, savedir, interest_event, n_tiles, overlap_percent, event_threshold, iou_threshold)\u001b[0m\n\u001b[1;32m    285\u001b[0m         \u001b[0mf\u001b[0m\u001b[0;34m.\u001b[0m\u001b[0mattrs\u001b[0m\u001b[0;34m[\u001b[0m\u001b[0;34m'training_config'\u001b[0m\u001b[0;34m]\u001b[0m \u001b[0;34m=\u001b[0m \u001b[0mdata_p\u001b[0m\u001b[0;34m\u001b[0m\u001b[0;34m\u001b[0m\u001b[0m\n\u001b[1;32m    286\u001b[0m         \u001b[0mf\u001b[0m\u001b[0;34m.\u001b[0m\u001b[0mclose\u001b[0m\u001b[0;34m(\u001b[0m\u001b[0;34m)\u001b[0m\u001b[0;34m\u001b[0m\u001b[0;34m\u001b[0m\u001b[0m\n\u001b[0;32m--> 287\u001b[0;31m         \u001b[0mself\u001b[0m\u001b[0;34m.\u001b[0m\u001b[0mmodel\u001b[0m \u001b[0;34m=\u001b[0m  \u001b[0mload_model\u001b[0m\u001b[0;34m(\u001b[0m \u001b[0mself\u001b[0m\u001b[0;34m.\u001b[0m\u001b[0mmodel_dir\u001b[0m \u001b[0;34m+\u001b[0m \u001b[0mself\u001b[0m\u001b[0;34m.\u001b[0m\u001b[0mmodel_name\u001b[0m \u001b[0;34m+\u001b[0m \u001b[0;34m'.h5'\u001b[0m\u001b[0;34m,\u001b[0m  \u001b[0mcustom_objects\u001b[0m\u001b[0;34m=\u001b[0m\u001b[0;34m{\u001b[0m\u001b[0;34m'loss'\u001b[0m\u001b[0;34m:\u001b[0m\u001b[0mself\u001b[0m\u001b[0;34m.\u001b[0m\u001b[0myololoss\u001b[0m\u001b[0;34m,\u001b[0m \u001b[0;34m'Concat'\u001b[0m\u001b[0;34m:\u001b[0m\u001b[0mConcat\u001b[0m\u001b[0;34m}\u001b[0m\u001b[0;34m)\u001b[0m\u001b[0;34m\u001b[0m\u001b[0;34m\u001b[0m\u001b[0m\n\u001b[0m\u001b[1;32m    288\u001b[0m \u001b[0;34m\u001b[0m\u001b[0m\n\u001b[1;32m    289\u001b[0m         \u001b[0mself\u001b[0m\u001b[0;34m.\u001b[0m\u001b[0mfirst_pass_predict\u001b[0m\u001b[0;34m(\u001b[0m\u001b[0;34m)\u001b[0m\u001b[0;34m\u001b[0m\u001b[0;34m\u001b[0m\u001b[0m\n",
      "\u001b[0;32m~/anaconda3/envs/tensorflowGPU/lib/python3.7/site-packages/keras/engine/saving.py\u001b[0m in \u001b[0;36mload_wrapper\u001b[0;34m(*args, **kwargs)\u001b[0m\n\u001b[1;32m    490\u001b[0m                 \u001b[0mos\u001b[0m\u001b[0;34m.\u001b[0m\u001b[0mremove\u001b[0m\u001b[0;34m(\u001b[0m\u001b[0mtmp_filepath\u001b[0m\u001b[0;34m)\u001b[0m\u001b[0;34m\u001b[0m\u001b[0;34m\u001b[0m\u001b[0m\n\u001b[1;32m    491\u001b[0m             \u001b[0;32mreturn\u001b[0m \u001b[0mres\u001b[0m\u001b[0;34m\u001b[0m\u001b[0;34m\u001b[0m\u001b[0m\n\u001b[0;32m--> 492\u001b[0;31m         \u001b[0;32mreturn\u001b[0m \u001b[0mload_function\u001b[0m\u001b[0;34m(\u001b[0m\u001b[0;34m*\u001b[0m\u001b[0margs\u001b[0m\u001b[0;34m,\u001b[0m \u001b[0;34m**\u001b[0m\u001b[0mkwargs\u001b[0m\u001b[0;34m)\u001b[0m\u001b[0;34m\u001b[0m\u001b[0;34m\u001b[0m\u001b[0m\n\u001b[0m\u001b[1;32m    493\u001b[0m \u001b[0;34m\u001b[0m\u001b[0m\n\u001b[1;32m    494\u001b[0m     \u001b[0;32mreturn\u001b[0m \u001b[0mload_wrapper\u001b[0m\u001b[0;34m\u001b[0m\u001b[0;34m\u001b[0m\u001b[0m\n",
      "\u001b[0;32m~/anaconda3/envs/tensorflowGPU/lib/python3.7/site-packages/keras/engine/saving.py\u001b[0m in \u001b[0;36mload_model\u001b[0;34m(filepath, custom_objects, compile)\u001b[0m\n\u001b[1;32m    582\u001b[0m     \u001b[0;32mif\u001b[0m \u001b[0mH5Dict\u001b[0m\u001b[0;34m.\u001b[0m\u001b[0mis_supported_type\u001b[0m\u001b[0;34m(\u001b[0m\u001b[0mfilepath\u001b[0m\u001b[0;34m)\u001b[0m\u001b[0;34m:\u001b[0m\u001b[0;34m\u001b[0m\u001b[0;34m\u001b[0m\u001b[0m\n\u001b[1;32m    583\u001b[0m         \u001b[0;32mwith\u001b[0m \u001b[0mH5Dict\u001b[0m\u001b[0;34m(\u001b[0m\u001b[0mfilepath\u001b[0m\u001b[0;34m,\u001b[0m \u001b[0mmode\u001b[0m\u001b[0;34m=\u001b[0m\u001b[0;34m'r'\u001b[0m\u001b[0;34m)\u001b[0m \u001b[0;32mas\u001b[0m \u001b[0mh5dict\u001b[0m\u001b[0;34m:\u001b[0m\u001b[0;34m\u001b[0m\u001b[0;34m\u001b[0m\u001b[0m\n\u001b[0;32m--> 584\u001b[0;31m             \u001b[0mmodel\u001b[0m \u001b[0;34m=\u001b[0m \u001b[0m_deserialize_model\u001b[0m\u001b[0;34m(\u001b[0m\u001b[0mh5dict\u001b[0m\u001b[0;34m,\u001b[0m \u001b[0mcustom_objects\u001b[0m\u001b[0;34m,\u001b[0m \u001b[0mcompile\u001b[0m\u001b[0;34m)\u001b[0m\u001b[0;34m\u001b[0m\u001b[0;34m\u001b[0m\u001b[0m\n\u001b[0m\u001b[1;32m    585\u001b[0m     \u001b[0;32melif\u001b[0m \u001b[0mhasattr\u001b[0m\u001b[0;34m(\u001b[0m\u001b[0mfilepath\u001b[0m\u001b[0;34m,\u001b[0m \u001b[0;34m'write'\u001b[0m\u001b[0;34m)\u001b[0m \u001b[0;32mand\u001b[0m \u001b[0mcallable\u001b[0m\u001b[0;34m(\u001b[0m\u001b[0mfilepath\u001b[0m\u001b[0;34m.\u001b[0m\u001b[0mwrite\u001b[0m\u001b[0;34m)\u001b[0m\u001b[0;34m:\u001b[0m\u001b[0;34m\u001b[0m\u001b[0;34m\u001b[0m\u001b[0m\n\u001b[1;32m    586\u001b[0m         \u001b[0;32mdef\u001b[0m \u001b[0mload_function\u001b[0m\u001b[0;34m(\u001b[0m\u001b[0mh5file\u001b[0m\u001b[0;34m)\u001b[0m\u001b[0;34m:\u001b[0m\u001b[0;34m\u001b[0m\u001b[0;34m\u001b[0m\u001b[0m\n",
      "\u001b[0;32m~/anaconda3/envs/tensorflowGPU/lib/python3.7/site-packages/keras/engine/saving.py\u001b[0m in \u001b[0;36m_deserialize_model\u001b[0;34m(h5dict, custom_objects, compile)\u001b[0m\n\u001b[1;32m    378\u001b[0m                 optimizer_weights_group['weight_names']]\n\u001b[1;32m    379\u001b[0m             optimizer_weight_values = [optimizer_weights_group[n] for n in\n\u001b[0;32m--> 380\u001b[0;31m                                        optimizer_weight_names]\n\u001b[0m\u001b[1;32m    381\u001b[0m             \u001b[0;32mtry\u001b[0m\u001b[0;34m:\u001b[0m\u001b[0;34m\u001b[0m\u001b[0;34m\u001b[0m\u001b[0m\n\u001b[1;32m    382\u001b[0m                 \u001b[0mmodel\u001b[0m\u001b[0;34m.\u001b[0m\u001b[0moptimizer\u001b[0m\u001b[0;34m.\u001b[0m\u001b[0mset_weights\u001b[0m\u001b[0;34m(\u001b[0m\u001b[0moptimizer_weight_values\u001b[0m\u001b[0;34m)\u001b[0m\u001b[0;34m\u001b[0m\u001b[0;34m\u001b[0m\u001b[0m\n",
      "\u001b[0;32m~/anaconda3/envs/tensorflowGPU/lib/python3.7/site-packages/keras/engine/saving.py\u001b[0m in \u001b[0;36m<listcomp>\u001b[0;34m(.0)\u001b[0m\n\u001b[1;32m    377\u001b[0m                 \u001b[0mn\u001b[0m\u001b[0;34m.\u001b[0m\u001b[0mdecode\u001b[0m\u001b[0;34m(\u001b[0m\u001b[0;34m'utf8'\u001b[0m\u001b[0;34m)\u001b[0m \u001b[0;32mfor\u001b[0m \u001b[0mn\u001b[0m \u001b[0;32min\u001b[0m\u001b[0;34m\u001b[0m\u001b[0;34m\u001b[0m\u001b[0m\n\u001b[1;32m    378\u001b[0m                 optimizer_weights_group['weight_names']]\n\u001b[0;32m--> 379\u001b[0;31m             optimizer_weight_values = [optimizer_weights_group[n] for n in\n\u001b[0m\u001b[1;32m    380\u001b[0m                                        optimizer_weight_names]\n\u001b[1;32m    381\u001b[0m             \u001b[0;32mtry\u001b[0m\u001b[0;34m:\u001b[0m\u001b[0;34m\u001b[0m\u001b[0;34m\u001b[0m\u001b[0m\n",
      "\u001b[0;32m~/anaconda3/envs/tensorflowGPU/lib/python3.7/site-packages/keras/utils/io_utils.py\u001b[0m in \u001b[0;36m__getitem__\u001b[0;34m(self, attr)\u001b[0m\n\u001b[1;32m    297\u001b[0m                     \u001b[0mval\u001b[0m \u001b[0;34m=\u001b[0m \u001b[0mval\u001b[0m\u001b[0;34m.\u001b[0m\u001b[0mtolist\u001b[0m\u001b[0;34m(\u001b[0m\u001b[0;34m)\u001b[0m\u001b[0;34m\u001b[0m\u001b[0;34m\u001b[0m\u001b[0m\n\u001b[1;32m    298\u001b[0m         \u001b[0;32melif\u001b[0m \u001b[0mattr\u001b[0m \u001b[0;32min\u001b[0m \u001b[0mself\u001b[0m\u001b[0;34m.\u001b[0m\u001b[0mdata\u001b[0m\u001b[0;34m:\u001b[0m\u001b[0;34m\u001b[0m\u001b[0;34m\u001b[0m\u001b[0m\n\u001b[0;32m--> 299\u001b[0;31m             \u001b[0mval\u001b[0m \u001b[0;34m=\u001b[0m \u001b[0mself\u001b[0m\u001b[0;34m.\u001b[0m\u001b[0mdata\u001b[0m\u001b[0;34m[\u001b[0m\u001b[0mattr\u001b[0m\u001b[0;34m]\u001b[0m\u001b[0;34m\u001b[0m\u001b[0;34m\u001b[0m\u001b[0m\n\u001b[0m\u001b[1;32m    300\u001b[0m             \u001b[0;32mif\u001b[0m \u001b[0misinstance\u001b[0m\u001b[0;34m(\u001b[0m\u001b[0mval\u001b[0m\u001b[0;34m,\u001b[0m \u001b[0mh5py\u001b[0m\u001b[0;34m.\u001b[0m\u001b[0mDataset\u001b[0m\u001b[0;34m)\u001b[0m\u001b[0;34m:\u001b[0m\u001b[0;34m\u001b[0m\u001b[0;34m\u001b[0m\u001b[0m\n\u001b[1;32m    301\u001b[0m                 \u001b[0mval\u001b[0m \u001b[0;34m=\u001b[0m \u001b[0mnp\u001b[0m\u001b[0;34m.\u001b[0m\u001b[0masarray\u001b[0m\u001b[0;34m(\u001b[0m\u001b[0mval\u001b[0m\u001b[0;34m)\u001b[0m\u001b[0;34m\u001b[0m\u001b[0;34m\u001b[0m\u001b[0m\n",
      "\u001b[0;32mh5py/_objects.pyx\u001b[0m in \u001b[0;36mh5py._objects.with_phil.wrapper\u001b[0;34m()\u001b[0m\n",
      "\u001b[0;32mh5py/_objects.pyx\u001b[0m in \u001b[0;36mh5py._objects.with_phil.wrapper\u001b[0;34m()\u001b[0m\n",
      "\u001b[0;32m~/anaconda3/envs/tensorflowGPU/lib/python3.7/site-packages/h5py/_hl/group.py\u001b[0m in \u001b[0;36m__getitem__\u001b[0;34m(self, name)\u001b[0m\n\u001b[1;32m    262\u001b[0m                 \u001b[0;32mraise\u001b[0m \u001b[0mValueError\u001b[0m\u001b[0;34m(\u001b[0m\u001b[0;34m\"Invalid HDF5 object reference\"\u001b[0m\u001b[0;34m)\u001b[0m\u001b[0;34m\u001b[0m\u001b[0;34m\u001b[0m\u001b[0m\n\u001b[1;32m    263\u001b[0m         \u001b[0;32melse\u001b[0m\u001b[0;34m:\u001b[0m\u001b[0;34m\u001b[0m\u001b[0;34m\u001b[0m\u001b[0m\n\u001b[0;32m--> 264\u001b[0;31m             \u001b[0moid\u001b[0m \u001b[0;34m=\u001b[0m \u001b[0mh5o\u001b[0m\u001b[0;34m.\u001b[0m\u001b[0mopen\u001b[0m\u001b[0;34m(\u001b[0m\u001b[0mself\u001b[0m\u001b[0;34m.\u001b[0m\u001b[0mid\u001b[0m\u001b[0;34m,\u001b[0m \u001b[0mself\u001b[0m\u001b[0;34m.\u001b[0m\u001b[0m_e\u001b[0m\u001b[0;34m(\u001b[0m\u001b[0mname\u001b[0m\u001b[0;34m)\u001b[0m\u001b[0;34m,\u001b[0m \u001b[0mlapl\u001b[0m\u001b[0;34m=\u001b[0m\u001b[0mself\u001b[0m\u001b[0;34m.\u001b[0m\u001b[0m_lapl\u001b[0m\u001b[0;34m)\u001b[0m\u001b[0;34m\u001b[0m\u001b[0;34m\u001b[0m\u001b[0m\n\u001b[0m\u001b[1;32m    265\u001b[0m \u001b[0;34m\u001b[0m\u001b[0m\n\u001b[1;32m    266\u001b[0m         \u001b[0motype\u001b[0m \u001b[0;34m=\u001b[0m \u001b[0mh5i\u001b[0m\u001b[0;34m.\u001b[0m\u001b[0mget_type\u001b[0m\u001b[0;34m(\u001b[0m\u001b[0moid\u001b[0m\u001b[0;34m)\u001b[0m\u001b[0;34m\u001b[0m\u001b[0;34m\u001b[0m\u001b[0m\n",
      "\u001b[0;32mh5py/_objects.pyx\u001b[0m in \u001b[0;36mh5py._objects.with_phil.wrapper\u001b[0;34m()\u001b[0m\n",
      "\u001b[0;32mh5py/_objects.pyx\u001b[0m in \u001b[0;36mh5py._objects.with_phil.wrapper\u001b[0;34m()\u001b[0m\n",
      "\u001b[0;32mh5py/h5o.pyx\u001b[0m in \u001b[0;36mh5py.h5o.open\u001b[0;34m()\u001b[0m\n",
      "\u001b[0;31mKeyError\u001b[0m: 'Unable to open object (bad object header version number)'"
     ]
    }
   ],
   "source": [
    "Raw_path = os.path.join(imagedir, '*tif')\n",
    "X = glob.glob(Raw_path)\n",
    "\n",
    "\n",
    "for imagename in X:\n",
    "     \n",
    "         model.predict(imagename, savedir, interest_event, n_tiles = n_tiles)"
   ]
  },
  {
   "cell_type": "code",
   "execution_count": null,
   "id": "486423fc",
   "metadata": {},
   "outputs": [],
   "source": []
  },
  {
   "cell_type": "code",
   "execution_count": null,
   "id": "712d00ee",
   "metadata": {},
   "outputs": [],
   "source": []
  }
 ],
 "metadata": {
  "kernelspec": {
   "display_name": "Python 3 (ipykernel)",
   "language": "python",
   "name": "python3"
  },
  "language_info": {
   "codemirror_mode": {
    "name": "ipython",
    "version": 3
   },
   "file_extension": ".py",
   "mimetype": "text/x-python",
   "name": "python",
   "nbconvert_exporter": "python",
   "pygments_lexer": "ipython3",
   "version": "3.7.10"
  }
 },
 "nbformat": 4,
 "nbformat_minor": 5
}
