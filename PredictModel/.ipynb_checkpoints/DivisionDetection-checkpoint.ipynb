{
 "cells": [
  {
   "cell_type": "code",
   "execution_count": 1,
   "id": "ac458392",
   "metadata": {},
   "outputs": [
    {
     "name": "stderr",
     "output_type": "stream",
     "text": [
      "Using TensorFlow backend.\n"
     ]
    }
   ],
   "source": [
    "import sys\n",
    "import os\n",
    "from glob import glob\n",
    "sys.path.append(\"../NEAT\")\n",
    "from NEATModels import NEATDynamic, nets\n",
    "from NEATModels.config import dynamic_config\n",
    "from NEATUtils import helpers\n",
    "from NEATUtils.helpers import load_json\n",
    "os.environ[\"CUDA_VISIBLE_DEVICES\"]=\"2\"\n",
    "os.environ[\"HDF5_USE_FILE_LOCKING\"] = \"FALSE\""
   ]
  },
  {
   "cell_type": "code",
   "execution_count": 2,
   "id": "9675c8d1",
   "metadata": {},
   "outputs": [],
   "source": [
    "imagename = '/home/sancere/Kepler/FinalONEATTraining/NEATTest/Test.tif'\n",
    "model_dir = '/home/sancere/Kepler/FinalONEATTraining/Microneatmodel/'\n",
    "model_name = 'microseqnetbin2d65.h5'\n",
    "division_categories_json = model_dir + 'MicroscopeCategories.json'\n",
    "catconfig = load_json(division_categories_json)\n",
    "division_cord_json = model_dir + 'MicroscopeCord.json'\n",
    "cordconfig = load_json(division_cord_json)\n",
    "model = NEATDynamic(None, model_dir , model_name,catconfig, cordconfig)\n",
    "n_tiles = (4,4)\n",
    "\n",
    "event_threshold = 0.99\n",
    "iou_threshold = 0.3"
   ]
  },
  {
   "cell_type": "code",
   "execution_count": null,
   "id": "7c364392",
   "metadata": {
    "scrolled": false
   },
   "outputs": [
    {
     "name": "stdout",
     "output_type": "stream",
     "text": [
      "WARNING:tensorflow:From /home/sancere/anaconda3/envs/tensorflowGPU/lib/python3.6/site-packages/tensorflow_core/python/ops/resource_variable_ops.py:1630: calling BaseResourceVariable.__init__ (from tensorflow.python.ops.resource_variable_ops) with constraint is deprecated and will be removed in a future version.\n",
      "Instructions for updating:\n",
      "If using Keras pass *_constraint arguments to layers.\n",
      "WARNING:tensorflow:From /home/sancere/anaconda3/envs/tensorflowGPU/lib/python3.6/site-packages/tensorflow_core/python/ops/math_grad.py:1424: where (from tensorflow.python.ops.array_ops) is deprecated and will be removed in a future version.\n",
      "Instructions for updating:\n",
      "Use tf.where in 2.0, which has the same broadcast rule as np.where\n",
      "WARNING:tensorflow:From /home/sancere/anaconda3/envs/tensorflowGPU/lib/python3.6/site-packages/keras/backend/tensorflow_backend.py:422: The name tf.global_variables is deprecated. Please use tf.compat.v1.global_variables instead.\n",
      "\n"
     ]
    },
    {
     "name": "stderr",
     "output_type": "stream",
     "text": [
      "  4%|▍         | 8/180 [01:03<21:57,  7.66s/it]"
     ]
    },
    {
     "name": "stdout",
     "output_type": "stream",
     "text": [
      "0.4907031255522122 {'Normal': 9.7852e-10, 'Division': 1.0, 'xstart': 12, 'ystart': 52, 'xcenter': 44.01325988769531, 'ycenter': 84.03914642333984, 'real_time_event': 9.0, 'box_time_event': 0.0, 'height': 33.0919303894043, 'width': 28.603103637695312, 'confidence': 1.0, 'realangle': 2, 'rawangle': 2}\n",
      "{'Normal': 9.7852e-10, 'Division': 1.0, 'xstart': 12, 'ystart': 52, 'xcenter': 44.01325988769531, 'ycenter': 84.03914642333984, 'real_time_event': 9.0, 'box_time_event': 0.0, 'height': 33.0919303894043, 'width': 28.603103637695312, 'confidence': 1.0, 'realangle': 2, 'rawangle': 2}\n",
      "0.37476367188369986 {'Normal': 4.5879983e-10, 'Division': 1.0, 'xstart': 4, 'ystart': 56, 'xcenter': 35.98848915100098, 'ycenter': 87.9940414428711, 'real_time_event': 9.0, 'box_time_event': 0.0, 'height': 18.318227767944336, 'width': 18.2347412109375, 'confidence': 1.0, 'realangle': 2, 'rawangle': 2}\n",
      "0.28922267383128747 {'Normal': 3.004566e-09, 'Division': 1.0, 'xstart': 4, 'ystart': 52, 'xcenter': 35.95125198364258, 'ycenter': 84.03553771972656, 'real_time_event': 10.0, 'box_time_event': 0.0, 'height': 17.1131649017334, 'width': 15.677728652954102, 'confidence': 1.0, 'realangle': 2, 'rawangle': 2}\n",
      "0.9137782899249355 {'Normal': 4.0969166e-11, 'Division': 1.0, 'xstart': 8, 'ystart': 52, 'xcenter': 40.11189651489258, 'ycenter': 84.14148330688477, 'real_time_event': 10.0, 'box_time_event': 0.0, 'height': 24.4405517578125, 'width': 23.71815299987793, 'confidence': 1.0, 'realangle': 2, 'rawangle': 2}\n",
      "{'Normal': 4.0969166e-11, 'Division': 1.0, 'xstart': 8, 'ystart': 52, 'xcenter': 40.11189651489258, 'ycenter': 84.14148330688477, 'real_time_event': 10.0, 'box_time_event': 0.0, 'height': 24.4405517578125, 'width': 23.71815299987793, 'confidence': 1.0, 'realangle': 2, 'rawangle': 2}\n",
      "0.535316528991585 {'Normal': 6.7754476e-11, 'Division': 1.0, 'xstart': 12, 'ystart': 52, 'xcenter': 43.97075843811035, 'ycenter': 84.069091796875, 'real_time_event': 10.0, 'box_time_event': 0.0, 'height': 29.476869583129883, 'width': 29.13511085510254, 'confidence': 1.0, 'realangle': 2, 'rawangle': 2}\n",
      "{'Normal': 6.7754476e-11, 'Division': 1.0, 'xstart': 12, 'ystart': 52, 'xcenter': 43.97075843811035, 'ycenter': 84.069091796875, 'real_time_event': 10.0, 'box_time_event': 0.0, 'height': 29.476869583129883, 'width': 29.13511085510254, 'confidence': 1.0, 'realangle': 2, 'rawangle': 2}\n",
      "0.4031658885484262 {'Normal': 2.8009335e-08, 'Division': 1.0, 'xstart': 16, 'ystart': 52, 'xcenter': 48.045448303222656, 'ycenter': 84.06034088134766, 'real_time_event': 10.0, 'box_time_event': 0.0, 'height': 19.655845642089844, 'width': 22.22730827331543, 'confidence': 1.0, 'realangle': 2, 'rawangle': 2}\n",
      "{'Normal': 2.8009335e-08, 'Division': 1.0, 'xstart': 16, 'ystart': 52, 'xcenter': 48.045448303222656, 'ycenter': 84.06034088134766, 'real_time_event': 10.0, 'box_time_event': 0.0, 'height': 19.655845642089844, 'width': 22.22730827331543, 'confidence': 1.0, 'realangle': 2, 'rawangle': 2}\n",
      "0.45709888614353283 {'Normal': 5.3152094e-11, 'Division': 1.0, 'xstart': 4, 'ystart': 56, 'xcenter': 35.956695556640625, 'ycenter': 88.05013656616211, 'real_time_event': 10.0, 'box_time_event': 0.0, 'height': 20.533334732055664, 'width': 19.68634605407715, 'confidence': 1.0, 'realangle': 2, 'rawangle': 2}\n",
      "{'Normal': 5.3152094e-11, 'Division': 1.0, 'xstart': 4, 'ystart': 56, 'xcenter': 35.956695556640625, 'ycenter': 88.05013656616211, 'real_time_event': 10.0, 'box_time_event': 0.0, 'height': 20.533334732055664, 'width': 19.68634605407715, 'confidence': 1.0, 'realangle': 2, 'rawangle': 2}\n",
      "0.33937404840684415 {'Normal': 2.0973846e-07, 'Division': 0.99999976, 'xstart': 4, 'ystart': 52, 'xcenter': 35.96188926696777, 'ycenter': 84.03378677368164, 'real_time_event': 9.0, 'box_time_event': 0.0, 'height': 19.08646583557129, 'width': 16.426319122314453, 'confidence': 1.0, 'realangle': 2, 'rawangle': 2}\n",
      "0.17151782930250722 {'Normal': 4.5879983e-10, 'Division': 1.0, 'xstart': 4, 'ystart': 56, 'xcenter': 35.98848915100098, 'ycenter': 87.9940414428711, 'real_time_event': 9.0, 'box_time_event': 0.0, 'height': 18.318227767944336, 'width': 18.2347412109375, 'confidence': 1.0, 'realangle': 2, 'rawangle': 2}\n",
      "0.12127166431084993 {'Normal': 3.004566e-09, 'Division': 1.0, 'xstart': 4, 'ystart': 52, 'xcenter': 35.95125198364258, 'ycenter': 84.03553771972656, 'real_time_event': 10.0, 'box_time_event': 0.0, 'height': 17.1131649017334, 'width': 15.677728652954102, 'confidence': 1.0, 'realangle': 2, 'rawangle': 2}\n",
      "0.46148161617107974 {'Normal': 4.0969166e-11, 'Division': 1.0, 'xstart': 8, 'ystart': 52, 'xcenter': 40.11189651489258, 'ycenter': 84.14148330688477, 'real_time_event': 10.0, 'box_time_event': 0.0, 'height': 24.4405517578125, 'width': 23.71815299987793, 'confidence': 1.0, 'realangle': 2, 'rawangle': 2}\n",
      "{'Normal': 4.0969166e-11, 'Division': 1.0, 'xstart': 8, 'ystart': 52, 'xcenter': 40.11189651489258, 'ycenter': 84.14148330688477, 'real_time_event': 10.0, 'box_time_event': 0.0, 'height': 24.4405517578125, 'width': 23.71815299987793, 'confidence': 1.0, 'realangle': 2, 'rawangle': 2}\n",
      "0.8762397051909891 {'Normal': 6.7754476e-11, 'Division': 1.0, 'xstart': 12, 'ystart': 52, 'xcenter': 43.97075843811035, 'ycenter': 84.069091796875, 'real_time_event': 10.0, 'box_time_event': 0.0, 'height': 29.476869583129883, 'width': 29.13511085510254, 'confidence': 1.0, 'realangle': 2, 'rawangle': 2}\n",
      "{'Normal': 6.7754476e-11, 'Division': 1.0, 'xstart': 12, 'ystart': 52, 'xcenter': 43.97075843811035, 'ycenter': 84.069091796875, 'real_time_event': 10.0, 'box_time_event': 0.0, 'height': 29.476869583129883, 'width': 29.13511085510254, 'confidence': 1.0, 'realangle': 2, 'rawangle': 2}\n",
      "0.46157613258126595 {'Normal': 2.8009335e-08, 'Division': 1.0, 'xstart': 16, 'ystart': 52, 'xcenter': 48.045448303222656, 'ycenter': 84.06034088134766, 'real_time_event': 10.0, 'box_time_event': 0.0, 'height': 19.655845642089844, 'width': 22.22730827331543, 'confidence': 1.0, 'realangle': 2, 'rawangle': 2}\n",
      "{'Normal': 2.8009335e-08, 'Division': 1.0, 'xstart': 16, 'ystart': 52, 'xcenter': 48.045448303222656, 'ycenter': 84.06034088134766, 'real_time_event': 10.0, 'box_time_event': 0.0, 'height': 19.655845642089844, 'width': 22.22730827331543, 'confidence': 1.0, 'realangle': 2, 'rawangle': 2}\n",
      "0.2160244503137654 {'Normal': 5.3152094e-11, 'Division': 1.0, 'xstart': 4, 'ystart': 56, 'xcenter': 35.956695556640625, 'ycenter': 88.05013656616211, 'real_time_event': 10.0, 'box_time_event': 0.0, 'height': 20.533334732055664, 'width': 19.68634605407715, 'confidence': 1.0, 'realangle': 2, 'rawangle': 2}\n",
      "0.14631112907508867 {'Normal': 2.0973846e-07, 'Division': 0.99999976, 'xstart': 4, 'ystart': 52, 'xcenter': 35.96188926696777, 'ycenter': 84.03378677368164, 'real_time_event': 9.0, 'box_time_event': 0.0, 'height': 19.08646583557129, 'width': 16.426319122314453, 'confidence': 1.0, 'realangle': 2, 'rawangle': 2}\n",
      "0.5181860401050411 {'Normal': 3.004566e-09, 'Division': 1.0, 'xstart': 4, 'ystart': 52, 'xcenter': 35.95125198364258, 'ycenter': 84.03553771972656, 'real_time_event': 10.0, 'box_time_event': 0.0, 'height': 17.1131649017334, 'width': 15.677728652954102, 'confidence': 1.0, 'realangle': 2, 'rawangle': 2}\n",
      "{'Normal': 3.004566e-09, 'Division': 1.0, 'xstart': 4, 'ystart': 52, 'xcenter': 35.95125198364258, 'ycenter': 84.03553771972656, 'real_time_event': 10.0, 'box_time_event': 0.0, 'height': 17.1131649017334, 'width': 15.677728652954102, 'confidence': 1.0, 'realangle': 2, 'rawangle': 2}\n",
      "0.39934477970864135 {'Normal': 4.0969166e-11, 'Division': 1.0, 'xstart': 8, 'ystart': 52, 'xcenter': 40.11189651489258, 'ycenter': 84.14148330688477, 'real_time_event': 10.0, 'box_time_event': 0.0, 'height': 24.4405517578125, 'width': 23.71815299987793, 'confidence': 1.0, 'realangle': 2, 'rawangle': 2}\n",
      "0.1864832023714128 {'Normal': 6.7754476e-11, 'Division': 1.0, 'xstart': 12, 'ystart': 52, 'xcenter': 43.97075843811035, 'ycenter': 84.069091796875, 'real_time_event': 10.0, 'box_time_event': 0.0, 'height': 29.476869583129883, 'width': 29.13511085510254, 'confidence': 1.0, 'realangle': 2, 'rawangle': 2}\n",
      "0.14496961021781288 {'Normal': 2.8009335e-08, 'Division': 1.0, 'xstart': 16, 'ystart': 52, 'xcenter': 48.045448303222656, 'ycenter': 84.06034088134766, 'real_time_event': 10.0, 'box_time_event': 0.0, 'height': 19.655845642089844, 'width': 22.22730827331543, 'confidence': 1.0, 'realangle': 2, 'rawangle': 2}\n",
      "0.82633939299345 {'Normal': 5.3152094e-11, 'Division': 1.0, 'xstart': 4, 'ystart': 56, 'xcenter': 35.956695556640625, 'ycenter': 88.05013656616211, 'real_time_event': 10.0, 'box_time_event': 0.0, 'height': 20.533334732055664, 'width': 19.68634605407715, 'confidence': 1.0, 'realangle': 2, 'rawangle': 2}\n",
      "{'Normal': 5.3152094e-11, 'Division': 1.0, 'xstart': 4, 'ystart': 56, 'xcenter': 35.956695556640625, 'ycenter': 88.05013656616211, 'real_time_event': 10.0, 'box_time_event': 0.0, 'height': 20.533334732055664, 'width': 19.68634605407715, 'confidence': 1.0, 'realangle': 2, 'rawangle': 2}\n",
      "0.6199509230148913 {'Normal': 2.0973846e-07, 'Division': 0.99999976, 'xstart': 4, 'ystart': 52, 'xcenter': 35.96188926696777, 'ycenter': 84.03378677368164, 'real_time_event': 9.0, 'box_time_event': 0.0, 'height': 19.08646583557129, 'width': 16.426319122314453, 'confidence': 1.0, 'realangle': 2, 'rawangle': 2}\n",
      "{'Normal': 2.0973846e-07, 'Division': 0.99999976, 'xstart': 4, 'ystart': 52, 'xcenter': 35.96188926696777, 'ycenter': 84.03378677368164, 'real_time_event': 9.0, 'box_time_event': 0.0, 'height': 19.08646583557129, 'width': 16.426319122314453, 'confidence': 1.0, 'realangle': 2, 'rawangle': 2}\n",
      "0.3083341501184443 {'Normal': 4.0969166e-11, 'Division': 1.0, 'xstart': 8, 'ystart': 52, 'xcenter': 40.11189651489258, 'ycenter': 84.14148330688477, 'real_time_event': 10.0, 'box_time_event': 0.0, 'height': 24.4405517578125, 'width': 23.71815299987793, 'confidence': 1.0, 'realangle': 2, 'rawangle': 2}\n",
      "0.13195537735036006 {'Normal': 6.7754476e-11, 'Division': 1.0, 'xstart': 12, 'ystart': 52, 'xcenter': 43.97075843811035, 'ycenter': 84.069091796875, 'real_time_event': 10.0, 'box_time_event': 0.0, 'height': 29.476869583129883, 'width': 29.13511085510254, 'confidence': 1.0, 'realangle': 2, 'rawangle': 2}\n",
      "0.09799475910635326 {'Normal': 2.8009335e-08, 'Division': 1.0, 'xstart': 16, 'ystart': 52, 'xcenter': 48.045448303222656, 'ycenter': 84.06034088134766, 'real_time_event': 10.0, 'box_time_event': 0.0, 'height': 19.655845642089844, 'width': 22.22730827331543, 'confidence': 1.0, 'realangle': 2, 'rawangle': 2}\n",
      "0.44028323309670936 {'Normal': 5.3152094e-11, 'Division': 1.0, 'xstart': 4, 'ystart': 56, 'xcenter': 35.956695556640625, 'ycenter': 88.05013656616211, 'real_time_event': 10.0, 'box_time_event': 0.0, 'height': 20.533334732055664, 'width': 19.68634605407715, 'confidence': 1.0, 'realangle': 2, 'rawangle': 2}\n",
      "{'Normal': 5.3152094e-11, 'Division': 1.0, 'xstart': 4, 'ystart': 56, 'xcenter': 35.956695556640625, 'ycenter': 88.05013656616211, 'real_time_event': 10.0, 'box_time_event': 0.0, 'height': 20.533334732055664, 'width': 19.68634605407715, 'confidence': 1.0, 'realangle': 2, 'rawangle': 2}\n",
      "0.8557515680719591 {'Normal': 2.0973846e-07, 'Division': 0.99999976, 'xstart': 4, 'ystart': 52, 'xcenter': 35.96188926696777, 'ycenter': 84.03378677368164, 'real_time_event': 9.0, 'box_time_event': 0.0, 'height': 19.08646583557129, 'width': 16.426319122314453, 'confidence': 1.0, 'realangle': 2, 'rawangle': 2}\n",
      "{'Normal': 2.0973846e-07, 'Division': 0.99999976, 'xstart': 4, 'ystart': 52, 'xcenter': 35.96188926696777, 'ycenter': 84.03378677368164, 'real_time_event': 9.0, 'box_time_event': 0.0, 'height': 19.08646583557129, 'width': 16.426319122314453, 'confidence': 1.0, 'realangle': 2, 'rawangle': 2}\n",
      "0.5038005462174232 {'Normal': 6.7754476e-11, 'Division': 1.0, 'xstart': 12, 'ystart': 52, 'xcenter': 43.97075843811035, 'ycenter': 84.069091796875, 'real_time_event': 10.0, 'box_time_event': 0.0, 'height': 29.476869583129883, 'width': 29.13511085510254, 'confidence': 1.0, 'realangle': 2, 'rawangle': 2}\n",
      "{'Normal': 6.7754476e-11, 'Division': 1.0, 'xstart': 12, 'ystart': 52, 'xcenter': 43.97075843811035, 'ycenter': 84.069091796875, 'real_time_event': 10.0, 'box_time_event': 0.0, 'height': 29.476869583129883, 'width': 29.13511085510254, 'confidence': 1.0, 'realangle': 2, 'rawangle': 2}\n",
      "0.4366047150493888 {'Normal': 2.8009335e-08, 'Division': 1.0, 'xstart': 16, 'ystart': 52, 'xcenter': 48.045448303222656, 'ycenter': 84.06034088134766, 'real_time_event': 10.0, 'box_time_event': 0.0, 'height': 19.655845642089844, 'width': 22.22730827331543, 'confidence': 1.0, 'realangle': 2, 'rawangle': 2}\n",
      "{'Normal': 2.8009335e-08, 'Division': 1.0, 'xstart': 16, 'ystart': 52, 'xcenter': 48.045448303222656, 'ycenter': 84.06034088134766, 'real_time_event': 10.0, 'box_time_event': 0.0, 'height': 19.655845642089844, 'width': 22.22730827331543, 'confidence': 1.0, 'realangle': 2, 'rawangle': 2}\n",
      "0.4834168155461249 {'Normal': 5.3152094e-11, 'Division': 1.0, 'xstart': 4, 'ystart': 56, 'xcenter': 35.956695556640625, 'ycenter': 88.05013656616211, 'real_time_event': 10.0, 'box_time_event': 0.0, 'height': 20.533334732055664, 'width': 19.68634605407715, 'confidence': 1.0, 'realangle': 2, 'rawangle': 2}\n",
      "{'Normal': 5.3152094e-11, 'Division': 1.0, 'xstart': 4, 'ystart': 56, 'xcenter': 35.956695556640625, 'ycenter': 88.05013656616211, 'real_time_event': 10.0, 'box_time_event': 0.0, 'height': 20.533334732055664, 'width': 19.68634605407715, 'confidence': 1.0, 'realangle': 2, 'rawangle': 2}\n",
      "0.36152964818240896 {'Normal': 2.0973846e-07, 'Division': 0.99999976, 'xstart': 4, 'ystart': 52, 'xcenter': 35.96188926696777, 'ycenter': 84.03378677368164, 'real_time_event': 9.0, 'box_time_event': 0.0, 'height': 19.08646583557129, 'width': 16.426319122314453, 'confidence': 1.0, 'realangle': 2, 'rawangle': 2}\n",
      "0.5087220604412954 {'Normal': 2.8009335e-08, 'Division': 1.0, 'xstart': 16, 'ystart': 52, 'xcenter': 48.045448303222656, 'ycenter': 84.06034088134766, 'real_time_event': 10.0, 'box_time_event': 0.0, 'height': 19.655845642089844, 'width': 22.22730827331543, 'confidence': 1.0, 'realangle': 2, 'rawangle': 2}\n",
      "{'Normal': 2.8009335e-08, 'Division': 1.0, 'xstart': 16, 'ystart': 52, 'xcenter': 48.045448303222656, 'ycenter': 84.06034088134766, 'real_time_event': 10.0, 'box_time_event': 0.0, 'height': 19.655845642089844, 'width': 22.22730827331543, 'confidence': 1.0, 'realangle': 2, 'rawangle': 2}\n",
      "0.2345466606406661 {'Normal': 5.3152094e-11, 'Division': 1.0, 'xstart': 4, 'ystart': 56, 'xcenter': 35.956695556640625, 'ycenter': 88.05013656616211, 'real_time_event': 10.0, 'box_time_event': 0.0, 'height': 20.533334732055664, 'width': 19.68634605407715, 'confidence': 1.0, 'realangle': 2, 'rawangle': 2}\n",
      "0.158999586055105 {'Normal': 2.0973846e-07, 'Division': 0.99999976, 'xstart': 4, 'ystart': 52, 'xcenter': 35.96188926696777, 'ycenter': 84.03378677368164, 'real_time_event': 9.0, 'box_time_event': 0.0, 'height': 19.08646583557129, 'width': 16.426319122314453, 'confidence': 1.0, 'realangle': 2, 'rawangle': 2}\n",
      "0.16695127654900274 {'Normal': 5.3152094e-11, 'Division': 1.0, 'xstart': 4, 'ystart': 56, 'xcenter': 35.956695556640625, 'ycenter': 88.05013656616211, 'real_time_event': 10.0, 'box_time_event': 0.0, 'height': 20.533334732055664, 'width': 19.68634605407715, 'confidence': 1.0, 'realangle': 2, 'rawangle': 2}\n",
      "0.12686358130300093 {'Normal': 2.0973846e-07, 'Division': 0.99999976, 'xstart': 4, 'ystart': 52, 'xcenter': 35.96188926696777, 'ycenter': 84.03378677368164, 'real_time_event': 9.0, 'box_time_event': 0.0, 'height': 19.08646583557129, 'width': 16.426319122314453, 'confidence': 1.0, 'realangle': 2, 'rawangle': 2}\n",
      "0.5273429093601372 {'Normal': 2.0973846e-07, 'Division': 0.99999976, 'xstart': 4, 'ystart': 52, 'xcenter': 35.96188926696777, 'ycenter': 84.03378677368164, 'real_time_event': 9.0, 'box_time_event': 0.0, 'height': 19.08646583557129, 'width': 16.426319122314453, 'confidence': 1.0, 'realangle': 2, 'rawangle': 2}\n",
      "{'Normal': 2.0973846e-07, 'Division': 0.99999976, 'xstart': 4, 'ystart': 52, 'xcenter': 35.96188926696777, 'ycenter': 84.03378677368164, 'real_time_event': 9.0, 'box_time_event': 0.0, 'height': 19.08646583557129, 'width': 16.426319122314453, 'confidence': 1.0, 'realangle': 2, 'rawangle': 2}\n"
     ]
    },
    {
     "name": "stderr",
     "output_type": "stream",
     "text": [
      "  7%|▋         | 12/180 [01:33<21:08,  7.55s/it]"
     ]
    },
    {
     "name": "stdout",
     "output_type": "stream",
     "text": [
      "0.7837745610878902 {'Normal': 1.6279042e-05, 'Division': 0.99998367, 'xstart': 205, 'ystart': 199, 'xcenter': 237.01628875732422, 'ycenter': 230.95555114746094, 'real_time_event': 12.0, 'box_time_event': 0.0, 'height': 22.84842300415039, 'width': 21.378435134887695, 'confidence': 1.0, 'realangle': 2, 'rawangle': 2}\n",
      "{'Normal': 1.6279042e-05, 'Division': 0.99998367, 'xstart': 205, 'ystart': 199, 'xcenter': 237.01628875732422, 'ycenter': 230.95555114746094, 'real_time_event': 12.0, 'box_time_event': 0.0, 'height': 22.84842300415039, 'width': 21.378435134887695, 'confidence': 1.0, 'realangle': 2, 'rawangle': 2}\n",
      "0.46210541707418124 {'Normal': 6.9533184e-05, 'Division': 0.9999305, 'xstart': 201, 'ystart': 195, 'xcenter': 232.9694366455078, 'ycenter': 226.99572563171387, 'real_time_event': 12.0, 'box_time_event': 0.0, 'height': 18.66051483154297, 'width': 20.500612258911133, 'confidence': 1.0, 'realangle': 2, 'rawangle': 2}\n",
      "{'Normal': 6.9533184e-05, 'Division': 0.9999305, 'xstart': 201, 'ystart': 195, 'xcenter': 232.9694366455078, 'ycenter': 226.99572563171387, 'real_time_event': 12.0, 'box_time_event': 0.0, 'height': 18.66051483154297, 'width': 20.500612258911133, 'confidence': 1.0, 'realangle': 2, 'rawangle': 2}\n",
      "0.40588454101380267 {'Normal': 0.00013331446, 'Division': 0.9998667, 'xstart': 201, 'ystart': 195, 'xcenter': 232.97955703735352, 'ycenter': 227.02177047729492, 'real_time_event': 11.0, 'box_time_event': 0.0, 'height': 17.107704162597656, 'width': 19.949438095092773, 'confidence': 1.0, 'realangle': 2, 'rawangle': 2}\n",
      "{'Normal': 0.00013331446, 'Division': 0.9998667, 'xstart': 201, 'ystart': 195, 'xcenter': 232.97955703735352, 'ycenter': 227.02177047729492, 'real_time_event': 11.0, 'box_time_event': 0.0, 'height': 17.107704162597656, 'width': 19.949438095092773, 'confidence': 1.0, 'realangle': 2, 'rawangle': 2}\n",
      "0.38452452732325987 {'Normal': 6.9533184e-05, 'Division': 0.9999305, 'xstart': 201, 'ystart': 195, 'xcenter': 232.9694366455078, 'ycenter': 226.99572563171387, 'real_time_event': 12.0, 'box_time_event': 0.0, 'height': 18.66051483154297, 'width': 20.500612258911133, 'confidence': 1.0, 'realangle': 2, 'rawangle': 2}\n",
      "0.33681839470820824 {'Normal': 0.00013331446, 'Division': 0.9998667, 'xstart': 201, 'ystart': 195, 'xcenter': 232.97955703735352, 'ycenter': 227.02177047729492, 'real_time_event': 11.0, 'box_time_event': 0.0, 'height': 17.107704162597656, 'width': 19.949438095092773, 'confidence': 1.0, 'realangle': 2, 'rawangle': 2}\n",
      "0.8921378107417444 {'Normal': 0.00013331446, 'Division': 0.9998667, 'xstart': 201, 'ystart': 195, 'xcenter': 232.97955703735352, 'ycenter': 227.02177047729492, 'real_time_event': 11.0, 'box_time_event': 0.0, 'height': 17.107704162597656, 'width': 19.949438095092773, 'confidence': 1.0, 'realangle': 2, 'rawangle': 2}\n",
      "{'Normal': 0.00013331446, 'Division': 0.9998667, 'xstart': 201, 'ystart': 195, 'xcenter': 232.97955703735352, 'ycenter': 227.02177047729492, 'real_time_event': 11.0, 'box_time_event': 0.0, 'height': 17.107704162597656, 'width': 19.949438095092773, 'confidence': 1.0, 'realangle': 2, 'rawangle': 2}\n"
     ]
    },
    {
     "name": "stderr",
     "output_type": "stream",
     "text": [
      "  8%|▊         | 14/180 [01:48<20:48,  7.52s/it]"
     ]
    }
   ],
   "source": [
    "model.predict(imagename, n_tiles = n_tiles, event_threshold = event_threshold, iou_threshold = iou_threshold)"
   ]
  },
  {
   "cell_type": "code",
   "execution_count": null,
   "id": "484b8094",
   "metadata": {},
   "outputs": [],
   "source": []
  }
 ],
 "metadata": {
  "kernelspec": {
   "display_name": "Python 3",
   "language": "python",
   "name": "python3"
  },
  "language_info": {
   "codemirror_mode": {
    "name": "ipython",
    "version": 3
   },
   "file_extension": ".py",
   "mimetype": "text/x-python",
   "name": "python",
   "nbconvert_exporter": "python",
   "pygments_lexer": "ipython3",
   "version": "3.6.10"
  }
 },
 "nbformat": 4,
 "nbformat_minor": 5
}
