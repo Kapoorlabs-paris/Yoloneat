{
 "cells": [
  {
   "cell_type": "code",
   "execution_count": 1,
   "id": "87ec8896",
   "metadata": {},
   "outputs": [
    {
     "name": "stderr",
     "output_type": "stream",
     "text": [
      "Using TensorFlow backend.\n"
     ]
    }
   ],
   "source": [
    "\n",
    "import sys\n",
    "import os\n",
    "import glob\n",
    "sys.path.append(\"../NEAT\")\n",
    "from NEATModels import NEATFocus, nets\n",
    "from NEATModels.config import dynamic_config\n",
    "from NEATUtils import helpers\n",
    "from NEATUtils.helpers import load_json\n",
    "os.environ[\"CUDA_VISIBLE_DEVICES\"]=\"0\"\n",
    "os.environ[\"HDF5_USE_FILE_LOCKING\"] = \"FALSE\"\n",
    "from pathlib import Path"
   ]
  },
  {
   "cell_type": "code",
   "execution_count": 2,
   "id": "b843f28a",
   "metadata": {},
   "outputs": [],
   "source": [
    "imagedir = '/home/sancere/Kepler/CurieTrainingDatasets/foconeatimages/'\n",
    "model_dir = '/home/sancere/Kepler/CurieDeepLearningModels/OneatModels/Focusoneatmodels/'\n",
    "savedir= '/home/sancere/Kepler/CurieTrainingDatasets/foconeatimages/SeqPredictions/'\n",
    "\n",
    "model_name = 'cadhistoned29s4f16seq'\n",
    "focus_categories_json = model_dir + 'FocusCategories.json'\n",
    "catconfig = load_json(focus_categories_json)\n",
    "focus_cord_json = model_dir + 'FocusCord.json'\n",
    "cordconfig = load_json(focus_cord_json)\n",
    "model = NEATFocus(None, model_dir , model_name,catconfig, cordconfig)\n",
    "Path(savedir).mkdir(exist_ok=True)\n",
    "n_tiles = (1,1)\n",
    "interest_event = (\"BestCad\", \"BestNuclei\")"
   ]
  },
  {
   "cell_type": "markdown",
   "id": "59554497",
   "metadata": {},
   "source": [
    "# In the code block below compute the markers and make a dictionary for each image"
   ]
  },
  {
   "cell_type": "code",
   "execution_count": null,
   "id": "510d2e87",
   "metadata": {
    "scrolled": false
   },
   "outputs": [
    {
     "name": "stderr",
     "output_type": "stream",
     "text": [
      "2021-08-12 11:59:41.026951: I tensorflow/stream_executor/platform/default/dso_loader.cc:44] Successfully opened dynamic library libcuda.so.1\n",
      "2021-08-12 11:59:41.081011: I tensorflow/core/common_runtime/gpu/gpu_device.cc:1561] Found device 0 with properties: \n",
      "pciBusID: 0000:17:00.0 name: Quadro RTX 6000 computeCapability: 7.5\n",
      "coreClock: 1.77GHz coreCount: 72 deviceMemorySize: 23.64GiB deviceMemoryBandwidth: 625.94GiB/s\n",
      "2021-08-12 11:59:41.081286: I tensorflow/stream_executor/platform/default/dso_loader.cc:44] Successfully opened dynamic library libcudart.so.10.1\n",
      "2021-08-12 11:59:41.083086: I tensorflow/stream_executor/platform/default/dso_loader.cc:44] Successfully opened dynamic library libcublas.so.10\n",
      "2021-08-12 11:59:41.084893: I tensorflow/stream_executor/platform/default/dso_loader.cc:44] Successfully opened dynamic library libcufft.so.10\n",
      "2021-08-12 11:59:41.085241: I tensorflow/stream_executor/platform/default/dso_loader.cc:44] Successfully opened dynamic library libcurand.so.10\n",
      "2021-08-12 11:59:41.087444: I tensorflow/stream_executor/platform/default/dso_loader.cc:44] Successfully opened dynamic library libcusolver.so.10\n",
      "2021-08-12 11:59:41.088515: I tensorflow/stream_executor/platform/default/dso_loader.cc:44] Successfully opened dynamic library libcusparse.so.10\n",
      "2021-08-12 11:59:41.092761: I tensorflow/stream_executor/platform/default/dso_loader.cc:44] Successfully opened dynamic library libcudnn.so.7\n",
      "2021-08-12 11:59:41.095435: I tensorflow/core/common_runtime/gpu/gpu_device.cc:1703] Adding visible gpu devices: 0\n",
      "2021-08-12 11:59:41.096453: I tensorflow/core/platform/cpu_feature_guard.cc:143] Your CPU supports instructions that this TensorFlow binary was not compiled to use: AVX2 AVX512F FMA\n",
      "2021-08-12 11:59:41.108077: I tensorflow/core/platform/profile_utils/cpu_utils.cc:102] CPU Frequency: 2200000000 Hz\n",
      "2021-08-12 11:59:41.111823: I tensorflow/compiler/xla/service/service.cc:168] XLA service 0x7f6808000b20 initialized for platform Host (this does not guarantee that XLA will be used). Devices:\n",
      "2021-08-12 11:59:41.111866: I tensorflow/compiler/xla/service/service.cc:176]   StreamExecutor device (0): Host, Default Version\n",
      "2021-08-12 11:59:41.224374: I tensorflow/compiler/xla/service/service.cc:168] XLA service 0x55c9e179d7a0 initialized for platform CUDA (this does not guarantee that XLA will be used). Devices:\n",
      "2021-08-12 11:59:41.224425: I tensorflow/compiler/xla/service/service.cc:176]   StreamExecutor device (0): Quadro RTX 6000, Compute Capability 7.5\n",
      "2021-08-12 11:59:41.228314: I tensorflow/core/common_runtime/gpu/gpu_device.cc:1561] Found device 0 with properties: \n",
      "pciBusID: 0000:17:00.0 name: Quadro RTX 6000 computeCapability: 7.5\n",
      "coreClock: 1.77GHz coreCount: 72 deviceMemorySize: 23.64GiB deviceMemoryBandwidth: 625.94GiB/s\n",
      "2021-08-12 11:59:41.228464: I tensorflow/stream_executor/platform/default/dso_loader.cc:44] Successfully opened dynamic library libcudart.so.10.1\n",
      "2021-08-12 11:59:41.228508: I tensorflow/stream_executor/platform/default/dso_loader.cc:44] Successfully opened dynamic library libcublas.so.10\n",
      "2021-08-12 11:59:41.228546: I tensorflow/stream_executor/platform/default/dso_loader.cc:44] Successfully opened dynamic library libcufft.so.10\n",
      "2021-08-12 11:59:41.228583: I tensorflow/stream_executor/platform/default/dso_loader.cc:44] Successfully opened dynamic library libcurand.so.10\n",
      "2021-08-12 11:59:41.228620: I tensorflow/stream_executor/platform/default/dso_loader.cc:44] Successfully opened dynamic library libcusolver.so.10\n",
      "2021-08-12 11:59:41.228656: I tensorflow/stream_executor/platform/default/dso_loader.cc:44] Successfully opened dynamic library libcusparse.so.10\n",
      "2021-08-12 11:59:41.228694: I tensorflow/stream_executor/platform/default/dso_loader.cc:44] Successfully opened dynamic library libcudnn.so.7\n",
      "2021-08-12 11:59:41.235793: I tensorflow/core/common_runtime/gpu/gpu_device.cc:1703] Adding visible gpu devices: 0\n",
      "2021-08-12 11:59:41.235924: I tensorflow/stream_executor/platform/default/dso_loader.cc:44] Successfully opened dynamic library libcudart.so.10.1\n",
      "2021-08-12 11:59:41.241028: I tensorflow/core/common_runtime/gpu/gpu_device.cc:1102] Device interconnect StreamExecutor with strength 1 edge matrix:\n",
      "2021-08-12 11:59:41.241049: I tensorflow/core/common_runtime/gpu/gpu_device.cc:1108]      0 \n",
      "2021-08-12 11:59:41.241060: I tensorflow/core/common_runtime/gpu/gpu_device.cc:1121] 0:   N \n",
      "2021-08-12 11:59:41.245808: I tensorflow/core/common_runtime/gpu/gpu_device.cc:1247] Created TensorFlow device (/job:localhost/replica:0/task:0/device:GPU:0 with 21644 MB memory) -> physical GPU (device: 0, name: Quadro RTX 6000, pci bus id: 0000:17:00.0, compute capability: 7.5)\n"
     ]
    },
    {
     "name": "stdout",
     "output_type": "stream",
     "text": [
      "Detecting focus planes in 210629_Erk_Kate_His_mov1_w3CSU-QUAD-561_s3_t11\n"
     ]
    },
    {
     "name": "stderr",
     "output_type": "stream",
     "text": [
      "  0%|                                                                                                                                                                                       | 0/25 [00:00<?, ?it/s]2021-08-12 11:59:51.642908: I tensorflow/stream_executor/platform/default/dso_loader.cc:44] Successfully opened dynamic library libcudnn.so.7\n",
      "2021-08-12 11:59:53.542773: I tensorflow/stream_executor/platform/default/dso_loader.cc:44] Successfully opened dynamic library libcublas.so.10\n",
      "  4%|███████                                                                                                                                                                        | 1/25 [00:07<03:08,  7.83s/it]"
     ]
    },
    {
     "name": "stdout",
     "output_type": "stream",
     "text": [
      "BestCad 0.0 0.03860090653363027\n",
      "BestNuclei 0.0 8.55813980490697e-08\n"
     ]
    },
    {
     "name": "stderr",
     "output_type": "stream",
     "text": [
      "\r",
      "  8%|██████████████                                                                                                                                                                 | 2/25 [00:11<02:00,  5.22s/it]"
     ]
    },
    {
     "name": "stdout",
     "output_type": "stream",
     "text": [
      "BestCad 1.0 0.041917076939716934\n",
      "BestNuclei 1.0 1.2000192357924208e-07\n"
     ]
    },
    {
     "name": "stderr",
     "output_type": "stream",
     "text": [
      "\r",
      " 12%|█████████████████████                                                                                                                                                          | 3/25 [00:14<01:34,  4.29s/it]"
     ]
    },
    {
     "name": "stdout",
     "output_type": "stream",
     "text": [
      "BestCad 2.0 0.030022693926432774\n",
      "BestNuclei 2.0 8.651017904573575e-08\n"
     ]
    },
    {
     "name": "stderr",
     "output_type": "stream",
     "text": [
      "\r",
      " 16%|████████████████████████████                                                                                                                                                   | 4/25 [00:17<01:20,  3.85s/it]"
     ]
    },
    {
     "name": "stdout",
     "output_type": "stream",
     "text": [
      "BestCad 3.0 0.06406689495779574\n",
      "BestNuclei 3.0 8.498419166259874e-06\n"
     ]
    },
    {
     "name": "stderr",
     "output_type": "stream",
     "text": [
      "\r",
      " 20%|███████████████████████████████████                                                                                                                                            | 5/25 [00:20<01:12,  3.63s/it]"
     ]
    },
    {
     "name": "stdout",
     "output_type": "stream",
     "text": [
      "BestCad 4.0 0.09360767515714873\n",
      "BestNuclei 4.0 0.00018403720519394076\n"
     ]
    },
    {
     "name": "stderr",
     "output_type": "stream",
     "text": [
      "\r",
      " 24%|██████████████████████████████████████████                                                                                                                                     | 6/25 [00:24<01:07,  3.56s/it]"
     ]
    },
    {
     "name": "stdout",
     "output_type": "stream",
     "text": [
      "BestCad 5.0 0.20296241246852215\n",
      "BestNuclei 5.0 0.008778378412696816\n"
     ]
    },
    {
     "name": "stderr",
     "output_type": "stream",
     "text": [
      "\r",
      " 28%|█████████████████████████████████████████████████                                                                                                                              | 7/25 [00:27<01:03,  3.51s/it]"
     ]
    },
    {
     "name": "stdout",
     "output_type": "stream",
     "text": [
      "BestCad 6.0 0.214159081846921\n",
      "BestNuclei 6.0 0.017876474738540895\n"
     ]
    },
    {
     "name": "stderr",
     "output_type": "stream",
     "text": [
      "\r",
      " 32%|████████████████████████████████████████████████████████                                                                                                                       | 8/25 [00:31<00:59,  3.48s/it]"
     ]
    },
    {
     "name": "stdout",
     "output_type": "stream",
     "text": [
      "BestCad 7.0 0.2659004826463111\n",
      "BestNuclei 7.0 0.04748360486464328\n"
     ]
    },
    {
     "name": "stderr",
     "output_type": "stream",
     "text": [
      "\r",
      " 36%|███████████████████████████████████████████████████████████████                                                                                                                | 9/25 [00:34<00:56,  3.54s/it]"
     ]
    },
    {
     "name": "stdout",
     "output_type": "stream",
     "text": [
      "BestCad 8.0 0.325934959454057\n",
      "BestNuclei 8.0 0.07299885951487474\n"
     ]
    },
    {
     "name": "stderr",
     "output_type": "stream",
     "text": [
      "\r",
      " 40%|█████████████████████████████████████████████████████████████████████▌                                                                                                        | 10/25 [00:38<00:53,  3.60s/it]"
     ]
    },
    {
     "name": "stdout",
     "output_type": "stream",
     "text": [
      "BestCad 9.0 0.4692572748855404\n",
      "BestNuclei 9.0 0.16724992603942154\n"
     ]
    },
    {
     "name": "stderr",
     "output_type": "stream",
     "text": [
      "\r",
      " 44%|████████████████████████████████████████████████████████████████████████████▌                                                                                                 | 11/25 [00:41<00:50,  3.58s/it]"
     ]
    },
    {
     "name": "stdout",
     "output_type": "stream",
     "text": [
      "BestCad 10.0 0.5031051289290189\n",
      "BestNuclei 10.0 0.2728192133844277\n"
     ]
    }
   ],
   "source": [
    "Raw_path = os.path.join(imagedir, '*tif')\n",
    "X = glob.glob(Raw_path)\n",
    "\n",
    "\n",
    "for imagename in X:\n",
    "     \n",
    "         model.predict(imagename, savedir, interest_event, n_tiles = n_tiles)"
   ]
  },
  {
   "cell_type": "code",
   "execution_count": null,
   "id": "7a9e41f9",
   "metadata": {},
   "outputs": [],
   "source": []
  }
 ],
 "metadata": {
  "kernelspec": {
   "display_name": "Python [conda env:tensorflowGPU] *",
   "language": "python",
   "name": "conda-env-tensorflowGPU-py"
  },
  "language_info": {
   "codemirror_mode": {
    "name": "ipython",
    "version": 3
   },
   "file_extension": ".py",
   "mimetype": "text/x-python",
   "name": "python",
   "nbconvert_exporter": "python",
   "pygments_lexer": "ipython3",
   "version": "3.7.10"
  }
 },
 "nbformat": 4,
 "nbformat_minor": 5
}
