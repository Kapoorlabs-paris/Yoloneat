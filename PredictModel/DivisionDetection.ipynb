{
 "cells": [
  {
   "cell_type": "code",
   "execution_count": 1,
   "id": "87ec8896",
   "metadata": {},
   "outputs": [
    {
     "name": "stderr",
     "output_type": "stream",
     "text": [
      "Using TensorFlow backend.\n"
     ]
    }
   ],
   "source": [
    "\n",
    "import sys\n",
    "import os\n",
    "import glob\n",
    "sys.path.append(\"../NEAT\")\n",
    "from NEATModels import NEATDynamic, nets\n",
    "from NEATModels.config import dynamic_config\n",
    "from NEATUtils import helpers\n",
    "from NEATUtils.helpers import load_json\n",
    "from stardist.models import StarDist2D\n",
    "os.environ[\"CUDA_VISIBLE_DEVICES\"]=\"1\"\n",
    "os.environ[\"HDF5_USE_FILE_LOCKING\"] = \"FALSE\"\n",
    "from pathlib import Path"
   ]
  },
  {
   "cell_type": "code",
   "execution_count": 2,
   "id": "b843f28a",
   "metadata": {},
   "outputs": [
    {
     "name": "stdout",
     "output_type": "stream",
     "text": [
      "WARNING:tensorflow:From /home/sancere/anaconda3/envs/tensorflowGPU/lib/python3.7/site-packages/tensorflow_core/python/ops/resource_variable_ops.py:1630: calling BaseResourceVariable.__init__ (from tensorflow.python.ops.resource_variable_ops) with constraint is deprecated and will be removed in a future version.\n",
      "Instructions for updating:\n",
      "If using Keras pass *_constraint arguments to layers.\n",
      "WARNING:tensorflow:From /home/sancere/anaconda3/envs/tensorflowGPU/lib/python3.7/site-packages/keras/backend/tensorflow_backend.py:4070: The name tf.nn.max_pool is deprecated. Please use tf.nn.max_pool2d instead.\n",
      "\n",
      "Loading network weights from 'weights_last.h5'.\n",
      "Loading thresholds from 'thresholds.json'.\n",
      "Using default values: prob_thresh=0.65, nms_thresh=0.075.\n"
     ]
    }
   ],
   "source": [
    "imagedir = '/home/sancere/Kepler/FinalONEATTraining/NEATTest/'\n",
    "model_dir = '/home/sancere/Kepler/FinalONEATTraining/EverydayneatmodelV2/'\n",
    "savedir= '/home/sancere/Kepler/FinalONEATTraining/NEATTest/Save/'\n",
    "model_name = 'divisionm4d38V2'\n",
    "star_model_name = 'bin2stardist'\n",
    "division_categories_json = model_dir + 'DivisionCategories.json'\n",
    "catconfig = load_json(division_categories_json)\n",
    "division_cord_json = model_dir + 'DivisionCord.json'\n",
    "cordconfig = load_json(division_cord_json)\n",
    "model = NEATDynamic(None, model_dir , model_name,catconfig, cordconfig)\n",
    "starmodel = StarDist2D(config = None, name = star_model_name, basedir = model_dir)\n",
    "Path(savedir).mkdir(exist_ok=True)\n",
    "n_tiles = (1,1)\n",
    "event_threshold = 0.99\n",
    "iou_threshold = 0.6\n",
    "yolo_v2 = True"
   ]
  },
  {
   "cell_type": "markdown",
   "id": "1ff3c053",
   "metadata": {},
   "source": [
    "# In the code block below compute the markers and make a dictionary for ach image"
   ]
  },
  {
   "cell_type": "code",
   "execution_count": 3,
   "id": "510d2e87",
   "metadata": {
    "scrolled": false
   },
   "outputs": [
    {
     "name": "stderr",
     "output_type": "stream",
     "text": [
      "\r",
      "  0%|          | 0/20 [00:00<?, ?it/s]"
     ]
    },
    {
     "name": "stdout",
     "output_type": "stream",
     "text": [
      "Obtaining Markers\n",
      "WARNING:tensorflow:From /home/sancere/anaconda3/envs/tensorflowGPU/lib/python3.7/site-packages/keras/backend/tensorflow_backend.py:422: The name tf.global_variables is deprecated. Please use tf.compat.v1.global_variables instead.\n",
      "\n"
     ]
    },
    {
     "name": "stderr",
     "output_type": "stream",
     "text": [
      "100%|██████████| 20/20 [01:01<00:00,  3.06s/it]\n",
      " 50%|█████     | 10/20 [00:00<00:00, 95.06it/s]"
     ]
    },
    {
     "name": "stdout",
     "output_type": "stream",
     "text": [
      "Creating Dictionary of marker location for fast search\n"
     ]
    },
    {
     "name": "stderr",
     "output_type": "stream",
     "text": [
      "100%|██████████| 20/20 [00:00<00:00, 89.77it/s]\n",
      " 25%|██▌       | 5/20 [00:00<00:00, 40.90it/s]"
     ]
    },
    {
     "name": "stdout",
     "output_type": "stream",
     "text": [
      "Computing density of each marker\n"
     ]
    },
    {
     "name": "stderr",
     "output_type": "stream",
     "text": [
      "100%|██████████| 20/20 [00:00<00:00, 39.98it/s]\n"
     ]
    }
   ],
   "source": [
    "Raw_path = os.path.join(imagedir, '*tif')\n",
    "X = glob.glob(Raw_path)\n",
    "marker_dict = {}\n",
    "for imagename in X:\n",
    "     markers, markers_tree, density_location =  model.markers(imagename, starmodel, n_tiles = n_tiles)\n",
    "     \n",
    "     marker_dict[imagename] = [markers, markers_tree, density_location]\n",
    "     "
   ]
  },
  {
   "cell_type": "markdown",
   "id": "34ec4992",
   "metadata": {},
   "source": [
    "# In the cell below use the computed dictionary and apply division model detection"
   ]
  },
  {
   "cell_type": "code",
   "execution_count": null,
   "id": "a1cd7b29",
   "metadata": {},
   "outputs": [
    {
     "name": "stdout",
     "output_type": "stream",
     "text": [
      "WARNING:tensorflow:From /home/sancere/anaconda3/envs/tensorflowGPU/lib/python3.7/site-packages/tensorflow_core/python/ops/math_grad.py:1424: where (from tensorflow.python.ops.array_ops) is deprecated and will be removed in a future version.\n",
      "Instructions for updating:\n",
      "Use tf.where in 2.0, which has the same broadcast rule as np.where\n"
     ]
    },
    {
     "name": "stderr",
     "output_type": "stream",
     "text": [
      "\r",
      "  0%|          | 0/20 [00:00<?, ?it/s]"
     ]
    },
    {
     "name": "stdout",
     "output_type": "stream",
     "text": [
      "Detecting event locations\n"
     ]
    },
    {
     "name": "stderr",
     "output_type": "stream",
     "text": [
      " 45%|████▌     | 9/20 [00:49<00:59,  5.43s/it]"
     ]
    }
   ],
   "source": [
    "for imagename in X:\n",
    "     \n",
    "     markers, markers_tree, density_location = marker_dict[imagename]\n",
    "     model.predict(imagename,markers, markers_tree, density_location, savedir, n_tiles = n_tiles, event_threshold = event_threshold, iou_threshold = iou_threshold)"
   ]
  },
  {
   "cell_type": "code",
   "execution_count": null,
   "id": "02009702",
   "metadata": {},
   "outputs": [],
   "source": [
    "\n",
    "model.showNapari(imagedir, savedir, yolo_v2)\n"
   ]
  },
  {
   "cell_type": "code",
   "execution_count": null,
   "id": "6916e261",
   "metadata": {},
   "outputs": [],
   "source": []
  },
  {
   "cell_type": "code",
   "execution_count": null,
   "id": "84df0522",
   "metadata": {},
   "outputs": [],
   "source": []
  }
 ],
 "metadata": {
  "kernelspec": {
   "display_name": "Python [conda env:tensorflowGPU] *",
   "language": "python",
   "name": "conda-env-tensorflowGPU-py"
  },
  "language_info": {
   "codemirror_mode": {
    "name": "ipython",
    "version": 3
   },
   "file_extension": ".py",
   "mimetype": "text/x-python",
   "name": "python",
   "nbconvert_exporter": "python",
   "pygments_lexer": "ipython3",
   "version": "3.7.0"
  }
 },
 "nbformat": 4,
 "nbformat_minor": 5
}
