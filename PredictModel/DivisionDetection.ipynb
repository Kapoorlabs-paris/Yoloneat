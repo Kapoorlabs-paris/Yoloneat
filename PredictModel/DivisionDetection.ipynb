{
 "cells": [
  {
   "cell_type": "code",
   "execution_count": 1,
   "id": "21852fb7",
   "metadata": {},
   "outputs": [
    {
     "name": "stderr",
     "output_type": "stream",
     "text": [
      "Using TensorFlow backend.\n"
     ]
    }
   ],
   "source": [
    "import sys\n",
    "import os\n",
    "from glob import glob\n",
    "sys.path.append(\"../NEAT\")\n",
    "from NEATModels import NEATDynamic, nets\n",
    "from NEATModels.config import dynamic_config\n",
    "from NEATUtils import helpers\n",
    "from NEATUtils.helpers import load_json\n",
    "os.environ[\"CUDA_VISIBLE_DEVICES\"]=\"2\"\n",
    "os.environ[\"HDF5_USE_FILE_LOCKING\"] = \"FALSE\""
   ]
  },
  {
   "cell_type": "code",
   "execution_count": 2,
   "id": "0e2974ec",
   "metadata": {},
   "outputs": [],
   "source": [
    "imagename = '/home/sancere/Kepler/FinalONEATTraining/NEATTest/Test.tif'\n",
    "model_dir = '/home/sancere/Kepler/FinalONEATTraining/Microneatmodel/'\n",
    "model_name = 'microseqnetbin2d56.h5'\n",
    "division_categories_json = model_dir + 'MicroscopeCategories.json'\n",
    "catconfig = load_json(division_categories_json)\n",
    "division_cord_json = model_dir + 'MicroscopeCord.json'\n",
    "cordconfig = load_json(division_cord_json)\n",
    "model = NEATDynamic(None, model_dir , model_name,catconfig, cordconfig)\n",
    "n_tiles = (4,4)\n",
    "\n",
    "event_threshold = 0.9\n",
    "iou_threshold = 0.3"
   ]
  },
  {
   "cell_type": "code",
   "execution_count": null,
   "id": "f74a0488",
   "metadata": {
    "scrolled": false
   },
   "outputs": [
    {
     "name": "stdout",
     "output_type": "stream",
     "text": [
      "WARNING:tensorflow:From /home/sancere/anaconda3/envs/tensorflowGPU/lib/python3.6/site-packages/tensorflow_core/python/ops/resource_variable_ops.py:1630: calling BaseResourceVariable.__init__ (from tensorflow.python.ops.resource_variable_ops) with constraint is deprecated and will be removed in a future version.\n",
      "Instructions for updating:\n",
      "If using Keras pass *_constraint arguments to layers.\n",
      "WARNING:tensorflow:From /home/sancere/anaconda3/envs/tensorflowGPU/lib/python3.6/site-packages/tensorflow_core/python/ops/math_grad.py:1424: where (from tensorflow.python.ops.array_ops) is deprecated and will be removed in a future version.\n",
      "Instructions for updating:\n",
      "Use tf.where in 2.0, which has the same broadcast rule as np.where\n",
      "WARNING:tensorflow:From /home/sancere/anaconda3/envs/tensorflowGPU/lib/python3.6/site-packages/keras/backend/tensorflow_backend.py:422: The name tf.global_variables is deprecated. Please use tf.compat.v1.global_variables instead.\n",
      "\n"
     ]
    },
    {
     "name": "stderr",
     "output_type": "stream",
     "text": [
      "  4%|▍         | 8/180 [00:54<18:57,  6.61s/it]"
     ]
    },
    {
     "name": "stdout",
     "output_type": "stream",
     "text": [
      "0.0 {'Normal': 2.2431366e-06, 'Division': 0.99999774, 'xstart': 142, 'ystart': 52, 'xcenter': 174.02440643310547, 'ycenter': 84.03023910522461, 'real_time_event': 8.0, 'box_time_event': 0.0, 'height': 19.35085678100586, 'width': 19.88811492919922, 'confidence': 1.0, 'realangle': 2, 'rawangle': 2}\n",
      "0.0 {'Normal': 2.4588942e-06, 'Division': 0.9999975, 'xstart': 142, 'ystart': 52, 'xcenter': 174.01082229614258, 'ycenter': 83.98942756652832, 'real_time_event': 10.0, 'box_time_event': 0.0, 'height': 17.360580444335938, 'width': 17.26462173461914, 'confidence': 1.0, 'realangle': 2, 'rawangle': 2}\n",
      "0.5520405514368348 {'Normal': 3.1554468e-05, 'Division': 0.9999684, 'xstart': 16, 'ystart': 56, 'xcenter': 48.1124267578125, 'ycenter': 88.05782699584961, 'real_time_event': 10.0, 'box_time_event': 0.0, 'height': 18.599443435668945, 'width': 19.324708938598633, 'confidence': 1.0, 'realangle': 2, 'rawangle': 2}\n",
      "{'Normal': 3.1554468e-05, 'Division': 0.9999684, 'xstart': 16, 'ystart': 56, 'xcenter': 48.1124267578125, 'ycenter': 88.05782699584961, 'real_time_event': 10.0, 'box_time_event': 0.0, 'height': 18.599443435668945, 'width': 19.324708938598633, 'confidence': 1.0, 'realangle': 2, 'rawangle': 2}\n",
      "0.7654753358736399 {'Normal': 6.331675e-05, 'Division': 0.9999367, 'xstart': 16, 'ystart': 52, 'xcenter': 48.072540283203125, 'ycenter': 84.0125846862793, 'real_time_event': 9.0, 'box_time_event': 0.0, 'height': 18.360815048217773, 'width': 20.063655853271484, 'confidence': 1.0, 'realangle': 2, 'rawangle': 2}\n",
      "{'Normal': 6.331675e-05, 'Division': 0.9999367, 'xstart': 16, 'ystart': 52, 'xcenter': 48.072540283203125, 'ycenter': 84.0125846862793, 'real_time_event': 9.0, 'box_time_event': 0.0, 'height': 18.360815048217773, 'width': 20.063655853271484, 'confidence': 1.0, 'realangle': 2, 'rawangle': 2}\n",
      "0.205187657300266 {'Normal': 6.689107e-05, 'Division': 0.9999331, 'xstart': 8, 'ystart': 56, 'xcenter': 39.99959182739258, 'ycenter': 88.00238418579102, 'real_time_event': 8.0, 'box_time_event': 0.0, 'height': 21.24135971069336, 'width': 17.35028839111328, 'confidence': 1.0, 'realangle': 2, 'rawangle': 2}\n",
      "0.247130295332341 {'Normal': 0.00012473753, 'Division': 0.9998752, 'xstart': 8, 'ystart': 56, 'xcenter': 40.00410079956055, 'ycenter': 88.00224685668945, 'real_time_event': 9.0, 'box_time_event': 0.0, 'height': 22.94723892211914, 'width': 20.057449340820312, 'confidence': 1.0, 'realangle': 2, 'rawangle': 2}\n",
      "0.5625925142043088 {'Normal': 0.00014483738, 'Division': 0.99985516, 'xstart': 16, 'ystart': 56, 'xcenter': 48.04801940917969, 'ycenter': 88.03145980834961, 'real_time_event': 9.0, 'box_time_event': 0.0, 'height': 16.47797966003418, 'width': 18.16099739074707, 'confidence': 1.0, 'realangle': 2, 'rawangle': 2}\n",
      "{'Normal': 0.00014483738, 'Division': 0.99985516, 'xstart': 16, 'ystart': 56, 'xcenter': 48.04801940917969, 'ycenter': 88.03145980834961, 'real_time_event': 9.0, 'box_time_event': 0.0, 'height': 16.47797966003418, 'width': 18.16099739074707, 'confidence': 1.0, 'realangle': 2, 'rawangle': 2}\n",
      "0.30551404914692365 {'Normal': 0.00021842003, 'Division': 0.99978155, 'xstart': 8, 'ystart': 56, 'xcenter': 39.99714279174805, 'ycenter': 87.99630737304688, 'real_time_event': 10.0, 'box_time_event': 0.0, 'height': 27.29535675048828, 'width': 26.019630432128906, 'confidence': 1.0, 'realangle': 2, 'rawangle': 2}\n",
      "{'Normal': 0.00021842003, 'Division': 0.99978155, 'xstart': 8, 'ystart': 56, 'xcenter': 39.99714279174805, 'ycenter': 87.99630737304688, 'real_time_event': 10.0, 'box_time_event': 0.0, 'height': 27.29535675048828, 'width': 26.019630432128906, 'confidence': 1.0, 'realangle': 2, 'rawangle': 2}\n",
      "0.20622932822672707 {'Normal': 0.0002281951, 'Division': 0.9997718, 'xstart': 12, 'ystart': 56, 'xcenter': 43.99272537231445, 'ycenter': 87.97104072570801, 'real_time_event': 10.0, 'box_time_event': 0.0, 'height': 13.131881713867188, 'width': 12.382698059082031, 'confidence': 1.0, 'realangle': 2, 'rawangle': 2}\n",
      "0.3387617444780989 {'Normal': 0.00033786232, 'Division': 0.99966216, 'xstart': 8, 'ystart': 52, 'xcenter': 39.99826622009277, 'ycenter': 83.99577331542969, 'real_time_event': 10.0, 'box_time_event': 0.0, 'height': 20.375850677490234, 'width': 19.386348724365234, 'confidence': 1.0, 'realangle': 2, 'rawangle': 2}\n",
      "{'Normal': 0.00033786232, 'Division': 0.99966216, 'xstart': 8, 'ystart': 52, 'xcenter': 39.99826622009277, 'ycenter': 83.99577331542969, 'real_time_event': 10.0, 'box_time_event': 0.0, 'height': 20.375850677490234, 'width': 19.386348724365234, 'confidence': 1.0, 'realangle': 2, 'rawangle': 2}\n",
      "0.19346845756315734 {'Normal': 0.0008501925, 'Division': 0.9991498, 'xstart': 12, 'ystart': 56, 'xcenter': 44.000858306884766, 'ycenter': 87.9690055847168, 'real_time_event': 9.0, 'box_time_event': 0.0, 'height': 13.50014877319336, 'width': 11.670591354370117, 'confidence': 1.0, 'realangle': 2, 'rawangle': 2}\n",
      "0.1754672605925925 {'Normal': 0.0020579954, 'Division': 0.99794203, 'xstart': 8, 'ystart': 56, 'xcenter': 40.01646423339844, 'ycenter': 87.99180793762207, 'real_time_event': 7.0, 'box_time_event': 0.0, 'height': 19.951066970825195, 'width': 15.656051635742188, 'confidence': 1.0, 'realangle': 2, 'rawangle': 2}\n",
      "0.7788027732805448 {'Normal': 2.4588942e-06, 'Division': 0.9999975, 'xstart': 142, 'ystart': 52, 'xcenter': 174.01082229614258, 'ycenter': 83.98942756652832, 'real_time_event': 10.0, 'box_time_event': 0.0, 'height': 17.360580444335938, 'width': 17.26462173461914, 'confidence': 1.0, 'realangle': 2, 'rawangle': 2}\n",
      "{'Normal': 2.4588942e-06, 'Division': 0.9999975, 'xstart': 142, 'ystart': 52, 'xcenter': 174.01082229614258, 'ycenter': 83.98942756652832, 'real_time_event': 10.0, 'box_time_event': 0.0, 'height': 17.360580444335938, 'width': 17.26462173461914, 'confidence': 1.0, 'realangle': 2, 'rawangle': 2}\n",
      "0.0 {'Normal': 3.1554468e-05, 'Division': 0.9999684, 'xstart': 16, 'ystart': 56, 'xcenter': 48.1124267578125, 'ycenter': 88.05782699584961, 'real_time_event': 10.0, 'box_time_event': 0.0, 'height': 18.599443435668945, 'width': 19.324708938598633, 'confidence': 1.0, 'realangle': 2, 'rawangle': 2}\n",
      "0.0 {'Normal': 6.331675e-05, 'Division': 0.9999367, 'xstart': 16, 'ystart': 52, 'xcenter': 48.072540283203125, 'ycenter': 84.0125846862793, 'real_time_event': 9.0, 'box_time_event': 0.0, 'height': 18.360815048217773, 'width': 20.063655853271484, 'confidence': 1.0, 'realangle': 2, 'rawangle': 2}\n",
      "0.0 {'Normal': 6.689107e-05, 'Division': 0.9999331, 'xstart': 8, 'ystart': 56, 'xcenter': 39.99959182739258, 'ycenter': 88.00238418579102, 'real_time_event': 8.0, 'box_time_event': 0.0, 'height': 21.24135971069336, 'width': 17.35028839111328, 'confidence': 1.0, 'realangle': 2, 'rawangle': 2}\n",
      "0.0 {'Normal': 0.00012473753, 'Division': 0.9998752, 'xstart': 8, 'ystart': 56, 'xcenter': 40.00410079956055, 'ycenter': 88.00224685668945, 'real_time_event': 9.0, 'box_time_event': 0.0, 'height': 22.94723892211914, 'width': 20.057449340820312, 'confidence': 1.0, 'realangle': 2, 'rawangle': 2}\n",
      "0.0 {'Normal': 0.00014483738, 'Division': 0.99985516, 'xstart': 16, 'ystart': 56, 'xcenter': 48.04801940917969, 'ycenter': 88.03145980834961, 'real_time_event': 9.0, 'box_time_event': 0.0, 'height': 16.47797966003418, 'width': 18.16099739074707, 'confidence': 1.0, 'realangle': 2, 'rawangle': 2}\n",
      "0.0 {'Normal': 0.00021842003, 'Division': 0.99978155, 'xstart': 8, 'ystart': 56, 'xcenter': 39.99714279174805, 'ycenter': 87.99630737304688, 'real_time_event': 10.0, 'box_time_event': 0.0, 'height': 27.29535675048828, 'width': 26.019630432128906, 'confidence': 1.0, 'realangle': 2, 'rawangle': 2}\n",
      "0.0 {'Normal': 0.0002281951, 'Division': 0.9997718, 'xstart': 12, 'ystart': 56, 'xcenter': 43.99272537231445, 'ycenter': 87.97104072570801, 'real_time_event': 10.0, 'box_time_event': 0.0, 'height': 13.131881713867188, 'width': 12.382698059082031, 'confidence': 1.0, 'realangle': 2, 'rawangle': 2}\n",
      "0.0 {'Normal': 0.00033786232, 'Division': 0.99966216, 'xstart': 8, 'ystart': 52, 'xcenter': 39.99826622009277, 'ycenter': 83.99577331542969, 'real_time_event': 10.0, 'box_time_event': 0.0, 'height': 20.375850677490234, 'width': 19.386348724365234, 'confidence': 1.0, 'realangle': 2, 'rawangle': 2}\n",
      "0.0 {'Normal': 0.0008501925, 'Division': 0.9991498, 'xstart': 12, 'ystart': 56, 'xcenter': 44.000858306884766, 'ycenter': 87.9690055847168, 'real_time_event': 9.0, 'box_time_event': 0.0, 'height': 13.50014877319336, 'width': 11.670591354370117, 'confidence': 1.0, 'realangle': 2, 'rawangle': 2}\n",
      "0.0 {'Normal': 0.0020579954, 'Division': 0.99794203, 'xstart': 8, 'ystart': 56, 'xcenter': 40.01646423339844, 'ycenter': 87.99180793762207, 'real_time_event': 7.0, 'box_time_event': 0.0, 'height': 19.951066970825195, 'width': 15.656051635742188, 'confidence': 1.0, 'realangle': 2, 'rawangle': 2}\n",
      "0.0 {'Normal': 3.1554468e-05, 'Division': 0.9999684, 'xstart': 16, 'ystart': 56, 'xcenter': 48.1124267578125, 'ycenter': 88.05782699584961, 'real_time_event': 10.0, 'box_time_event': 0.0, 'height': 18.599443435668945, 'width': 19.324708938598633, 'confidence': 1.0, 'realangle': 2, 'rawangle': 2}\n",
      "0.0 {'Normal': 6.331675e-05, 'Division': 0.9999367, 'xstart': 16, 'ystart': 52, 'xcenter': 48.072540283203125, 'ycenter': 84.0125846862793, 'real_time_event': 9.0, 'box_time_event': 0.0, 'height': 18.360815048217773, 'width': 20.063655853271484, 'confidence': 1.0, 'realangle': 2, 'rawangle': 2}\n",
      "0.0 {'Normal': 6.689107e-05, 'Division': 0.9999331, 'xstart': 8, 'ystart': 56, 'xcenter': 39.99959182739258, 'ycenter': 88.00238418579102, 'real_time_event': 8.0, 'box_time_event': 0.0, 'height': 21.24135971069336, 'width': 17.35028839111328, 'confidence': 1.0, 'realangle': 2, 'rawangle': 2}\n",
      "0.0 {'Normal': 0.00012473753, 'Division': 0.9998752, 'xstart': 8, 'ystart': 56, 'xcenter': 40.00410079956055, 'ycenter': 88.00224685668945, 'real_time_event': 9.0, 'box_time_event': 0.0, 'height': 22.94723892211914, 'width': 20.057449340820312, 'confidence': 1.0, 'realangle': 2, 'rawangle': 2}\n",
      "0.0 {'Normal': 0.00014483738, 'Division': 0.99985516, 'xstart': 16, 'ystart': 56, 'xcenter': 48.04801940917969, 'ycenter': 88.03145980834961, 'real_time_event': 9.0, 'box_time_event': 0.0, 'height': 16.47797966003418, 'width': 18.16099739074707, 'confidence': 1.0, 'realangle': 2, 'rawangle': 2}\n",
      "0.0 {'Normal': 0.00021842003, 'Division': 0.99978155, 'xstart': 8, 'ystart': 56, 'xcenter': 39.99714279174805, 'ycenter': 87.99630737304688, 'real_time_event': 10.0, 'box_time_event': 0.0, 'height': 27.29535675048828, 'width': 26.019630432128906, 'confidence': 1.0, 'realangle': 2, 'rawangle': 2}\n",
      "0.0 {'Normal': 0.0002281951, 'Division': 0.9997718, 'xstart': 12, 'ystart': 56, 'xcenter': 43.99272537231445, 'ycenter': 87.97104072570801, 'real_time_event': 10.0, 'box_time_event': 0.0, 'height': 13.131881713867188, 'width': 12.382698059082031, 'confidence': 1.0, 'realangle': 2, 'rawangle': 2}\n",
      "0.0 {'Normal': 0.00033786232, 'Division': 0.99966216, 'xstart': 8, 'ystart': 52, 'xcenter': 39.99826622009277, 'ycenter': 83.99577331542969, 'real_time_event': 10.0, 'box_time_event': 0.0, 'height': 20.375850677490234, 'width': 19.386348724365234, 'confidence': 1.0, 'realangle': 2, 'rawangle': 2}\n",
      "0.0 {'Normal': 0.0008501925, 'Division': 0.9991498, 'xstart': 12, 'ystart': 56, 'xcenter': 44.000858306884766, 'ycenter': 87.9690055847168, 'real_time_event': 9.0, 'box_time_event': 0.0, 'height': 13.50014877319336, 'width': 11.670591354370117, 'confidence': 1.0, 'realangle': 2, 'rawangle': 2}\n",
      "0.0 {'Normal': 0.0020579954, 'Division': 0.99794203, 'xstart': 8, 'ystart': 56, 'xcenter': 40.01646423339844, 'ycenter': 87.99180793762207, 'real_time_event': 7.0, 'box_time_event': 0.0, 'height': 19.951066970825195, 'width': 15.656051635742188, 'confidence': 1.0, 'realangle': 2, 'rawangle': 2}\n",
      "0.6163034565332048 {'Normal': 6.331675e-05, 'Division': 0.9999367, 'xstart': 16, 'ystart': 52, 'xcenter': 48.072540283203125, 'ycenter': 84.0125846862793, 'real_time_event': 9.0, 'box_time_event': 0.0, 'height': 18.360815048217773, 'width': 20.063655853271484, 'confidence': 1.0, 'realangle': 2, 'rawangle': 2}\n",
      "{'Normal': 6.331675e-05, 'Division': 0.9999367, 'xstart': 16, 'ystart': 52, 'xcenter': 48.072540283203125, 'ycenter': 84.0125846862793, 'real_time_event': 9.0, 'box_time_event': 0.0, 'height': 18.360815048217773, 'width': 20.063655853271484, 'confidence': 1.0, 'realangle': 2, 'rawangle': 2}\n",
      "0.3138819092167897 {'Normal': 6.689107e-05, 'Division': 0.9999331, 'xstart': 8, 'ystart': 56, 'xcenter': 39.99959182739258, 'ycenter': 88.00238418579102, 'real_time_event': 8.0, 'box_time_event': 0.0, 'height': 21.24135971069336, 'width': 17.35028839111328, 'confidence': 1.0, 'realangle': 2, 'rawangle': 2}\n",
      "{'Normal': 6.689107e-05, 'Division': 0.9999331, 'xstart': 8, 'ystart': 56, 'xcenter': 39.99959182739258, 'ycenter': 88.00238418579102, 'real_time_event': 8.0, 'box_time_event': 0.0, 'height': 21.24135971069336, 'width': 17.35028839111328, 'confidence': 1.0, 'realangle': 2, 'rawangle': 2}\n",
      "0.37663843294742205 {'Normal': 0.00012473753, 'Division': 0.9998752, 'xstart': 8, 'ystart': 56, 'xcenter': 40.00410079956055, 'ycenter': 88.00224685668945, 'real_time_event': 9.0, 'box_time_event': 0.0, 'height': 22.94723892211914, 'width': 20.057449340820312, 'confidence': 1.0, 'realangle': 2, 'rawangle': 2}\n",
      "{'Normal': 0.00012473753, 'Division': 0.9998752, 'xstart': 8, 'ystart': 56, 'xcenter': 40.00410079956055, 'ycenter': 88.00224685668945, 'real_time_event': 9.0, 'box_time_event': 0.0, 'height': 22.94723892211914, 'width': 20.057449340820312, 'confidence': 1.0, 'realangle': 2, 'rawangle': 2}\n",
      "0.8325891524415108 {'Normal': 0.00014483738, 'Division': 0.99985516, 'xstart': 16, 'ystart': 56, 'xcenter': 48.04801940917969, 'ycenter': 88.03145980834961, 'real_time_event': 9.0, 'box_time_event': 0.0, 'height': 16.47797966003418, 'width': 18.16099739074707, 'confidence': 1.0, 'realangle': 2, 'rawangle': 2}\n",
      "{'Normal': 0.00014483738, 'Division': 0.99985516, 'xstart': 16, 'ystart': 56, 'xcenter': 48.04801940917969, 'ycenter': 88.03145980834961, 'real_time_event': 9.0, 'box_time_event': 0.0, 'height': 16.47797966003418, 'width': 18.16099739074707, 'confidence': 1.0, 'realangle': 2, 'rawangle': 2}\n",
      "0.45631067990613755 {'Normal': 0.00021842003, 'Division': 0.99978155, 'xstart': 8, 'ystart': 56, 'xcenter': 39.99714279174805, 'ycenter': 87.99630737304688, 'real_time_event': 10.0, 'box_time_event': 0.0, 'height': 27.29535675048828, 'width': 26.019630432128906, 'confidence': 1.0, 'realangle': 2, 'rawangle': 2}\n",
      "{'Normal': 0.00021842003, 'Division': 0.99978155, 'xstart': 8, 'ystart': 56, 'xcenter': 39.99714279174805, 'ycenter': 87.99630737304688, 'real_time_event': 10.0, 'box_time_event': 0.0, 'height': 27.29535675048828, 'width': 26.019630432128906, 'confidence': 1.0, 'realangle': 2, 'rawangle': 2}\n",
      "0.26721422622925056 {'Normal': 0.0002281951, 'Division': 0.9997718, 'xstart': 12, 'ystart': 56, 'xcenter': 43.99272537231445, 'ycenter': 87.97104072570801, 'real_time_event': 10.0, 'box_time_event': 0.0, 'height': 13.131881713867188, 'width': 12.382698059082031, 'confidence': 1.0, 'realangle': 2, 'rawangle': 2}\n",
      "0.3282876297832369 {'Normal': 0.00033786232, 'Division': 0.99966216, 'xstart': 8, 'ystart': 52, 'xcenter': 39.99826622009277, 'ycenter': 83.99577331542969, 'real_time_event': 10.0, 'box_time_event': 0.0, 'height': 20.375850677490234, 'width': 19.386348724365234, 'confidence': 1.0, 'realangle': 2, 'rawangle': 2}\n",
      "{'Normal': 0.00033786232, 'Division': 0.99966216, 'xstart': 8, 'ystart': 52, 'xcenter': 39.99826622009277, 'ycenter': 83.99577331542969, 'real_time_event': 10.0, 'box_time_event': 0.0, 'height': 20.375850677490234, 'width': 19.386348724365234, 'confidence': 1.0, 'realangle': 2, 'rawangle': 2}\n",
      "0.25047594093038844 {'Normal': 0.0008501925, 'Division': 0.9991498, 'xstart': 12, 'ystart': 56, 'xcenter': 44.000858306884766, 'ycenter': 87.9690055847168, 'real_time_event': 9.0, 'box_time_event': 0.0, 'height': 13.50014877319336, 'width': 11.670591354370117, 'confidence': 1.0, 'realangle': 2, 'rawangle': 2}\n",
      "0.2689879274037864 {'Normal': 0.0020579954, 'Division': 0.99794203, 'xstart': 8, 'ystart': 56, 'xcenter': 40.01646423339844, 'ycenter': 87.99180793762207, 'real_time_event': 7.0, 'box_time_event': 0.0, 'height': 19.951066970825195, 'width': 15.656051635742188, 'confidence': 1.0, 'realangle': 2, 'rawangle': 2}\n",
      "0.22281180284663668 {'Normal': 6.689107e-05, 'Division': 0.9999331, 'xstart': 8, 'ystart': 56, 'xcenter': 39.99959182739258, 'ycenter': 88.00238418579102, 'real_time_event': 8.0, 'box_time_event': 0.0, 'height': 21.24135971069336, 'width': 17.35028839111328, 'confidence': 1.0, 'realangle': 2, 'rawangle': 2}\n",
      "0.2641595039853368 {'Normal': 0.00012473753, 'Division': 0.9998752, 'xstart': 8, 'ystart': 56, 'xcenter': 40.00410079956055, 'ycenter': 88.00224685668945, 'real_time_event': 9.0, 'box_time_event': 0.0, 'height': 22.94723892211914, 'width': 20.057449340820312, 'confidence': 1.0, 'realangle': 2, 'rawangle': 2}\n",
      "0.6410628184310687 {'Normal': 0.00014483738, 'Division': 0.99985516, 'xstart': 16, 'ystart': 56, 'xcenter': 48.04801940917969, 'ycenter': 88.03145980834961, 'real_time_event': 9.0, 'box_time_event': 0.0, 'height': 16.47797966003418, 'width': 18.16099739074707, 'confidence': 1.0, 'realangle': 2, 'rawangle': 2}\n",
      "{'Normal': 0.00014483738, 'Division': 0.99985516, 'xstart': 16, 'ystart': 56, 'xcenter': 48.04801940917969, 'ycenter': 88.03145980834961, 'real_time_event': 9.0, 'box_time_event': 0.0, 'height': 16.47797966003418, 'width': 18.16099739074707, 'confidence': 1.0, 'realangle': 2, 'rawangle': 2}\n",
      "0.3156491020208994 {'Normal': 0.00021842003, 'Division': 0.99978155, 'xstart': 8, 'ystart': 56, 'xcenter': 39.99714279174805, 'ycenter': 87.99630737304688, 'real_time_event': 10.0, 'box_time_event': 0.0, 'height': 27.29535675048828, 'width': 26.019630432128906, 'confidence': 1.0, 'realangle': 2, 'rawangle': 2}\n",
      "{'Normal': 0.00021842003, 'Division': 0.99978155, 'xstart': 8, 'ystart': 56, 'xcenter': 39.99714279174805, 'ycenter': 87.99630737304688, 'real_time_event': 10.0, 'box_time_event': 0.0, 'height': 27.29535675048828, 'width': 26.019630432128906, 'confidence': 1.0, 'realangle': 2, 'rawangle': 2}\n",
      "0.26152840054999305 {'Normal': 0.0002281951, 'Division': 0.9997718, 'xstart': 12, 'ystart': 56, 'xcenter': 43.99272537231445, 'ycenter': 87.97104072570801, 'real_time_event': 10.0, 'box_time_event': 0.0, 'height': 13.131881713867188, 'width': 12.382698059082031, 'confidence': 1.0, 'realangle': 2, 'rawangle': 2}\n",
      "0.37714080754304746 {'Normal': 0.00033786232, 'Division': 0.99966216, 'xstart': 8, 'ystart': 52, 'xcenter': 39.99826622009277, 'ycenter': 83.99577331542969, 'real_time_event': 10.0, 'box_time_event': 0.0, 'height': 20.375850677490234, 'width': 19.386348724365234, 'confidence': 1.0, 'realangle': 2, 'rawangle': 2}\n",
      "{'Normal': 0.00033786232, 'Division': 0.99966216, 'xstart': 8, 'ystart': 52, 'xcenter': 39.99826622009277, 'ycenter': 83.99577331542969, 'real_time_event': 10.0, 'box_time_event': 0.0, 'height': 20.375850677490234, 'width': 19.386348724365234, 'confidence': 1.0, 'realangle': 2, 'rawangle': 2}\n",
      "0.2451648622644997 {'Normal': 0.0008501925, 'Division': 0.9991498, 'xstart': 12, 'ystart': 56, 'xcenter': 44.000858306884766, 'ycenter': 87.9690055847168, 'real_time_event': 9.0, 'box_time_event': 0.0, 'height': 13.50014877319336, 'width': 11.670591354370117, 'confidence': 1.0, 'realangle': 2, 'rawangle': 2}\n",
      "0.19262178595634466 {'Normal': 0.0020579954, 'Division': 0.99794203, 'xstart': 8, 'ystart': 56, 'xcenter': 40.01646423339844, 'ycenter': 87.99180793762207, 'real_time_event': 7.0, 'box_time_event': 0.0, 'height': 19.951066970825195, 'width': 15.656051635742188, 'confidence': 1.0, 'realangle': 2, 'rawangle': 2}\n",
      "0.800724044702072 {'Normal': 0.00012473753, 'Division': 0.9998752, 'xstart': 8, 'ystart': 56, 'xcenter': 40.00410079956055, 'ycenter': 88.00224685668945, 'real_time_event': 9.0, 'box_time_event': 0.0, 'height': 22.94723892211914, 'width': 20.057449340820312, 'confidence': 1.0, 'realangle': 2, 'rawangle': 2}\n",
      "{'Normal': 0.00012473753, 'Division': 0.9998752, 'xstart': 8, 'ystart': 56, 'xcenter': 40.00410079956055, 'ycenter': 88.00224685668945, 'real_time_event': 9.0, 'box_time_event': 0.0, 'height': 22.94723892211914, 'width': 20.057449340820312, 'confidence': 1.0, 'realangle': 2, 'rawangle': 2}\n",
      "0.29991423796471245 {'Normal': 0.00014483738, 'Division': 0.99985516, 'xstart': 16, 'ystart': 56, 'xcenter': 48.04801940917969, 'ycenter': 88.03145980834961, 'real_time_event': 9.0, 'box_time_event': 0.0, 'height': 16.47797966003418, 'width': 18.16099739074707, 'confidence': 1.0, 'realangle': 2, 'rawangle': 2}\n",
      "0.5189184506370593 {'Normal': 0.00021842003, 'Division': 0.99978155, 'xstart': 8, 'ystart': 56, 'xcenter': 39.99714279174805, 'ycenter': 87.99630737304688, 'real_time_event': 10.0, 'box_time_event': 0.0, 'height': 27.29535675048828, 'width': 26.019630432128906, 'confidence': 1.0, 'realangle': 2, 'rawangle': 2}\n",
      "{'Normal': 0.00021842003, 'Division': 0.99978155, 'xstart': 8, 'ystart': 56, 'xcenter': 39.99714279174805, 'ycenter': 87.99630737304688, 'real_time_event': 10.0, 'box_time_event': 0.0, 'height': 27.29535675048828, 'width': 26.019630432128906, 'confidence': 1.0, 'realangle': 2, 'rawangle': 2}\n",
      "0.44121801240389574 {'Normal': 0.0002281951, 'Division': 0.9997718, 'xstart': 12, 'ystart': 56, 'xcenter': 43.99272537231445, 'ycenter': 87.97104072570801, 'real_time_event': 10.0, 'box_time_event': 0.0, 'height': 13.131881713867188, 'width': 12.382698059082031, 'confidence': 1.0, 'realangle': 2, 'rawangle': 2}\n",
      "{'Normal': 0.0002281951, 'Division': 0.9997718, 'xstart': 12, 'ystart': 56, 'xcenter': 43.99272537231445, 'ycenter': 87.97104072570801, 'real_time_event': 10.0, 'box_time_event': 0.0, 'height': 13.131881713867188, 'width': 12.382698059082031, 'confidence': 1.0, 'realangle': 2, 'rawangle': 2}\n",
      "0.5926307129441142 {'Normal': 0.00033786232, 'Division': 0.99966216, 'xstart': 8, 'ystart': 52, 'xcenter': 39.99826622009277, 'ycenter': 83.99577331542969, 'real_time_event': 10.0, 'box_time_event': 0.0, 'height': 20.375850677490234, 'width': 19.386348724365234, 'confidence': 1.0, 'realangle': 2, 'rawangle': 2}\n",
      "{'Normal': 0.00033786232, 'Division': 0.99966216, 'xstart': 8, 'ystart': 52, 'xcenter': 39.99826622009277, 'ycenter': 83.99577331542969, 'real_time_event': 10.0, 'box_time_event': 0.0, 'height': 20.375850677490234, 'width': 19.386348724365234, 'confidence': 1.0, 'realangle': 2, 'rawangle': 2}\n",
      "0.4275061882025868 {'Normal': 0.0008501925, 'Division': 0.9991498, 'xstart': 12, 'ystart': 56, 'xcenter': 44.000858306884766, 'ycenter': 87.9690055847168, 'real_time_event': 9.0, 'box_time_event': 0.0, 'height': 13.50014877319336, 'width': 11.670591354370117, 'confidence': 1.0, 'realangle': 2, 'rawangle': 2}\n",
      "{'Normal': 0.0008501925, 'Division': 0.9991498, 'xstart': 12, 'ystart': 56, 'xcenter': 44.000858306884766, 'ycenter': 87.9690055847168, 'real_time_event': 9.0, 'box_time_event': 0.0, 'height': 13.50014877319336, 'width': 11.670591354370117, 'confidence': 1.0, 'realangle': 2, 'rawangle': 2}\n",
      "0.8475383528325853 {'Normal': 0.0020579954, 'Division': 0.99794203, 'xstart': 8, 'ystart': 56, 'xcenter': 40.01646423339844, 'ycenter': 87.99180793762207, 'real_time_event': 7.0, 'box_time_event': 0.0, 'height': 19.951066970825195, 'width': 15.656051635742188, 'confidence': 1.0, 'realangle': 2, 'rawangle': 2}\n",
      "{'Normal': 0.0020579954, 'Division': 0.99794203, 'xstart': 8, 'ystart': 56, 'xcenter': 40.01646423339844, 'ycenter': 87.99180793762207, 'real_time_event': 7.0, 'box_time_event': 0.0, 'height': 19.951066970825195, 'width': 15.656051635742188, 'confidence': 1.0, 'realangle': 2, 'rawangle': 2}\n",
      "0.35426037521805737 {'Normal': 0.00014483738, 'Division': 0.99985516, 'xstart': 16, 'ystart': 56, 'xcenter': 48.04801940917969, 'ycenter': 88.03145980834961, 'real_time_event': 9.0, 'box_time_event': 0.0, 'height': 16.47797966003418, 'width': 18.16099739074707, 'confidence': 1.0, 'realangle': 2, 'rawangle': 2}\n",
      "{'Normal': 0.00014483738, 'Division': 0.99985516, 'xstart': 16, 'ystart': 56, 'xcenter': 48.04801940917969, 'ycenter': 88.03145980834961, 'real_time_event': 9.0, 'box_time_event': 0.0, 'height': 16.47797966003418, 'width': 18.16099739074707, 'confidence': 1.0, 'realangle': 2, 'rawangle': 2}\n",
      "0.648061531398292 {'Normal': 0.00021842003, 'Division': 0.99978155, 'xstart': 8, 'ystart': 56, 'xcenter': 39.99714279174805, 'ycenter': 87.99630737304688, 'real_time_event': 10.0, 'box_time_event': 0.0, 'height': 27.29535675048828, 'width': 26.019630432128906, 'confidence': 1.0, 'realangle': 2, 'rawangle': 2}\n",
      "{'Normal': 0.00021842003, 'Division': 0.99978155, 'xstart': 8, 'ystart': 56, 'xcenter': 39.99714279174805, 'ycenter': 87.99630737304688, 'real_time_event': 10.0, 'box_time_event': 0.0, 'height': 27.29535675048828, 'width': 26.019630432128906, 'confidence': 1.0, 'realangle': 2, 'rawangle': 2}\n",
      "0.3532938714874564 {'Normal': 0.0002281951, 'Division': 0.9997718, 'xstart': 12, 'ystart': 56, 'xcenter': 43.99272537231445, 'ycenter': 87.97104072570801, 'real_time_event': 10.0, 'box_time_event': 0.0, 'height': 13.131881713867188, 'width': 12.382698059082031, 'confidence': 1.0, 'realangle': 2, 'rawangle': 2}\n",
      "{'Normal': 0.0002281951, 'Division': 0.9997718, 'xstart': 12, 'ystart': 56, 'xcenter': 43.99272537231445, 'ycenter': 87.97104072570801, 'real_time_event': 10.0, 'box_time_event': 0.0, 'height': 13.131881713867188, 'width': 12.382698059082031, 'confidence': 1.0, 'realangle': 2, 'rawangle': 2}\n",
      "0.5902992708668067 {'Normal': 0.00033786232, 'Division': 0.99966216, 'xstart': 8, 'ystart': 52, 'xcenter': 39.99826622009277, 'ycenter': 83.99577331542969, 'real_time_event': 10.0, 'box_time_event': 0.0, 'height': 20.375850677490234, 'width': 19.386348724365234, 'confidence': 1.0, 'realangle': 2, 'rawangle': 2}\n",
      "{'Normal': 0.00033786232, 'Division': 0.99966216, 'xstart': 8, 'ystart': 52, 'xcenter': 39.99826622009277, 'ycenter': 83.99577331542969, 'real_time_event': 10.0, 'box_time_event': 0.0, 'height': 20.375850677490234, 'width': 19.386348724365234, 'confidence': 1.0, 'realangle': 2, 'rawangle': 2}\n",
      "0.3423144841527405 {'Normal': 0.0008501925, 'Division': 0.9991498, 'xstart': 12, 'ystart': 56, 'xcenter': 44.000858306884766, 'ycenter': 87.9690055847168, 'real_time_event': 9.0, 'box_time_event': 0.0, 'height': 13.50014877319336, 'width': 11.670591354370117, 'confidence': 1.0, 'realangle': 2, 'rawangle': 2}\n",
      "{'Normal': 0.0008501925, 'Division': 0.9991498, 'xstart': 12, 'ystart': 56, 'xcenter': 44.000858306884766, 'ycenter': 87.9690055847168, 'real_time_event': 9.0, 'box_time_event': 0.0, 'height': 13.50014877319336, 'width': 11.670591354370117, 'confidence': 1.0, 'realangle': 2, 'rawangle': 2}\n",
      "0.6786443379202395 {'Normal': 0.0020579954, 'Division': 0.99794203, 'xstart': 8, 'ystart': 56, 'xcenter': 40.01646423339844, 'ycenter': 87.99180793762207, 'real_time_event': 7.0, 'box_time_event': 0.0, 'height': 19.951066970825195, 'width': 15.656051635742188, 'confidence': 1.0, 'realangle': 2, 'rawangle': 2}\n",
      "{'Normal': 0.0020579954, 'Division': 0.99794203, 'xstart': 8, 'ystart': 56, 'xcenter': 40.01646423339844, 'ycenter': 87.99180793762207, 'real_time_event': 7.0, 'box_time_event': 0.0, 'height': 19.951066970825195, 'width': 15.656051635742188, 'confidence': 1.0, 'realangle': 2, 'rawangle': 2}\n",
      "0.41671374673615247 {'Normal': 0.00021842003, 'Division': 0.99978155, 'xstart': 8, 'ystart': 56, 'xcenter': 39.99714279174805, 'ycenter': 87.99630737304688, 'real_time_event': 10.0, 'box_time_event': 0.0, 'height': 27.29535675048828, 'width': 26.019630432128906, 'confidence': 1.0, 'realangle': 2, 'rawangle': 2}\n",
      "{'Normal': 0.00021842003, 'Division': 0.99978155, 'xstart': 8, 'ystart': 56, 'xcenter': 39.99714279174805, 'ycenter': 87.99630737304688, 'real_time_event': 10.0, 'box_time_event': 0.0, 'height': 27.29535675048828, 'width': 26.019630432128906, 'confidence': 1.0, 'realangle': 2, 'rawangle': 2}\n",
      "0.3129209306812123 {'Normal': 0.0002281951, 'Division': 0.9997718, 'xstart': 12, 'ystart': 56, 'xcenter': 43.99272537231445, 'ycenter': 87.97104072570801, 'real_time_event': 10.0, 'box_time_event': 0.0, 'height': 13.131881713867188, 'width': 12.382698059082031, 'confidence': 1.0, 'realangle': 2, 'rawangle': 2}\n",
      "{'Normal': 0.0002281951, 'Division': 0.9997718, 'xstart': 12, 'ystart': 56, 'xcenter': 43.99272537231445, 'ycenter': 87.97104072570801, 'real_time_event': 10.0, 'box_time_event': 0.0, 'height': 13.131881713867188, 'width': 12.382698059082031, 'confidence': 1.0, 'realangle': 2, 'rawangle': 2}\n",
      "0.3671877413833609 {'Normal': 0.00033786232, 'Division': 0.99966216, 'xstart': 8, 'ystart': 52, 'xcenter': 39.99826622009277, 'ycenter': 83.99577331542969, 'real_time_event': 10.0, 'box_time_event': 0.0, 'height': 20.375850677490234, 'width': 19.386348724365234, 'confidence': 1.0, 'realangle': 2, 'rawangle': 2}\n",
      "{'Normal': 0.00033786232, 'Division': 0.99966216, 'xstart': 8, 'ystart': 52, 'xcenter': 39.99826622009277, 'ycenter': 83.99577331542969, 'real_time_event': 10.0, 'box_time_event': 0.0, 'height': 20.375850677490234, 'width': 19.386348724365234, 'confidence': 1.0, 'realangle': 2, 'rawangle': 2}\n",
      "0.29314092351016885 {'Normal': 0.0008501925, 'Division': 0.9991498, 'xstart': 12, 'ystart': 56, 'xcenter': 44.000858306884766, 'ycenter': 87.9690055847168, 'real_time_event': 9.0, 'box_time_event': 0.0, 'height': 13.50014877319336, 'width': 11.670591354370117, 'confidence': 1.0, 'realangle': 2, 'rawangle': 2}\n",
      "0.259872092562722 {'Normal': 0.0020579954, 'Division': 0.99794203, 'xstart': 8, 'ystart': 56, 'xcenter': 40.01646423339844, 'ycenter': 87.99180793762207, 'real_time_event': 7.0, 'box_time_event': 0.0, 'height': 19.951066970825195, 'width': 15.656051635742188, 'confidence': 1.0, 'realangle': 2, 'rawangle': 2}\n",
      "0.22895616738979238 {'Normal': 0.0002281951, 'Division': 0.9997718, 'xstart': 12, 'ystart': 56, 'xcenter': 43.99272537231445, 'ycenter': 87.97104072570801, 'real_time_event': 10.0, 'box_time_event': 0.0, 'height': 13.131881713867188, 'width': 12.382698059082031, 'confidence': 1.0, 'realangle': 2, 'rawangle': 2}\n",
      "0.4030006022115568 {'Normal': 0.00033786232, 'Division': 0.99966216, 'xstart': 8, 'ystart': 52, 'xcenter': 39.99826622009277, 'ycenter': 83.99577331542969, 'real_time_event': 10.0, 'box_time_event': 0.0, 'height': 20.375850677490234, 'width': 19.386348724365234, 'confidence': 1.0, 'realangle': 2, 'rawangle': 2}\n",
      "{'Normal': 0.00033786232, 'Division': 0.99966216, 'xstart': 8, 'ystart': 52, 'xcenter': 39.99826622009277, 'ycenter': 83.99577331542969, 'real_time_event': 10.0, 'box_time_event': 0.0, 'height': 20.375850677490234, 'width': 19.386348724365234, 'confidence': 1.0, 'realangle': 2, 'rawangle': 2}\n",
      "0.22184084881984142 {'Normal': 0.0008501925, 'Division': 0.9991498, 'xstart': 12, 'ystart': 56, 'xcenter': 44.000858306884766, 'ycenter': 87.9690055847168, 'real_time_event': 9.0, 'box_time_event': 0.0, 'height': 13.50014877319336, 'width': 11.670591354370117, 'confidence': 1.0, 'realangle': 2, 'rawangle': 2}\n",
      "0.4398032889073704 {'Normal': 0.0020579954, 'Division': 0.99794203, 'xstart': 8, 'ystart': 56, 'xcenter': 40.01646423339844, 'ycenter': 87.99180793762207, 'real_time_event': 7.0, 'box_time_event': 0.0, 'height': 19.951066970825195, 'width': 15.656051635742188, 'confidence': 1.0, 'realangle': 2, 'rawangle': 2}\n",
      "{'Normal': 0.0020579954, 'Division': 0.99794203, 'xstart': 8, 'ystart': 56, 'xcenter': 40.01646423339844, 'ycenter': 87.99180793762207, 'real_time_event': 7.0, 'box_time_event': 0.0, 'height': 19.951066970825195, 'width': 15.656051635742188, 'confidence': 1.0, 'realangle': 2, 'rawangle': 2}\n",
      "0.4116522328474234 {'Normal': 0.00033786232, 'Division': 0.99966216, 'xstart': 8, 'ystart': 52, 'xcenter': 39.99826622009277, 'ycenter': 83.99577331542969, 'real_time_event': 10.0, 'box_time_event': 0.0, 'height': 20.375850677490234, 'width': 19.386348724365234, 'confidence': 1.0, 'realangle': 2, 'rawangle': 2}\n",
      "{'Normal': 0.00033786232, 'Division': 0.99966216, 'xstart': 8, 'ystart': 52, 'xcenter': 39.99826622009277, 'ycenter': 83.99577331542969, 'real_time_event': 10.0, 'box_time_event': 0.0, 'height': 20.375850677490234, 'width': 19.386348724365234, 'confidence': 1.0, 'realangle': 2, 'rawangle': 2}\n",
      "0.91822227067626 {'Normal': 0.0008501925, 'Division': 0.9991498, 'xstart': 12, 'ystart': 56, 'xcenter': 44.000858306884766, 'ycenter': 87.9690055847168, 'real_time_event': 9.0, 'box_time_event': 0.0, 'height': 13.50014877319336, 'width': 11.670591354370117, 'confidence': 1.0, 'realangle': 2, 'rawangle': 2}\n",
      "{'Normal': 0.0008501925, 'Division': 0.9991498, 'xstart': 12, 'ystart': 56, 'xcenter': 44.000858306884766, 'ycenter': 87.9690055847168, 'real_time_event': 9.0, 'box_time_event': 0.0, 'height': 13.50014877319336, 'width': 11.670591354370117, 'confidence': 1.0, 'realangle': 2, 'rawangle': 2}\n",
      "0.475511765261354 {'Normal': 0.0020579954, 'Division': 0.99794203, 'xstart': 8, 'ystart': 56, 'xcenter': 40.01646423339844, 'ycenter': 87.99180793762207, 'real_time_event': 7.0, 'box_time_event': 0.0, 'height': 19.951066970825195, 'width': 15.656051635742188, 'confidence': 1.0, 'realangle': 2, 'rawangle': 2}\n",
      "{'Normal': 0.0020579954, 'Division': 0.99794203, 'xstart': 8, 'ystart': 56, 'xcenter': 40.01646423339844, 'ycenter': 87.99180793762207, 'real_time_event': 7.0, 'box_time_event': 0.0, 'height': 19.951066970825195, 'width': 15.656051635742188, 'confidence': 1.0, 'realangle': 2, 'rawangle': 2}\n",
      "0.3988592305442601 {'Normal': 0.0008501925, 'Division': 0.9991498, 'xstart': 12, 'ystart': 56, 'xcenter': 44.000858306884766, 'ycenter': 87.9690055847168, 'real_time_event': 9.0, 'box_time_event': 0.0, 'height': 13.50014877319336, 'width': 11.670591354370117, 'confidence': 1.0, 'realangle': 2, 'rawangle': 2}\n",
      "{'Normal': 0.0008501925, 'Division': 0.9991498, 'xstart': 12, 'ystart': 56, 'xcenter': 44.000858306884766, 'ycenter': 87.9690055847168, 'real_time_event': 9.0, 'box_time_event': 0.0, 'height': 13.50014877319336, 'width': 11.670591354370117, 'confidence': 1.0, 'realangle': 2, 'rawangle': 2}\n",
      "0.5684888852280502 {'Normal': 0.0020579954, 'Division': 0.99794203, 'xstart': 8, 'ystart': 56, 'xcenter': 40.01646423339844, 'ycenter': 87.99180793762207, 'real_time_event': 7.0, 'box_time_event': 0.0, 'height': 19.951066970825195, 'width': 15.656051635742188, 'confidence': 1.0, 'realangle': 2, 'rawangle': 2}\n",
      "{'Normal': 0.0020579954, 'Division': 0.99794203, 'xstart': 8, 'ystart': 56, 'xcenter': 40.01646423339844, 'ycenter': 87.99180793762207, 'real_time_event': 7.0, 'box_time_event': 0.0, 'height': 19.951066970825195, 'width': 15.656051635742188, 'confidence': 1.0, 'realangle': 2, 'rawangle': 2}\n",
      "0.5034644550611261 {'Normal': 0.0020579954, 'Division': 0.99794203, 'xstart': 8, 'ystart': 56, 'xcenter': 40.01646423339844, 'ycenter': 87.99180793762207, 'real_time_event': 7.0, 'box_time_event': 0.0, 'height': 19.951066970825195, 'width': 15.656051635742188, 'confidence': 1.0, 'realangle': 2, 'rawangle': 2}\n",
      "{'Normal': 0.0020579954, 'Division': 0.99794203, 'xstart': 8, 'ystart': 56, 'xcenter': 40.01646423339844, 'ycenter': 87.99180793762207, 'real_time_event': 7.0, 'box_time_event': 0.0, 'height': 19.951066970825195, 'width': 15.656051635742188, 'confidence': 1.0, 'realangle': 2, 'rawangle': 2}\n"
     ]
    },
    {
     "name": "stderr",
     "output_type": "stream",
     "text": [
      "  9%|▉         | 16/180 [01:47<17:52,  6.54s/it]"
     ]
    },
    {
     "name": "stdout",
     "output_type": "stream",
     "text": [
      "0.6691935178983965 {'Normal': 0.0021255717, 'Division': 0.9978744, 'xstart': 142, 'ystart': 56, 'xcenter': 173.99871635437012, 'ycenter': 88.00464630126953, 'real_time_event': 17.0, 'box_time_event': 0.0, 'height': 13.819417953491211, 'width': 16.747222900390625, 'confidence': 1.0, 'realangle': 2, 'rawangle': 2}\n",
      "{'Normal': 0.0021255717, 'Division': 0.9978744, 'xstart': 142, 'ystart': 56, 'xcenter': 173.99871635437012, 'ycenter': 88.00464630126953, 'real_time_event': 17.0, 'box_time_event': 0.0, 'height': 13.819417953491211, 'width': 16.747222900390625, 'confidence': 1.0, 'realangle': 2, 'rawangle': 2}\n",
      "0.9197623251110622 {'Normal': 0.004142119, 'Division': 0.9958579, 'xstart': 142, 'ystart': 52, 'xcenter': 174.03240585327148, 'ycenter': 83.97396659851074, 'real_time_event': 18.0, 'box_time_event': 0.0, 'height': 19.421323776245117, 'width': 17.42326545715332, 'confidence': 1.0, 'realangle': 2, 'rawangle': 2}\n",
      "{'Normal': 0.004142119, 'Division': 0.9958579, 'xstart': 142, 'ystart': 52, 'xcenter': 174.03240585327148, 'ycenter': 83.97396659851074, 'real_time_event': 18.0, 'box_time_event': 0.0, 'height': 19.421323776245117, 'width': 17.42326545715332, 'confidence': 1.0, 'realangle': 2, 'rawangle': 2}\n",
      "0.9742851454981138 {'Normal': 0.007617551, 'Division': 0.99238247, 'xstart': 142, 'ystart': 52, 'xcenter': 174.00706100463867, 'ycenter': 83.98376083374023, 'real_time_event': 15.0, 'box_time_event': 0.0, 'height': 20.69739532470703, 'width': 16.609275817871094, 'confidence': 1.0, 'realangle': 2, 'rawangle': 2}\n",
      "{'Normal': 0.007617551, 'Division': 0.99238247, 'xstart': 142, 'ystart': 52, 'xcenter': 174.00706100463867, 'ycenter': 83.98376083374023, 'real_time_event': 15.0, 'box_time_event': 0.0, 'height': 20.69739532470703, 'width': 16.609275817871094, 'confidence': 1.0, 'realangle': 2, 'rawangle': 2}\n",
      "0.6839497111606162 {'Normal': 0.004142119, 'Division': 0.9958579, 'xstart': 142, 'ystart': 52, 'xcenter': 174.03240585327148, 'ycenter': 83.97396659851074, 'real_time_event': 18.0, 'box_time_event': 0.0, 'height': 19.421323776245117, 'width': 17.42326545715332, 'confidence': 1.0, 'realangle': 2, 'rawangle': 2}\n",
      "{'Normal': 0.004142119, 'Division': 0.9958579, 'xstart': 142, 'ystart': 52, 'xcenter': 174.03240585327148, 'ycenter': 83.97396659851074, 'real_time_event': 18.0, 'box_time_event': 0.0, 'height': 19.421323776245117, 'width': 17.42326545715332, 'confidence': 1.0, 'realangle': 2, 'rawangle': 2}\n",
      "0.6640065398285234 {'Normal': 0.007617551, 'Division': 0.99238247, 'xstart': 142, 'ystart': 52, 'xcenter': 174.00706100463867, 'ycenter': 83.98376083374023, 'real_time_event': 15.0, 'box_time_event': 0.0, 'height': 20.69739532470703, 'width': 16.609275817871094, 'confidence': 1.0, 'realangle': 2, 'rawangle': 2}\n",
      "{'Normal': 0.007617551, 'Division': 0.99238247, 'xstart': 142, 'ystart': 52, 'xcenter': 174.00706100463867, 'ycenter': 83.98376083374023, 'real_time_event': 15.0, 'box_time_event': 0.0, 'height': 20.69739532470703, 'width': 16.609275817871094, 'confidence': 1.0, 'realangle': 2, 'rawangle': 2}\n",
      "0.8970920587754337 {'Normal': 0.007617551, 'Division': 0.99238247, 'xstart': 142, 'ystart': 52, 'xcenter': 174.00706100463867, 'ycenter': 83.98376083374023, 'real_time_event': 15.0, 'box_time_event': 0.0, 'height': 20.69739532470703, 'width': 16.609275817871094, 'confidence': 1.0, 'realangle': 2, 'rawangle': 2}\n",
      "{'Normal': 0.007617551, 'Division': 0.99238247, 'xstart': 142, 'ystart': 52, 'xcenter': 174.00706100463867, 'ycenter': 83.98376083374023, 'real_time_event': 15.0, 'box_time_event': 0.0, 'height': 20.69739532470703, 'width': 16.609275817871094, 'confidence': 1.0, 'realangle': 2, 'rawangle': 2}\n"
     ]
    },
    {
     "name": "stderr",
     "output_type": "stream",
     "text": [
      " 11%|█         | 20/180 [02:13<17:26,  6.54s/it]"
     ]
    },
    {
     "name": "stdout",
     "output_type": "stream",
     "text": [
      "0.0 {'Normal': 0.00011204152, 'Division': 0.99988794, 'xstart': 142, 'ystart': 52, 'xcenter': 173.99978256225586, 'ycenter': 83.98311042785645, 'real_time_event': 21.0, 'box_time_event': 0.0, 'height': 19.799602508544922, 'width': 19.932933807373047, 'confidence': 1.0, 'realangle': 2, 'rawangle': 2}\n",
      "0.6472129148448279 {'Normal': 0.00013511576, 'Division': 0.9998648, 'xstart': 71, 'ystart': 104, 'xcenter': 103.03047943115234, 'ycenter': 136.0674285888672, 'real_time_event': 22.0, 'box_time_event': 0.0, 'height': 18.984302520751953, 'width': 18.537960052490234, 'confidence': 1.0, 'realangle': 2, 'rawangle': 2}\n",
      "{'Normal': 0.00013511576, 'Division': 0.9998648, 'xstart': 71, 'ystart': 104, 'xcenter': 103.03047943115234, 'ycenter': 136.0674285888672, 'real_time_event': 22.0, 'box_time_event': 0.0, 'height': 18.984302520751953, 'width': 18.537960052490234, 'confidence': 1.0, 'realangle': 2, 'rawangle': 2}\n",
      "0.7008949324533931 {'Normal': 0.00033749806, 'Division': 0.9996625, 'xstart': 67, 'ystart': 104, 'xcenter': 98.97975730895996, 'ycenter': 136.00827026367188, 'real_time_event': 22.0, 'box_time_event': 0.0, 'height': 22.437274932861328, 'width': 26.85019874572754, 'confidence': 1.0, 'realangle': 2, 'rawangle': 2}\n",
      "{'Normal': 0.00033749806, 'Division': 0.9996625, 'xstart': 67, 'ystart': 104, 'xcenter': 98.97975730895996, 'ycenter': 136.00827026367188, 'real_time_event': 22.0, 'box_time_event': 0.0, 'height': 22.437274932861328, 'width': 26.85019874572754, 'confidence': 1.0, 'realangle': 2, 'rawangle': 2}\n",
      "0.0 {'Normal': 0.00049292465, 'Division': 0.99950707, 'xstart': 138, 'ystart': 52, 'xcenter': 170.00366973876953, 'ycenter': 84.00106430053711, 'real_time_event': 22.0, 'box_time_event': 0.0, 'height': 21.26836395263672, 'width': 26.030200958251953, 'confidence': 1.0, 'realangle': 2, 'rawangle': 2}\n",
      "0.0 {'Normal': 0.00013511576, 'Division': 0.9998648, 'xstart': 71, 'ystart': 104, 'xcenter': 103.03047943115234, 'ycenter': 136.0674285888672, 'real_time_event': 22.0, 'box_time_event': 0.0, 'height': 18.984302520751953, 'width': 18.537960052490234, 'confidence': 1.0, 'realangle': 2, 'rawangle': 2}\n",
      "0.0 {'Normal': 0.00033749806, 'Division': 0.9996625, 'xstart': 67, 'ystart': 104, 'xcenter': 98.97975730895996, 'ycenter': 136.00827026367188, 'real_time_event': 22.0, 'box_time_event': 0.0, 'height': 22.437274932861328, 'width': 26.85019874572754, 'confidence': 1.0, 'realangle': 2, 'rawangle': 2}\n",
      "0.7128794435364441 {'Normal': 0.00049292465, 'Division': 0.99950707, 'xstart': 138, 'ystart': 52, 'xcenter': 170.00366973876953, 'ycenter': 84.00106430053711, 'real_time_event': 22.0, 'box_time_event': 0.0, 'height': 21.26836395263672, 'width': 26.030200958251953, 'confidence': 1.0, 'realangle': 2, 'rawangle': 2}\n",
      "{'Normal': 0.00049292465, 'Division': 0.99950707, 'xstart': 138, 'ystart': 52, 'xcenter': 170.00366973876953, 'ycenter': 84.00106430053711, 'real_time_event': 22.0, 'box_time_event': 0.0, 'height': 21.26836395263672, 'width': 26.030200958251953, 'confidence': 1.0, 'realangle': 2, 'rawangle': 2}\n",
      "0.5841696281136484 {'Normal': 0.00033749806, 'Division': 0.9996625, 'xstart': 67, 'ystart': 104, 'xcenter': 98.97975730895996, 'ycenter': 136.00827026367188, 'real_time_event': 22.0, 'box_time_event': 0.0, 'height': 22.437274932861328, 'width': 26.85019874572754, 'confidence': 1.0, 'realangle': 2, 'rawangle': 2}\n",
      "{'Normal': 0.00033749806, 'Division': 0.9996625, 'xstart': 67, 'ystart': 104, 'xcenter': 98.97975730895996, 'ycenter': 136.00827026367188, 'real_time_event': 22.0, 'box_time_event': 0.0, 'height': 22.437274932861328, 'width': 26.85019874572754, 'confidence': 1.0, 'realangle': 2, 'rawangle': 2}\n",
      "0.0 {'Normal': 0.00049292465, 'Division': 0.99950707, 'xstart': 138, 'ystart': 52, 'xcenter': 170.00366973876953, 'ycenter': 84.00106430053711, 'real_time_event': 22.0, 'box_time_event': 0.0, 'height': 21.26836395263672, 'width': 26.030200958251953, 'confidence': 1.0, 'realangle': 2, 'rawangle': 2}\n",
      "0.0 {'Normal': 0.00049292465, 'Division': 0.99950707, 'xstart': 138, 'ystart': 52, 'xcenter': 170.00366973876953, 'ycenter': 84.00106430053711, 'real_time_event': 22.0, 'box_time_event': 0.0, 'height': 21.26836395263672, 'width': 26.030200958251953, 'confidence': 1.0, 'realangle': 2, 'rawangle': 2}\n"
     ]
    },
    {
     "name": "stderr",
     "output_type": "stream",
     "text": [
      " 14%|█▍        | 25/180 [02:45<16:40,  6.46s/it]"
     ]
    }
   ],
   "source": [
    "model.predict(imagename, n_tiles = n_tiles, event_threshold = event_threshold, iou_threshold = iou_threshold)"
   ]
  },
  {
   "cell_type": "code",
   "execution_count": null,
   "id": "6d2f9045",
   "metadata": {},
   "outputs": [],
   "source": []
  }
 ],
 "metadata": {
  "kernelspec": {
   "display_name": "Python 3",
   "language": "python",
   "name": "python3"
  },
  "language_info": {
   "codemirror_mode": {
    "name": "ipython",
    "version": 3
   },
   "file_extension": ".py",
   "mimetype": "text/x-python",
   "name": "python",
   "nbconvert_exporter": "python",
   "pygments_lexer": "ipython3",
   "version": "3.6.10"
  }
 },
 "nbformat": 4,
 "nbformat_minor": 5
}
