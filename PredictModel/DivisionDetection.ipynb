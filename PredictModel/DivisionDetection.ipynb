{
 "cells": [
  {
   "cell_type": "code",
   "execution_count": 1,
   "id": "4951e857",
   "metadata": {},
   "outputs": [
    {
     "name": "stderr",
     "output_type": "stream",
     "text": [
      "Using TensorFlow backend.\n"
     ]
    }
   ],
   "source": [
    "import sys\n",
    "import os\n",
    "from glob import glob\n",
    "sys.path.append(\"../NEAT\")\n",
    "from NEATModels import NEATDynamic, nets\n",
    "from NEATModels.config import dynamic_config\n",
    "from NEATUtils import helpers\n",
    "from NEATUtils.helpers import load_json\n",
    "os.environ[\"CUDA_VISIBLE_DEVICES\"]=\"2\"\n",
    "os.environ[\"HDF5_USE_FILE_LOCKING\"] = \"FALSE\""
   ]
  },
  {
   "cell_type": "code",
   "execution_count": 2,
   "id": "27278c45",
   "metadata": {},
   "outputs": [],
   "source": [
    "imagename = '/home/sancere/Kepler/FinalONEATTraining/NEATTest/Test.tif'\n",
    "model_dir = '/home/sancere/Kepler/FinalONEATTraining/Microneatmodel/'\n",
    "model_name = 'microseqnetbin2d47.h5'\n",
    "division_categories_json = model_dir + 'MicroscopeCategories.json'\n",
    "catconfig = load_json(division_categories_json)\n",
    "division_cord_json = model_dir + 'MicroscopeCord.json'\n",
    "cordconfig = load_json(division_cord_json)\n",
    "model = NEATDynamic(None, model_dir , model_name,catconfig, cordconfig)\n",
    "n_tiles = (4,4)\n",
    "overlap_percent = 0.8\n",
    "event_threshold = 0.5\n",
    "iou_threshold = 0.01"
   ]
  },
  {
   "cell_type": "code",
   "execution_count": null,
   "id": "028d2664",
   "metadata": {
    "scrolled": false
   },
   "outputs": [
    {
     "name": "stdout",
     "output_type": "stream",
     "text": [
      "WARNING:tensorflow:From /home/sancere/anaconda3/envs/tensorflowGPU/lib/python3.6/site-packages/tensorflow_core/python/ops/resource_variable_ops.py:1630: calling BaseResourceVariable.__init__ (from tensorflow.python.ops.resource_variable_ops) with constraint is deprecated and will be removed in a future version.\n",
      "Instructions for updating:\n",
      "If using Keras pass *_constraint arguments to layers.\n",
      "WARNING:tensorflow:From /home/sancere/anaconda3/envs/tensorflowGPU/lib/python3.6/site-packages/tensorflow_core/python/ops/math_grad.py:1424: where (from tensorflow.python.ops.array_ops) is deprecated and will be removed in a future version.\n",
      "Instructions for updating:\n",
      "Use tf.where in 2.0, which has the same broadcast rule as np.where\n",
      "WARNING:tensorflow:From /home/sancere/anaconda3/envs/tensorflowGPU/lib/python3.6/site-packages/keras/backend/tensorflow_backend.py:422: The name tf.global_variables is deprecated. Please use tf.compat.v1.global_variables instead.\n",
      "\n"
     ]
    },
    {
     "name": "stderr",
     "output_type": "stream",
     "text": [
      "  1%|          | 1/180 [00:06<20:17,  6.80s/it]"
     ]
    },
    {
     "name": "stdout",
     "output_type": "stream",
     "text": [
      "{'Normal': 0.08498363, 'Division': 0.91501635, 'xstart': 0, 'ystart': 195, 'xcenter': 31.92513656616211, 'ycenter': 227.07540130615234, 'real_time_event': 3.0, 'box_time_event': 0.0, 'height': 15.636428833007812, 'width': 15.427581787109375, 'confidence': 1.0, 'realangle': 2, 'rawangle': 2}\n"
     ]
    },
    {
     "name": "stderr",
     "output_type": "stream",
     "text": [
      "\r",
      "  1%|          | 2/180 [00:12<18:27,  6.22s/it]"
     ]
    },
    {
     "name": "stdout",
     "output_type": "stream",
     "text": [
      "{'Normal': 0.4163724, 'Division': 0.5836276, 'xstart': 16, 'ystart': 104, 'xcenter': 48.04544448852539, 'ycenter': 135.86405181884766, 'real_time_event': 4.0, 'box_time_event': 0.0, 'height': 22.773021697998047, 'width': 22.472000122070312, 'confidence': 1.0, 'realangle': 2, 'rawangle': 2}\n",
      "{'Normal': 0.4163724, 'Division': 0.5836276, 'xstart': 16, 'ystart': 104, 'xcenter': 48.04544448852539, 'ycenter': 135.86405181884766, 'real_time_event': 4.0, 'box_time_event': 0.0, 'height': 22.773021697998047, 'width': 22.472000122070312, 'confidence': 1.0, 'realangle': 2, 'rawangle': 2}\n",
      "{'Normal': 0.4163724, 'Division': 0.5836276, 'xstart': 16, 'ystart': 104, 'xcenter': 48.04544448852539, 'ycenter': 135.86405181884766, 'real_time_event': 4.0, 'box_time_event': 0.0, 'height': 22.773021697998047, 'width': 22.472000122070312, 'confidence': 1.0, 'realangle': 2, 'rawangle': 2}\n",
      "{'Normal': 0.4163724, 'Division': 0.5836276, 'xstart': 16, 'ystart': 104, 'xcenter': 48.04544448852539, 'ycenter': 135.86405181884766, 'real_time_event': 4.0, 'box_time_event': 0.0, 'height': 22.773021697998047, 'width': 22.472000122070312, 'confidence': 1.0, 'realangle': 2, 'rawangle': 2}\n"
     ]
    },
    {
     "name": "stderr",
     "output_type": "stream",
     "text": [
      "\r",
      "  2%|▏         | 3/180 [00:18<17:59,  6.10s/it]"
     ]
    },
    {
     "name": "stdout",
     "output_type": "stream",
     "text": [
      "{'Normal': 0.27203608, 'Division': 0.7279639, 'xstart': 16, 'ystart': 104, 'xcenter': 48.172698974609375, 'ycenter': 135.87400245666504, 'real_time_event': 5.0, 'box_time_event': 0.0, 'height': 13.775009155273438, 'width': 16.91385269165039, 'confidence': 1.0, 'realangle': 2, 'rawangle': 2}\n",
      "{'Normal': 0.27203608, 'Division': 0.7279639, 'xstart': 16, 'ystart': 104, 'xcenter': 48.172698974609375, 'ycenter': 135.87400245666504, 'real_time_event': 5.0, 'box_time_event': 0.0, 'height': 13.775009155273438, 'width': 16.91385269165039, 'confidence': 1.0, 'realangle': 2, 'rawangle': 2}\n"
     ]
    },
    {
     "name": "stderr",
     "output_type": "stream",
     "text": [
      "  4%|▍         | 7/180 [00:42<17:10,  5.96s/it]"
     ]
    },
    {
     "name": "stdout",
     "output_type": "stream",
     "text": [
      "{'Normal': 0.4531171, 'Division': 0.54688287, 'xstart': 0, 'ystart': 108, 'xcenter': 31.910018920898438, 'ycenter': 140.13276290893555, 'real_time_event': 9.0, 'box_time_event': 0.0, 'height': 14.451105117797852, 'width': 13.829689025878906, 'confidence': 1.0, 'realangle': 2, 'rawangle': 2}\n",
      "{'Normal': 0.4531171, 'Division': 0.54688287, 'xstart': 0, 'ystart': 108, 'xcenter': 31.910018920898438, 'ycenter': 140.13276290893555, 'real_time_event': 9.0, 'box_time_event': 0.0, 'height': 14.451105117797852, 'width': 13.829689025878906, 'confidence': 1.0, 'realangle': 2, 'rawangle': 2}\n",
      "{'Normal': 0.4531171, 'Division': 0.54688287, 'xstart': 0, 'ystart': 108, 'xcenter': 31.910018920898438, 'ycenter': 140.13276290893555, 'real_time_event': 9.0, 'box_time_event': 0.0, 'height': 14.451105117797852, 'width': 13.829689025878906, 'confidence': 1.0, 'realangle': 2, 'rawangle': 2}\n",
      "{'Normal': 0.4531171, 'Division': 0.54688287, 'xstart': 0, 'ystart': 108, 'xcenter': 31.910018920898438, 'ycenter': 140.13276290893555, 'real_time_event': 9.0, 'box_time_event': 0.0, 'height': 14.451105117797852, 'width': 13.829689025878906, 'confidence': 1.0, 'realangle': 2, 'rawangle': 2}\n",
      "{'Normal': 0.3595382, 'Division': 0.6404618, 'xstart': 63, 'ystart': 52, 'xcenter': 95.12516784667969, 'ycenter': 84.12920379638672, 'real_time_event': 9.0, 'box_time_event': 0.0, 'height': 17.451595306396484, 'width': 14.864465713500977, 'confidence': 1.0, 'realangle': 2, 'rawangle': 2}\n",
      "{'Normal': 0.45216206, 'Division': 0.5478379, 'xstart': 16, 'ystart': 52, 'xcenter': 48.2254524230957, 'ycenter': 83.93628692626953, 'real_time_event': 9.0, 'box_time_event': 0.0, 'height': 27.861793518066406, 'width': 32.288360595703125, 'confidence': 1.0, 'realangle': 2, 'rawangle': 2}\n",
      "{'Normal': 0.45088857, 'Division': 0.5491114, 'xstart': 138, 'ystart': 104, 'xcenter': 169.9103775024414, 'ycenter': 136.2595977783203, 'real_time_event': 9.0, 'box_time_event': 0.0, 'height': 21.355531692504883, 'width': 25.960338592529297, 'confidence': 1.0, 'realangle': 2, 'rawangle': 2}\n",
      "{'Normal': 0.45216206, 'Division': 0.5478379, 'xstart': 16, 'ystart': 52, 'xcenter': 48.2254524230957, 'ycenter': 83.93628692626953, 'real_time_event': 9.0, 'box_time_event': 0.0, 'height': 27.861793518066406, 'width': 32.288360595703125, 'confidence': 1.0, 'realangle': 2, 'rawangle': 2}\n",
      "{'Normal': 0.4531171, 'Division': 0.54688287, 'xstart': 0, 'ystart': 108, 'xcenter': 31.910018920898438, 'ycenter': 140.13276290893555, 'real_time_event': 9.0, 'box_time_event': 0.0, 'height': 14.451105117797852, 'width': 13.829689025878906, 'confidence': 1.0, 'realangle': 2, 'rawangle': 2}\n"
     ]
    },
    {
     "name": "stderr",
     "output_type": "stream",
     "text": [
      "\r",
      "  4%|▍         | 8/180 [00:48<16:49,  5.87s/it]"
     ]
    },
    {
     "name": "stdout",
     "output_type": "stream",
     "text": [
      "{'Normal': 0.34516227, 'Division': 0.6548378, 'xstart': 63, 'ystart': 52, 'xcenter': 95.09759521484375, 'ycenter': 84.09160995483398, 'real_time_event': 10.0, 'box_time_event': 0.0, 'height': 17.47803497314453, 'width': 16.133394241333008, 'confidence': 1.0, 'realangle': 2, 'rawangle': 2}\n",
      "{'Normal': 0.34516227, 'Division': 0.6548378, 'xstart': 63, 'ystart': 52, 'xcenter': 95.09759521484375, 'ycenter': 84.09160995483398, 'real_time_event': 10.0, 'box_time_event': 0.0, 'height': 17.47803497314453, 'width': 16.133394241333008, 'confidence': 1.0, 'realangle': 2, 'rawangle': 2}\n",
      "{'Normal': 0.34516227, 'Division': 0.6548378, 'xstart': 63, 'ystart': 52, 'xcenter': 95.09759521484375, 'ycenter': 84.09160995483398, 'real_time_event': 10.0, 'box_time_event': 0.0, 'height': 17.47803497314453, 'width': 16.133394241333008, 'confidence': 1.0, 'realangle': 2, 'rawangle': 2}\n",
      "{'Normal': 0.34516227, 'Division': 0.6548378, 'xstart': 63, 'ystart': 52, 'xcenter': 95.09759521484375, 'ycenter': 84.09160995483398, 'real_time_event': 10.0, 'box_time_event': 0.0, 'height': 17.47803497314453, 'width': 16.133394241333008, 'confidence': 1.0, 'realangle': 2, 'rawangle': 2}\n",
      "{'Normal': 0.21675695, 'Division': 0.783243, 'xstart': 16, 'ystart': 52, 'xcenter': 48.18840789794922, 'ycenter': 83.92163467407227, 'real_time_event': 10.0, 'box_time_event': 0.0, 'height': 25.201778411865234, 'width': 34.78761291503906, 'confidence': 1.0, 'realangle': 2, 'rawangle': 2}\n",
      "{'Normal': 0.27556625, 'Division': 0.7244337, 'xstart': 16, 'ystart': 156, 'xcenter': 47.83593940734863, 'ycenter': 188.0376205444336, 'real_time_event': 10.0, 'box_time_event': 0.0, 'height': 10.44650650024414, 'width': 13.820537567138672, 'confidence': 1.0, 'realangle': 2, 'rawangle': 2}\n",
      "{'Normal': 0.34516227, 'Division': 0.6548378, 'xstart': 63, 'ystart': 52, 'xcenter': 95.09759521484375, 'ycenter': 84.09160995483398, 'real_time_event': 10.0, 'box_time_event': 0.0, 'height': 17.47803497314453, 'width': 16.133394241333008, 'confidence': 1.0, 'realangle': 2, 'rawangle': 2}\n"
     ]
    },
    {
     "name": "stderr",
     "output_type": "stream",
     "text": [
      "\r",
      "  5%|▌         | 9/180 [00:53<16:36,  5.83s/it]"
     ]
    },
    {
     "name": "stdout",
     "output_type": "stream",
     "text": [
      "{'Normal': 0.3796671, 'Division': 0.6203329, 'xstart': 4, 'ystart': 108, 'xcenter': 35.89796447753906, 'ycenter': 140.13404846191406, 'real_time_event': 11.0, 'box_time_event': 0.0, 'height': 18.565773010253906, 'width': 18.45852279663086, 'confidence': 1.0, 'realangle': 2, 'rawangle': 2}\n",
      "{'Normal': 0.21918276, 'Division': 0.7808173, 'xstart': 12, 'ystart': 104, 'xcenter': 44.276275634765625, 'ycenter': 136.05549240112305, 'real_time_event': 11.0, 'box_time_event': 0.0, 'height': 19.33964729309082, 'width': 17.090423583984375, 'confidence': 1.0, 'realangle': 2, 'rawangle': 2}\n",
      "{'Normal': 0.3796671, 'Division': 0.6203329, 'xstart': 4, 'ystart': 108, 'xcenter': 35.89796447753906, 'ycenter': 140.13404846191406, 'real_time_event': 11.0, 'box_time_event': 0.0, 'height': 18.565773010253906, 'width': 18.45852279663086, 'confidence': 1.0, 'realangle': 2, 'rawangle': 2}\n",
      "{'Normal': 0.25679824, 'Division': 0.7432018, 'xstart': 63, 'ystart': 195, 'xcenter': 95.02447891235352, 'ycenter': 227.0201301574707, 'real_time_event': 11.0, 'box_time_event': 0.0, 'height': 22.772602081298828, 'width': 15.243934631347656, 'confidence': 1.0, 'realangle': 2, 'rawangle': 2}\n",
      "{'Normal': 0.25679824, 'Division': 0.7432018, 'xstart': 63, 'ystart': 195, 'xcenter': 95.02447891235352, 'ycenter': 227.0201301574707, 'real_time_event': 11.0, 'box_time_event': 0.0, 'height': 22.772602081298828, 'width': 15.243934631347656, 'confidence': 1.0, 'realangle': 2, 'rawangle': 2}\n",
      "{'Normal': 0.3796671, 'Division': 0.6203329, 'xstart': 4, 'ystart': 108, 'xcenter': 35.89796447753906, 'ycenter': 140.13404846191406, 'real_time_event': 11.0, 'box_time_event': 0.0, 'height': 18.565773010253906, 'width': 18.45852279663086, 'confidence': 1.0, 'realangle': 2, 'rawangle': 2}\n",
      "{'Normal': 0.21918276, 'Division': 0.7808173, 'xstart': 12, 'ystart': 104, 'xcenter': 44.276275634765625, 'ycenter': 136.05549240112305, 'real_time_event': 11.0, 'box_time_event': 0.0, 'height': 19.33964729309082, 'width': 17.090423583984375, 'confidence': 1.0, 'realangle': 2, 'rawangle': 2}\n",
      "{'Normal': 0.3796671, 'Division': 0.6203329, 'xstart': 4, 'ystart': 108, 'xcenter': 35.89796447753906, 'ycenter': 140.13404846191406, 'real_time_event': 11.0, 'box_time_event': 0.0, 'height': 18.565773010253906, 'width': 18.45852279663086, 'confidence': 1.0, 'realangle': 2, 'rawangle': 2}\n",
      "{'Normal': 0.25679824, 'Division': 0.7432018, 'xstart': 63, 'ystart': 195, 'xcenter': 95.02447891235352, 'ycenter': 227.0201301574707, 'real_time_event': 11.0, 'box_time_event': 0.0, 'height': 22.772602081298828, 'width': 15.243934631347656, 'confidence': 1.0, 'realangle': 2, 'rawangle': 2}\n",
      "{'Normal': 0.21918276, 'Division': 0.7808173, 'xstart': 12, 'ystart': 104, 'xcenter': 44.276275634765625, 'ycenter': 136.05549240112305, 'real_time_event': 11.0, 'box_time_event': 0.0, 'height': 19.33964729309082, 'width': 17.090423583984375, 'confidence': 1.0, 'realangle': 2, 'rawangle': 2}\n",
      "{'Normal': 0.3796671, 'Division': 0.6203329, 'xstart': 4, 'ystart': 108, 'xcenter': 35.89796447753906, 'ycenter': 140.13404846191406, 'real_time_event': 11.0, 'box_time_event': 0.0, 'height': 18.565773010253906, 'width': 18.45852279663086, 'confidence': 1.0, 'realangle': 2, 'rawangle': 2}\n",
      "{'Normal': 0.35959184, 'Division': 0.64040816, 'xstart': 16, 'ystart': 195, 'xcenter': 47.94426345825195, 'ycenter': 226.82696533203125, 'real_time_event': 11.0, 'box_time_event': 0.0, 'height': 14.006315231323242, 'width': 21.587690353393555, 'confidence': 1.0, 'realangle': 2, 'rawangle': 2}\n"
     ]
    },
    {
     "name": "stderr",
     "output_type": "stream",
     "text": [
      "\r",
      "  6%|▌         | 10/180 [00:59<16:20,  5.77s/it]"
     ]
    },
    {
     "name": "stdout",
     "output_type": "stream",
     "text": [
      "{'Normal': 0.40193453, 'Division': 0.5980655, 'xstart': 63, 'ystart': 195, 'xcenter': 94.99778175354004, 'ycenter': 226.95244789123535, 'real_time_event': 12.0, 'box_time_event': 0.0, 'height': 19.8126277923584, 'width': 16.589374542236328, 'confidence': 1.0, 'realangle': 2, 'rawangle': 2}\n",
      "{'Normal': 0.40193453, 'Division': 0.5980655, 'xstart': 63, 'ystart': 195, 'xcenter': 94.99778175354004, 'ycenter': 226.95244789123535, 'real_time_event': 12.0, 'box_time_event': 0.0, 'height': 19.8126277923584, 'width': 16.589374542236328, 'confidence': 1.0, 'realangle': 2, 'rawangle': 2}\n",
      "{'Normal': 0.44348118, 'Division': 0.5565188, 'xstart': 71, 'ystart': 52, 'xcenter': 102.8370246887207, 'ycenter': 83.80848693847656, 'real_time_event': 12.0, 'box_time_event': 0.0, 'height': 22.79985809326172, 'width': 23.852325439453125, 'confidence': 1.0, 'realangle': 2, 'rawangle': 2}\n",
      "{'Normal': 0.40193453, 'Division': 0.5980655, 'xstart': 63, 'ystart': 195, 'xcenter': 94.99778175354004, 'ycenter': 226.95244789123535, 'real_time_event': 12.0, 'box_time_event': 0.0, 'height': 19.8126277923584, 'width': 16.589374542236328, 'confidence': 1.0, 'realangle': 2, 'rawangle': 2}\n",
      "{'Normal': 0.40193453, 'Division': 0.5980655, 'xstart': 63, 'ystart': 195, 'xcenter': 94.99778175354004, 'ycenter': 226.95244789123535, 'real_time_event': 12.0, 'box_time_event': 0.0, 'height': 19.8126277923584, 'width': 16.589374542236328, 'confidence': 1.0, 'realangle': 2, 'rawangle': 2}\n",
      "{'Normal': 0.40193453, 'Division': 0.5980655, 'xstart': 63, 'ystart': 195, 'xcenter': 94.99778175354004, 'ycenter': 226.95244789123535, 'real_time_event': 12.0, 'box_time_event': 0.0, 'height': 19.8126277923584, 'width': 16.589374542236328, 'confidence': 1.0, 'realangle': 2, 'rawangle': 2}\n"
     ]
    },
    {
     "name": "stderr",
     "output_type": "stream",
     "text": [
      "\r",
      "  6%|▌         | 11/180 [01:05<16:16,  5.78s/it]"
     ]
    },
    {
     "name": "stdout",
     "output_type": "stream",
     "text": [
      "{'Normal': 0.0024616248, 'Division': 0.9975383, 'xstart': 63, 'ystart': 156, 'xcenter': 94.9979362487793, 'ycenter': 188.05209350585938, 'real_time_event': 13.0, 'box_time_event': 0.0, 'height': 10.740640640258789, 'width': 8.824333190917969, 'confidence': 1.0, 'realangle': 2, 'rawangle': 2}\n",
      "{'Normal': 0.047421604, 'Division': 0.95257837, 'xstart': 63, 'ystart': 160, 'xcenter': 95.03255844116211, 'ycenter': 192.09422302246094, 'real_time_event': 13.0, 'box_time_event': 0.0, 'height': 13.41786003112793, 'width': 11.32321548461914, 'confidence': 1.0, 'realangle': 2, 'rawangle': 2}\n",
      "{'Normal': 0.012925144, 'Division': 0.98707485, 'xstart': 16, 'ystart': 199, 'xcenter': 47.971609115600586, 'ycenter': 231.02070999145508, 'real_time_event': 13.0, 'box_time_event': 0.0, 'height': 15.253209114074707, 'width': 16.834274291992188, 'confidence': 1.0, 'realangle': 2, 'rawangle': 2}\n",
      "{'Normal': 0.07220648, 'Division': 0.9277935, 'xstart': 16, 'ystart': 160, 'xcenter': 47.70595741271973, 'ycenter': 191.68817329406738, 'real_time_event': 13.0, 'box_time_event': 0.0, 'height': 16.05722999572754, 'width': 15.724149703979492, 'confidence': 1.0, 'realangle': 2, 'rawangle': 2}\n",
      "{'Normal': 0.047421604, 'Division': 0.95257837, 'xstart': 63, 'ystart': 160, 'xcenter': 95.03255844116211, 'ycenter': 192.09422302246094, 'real_time_event': 13.0, 'box_time_event': 0.0, 'height': 13.41786003112793, 'width': 11.32321548461914, 'confidence': 1.0, 'realangle': 2, 'rawangle': 2}\n",
      "{'Normal': 0.047421604, 'Division': 0.95257837, 'xstart': 63, 'ystart': 160, 'xcenter': 95.03255844116211, 'ycenter': 192.09422302246094, 'real_time_event': 13.0, 'box_time_event': 0.0, 'height': 13.41786003112793, 'width': 11.32321548461914, 'confidence': 1.0, 'realangle': 2, 'rawangle': 2}\n",
      "{'Normal': 0.07220648, 'Division': 0.9277935, 'xstart': 16, 'ystart': 160, 'xcenter': 47.70595741271973, 'ycenter': 191.68817329406738, 'real_time_event': 13.0, 'box_time_event': 0.0, 'height': 16.05722999572754, 'width': 15.724149703979492, 'confidence': 1.0, 'realangle': 2, 'rawangle': 2}\n"
     ]
    },
    {
     "name": "stderr",
     "output_type": "stream",
     "text": [
      "\r",
      "  7%|▋         | 12/180 [01:11<16:14,  5.80s/it]"
     ]
    },
    {
     "name": "stdout",
     "output_type": "stream",
     "text": [
      "{'Normal': 0.011849742, 'Division': 0.98815024, 'xstart': 63, 'ystart': 156, 'xcenter': 95.10631561279297, 'ycenter': 188.11181640625, 'real_time_event': 14.0, 'box_time_event': 0.0, 'height': 10.963319778442383, 'width': 9.808486938476562, 'confidence': 1.0, 'realangle': 2, 'rawangle': 2}\n",
      "{'Normal': 0.3146818, 'Division': 0.6853182, 'xstart': 63, 'ystart': 160, 'xcenter': 94.90877914428711, 'ycenter': 192.0928192138672, 'real_time_event': 14.0, 'box_time_event': 0.0, 'height': 13.466358184814453, 'width': 10.462423324584961, 'confidence': 1.0, 'realangle': 2, 'rawangle': 2}\n",
      "{'Normal': 0.3146818, 'Division': 0.6853182, 'xstart': 63, 'ystart': 160, 'xcenter': 94.90877914428711, 'ycenter': 192.0928192138672, 'real_time_event': 14.0, 'box_time_event': 0.0, 'height': 13.466358184814453, 'width': 10.462423324584961, 'confidence': 1.0, 'realangle': 2, 'rawangle': 2}\n",
      "{'Normal': 0.011849742, 'Division': 0.98815024, 'xstart': 63, 'ystart': 156, 'xcenter': 95.10631561279297, 'ycenter': 188.11181640625, 'real_time_event': 14.0, 'box_time_event': 0.0, 'height': 10.963319778442383, 'width': 9.808486938476562, 'confidence': 1.0, 'realangle': 2, 'rawangle': 2}\n",
      "{'Normal': 0.3146818, 'Division': 0.6853182, 'xstart': 63, 'ystart': 160, 'xcenter': 94.90877914428711, 'ycenter': 192.0928192138672, 'real_time_event': 14.0, 'box_time_event': 0.0, 'height': 13.466358184814453, 'width': 10.462423324584961, 'confidence': 1.0, 'realangle': 2, 'rawangle': 2}\n"
     ]
    }
   ],
   "source": [
    "model.predict(imagename, n_tiles = n_tiles, overlap_percent = overlap_percent, event_threshold = event_threshold, iou_threshold = iou_threshold)"
   ]
  },
  {
   "cell_type": "code",
   "execution_count": null,
   "id": "1a1b05ba",
   "metadata": {},
   "outputs": [],
   "source": []
  }
 ],
 "metadata": {
  "kernelspec": {
   "display_name": "Python 3",
   "language": "python",
   "name": "python3"
  },
  "language_info": {
   "codemirror_mode": {
    "name": "ipython",
    "version": 3
   },
   "file_extension": ".py",
   "mimetype": "text/x-python",
   "name": "python",
   "nbconvert_exporter": "python",
   "pygments_lexer": "ipython3",
   "version": "3.6.10"
  }
 },
 "nbformat": 4,
 "nbformat_minor": 5
}
