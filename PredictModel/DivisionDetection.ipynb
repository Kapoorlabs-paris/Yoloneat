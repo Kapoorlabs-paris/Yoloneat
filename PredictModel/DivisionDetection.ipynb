{
 "cells": [
  {
   "cell_type": "code",
   "execution_count": 1,
   "id": "98818407",
   "metadata": {},
   "outputs": [
    {
     "name": "stderr",
     "output_type": "stream",
     "text": [
      "Using TensorFlow backend.\n"
     ]
    }
   ],
   "source": [
    "import sys\n",
    "import os\n",
    "from glob import glob\n",
    "sys.path.append(\"../NEAT\")\n",
    "from NEATModels import NEATDynamic, nets\n",
    "from NEATModels.config import dynamic_config\n",
    "from NEATUtils import helpers\n",
    "from NEATUtils.helpers import load_json\n",
    "os.environ[\"CUDA_VISIBLE_DEVICES\"]=\"2\"\n",
    "os.environ[\"HDF5_USE_FILE_LOCKING\"] = \"FALSE\""
   ]
  },
  {
   "cell_type": "code",
   "execution_count": 2,
   "id": "f4350131",
   "metadata": {},
   "outputs": [],
   "source": [
    "imagename = '/home/sancere/Kepler/FinalONEATTraining/NEATTest/Test.tif'\n",
    "model_dir = '/home/sancere/Kepler/FinalONEATTraining/Microneatmodel/'\n",
    "model_name = 'microseqnetbin2d47.h5'\n",
    "division_categories_json = model_dir + 'MicroscopeCategories.json'\n",
    "catconfig = load_json(division_categories_json)\n",
    "division_cord_json = model_dir + 'MicroscopeCord.json'\n",
    "cordconfig = load_json(division_cord_json)\n",
    "model = NEATDynamic(None, model_dir , model_name,catconfig, cordconfig)\n",
    "n_tiles = (4,4)\n",
    "overlap_percent = 0.8\n",
    "event_threshold = 0.5\n",
    "iou_threshold = 0.01"
   ]
  },
  {
   "cell_type": "code",
   "execution_count": null,
   "id": "df6c6540",
   "metadata": {
    "scrolled": false
   },
   "outputs": [
    {
     "name": "stdout",
     "output_type": "stream",
     "text": [
      "WARNING:tensorflow:From /home/sancere/anaconda3/envs/tensorflowGPU/lib/python3.6/site-packages/tensorflow_core/python/ops/resource_variable_ops.py:1630: calling BaseResourceVariable.__init__ (from tensorflow.python.ops.resource_variable_ops) with constraint is deprecated and will be removed in a future version.\n",
      "Instructions for updating:\n",
      "If using Keras pass *_constraint arguments to layers.\n",
      "WARNING:tensorflow:From /home/sancere/anaconda3/envs/tensorflowGPU/lib/python3.6/site-packages/tensorflow_core/python/ops/math_grad.py:1424: where (from tensorflow.python.ops.array_ops) is deprecated and will be removed in a future version.\n",
      "Instructions for updating:\n",
      "Use tf.where in 2.0, which has the same broadcast rule as np.where\n",
      "WARNING:tensorflow:From /home/sancere/anaconda3/envs/tensorflowGPU/lib/python3.6/site-packages/keras/backend/tensorflow_backend.py:422: The name tf.global_variables is deprecated. Please use tf.compat.v1.global_variables instead.\n",
      "\n"
     ]
    },
    {
     "name": "stderr",
     "output_type": "stream",
     "text": [
      "  1%|          | 1/180 [00:08<24:16,  8.13s/it]"
     ]
    },
    {
     "name": "stdout",
     "output_type": "stream",
     "text": [
      "{'Normal': 0.08498363, 'Division': 0.91501635, 'xstart': 0, 'ystart': 195, 'xcenter': 31.92513656616211, 'ycenter': 227.07540130615234, 'real_time_event': 3.0, 'box_time_event': 0.0, 'height': 15.636428833007812, 'width': 15.427581787109375, 'confidence': 1.0, 'realangle': 2, 'rawangle': 2}\n"
     ]
    },
    {
     "name": "stderr",
     "output_type": "stream",
     "text": [
      "\r",
      "  1%|          | 2/180 [00:14<21:07,  7.12s/it]"
     ]
    },
    {
     "name": "stdout",
     "output_type": "stream",
     "text": [
      "{'Normal': 0.4163724, 'Division': 0.5836276, 'xstart': 16, 'ystart': 104, 'xcenter': 48.04544448852539, 'ycenter': 135.86405181884766, 'real_time_event': 4.0, 'box_time_event': 0.0, 'height': 22.773021697998047, 'width': 22.472000122070312, 'confidence': 1.0, 'realangle': 2, 'rawangle': 2}\n"
     ]
    },
    {
     "name": "stderr",
     "output_type": "stream",
     "text": [
      "\r",
      "  2%|▏         | 3/180 [00:20<19:57,  6.76s/it]"
     ]
    },
    {
     "name": "stdout",
     "output_type": "stream",
     "text": [
      "{'Normal': 0.27203608, 'Division': 0.7279639, 'xstart': 16, 'ystart': 104, 'xcenter': 48.172698974609375, 'ycenter': 135.87400245666504, 'real_time_event': 5.0, 'box_time_event': 0.0, 'height': 13.775009155273438, 'width': 16.91385269165039, 'confidence': 1.0, 'realangle': 2, 'rawangle': 2}\n"
     ]
    },
    {
     "name": "stderr",
     "output_type": "stream",
     "text": [
      "  4%|▍         | 7/180 [00:43<16:45,  5.81s/it]"
     ]
    },
    {
     "name": "stdout",
     "output_type": "stream",
     "text": [
      "{'Normal': 0.3595382, 'Division': 0.6404618, 'xstart': 63, 'ystart': 52, 'xcenter': 95.12516784667969, 'ycenter': 84.12920379638672, 'real_time_event': 9.0, 'box_time_event': 0.0, 'height': 17.451595306396484, 'width': 14.864465713500977, 'confidence': 1.0, 'realangle': 2, 'rawangle': 2}\n",
      "{'Normal': 0.45088857, 'Division': 0.5491114, 'xstart': 138, 'ystart': 104, 'xcenter': 169.9103775024414, 'ycenter': 136.2595977783203, 'real_time_event': 9.0, 'box_time_event': 0.0, 'height': 21.355531692504883, 'width': 25.960338592529297, 'confidence': 1.0, 'realangle': 2, 'rawangle': 2}\n",
      "{'Normal': 0.45216206, 'Division': 0.5478379, 'xstart': 16, 'ystart': 52, 'xcenter': 48.2254524230957, 'ycenter': 83.93628692626953, 'real_time_event': 9.0, 'box_time_event': 0.0, 'height': 27.861793518066406, 'width': 32.288360595703125, 'confidence': 1.0, 'realangle': 2, 'rawangle': 2}\n",
      "{'Normal': 0.4531171, 'Division': 0.54688287, 'xstart': 0, 'ystart': 108, 'xcenter': 31.910018920898438, 'ycenter': 140.13276290893555, 'real_time_event': 9.0, 'box_time_event': 0.0, 'height': 14.451105117797852, 'width': 13.829689025878906, 'confidence': 1.0, 'realangle': 2, 'rawangle': 2}\n"
     ]
    },
    {
     "name": "stderr",
     "output_type": "stream",
     "text": [
      "\r",
      "  4%|▍         | 8/180 [00:49<16:13,  5.66s/it]"
     ]
    },
    {
     "name": "stdout",
     "output_type": "stream",
     "text": [
      "{'Normal': 0.21675695, 'Division': 0.783243, 'xstart': 16, 'ystart': 52, 'xcenter': 48.18840789794922, 'ycenter': 83.92163467407227, 'real_time_event': 10.0, 'box_time_event': 0.0, 'height': 25.201778411865234, 'width': 34.78761291503906, 'confidence': 1.0, 'realangle': 2, 'rawangle': 2}\n",
      "{'Normal': 0.27556625, 'Division': 0.7244337, 'xstart': 16, 'ystart': 156, 'xcenter': 47.83593940734863, 'ycenter': 188.0376205444336, 'real_time_event': 10.0, 'box_time_event': 0.0, 'height': 10.44650650024414, 'width': 13.820537567138672, 'confidence': 1.0, 'realangle': 2, 'rawangle': 2}\n",
      "{'Normal': 0.34516227, 'Division': 0.6548378, 'xstart': 63, 'ystart': 52, 'xcenter': 95.09759521484375, 'ycenter': 84.09160995483398, 'real_time_event': 10.0, 'box_time_event': 0.0, 'height': 17.47803497314453, 'width': 16.133394241333008, 'confidence': 1.0, 'realangle': 2, 'rawangle': 2}\n"
     ]
    },
    {
     "name": "stderr",
     "output_type": "stream",
     "text": [
      "\r",
      "  5%|▌         | 9/180 [00:54<15:59,  5.61s/it]"
     ]
    },
    {
     "name": "stdout",
     "output_type": "stream",
     "text": [
      "{'Normal': 0.21918276, 'Division': 0.7808173, 'xstart': 12, 'ystart': 104, 'xcenter': 44.276275634765625, 'ycenter': 136.05549240112305, 'real_time_event': 11.0, 'box_time_event': 0.0, 'height': 19.33964729309082, 'width': 17.090423583984375, 'confidence': 1.0, 'realangle': 2, 'rawangle': 2}\n",
      "{'Normal': 0.25679824, 'Division': 0.7432018, 'xstart': 63, 'ystart': 195, 'xcenter': 95.02447891235352, 'ycenter': 227.0201301574707, 'real_time_event': 11.0, 'box_time_event': 0.0, 'height': 22.772602081298828, 'width': 15.243934631347656, 'confidence': 1.0, 'realangle': 2, 'rawangle': 2}\n",
      "{'Normal': 0.35959184, 'Division': 0.64040816, 'xstart': 16, 'ystart': 195, 'xcenter': 47.94426345825195, 'ycenter': 226.82696533203125, 'real_time_event': 11.0, 'box_time_event': 0.0, 'height': 14.006315231323242, 'width': 21.587690353393555, 'confidence': 1.0, 'realangle': 2, 'rawangle': 2}\n",
      "{'Normal': 0.3796671, 'Division': 0.6203329, 'xstart': 4, 'ystart': 108, 'xcenter': 35.89796447753906, 'ycenter': 140.13404846191406, 'real_time_event': 11.0, 'box_time_event': 0.0, 'height': 18.565773010253906, 'width': 18.45852279663086, 'confidence': 1.0, 'realangle': 2, 'rawangle': 2}\n"
     ]
    },
    {
     "name": "stderr",
     "output_type": "stream",
     "text": [
      "\r",
      "  6%|▌         | 10/180 [01:00<15:40,  5.53s/it]"
     ]
    },
    {
     "name": "stdout",
     "output_type": "stream",
     "text": [
      "{'Normal': 0.40193453, 'Division': 0.5980655, 'xstart': 63, 'ystart': 195, 'xcenter': 94.99778175354004, 'ycenter': 226.95244789123535, 'real_time_event': 12.0, 'box_time_event': 0.0, 'height': 19.8126277923584, 'width': 16.589374542236328, 'confidence': 1.0, 'realangle': 2, 'rawangle': 2}\n",
      "{'Normal': 0.44348118, 'Division': 0.5565188, 'xstart': 71, 'ystart': 52, 'xcenter': 102.8370246887207, 'ycenter': 83.80848693847656, 'real_time_event': 12.0, 'box_time_event': 0.0, 'height': 22.79985809326172, 'width': 23.852325439453125, 'confidence': 1.0, 'realangle': 2, 'rawangle': 2}\n"
     ]
    },
    {
     "name": "stderr",
     "output_type": "stream",
     "text": [
      "\r",
      "  6%|▌         | 11/180 [01:05<15:29,  5.50s/it]"
     ]
    },
    {
     "name": "stdout",
     "output_type": "stream",
     "text": [
      "{'Normal': 0.0024616248, 'Division': 0.9975383, 'xstart': 63, 'ystart': 156, 'xcenter': 94.9979362487793, 'ycenter': 188.05209350585938, 'real_time_event': 13.0, 'box_time_event': 0.0, 'height': 10.740640640258789, 'width': 8.824333190917969, 'confidence': 1.0, 'realangle': 2, 'rawangle': 2}\n",
      "{'Normal': 0.012925144, 'Division': 0.98707485, 'xstart': 16, 'ystart': 199, 'xcenter': 47.971609115600586, 'ycenter': 231.02070999145508, 'real_time_event': 13.0, 'box_time_event': 0.0, 'height': 15.253209114074707, 'width': 16.834274291992188, 'confidence': 1.0, 'realangle': 2, 'rawangle': 2}\n",
      "{'Normal': 0.047421604, 'Division': 0.95257837, 'xstart': 63, 'ystart': 160, 'xcenter': 95.03255844116211, 'ycenter': 192.09422302246094, 'real_time_event': 13.0, 'box_time_event': 0.0, 'height': 13.41786003112793, 'width': 11.32321548461914, 'confidence': 1.0, 'realangle': 2, 'rawangle': 2}\n",
      "{'Normal': 0.07220648, 'Division': 0.9277935, 'xstart': 16, 'ystart': 160, 'xcenter': 47.70595741271973, 'ycenter': 191.68817329406738, 'real_time_event': 13.0, 'box_time_event': 0.0, 'height': 16.05722999572754, 'width': 15.724149703979492, 'confidence': 1.0, 'realangle': 2, 'rawangle': 2}\n"
     ]
    },
    {
     "name": "stderr",
     "output_type": "stream",
     "text": [
      "\r",
      "  7%|▋         | 12/180 [01:10<15:24,  5.50s/it]"
     ]
    },
    {
     "name": "stdout",
     "output_type": "stream",
     "text": [
      "{'Normal': 0.011849742, 'Division': 0.98815024, 'xstart': 63, 'ystart': 156, 'xcenter': 95.10631561279297, 'ycenter': 188.11181640625, 'real_time_event': 14.0, 'box_time_event': 0.0, 'height': 10.963319778442383, 'width': 9.808486938476562, 'confidence': 1.0, 'realangle': 2, 'rawangle': 2}\n",
      "{'Normal': 0.3146818, 'Division': 0.6853182, 'xstart': 63, 'ystart': 160, 'xcenter': 94.90877914428711, 'ycenter': 192.0928192138672, 'real_time_event': 14.0, 'box_time_event': 0.0, 'height': 13.466358184814453, 'width': 10.462423324584961, 'confidence': 1.0, 'realangle': 2, 'rawangle': 2}\n"
     ]
    },
    {
     "name": "stderr",
     "output_type": "stream",
     "text": [
      "\r",
      "  7%|▋         | 13/180 [01:16<15:18,  5.50s/it]"
     ]
    },
    {
     "name": "stdout",
     "output_type": "stream",
     "text": [
      "{'Normal': 0.31696087, 'Division': 0.68303907, 'xstart': 16, 'ystart': 156, 'xcenter': 47.99711799621582, 'ycenter': 188.0243797302246, 'real_time_event': 15.0, 'box_time_event': 0.0, 'height': 10.87429428100586, 'width': 11.585710525512695, 'confidence': 1.0, 'realangle': 2, 'rawangle': 2}\n"
     ]
    },
    {
     "name": "stderr",
     "output_type": "stream",
     "text": [
      "  9%|▉         | 16/180 [01:32<14:47,  5.41s/it]"
     ]
    },
    {
     "name": "stdout",
     "output_type": "stream",
     "text": [
      "{'Normal': 0.132091, 'Division': 0.867909, 'xstart': 67, 'ystart': 104, 'xcenter': 98.94670867919922, 'ycenter': 135.97401809692383, 'real_time_event': 18.0, 'box_time_event': 0.0, 'height': 30.612743377685547, 'width': 25.635976791381836, 'confidence': 1.0, 'realangle': 2, 'rawangle': 2}\n",
      "{'Normal': 0.30348614, 'Division': 0.69651383, 'xstart': 138, 'ystart': 199, 'xcenter': 170.05181884765625, 'ycenter': 231.01419067382812, 'real_time_event': 18.0, 'box_time_event': 0.0, 'height': 20.313617706298828, 'width': 24.807281494140625, 'confidence': 1.0, 'realangle': 2, 'rawangle': 2}\n",
      "{'Normal': 0.47518533, 'Division': 0.52481467, 'xstart': 134, 'ystart': 104, 'xcenter': 165.57246780395508, 'ycenter': 136.2212677001953, 'real_time_event': 18.0, 'box_time_event': 0.0, 'height': 20.395286560058594, 'width': 24.856103897094727, 'confidence': 1.0, 'realangle': 2, 'rawangle': 2}\n"
     ]
    },
    {
     "name": "stderr",
     "output_type": "stream",
     "text": [
      "\r",
      "  9%|▉         | 17/180 [01:37<14:33,  5.36s/it]"
     ]
    },
    {
     "name": "stdout",
     "output_type": "stream",
     "text": [
      "{'Normal': 0.11475829, 'Division': 0.8852417, 'xstart': 134, 'ystart': 199, 'xcenter': 165.87793350219727, 'ycenter': 231.18654251098633, 'real_time_event': 19.0, 'box_time_event': 0.0, 'height': 26.000032424926758, 'width': 30.86139488220215, 'confidence': 1.0, 'realangle': 2, 'rawangle': 2}\n",
      "{'Normal': 0.43015465, 'Division': 0.5698454, 'xstart': 138, 'ystart': 199, 'xcenter': 170.02602767944336, 'ycenter': 231.02862548828125, 'real_time_event': 19.0, 'box_time_event': 0.0, 'height': 20.025920867919922, 'width': 28.370071411132812, 'confidence': 1.0, 'realangle': 2, 'rawangle': 2}\n",
      "{'Normal': 0.4810855, 'Division': 0.5189145, 'xstart': 63, 'ystart': 104, 'xcenter': 94.84206581115723, 'ycenter': 135.84210205078125, 'real_time_event': 19.0, 'box_time_event': 0.0, 'height': 20.59892463684082, 'width': 20.13033676147461, 'confidence': 1.0, 'realangle': 2, 'rawangle': 2}\n"
     ]
    },
    {
     "name": "stderr",
     "output_type": "stream",
     "text": [
      "\r",
      " 10%|█         | 18/180 [01:42<14:15,  5.28s/it]"
     ]
    },
    {
     "name": "stdout",
     "output_type": "stream",
     "text": [
      "{'Normal': 0.18412283, 'Division': 0.81587714, 'xstart': 134, 'ystart': 108, 'xcenter': 165.55802726745605, 'ycenter': 140.07823944091797, 'real_time_event': 20.0, 'box_time_event': 0.0, 'height': 17.38306427001953, 'width': 18.30154037475586, 'confidence': 1.0, 'realangle': 2, 'rawangle': 2}\n",
      "{'Normal': 0.33773533, 'Division': 0.6622647, 'xstart': 134, 'ystart': 104, 'xcenter': 165.62519073486328, 'ycenter': 136.24442291259766, 'real_time_event': 20.0, 'box_time_event': 0.0, 'height': 20.672706604003906, 'width': 24.110321044921875, 'confidence': 1.0, 'realangle': 2, 'rawangle': 2}\n"
     ]
    },
    {
     "name": "stderr",
     "output_type": "stream",
     "text": [
      "\r",
      " 11%|█         | 19/180 [01:48<14:04,  5.25s/it]"
     ]
    },
    {
     "name": "stdout",
     "output_type": "stream",
     "text": [
      "{'Normal': 0.056112412, 'Division': 0.94388753, 'xstart': 63, 'ystart': 52, 'xcenter': 94.91414070129395, 'ycenter': 84.05379867553711, 'real_time_event': 21.0, 'box_time_event': 0.0, 'height': 23.531909942626953, 'width': 18.51476287841797, 'confidence': 1.0, 'realangle': 2, 'rawangle': 2}\n",
      "{'Normal': 0.07676506, 'Division': 0.92323494, 'xstart': 138, 'ystart': 104, 'xcenter': 169.70035552978516, 'ycenter': 136.15722274780273, 'real_time_event': 21.0, 'box_time_event': 0.0, 'height': 17.474929809570312, 'width': 21.269012451171875, 'confidence': 1.0, 'realangle': 2, 'rawangle': 2}\n",
      "{'Normal': 0.080055915, 'Division': 0.9199441, 'xstart': 138, 'ystart': 108, 'xcenter': 169.70963668823242, 'ycenter': 140.04959869384766, 'real_time_event': 21.0, 'box_time_event': 0.0, 'height': 16.407533645629883, 'width': 18.84792709350586, 'confidence': 1.0, 'realangle': 2, 'rawangle': 2}\n",
      "{'Normal': 0.43899494, 'Division': 0.56100506, 'xstart': 142, 'ystart': 104, 'xcenter': 174.03252029418945, 'ycenter': 135.9351692199707, 'real_time_event': 21.0, 'box_time_event': 0.0, 'height': 11.791841506958008, 'width': 17.707550048828125, 'confidence': 1.0, 'realangle': 2, 'rawangle': 2}\n"
     ]
    },
    {
     "name": "stderr",
     "output_type": "stream",
     "text": [
      "\r",
      " 11%|█         | 20/180 [01:53<13:59,  5.25s/it]"
     ]
    },
    {
     "name": "stdout",
     "output_type": "stream",
     "text": [
      "{'Normal': 0.16362755, 'Division': 0.83637244, 'xstart': 134, 'ystart': 199, 'xcenter': 166.20399856567383, 'ycenter': 231.23717498779297, 'real_time_event': 22.0, 'box_time_event': 0.0, 'height': 18.531471252441406, 'width': 26.582916259765625, 'confidence': 1.0, 'realangle': 2, 'rawangle': 2}\n",
      "{'Normal': 0.26748365, 'Division': 0.73251635, 'xstart': 16, 'ystart': 156, 'xcenter': 47.88258743286133, 'ycenter': 188.1070327758789, 'real_time_event': 22.0, 'box_time_event': 0.0, 'height': 8.949682235717773, 'width': 14.004453659057617, 'confidence': 1.0, 'realangle': 2, 'rawangle': 2}\n"
     ]
    },
    {
     "name": "stderr",
     "output_type": "stream",
     "text": [
      "\r",
      " 12%|█▏        | 21/180 [01:58<13:57,  5.27s/it]"
     ]
    },
    {
     "name": "stdout",
     "output_type": "stream",
     "text": [
      "{'Normal': 0.035758615, 'Division': 0.9642414, 'xstart': 67, 'ystart': 104, 'xcenter': 98.90158653259277, 'ycenter': 136.0366439819336, 'real_time_event': 23.0, 'box_time_event': 0.0, 'height': 29.130691528320312, 'width': 26.95980453491211, 'confidence': 1.0, 'realangle': 2, 'rawangle': 2}\n",
      "{'Normal': 0.25928724, 'Division': 0.7407128, 'xstart': 63, 'ystart': 0, 'xcenter': 94.71052742004395, 'ycenter': 32.05109786987305, 'real_time_event': 23.0, 'box_time_event': 0.0, 'height': 17.329376220703125, 'width': 14.900781631469727, 'confidence': 1.0, 'realangle': 2, 'rawangle': 2}\n",
      "{'Normal': 0.3577795, 'Division': 0.6422205, 'xstart': 16, 'ystart': 0, 'xcenter': 48.16233444213867, 'ycenter': 31.99045753479004, 'real_time_event': 23.0, 'box_time_event': 0.0, 'height': 15.705549240112305, 'width': 16.590003967285156, 'confidence': 1.0, 'realangle': 2, 'rawangle': 2}\n"
     ]
    },
    {
     "name": "stderr",
     "output_type": "stream",
     "text": [
      "\r",
      " 12%|█▏        | 22/180 [02:04<13:56,  5.29s/it]"
     ]
    },
    {
     "name": "stdout",
     "output_type": "stream",
     "text": [
      "{'Normal': 0.18054205, 'Division': 0.81945795, 'xstart': 63, 'ystart': 0, 'xcenter': 94.67558479309082, 'ycenter': 32.07909393310547, 'real_time_event': 24.0, 'box_time_event': 0.0, 'height': 16.279739379882812, 'width': 14.70088005065918, 'confidence': 1.0, 'realangle': 2, 'rawangle': 2}\n",
      "{'Normal': 0.2910134, 'Division': 0.7089866, 'xstart': 16, 'ystart': 0, 'xcenter': 48.26201248168945, 'ycenter': 31.98867416381836, 'real_time_event': 24.0, 'box_time_event': 0.0, 'height': 18.309673309326172, 'width': 18.50177574157715, 'confidence': 1.0, 'realangle': 2, 'rawangle': 2}\n",
      "{'Normal': 0.30022186, 'Division': 0.69977814, 'xstart': 63, 'ystart': 4, 'xcenter': 94.98345565795898, 'ycenter': 36.000675201416016, 'real_time_event': 24.0, 'box_time_event': 0.0, 'height': 15.01657485961914, 'width': 12.308454513549805, 'confidence': 1.0, 'realangle': 2, 'rawangle': 2}\n"
     ]
    },
    {
     "name": "stderr",
     "output_type": "stream",
     "text": [
      "\r",
      " 13%|█▎        | 23/180 [02:09<13:49,  5.28s/it]"
     ]
    },
    {
     "name": "stdout",
     "output_type": "stream",
     "text": [
      "{'Normal': 0.15301746, 'Division': 0.84698254, 'xstart': 138, 'ystart': 199, 'xcenter': 169.9794464111328, 'ycenter': 231.09751892089844, 'real_time_event': 25.0, 'box_time_event': 0.0, 'height': 23.597026824951172, 'width': 25.124958038330078, 'confidence': 1.0, 'realangle': 2, 'rawangle': 2}\n",
      "{'Normal': 0.19356453, 'Division': 0.80643547, 'xstart': 189, 'ystart': 195, 'xcenter': 221.1115379333496, 'ycenter': 227.2981300354004, 'real_time_event': 25.0, 'box_time_event': 0.0, 'height': 19.287830352783203, 'width': 19.06433868408203, 'confidence': 1.0, 'realangle': 2, 'rawangle': 2}\n",
      "{'Normal': 0.3345037, 'Division': 0.66549635, 'xstart': 142, 'ystart': 104, 'xcenter': 174.0493278503418, 'ycenter': 135.92348289489746, 'real_time_event': 25.0, 'box_time_event': 0.0, 'height': 14.67829704284668, 'width': 23.699726104736328, 'confidence': 1.0, 'realangle': 2, 'rawangle': 2}\n",
      "{'Normal': 0.4708377, 'Division': 0.5291623, 'xstart': 63, 'ystart': 52, 'xcenter': 94.80418014526367, 'ycenter': 84.0343132019043, 'real_time_event': 25.0, 'box_time_event': 0.0, 'height': 14.698989868164062, 'width': 11.654058456420898, 'confidence': 1.0, 'realangle': 2, 'rawangle': 2}\n"
     ]
    },
    {
     "name": "stderr",
     "output_type": "stream",
     "text": [
      "\r",
      " 13%|█▎        | 24/180 [02:14<13:49,  5.32s/it]"
     ]
    },
    {
     "name": "stdout",
     "output_type": "stream",
     "text": [
      "{'Normal': 0.010827933, 'Division': 0.98917204, 'xstart': 189, 'ystart': 195, 'xcenter': 221.18279266357422, 'ycenter': 227.4192657470703, 'real_time_event': 26.0, 'box_time_event': 0.0, 'height': 16.312475204467773, 'width': 21.403724670410156, 'confidence': 1.0, 'realangle': 2, 'rawangle': 2}\n",
      "{'Normal': 0.03624142, 'Division': 0.9637586, 'xstart': 134, 'ystart': 104, 'xcenter': 165.4591941833496, 'ycenter': 136.18295288085938, 'real_time_event': 26.0, 'box_time_event': 0.0, 'height': 22.757579803466797, 'width': 26.16261863708496, 'confidence': 1.0, 'realangle': 2, 'rawangle': 2}\n",
      "{'Normal': 0.11899606, 'Division': 0.881004, 'xstart': 189, 'ystart': 199, 'xcenter': 220.4264965057373, 'ycenter': 231.05559539794922, 'real_time_event': 26.0, 'box_time_event': 0.0, 'height': 12.641250610351562, 'width': 11.224515914916992, 'confidence': 1.0, 'realangle': 2, 'rawangle': 2}\n",
      "{'Normal': 0.339789, 'Division': 0.660211, 'xstart': 16, 'ystart': 4, 'xcenter': 47.865413665771484, 'ycenter': 36.11275863647461, 'real_time_event': 26.0, 'box_time_event': 0.0, 'height': 16.780338287353516, 'width': 16.410371780395508, 'confidence': 1.0, 'realangle': 2, 'rawangle': 2}\n",
      "{'Normal': 0.37362704, 'Division': 0.626373, 'xstart': 16, 'ystart': 156, 'xcenter': 48.17434310913086, 'ycenter': 188.10712432861328, 'real_time_event': 26.0, 'box_time_event': 0.0, 'height': 10.718334197998047, 'width': 12.895673751831055, 'confidence': 1.0, 'realangle': 2, 'rawangle': 2}\n",
      "{'Normal': 0.4679869, 'Division': 0.5320131, 'xstart': 16, 'ystart': 0, 'xcenter': 48.124908447265625, 'ycenter': 32.17409896850586, 'real_time_event': 26.0, 'box_time_event': 0.0, 'height': 20.926355361938477, 'width': 21.02076530456543, 'confidence': 1.0, 'realangle': 2, 'rawangle': 2}\n"
     ]
    },
    {
     "name": "stderr",
     "output_type": "stream",
     "text": [
      "\r",
      " 14%|█▍        | 25/180 [02:19<13:35,  5.26s/it]"
     ]
    },
    {
     "name": "stdout",
     "output_type": "stream",
     "text": [
      "{'Normal': 0.16051047, 'Division': 0.8394896, 'xstart': 142, 'ystart': 199, 'xcenter': 173.94207572937012, 'ycenter': 231.00860214233398, 'real_time_event': 27.0, 'box_time_event': 0.0, 'height': 14.917085647583008, 'width': 23.16432762145996, 'confidence': 1.0, 'realangle': 2, 'rawangle': 2}\n"
     ]
    },
    {
     "name": "stderr",
     "output_type": "stream",
     "text": [
      "\r",
      " 14%|█▍        | 26/180 [02:25<13:29,  5.26s/it]"
     ]
    },
    {
     "name": "stdout",
     "output_type": "stream",
     "text": [
      "{'Normal': 0.16711105, 'Division': 0.83288896, 'xstart': 16, 'ystart': 4, 'xcenter': 47.65649223327637, 'ycenter': 36.11415100097656, 'real_time_event': 28.0, 'box_time_event': 0.0, 'height': 15.607867240905762, 'width': 19.842960357666016, 'confidence': 1.0, 'realangle': 2, 'rawangle': 2}\n",
      "{'Normal': 0.22924574, 'Division': 0.7707543, 'xstart': 79, 'ystart': 160, 'xcenter': 111.02934646606445, 'ycenter': 191.85878562927246, 'real_time_event': 28.0, 'box_time_event': 0.0, 'height': 14.13082218170166, 'width': 16.82756996154785, 'confidence': 1.0, 'realangle': 2, 'rawangle': 2}\n",
      "{'Normal': 0.2305924, 'Division': 0.76940763, 'xstart': 63, 'ystart': 52, 'xcenter': 94.88606452941895, 'ycenter': 84.02937316894531, 'real_time_event': 28.0, 'box_time_event': 0.0, 'height': 11.988866806030273, 'width': 10.87828254699707, 'confidence': 1.0, 'realangle': 2, 'rawangle': 2}\n",
      "{'Normal': 0.39968354, 'Division': 0.6003164, 'xstart': 138, 'ystart': 52, 'xcenter': 170.17750549316406, 'ycenter': 84.07419204711914, 'real_time_event': 28.0, 'box_time_event': 0.0, 'height': 19.597373962402344, 'width': 29.407079696655273, 'confidence': 1.0, 'realangle': 2, 'rawangle': 2}\n",
      "{'Normal': 0.47281078, 'Division': 0.52718925, 'xstart': 79, 'ystart': 156, 'xcenter': 110.95068550109863, 'ycenter': 188.09921646118164, 'real_time_event': 28.0, 'box_time_event': 0.0, 'height': 16.382614135742188, 'width': 18.168174743652344, 'confidence': 1.0, 'realangle': 2, 'rawangle': 2}\n"
     ]
    },
    {
     "name": "stderr",
     "output_type": "stream",
     "text": [
      "\r",
      " 15%|█▌        | 27/180 [02:30<13:25,  5.27s/it]"
     ]
    },
    {
     "name": "stdout",
     "output_type": "stream",
     "text": [
      "{'Normal': 0.06519769, 'Division': 0.9348023, 'xstart': 79, 'ystart': 156, 'xcenter': 110.90291595458984, 'ycenter': 188.0663604736328, 'real_time_event': 29.0, 'box_time_event': 0.0, 'height': 17.41529083251953, 'width': 17.496070861816406, 'confidence': 1.0, 'realangle': 2, 'rawangle': 2}\n",
      "{'Normal': 0.06526008, 'Division': 0.9347399, 'xstart': 79, 'ystart': 160, 'xcenter': 111.00588989257812, 'ycenter': 191.92129707336426, 'real_time_event': 29.0, 'box_time_event': 0.0, 'height': 16.286916732788086, 'width': 17.41911506652832, 'confidence': 1.0, 'realangle': 2, 'rawangle': 2}\n",
      "{'Normal': 0.21748318, 'Division': 0.7825168, 'xstart': 16, 'ystart': 4, 'xcenter': 47.612722396850586, 'ycenter': 36.07271194458008, 'real_time_event': 29.0, 'box_time_event': 0.0, 'height': 14.844686508178711, 'width': 18.635786056518555, 'confidence': 1.0, 'realangle': 2, 'rawangle': 2}\n",
      "{'Normal': 0.29254925, 'Division': 0.70745075, 'xstart': 63, 'ystart': 52, 'xcenter': 94.87576103210449, 'ycenter': 84.02672576904297, 'real_time_event': 29.0, 'box_time_event': 0.0, 'height': 14.459041595458984, 'width': 12.391731262207031, 'confidence': 1.0, 'realangle': 2, 'rawangle': 2}\n",
      "{'Normal': 0.32781497, 'Division': 0.67218506, 'xstart': 138, 'ystart': 104, 'xcenter': 169.82678604125977, 'ycenter': 135.9680118560791, 'real_time_event': 29.0, 'box_time_event': 0.0, 'height': 20.77219009399414, 'width': 23.214950561523438, 'confidence': 1.0, 'realangle': 2, 'rawangle': 2}\n",
      "{'Normal': 0.33348212, 'Division': 0.6665179, 'xstart': 79, 'ystart': 199, 'xcenter': 110.86215782165527, 'ycenter': 230.826171875, 'real_time_event': 29.0, 'box_time_event': 0.0, 'height': 9.594581604003906, 'width': 11.48501968383789, 'confidence': 1.0, 'realangle': 2, 'rawangle': 2}\n"
     ]
    },
    {
     "name": "stderr",
     "output_type": "stream",
     "text": [
      "\r",
      " 16%|█▌        | 28/180 [02:35<13:17,  5.24s/it]"
     ]
    },
    {
     "name": "stdout",
     "output_type": "stream",
     "text": [
      "{'Normal': 0.14688051, 'Division': 0.8531195, 'xstart': 79, 'ystart': 4, 'xcenter': 111.1334342956543, 'ycenter': 35.957353591918945, 'real_time_event': 30.0, 'box_time_event': 0.0, 'height': 13.756155967712402, 'width': 17.565279006958008, 'confidence': 1.0, 'realangle': 2, 'rawangle': 2}\n",
      "{'Normal': 0.3746793, 'Division': 0.62532073, 'xstart': 189, 'ystart': 156, 'xcenter': 220.8551025390625, 'ycenter': 188.16857147216797, 'real_time_event': 30.0, 'box_time_event': 0.0, 'height': 18.490997314453125, 'width': 22.77153205871582, 'confidence': 1.0, 'realangle': 2, 'rawangle': 2}\n",
      "{'Normal': 0.44309244, 'Division': 0.55690753, 'xstart': 79, 'ystart': 195, 'xcenter': 111.263671875, 'ycenter': 227.1686782836914, 'real_time_event': 30.0, 'box_time_event': 0.0, 'height': 17.071025848388672, 'width': 18.731637954711914, 'confidence': 1.0, 'realangle': 2, 'rawangle': 2}\n"
     ]
    },
    {
     "name": "stderr",
     "output_type": "stream",
     "text": [
      "\r",
      " 16%|█▌        | 29/180 [02:40<13:17,  5.28s/it]"
     ]
    },
    {
     "name": "stdout",
     "output_type": "stream",
     "text": [
      "{'Normal': 0.102698736, 'Division': 0.8973012, 'xstart': 189, 'ystart': 195, 'xcenter': 221.08412551879883, 'ycenter': 227.10766983032227, 'real_time_event': 31.0, 'box_time_event': 0.0, 'height': 21.662498474121094, 'width': 22.407167434692383, 'confidence': 1.0, 'realangle': 2, 'rawangle': 2}\n",
      "{'Normal': 0.20804526, 'Division': 0.79195476, 'xstart': 79, 'ystart': 4, 'xcenter': 111.02613830566406, 'ycenter': 35.907907485961914, 'real_time_event': 31.0, 'box_time_event': 0.0, 'height': 14.32177448272705, 'width': 16.697284698486328, 'confidence': 1.0, 'realangle': 2, 'rawangle': 2}\n",
      "{'Normal': 0.47067487, 'Division': 0.5293251, 'xstart': 63, 'ystart': 195, 'xcenter': 94.96195793151855, 'ycenter': 227.10144424438477, 'real_time_event': 31.0, 'box_time_event': 0.0, 'height': 26.634702682495117, 'width': 21.17331314086914, 'confidence': 1.0, 'realangle': 2, 'rawangle': 2}\n"
     ]
    },
    {
     "name": "stderr",
     "output_type": "stream",
     "text": [
      "\r",
      " 17%|█▋        | 30/180 [02:46<13:18,  5.32s/it]"
     ]
    },
    {
     "name": "stdout",
     "output_type": "stream",
     "text": [
      "{'Normal': 0.016371634, 'Division': 0.9836284, 'xstart': 189, 'ystart': 195, 'xcenter': 221.09353637695312, 'ycenter': 226.96907997131348, 'real_time_event': 32.0, 'box_time_event': 0.0, 'height': 22.93338394165039, 'width': 21.092622756958008, 'confidence': 1.0, 'realangle': 2, 'rawangle': 2}\n",
      "{'Normal': 0.018216947, 'Division': 0.9817831, 'xstart': 189, 'ystart': 199, 'xcenter': 220.92930030822754, 'ycenter': 231.17835235595703, 'real_time_event': 32.0, 'box_time_event': 0.0, 'height': 18.43900489807129, 'width': 18.0062255859375, 'confidence': 1.0, 'realangle': 2, 'rawangle': 2}\n",
      "{'Normal': 0.03555075, 'Division': 0.9644493, 'xstart': 16, 'ystart': 156, 'xcenter': 47.869855880737305, 'ycenter': 188.02346801757812, 'real_time_event': 32.0, 'box_time_event': 0.0, 'height': 13.731977462768555, 'width': 17.287052154541016, 'confidence': 1.0, 'realangle': 2, 'rawangle': 2}\n",
      "{'Normal': 0.094521195, 'Division': 0.9054788, 'xstart': 79, 'ystart': 4, 'xcenter': 111.04015731811523, 'ycenter': 36.03559494018555, 'real_time_event': 32.0, 'box_time_event': 0.0, 'height': 20.837160110473633, 'width': 17.37157440185547, 'confidence': 1.0, 'realangle': 2, 'rawangle': 2}\n",
      "{'Normal': 0.1410009, 'Division': 0.8589991, 'xstart': 79, 'ystart': 0, 'xcenter': 110.92452430725098, 'ycenter': 32.05876541137695, 'real_time_event': 32.0, 'box_time_event': 0.0, 'height': 20.04305648803711, 'width': 24.88735008239746, 'confidence': 1.0, 'realangle': 2, 'rawangle': 2}\n",
      "{'Normal': 0.14781108, 'Division': 0.85218894, 'xstart': 16, 'ystart': 104, 'xcenter': 47.900075912475586, 'ycenter': 135.9100742340088, 'real_time_event': 32.0, 'box_time_event': 0.0, 'height': 12.22059440612793, 'width': 18.98974609375, 'confidence': 1.0, 'realangle': 2, 'rawangle': 2}\n",
      "{'Normal': 0.17104174, 'Division': 0.8289582, 'xstart': 63, 'ystart': 195, 'xcenter': 95.00222778320312, 'ycenter': 227.07022857666016, 'real_time_event': 32.0, 'box_time_event': 0.0, 'height': 23.863815307617188, 'width': 20.669647216796875, 'confidence': 1.0, 'realangle': 2, 'rawangle': 2}\n",
      "{'Normal': 0.21519302, 'Division': 0.78480697, 'xstart': 79, 'ystart': 199, 'xcenter': 111.0595588684082, 'ycenter': 231.07151412963867, 'real_time_event': 32.0, 'box_time_event': 0.0, 'height': 9.161781311035156, 'width': 10.038058280944824, 'confidence': 1.0, 'realangle': 2, 'rawangle': 2}\n",
      "{'Normal': 0.4333959, 'Division': 0.56660414, 'xstart': 16, 'ystart': 160, 'xcenter': 48.057167053222656, 'ycenter': 192.28434371948242, 'real_time_event': 32.0, 'box_time_event': 0.0, 'height': 21.80784034729004, 'width': 24.090192794799805, 'confidence': 1.0, 'realangle': 2, 'rawangle': 2}\n",
      "{'Normal': 0.44503546, 'Division': 0.55496454, 'xstart': 63, 'ystart': 52, 'xcenter': 94.84044075012207, 'ycenter': 84.01116180419922, 'real_time_event': 32.0, 'box_time_event': 0.0, 'height': 16.51819610595703, 'width': 16.51568603515625, 'confidence': 1.0, 'realangle': 2, 'rawangle': 2}\n"
     ]
    },
    {
     "name": "stderr",
     "output_type": "stream",
     "text": [
      "\r",
      " 17%|█▋        | 31/180 [02:51<13:15,  5.34s/it]"
     ]
    },
    {
     "name": "stdout",
     "output_type": "stream",
     "text": [
      "{'Normal': 4.6664565e-05, 'Division': 0.9999534, 'xstart': 16, 'ystart': 156, 'xcenter': 47.91766929626465, 'ycenter': 188.066162109375, 'real_time_event': 33.0, 'box_time_event': 0.0, 'height': 8.474790573120117, 'width': 13.475263595581055, 'confidence': 1.0, 'realangle': 2, 'rawangle': 2}\n",
      "{'Normal': 7.9000885e-05, 'Division': 0.99992096, 'xstart': 189, 'ystart': 195, 'xcenter': 220.95398330688477, 'ycenter': 226.909818649292, 'real_time_event': 33.0, 'box_time_event': 0.0, 'height': 22.021480560302734, 'width': 22.03217315673828, 'confidence': 1.0, 'realangle': 2, 'rawangle': 2}\n",
      "{'Normal': 0.0012866012, 'Division': 0.9987134, 'xstart': 63, 'ystart': 160, 'xcenter': 95.00040817260742, 'ycenter': 192.16217422485352, 'real_time_event': 33.0, 'box_time_event': 0.0, 'height': 18.404155731201172, 'width': 16.94929313659668, 'confidence': 1.0, 'realangle': 2, 'rawangle': 2}\n",
      "{'Normal': 0.0035596222, 'Division': 0.99644035, 'xstart': 79, 'ystart': 195, 'xcenter': 110.93714141845703, 'ycenter': 227.02324295043945, 'real_time_event': 33.0, 'box_time_event': 0.0, 'height': 16.805652618408203, 'width': 18.21554946899414, 'confidence': 1.0, 'realangle': 2, 'rawangle': 2}\n",
      "{'Normal': 0.007519772, 'Division': 0.9924803, 'xstart': 189, 'ystart': 4, 'xcenter': 221.0771141052246, 'ycenter': 36.03899383544922, 'real_time_event': 33.0, 'box_time_event': 0.0, 'height': 19.065465927124023, 'width': 22.650781631469727, 'confidence': 1.0, 'realangle': 2, 'rawangle': 2}\n",
      "{'Normal': 0.014113945, 'Division': 0.9858861, 'xstart': 189, 'ystart': 0, 'xcenter': 220.85423851013184, 'ycenter': 31.96424674987793, 'real_time_event': 33.0, 'box_time_event': 0.0, 'height': 20.2484130859375, 'width': 21.894371032714844, 'confidence': 1.0, 'realangle': 2, 'rawangle': 2}\n",
      "{'Normal': 0.031931747, 'Division': 0.9680683, 'xstart': 16, 'ystart': 160, 'xcenter': 48.03508758544922, 'ycenter': 192.2614288330078, 'real_time_event': 33.0, 'box_time_event': 0.0, 'height': 15.271284103393555, 'width': 21.149316787719727, 'confidence': 1.0, 'realangle': 2, 'rawangle': 2}\n",
      "{'Normal': 0.035160765, 'Division': 0.9648393, 'xstart': 16, 'ystart': 104, 'xcenter': 47.84625434875488, 'ycenter': 136.05883407592773, 'real_time_event': 33.0, 'box_time_event': 0.0, 'height': 13.009061813354492, 'width': 17.369548797607422, 'confidence': 1.0, 'realangle': 2, 'rawangle': 2}\n",
      "{'Normal': 0.060675286, 'Division': 0.9393247, 'xstart': 63, 'ystart': 195, 'xcenter': 95.04169845581055, 'ycenter': 227.08256149291992, 'real_time_event': 33.0, 'box_time_event': 0.0, 'height': 21.264251708984375, 'width': 20.75438690185547, 'confidence': 1.0, 'realangle': 2, 'rawangle': 2}\n",
      "{'Normal': 0.08589961, 'Division': 0.9141004, 'xstart': 189, 'ystart': 199, 'xcenter': 220.9519214630127, 'ycenter': 231.2001190185547, 'real_time_event': 33.0, 'box_time_event': 0.0, 'height': 20.25397491455078, 'width': 21.759342193603516, 'confidence': 1.0, 'realangle': 2, 'rawangle': 2}\n",
      "{'Normal': 0.37734833, 'Division': 0.6226517, 'xstart': 79, 'ystart': 0, 'xcenter': 110.96248245239258, 'ycenter': 32.0816650390625, 'real_time_event': 33.0, 'box_time_event': 0.0, 'height': 19.030174255371094, 'width': 21.411376953125, 'confidence': 1.0, 'realangle': 2, 'rawangle': 2}\n",
      "{'Normal': 0.41723067, 'Division': 0.58276933, 'xstart': 16, 'ystart': 4, 'xcenter': 47.824270248413086, 'ycenter': 36.03947830200195, 'real_time_event': 33.0, 'box_time_event': 0.0, 'height': 14.856152534484863, 'width': 18.434965133666992, 'confidence': 1.0, 'realangle': 2, 'rawangle': 2}\n"
     ]
    }
   ],
   "source": [
    "model.predict(imagename, n_tiles = n_tiles, overlap_percent = overlap_percent, event_threshold = event_threshold, iou_threshold = iou_threshold)"
   ]
  },
  {
   "cell_type": "code",
   "execution_count": null,
   "id": "466f761e",
   "metadata": {},
   "outputs": [],
   "source": []
  }
 ],
 "metadata": {
  "kernelspec": {
   "display_name": "Python 3",
   "language": "python",
   "name": "python3"
  },
  "language_info": {
   "codemirror_mode": {
    "name": "ipython",
    "version": 3
   },
   "file_extension": ".py",
   "mimetype": "text/x-python",
   "name": "python",
   "nbconvert_exporter": "python",
   "pygments_lexer": "ipython3",
   "version": "3.6.10"
  }
 },
 "nbformat": 4,
 "nbformat_minor": 5
}
