{
 "cells": [
  {
   "cell_type": "code",
   "execution_count": 1,
   "id": "cda86a0c",
   "metadata": {},
   "outputs": [
    {
     "name": "stderr",
     "output_type": "stream",
     "text": [
      "Using TensorFlow backend.\n"
     ]
    }
   ],
   "source": [
    "\n",
    "import sys\n",
    "import os\n",
    "from glob import glob\n",
    "sys.path.append(\"../NEAT\")\n",
    "from NEATModels import NEATDynamic, nets\n",
    "from NEATModels.config import dynamic_config\n",
    "from NEATUtils import helpers\n",
    "from NEATUtils.helpers import load_json\n",
    "os.environ[\"CUDA_VISIBLE_DEVICES\"]=\"0\"\n",
    "os.environ[\"HDF5_USE_FILE_LOCKING\"] = \"FALSE\""
   ]
  },
  {
   "cell_type": "code",
   "execution_count": 4,
   "id": "c8187ae4",
   "metadata": {},
   "outputs": [],
   "source": [
    "imagename = '/home/sancere/Kepler/FinalONEATTraining/NEATTest/Test.tif'\n",
    "model_dir = '/home/sancere/Kepler/FinalONEATTraining/Microneatmodel/'\n",
    "savedir= '/home/sancere/Kepler/FinalONEATTraining/NEATTest/'\n",
    "model_name = 'microseqnetbin2d56_oldcopy'\n",
    "division_categories_json = model_dir + 'MicroscopeCategories.json'\n",
    "catconfig = load_json(division_categories_json)\n",
    "division_cord_json = model_dir + 'MicroscopeCord.json'\n",
    "cordconfig = load_json(division_cord_json)\n",
    "model = NEATDynamic(None, model_dir , model_name,catconfig, cordconfig)\n",
    "n_tiles = (1,1)\n",
    "event_threshold = 0.95\n",
    "iou_threshold = 0.3"
   ]
  },
  {
   "cell_type": "code",
   "execution_count": 5,
   "id": "cd2b679c",
   "metadata": {
    "scrolled": false
   },
   "outputs": [
    {
     "name": "stdout",
     "output_type": "stream",
     "text": [
      "WARNING:tensorflow:From /home/sancere/anaconda3/envs/tensorflowGPU/lib/python3.7/site-packages/tensorflow_core/python/ops/resource_variable_ops.py:1630: calling BaseResourceVariable.__init__ (from tensorflow.python.ops.resource_variable_ops) with constraint is deprecated and will be removed in a future version.\n",
      "Instructions for updating:\n",
      "If using Keras pass *_constraint arguments to layers.\n",
      "WARNING:tensorflow:From /home/sancere/anaconda3/envs/tensorflowGPU/lib/python3.7/site-packages/tensorflow_core/python/ops/math_grad.py:1424: where (from tensorflow.python.ops.array_ops) is deprecated and will be removed in a future version.\n",
      "Instructions for updating:\n",
      "Use tf.where in 2.0, which has the same broadcast rule as np.where\n",
      "WARNING:tensorflow:From /home/sancere/anaconda3/envs/tensorflowGPU/lib/python3.7/site-packages/keras/backend/tensorflow_backend.py:422: The name tf.global_variables is deprecated. Please use tf.compat.v1.global_variables instead.\n",
      "\n"
     ]
    },
    {
     "name": "stderr",
     "output_type": "stream",
     "text": [
      "100%|██████████| 180/180 [01:18<00:00,  2.28it/s]\n"
     ]
    }
   ],
   "source": [
    "model.predict(imagename, n_tiles = n_tiles, event_threshold = event_threshold, iou_threshold = iou_threshold)"
   ]
  },
  {
   "cell_type": "code",
   "execution_count": 6,
   "id": "945e2906",
   "metadata": {},
   "outputs": [
    {
     "data": {
      "image/png": "[encoded data removed]",
      "text/plain": [
       "<Figure size 432x288 with 1 Axes>"
      ]
     },
     "metadata": {
      "needs_background": "light"
     },
     "output_type": "display_data"
    }
   ],
   "source": [
    "for (event_name,event_label) in catconfig.items():\n",
    "    if event_label > 0:\n",
    "      csvname = os.path.dirname(imagename) + \"/\" + event_name + \"Location\" + (os.path.splitext(os.path.basename(imagename))[0] + '.csv')\n",
    "      model.event_counter(imagename, csvname, event_name,savedir)"
   ]
  },
  {
   "cell_type": "code",
   "execution_count": null,
   "id": "2237a502",
   "metadata": {},
   "outputs": [],
   "source": []
  }
 ],
 "metadata": {
  "kernelspec": {
   "display_name": "Python [conda env:tensorflowGPU] *",
   "language": "python",
   "name": "conda-env-tensorflowGPU-py"
  },
  "language_info": {
   "codemirror_mode": {
    "name": "ipython",
    "version": 3
   },
   "file_extension": ".py",
   "mimetype": "text/x-python",
   "name": "python",
   "nbconvert_exporter": "python",
   "pygments_lexer": "ipython3",
   "version": "3.7.0"
  }
 },
 "nbformat": 4,
 "nbformat_minor": 5
}
